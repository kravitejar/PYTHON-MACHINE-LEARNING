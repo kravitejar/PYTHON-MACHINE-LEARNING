{
 "cells": [
  {
   "cell_type": "markdown",
   "metadata": {},
   "source": [
    "# datetime\n",
    "\n",
    "Python has the datetime module to help deal with timestamps in your code. Time values are represented with the time class. Times have attributes for hour, minute, second, and microsecond. They can also include time zone information. The arguments to initialize a time instance are optional, but the default of 0 is unlikely to be what you want.\n",
    "\n",
    "## time\n",
    "Let's take a look at how we can extract time information from the datetime module. We can create a timestamp by specifying datetime.time(hour,minute,second,microsecond)"
   ]
  },
  {
   "cell_type": "code",
   "execution_count": 59,
   "metadata": {},
   "outputs": [
    {
     "name": "stdout",
     "output_type": "stream",
     "text": [
      "('India Standard Time', 'India Daylight Time')\n",
      "2019-01-05-17-02-27\n",
      "17-02-27\n",
      "<class 'str'>\n",
      "##############################\n",
      "04:20:01.000120\n",
      "<class 'datetime.time'>\n",
      "##############################\n",
      "04:20:01.000120\n",
      "##############################\n",
      "hour  : 16\n",
      "minute: 20\n",
      "second: 1\n",
      "microsecond: 120\n",
      "tzinfo: None\n"
     ]
    }
   ],
   "source": [
    "import datetime\n",
    "#from datetime import datetime\n",
    "import time\n",
    "#from datetime import datetime as directtime\n",
    "\n",
    "\n",
    "from pytz import timezone\n",
    "dt = datetime.datetime.now()\n",
    "print(time.tzname)\n",
    "\n",
    "#localtz = timezone('Europe/London')\n",
    "#print(localtz)\n",
    "#print(dt)\n",
    "#print(dt.tzinfo)\n",
    "#dt.replace(tzinfo=localtz)\n",
    "#print(dt)\n",
    "#print(dt.tzinfo)\n",
    "\n",
    "\n",
    "#dt_aware = localtz.localize(dt_unware)\n",
    "\n",
    "#t = directtime.time(4, 20, 1,120)\n",
    "#t = datetime.time(Hour,Minute,Seconds,MicroSeconds)\n",
    "\n",
    "#current_time = datetime.datetime.now().strftime(%Y-%m-%d)\n",
    "\n",
    "#print(time.tzname)\n",
    "current_time = datetime.datetime.now().strftime('%Y-%m-%d-%H-%M-%S')\n",
    "print(current_time)\n",
    "current_time = datetime.datetime.now().strftime('%H-%M-%S')\n",
    "print(current_time)\n",
    "print(type(current_time))\n",
    "#print(datetime.datetime.now(\"YYYY - \"+time.tzname))\n",
    "print(\"##############################\")\n",
    "\n",
    "t = datetime.time(4, 20, 1,120)\n",
    "print(t)\n",
    "print(type(t))\n",
    "print(\"##############################\")\n",
    "\n",
    "# Let's show the different components\n",
    "#t1 = datetime.time()\n",
    "t1 = datetime.time(16, 20, 1,120)\n",
    "print(t)\n",
    "print(\"##############################\")\n",
    "\n",
    "print('hour  :', t1.hour)\n",
    "print('minute:', t1.minute)\n",
    "print('second:', t1.second)\n",
    "print('microsecond:', t1.microsecond)\n",
    "print('tzinfo:', t1.tzinfo)\n",
    "\n"
   ]
  },
  {
   "cell_type": "code",
   "execution_count": 60,
   "metadata": {},
   "outputs": [
    {
     "data": {
      "text/plain": [
       "datetime.datetime(2019, 1, 5, 17, 3, 53, 882975)"
      ]
     },
     "execution_count": 60,
     "metadata": {},
     "output_type": "execute_result"
    }
   ],
   "source": [
    "datetime.datetime.today()"
   ]
  },
  {
   "cell_type": "markdown",
   "metadata": {},
   "source": [
    "Note: A time instance only holds values of time, and not a date associated with the time. \n",
    "\n",
    "We can also check the min and max values a time of day can have in the module:"
   ]
  },
  {
   "cell_type": "code",
   "execution_count": null,
   "metadata": {},
   "outputs": [],
   "source": [
    "print('Earliest  :', datetime.time.min)\n",
    "print('Latest    :', datetime.time.max)\n",
    "print('Resolution:', datetime.time.resolution)"
   ]
  },
  {
   "cell_type": "markdown",
   "metadata": {},
   "source": [
    "The min and max class attributes reflect the valid range of times in a single day."
   ]
  },
  {
   "cell_type": "markdown",
   "metadata": {},
   "source": [
    "## Dates\n",
    "datetime (as you might suspect) also allows us to work with date timestamps. Calendar date values are represented with the date class. Instances have attributes for year, month, and day. It is easy to create a date representing today’s date using the today() class method.\n",
    "\n",
    "Let's see some examples:"
   ]
  },
  {
   "cell_type": "code",
   "execution_count": 61,
   "metadata": {},
   "outputs": [
    {
     "name": "stdout",
     "output_type": "stream",
     "text": [
      "2019-01-05\n",
      "ctime: Sat Jan  5 00:00:00 2019\n",
      "tuple: time.struct_time(tm_year=2019, tm_mon=1, tm_mday=5, tm_hour=0, tm_min=0, tm_sec=0, tm_wday=5, tm_yday=5, tm_isdst=-1)\n",
      "ordinal: 737064\n",
      "Year : 2019\n",
      "Month: 1\n",
      "Day  : 5\n"
     ]
    }
   ],
   "source": [
    "today = datetime.date.today()\n",
    "print(today)\n",
    "print('ctime:', today.ctime())\n",
    "print('tuple:', today.timetuple())\n",
    "print('ordinal:', today.toordinal())\n",
    "print('Year :', today.year)\n",
    "print('Month:', today.month)\n",
    "print('Day  :', today.day)"
   ]
  },
  {
   "cell_type": "markdown",
   "metadata": {},
   "source": [
    "As with time, the range of date values supported can be determined using the min and max attributes."
   ]
  },
  {
   "cell_type": "code",
   "execution_count": 64,
   "metadata": {},
   "outputs": [
    {
     "name": "stdout",
     "output_type": "stream",
     "text": [
      "Earliest  : 0001-01-01\n",
      "Latest    : 9999-12-31\n",
      "Resolution: 0:00:00.000001\n"
     ]
    }
   ],
   "source": [
    "print('Earliest  :', datetime.date.min)\n",
    "print('Latest    :', datetime.date.max)\n",
    "print('Resolution:', datetime.time.resolution)"
   ]
  },
  {
   "cell_type": "markdown",
   "metadata": {},
   "source": [
    "Another way to create new date instances uses the replace() method of an existing date. For example, you can change the year, leaving the day and month alone."
   ]
  },
  {
   "cell_type": "code",
   "execution_count": 69,
   "metadata": {},
   "outputs": [
    {
     "name": "stdout",
     "output_type": "stream",
     "text": [
      "d1: 2015-03-11\n",
      "d2: 1990-03-11\n",
      "d3: 2019-01-05 17:09:44.442254\n"
     ]
    },
    {
     "ename": "ValueError",
     "evalue": "minute must be in 0..59",
     "output_type": "error",
     "traceback": [
      "\u001b[1;31m---------------------------------------------------------------------------\u001b[0m",
      "\u001b[1;31mValueError\u001b[0m                                Traceback (most recent call last)",
      "\u001b[1;32m<ipython-input-69-98f76966fc80>\u001b[0m in \u001b[0;36m<module>\u001b[1;34m()\u001b[0m\n\u001b[0;32m      8\u001b[0m \u001b[0mprint\u001b[0m\u001b[1;33m(\u001b[0m\u001b[1;34m'd3:'\u001b[0m\u001b[1;33m,\u001b[0m \u001b[0md1\u001b[0m\u001b[1;33m)\u001b[0m\u001b[1;33m\u001b[0m\u001b[0m\n\u001b[0;32m      9\u001b[0m \u001b[1;33m\u001b[0m\u001b[0m\n\u001b[1;32m---> 10\u001b[1;33m \u001b[0md2\u001b[0m \u001b[1;33m=\u001b[0m \u001b[0md1\u001b[0m\u001b[1;33m.\u001b[0m\u001b[0mreplace\u001b[0m\u001b[1;33m(\u001b[0m\u001b[0mminute\u001b[0m\u001b[1;33m=\u001b[0m\u001b[1;36m60\u001b[0m\u001b[1;33m)\u001b[0m\u001b[1;33m\u001b[0m\u001b[0m\n\u001b[0m\u001b[0;32m     11\u001b[0m \u001b[0mprint\u001b[0m\u001b[1;33m(\u001b[0m\u001b[1;34m'd4:'\u001b[0m\u001b[1;33m,\u001b[0m \u001b[0md2\u001b[0m\u001b[1;33m)\u001b[0m\u001b[1;33m\u001b[0m\u001b[0m\n",
      "\u001b[1;31mValueError\u001b[0m: minute must be in 0..59"
     ]
    }
   ],
   "source": [
    "d1 = datetime.date(2015, 3, 11)\n",
    "print('d1:', d1)\n",
    "\n",
    "d2 = d1.replace(year=1990)\n",
    "print('d2:', d2)\n",
    "\n",
    "d1 = datetime.datetime.now()\n",
    "print('d3:', d1)\n",
    "\n",
    "d2 = d1.replace(minute=60)\n",
    "print('d4:', d2)"
   ]
  },
  {
   "cell_type": "markdown",
   "metadata": {},
   "source": [
    "# Arithmetic\n",
    "We can perform arithmetic on date objects to check for time differences. For example:"
   ]
  },
  {
   "cell_type": "code",
   "execution_count": 80,
   "metadata": {},
   "outputs": [
    {
     "data": {
      "text/plain": [
       "datetime.datetime(2019, 1, 5, 17, 9, 44, 442254)"
      ]
     },
     "execution_count": 80,
     "metadata": {},
     "output_type": "execute_result"
    }
   ],
   "source": [
    "d1"
   ]
  },
  {
   "cell_type": "code",
   "execution_count": 81,
   "metadata": {},
   "outputs": [
    {
     "data": {
      "text/plain": [
       "datetime.date(1990, 3, 11)"
      ]
     },
     "execution_count": 81,
     "metadata": {},
     "output_type": "execute_result"
    }
   ],
   "source": [
    "d2"
   ]
  },
  {
   "cell_type": "code",
   "execution_count": 82,
   "metadata": {},
   "outputs": [
    {
     "ename": "TypeError",
     "evalue": "unsupported operand type(s) for -: 'datetime.datetime' and 'datetime.date'",
     "output_type": "error",
     "traceback": [
      "\u001b[1;31m---------------------------------------------------------------------------\u001b[0m",
      "\u001b[1;31mTypeError\u001b[0m                                 Traceback (most recent call last)",
      "\u001b[1;32m<ipython-input-82-4b326783a479>\u001b[0m in \u001b[0;36m<module>\u001b[1;34m()\u001b[0m\n\u001b[1;32m----> 1\u001b[1;33m \u001b[0md1\u001b[0m\u001b[1;33m-\u001b[0m\u001b[0md2\u001b[0m\u001b[1;33m\u001b[0m\u001b[0m\n\u001b[0m",
      "\u001b[1;31mTypeError\u001b[0m: unsupported operand type(s) for -: 'datetime.datetime' and 'datetime.date'"
     ]
    }
   ],
   "source": [
    "d1-d2"
   ]
  },
  {
   "cell_type": "code",
   "execution_count": 77,
   "metadata": {},
   "outputs": [
    {
     "name": "stdout",
     "output_type": "stream",
     "text": [
      "2019-01-05-17 12 16\n",
      "2018-11-15 07:54:38\n",
      "2019-01-05 17:12:16\n"
     ]
    },
    {
     "ename": "AttributeError",
     "evalue": "'float' object has no attribute 'total_seconds'",
     "output_type": "error",
     "traceback": [
      "\u001b[1;31m---------------------------------------------------------------------------\u001b[0m",
      "\u001b[1;31mAttributeError\u001b[0m                            Traceback (most recent call last)",
      "\u001b[1;32m<ipython-input-77-64613e6c81df>\u001b[0m in \u001b[0;36m<module>\u001b[1;34m()\u001b[0m\n\u001b[0;32m      9\u001b[0m \u001b[0msecstime\u001b[0m \u001b[1;33m=\u001b[0m \u001b[1;33m(\u001b[0m\u001b[0mnewtime1\u001b[0m \u001b[1;33m-\u001b[0m \u001b[0mPrevioustime\u001b[0m\u001b[1;33m)\u001b[0m\u001b[1;33m.\u001b[0m\u001b[0mtotal_seconds\u001b[0m\u001b[1;33m(\u001b[0m\u001b[1;33m)\u001b[0m\u001b[1;33m\u001b[0m\u001b[0m\n\u001b[0;32m     10\u001b[0m \u001b[0mtotalminutes\u001b[0m \u001b[1;33m=\u001b[0m \u001b[0msecstime\u001b[0m \u001b[1;33m/\u001b[0m\u001b[1;36m60\u001b[0m\u001b[1;33m\u001b[0m\u001b[0m\n\u001b[1;32m---> 11\u001b[1;33m \u001b[0mtotalhours\u001b[0m \u001b[1;33m=\u001b[0m \u001b[0mtotalminutes\u001b[0m\u001b[1;33m.\u001b[0m\u001b[0mtotal_seconds\u001b[0m\u001b[1;33m(\u001b[0m\u001b[1;33m)\u001b[0m\u001b[1;33m\u001b[0m\u001b[0m\n\u001b[0m\u001b[0;32m     12\u001b[0m \u001b[1;31m# total timedifference between two timestamps in seconds, gives us the uptime between previous ping and current ping\u001b[0m\u001b[1;33m\u001b[0m\u001b[1;33m\u001b[0m\u001b[0m\n\u001b[0;32m     13\u001b[0m \u001b[0mprint\u001b[0m\u001b[1;33m(\u001b[0m\u001b[0msecstime\u001b[0m\u001b[1;33m)\u001b[0m\u001b[1;33m\u001b[0m\u001b[0m\n",
      "\u001b[1;31mAttributeError\u001b[0m: 'float' object has no attribute 'total_seconds'"
     ]
    }
   ],
   "source": [
    "from datetime import datetime\n",
    "newtime = str(datetime.now().strftime('%Y-%m-%d-%H %M %S'))\n",
    "print(newtime)\n",
    "Previoustime = datetime.strptime('2018-11-15 07 54 38','%Y-%m-%d %H %M %S')\n",
    "print(Previoustime)\n",
    "newtime1 = datetime.strptime(newtime,'%Y-%m-%d-%H %M %S')\n",
    "print(newtime1)\n",
    "\n",
    "secstime = (newtime1 - Previoustime).total_seconds()\n",
    "totalminutes = secstime /60\n",
    "totalhours = totalminutes.total_seconds()\n",
    "# total timedifference between two timestamps in seconds, gives us the uptime between previous ping and current ping \n",
    "print(secstime)\n"
   ]
  },
  {
   "cell_type": "code",
   "execution_count": 98,
   "metadata": {},
   "outputs": [
    {
     "name": "stdout",
     "output_type": "stream",
     "text": [
      "2019-01-01 00:00:00\n",
      "2019-01-05 17 24 40\n",
      "113.41111111111111\n"
     ]
    }
   ],
   "source": [
    "from time import sleep\n",
    "from datetime import datetime\n",
    "def datetimediffsecs(oldtime):\n",
    "    Previoustime = datetime.strptime(oldtime, '%Y-%m-%d %H %M %S')\n",
    "    print(Previoustime)\n",
    "    #sleep(10)\n",
    "    newtime = str(datetime.now().strftime('%Y-%m-%d %H %M %S'))\n",
    "    print(newtime)\n",
    "    Currenttime = datetime.strptime(newtime, '%Y-%m-%d %H %M %S')\n",
    "    secstime = (Currenttime - Previoustime).total_seconds()/(3600)  # total timedifference between two timestamps in seconds, gives us the uptime between previous ping and current ping \n",
    "    return secstime\n",
    "\n",
    "Previoustime = datetime.strptime('2019-01-01 00 00 00','%Y-%m-%d %H %M %S')\n",
    "#print(datetimediffsecs(datetime.now().strftime(\"%Y-%m-%d %H %M %S\")))\n",
    "print(datetimediffsecs(Previoustime.strftime(\"%Y-%m-%d %H %M %S\")))"
   ]
  },
  {
   "cell_type": "markdown",
   "metadata": {},
   "source": [
    "This gives us the difference in days between the two dates. You can use the timedelta method to specify various units of times (days, minutes, hours, etc.)\n",
    "\n",
    "Great! You should now have a basic understanding of how to use datetime with Python to work with timestamps in your code!"
   ]
  },
  {
   "cell_type": "code",
   "execution_count": null,
   "metadata": {},
   "outputs": [],
   "source": []
  }
 ],
 "metadata": {
  "kernelspec": {
   "display_name": "Python 3",
   "language": "python",
   "name": "python3"
  },
  "language_info": {
   "codemirror_mode": {
    "name": "ipython",
    "version": 3
   },
   "file_extension": ".py",
   "mimetype": "text/x-python",
   "name": "python",
   "nbconvert_exporter": "python",
   "pygments_lexer": "ipython3",
   "version": "3.7.4"
  }
 },
 "nbformat": 4,
 "nbformat_minor": 1
}

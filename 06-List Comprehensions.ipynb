{
 "cells": [
  {
   "cell_type": "markdown",
   "metadata": {
    "collapsed": true
   },
   "source": [
    "# List Comprehensions\n",
    "\n",
    "In addition to sequence operations and list methods, Python includes a more advanced operation called a list comprehension.\n",
    "\n",
    "List comprehensions allow us to build out lists using a different notation. You can think of it as essentially a one line <code>for</code> loop built inside of brackets. For a simple example:\n",
    "## Example 1"
   ]
  },
  {
   "cell_type": "code",
   "execution_count": 72,
   "metadata": {},
   "outputs": [],
   "source": [
    "mystring = 'hello'"
   ]
  },
  {
   "cell_type": "code",
   "execution_count": 73,
   "metadata": {},
   "outputs": [],
   "source": [
    "mylist = []\n",
    "\n",
    "for letter in mystring:\n",
    "    mylist.append(letter)"
   ]
  },
  {
   "cell_type": "code",
   "execution_count": 74,
   "metadata": {},
   "outputs": [
    {
     "data": {
      "text/plain": [
       "['h', 'e', 'l', 'l', 'o']"
      ]
     },
     "execution_count": 74,
     "metadata": {},
     "output_type": "execute_result"
    }
   ],
   "source": [
    "mylist"
   ]
  },
  {
   "cell_type": "code",
   "execution_count": 75,
   "metadata": {},
   "outputs": [],
   "source": [
    "mylist = [letter for letter in mystring]"
   ]
  },
  {
   "cell_type": "code",
   "execution_count": 76,
   "metadata": {},
   "outputs": [
    {
     "data": {
      "text/plain": [
       "['h', 'e', 'l', 'l', 'o']"
      ]
     },
     "execution_count": 76,
     "metadata": {},
     "output_type": "execute_result"
    }
   ],
   "source": [
    "mylist"
   ]
  },
  {
   "cell_type": "code",
   "execution_count": 77,
   "metadata": {},
   "outputs": [],
   "source": [
    "mylist = [x for x in 'myword']"
   ]
  },
  {
   "cell_type": "code",
   "execution_count": 78,
   "metadata": {},
   "outputs": [
    {
     "data": {
      "text/plain": [
       "['m', 'y', 'w', 'o', 'r', 'd']"
      ]
     },
     "execution_count": 78,
     "metadata": {},
     "output_type": "execute_result"
    }
   ],
   "source": [
    "mylist"
   ]
  },
  {
   "cell_type": "code",
   "execution_count": 79,
   "metadata": {},
   "outputs": [
    {
     "name": "stdout",
     "output_type": "stream",
     "text": [
      "[0, 1, 4, 9, 16, 25, 36, 49, 64, 81, 100]\n"
     ]
    }
   ],
   "source": [
    "mylist = [num**2 for num in range(0,11)]\n",
    "print(mylist)"
   ]
  },
  {
   "cell_type": "code",
   "execution_count": 80,
   "metadata": {},
   "outputs": [
    {
     "name": "stdout",
     "output_type": "stream",
     "text": [
      "0\n",
      "1\n",
      "4\n",
      "9\n",
      "16\n",
      "25\n",
      "36\n",
      "49\n",
      "64\n",
      "81\n",
      "100\n"
     ]
    }
   ],
   "source": [
    "for num in range(0,11):\n",
    "    print(num**2)"
   ]
  },
  {
   "cell_type": "code",
   "execution_count": 81,
   "metadata": {},
   "outputs": [
    {
     "data": {
      "text/plain": [
       "[0, 1, 4, 9, 16, 25, 36, 49, 64, 81, 100]"
      ]
     },
     "execution_count": 81,
     "metadata": {},
     "output_type": "execute_result"
    }
   ],
   "source": [
    "mylist"
   ]
  },
  {
   "cell_type": "code",
   "execution_count": 82,
   "metadata": {},
   "outputs": [],
   "source": [
    "# Grab every letter in string\n",
    "lst = [x for x in 'word']"
   ]
  },
  {
   "cell_type": "code",
   "execution_count": 83,
   "metadata": {},
   "outputs": [
    {
     "data": {
      "text/plain": [
       "['w', 'o', 'r', 'd']"
      ]
     },
     "execution_count": 83,
     "metadata": {},
     "output_type": "execute_result"
    }
   ],
   "source": [
    "# Check\n",
    "lst"
   ]
  },
  {
   "cell_type": "markdown",
   "metadata": {},
   "source": [
    "This is the basic idea of a list comprehension. If you're familiar with mathematical notation this format should feel familiar for example: x^2 : x in { 0,1,2...10 } \n",
    "\n",
    "Let's see a few more examples of list comprehensions in Python:\n",
    "## Example 2"
   ]
  },
  {
   "cell_type": "code",
   "execution_count": 84,
   "metadata": {},
   "outputs": [],
   "source": [
    "# Square numbers in range and turn into list\n",
    "lst = [x**2 for x in range(0,13)]"
   ]
  },
  {
   "cell_type": "code",
   "execution_count": 85,
   "metadata": {},
   "outputs": [
    {
     "data": {
      "text/plain": [
       "[0, 1, 4, 9, 16, 25, 36, 49, 64, 81, 100, 121, 144]"
      ]
     },
     "execution_count": 85,
     "metadata": {},
     "output_type": "execute_result"
    }
   ],
   "source": [
    "lst"
   ]
  },
  {
   "cell_type": "markdown",
   "metadata": {},
   "source": [
    "## Example 3\n",
    "Let's see how to add in <code>if</code> statements:"
   ]
  },
  {
   "cell_type": "code",
   "execution_count": 87,
   "metadata": {},
   "outputs": [],
   "source": [
    "# Check for even numbers in a range\n",
    "lst = [x for x in range(13) if x % 3== 0]"
   ]
  },
  {
   "cell_type": "code",
   "execution_count": 88,
   "metadata": {},
   "outputs": [
    {
     "data": {
      "text/plain": [
       "[0, 3, 6, 9, 12]"
      ]
     },
     "execution_count": 88,
     "metadata": {},
     "output_type": "execute_result"
    }
   ],
   "source": [
    "lst"
   ]
  },
  {
   "cell_type": "markdown",
   "metadata": {},
   "source": [
    "## Example 4\n",
    "Can also do more complicated arithmetic:"
   ]
  },
  {
   "cell_type": "code",
   "execution_count": 92,
   "metadata": {},
   "outputs": [
    {
     "data": {
      "text/plain": [
       "[32.0, 50.0, 68.18, 94.1]"
      ]
     },
     "execution_count": 92,
     "metadata": {},
     "output_type": "execute_result"
    }
   ],
   "source": [
    "# Convert Celsius to Fahrenheit\n",
    "celsius = [0,10,20.1,34.5]\n",
    "\n",
    "fahrenheit = [((9/5)*temp + 32) for temp in celsius ]\n",
    "\n",
    "fahrenheit"
   ]
  },
  {
   "cell_type": "code",
   "execution_count": 93,
   "metadata": {},
   "outputs": [],
   "source": [
    "fahrenheit = []\n",
    "\n",
    "for temp in celsius:\n",
    "    fahrenheit.append(( (9/5)*temp + 32))"
   ]
  },
  {
   "cell_type": "code",
   "execution_count": 94,
   "metadata": {},
   "outputs": [
    {
     "data": {
      "text/plain": [
       "[32.0, 50.0, 68.18, 94.1]"
      ]
     },
     "execution_count": 94,
     "metadata": {},
     "output_type": "execute_result"
    }
   ],
   "source": [
    "fahrenheit"
   ]
  },
  {
   "cell_type": "code",
   "execution_count": 49,
   "metadata": {},
   "outputs": [],
   "source": [
    "results = [x if x%2==0 else 'ODD' for x in range(0,11)]"
   ]
  },
  {
   "cell_type": "code",
   "execution_count": 50,
   "metadata": {},
   "outputs": [
    {
     "data": {
      "text/plain": [
       "[0, 'ODD', 2, 'ODD', 4, 'ODD', 6, 'ODD', 8, 'ODD', 10]"
      ]
     },
     "execution_count": 50,
     "metadata": {},
     "output_type": "execute_result"
    }
   ],
   "source": [
    "results"
   ]
  },
  {
   "cell_type": "markdown",
   "metadata": {},
   "source": [
    "## Example 5\n",
    "We can also perform nested list comprehensions, for example:"
   ]
  },
  {
   "cell_type": "code",
   "execution_count": 95,
   "metadata": {},
   "outputs": [],
   "source": [
    "mylist = []\n",
    "\n",
    "for x in [2,4,6]:\n",
    "    for y in [100,200,300]:\n",
    "        mylist.append(x*y)\n",
    "        "
   ]
  },
  {
   "cell_type": "code",
   "execution_count": 96,
   "metadata": {},
   "outputs": [
    {
     "data": {
      "text/plain": [
       "[200, 400, 600, 400, 800, 1200, 600, 1200, 1800]"
      ]
     },
     "execution_count": 96,
     "metadata": {},
     "output_type": "execute_result"
    }
   ],
   "source": [
    "mylist"
   ]
  },
  {
   "cell_type": "code",
   "execution_count": 97,
   "metadata": {},
   "outputs": [],
   "source": [
    "mylist = [x*y for x in [2,4,6] for y in [100,290,300]]"
   ]
  },
  {
   "cell_type": "code",
   "execution_count": 98,
   "metadata": {},
   "outputs": [
    {
     "data": {
      "text/plain": [
       "[200, 580, 600, 400, 1160, 1200, 600, 1740, 1800]"
      ]
     },
     "execution_count": 98,
     "metadata": {},
     "output_type": "execute_result"
    }
   ],
   "source": [
    "mylist"
   ]
  },
  {
   "cell_type": "code",
   "execution_count": 99,
   "metadata": {},
   "outputs": [
    {
     "ename": "SyntaxError",
     "evalue": "invalid syntax (<ipython-input-99-c01721f40c34>, line 2)",
     "output_type": "error",
     "traceback": [
      "\u001b[1;36m  File \u001b[1;32m\"<ipython-input-99-c01721f40c34>\"\u001b[1;36m, line \u001b[1;32m2\u001b[0m\n\u001b[1;33m    lst]]\u001b[0m\n\u001b[1;37m      ^\u001b[0m\n\u001b[1;31mSyntaxError\u001b[0m\u001b[1;31m:\u001b[0m invalid syntax\n"
     ]
    }
   ],
   "source": [
    "lst = [ x**2 for x in [x**2 for x in range(11)\n",
    "lst]]"
   ]
  },
  {
   "cell_type": "code",
   "execution_count": 101,
   "metadata": {},
   "outputs": [
    {
     "name": "stdout",
     "output_type": "stream",
     "text": [
      "30\n",
      "50\n",
      "70\n",
      "50\n",
      "70\n",
      "90\n",
      "70\n",
      "90\n",
      "110\n"
     ]
    }
   ],
   "source": [
    "for x in [10,30,50]:\n",
    "    for y in [20,40,60]:\n",
    "        print(x+y)"
   ]
  },
  {
   "cell_type": "code",
   "execution_count": 102,
   "metadata": {},
   "outputs": [
    {
     "name": "stdout",
     "output_type": "stream",
     "text": [
      "30\n",
      "50\n",
      "70\n",
      "50\n",
      "70\n",
      "90\n",
      "70\n",
      "90\n",
      "110\n"
     ]
    },
    {
     "data": {
      "text/plain": [
       "[None, None, None, None, None, None, None, None, None]"
      ]
     },
     "execution_count": 102,
     "metadata": {},
     "output_type": "execute_result"
    }
   ],
   "source": [
    "[print(x+y) for x in [10,30,50] for y in [20,40,60]]"
   ]
  },
  {
   "cell_type": "code",
   "execution_count": 103,
   "metadata": {},
   "outputs": [
    {
     "name": "stdout",
     "output_type": "stream",
     "text": [
      "19\n",
      "###################\n",
      "8\n",
      "8\n",
      "6\n",
      "11\n",
      "19\n"
     ]
    },
    {
     "data": {
      "text/plain": [
       "[None, None, None, None, None]"
      ]
     },
     "execution_count": 103,
     "metadata": {},
     "output_type": "execute_result"
    }
   ],
   "source": [
    "b= \"asfdasfasdf'sadfdsf\"\n",
    "print(len(b))\n",
    "print(\"###################\")\n",
    "[print(len(a)) for a in [\"asdfasfd\",\"asfdsadf\",\"sdfase\",\"asdfadfffer\",b]]"
   ]
  },
  {
   "cell_type": "markdown",
   "metadata": {},
   "source": [
    "# Single Condition"
   ]
  },
  {
   "cell_type": "markdown",
   "metadata": {},
   "source": [
    "[action iteration condition]"
   ]
  },
  {
   "cell_type": "code",
   "execution_count": 42,
   "metadata": {},
   "outputs": [
    {
     "data": {
      "text/plain": [
       "[(0, 'fizzbuzz'),\n",
       " (15, 'fizzbuzz'),\n",
       " (30, 'fizzbuzz'),\n",
       " (45, 'fizzbuzz'),\n",
       " (60, 'fizzbuzz'),\n",
       " (75, 'fizzbuzz'),\n",
       " (90, 'fizzbuzz')]"
      ]
     },
     "execution_count": 42,
     "metadata": {},
     "output_type": "execute_result"
    }
   ],
   "source": [
    "[print(x, \"fizzbuzz\") for x in range(0,100) if(x%3==0 and x%5 ==0 )]"
   ]
  },
  {
   "cell_type": "code",
   "execution_count": 104,
   "metadata": {},
   "outputs": [
    {
     "data": {
      "text/plain": [
       "[(0, 'fizzbuzz'),\n",
       " (15, 'fizzbuzz'),\n",
       " (30, 'fizzbuzz'),\n",
       " (45, 'fizzbuzz'),\n",
       " (60, 'fizzbuzz'),\n",
       " (75, 'fizzbuzz'),\n",
       " (90, 'fizzbuzz')]"
      ]
     },
     "execution_count": 104,
     "metadata": {},
     "output_type": "execute_result"
    }
   ],
   "source": [
    "[(x, \"fizzbuzz\") for x in range(0,100) if(x%3==0 and x%5 ==0 )]"
   ]
  },
  {
   "cell_type": "code",
   "execution_count": 105,
   "metadata": {},
   "outputs": [
    {
     "name": "stdout",
     "output_type": "stream",
     "text": [
      "<class 'list'>\n",
      "['0 - fizzbuzz', '15 - fizzbuzz', '30 - fizzbuzz', '45 - fizzbuzz', '60 - fizzbuzz', '75 - fizzbuzz', '90 - fizzbuzz']\n"
     ]
    }
   ],
   "source": [
    "#c = ([(str(x) + \" - fizzbuzz\") ] for x in range(0,100) if(x%3==0 and x%5 ==0))\n",
    "d = [(str(x) + \" - fizzbuzz\")  for x in range(0,100) if(x%3==0 and x%5 ==0)]\n",
    "#print(type(c))\n",
    "print(type(d))\n",
    "print(d)"
   ]
  },
  {
   "cell_type": "markdown",
   "metadata": {},
   "source": [
    "## Multiple Conditions"
   ]
  },
  {
   "cell_type": "code",
   "execution_count": 106,
   "metadata": {},
   "outputs": [
    {
     "name": "stdout",
     "output_type": "stream",
     "text": [
      "0 - fizzbuzz \n",
      "\n",
      "1 - no fizzbuzz \n",
      "\n",
      "2 - no fizzbuzz \n",
      "\n",
      "3 - no fizzbuzz \n",
      "\n",
      "4 - no fizzbuzz \n",
      "\n",
      "5 - no fizzbuzz \n",
      "\n",
      "6 - no fizzbuzz \n",
      "\n",
      "7 - no fizzbuzz \n",
      "\n",
      "8 - no fizzbuzz \n",
      "\n",
      "9 - no fizzbuzz \n",
      "\n",
      "10 - no fizzbuzz \n",
      "\n",
      "11 - no fizzbuzz \n",
      "\n",
      "12 - no fizzbuzz \n",
      "\n",
      "13 - no fizzbuzz \n",
      "\n",
      "14 - no fizzbuzz \n",
      "\n",
      "15 - fizzbuzz \n",
      "\n",
      "16 - no fizzbuzz \n",
      "\n",
      "17 - no fizzbuzz \n",
      "\n",
      "18 - no fizzbuzz \n",
      "\n",
      "19 - no fizzbuzz \n",
      "\n",
      "20 - no fizzbuzz \n",
      "\n",
      "21 - no fizzbuzz \n",
      "\n",
      "22 - no fizzbuzz \n",
      "\n",
      "23 - no fizzbuzz \n",
      "\n",
      "24 - no fizzbuzz \n",
      "\n",
      "25 - no fizzbuzz \n",
      "\n",
      "26 - no fizzbuzz \n",
      "\n",
      "27 - no fizzbuzz \n",
      "\n",
      "28 - no fizzbuzz \n",
      "\n",
      "29 - no fizzbuzz \n",
      "\n",
      "30 - fizzbuzz \n",
      "\n",
      "31 - no fizzbuzz \n",
      "\n",
      "32 - no fizzbuzz \n",
      "\n",
      "33 - no fizzbuzz \n",
      "\n",
      "34 - no fizzbuzz \n",
      "\n",
      "35 - no fizzbuzz \n",
      "\n",
      "36 - no fizzbuzz \n",
      "\n",
      "37 - no fizzbuzz \n",
      "\n",
      "38 - no fizzbuzz \n",
      "\n",
      "39 - no fizzbuzz \n",
      "\n",
      "40 - no fizzbuzz \n",
      "\n",
      "41 - no fizzbuzz \n",
      "\n",
      "42 - no fizzbuzz \n",
      "\n",
      "43 - no fizzbuzz \n",
      "\n",
      "44 - no fizzbuzz \n",
      "\n",
      "45 - fizzbuzz \n",
      "\n",
      "46 - no fizzbuzz \n",
      "\n",
      "47 - no fizzbuzz \n",
      "\n",
      "48 - no fizzbuzz \n",
      "\n",
      "49 - no fizzbuzz \n",
      "\n",
      "50 - no fizzbuzz \n",
      "\n",
      "51 - no fizzbuzz \n",
      "\n",
      "52 - no fizzbuzz \n",
      "\n",
      "53 - no fizzbuzz \n",
      "\n",
      "54 - no fizzbuzz \n",
      "\n",
      "55 - no fizzbuzz \n",
      "\n",
      "56 - no fizzbuzz \n",
      "\n",
      "57 - no fizzbuzz \n",
      "\n",
      "58 - no fizzbuzz \n",
      "\n",
      "59 - no fizzbuzz \n",
      "\n",
      "60 - fizzbuzz \n",
      "\n",
      "61 - no fizzbuzz \n",
      "\n",
      "62 - no fizzbuzz \n",
      "\n",
      "63 - no fizzbuzz \n",
      "\n",
      "64 - no fizzbuzz \n",
      "\n",
      "65 - no fizzbuzz \n",
      "\n",
      "66 - no fizzbuzz \n",
      "\n",
      "67 - no fizzbuzz \n",
      "\n",
      "68 - no fizzbuzz \n",
      "\n",
      "69 - no fizzbuzz \n",
      "\n",
      "70 - no fizzbuzz \n",
      "\n",
      "71 - no fizzbuzz \n",
      "\n",
      "72 - no fizzbuzz \n",
      "\n",
      "73 - no fizzbuzz \n",
      "\n",
      "74 - no fizzbuzz \n",
      "\n",
      "75 - fizzbuzz \n",
      "\n",
      "76 - no fizzbuzz \n",
      "\n",
      "77 - no fizzbuzz \n",
      "\n",
      "78 - no fizzbuzz \n",
      "\n",
      "79 - no fizzbuzz \n",
      "\n",
      "80 - no fizzbuzz \n",
      "\n",
      "81 - no fizzbuzz \n",
      "\n",
      "82 - no fizzbuzz \n",
      "\n",
      "83 - no fizzbuzz \n",
      "\n",
      "84 - no fizzbuzz \n",
      "\n",
      "85 - no fizzbuzz \n",
      "\n",
      "86 - no fizzbuzz \n",
      "\n",
      "87 - no fizzbuzz \n",
      "\n",
      "88 - no fizzbuzz \n",
      "\n",
      "89 - no fizzbuzz \n",
      "\n",
      "90 - fizzbuzz \n",
      "\n",
      "91 - no fizzbuzz \n",
      "\n",
      "92 - no fizzbuzz \n",
      "\n",
      "93 - no fizzbuzz \n",
      "\n",
      "94 - no fizzbuzz \n",
      "\n",
      "95 - no fizzbuzz \n",
      "\n",
      "96 - no fizzbuzz \n",
      "\n",
      "97 - no fizzbuzz \n",
      "\n",
      "98 - no fizzbuzz \n",
      "\n",
      "99 - no fizzbuzz \n",
      "\n"
     ]
    }
   ],
   "source": [
    "result = [(str(x) + \" - fizzbuzz \") if(x%3==0 and x%5 ==0) else (str(x) + \" - no fizzbuzz \")  for x in range(0,100)]\n",
    "\n",
    "for x in result:\n",
    "    print(x + \"\\n\" )\n"
   ]
  },
  {
   "cell_type": "markdown",
   "metadata": {},
   "source": [
    "### Nested IF Condition"
   ]
  },
  {
   "cell_type": "code",
   "execution_count": 47,
   "metadata": {},
   "outputs": [
    {
     "name": "stdout",
     "output_type": "stream",
     "text": [
      "0 divisible by 10 \n",
      "1 - not divisible by any\n",
      "2 - not divisible by any\n",
      "3 - not divisible by any\n",
      "4 - not divisible by any\n",
      "5 - not divisible by any\n",
      "6 - not divisible by any\n",
      "7 - not divisible by any\n",
      "8 - not divisible by any\n",
      "9 - not divisible by any\n",
      "10 - not divisible by any\n",
      "11 - not divisible by any\n",
      "12 - not divisible by any\n",
      "13 - not divisible by any\n",
      "14 - not divisible by any\n",
      "15 only by 3 and 5\n",
      "16 - not divisible by any\n",
      "17 - not divisible by any\n",
      "18 - not divisible by any\n",
      "19 - not divisible by any\n",
      "20 - not divisible by any\n",
      "21 - not divisible by any\n",
      "22 - not divisible by any\n",
      "23 - not divisible by any\n",
      "24 - not divisible by any\n",
      "25 - not divisible by any\n",
      "26 - not divisible by any\n",
      "27 - not divisible by any\n",
      "28 - not divisible by any\n",
      "29 - not divisible by any\n",
      "30 divisible by 10 \n",
      "31 - not divisible by any\n",
      "32 - not divisible by any\n",
      "33 - not divisible by any\n",
      "34 - not divisible by any\n",
      "35 - not divisible by any\n",
      "36 - not divisible by any\n",
      "37 - not divisible by any\n",
      "38 - not divisible by any\n",
      "39 - not divisible by any\n",
      "40 - not divisible by any\n",
      "41 - not divisible by any\n",
      "42 - not divisible by any\n",
      "43 - not divisible by any\n",
      "44 - not divisible by any\n",
      "45 only by 3 and 5\n",
      "46 - not divisible by any\n",
      "47 - not divisible by any\n",
      "48 - not divisible by any\n",
      "49 - not divisible by any\n",
      "50 - not divisible by any\n",
      "51 - not divisible by any\n",
      "52 - not divisible by any\n",
      "53 - not divisible by any\n",
      "54 - not divisible by any\n",
      "55 - not divisible by any\n",
      "56 - not divisible by any\n",
      "57 - not divisible by any\n",
      "58 - not divisible by any\n",
      "59 - not divisible by any\n",
      "60 divisible by 10 \n",
      "61 - not divisible by any\n",
      "62 - not divisible by any\n",
      "63 - not divisible by any\n",
      "64 - not divisible by any\n",
      "65 - not divisible by any\n",
      "66 - not divisible by any\n",
      "67 - not divisible by any\n",
      "68 - not divisible by any\n",
      "69 - not divisible by any\n",
      "70 - not divisible by any\n",
      "71 - not divisible by any\n",
      "72 - not divisible by any\n",
      "73 - not divisible by any\n",
      "74 - not divisible by any\n",
      "75 only by 3 and 5\n",
      "76 - not divisible by any\n",
      "77 - not divisible by any\n",
      "78 - not divisible by any\n",
      "79 - not divisible by any\n",
      "80 - not divisible by any\n",
      "81 - not divisible by any\n",
      "82 - not divisible by any\n",
      "83 - not divisible by any\n",
      "84 - not divisible by any\n",
      "85 - not divisible by any\n",
      "86 - not divisible by any\n",
      "87 - not divisible by any\n",
      "88 - not divisible by any\n",
      "89 - not divisible by any\n",
      "90 divisible by 10 \n",
      "91 - not divisible by any\n",
      "92 - not divisible by any\n",
      "93 - not divisible by any\n",
      "94 - not divisible by any\n",
      "95 - not divisible by any\n",
      "96 - not divisible by any\n",
      "97 - not divisible by any\n",
      "98 - not divisible by any\n",
      "99 - not divisible by any\n",
      "############\n",
      "divisible by 3 and 5 - [1, 2, 3, 5, 6, 7, 9, 10, 11, 13, 14, 15, 17, 18, 19, 21, 22, 23, 25, 26, 27, 29, 31, 33, 34, 35, 37, 38, 39, 41, 42, 43, 45, 46, 47, 49, 50, 51, 53, 54, 55, 57, 58, 59, 61, 62, 63, 65, 66, 67, 69, 70, 71, 73, 74, 75, 77, 78, 79, 81, 82, 83, 85, 86, 87, 89, 91, 93, 94, 95, 97, 98, 99]\n",
      "#########################################################\n",
      "divisible by 3 and 5 and 10 - [0, 4, 8, 12, 16, 20, 24, 28, 30, 32, 36, 40, 44, 48, 52, 56, 60, 64, 68, 72, 76, 80, 84, 88, 90, 92, 96]\n",
      "#########################################################\n",
      "not divisible by 3 and 5 - [1, 2, 3, 5, 6, 7, 9, 10, 11, 13, 14, 15, 17, 18, 19, 21, 22, 23, 25, 26, 27, 29, 31, 33, 34, 35, 37, 38, 39, 41, 42, 43, 45, 46, 47, 49, 50, 51, 53, 54, 55, 57, 58, 59, 61, 62, 63, 65, 66, 67, 69, 70, 71, 73, 74, 75, 77, 78, 79, 81, 82, 83, 85, 86, 87, 89, 91, 93, 94, 95, 97, 98, 99]\n",
      "#########################################################\n"
     ]
    }
   ],
   "source": [
    "#Nested If \n",
    "#if(within if)\n",
    "\n",
    "#[print(str(x) + \" divisible by 10 \") if(x%10==0) else print(str(x) + \" only by 3 and 5\")]\n",
    "[[print(str(x) + \" divisible by 10 \") if(x%10==0) else print(str(x) + \" only by 3 and 5\")] if(x%3==0 and x%5 ==0) else  print(str(x) + \" - not divisible by any\")  for x in range(0,100)]\n",
    "print(\"############\")\n"
   ]
  },
  {
   "cell_type": "code",
   "execution_count": 53,
   "metadata": {},
   "outputs": [
    {
     "name": "stdout",
     "output_type": "stream",
     "text": [
      "divisible by 3 and 5 - [15, 45, 75]\n",
      "#########################################################\n",
      "divisible by 3 and 5 and 10 - [0, 30, 60, 90]\n",
      "#########################################################\n",
      "not divisible by 3 and 5 - [4, 8, 12, 16, 20, 24, 28, 32, 36, 40, 44, 48, 52, 56, 64, 68, 72, 76, 80, 84, 88, 92, 96]\n",
      "#########################################################\n",
      "not divisible by 2,3,4 and 5 - [1, 2, 3, 5, 6, 7, 9, 10, 11, 13, 14, 17, 18, 19, 21, 22, 23, 25, 26, 27, 29, 31, 33, 34, 35, 37, 38, 39, 41, 42, 43, 46, 47, 49, 50, 51, 53, 54, 55, 57, 58, 59, 61, 62, 63, 65, 66, 67, 69, 70, 71, 73, 74, 77, 78, 79, 81, 82, 83, 85, 86, 87, 89, 91, 93, 94, 95, 97, 98, 99]\n",
      "#########################################################\n"
     ]
    }
   ],
   "source": [
    "b35= []\n",
    "b3510= []\n",
    "b24=[]\n",
    "bnot2345 =[]\n",
    "#[[b3510.append(x) if(x%10==0) else b35.append(x)] \n",
    "# if(x%3==0 and x%5 ==0) else  [b3510.append(x) if(x%2==0 and x%4 ==0 )\n",
    "#                               else b35.append(x)]\n",
    "[[[b3510.append(x) if(x%10==0) else b35.append(x)] if(x%3==0 and x%5 ==0) else  [b24.append(x) if(x%2==0 and x%4 ==0 ) else bnot2345.append(x)]]  for x in range(0,100)]\n",
    "print(\"divisible by 3 and 5 - {}\".format(b35))\n",
    "print(\"#########################################################\")\n",
    "print(\"divisible by 3 and 5 and 10 - {}\".format(b3510))\n",
    "print(\"#########################################################\")\n",
    "print(\"not divisible by 3 and 5 - {}\".format(b24))\n",
    "print(\"#########################################################\")\n",
    "print(\"not divisible by 2,3,4 and 5 - {}\".format(bnot2345))\n",
    "print(\"#########################################################\")"
   ]
  },
  {
   "cell_type": "code",
   "execution_count": 54,
   "metadata": {},
   "outputs": [
    {
     "name": "stdout",
     "output_type": "stream",
     "text": [
      "0 divisible by 10 \n",
      "1 not by 2, 4, 3 and 5\n",
      "2 not by 2, 4, 3 and 5\n",
      "3 not by 2, 4, 3 and 5\n",
      "4 divisible by 4  and 2 \n",
      "5 not by 2, 4, 3 and 5\n",
      "6 not by 2, 4, 3 and 5\n",
      "7 not by 2, 4, 3 and 5\n",
      "8 divisible by 4  and 2 \n",
      "9 not by 2, 4, 3 and 5\n",
      "10 not by 2, 4, 3 and 5\n",
      "11 not by 2, 4, 3 and 5\n",
      "12 divisible by 4  and 2 \n",
      "13 not by 2, 4, 3 and 5\n",
      "14 not by 2, 4, 3 and 5\n",
      "15 only by 3 and 5\n",
      "16 divisible by 4  and 2 \n",
      "17 not by 2, 4, 3 and 5\n",
      "18 not by 2, 4, 3 and 5\n",
      "19 not by 2, 4, 3 and 5\n",
      "20 divisible by 4  and 2 \n",
      "21 not by 2, 4, 3 and 5\n",
      "22 not by 2, 4, 3 and 5\n",
      "23 not by 2, 4, 3 and 5\n",
      "24 divisible by 4  and 2 \n",
      "25 not by 2, 4, 3 and 5\n",
      "26 not by 2, 4, 3 and 5\n",
      "27 not by 2, 4, 3 and 5\n",
      "28 divisible by 4  and 2 \n",
      "29 not by 2, 4, 3 and 5\n",
      "30 divisible by 10 \n",
      "31 not by 2, 4, 3 and 5\n",
      "32 divisible by 4  and 2 \n",
      "33 not by 2, 4, 3 and 5\n",
      "34 not by 2, 4, 3 and 5\n",
      "35 not by 2, 4, 3 and 5\n",
      "36 divisible by 4  and 2 \n",
      "37 not by 2, 4, 3 and 5\n",
      "38 not by 2, 4, 3 and 5\n",
      "39 not by 2, 4, 3 and 5\n",
      "40 divisible by 4  and 2 \n",
      "41 not by 2, 4, 3 and 5\n",
      "42 not by 2, 4, 3 and 5\n",
      "43 not by 2, 4, 3 and 5\n",
      "44 divisible by 4  and 2 \n",
      "45 only by 3 and 5\n",
      "46 not by 2, 4, 3 and 5\n",
      "47 not by 2, 4, 3 and 5\n",
      "48 divisible by 4  and 2 \n",
      "49 not by 2, 4, 3 and 5\n",
      "50 not by 2, 4, 3 and 5\n",
      "51 not by 2, 4, 3 and 5\n",
      "52 divisible by 4  and 2 \n",
      "53 not by 2, 4, 3 and 5\n",
      "54 not by 2, 4, 3 and 5\n",
      "55 not by 2, 4, 3 and 5\n",
      "56 divisible by 4  and 2 \n",
      "57 not by 2, 4, 3 and 5\n",
      "58 not by 2, 4, 3 and 5\n",
      "59 not by 2, 4, 3 and 5\n",
      "60 divisible by 10 \n",
      "61 not by 2, 4, 3 and 5\n",
      "62 not by 2, 4, 3 and 5\n",
      "63 not by 2, 4, 3 and 5\n",
      "64 divisible by 4  and 2 \n",
      "65 not by 2, 4, 3 and 5\n",
      "66 not by 2, 4, 3 and 5\n",
      "67 not by 2, 4, 3 and 5\n",
      "68 divisible by 4  and 2 \n",
      "69 not by 2, 4, 3 and 5\n",
      "70 not by 2, 4, 3 and 5\n",
      "71 not by 2, 4, 3 and 5\n",
      "72 divisible by 4  and 2 \n",
      "73 not by 2, 4, 3 and 5\n",
      "74 not by 2, 4, 3 and 5\n",
      "75 only by 3 and 5\n",
      "76 divisible by 4  and 2 \n",
      "77 not by 2, 4, 3 and 5\n",
      "78 not by 2, 4, 3 and 5\n",
      "79 not by 2, 4, 3 and 5\n",
      "80 divisible by 4  and 2 \n",
      "81 not by 2, 4, 3 and 5\n",
      "82 not by 2, 4, 3 and 5\n",
      "83 not by 2, 4, 3 and 5\n",
      "84 divisible by 4  and 2 \n",
      "85 not by 2, 4, 3 and 5\n",
      "86 not by 2, 4, 3 and 5\n",
      "87 not by 2, 4, 3 and 5\n",
      "88 divisible by 4  and 2 \n",
      "89 not by 2, 4, 3 and 5\n",
      "90 divisible by 10 \n",
      "91 not by 2, 4, 3 and 5\n",
      "92 divisible by 4  and 2 \n",
      "93 not by 2, 4, 3 and 5\n",
      "94 not by 2, 4, 3 and 5\n",
      "95 not by 2, 4, 3 and 5\n",
      "96 divisible by 4  and 2 \n",
      "97 not by 2, 4, 3 and 5\n",
      "98 not by 2, 4, 3 and 5\n",
      "99 not by 2, 4, 3 and 5\n"
     ]
    },
    {
     "data": {
      "text/plain": [
       "[[None],\n",
       " [None],\n",
       " [None],\n",
       " [None],\n",
       " [None],\n",
       " [None],\n",
       " [None],\n",
       " [None],\n",
       " [None],\n",
       " [None],\n",
       " [None],\n",
       " [None],\n",
       " [None],\n",
       " [None],\n",
       " [None],\n",
       " [None],\n",
       " [None],\n",
       " [None],\n",
       " [None],\n",
       " [None],\n",
       " [None],\n",
       " [None],\n",
       " [None],\n",
       " [None],\n",
       " [None],\n",
       " [None],\n",
       " [None],\n",
       " [None],\n",
       " [None],\n",
       " [None],\n",
       " [None],\n",
       " [None],\n",
       " [None],\n",
       " [None],\n",
       " [None],\n",
       " [None],\n",
       " [None],\n",
       " [None],\n",
       " [None],\n",
       " [None],\n",
       " [None],\n",
       " [None],\n",
       " [None],\n",
       " [None],\n",
       " [None],\n",
       " [None],\n",
       " [None],\n",
       " [None],\n",
       " [None],\n",
       " [None],\n",
       " [None],\n",
       " [None],\n",
       " [None],\n",
       " [None],\n",
       " [None],\n",
       " [None],\n",
       " [None],\n",
       " [None],\n",
       " [None],\n",
       " [None],\n",
       " [None],\n",
       " [None],\n",
       " [None],\n",
       " [None],\n",
       " [None],\n",
       " [None],\n",
       " [None],\n",
       " [None],\n",
       " [None],\n",
       " [None],\n",
       " [None],\n",
       " [None],\n",
       " [None],\n",
       " [None],\n",
       " [None],\n",
       " [None],\n",
       " [None],\n",
       " [None],\n",
       " [None],\n",
       " [None],\n",
       " [None],\n",
       " [None],\n",
       " [None],\n",
       " [None],\n",
       " [None],\n",
       " [None],\n",
       " [None],\n",
       " [None],\n",
       " [None],\n",
       " [None],\n",
       " [None],\n",
       " [None],\n",
       " [None],\n",
       " [None],\n",
       " [None],\n",
       " [None],\n",
       " [None],\n",
       " [None],\n",
       " [None],\n",
       " [None]]"
      ]
     },
     "execution_count": 54,
     "metadata": {},
     "output_type": "execute_result"
    }
   ],
   "source": [
    "b35= []\n",
    "b3510= []\n",
    "b24=[]\n",
    "[[print(str(x) + \" divisible by 10 \") if(x%10==0) else print(str(x) + \" only by 3 and 5\")] if(x%3==0 and x%5 ==0) else  [print(str(x) + \" divisible by 4  and 2 \") if(x%4==0 and x%2==0) else print(str(x) + \" not by 2, 4, 3 and 5\")]  for x in range(0,100)]"
   ]
  },
  {
   "cell_type": "code",
   "execution_count": null,
   "metadata": {},
   "outputs": [],
   "source": []
  }
 ],
 "metadata": {
  "kernelspec": {
   "display_name": "Python 3",
   "language": "python",
   "name": "python3"
  },
  "language_info": {
   "codemirror_mode": {
    "name": "ipython",
    "version": 3
   },
   "file_extension": ".py",
   "mimetype": "text/x-python",
   "name": "python",
   "nbconvert_exporter": "python",
   "pygments_lexer": "ipython3",
   "version": "3.7.4"
  }
 },
 "nbformat": 4,
 "nbformat_minor": 1
}

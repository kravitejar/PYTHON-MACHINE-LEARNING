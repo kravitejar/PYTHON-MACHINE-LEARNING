{
 "cells": [
  {
   "cell_type": "markdown",
   "metadata": {},
   "source": [
    "List Comprehension Assignment"
   ]
  },
  {
   "cell_type": "markdown",
   "metadata": {},
   "source": [
    "1. Check if a string's character in the interval of 2, the last character in the string will be 1 \n",
    "<br>\n",
    "from right is a vowel using list comprehension \n",
    "<br>\n",
    "print True if the character is a vowel?"
   ]
  },
  {
   "cell_type": "code",
   "execution_count": null,
   "metadata": {},
   "outputs": [],
   "source": [
    "whvcewarasdgvetrgdstrsdtres"
   ]
  },
  {
   "cell_type": "markdown",
   "metadata": {},
   "source": [
    "[True,False,False....]"
   ]
  },
  {
   "cell_type": "markdown",
   "metadata": {},
   "source": [
    "2. write a list comprehension to find the len of all symbols in a list of strings?\n",
    "<br> \n",
    "a = [\"afasef2q34@#$asdfrdfzx\",\"qeweegwewrt/%^&\"]\n",
    "result = [3,3]"
   ]
  },
  {
   "cell_type": "markdown",
   "metadata": {},
   "source": [
    "3. write a list comprehension to find out unique charactes from a list of strings?\n",
    "<br>\n",
    "a = [\"abcc\",\"werr\",\"ssdaac\"]\n",
    "<br>\n",
    "output = ['a','b','c','w','e','r','s','d']"
   ]
  },
  {
   "cell_type": "code",
   "execution_count": null,
   "metadata": {},
   "outputs": [],
   "source": []
  },
  {
   "cell_type": "code",
   "execution_count": null,
   "metadata": {},
   "outputs": [],
   "source": []
  }
 ],
 "metadata": {
  "kernelspec": {
   "display_name": "Python 3",
   "language": "python",
   "name": "python3"
  },
  "language_info": {
   "codemirror_mode": {
    "name": "ipython",
    "version": 3
   },
   "file_extension": ".py",
   "mimetype": "text/x-python",
   "name": "python",
   "nbconvert_exporter": "python",
   "pygments_lexer": "ipython3",
   "version": "3.7.3"
  }
 },
 "nbformat": 4,
 "nbformat_minor": 2
}

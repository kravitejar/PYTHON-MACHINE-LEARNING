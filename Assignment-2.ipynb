{
 "cells": [
  {
   "cell_type": "code",
   "execution_count": 3,
   "metadata": {},
   "outputs": [
    {
     "data": {
      "text/plain": [
       "10"
      ]
     },
     "execution_count": 3,
     "metadata": {},
     "output_type": "execute_result"
    }
   ],
   "source": [
    "# Dictionary Comprehension\n",
    "fruits ={\"red\":\"apple\", \"green1\":\"apple\",\"red1\":\"pomegrante\", \"green2\":\"grapes\", \"red2\":\"strawberry\",\"blue\": \"blueberry\",\"yellow\":\"mango\",\"orange\":\"orange\",\"yellow\":\"peach\",\"brown\":\"chikoo\",\"black\":\"blackcurrant\"}"
   ]
  },
  {
   "cell_type": "markdown",
   "metadata": {},
   "source": [
    "#### Dictionary comprehension on fruits data\n",
    "1. find the list of keys for fruits equivalent to it's value?\n",
    "2. list the values of fruit having 2 or more vowels in it's key?\n",
    "3. list the values of fruits when len of the key is equivalent to it's value?\n",
    "4. list the keys of the fruits when it's value contains two e's?\n",
    "5. create a dictionary when the color of the key is in basic colors [\"blue\",\"green\",\"red\"]\n"
   ]
  },
  {
   "cell_type": "code",
   "execution_count": null,
   "metadata": {},
   "outputs": [],
   "source": []
  },
  {
   "cell_type": "markdown",
   "metadata": {},
   "source": [
    "---"
   ]
  },
  {
   "cell_type": "markdown",
   "metadata": {},
   "source": [
    "##### Args and KWargs"
   ]
  },
  {
   "cell_type": "code",
   "execution_count": null,
   "metadata": {},
   "outputs": [],
   "source": [
    "Provided a list of words in a list, List out the words having count of e and a greater than 2 using *args?\n",
    "for instance : \n",
    "def findae2(\"aaappleee\",\"pomegraaantee\", \"guava\"): should return [\"aaappleee\",\"pomegraaantee\"]"
   ]
  },
  {
   "cell_type": "markdown",
   "metadata": {},
   "source": [
    "List Comprehension Assignment"
   ]
  },
  {
   "cell_type": "markdown",
   "metadata": {},
   "source": [
    "1. Check if a string's character in the interval of 2, the last character in the string will be 1 \n",
    "<br>\n",
    "from right is a vowel using list comprehension \n",
    "<br>\n",
    "print True if the character is a vowel?"
   ]
  },
  {
   "cell_type": "code",
   "execution_count": null,
   "metadata": {},
   "outputs": [],
   "source": []
  },
  {
   "cell_type": "code",
   "execution_count": null,
   "metadata": {},
   "outputs": [],
   "source": [
    "whvcewarasdgvetrgdstrsdtres"
   ]
  },
  {
   "cell_type": "markdown",
   "metadata": {},
   "source": [
    "[True,False,False....]"
   ]
  },
  {
   "cell_type": "markdown",
   "metadata": {},
   "source": [
    "2. write a list comprehension to find the len of all symbols in a list of strings?\n",
    "<br> \n",
    "a = [\"afasef2q34@#$asdfrdfzx\",\"qeweegwewrt/%^&\"]\n",
    "result = [3,3]"
   ]
  },
  {
   "cell_type": "code",
   "execution_count": null,
   "metadata": {},
   "outputs": [],
   "source": []
  },
  {
   "cell_type": "markdown",
   "metadata": {},
   "source": [
    "3. write a list comprehension to find out unique charactes from a list of strings?\n",
    "<br>\n",
    "a = [\"abcc\",\"werr\",\"ssdaac\"]\n",
    "<br>\n",
    "output = ['a','b','c','w','e','r','s','d']"
   ]
  },
  {
   "cell_type": "code",
   "execution_count": null,
   "metadata": {},
   "outputs": [],
   "source": []
  },
  {
   "cell_type": "markdown",
   "metadata": {},
   "source": [
    "---"
   ]
  },
  {
   "cell_type": "markdown",
   "metadata": {},
   "source": [
    "#### Find 15 best methods for OS library or implement\n",
    "1. os.listdir\n",
    "2. os.remove\n",
    "3. os.path.exists\n",
    "4. os.dirname\n",
    "5. os.getcwd\n",
    "6. os.kill\n",
    "7. os.path.abspath\n"
   ]
  },
  {
   "cell_type": "code",
   "execution_count": null,
   "metadata": {},
   "outputs": [],
   "source": []
  },
  {
   "cell_type": "raw",
   "metadata": {},
   "source": [
    "3. Find how to use Json Encoder and Decoder Methods\n"
   ]
  },
  {
   "cell_type": "code",
   "execution_count": null,
   "metadata": {},
   "outputs": [],
   "source": []
  },
  {
   "cell_type": "markdown",
   "metadata": {},
   "source": [
    "---"
   ]
  },
  {
   "cell_type": "raw",
   "metadata": {},
   "source": [
    "4. Find How to use CSV writer\n"
   ]
  },
  {
   "cell_type": "code",
   "execution_count": null,
   "metadata": {},
   "outputs": [],
   "source": []
  },
  {
   "cell_type": "markdown",
   "metadata": {},
   "source": [
    "---"
   ]
  },
  {
   "cell_type": "raw",
   "metadata": {},
   "source": [
    "5. give sample to load xml file and convert it into a dict using xmltodict library"
   ]
  },
  {
   "cell_type": "code",
   "execution_count": null,
   "metadata": {},
   "outputs": [],
   "source": []
  },
  {
   "cell_type": "markdown",
   "metadata": {},
   "source": [
    "---"
   ]
  },
  {
   "cell_type": "raw",
   "metadata": {},
   "source": [
    "6. create a list of 100 objects for class student\n",
    "with every third student having hindi as is it's second language\n",
    "and every seventh having tamil as it's second language\n",
    "student falling for 3rd and 7th can have his own choice of second language\n",
    "\n",
    "student class should have properties/attributes\n",
    "1. Name\n",
    "2. Language\n",
    "3. age\n",
    "4. class"
   ]
  },
  {
   "cell_type": "markdown",
   "metadata": {},
   "source": [
    "#### Regexp Assignment:"
   ]
  },
  {
   "cell_type": "markdown",
   "metadata": {},
   "source": [
    "\n",
    "1. Create a regexp to validate emailid \n"
   ]
  },
  {
   "cell_type": "code",
   "execution_count": null,
   "metadata": {},
   "outputs": [],
   "source": []
  },
  {
   "cell_type": "markdown",
   "metadata": {},
   "source": [
    "2. Create a regexp to validate ip address\n"
   ]
  },
  {
   "cell_type": "code",
   "execution_count": null,
   "metadata": {},
   "outputs": [],
   "source": []
  },
  {
   "cell_type": "markdown",
   "metadata": {},
   "source": [
    "3. Create a regexp to validate domain names: like  www.google.com,www.google.co.in etc\n"
   ]
  },
  {
   "cell_type": "code",
   "execution_count": null,
   "metadata": {},
   "outputs": [],
   "source": []
  },
  {
   "cell_type": "markdown",
   "metadata": {},
   "source": [
    "4. create a regexp to validate a palindrome"
   ]
  },
  {
   "cell_type": "code",
   "execution_count": null,
   "metadata": {},
   "outputs": [],
   "source": []
  }
 ],
 "metadata": {
  "kernelspec": {
   "display_name": "Python 3",
   "language": "python",
   "name": "python3"
  },
  "language_info": {
   "codemirror_mode": {
    "name": "ipython",
    "version": 3
   },
   "file_extension": ".py",
   "mimetype": "text/x-python",
   "name": "python",
   "nbconvert_exporter": "python",
   "pygments_lexer": "ipython3",
   "version": "3.7.3"
  }
 },
 "nbformat": 4,
 "nbformat_minor": 2
}

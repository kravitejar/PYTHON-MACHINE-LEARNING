{
 "cells": [
  {
   "cell_type": "code",
   "execution_count": 8,
   "metadata": {},
   "outputs": [
    {
     "ename": "SyntaxError",
     "evalue": "invalid syntax (<ipython-input-8-2a838dd70a2c>, line 8)",
     "output_type": "error",
     "traceback": [
      "\u001b[1;36m  File \u001b[1;32m\"<ipython-input-8-2a838dd70a2c>\"\u001b[1;36m, line \u001b[1;32m8\u001b[0m\n\u001b[1;33m    all_consanant_count = [ test_string.count(x) for x not in ['a','e','i','o','u']]\u001b[0m\n\u001b[1;37m                                                         ^\u001b[0m\n\u001b[1;31mSyntaxError\u001b[0m\u001b[1;31m:\u001b[0m invalid syntax\n"
     ]
    }
   ],
   "source": [
    "import math\n",
    "test_string = input(\"enter  your string\")\n",
    "count_vowels = 0 \n",
    "all_vowel_count = [ test_string.count(x) for x in ['a','e','i','o','u']]\n",
    "\n",
    "print(all_vowel_count)\n",
    "total = math.fsum(all_vowel_count)\n",
    "print(total)\n"
   ]
  },
  {
   "cell_type": "code",
   "execution_count": null,
   "metadata": {},
   "outputs": [],
   "source": [
    "Q4 and Q6"
   ]
  },
  {
   "cell_type": "code",
   "execution_count": 19,
   "metadata": {},
   "outputs": [
    {
     "name": "stdout",
     "output_type": "stream",
     "text": [
      "True\n",
      "False\n"
     ]
    },
    {
     "data": {
      "text/plain": [
       "[True, False, False, True]"
      ]
     },
     "execution_count": 19,
     "metadata": {},
     "output_type": "execute_result"
    }
   ],
   "source": [
    "\n",
    "list_words = [\"asvewavaeaep\",\"iahsnvoenweo\",\"asdfasdgasr \", \"aeiouhjkl\"]\n",
    "vowels = ['a','e','i','o','u']\n",
    "#map(, list_words)\n",
    "def checkvowelsgreater(stringword):\n",
    "    stringword = stringword.replace(\" \",\"\")\n",
    "    stringconsanant = stringword\n",
    "    all_vowel_count = [stringword.count(x) for x in vowels ]\n",
    "    a = 0\n",
    "    for x in all_vowel_count: \n",
    "        a = a + x\n",
    "    for x in vowels:    \n",
    "        stringconsanant = stringconsanant.replace(x,\"\")\n",
    "    return len(stringconsanant)<a\n",
    "   \n",
    "print(checkvowelsgreater(\"aeiouHello\"))\n",
    "print(checkvowelsgreater(\"Hello World\"))\n",
    "\n",
    "list(map(checkvowelsgreater,list_words))"
   ]
  },
  {
   "cell_type": "code",
   "execution_count": 33,
   "metadata": {},
   "outputs": [
    {
     "data": {
      "text/plain": [
       "[True, False, False, True]"
      ]
     },
     "execution_count": 33,
     "metadata": {},
     "output_type": "execute_result"
    }
   ],
   "source": [
    "import re \n",
    "pattern_vowels =\"[aeiou]\"\n",
    "pattern_consanants =\"[^aeiou]\"\n",
    "string_word = \"Hello World \"\n",
    "\n",
    "def checkvowelhigher(string_x):\n",
    "    vowelscount = len(re.findall(pattern_vowels,string_x))\n",
    "    consanantscount = len(re.findall(pattern_consanants,string_x))\n",
    "    return (vowelscount > consanantscount)\n",
    "\n",
    "list(map(checkvowelhigher,list_words))"
   ]
  },
  {
   "cell_type": "code",
   "execution_count": null,
   "metadata": {},
   "outputs": [],
   "source": [
    "Q3"
   ]
  },
  {
   "cell_type": "code",
   "execution_count": null,
   "metadata": {},
   "outputs": [],
   "source": [
    "[print(character, True) for character in a if not (character.isalnum() or character.isspace())]"
   ]
  },
  {
   "cell_type": "code",
   "execution_count": null,
   "metadata": {},
   "outputs": [],
   "source": [
    "[print(character, True) for character in a if not (character.isalnum())]"
   ]
  },
  {
   "cell_type": "code",
   "execution_count": null,
   "metadata": {},
   "outputs": [],
   "source": [
    "unique_list =[]\n",
    "duplicates = []\n",
    "dict_duplicates = {}\n",
    "def CheckDuplicate(list_input):\n",
    "    unique_list = []\n",
    "    for x in list_input:\n",
    "        if(x not in unique_list):\n",
    "            unique_list.add(x)\n",
    "        else:\n",
    "            pos = len(duplicates) + len(unique_list)\n",
    "            dict_duplicates[pos] = x"
   ]
  }
 ],
 "metadata": {
  "kernelspec": {
   "display_name": "Python 3",
   "language": "python",
   "name": "python3"
  },
  "language_info": {
   "codemirror_mode": {
    "name": "ipython",
    "version": 3
   },
   "file_extension": ".py",
   "mimetype": "text/x-python",
   "name": "python",
   "nbconvert_exporter": "python",
   "pygments_lexer": "ipython3",
   "version": "3.7.4"
  }
 },
 "nbformat": 4,
 "nbformat_minor": 2
}

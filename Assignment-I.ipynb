{
 "cells": [
  {
   "cell_type": "markdown",
   "metadata": {},
   "source": [
    "###### ASSIGNMENTS"
   ]
  },
  {
   "cell_type": "markdown",
   "metadata": {},
   "source": [
    "##### Assignment-I"
   ]
  },
  {
   "cell_type": "markdown",
   "metadata": {},
   "source": [
    "1. Write a python program to check if a string is palindrome or not?\n",
    "<br> print the result as True/False for a list of strings"
   ]
  },
  {
   "cell_type": "markdown",
   "metadata": {},
   "source": [
    "2. Write a Python program to count number of empty substrings of a given string?\n",
    "<br> Program should be able to take input at runtime"
   ]
  },
  {
   "cell_type": "markdown",
   "metadata": {},
   "source": [
    "3. Write a python program to retrieve symbols from a given string?"
   ]
  },
  {
   "cell_type": "markdown",
   "metadata": {},
   "source": [
    "4. Write a python program to count the occurence of all vowels? \n",
    "<br> For instance in the string \"Hello World\"\n",
    "<br> e -1 \n",
    "<br> o -2\n",
    "<br> Input should be fetched at runtime."
   ]
  },
  {
   "cell_type": "markdown",
   "metadata": {},
   "source": [
    "5. Generate Fibonacci Series till 100?\n"
   ]
  },
  {
   "cell_type": "markdown",
   "metadata": {},
   "source": [
    "6. print True to words having more vowels than consanants provided a list of words?\n",
    "[\"abc\",\"aba\"]\n",
    "FALSE, TRUE\n"
   ]
  },
  {
   "cell_type": "markdown",
   "metadata": {},
   "source": [
    "7. Write a program which can compute the factorial of a given number?"
   ]
  },
  {
   "cell_type": "markdown",
   "metadata": {},
   "source": [
    "8. write a program to find the frequency of all words from a paragraph, and create a dictionary of all words with word being the key and the count being it's value?\n",
    "<br> frequency should be considered ignoring word contained in another word\n",
    "\n",
    "<br>\"python runs very fast, it's runtime is very lesser, eventhough the program is running on an interpreter which has a higher runtime than an compiler based programming languages.\"\n",
    "\n",
    "<br> ** here program count is - 1 and it shouldn't be counted in the programming which will make it to 2 **\n"
   ]
  },
  {
   "cell_type": "markdown",
   "metadata": {},
   "source": [
    "9. Define a function which can generate a dictionary where the keys are numbers between 1 and 20 (both included)\n",
    "<br>\n",
    "and the values should be a dictionary with square and cube as keys and with values being it's square and cube.\n",
    "<br>\n",
    "the function should print the dictionary in pretty format?\n",
    "<br>\n",
    "{1:{\"square\":1, \"cube\": 1},2:{\"square\":4, \"cube\":8},3:{\"square\":9, \"cube\":27},..... and so on until 20"
   ]
  },
  {
   "cell_type": "markdown",
   "metadata": {},
   "source": [
    "10. write a program to find duplicates in a list?"
   ]
  },
  {
   "cell_type": "markdown",
   "metadata": {},
   "source": [
    "11. write a program to list out the duplicate indexes in list, the first occurence being non duplicate?"
   ]
  },
  {
   "cell_type": "markdown",
   "metadata": {},
   "source": [
    "12. Create a generator which can take an integer input and generate a list of numbers having integer squareroots and cuberoots?\n",
    "like\n",
    "<br> 1 --  1*1 || 1*1*1\n",
    "<br> 64 --  8*8 || 4*4*4\n",
    "<br> 729 --  27*27 || 9*9*9 \n",
    "\n",
    "\n",
    "<br>\n",
    "<br>\n",
    "<br>\n",
    "if generator is not taken please work on that using block and conditional statements"
   ]
  },
  {
   "cell_type": "code",
   "execution_count": null,
   "metadata": {},
   "outputs": [],
   "source": []
  }
 ],
 "metadata": {
  "kernelspec": {
   "display_name": "Python 3",
   "language": "python",
   "name": "python3"
  },
  "language_info": {
   "codemirror_mode": {
    "name": "ipython",
    "version": 3
   },
   "file_extension": ".py",
   "mimetype": "text/x-python",
   "name": "python",
   "nbconvert_exporter": "python",
   "pygments_lexer": "ipython3",
   "version": "3.7.4"
  }
 },
 "nbformat": 4,
 "nbformat_minor": 2
}

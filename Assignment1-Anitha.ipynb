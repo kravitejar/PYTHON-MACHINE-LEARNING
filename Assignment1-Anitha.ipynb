{
 "cells": [
  {
   "cell_type": "markdown",
   "metadata": {},
   "source": [
    "###### ASSIGNMENTS"
   ]
  },
  {
   "cell_type": "markdown",
   "metadata": {},
   "source": [
    "##### Assignment-I"
   ]
  },
  {
   "cell_type": "markdown",
   "metadata": {},
   "source": [
    "1. Write a python program to check if a string is palindrome or not?\n",
    "<br> print the result as True/False for a list of strings"
   ]
  },
  {
   "cell_type": "code",
   "execution_count": null,
   "metadata": {},
   "outputs": [
    {
     "name": "stdout",
     "output_type": "stream",
     "text": [
      "Hello\n"
     ]
    }
   ],
   "source": [
    "print(\"Hello\")\n",
    "String1=str(input(\"enter a string:\"))\n",
    "String2=String1[::-1]\n",
    "if(String1 == String2):\n",
    "    print(\"The given string is a Palindrome\")\n",
    "else:\n",
    "    print(\"The given string is not a Palindrome\")"
   ]
  },
  {
   "cell_type": "markdown",
   "metadata": {},
   "source": [
    "2. Write a Python program to count number of empty substrings of a given string?\n",
    "<br> Program should be able to take input at runtime"
   ]
  },
  {
   "cell_type": "code",
   "execution_count": null,
   "metadata": {},
   "outputs": [],
   "source": [
    "String1=str(input(\"enter a string:\"))\n",
    "result=String1.count(\" \")\n",
    "print(\"number of empty substrings {}\".format(result))\n",
    "#Splittedstring=String1.split(\" \")\n",
    "#print(Splittedstring)"
   ]
  },
  {
   "cell_type": "markdown",
   "metadata": {},
   "source": [
    "3. Write a python program to retrieve symbols from a given string?"
   ]
  },
  {
   "cell_type": "code",
   "execution_count": null,
   "metadata": {},
   "outputs": [],
   "source": [
    "import re\n",
    "String1=str(input(\"enter a string:\"))\n",
    "symbols=re.findall(\"\\W\",String1)\n",
    "symbols_only=re.findall(\"[^a-zA-Z0-9\\s]\",String1)\n",
    "print(symbols_only)\n",
    "symbols1=re.findall(\"\\S\",String1)\n",
    "for x in symbols:\n",
    "    for y in symbols1:\n",
    "        if(x==y):\n",
    "            print(x)\n",
    "            break\n",
    "        else:\n",
    "            continue\n",
    "#result=[y for x in symbols1 for y in symbols]\n",
    "\n",
    "#print(symbols)\n",
    "#print(symbols1)\n",
    "#print(result)\n"
   ]
  },
  {
   "cell_type": "code",
   "execution_count": null,
   "metadata": {},
   "outputs": [],
   "source": [
    "String1=str(input(\"enter a string:\"))\n",
    "#print[chr(x) for x in range(65,100)]\n",
    "#33-47, 58-64,91-96,123-126\n",
    "[print(character, True) for character in a if(ord(character) in range(33,47))]"
   ]
  },
  {
   "cell_type": "markdown",
   "metadata": {},
   "source": [
    "4. Write a python program to count the occurence of all vowels? \n",
    "<br> For instance in the string \"Hello World\"\n",
    "<br> e -1 \n",
    "<br> o -2\n",
    "<br> Input should be fetched at runtime."
   ]
  },
  {
   "cell_type": "code",
   "execution_count": null,
   "metadata": {},
   "outputs": [],
   "source": [
    "import re\n",
    "String1=str(input(\"enter a string:\"))\n",
    "result=re.findall(\"[aeiou]\",String1)\n",
    "print(result)\n",
    "count=0\n",
    "for x in result:\n",
    "    for y in result:\n",
    "        if(x==y):\n",
    "            count+=1\n",
    "    print(\"number of occurence of {0} in given string is {1}\" .format(x,count))\n",
    "    count=0"
   ]
  },
  {
   "cell_type": "markdown",
   "metadata": {},
   "source": [
    " 5. Generate Fibonacci Series starting from 1000 until 1100\n"
   ]
  },
  {
   "cell_type": "code",
   "execution_count": null,
   "metadata": {},
   "outputs": [],
   "source": [
    "def fibgen():\n",
    "    a=0\n",
    "    b=1\n",
    "    s=\"false\"\n",
    "    for i in range(100):\n",
    "        if a>1000 and a<1100:\n",
    "            yield a\n",
    "        a,b=b,a+b\n",
    "    "
   ]
  },
  {
   "cell_type": "code",
   "execution_count": null,
   "metadata": {},
   "outputs": [],
   "source": [
    "fibgen()"
   ]
  },
  {
   "cell_type": "code",
   "execution_count": null,
   "metadata": {},
   "outputs": [],
   "source": [
    "for x in fibgen():\n",
    "    print(x)"
   ]
  },
  {
   "cell_type": "markdown",
   "metadata": {},
   "source": [
    "6. print True to words having more vowels than consanants provided a list of words?\n"
   ]
  },
  {
   "cell_type": "code",
   "execution_count": null,
   "metadata": {},
   "outputs": [],
   "source": [
    "import re\n",
    "strings=[\"hellow\",\"ath\",\"world\",\"abiocudie\"]\n",
    "def function1(String1):\n",
    "    result=re.findall(\"[aeiou]\",String1)\n",
    "    result1=re.findall(\"[^aeiou]\",String1)\n",
    "    print(result,result1)\n",
    "    a=len(result)\n",
    "    b=len(result1)\n",
    "    print(a,b)\n",
    "    return a>b\n",
    "    \n",
    "print(list(map(function1,strings)))"
   ]
  },
  {
   "cell_type": "markdown",
   "metadata": {},
   "source": [
    "7. Write a program which can compute the factorial of a given number?"
   ]
  },
  {
   "cell_type": "code",
   "execution_count": null,
   "metadata": {},
   "outputs": [],
   "source": [
    "def factorial(n):\n",
    "    return 1 if(n==0 or n==1) else n*factorial(n-1)\n",
    "\n",
    "number=int(input(\"enter a number:\"))\n",
    "print(\"factorial :\", factorial(number))\n",
    "           \n"
   ]
  },
  {
   "cell_type": "markdown",
   "metadata": {},
   "source": [
    "8. write a program to find the frequency of all words from a paragraph, and create a dictionary of all words with word being the key and the count being it's value?\n",
    "<br> frequency should be considered ignoring word contained in another word\n",
    "\n",
    "<br>\"python runs very fast, it's runtime is very lesser, eventhough the program is running on an interpreter which has a higher runtime than an compiler based programming languages.\"\n",
    "\n",
    "<br> ** here program count is - 1 and it shouldn't be counted in the programming which will make it to 2 **\n"
   ]
  },
  {
   "cell_type": "code",
   "execution_count": null,
   "metadata": {},
   "outputs": [],
   "source": [
    "import re\n",
    "paragraph=\"\"\"Define a function which can generate a dictionary where the keys are numbers between 1 and 20 (both included)\n",
    "and the values should be a dictionary with square and cube as keys and with values being it's square and cube. \n",
    "the function should print the dictionary in pretty format \"\"\"\n",
    "result=re.findall(\"\\w+\",paragraph)\n",
    "#print(result)\n",
    "print([{x:result.count(x)} for x in result])"
   ]
  },
  {
   "cell_type": "markdown",
   "metadata": {},
   "source": [
    "9. Define a function which can generate a dictionary where the keys are numbers between 1 and 20 (both included)\n",
    "<br>\n",
    "and the values should be a dictionary with square and cube as keys and with values being it's square and cube.\n",
    "<br>\n",
    "the function should print the dictionary in pretty format?\n",
    "<br>\n",
    "{1:{\"square\":1, \"cube\": 1},2:{\"square\":4, \"cube\":8},3:{\"square\":9, \"cube\":27},..... and so on until 20"
   ]
  },
  {
   "cell_type": "code",
   "execution_count": null,
   "metadata": {},
   "outputs": [],
   "source": [
    "square=lambda s:s**2\n",
    "cube=lambda c:c**3\n",
    "\n",
    "print([{x:{\"square\":square(x),\"cube\":cube(x)}} for x in range(1,21)])"
   ]
  },
  {
   "cell_type": "markdown",
   "metadata": {},
   "source": [
    "10. write a program to find duplicates in a list?"
   ]
  },
  {
   "cell_type": "code",
   "execution_count": null,
   "metadata": {},
   "outputs": [],
   "source": [
    "example_list=[2,3,4,5,1,2,4,6,7]\n",
    "a=[]\n",
    "#count_list=[example_list.count(x) for x in example_list]\n",
    "#print(count_list)\n",
    "#answer=[x for x in example_list if(example_list.count(x))>1]\n",
    "#print(answer)\n",
    "for x in example_list:\n",
    "    if x not in a:\n",
    "        if(example_list.count(x))>1:\n",
    "            a.append(x)\n",
    "print(a)        \n"
   ]
  },
  {
   "cell_type": "markdown",
   "metadata": {},
   "source": [
    "11. write a program to list out the duplicate indexes in list, the first occurence being non duplicate?"
   ]
  },
  {
   "cell_type": "code",
   "execution_count": null,
   "metadata": {},
   "outputs": [],
   "source": [
    "example_list=[2,3,4,5,1,2,4,6,7]\n",
    "a=[]\n",
    "for x in example_list:\n",
    "    if x not in a:\n",
    "        if(example_list.count(x))>1:\n",
    "            a.append(x)\n",
    "print(a) \n",
    "\n",
    "for x in a:\n",
    "    print(\"index of {} is {}\".format(x,example_list.index(x)))\n"
   ]
  },
  {
   "cell_type": "code",
   "execution_count": null,
   "metadata": {},
   "outputs": [],
   "source": []
  },
  {
   "cell_type": "code",
   "execution_count": null,
   "metadata": {},
   "outputs": [],
   "source": [
    "a =[\"abc\",\"1\",4,3,4,2,3,3,2,\"abc\"]\n",
    "dict_1 = {}\n",
    "for x in range(len(a)):\n",
    "    #print(a[x], a.index(a[x]))\n",
    "    if not (a[x] in dict_1.values()):\n",
    "        dict_1[a.index(a[x])] = a[x]\n",
    "        #dict_1[a.index(a[x])] = a[x]\n",
    "    else: \n",
    "        print(\"Duplicated: \",a[x],\"at position\", x)"
   ]
  },
  {
   "cell_type": "code",
   "execution_count": null,
   "metadata": {},
   "outputs": [],
   "source": [
    "unique_list =[]\n",
    "duplicates = []\n",
    "dict_duplicates = {}\n",
    "def CheckDuplicate(list_input):\n",
    "    unique_list = []\n",
    "    for x in list_input:\n",
    "        if(x not in unique_list):\n",
    "            unique_list.add(x)\n",
    "        else:\n",
    "            pos = len(duplicates) + len(unique_list)\n",
    "            dict_duplicates[pos] = x"
   ]
  },
  {
   "cell_type": "markdown",
   "metadata": {},
   "source": [
    "12. Create a generator which can take an integer input and generate a list of numbers having integer squareroots and cuberoots?\n",
    "like\n",
    "<br> 1 --  1*1 || 1*1*1\n",
    "<br> 64 --  8*8 || 4*4*4\n",
    "<br> 729 --  27*27 || 9*9*9 \n",
    "\n",
    "\n",
    "<br>\n",
    "<br>\n",
    "<br>\n",
    "if generator is not taken please work on that using block and conditional statements"
   ]
  },
  {
   "cell_type": "code",
   "execution_count": null,
   "metadata": {},
   "outputs": [],
   "source": [
    "import math\n",
    "\n",
    "def func1(val):\n",
    "    for x in range(val):\n",
    "        y=math.sqrt(x)\n",
    "        z=x**(1/3)\n",
    "        if y.is_integer():\n",
    "            print(\"square root of {} having integer value is {}\" .format(x,int(y)))\n",
    "        if z.is_integer():\n",
    "            print(\"cube root of {} having integer value is {}\" .format(x,int(z)))\n",
    "               \n",
    "\n",
    "value=int(input(\"enter a interger:\"))\n",
    "func1(value)\n",
    "        \n",
    "  "
   ]
  },
  {
   "cell_type": "code",
   "execution_count": null,
   "metadata": {},
   "outputs": [],
   "source": [
    "[print(character, True) for character in a if not (character.isalnum() or character.isspace())]"
   ]
  },
  {
   "cell_type": "code",
   "execution_count": null,
   "metadata": {},
   "outputs": [],
   "source": [
    "[print(character, True) for character in a if(ord(character) in range(33,47))]"
   ]
  },
  {
   "cell_type": "code",
   "execution_count": null,
   "metadata": {},
   "outputs": [],
   "source": []
  }
 ],
 "metadata": {
  "kernelspec": {
   "display_name": "Python 3",
   "language": "python",
   "name": "python3"
  },
  "language_info": {
   "codemirror_mode": {
    "name": "ipython",
    "version": 3
   },
   "file_extension": ".py",
   "mimetype": "text/x-python",
   "name": "python",
   "nbconvert_exporter": "python",
   "pygments_lexer": "ipython3",
   "version": "3.7.4"
  }
 },
 "nbformat": 4,
 "nbformat_minor": 2
}

{
 "cells": [
  {
   "cell_type": "markdown",
   "metadata": {},
   "source": [
    "### Data Types "
   ]
  },
  {
   "cell_type": "markdown",
   "metadata": {},
   "source": [
    "**Numbers**<br>\n",
    "**strings**<br>\n",
    "**List**<br>\n",
    "**Tuple**<br>\n",
    "**Set** <br>\n",
    "**Dictionary**<br>"
   ]
  },
  {
   "cell_type": "markdown",
   "metadata": {},
   "source": [
    "**Numbers**\n",
    "Integers , Float, Complex\n",
    "\n",
    "**String Data Types**\n",
    "\n",
    "Single Line String,\n",
    "Multiline Strings\n",
    "\n",
    "**List **\n",
    "List is ordered sequence of items, Different type of data, ,<br>\n",
    "List is mutable (ie) Value can be changed at anytime by indexing. \n",
    "(ie)\n",
    "<br>\n",
    "ways of initiating\n",
    "a = [1,2], a= list(1,2)\n",
    "<br>\n",
    "**Tuple**\n",
    "It is also having different type of data.\n",
    "It's immutable, Value can't be changed with indexing.\n",
    "<br> \n",
    "ways of initiating\n",
    "<br>\n",
    "a =(1,2),a = tuple(1,2) \n",
    "<br>\n",
    "a =1,2\n",
    "<br>\n",
    "**Set** \n",
    "Unordered Collection of unique type of data or similar type of data.\n",
    "<br> \n",
    "ways of initiating\n",
    "<br>\n",
    "a = {1,2},a = set(1,2)\n",
    "<br>\n",
    "**Dictionary**\n",
    "Dictionary is collection of key, value pairs\n",
    "<br> \n",
    "ways of initiating\n",
    "<br>a = {1:\"1\",\"2\":2}\n",
    "<br>a = {} \n",
    "<br>a = dict({1:\"2\",\"2\":4})\n"
   ]
  },
  {
   "cell_type": "markdown",
   "metadata": {},
   "source": [
    "### Type conversion in python"
   ]
  },
  {
   "cell_type": "code",
   "execution_count": null,
   "metadata": {},
   "outputs": [],
   "source": [
    "a =2.12345\n",
    "print(a, type(a))\n",
    "b = int(a)\n",
    "print(b,type(b))\n",
    "c= str(a)\n",
    "#c =\"a\"\n",
    "print(c, type(c))\n",
    "c1 = None\n",
    "print(c1, type(c1))\n",
    "print(\"##########\")\n",
    "d= bool(c)\n",
    "print(d, type(d))\n",
    "d1 = bool(c1)\n",
    "print(d1, type(d1))\n",
    "print(\"##########\")\n",
    "e = None # Nothing or null or No value\n",
    "print(e, type(e))\n",
    "f = bool(e)\n",
    "\n",
    "print(f, type(f))"
   ]
  },
  {
   "cell_type": "code",
   "execution_count": null,
   "metadata": {},
   "outputs": [],
   "source": [
    "a = 17\n",
    "b = oct(a)\n",
    "print(b)\n",
    "c = hex(a)\n",
    "print(c)\n",
    "#b = int(\"17\",16)\n",
    "#print(b)"
   ]
  },
  {
   "cell_type": "markdown",
   "metadata": {},
   "source": [
    "**Numbers Data Type **\n"
   ]
  },
  {
   "cell_type": "code",
   "execution_count": null,
   "metadata": {},
   "outputs": [],
   "source": [
    "a= 5\n",
    "b= 2.0\n",
    "c= 1.0+2j\n",
    "d = 1+1j\n",
    "e =\"1\"\n",
    "print(type(a))\n",
    "print(type(b))\n",
    "print(type(c))\n",
    "print(type(d))\n",
    "print(type(e))\n",
    "print(a+b)\n",
    "print(b+c)\n",
    "print(a+b+c)\n",
    "print(a+b+c+d)\n",
    "print(str(d)+e) # arithmetic operation is not possible between different operand types int and str"
   ]
  },
  {
   "cell_type": "markdown",
   "metadata": {},
   "source": [
    "**String**\n"
   ]
  },
  {
   "cell_type": "markdown",
   "metadata": {},
   "source": [
    "**String Can be multiline or single line** <br>\n",
    "**Single Line String wrapped in single quotes/double quotes**<br>\n",
    "a = \"Hello, welcome to python\"<br>\n",
    "b = 'Hello, welcome to python'<br>\n",
    "    <b>\n",
    "    <i>\n",
    "    <u>Multiline String</u>\n",
    "    </i>\n",
    "    </b>\n",
    "    <br>\n",
    "    <br>\n",
    "    <br>\n",
    "Multi_a = \"\"\"This is a multiline string <br>\n",
    "            which contains multiple lines of data<br>\n",
    "            It has to be enclosed in three sets of single/double quotes\"\"\"<br>\n",
    "            <br>\n",
    "            <br>\n",
    "            <br>\n",
    "Multi_a = '''This is a multiline string <br>\n",
    "            which contains multiple lines of data<br>\n",
    "            It has to be enclosed in three sets of single/double quotes'''<br>\n",
    "#Escape Sequence\n",
    "escape_doublequote = \"Hello\\\", welcome to python\"\n",
    "print(escape_doublequote)\n",
    "    "
   ]
  },
  {
   "cell_type": "code",
   "execution_count": null,
   "metadata": {
    "scrolled": true
   },
   "outputs": [],
   "source": [
    "#Single Line String\n",
    "print(\"#########################Single Line String########################\")\n",
    "\n",
    "a = \"Hello welcome \\\\ to python\"\n",
    "print(type(a)) \n",
    "print(a)\n",
    "b = 'Hello\", welcome to python'\n",
    "print(b)\n",
    "print(\"######################### Escape Sequences########################\")\n",
    "\n",
    "print(\"Escape Sequence \\\"\")\n",
    "print(\"Escape Sequence \\\\\")\n",
    "\n",
    "a = \"Hello\\\", welcome to python\"\n",
    "print(a)\n",
    "a = \"Hello \\ , welcome to python_1\"\n",
    "print(a)\n",
    "b = 'Hello\\', welcome to python'\n",
    "print(b)\n",
    "print(\"#########################Multiline Strings########################\")\n",
    "#Multiline String\n",
    "Multi_a = \"\"\"This is a multiline string \n",
    "            which contains multiple lines of data\n",
    "            It has to be enclosed in three sets of single/double quotes\"\"\"\n",
    "#anything here is a comment\n",
    "Multi_b = '''This is a multil'ine string \n",
    "            which contains mult'iple lines of data\n",
    "            It has to be enclose'd in \"\"\" three sets of single/double quotes'''\n",
    "\n",
    "print(Multi_a)\n",
    "print(Multi_b)\n",
    "#Escape Sequence\n",
    "escape_doublequote = \"Hello\\\", welcome to python\"\n",
    "print(escape_doublequote)"
   ]
  },
  {
   "cell_type": "markdown",
   "metadata": {},
   "source": [
    "<h3>Methods in String Data Type</h3>\n",
    "<ol type = \"A\">\n",
    "    <li>Capitalize</li>\n",
    "    <li>Casefold</li>\n",
    "    <li>Center</li>\n",
    "    <li>Count</li>\n",
    "    <li>Encode</li>\n",
    "    <li>Endswith</li>\n",
    "    <li>Expandtabs</li>\n",
    "    <li>Find</li>\n",
    "    <li>Split</li>\n",
    "    <li>Rsplit</li>\n",
    "    <li>Splitlines</li>\n",
    "    <li>Title</li>\n",
    "    <li>Index</li>\n",
    "    <li>Isalnum</li>\n",
    "    <li>Isalpha</li>\n",
    "    <li>Isdecimal</li>\n",
    "    <li>Rpartition</li>\n",
    "    <li>Substring</li> \n",
    "    <li>Lower</li>\n",
    "    <li>Upper</li>\n",
    "    <li>Strip</li>\n",
    "    <li>RStrip</li>\n",
    "    <li>LStrip</li>\n",
    "</ol>\n",
    "\n"
   ]
  },
  {
   "cell_type": "code",
   "execution_count": null,
   "metadata": {
    "scrolled": true
   },
   "outputs": [],
   "source": [
    "# Capitalize - capitalizes the start of the string \n",
    "a =\"welcome to python\"\n",
    "b = a.capitalize()\n",
    "print(b)"
   ]
  },
  {
   "cell_type": "code",
   "execution_count": null,
   "metadata": {},
   "outputs": [],
   "source": [
    "# case fold -  Converts all the characters to lower\n",
    "#c = \"123Hello\"\n",
    "a = \"HeLlO worLd\"\n",
    "b = a.casefold()\n",
    "\n",
    "print(b)\n",
    "print(b.casefold())\n"
   ]
  },
  {
   "cell_type": "code",
   "execution_count": null,
   "metadata": {},
   "outputs": [],
   "source": [
    "#Lower - Converts all the characters to lower case\n",
    "a = \"THis is Python WorlD\"\n",
    "b =  a.lower()\n",
    "print(b)\n",
    "print(b.islower())"
   ]
  },
  {
   "cell_type": "code",
   "execution_count": null,
   "metadata": {},
   "outputs": [],
   "source": [
    "#Upper - Converts all the characters to Upper case\n",
    "a = \"THis is Python WorlD\"\n",
    "b =  a.upper()\n",
    "print(b)\n",
    "print(b.isupper())"
   ]
  },
  {
   "cell_type": "code",
   "execution_count": null,
   "metadata": {},
   "outputs": [],
   "source": [
    "#Title - Converts string into camel case\n",
    "a = \"THis is PyThOn WorlD\"\n",
    "b =  a.title()\n",
    "print(b)\n",
    "print(b.istitle())"
   ]
  },
  {
   "cell_type": "code",
   "execution_count": null,
   "metadata": {
    "scrolled": true
   },
   "outputs": [],
   "source": [
    "#Center\n",
    "mytext = \"India\"\n",
    "print(len(mytext))\n",
    "AB =20\n",
    "centermytext = mytext.center(AB)\n",
    "print(centermytext)\n",
    "centermytext = mytext.center(AB,\"@\")\n",
    "print(centermytext)\n",
    "centermytext = mytext.center(11,\"$\")\n",
    "print(centermytext)\n",
    "mytext = \"Russia\"\n",
    "centermytext = mytext.center(20)\n",
    "print(centermytext)\n",
    "centermytext = mytext.center(20,\"$\")\n",
    "print(centermytext)\n",
    "centermytext = mytext.center(11,\"$\")\n",
    "print(centermytext)\n"
   ]
  },
  {
   "cell_type": "code",
   "execution_count": null,
   "metadata": {},
   "outputs": [],
   "source": [
    "## Replace\n",
    "a = \"Hellolllll World\"\n",
    "a = a.replace(\"World\",\"$\")\n",
    "print(a)\n",
    "a = a.replace(\"l\",\"$\")\n",
    "print(a)\n",
    "#a = a.replace(\"Hi\",\"Hello\")\n",
    "#print(a)\n",
    "a = a.replace(\"o\",\"\")\n",
    "print(a)\n",
    "a = a.replace(\"$\",\"\")\n",
    "print(a)"
   ]
  },
  {
   "cell_type": "code",
   "execution_count": null,
   "metadata": {},
   "outputs": [],
   "source": [
    "#Find \n",
    "mytext  = \"python is a best is language\"\n",
    "result =   mytext.find(\"thon\")\n",
    "print(result)\n",
    "result = mytext.find(\"language\")\n",
    "print(result)\n",
    "result = mytext.find(\" \")\n",
    "print(result)\n",
    "result = mytext.find(\"is\")\n",
    "print(result)\n",
    "print(\"Find from right\")\n",
    "result = mytext.rfind(\"is\")\n",
    "print(result)\n",
    "## when the data is not available it will result to -1 in find method\n",
    "result = mytext.find(\"India\")\n",
    "print(result)\n",
    "result = mytext.rfind(\"is\")\n",
    "print(result)"
   ]
  },
  {
   "cell_type": "code",
   "execution_count": null,
   "metadata": {},
   "outputs": [],
   "source": [
    "#Index - Check the occurence of a string in a string and returns its index position\n",
    "mytext  = \"python is a best  language\"\n",
    "\n",
    "\n",
    "result =   mytext.index(\"python\")\n",
    "print(result)\n",
    "result = mytext.index(\"language\")\n",
    "print(result)\n",
    "result = mytext.index(\"a\")\n",
    "print(result) \n",
    "result = mytext.rindex(\"a\")\n",
    "print(result) \n",
    "result = mytext.index(\"abc\")\n",
    "print(result) \n",
    "\n"
   ]
  },
  {
   "cell_type": "code",
   "execution_count": null,
   "metadata": {},
   "outputs": [],
   "source": [
    "def findallpythonpositions(searchstring,searchtext):\n",
    "    intialfindpos = 0\n",
    "    for x in range(searchstring.count(searchtext)):\n",
    "        startindex = searchstring.find(searchtext)\n",
    "        print(startindex + intialfindpos)\n",
    "        endindex = searchstring.find(searchtext) + len(searchtext)\n",
    "        intialfindpos = intialfindpos + endindex\n",
    "        searchstring = searchstring[endindex:]\n",
    "        #print(searchstring)                                      \n",
    "\n",
    "mytext  = \"python is a best python language python\"\n",
    "searchtext = \"python\"                                        \n",
    "findallpythonpositions(mytext,searchtext)"
   ]
  },
  {
   "cell_type": "code",
   "execution_count": null,
   "metadata": {},
   "outputs": [],
   "source": [
    "searchablestring = input(\"Enter the string where you want to search\")\n",
    "searchstring = input(\"Enter the string which you want to search\")\n",
    "findallpythonpositions(searchablestring,searchstring)"
   ]
  },
  {
   "cell_type": "code",
   "execution_count": null,
   "metadata": {},
   "outputs": [],
   "source": [
    "#Count \n",
    "infotext  = \"Welcome to my World, The World is too good to live\"\n",
    "infotext_1  = \"Welcome to my World, The World is too good to live\"\n",
    "print(infotext.count(\"World\"))\n",
    "result = infotext.count(\"World\")\n",
    "print(\"all occurence count %d %s\" %(result,\"World\"))\n",
    "result = infotext.count(\"World\",20)\n",
    "print(\"occurence between 20th index and end of string count is %d\" %result)\n",
    "result = infotext.count(\"World\",14,20)\n",
    "print(\"occurence between 14th index and 20th index count is  %d\" %result)\n",
    "result = infotext.count(infotext)\n",
    "print(\"occurence of entire string {0}\".format(result))\n",
    "#Note: \n",
    "#Calculate the count of all words in the given string \n",
    "[print( \" \\n \"+ x + \" - Count - {}\".format(infotext.count(x))) for x in infotext.split()]\n",
    "None"
   ]
  },
  {
   "cell_type": "code",
   "execution_count": null,
   "metadata": {},
   "outputs": [],
   "source": [
    "print(\"Hi\")"
   ]
  },
  {
   "cell_type": "code",
   "execution_count": null,
   "metadata": {
    "scrolled": false
   },
   "outputs": [],
   "source": [
    "#Substring\n",
    "#: stands for sequence\n",
    "#[] stands for the position holders\n",
    "#value before the : is the start sequence, after the colon is the end sequence\n",
    "# start: end: step\n",
    "TestString = \"Hello Python\" \n",
    "print(TestString[0])\n",
    "print(TestString[6])\n",
    "print(\"#################################\")\n",
    "\n",
    "print(TestString[0:5])\n",
    "print(TestString[:6])\n",
    "print(TestString[6:15])\n",
    "print(TestString[5:])\n",
    "\n",
    "print(TestString[-5:-1])\n",
    "\n",
    "print(\"#### start index is greater than end ####\")\n",
    "print(TestString[-1:-5])\n",
    "\n",
    "#print(TestString[::-1])\n",
    "print(\"##################################\")\n",
    "print(\"Hello Python\")\n",
    "print(TestString[::-1])\n",
    "print(\"##################################\")\n",
    "print(TestString[-3:-5])\n",
    "print(TestString[:])\n",
    "print(\"###############Indexing with step##################\")\n",
    "print(TestString[:-1:2])\n",
    "print(\"###################################\")\n",
    "print(TestString[0:-1:3])\n",
    "#Reverse a string\n",
    "print(TestString[::1])\n",
    "print(TestString[::2])\n",
    "print(\"#####################################\")\n",
    "print(TestString[::3])\n",
    "print(TestString[::-1])\n",
    "print(TestString[::-2])"
   ]
  },
  {
   "cell_type": "code",
   "execution_count": null,
   "metadata": {},
   "outputs": [],
   "source": [
    "#Alpha, Alphanumeric and Decimal Checking\n",
    "myalpha =\"abcd\" #contains characters [a-zA-Z]\n",
    "myalphanumeric = \"abcdef123\" #contains characters [a-zA-Z0-9]\n",
    "mynotalphanumeric= \"&abcdef123\" # Not fitting all three cases (Contain a symbol)\n",
    "mydecimal =\"123\" #contains characters [0-9]\n",
    "\n",
    "print(\"myalpa string is alpha - {}\".format(myalpha.isalpha()))\n",
    "print(\"myalphanumeric string is alpha - {}\".format(myalphanumeric.isalpha()))\n",
    "print(\"mynotalphanumeric string is alpha - {}\".format(mynotalphanumeric.isalpha()))\n",
    "print(\"mydecimal string is alpha - {}\".format(mydecimal.isalpha()))\n",
    "print(\"\\n\")\n",
    "print(\"myalpa string is alphanumeric - {}\".format(myalpha.isalnum()))\n",
    "print(\"myalphanumeric string is alphanumeric - {}\".format(myalphanumeric.isalnum()))\n",
    "print(\"mynotalphanumeric string is alphanumeric - {}\".format(mynotalphanumeric.isalnum()))\n",
    "print(\"mydecimal string is alphanumeric - {}\".format(mydecimal.isalnum()))\n",
    "print(\"\\n\")\n",
    "print(\"myalpa string is decimal - {}\".format(myalpha.isdecimal()))\n",
    "print(\"myalphanumeric string is decimal - {}\".format(myalphanumeric.isdecimal()))\n",
    "print(\"mynotalphanumeric string is decimal - {}\".format(mynotalphanumeric.isdecimal()))\n",
    "print(\"mydecimal string is decimal - {}\".format(mydecimal.isdecimal()))"
   ]
  },
  {
   "cell_type": "code",
   "execution_count": null,
   "metadata": {},
   "outputs": [],
   "source": [
    "#Startswith, #Endswith\n",
    "\n",
    "infotext =  \"Welcome to Python\"\n",
    "\n",
    "print(\"######################\")\n",
    "print(infotext.startswith(\"Welcome\"))\n",
    "print(\"######################\")\n",
    "print(infotext[5:])\n",
    "print(infotext.startswith(\"Welcome\",5))\n",
    "print(\"######################\")\n",
    "print(infotext[0:8])\n",
    "print(infotext.startswith(\"Welcome\",0,8))\n",
    "print(\"######################\")\n",
    "print(\"################-EndsWith-######################\")\n",
    "print(infotext.endswith(\"Python\"))\n",
    "print(\"######################\")\n",
    "print(infotext[0:7])\n",
    "print(infotext.endswith(\"Welcome\",0,7)) \n",
    "print(\"######################\")\n",
    "print(infotext[2:8])\n",
    "print(infotext.endswith(\"Welcome\",2,7))\n",
    "print(\"######################\")\n",
    "\n",
    "infotext1 =  \"Welcome to Python \"\n",
    "print(infotext1[0:8])\n",
    "print(infotext1.startswith(\"Welcome\",0,8))\n",
    "print(infotext1.endswith(\"Welcome\",0,8))\n"
   ]
  },
  {
   "cell_type": "code",
   "execution_count": null,
   "metadata": {},
   "outputs": [],
   "source": [
    "print(\"welcome to my world1\")\n",
    "print(\"welcome to \\n my w\\t o\\t rld\\t2\")\n",
    "print(\"welcome to m\\ty\\two\\trld\\t3\")\n",
    "    #\n",
    "# Expand Tabs \n",
    "#===============================================================================\n",
    "#mytabbedstring = \"H    e    l    l    o\"\n",
    "\n",
    "print(\"#################################\")\n",
    "mytabbedstring = \"H\\te\\tl\\tl\\to\"\n",
    "print(mytabbedstring)\n",
    "print(mytabbedstring.expandtabs(0))\n",
    "print(mytabbedstring.expandtabs(2))\n",
    "print(mytabbedstring.expandtabs(4))\n",
    "print(mytabbedstring.expandtabs(tabsize = 5))\n",
    "print(mytabbedstring.expandtabs(6))\n",
    "print(mytabbedstring.expandtabs(8))\n",
    "print(mytabbedstring.expandtabs(20))\n",
    "print(\"\\n\")"
   ]
  },
  {
   "cell_type": "code",
   "execution_count": null,
   "metadata": {},
   "outputs": [],
   "source": [
    "#Split\n",
    "Fruits = \"apple,orange, grapes, guava, pineapple\"\n",
    "#Split(\"characterseparator\",max) max  -maximum no of times to split\n",
    "AllFruits = Fruits.split()\n",
    "print(AllFruits)\n",
    "AllFruits = Fruits.split(\",\")\n",
    "print(AllFruits)\n",
    "ThreeFruits = Fruits.split(\",\",2)\n",
    "print(ThreeFruits)"
   ]
  },
  {
   "cell_type": "code",
   "execution_count": null,
   "metadata": {},
   "outputs": [],
   "source": [
    "print(' and '.join(ThreeFruits))\n",
    "print(' and '.join(AllFruits))"
   ]
  },
  {
   "cell_type": "code",
   "execution_count": null,
   "metadata": {},
   "outputs": [],
   "source": [
    "#Split Lines \n",
    "multilinestring = \"\"\"India is a vast South Asian country with diverse terrain –\n",
    "                from Himalayan peaks to Indian Ocean coastline – and history reaching back 5 millennia.\n",
    "                In the north, Mughal Empire landmarks include Delhi’s Red Fort complex\n",
    "                and massive Jama Masjid mosque, plus Agra’s iconic Taj Mahal mausoleum. \n",
    "                Pilgrims bathe in the Ganges in Varanasi,and Rishikesh is a yoga centre and base for Himalayan trekking.\"\"\"\n",
    "\n",
    "Y  = multilinestring.splitlines(True)# True -> preseve new line character\n",
    "print(Y)\n",
    "print(\"#############################\")\n",
    "for x in Y:\n",
    "    print(x)\n",
    "print(\"#############################\")\n",
    "IgnoreNewlineCharacter = multilinestring.splitlines()# Default the New line will be ignored -- False\n",
    "print(IgnoreNewlineCharacter)\n",
    "print(\"#############################\")\n",
    "[print(x) for x in IgnoreNewlineCharacter]"
   ]
  },
  {
   "cell_type": "code",
   "execution_count": null,
   "metadata": {},
   "outputs": [],
   "source": [
    "#Partition - Splits the string as  before match, match and after match, returns it as a tuple\n",
    "infotext  = \"this is my world, my people will live here 123\"\n",
    "result = infotext.partition(\"my\")\n",
    "print(result)\n",
    "print(\"######################\")\n",
    "result = infotext.partition(\"123\")\n",
    "print(result)\n",
    "print(\"######################\")\n",
    "infotext  = \"Welcome to my World, The World is too good to live\"\n",
    "result = infotext.partition(\"World\")\n",
    "print(result)\n",
    "print(\"######################\")\n",
    "print(infotext.split(\"World\"))\n",
    "print(\"######################\")\n"
   ]
  },
  {
   "cell_type": "code",
   "execution_count": null,
   "metadata": {},
   "outputs": [],
   "source": [
    "#Strip Operations\n",
    "#Strip - Strips characters at both end of the string\n",
    "#Rstrip - Strips characters at Right end of the string\n",
    "#Lstrip - Strips characters at left end of the string\n",
    "#input string a with whitespaces at corners\n",
    "a  = \" Ode on a Grecian Urts \"\n",
    "#strip\n",
    "b = a.strip()\n",
    "print(b)\n",
    "#lstrip\n",
    "b = a.lstrip()\n",
    "print(b)\n",
    "#Rstrip\n",
    "b = a.rstrip()\n",
    "print(b)\n",
    "print(\"################\")\n",
    "#Stripping with characters\n",
    "a  = \",,,,,????... Ode on a Grecian Urtsssss ....,,,\"\n",
    "#strip\n",
    "b = a.strip(\"., \")\n",
    "print(b)\n",
    "#lstrip\n",
    "b = a.lstrip(\",. \")#stops stripping after encountering a different character ? is not a stripping character here, hence stopped.\n",
    "print(b)\n",
    "#Rstrip\n",
    "b = a.rstrip(\",.s \")\n",
    "print(b)\n",
    "\n"
   ]
  },
  {
   "cell_type": "code",
   "execution_count": null,
   "metadata": {},
   "outputs": [],
   "source": [
    "#Encoding \n",
    "# String Encode Function \n",
    "\n",
    "# encode #execute this in command prompt, it depends upon the ide which supports the special character\n",
    "myencodedstring  = \"I åm leărninåg Ã PythŠoÂn\"\n",
    "print(myencodedstring.encode(encoding = 'ascii', errors = 'backslashreplace'))\n",
    "print(myencodedstring.encode(encoding = 'ascii', errors = 'ignore'))\n",
    "print(myencodedstring.encode(encoding = 'ascii', errors = 'namereplace'))\n",
    "#print(myencodedstring.encode(encoding = 'ascii', errors = 'strict'))\n",
    "print(myencodedstring.encode(encoding = 'ascii', errors = 'replace'))\n",
    "print(myencodedstring.encode(encoding = 'ascii', errors = 'xmlcharrefreplace'))\n",
    "print(\"\\n\")\n",
    "print(myencodedstring.encode(encoding = 'cp437', errors = 'backslashreplace'))\n",
    "print(myencodedstring.encode(encoding = 'cp437', errors = 'ignore'))\n",
    "print(myencodedstring.encode(encoding = 'cp437', errors = 'namereplace'))"
   ]
  },
  {
   "cell_type": "markdown",
   "metadata": {},
   "source": [
    "# Lists\n",
    "\n",
    "Earlier when discussing strings we introduced the concept of a *sequence* in Python. Lists can be thought of the most general version of a *sequence* in Python. Unlike strings, they are mutable, meaning the elements inside a list can be changed!\n",
    "\n",
    "In this section we will learn about:\n",
    "    \n",
    "    1.) Creating lists\n",
    "    2.) Indexing and Slicing Lists\n",
    "    3.) Basic List Methods\n",
    "    4.) Nesting Lists\n",
    "    5.) Introduction to List Comprehensions\n",
    "\n",
    "Lists are constructed with brackets [] and commas separating every element in the list.\n",
    "\n",
    "Let's go ahead and see how we can construct lists!"
   ]
  },
  {
   "cell_type": "code",
   "execution_count": null,
   "metadata": {},
   "outputs": [],
   "source": [
    "\n",
    "# Assign a list to an variable named my_list\n",
    "list1 = []\n",
    "list2 = list()\n",
    "my_list = [1,2.0,3+4j,False, \"Hello World\"]\n",
    "my_list_2 = [1,2.0,3+4j,False, \"Hello World\",[True, False, True, 123,\"one two three\"],{1,2,3},(1,2,3),{1:2,2:3,3:4}]\n",
    "print(type(list1))\n",
    "print(type(list2))\n",
    "print(type(my_list))\n",
    "print(\"##########################\")\n",
    "for item in my_list:\n",
    "    print(type(item))\n",
    "print(\"##########################\")\n",
    "for item in my_list_2:\n",
    "    print(type(item))"
   ]
  },
  {
   "cell_type": "code",
   "execution_count": null,
   "metadata": {},
   "outputs": [],
   "source": [
    "my_list1 = [4.0,5.0,6]\n",
    "my_list2 = [4,5.0+3j,\"abc\"]"
   ]
  },
  {
   "cell_type": "code",
   "execution_count": null,
   "metadata": {},
   "outputs": [],
   "source": [
    "print(my_list1)\n",
    "print(my_list2)"
   ]
  },
  {
   "cell_type": "code",
   "execution_count": null,
   "metadata": {},
   "outputs": [],
   "source": [
    "list_combined =my_list1+my_list2 + [7.0,8.0,9+2j]\n",
    "print(list_combined)"
   ]
  },
  {
   "cell_type": "code",
   "execution_count": null,
   "metadata": {},
   "outputs": [],
   "source": [
    "#Combining lists \n",
    "my_list1 =my_list1+my_list2 + [7.0,8.0,9+2j]\n",
    "print(my_list1)"
   ]
  },
  {
   "cell_type": "markdown",
   "metadata": {},
   "source": [
    "### Indexing and Slicing\n",
    "Indexing and slicing work just like in strings. Let's make a new list to remind ourselves of how this works:"
   ]
  },
  {
   "cell_type": "code",
   "execution_count": null,
   "metadata": {},
   "outputs": [],
   "source": [
    "#just take the 1st element at the list\n",
    "list_combined[0]"
   ]
  },
  {
   "cell_type": "code",
   "execution_count": null,
   "metadata": {},
   "outputs": [],
   "source": [
    "#retrive the 1st element until third\n",
    "list_combined[0:3]"
   ]
  },
  {
   "cell_type": "code",
   "execution_count": null,
   "metadata": {},
   "outputs": [],
   "source": [
    "list_combined[0::2]"
   ]
  },
  {
   "cell_type": "code",
   "execution_count": null,
   "metadata": {},
   "outputs": [],
   "source": [
    "#retrive the 2nd element until the end of the list\n",
    "list_combined[2:]"
   ]
  },
  {
   "cell_type": "markdown",
   "metadata": {},
   "source": [
    "**We can also use + to concatenate lists, just like we did for strings.**"
   ]
  },
  {
   "cell_type": "code",
   "execution_count": null,
   "metadata": {},
   "outputs": [],
   "source": [
    "add_tolist = list_combined + [\"def\",\"ghi\"]\n",
    "list_direct = [4.0, 5.0, 6, 4, (5+3j), 'abc'] + ['def', 'ghi']\n",
    "print(add_tolist)\n",
    "print(list_direct)"
   ]
  },
  {
   "cell_type": "markdown",
   "metadata": {},
   "source": [
    "** Duplicating list **"
   ]
  },
  {
   "cell_type": "code",
   "execution_count": null,
   "metadata": {},
   "outputs": [],
   "source": [
    "duplicated_list = add_tolist * 3\n",
    "print(duplicated_list)\n",
    "print(\"#########################\")\n",
    "duplicated_list = add_tolist[0:4] * 3\n",
    "print(duplicated_list)"
   ]
  },
  {
   "cell_type": "markdown",
   "metadata": {},
   "source": [
    "<h5> Lists Methods <h5>\n",
    "<ol type = \"A\">\n",
    "    <li>Append</li>\n",
    "    <li>Clear</li>\n",
    "    <li>Count</li> \n",
    "    <li>Extend</li>\n",
    "    <li>Index</li>\n",
    "    <li>Insert</li>\n",
    "    <li>Pop</li>\n",
    "    <li>Remove</li>\n",
    "    <li>Reverse</li>\n",
    "    <li>Sort</li>\n",
    "</ol>"
   ]
  },
  {
   "cell_type": "code",
   "execution_count": null,
   "metadata": {},
   "outputs": [],
   "source": [
    "Cities =[\"Chennai\",\"Bangalore\", \"Delhi\",\"Kolkatta\"]\n",
    "#Append\n",
    "\n",
    "print(\"Cities  - {} \".format(Cities))\n",
    "#add a new item to the list\n",
    "#Cities.append([\"Hyderabad\",\"Thane\"])\n",
    "#print(\"Cities  - {} \".format(Cities))\n",
    "Cities.append(\"Mumbai\")\n",
    "print(\"Cities  - {} \".format(Cities))"
   ]
  },
  {
   "cell_type": "code",
   "execution_count": null,
   "metadata": {},
   "outputs": [],
   "source": [
    "#Clear \n",
    "#Removes all the items from the list\n",
    "Cities.clear()\n",
    "print(Cities)"
   ]
  },
  {
   "cell_type": "code",
   "execution_count": null,
   "metadata": {},
   "outputs": [],
   "source": [
    "#Add the Items Back\n",
    "Cities =[\"Chennai\",\"Bangalore\", \"Delhi\",\"Kolkatta\",\"Hyderabad\"]\n",
    "print(Cities)\n",
    "#Count -  Used to find the count of an item\n",
    "count_givencity = Cities.count(\"Chennai\")\n",
    "print(count_givencity)\n",
    "Cities.append(\"Chennai\")\n",
    "print(Cities)\n",
    "count_givencity = Cities.count(\"Chennai\")\n",
    "\n",
    "print(\"Count of City after adding again {}\".format(count_givencity))"
   ]
  },
  {
   "cell_type": "code",
   "execution_count": null,
   "metadata": {},
   "outputs": [],
   "source": [
    "#extend\n",
    "# To extend the items of a list with another list of items, lets add another city list to existing one\n",
    "Cities =[\"Chennai\",\"Bangalore\", \"Delhi\",\"Kolkatta\",\"Hyderabad\"]\n",
    "NewCities = [\"Mumbai\",\"Pune\",\"Agra\",\"Kanpur\",\"Noida\",\"Visakhapatnam\"]\n",
    "print(\"Cities - {}\".format(Cities))\n",
    "print(\"New Cities - {}\".format( NewCities))\n",
    "#Cities.append(NewCities)\n",
    "#print(Cities)\n",
    "\n",
    "resultCities=Cities.extend(NewCities)\n",
    "print(resultCities)\n",
    "print(\"Cities after Extend  {}\".format(Cities))"
   ]
  },
  {
   "cell_type": "code",
   "execution_count": null,
   "metadata": {},
   "outputs": [],
   "source": [
    "#index\n",
    "GetIndex = Cities.index(\"Chennai\")\n",
    "print(GetIndex)\n",
    "GetIndex = Cities.index(\"Noida\")\n",
    "print(GetIndex)\n"
   ]
  },
  {
   "cell_type": "code",
   "execution_count": null,
   "metadata": {},
   "outputs": [],
   "source": [
    "#Insert \n",
    "#Add an item to a particular postion/index\n",
    "Cities =[\"Chennai\",\"Bangalore\", \"Delhi\",\"Kolkatta\",\"Hyderabad\"]\n",
    "Cities.insert(2,\"Mumbai\")\n",
    "print(\"Cities - {}\".format(Cities))\n",
    "Cities.insert(-2,\"Pune\")\n",
    "#Cities.insert(\"Pune\")\n",
    "print(\"Cities - {}\".format(Cities))\n",
    "#Cities[5]"
   ]
  },
  {
   "cell_type": "code",
   "execution_count": null,
   "metadata": {},
   "outputs": [],
   "source": [
    "#Pop Operation - specify the position\n",
    "Cities =[\"Chennai\",\"Bangalore\", \"Delhi\",\"Kolkatta\",\"Hyderabad\"]\n",
    "print(\"Cities - {}\".format(Cities))\n",
    "Cities.pop()\n",
    "print(\"After Pop Operation  , Cities - {}\".format(Cities))\n",
    "Cities.pop(1)\n",
    "print(\"After Pop Operation  , Cities - {}\".format(Cities))\n",
    "Cities.pop(2)\n",
    "print(\"After Pop Operation  , Cities - {}\".format(Cities))\n",
    "Cities.pop(3) #For insert it's okay to give out of index positions, for pop within range has to be given\n",
    "print(\"After Pop Operation  , Cities - {}\".format(Cities))"
   ]
  },
  {
   "cell_type": "code",
   "execution_count": null,
   "metadata": {},
   "outputs": [],
   "source": [
    "#Remove\n",
    "Cities =[\"Chennai\",\"Bangalore\", \"Delhi\",\"Kolkatta\",\"Hyderabad\", \"Kolkatta\"]\n",
    "print(\"Cities - {}\".format(Cities))\n",
    "Cities.remove(\"Kolkatta\")\n",
    "print(\"Cities - {}\".format(Cities))\n",
    "#Cities.remove(\"\")\n",
    "#print(\"Cities - {}\".format(Cities))\n",
    "#Cities.remove(\"Kolkatta\")\n",
    "#print(\"Cities - {}\".format(Cities))\n",
    "print(\"After remove Operation  , Cities - {}\".format(Cities))\n",
    "Cities.pop(Cities.index(\"Kolkatta\"))\n",
    "print(\"Cities - {}\".format(Cities))\n",
    "Cities.pop(Cities.index(\"Kolkatta\"))# Throws error when value not available\n",
    "print(\"Cities - {}\".format(Cities))\n"
   ]
  },
  {
   "cell_type": "code",
   "execution_count": null,
   "metadata": {},
   "outputs": [],
   "source": [
    "#Reverse\n",
    "#Reverses the list\n",
    "Cities =[\"Chennai\",\"Bangalore\", \"Delhi\",\"Kolkatta\",\"Hyderabad\"]\n",
    "print(\"########## First Reverse using reverse method ()#################\")\n",
    "Cities.reverse()\n",
    "print(Cities)\n",
    "print(\"########## Second Reverse using indexing ################\")\n",
    "#Re Reverse\n",
    "Cities_1 = Cities[::-1]\n",
    "print(Cities_1)\n"
   ]
  },
  {
   "cell_type": "code",
   "execution_count": null,
   "metadata": {},
   "outputs": [],
   "source": [
    "#Sort\n",
    "Cities =[\"Chennai\",\"Bangalore\", \"Delhi\",\"Kolkatta\",\"Hyderabad\",\"Mumbai\",\"Pune\",\"agra\",\"Guwhathi\",\"Kanpur\",\"Noida\",\"Visakhapatnam\",\"Coimbatore\"]\n",
    "#Cities.sort(False, key = None)\n",
    "\n",
    "def overlength(e):\n",
    "    return len(e)\n",
    "\n",
    "def overacharcount(e):\n",
    "    return e.count(\"a\")\n",
    "\n",
    "print(\"###########################\")\n",
    "print(\"Cities - {}\".format(Cities))\n",
    "print(\"###########################\")\n",
    "Cities.sort()\n",
    "print(Cities)\n",
    "print(\"#############reverse True##############\")\n",
    "\n",
    "Cities.sort(reverse = True)\n",
    "print(Cities)\n",
    "print(\"###########################\")\n",
    "Cities.sort(reverse = True, key = overlength)\n",
    "print(\"Cities - In desc order of Length - {}\".format(Cities))\n",
    "print(\"###########################\")\n",
    "Cities.sort(reverse = False, key = overlength)\n",
    "print(\"Cities - In asc order of Length  - {}\".format(Cities))\n",
    "print(\"###########################\")\n",
    "Cities.sort(reverse = True, key = overacharcount)\n",
    "print(\"Cities - In desc order of character 'a' count - {}\".format(Cities))\n",
    "print(\"###########################\")\n",
    "Cities.sort(reverse = False, key = overacharcount)\n",
    "print(\"Cities - In asc order of character 'a' count - {}\".format(Cities))\n",
    "print(\"###########################\")\n"
   ]
  },
  {
   "cell_type": "markdown",
   "metadata": {},
   "source": [
    "### Tuple \n",
    "Tuple is an immutable datatype, containing different data type of elements <br>\n",
    "\n",
    "In Python tuples are very similar to lists, however, unlike lists they are *immutable* meaning they can not be changed. You would use tuples to present things that shouldn't be changed, such as days of the week, or dates on a calendar. \n",
    "\n",
    "In this section, we will get a brief overview of the following:\n",
    "\n",
    "    1.) Constructing Tuples\n",
    "    2.) Basic Tuple Methods\n",
    "    3.) Immutability\n",
    "    4.) When to Use Tuples\n",
    "\n",
    "You'll have an intuition of how to use tuples based on what you've learned about lists. We can treat them very similarly with the major distinction being that tuples are immutable.\n",
    "\n",
    "## Constructing Tuples\n",
    "\n",
    "The construction of a tuples use () with elements separated by commas. For example:"
   ]
  },
  {
   "cell_type": "code",
   "execution_count": null,
   "metadata": {},
   "outputs": [],
   "source": [
    "# Create a tuple\n",
    "t = (1,2,3) \n",
    "r = 1,\n",
    "u = 1.0+2j, 3.0+3j,\"a\",\"bb\" #mixed type of objects\n",
    "v = (1,1.0,2.0+3.0j,\"a\",[\"aa\",\"bb\"],(1.0,2.0,3.0),{1,2,3},{\"a\":1})#mixed type of objects with parenthesis enclosure\n",
    "x = 1,1.0,2.0+3.0j,\"a\",[\"aa\",\"bb\"],(1.0,2.0,3.0),{1,2,3},{\"a\":1}#mixed type of objects with parenthesis enclosure\n",
    "w = tuple()\n",
    "print(type(t))\n",
    "print(type(u))\n",
    "print(type(v))\n",
    "print(type(w))\n",
    "print(type(x))"
   ]
  },
  {
   "cell_type": "code",
   "execution_count": null,
   "metadata": {},
   "outputs": [],
   "source": [
    "print(v)\n",
    "print(\"################################\")\n",
    "for item in v: \n",
    "    print(item, type(item))"
   ]
  },
  {
   "cell_type": "code",
   "execution_count": null,
   "metadata": {},
   "outputs": [],
   "source": [
    "#lets create another tuple from existing tuples u and v\n",
    "w = u + v \n",
    "print(w)\n"
   ]
  },
  {
   "cell_type": "markdown",
   "metadata": {},
   "source": [
    "#### Doesnt' support item assignment"
   ]
  },
  {
   "cell_type": "code",
   "execution_count": null,
   "metadata": {},
   "outputs": [],
   "source": [
    "print(v)\n",
    "print(\"################################\")\n",
    "print(v[0])\n",
    "print(v[1])\n",
    "print(\"################################\")\n",
    "v[0] =  t + u"
   ]
  },
  {
   "cell_type": "code",
   "execution_count": null,
   "metadata": {},
   "outputs": [],
   "source": [
    "print(\"w data is - \",w)\n",
    "#lets verify the datatype for the above\n",
    "for element in w:\n",
    "    print( element ,type(element))\n",
    "#the same can done with lists also.\n",
    "\n",
    "print(\"################################\")\n",
    "#a = [(element ,type(element))for element in w]\n",
    "#print(a)"
   ]
  },
  {
   "cell_type": "markdown",
   "metadata": {},
   "source": [
    "#### creating tuple from another tuple"
   ]
  },
  {
   "cell_type": "code",
   "execution_count": null,
   "metadata": {},
   "outputs": [],
   "source": [
    "#Slicing is supported\n",
    "print(t[1])\n",
    "#Indexing \n",
    "u[2] = \"aa\""
   ]
  },
  {
   "cell_type": "code",
   "execution_count": null,
   "metadata": {},
   "outputs": [],
   "source": [
    "#Tuple contains nested tuples\n",
    "t1 = (\"apple\", 3, 1.4, (\"banana\", 5))\n",
    "for element in t1:\n",
    "    print( element ,type(element))\n"
   ]
  },
  {
   "cell_type": "markdown",
   "metadata": {},
   "source": [
    "#### Membership Operation"
   ]
  },
  {
   "cell_type": "code",
   "execution_count": null,
   "metadata": {},
   "outputs": [],
   "source": [
    "#check the membership of an element in a tuple\n",
    "#in operation is used to check the membership\n",
    "# membership is true if the value is present else false\n",
    "t1 = (\"apple\", \"banana\", \"cherry\",\"apple\")\n",
    "print( \"banana\" in t1 )\n",
    "print( \"orange\" in t1 )\n",
    "print( \"banana\" not in t1 )"
   ]
  },
  {
   "cell_type": "markdown",
   "metadata": {},
   "source": [
    "##### Tuples have built-in methods, but not as many as lists do. Let's look at two of them:"
   ]
  },
  {
   "cell_type": "code",
   "execution_count": null,
   "metadata": {},
   "outputs": [],
   "source": [
    "\n",
    "# Use .index to enter a value and return the index\n",
    "\n",
    "print(t1.index('apple'))\n",
    "# Use .count to count the number of times a value appears\n",
    "print(\"count is {}\".format(t1.count('apple')))"
   ]
  },
  {
   "cell_type": "code",
   "execution_count": null,
   "metadata": {},
   "outputs": [],
   "source": [
    "# I would recommend always using parentheses\n",
    "# to indicate start and end of tuple\n",
    "# even though parentheses are optional.\n",
    "# Explicit is better than implicit.\n",
    "zoo = 'python', 'elephant', 'penguin'\n",
    "print('Number of animals in the zoo is', len(zoo))\n",
    "new_zoo = 'monkey', 'camel',  zoo\n",
    "print('Number of cages in the new zoo is', len(new_zoo))\n",
    "print('All animals in new zoo are', new_zoo)\n",
    "print('Animals brought from old zoo are', new_zoo[2])\n",
    "print('Last animal brought from old zoo is', new_zoo[2][2])\n",
    "print('Last animal brought from old zoo is', zoo[2])\n",
    "print('Number of animals in the new zoo is',len(new_zoo)-1+len(zoo))\n",
    "len(new_zoo),len(zoo)"
   ]
  },
  {
   "cell_type": "markdown",
   "metadata": {},
   "source": [
    "### Sets \n",
    "#### Set and Booleans\n",
    "There are two other object types in Python that we should quickly cover: Sets and Booleans. \n",
    "#### Sets\n",
    "Sets are an unordered collection of unique elements. We can construct them by using the set() function. Let's go ahead and make a set to see how it works\n"
   ]
  },
  {
   "cell_type": "code",
   "execution_count": null,
   "metadata": {},
   "outputs": [],
   "source": [
    "### Creating a Set\n",
    "#### Sets can be created with set constructor or by directly defining the values in a {} brackets\n"
   ]
  },
  {
   "cell_type": "code",
   "execution_count": null,
   "metadata": {},
   "outputs": [],
   "source": [
    "a1 = set() #list() #dict() #tuple()\n",
    "print(type(a1))\n",
    "b1 = {1:2,2:3}\n",
    "print(type(b1))\n",
    "b2 = {1,2}\n",
    "print(type(b2))\n",
    "b3 = {}\n",
    "print(type(b3))"
   ]
  },
  {
   "cell_type": "markdown",
   "metadata": {},
   "source": [
    "#### Various methods in Set \n",
    "<ul>\n",
    "<li>membership \"in\"</li>\n",
    "<li>isdisjoint</li>\n",
    "<li>subset</li>\n",
    "<li>propersubset</li>\n",
    "<li>superset</li>\n",
    "<li>propersuperset</li>\n",
    "<li>union</li>\n",
    "<li>intersection</li>\n",
    "<li>difference</li>\n",
    "<li>intersection_update</li>\n",
    "<li>difference_update</li>\n",
    "<li>symmetric_difference_update</li>\n",
    "<li>copy</li>\n",
    "<li>add</li>\n",
    "<li>pop</li>\n",
    "<li>remove</li>\n",
    "<li>discard</li>\n",
    "<li>clear</li>\n",
    "<ul>"
   ]
  },
  {
   "cell_type": "code",
   "execution_count": null,
   "metadata": {},
   "outputs": [],
   "source": [
    "a = {1,2,3,4,5}\n",
    "#a=1,2\n",
    "#print(type(a))\n",
    "b= {4,5,6}\n",
    "c ={6,7,8}\n",
    "d= {6,7,9,10,11 }\n",
    "e ={0,1,6,7,11,22,33}\n",
    "f = {1,2,3,6,7,8}\n",
    "ab  ={1,2, 3, 4, 5}\n",
    "aa = {\"ab\",\"bc\",\"de\"}\n",
    "z =4\n",
    "\n",
    "#print(len(a))\n",
    "print(z in b)\n",
    "print(\"######################\")\n",
    "#checking conditions\n",
    "print(\"checking membership of z not in ab code: z not in ab : result ={0}\".format(z not in ab))\n",
    "print(\"######################\")\n"
   ]
  },
  {
   "cell_type": "code",
   "execution_count": null,
   "metadata": {},
   "outputs": [],
   "source": [
    "print(\"checking if set a and ab  are disjoint a is disjoint to  ab code: a.isdisjoint(ab): result: {0} \".format(a.isdisjoint(ab)))\n",
    "print(\"######################\")\n",
    "print(\"checking if set a and ab  are disjoint a is disjoint to  c code: a.isdisjoint(c): result: {0} \".format(a.isdisjoint(c)))\n",
    "print(\"######################\")"
   ]
  },
  {
   "cell_type": "code",
   "execution_count": null,
   "metadata": {},
   "outputs": [],
   "source": [
    "print(\"check if all the members of a are members of set ab code:- a.issubset(ab): result - {0}\".format(a.issubset(ab)))\n",
    "print(\"######################\")\n",
    "print(\"check if all the members of a are members of set ab, , using symbol code: a <= ab : result   - {0}\".format(a <= ab))\n",
    "print(\"check if all the members of a are members of set ab and not equals to set ab ie proper subset code: a < ab : result - {0}\".format(a < ab))\n",
    "print(\"######################\")"
   ]
  },
  {
   "cell_type": "code",
   "execution_count": null,
   "metadata": {},
   "outputs": [],
   "source": [
    "print(\"check if all the members of a are members of set ab, here ab is called as superset of a code: ab.issuperset(a) : result - {0} \".format(ab.issuperset(a)))\n",
    "print(\"check if all the members of a are members of set ab, here ab is called as superset of a, using symbol code: ab >= a result:  - {0}\".format(ab >= a))\n",
    "print(\"######################\")\n",
    "print(\"check if all the members of a are members of set ab, here ab is called as superset of a, and is a proper superset code: ab > a result: - {0}\".format(ab > a))"
   ]
  },
  {
   "cell_type": "code",
   "execution_count": null,
   "metadata": {},
   "outputs": [],
   "source": [
    "#operations\n",
    "print(\"Union or combining elements from two sets code: a.union(b) : result: {}\".format(a.union(b)))\n",
    "print(\"Union or combining elements from two sets - using symbol  code: a|b : result: {}\".format(a|b))\n",
    "print(\"######################\")\n"
   ]
  },
  {
   "cell_type": "code",
   "execution_count": null,
   "metadata": {},
   "outputs": [],
   "source": [
    "print(\"finding the common items between two sets code: a.intersection(b) result: - {0}\".format(a.intersection(b)))\n",
    "print(\"finding the common items between two sets -using symbol code: a & b result: - {0}\".format(a&b))\n",
    "print(\"######################\")\n"
   ]
  },
  {
   "cell_type": "code",
   "execution_count": null,
   "metadata": {},
   "outputs": [],
   "source": [
    "print(\"find the difference between two sets code: a.difference(b) {0}\".format(a.difference(b)))\n",
    "print(\"find the difference between two sets, a -b code: a-b : result: - {0} \".format(a-b))\n",
    "#print(\"udpating one set with elements in other set code: c.update(b) - result {0}\".format(c.update(b)))\n",
    "print(\"######################\")\n",
    "#c|=b\n",
    "print(\"C set is {0} \".format(c))\n",
    "print(\"D set is {0} \".format(d))\n",
    "# \n",
    "print(\"intersection update between c and d: code: c.intersection_update(d) : result - {0}\".format(c.intersection_update(d)))\n",
    "#c &= d \n",
    "print(\"C set is {0} \".format(c))\n",
    "print(\"D set is {0} \".format(d))"
   ]
  },
  {
   "cell_type": "code",
   "execution_count": null,
   "metadata": {},
   "outputs": [],
   "source": [
    "# \n",
    "print(\"C set value is  {0} \".format(c)) \n",
    "print(\"E set value is  {0} \".format(e)) \n",
    "print(\"difference updated between e and c code: e.difference_update(c) : result - {0}\".format(e.difference_update(c)))\n",
    "print(\"E set becomes {0} \".format(e))\n",
    "print(\"######################\")"
   ]
  },
  {
   "cell_type": "code",
   "execution_count": null,
   "metadata": {},
   "outputs": [],
   "source": [
    "\n",
    "print(\"D set becomes {0} \".format(d))\n",
    "print(\"######################\")  \n",
    "# \n",
    "#print(\"intersection update between c and d: code: d.intersection_update(c) : result - {0}\".format(d.intersection_update(c)))\n",
    "# print(\"D set becomes {0} \".format(d))\n",
    "# \n",
    "#\n",
    "print(\"B set value is  {0} \".format(b)) \n",
    "print(\"C set value is  {0} \".format(c)) \n",
    "print(\"D set value is  {0} \".format(d)) \n",
    " \n",
    "print(\"difference updated between b and d , updates the code: b.difference_update(d) : result - {0}\".format(b.difference_update(d)))\n",
    "print(\"B set becomes {0} \".format(b))\n",
    "#print(\"difference updated between b and c , updates the using the symbol: b -= c : result - {0}\".format(b -= c))\n",
    "print(\"B set becomes {0} \".format(b))\n",
    "print(\"######################\")"
   ]
  },
  {
   "cell_type": "code",
   "execution_count": null,
   "metadata": {},
   "outputs": [],
   "source": [
    "\n",
    "print(\"F set becomes {0} after symmetric difference\".format(f))\n",
    "  \n",
    "print(\"A set becomes {0} after symmetric difference\".format(a))\n",
    "\n",
    "print(\"symmetric difference updated between a and f code: a.symmetric_difference_update(f) : result - {0}\".format(a.symmetric_difference_update(f)))\n",
    "print(\"A set becomes {0} \".format(a))\n",
    "  \n",
    "print(\"doing the operation again\") \n",
    "a ^= f\n",
    "print(\"F set becomes {0} after symmetric difference\".format(f))\n",
    "  \n",
    "print(\"A set becomes {0} after symmetric difference\".format(a))\n",
    "\n"
   ]
  },
  {
   "cell_type": "markdown",
   "metadata": {},
   "source": []
  },
  {
   "cell_type": "code",
   "execution_count": null,
   "metadata": {},
   "outputs": [],
   "source": [
    "# \n",
    "print(aa)\n",
    "z= aa.copy()\n",
    "print(\"copying to another variable z {0}\".format(z))\n",
    "print(z)"
   ]
  },
  {
   "cell_type": "code",
   "execution_count": null,
   "metadata": {},
   "outputs": [],
   "source": [
    "aa.add(\"xy\")\n",
    "\n",
    "\n",
    "print(\"add condition result {0}\".format(aa))\n",
    "aa.add(\"xy1\")\n",
    "\n",
    "\n",
    "print(\"add condition result {0}\".format(aa))\n",
    "aa.add(\"ay\")\n",
    "\n",
    "\n",
    "print(\"add condition result {0}\".format(aa))\n",
    "aa.add(\"ay1\")\n",
    "\n",
    "#aa.sort()\n",
    "\n",
    "print(\"add condition result {0}\".format(aa))\n",
    "aa.add(\"abc\")\n",
    "print(\"add condition result {0}\".format(aa))\n"
   ]
  },
  {
   "cell_type": "markdown",
   "metadata": {},
   "source": []
  },
  {
   "cell_type": "code",
   "execution_count": null,
   "metadata": {},
   "outputs": [],
   "source": [
    "aa.pop()\n",
    "print(\"pop condition result {}\".format(aa))\n"
   ]
  },
  {
   "cell_type": "markdown",
   "metadata": {},
   "source": []
  },
  {
   "cell_type": "code",
   "execution_count": null,
   "metadata": {},
   "outputs": [],
   "source": [
    "aa.remove(\"ay\")\n",
    "print(\"remove condition result {}\".format(aa))"
   ]
  },
  {
   "cell_type": "markdown",
   "metadata": {},
   "source": []
  },
  {
   "cell_type": "code",
   "execution_count": null,
   "metadata": {},
   "outputs": [],
   "source": [
    "aa.discard(\"abc\")\n",
    "print(\"discard condition result {0}\".format(aa))"
   ]
  },
  {
   "cell_type": "markdown",
   "metadata": {},
   "source": [
    "Clear Items"
   ]
  },
  {
   "cell_type": "code",
   "execution_count": null,
   "metadata": {},
   "outputs": [],
   "source": [
    "aa.clear()\n",
    "print(\"clear condition result {0}\".format(aa))"
   ]
  },
  {
   "cell_type": "markdown",
   "metadata": {},
   "source": [
    "# Dictionaries\n",
    "\n",
    "We've been learning about *sequences* in Python but now we're going to switch gears and learn about *mappings* in Python. If you're familiar with other languages you can think of these Dictionaries as hash tables. \n",
    "\n",
    "This section will serve as a brief introduction to dictionaries and consist of:\n",
    "\n",
    "    1.) Constructing a Dictionary\n",
    "    2.) Accessing objects from a dictionary\n",
    "    3.) Nesting Dictionaries\n",
    "    4.) Basic Dictionary Methods\n",
    "\n",
    "So what are mappings? Mappings are a collection of objects that are stored by a *key*, unlike a sequence that stored objects by their relative position. This is an important distinction, since mappings won't retain order since they have objects defined by a key.\n",
    "\n",
    "A Python dictionary consists of a key and then an associated value. That value can be almost any Python object.\n",
    "\n",
    "\n",
    "## Constructing a Dictionary\n",
    "Let's see how we can construct dictionaries to get a better understanding of how they work!m"
   ]
  },
  {
   "cell_type": "code",
   "execution_count": null,
   "metadata": {},
   "outputs": [],
   "source": [
    "b = {1:\"1\",\"2\":2} \n",
    "c = {} \n",
    "d = dict({1:\"2\",\"2\":4})\n",
    "e = dict()\n",
    "print(b,\"\\n\",c,\"\\n\",d,\"\\n\",e)"
   ]
  },
  {
   "cell_type": "code",
   "execution_count": null,
   "metadata": {
    "scrolled": true
   },
   "outputs": [],
   "source": [
    "#Creating a dictionary\n",
    "dict1 = {}\n",
    "dict2 ={'name':'john','age': 25}\n",
    "dict3 = dict()\n",
    "#creating a dictionary with values\n",
    "print(type(dict1))\n",
    "print(type(dict2))\n",
    "print(type(dict3))\n",
    "print(\"####################################################\")\n",
    "#lets have multiple type of keys for a dictionary\n",
    "from datetime import datetime\n",
    "mydict =    {\n",
    "  \"type\": \"employee\",\n",
    "  \"name\": \"John\",\n",
    "  \"age\": 41,\n",
    "  \"dept\": \"HR\",\n",
    "  1:\"description1\",\n",
    "  2: \"description2\",\n",
    "  \"joiningdate\":  datetime.now().strftime('%Y %m %d %H %M %S %f'),\n",
    "  datetime.now(): \"Date of Joining with key date in date time format\",\n",
    "  datetime.now().strftime('%Y:%m:%d'): \"Date of Joining with key date in string format\"\n",
    "}\n",
    "print(mydict)\n",
    "print(datetime.now())\n",
    "print(type(datetime.now()))"
   ]
  },
  {
   "cell_type": "code",
   "execution_count": null,
   "metadata": {},
   "outputs": [],
   "source": [
    "import datetime\n",
    "print(datetime.datetime.now())\n",
    "print(datetime.date.today())\n",
    "a = datetime.time(23,35,35)\n",
    "print(a)"
   ]
  },
  {
   "cell_type": "markdown",
   "metadata": {},
   "source": [
    "Lets add another key named  \"name\": \"John1\", Since Name is already defined in the dictionary , It will update the key with the new value, if the value is “John1” then \n"
   ]
  },
  {
   "cell_type": "code",
   "execution_count": null,
   "metadata": {},
   "outputs": [],
   "source": [
    "#Datetime library is used include date for keys and values.\n",
    "from datetime import datetime\n",
    "thisdict = {\n",
    "  \"type\": \"employee\",\n",
    "  \"name\": \"John\",\n",
    "  \"name\": \"John1\",\n",
    "  \"age\": 41,\n",
    "  \"dept\": \"HR\",\n",
    "  1:\"description1: this description is holding a key 1 and it's not an  index\",\n",
    "  2: \"description2\",\n",
    "  \"joiningdate\":  datetime.now().strftime('%Y-%m-%d'),\n",
    "  datetime.now(): \"Date of Joining with key date in date time format\",\n",
    "  datetime.now().strftime('%Y-%m-%d'): \"Date of Joining with key date in string format\"\n",
    "}\n",
    "print(thisdict)\n",
    "print(type(thisdict))\n"
   ]
  },
  {
   "cell_type": "code",
   "execution_count": null,
   "metadata": {},
   "outputs": [],
   "source": [
    "### Dictionaries can be indexed with keys not with index values or positions"
   ]
  },
  {
   "cell_type": "code",
   "execution_count": null,
   "metadata": {},
   "outputs": [],
   "source": [
    "print(thisdict[\"name\"])\n",
    "print(thisdict[1])\n",
    "print(thisdict[2])\n",
    "print(thisdict[0])\n"
   ]
  },
  {
   "cell_type": "markdown",
   "metadata": {},
   "source": [
    "A quick note, Python has a built-in method of doing a self subtraction or addition (or multiplication or division). We could have also used += or -= for the above statement. For example:"
   ]
  },
  {
   "cell_type": "code",
   "execution_count": null,
   "metadata": {},
   "outputs": [],
   "source": [
    "my_dict = {'key1':123,'key2':[12,23,33],'key3':['item0','item1','item2']}\n",
    "a = 2\n",
    "a = a+2 \n",
    "print(a)\n",
    "a +=2 \n",
    "print(a)"
   ]
  },
  {
   "cell_type": "code",
   "execution_count": null,
   "metadata": {},
   "outputs": [],
   "source": [
    "# Set the object equal to itself minus 123 \n",
    "print(\"Before subtraction: {}\".format(my_dict))\n",
    "my_dict['key1'] -= 1\n",
    "my_dict['key2'][2] -= 1\n",
    "print(\"After subtraction: {}\".format(my_dict))\n",
    "my_dict[\"key3\"][1] = \"python\"\n",
    "print(\"After subtraction: {}\".format(my_dict))"
   ]
  },
  {
   "cell_type": "code",
   "execution_count": null,
   "metadata": {
    "scrolled": true
   },
   "outputs": [],
   "source": [
    "fruitbasket = { \"apple\":3, \"banana\":5, \"cherry\":50 }\n",
    "\n",
    "print(fruitbasket.keys(),type(fruitbasket.keys()))\n",
    "print( list( fruitbasket.keys() ) )\n",
    "\n",
    "print(\"####################################\")\n",
    "print(fruitbasket.values() , type(fruitbasket.values()))\n",
    "print( list(fruitbasket.values() ) )\n",
    "print(\"####################################\")\n",
    "print(fruitbasket.items(),type(fruitbasket.items()))\n",
    "print( list( fruitbasket.items() ) )"
   ]
  },
  {
   "cell_type": "markdown",
   "metadata": {},
   "source": [
    "We can also create keys by assignment. For instance if we started off with an empty dictionary, we could continually add to it:"
   ]
  },
  {
   "cell_type": "code",
   "execution_count": null,
   "metadata": {},
   "outputs": [],
   "source": [
    "flowersdict = {}\n",
    "flowersdict[\"flower1\"] = \"Rose\"\n",
    "flowersdict[\"flower2\"] = \"Shoeflower\"\n",
    "flowersdict[\"flower3\"] = \"Tulips\"\n",
    "flowersdict[\"flower4\"] = \"Daisy\"\n",
    "flowersdict[\"flower5\"] = \"Lotus\"\n",
    "print(flowersdict)\n",
    "flowersdict.update({\"flower6\":\"Rose\"})\n",
    "print(flowersdict)"
   ]
  },
  {
   "cell_type": "markdown",
   "metadata": {},
   "source": [
    "## retrieving dict items"
   ]
  },
  {
   "cell_type": "code",
   "execution_count": null,
   "metadata": {},
   "outputs": [],
   "source": [
    "print(flowersdict.keys())\n",
    "print(flowersdict.values())\n",
    "print(flowersdict.items())\n"
   ]
  },
  {
   "cell_type": "markdown",
   "metadata": {},
   "source": [
    "## Nesting with Dictionaries\n",
    "\n",
    "Hopefully you're starting to see how powerful Python is with its flexibility of nesting objects and calling methods on them. Let's see a dictionary nested inside a dictionary:"
   ]
  },
  {
   "cell_type": "code",
   "execution_count": null,
   "metadata": {},
   "outputs": [],
   "source": [
    "#import json\n",
    "# Dictionary nested inside a dictionary nested inside a dictionary\n",
    "d = {'Animals':{'Carnivores':{'carnivore1':'lion','carnivore2':'Tiger'},'Herbivores':{'Herbivore1':'Deer','Herbivore2':'Antelope'}}}\n",
    "#print(json.dumps(d,pretty =True))\n",
    "print(type(d))\n",
    "print(d.items())\n",
    "for x,y in d.items():\n",
    "    print(type(x),x)\n",
    "    print(type(y),y)\n",
    "    if(type(y) == dict):\n",
    "        for x1,y1 in y.items():\n",
    "            print(type(x1),x1)\n",
    "            print(type(y1),y1)\n",
    "    "
   ]
  },
  {
   "cell_type": "markdown",
   "metadata": {},
   "source": [
    "#### A few Dictionary Methods\n",
    "\n",
    "There are a few methods we can call on a dictionary. Let's get a quick introduction to a few of them:"
   ]
  },
  {
   "cell_type": "markdown",
   "metadata": {},
   "source": [
    "<table class=\"views-table cols-2\">\n",
    "         <thead>\n",
    "      <tr>\n",
    "                  <th >\n",
    "            Method          </th>\n",
    "                  <th>\n",
    "            Description          </th>\n",
    "              </tr>\n",
    "    </thead>\n",
    "    <tbody>\n",
    "          <tr>\n",
    "                  <td>\n",
    "            <a>Python Dictionary clear()</a>          </td>\n",
    "                  <td>\n",
    "            Removes all Items          </td>\n",
    "              </tr>\n",
    "          <tr>\n",
    "                  <td>\n",
    "            <a>Python Dictionary copy()</a>          </td>\n",
    "                  <td>\n",
    "            Returns Shallow Copy of a Dictionary          </td>\n",
    "              </tr>\n",
    "          <tr>\n",
    "                  <td>\n",
    "            Python Dictionary fromkeys()          \n",
    "              </td>\n",
    "                       <td> creates dictionary from given sequence          </td>\n",
    "              </tr>\n",
    "          <tr>\n",
    "                  <td>\n",
    "            Python Dictionary get()</a>          </td>\n",
    "                  <td class=\"views-field views-field-field-c-short-description\">\n",
    "            Returns Value of The Key          </td>\n",
    "              </tr>\n",
    "          <tr>\n",
    "                  <td class=\"views-field views-field-title\">\n",
    "            <a href=\"/python-programming/methods/dictionary/items\">Python Dictionary items()</a>          </td>\n",
    "                  <td class=\"views-field views-field-field-c-short-description\">\n",
    "            returns view of dictionary's (key, value) pair          </td>\n",
    "              </tr>\n",
    "          <tr>\n",
    "                  <td class=\"views-field views-field-title\">\n",
    "            <a href=\"/python-programming/methods/dictionary/keys\">Python Dictionary keys()</a>          </td>\n",
    "                  <td class=\"views-field views-field-field-c-short-description\">\n",
    "            Returns View Object of All Keys          </td>\n",
    "              </tr>\n",
    "          <tr>\n",
    "                  <td class=\"views-field views-field-title\">\n",
    "            <a href=\"/python-programming/methods/dictionary/popitem\">Python Dictionary popitem()</a>          </td>\n",
    "                  <td class=\"views-field views-field-field-c-short-description\">\n",
    "            Returns &amp; Removes Element From Dictionary          </td>\n",
    "              </tr>\n",
    "          <tr>\n",
    "                  <td class=\"views-field views-field-title\">\n",
    "            <a href=\"/python-programming/methods/dictionary/setdefault\">Python Dictionary setdefault()</a>          </td>\n",
    "                  <td class=\"views-field views-field-field-c-short-description\">\n",
    "            Inserts Key With a Value if Key is not Present          </td>\n",
    "              </tr>\n",
    "          <tr>\n",
    "                  <td class=\"views-field views-field-title\">\n",
    "            <a href=\"/python-programming/methods/dictionary/pop\">Python Dictionary pop()</a>          </td>\n",
    "                  <td class=\"views-field views-field-field-c-short-description\">\n",
    "            removes and returns element having given key          </td>\n",
    "              </tr>\n",
    "          <tr>\n",
    "                  <td class=\"views-field views-field-title\">\n",
    "            <a href=\"/python-programming/methods/dictionary/values\">Python Dictionary values()</a>          </td>\n",
    "                  <td class=\"views-field views-field-field-c-short-description\">\n",
    "            returns view of all values in dictionary          </td>\n",
    "              </tr>\n",
    "          <tr>\n",
    "                  <td class=\"views-field views-field-title\">\n",
    "            <a href=\"/python-programming/methods/dictionary/update\">Python Dictionary update()</a>          </td>\n",
    "                  <td class=\"views-field views-field-field-c-short-description\">\n",
    "            Updates the Dictionary          </td>\n",
    "              </tr>\n",
    "          <tr>\n",
    "                  <td class=\"views-field views-field-title\">\n",
    "            <a href=\"/python-programming/methods/built-in/any\">Python any()</a>          </td>\n",
    "                  <td class=\"views-field views-field-field-c-short-description\">\n",
    "            Checks if any Element of an Iterable is True          </td>\n",
    "              </tr>\n",
    "          <tr>\n",
    "                  <td class=\"views-field views-field-title\">\n",
    "            <a href=\"/python-programming/methods/built-in/all\">Python all()</a>          </td>\n",
    "                  <td class=\"views-field views-field-field-c-short-description\">\n",
    "            returns true when all elements in iterable is true          </td>\n",
    "              </tr>\n",
    "          <tr>\n",
    "                  <td class=\"views-field views-field-title\">\n",
    "            <a href=\"/python-programming/methods/built-in/ascii\">Python ascii()</a>          </td>\n",
    "                  <td class=\"views-field views-field-field-c-short-description\">\n",
    "            Returns String Containing Printable Representation          </td>\n",
    "              </tr>\n",
    "          <tr>\n",
    "                  <td class=\"views-field views-field-title\">\n",
    "            <a href=\"/python-programming/methods/built-in/bool\">Python bool()</a>          </td>\n",
    "                  <td class=\"views-field views-field-field-c-short-description\">\n",
    "            Converts a Value to Boolean           </td>\n",
    "              </tr>\n",
    "          <tr>\n",
    "                  <td class=\"views-field views-field-title\">\n",
    "            <a href=\"/python-programming/methods/built-in/dict\">Python dict()</a>          </td>\n",
    "                  <td class=\"views-field views-field-field-c-short-description\">\n",
    "            Creates a Dictionary          </td>\n",
    "              </tr>\n",
    "          <tr>\n",
    "                  <td class=\"views-field views-field-title\">\n",
    "            <a href=\"/python-programming/methods/built-in/enumerate\">Python enumerate()</a>          </td>\n",
    "                  <td class=\"views-field views-field-field-c-short-description\">\n",
    "            Returns an Enumerate Object          </td>\n",
    "              </tr>\n",
    "          <tr>\n",
    "                  <td class=\"views-field views-field-title\">\n",
    "            <a href=\"/python-programming/methods/built-in/filter\">Python filter()</a>          </td>\n",
    "                  <td class=\"views-field views-field-field-c-short-description\">\n",
    "            constructs iterator from elements which are true          </td>\n",
    "              </tr>\n",
    "          <tr>\n",
    "                  <td class=\"views-field views-field-title\">\n",
    "            <a href=\"/python-programming/methods/built-in/iter\">Python iter()</a>          </td>\n",
    "                  <td class=\"views-field views-field-field-c-short-description\">\n",
    "            returns iterator for an object          </td>\n",
    "              </tr>\n",
    "          <tr>\n",
    "                  <td class=\"views-field views-field-title\">\n",
    "            <a href=\"/python-programming/methods/built-in/len\">Python len()</a>          </td>\n",
    "                  <td class=\"views-field views-field-field-c-short-description\">\n",
    "            Returns Length of an Object          </td>\n",
    "              </tr>\n",
    "          <tr>\n",
    "                  <td class=\"views-field views-field-title\">\n",
    "            <a href=\"/python-programming/methods/built-in/max\">Python max()</a>          </td>\n",
    "                  <td class=\"views-field views-field-field-c-short-description\">\n",
    "            returns largest element          </td>\n",
    "              </tr>\n",
    "          <tr>\n",
    "                  <td class=\"views-field views-field-title\">\n",
    "            <a href=\"/python-programming/methods/built-in/min\">Python min()</a>          </td>\n",
    "                  <td class=\"views-field views-field-field-c-short-description\">\n",
    "            returns smallest element          </td>\n",
    "              </tr>\n",
    "          <tr>\n",
    "                  <td class=\"views-field views-field-title\">\n",
    "            <a href=\"/python-programming/methods/built-in/map\">Python map()</a>          </td>\n",
    "                  <td class=\"views-field views-field-field-c-short-description\">\n",
    "            Applies Function and Returns a List          </td>\n",
    "              </tr>\n",
    "          <tr>\n",
    "                  <td class=\"views-field views-field-title\">\n",
    "            <a href=\"/python-programming/methods/built-in/sorted\">Python sorted()</a>          </td>\n",
    "                  <td class=\"views-field views-field-field-c-short-description\">\n",
    "            returns sorted list from a given iterable          </td>\n",
    "              </tr>\n",
    "          <tr>\n",
    "                  <td class=\"views-field views-field-title\">\n",
    "            <a href=\"/python-programming/methods/built-in/sum\">Python sum()</a>          </td>\n",
    "                  <td class=\"views-field views-field-field-c-short-description\">\n",
    "            Add items of an Iterable          </td>\n",
    "              </tr>\n",
    "          <tr>\n",
    "                  <td class=\"views-field views-field-title\">\n",
    "            <a href=\"/python-programming/methods/built-in/zip\">Python zip()</a>          </td>\n",
    "                  <td class=\"views-field views-field-field-c-short-description\">\n",
    "            Returns an Iterator of Tuples          </td>\n",
    "              </tr>\n",
    "      </tbody>\n",
    "</table>m"
   ]
  },
  {
   "cell_type": "code",
   "execution_count": null,
   "metadata": {},
   "outputs": [],
   "source": [
    "fruitbasket = { \"apple\":3, \"banana\":5, \"cherry\":50 }\n",
    "print(fruitbasket)\n",
    "fruitbasket.clear() \n",
    "#Removes all elements of dictionary dict\n",
    "print(fruitbasket)"
   ]
  },
  {
   "cell_type": "code",
   "execution_count": null,
   "metadata": {},
   "outputs": [],
   "source": [
    "fruitbasket = { \"apple\":3, \"banana\":5, \"cherry\":50 }\n",
    "fruitsbasket2 = fruitbasket.copy()\n",
    "print(fruitsbasket2)"
   ]
  },
  {
   "cell_type": "code",
   "execution_count": null,
   "metadata": {},
   "outputs": [],
   "source": [
    "result = fruitbasket.get(\"apple1\",{}) \n",
    "#For key key, returns value or default if key not in dictionary\n",
    "print(result)\n",
    "result = fruitbasket.get(\"apple2\") \n",
    "#For key key, returns value or default if key not in dictionary\n",
    "print(result)\n",
    "result = fruitbasket.get(\"apple\") \n",
    "#For key key, returns value or default if key not in dictionary\n",
    "print(result)\n",
    "\n"
   ]
  },
  {
   "cell_type": "code",
   "execution_count": null,
   "metadata": {},
   "outputs": [],
   "source": [
    "print(fruitbasket.items() )\n",
    "print(fruitbasket.values() )\n",
    "print(fruitbasket.keys() )"
   ]
  },
  {
   "cell_type": "code",
   "execution_count": null,
   "metadata": {},
   "outputs": [],
   "source": [
    "fruitbasket.setdefault(\"apple2\",15)\n",
    "print(fruitbasket)\n",
    "fruitbasket.setdefault(\"apple\",6)"
   ]
  },
  {
   "cell_type": "code",
   "execution_count": null,
   "metadata": {},
   "outputs": [],
   "source": [
    "fruitbasket = { \"apple\":3, \"banana\":5, \"cherry\":50 }\n",
    "fruitbasket.setdefault(\"Orange\",2)\n",
    "a = fruitbasket.fromkeys(flowersdict)\n",
    "\n",
    "print(a)\n",
    "print(fruitbasket)\n",
    "\n",
    "fruitbasket.update({\"Apple\":101})\n",
    "print(fruitbasket)\n",
    "fruitbasket.update({\"apple\":100})\n",
    "print(fruitbasket)\n",
    "fruitbasket[\"apple1\"] = 102\n",
    "print(fruitbasket)\n",
    "print(fruitbasket[\"apple\"])\n",
    "print(fruitbasket.get(\"apple123\",{})) \n",
    "#fruitbasket.add({\"pineapple\":123})\n",
    "print(fruitbasket)"
   ]
  },
  {
   "cell_type": "code",
   "execution_count": null,
   "metadata": {},
   "outputs": [],
   "source": [
    "dict1 = {}\n",
    "dict1.setdefault(\"Hello\", None)\n",
    "dict1.update({1:\"1\"})\n",
    "print(dict1.items())\n",
    "from datetime import datetime\n",
    "thisdict =    {\n",
    "  \"type\": \"employee\",\n",
    "  \"name\": \"John\",\n",
    "  \"age\": 41,\n",
    "  \"dept\": \"HR\",\n",
    "  1:\"description1\",\n",
    "  2: \"description2\",\n",
    "  \"joiningdate\":  datetime.now().strftime('%Y-%m-%d'),\n",
    "  datetime.now(): \"Date of Joining with key date in date time format\",\n",
    "  datetime.now().strftime('%Y-%m-%d'): \"Date of Joining with key date in string format\"\n",
    "}\n",
    "#the duplicate key is updated with new value John1\n",
    "print(thisdict)\n",
    "print(thisdict[1])\n",
    "print(thisdict.get(\"name\",\"Not Found\"))\n",
    "\n",
    "\n",
    "print(type(thisdict))\n",
    "\n",
    "b = thisdict.copy\n",
    "print(b)\n",
    "print(\"fetches the value of the key {0}\".format(thisdict.get(\"name\")))\n",
    "print(\"fetches the value of the key {0} if key not present returns empty dict\".format(thisdict.get(\"name1\",{})))\n",
    "print(\"type obtained from gettigng key value dict\".format(type(thisdict.get(\"name1\",{}))))\n",
    "print(\"items in dictionary {0}\".format(thisdict.items()))\n",
    "print(\"keys in dictionary {0}\".format(thisdict.keys()))\n",
    "thisdict.pop(\"age\")# removing the element with key age\n",
    "#thisdict.pop(\"age1\")# removing the element with key age\n",
    "print(thisdict)\n",
    "print(\"###############\")\n",
    "print(\"keys in dictionary {0}\".format(thisdict.keys()))\n",
    "print(\"###############\")\n",
    "thisdict.popitem()# removes the arbitrary element\n",
    "print(\"###############\")\n",
    "print(\"keys in dictionary {0}\".format(thisdict.keys()))\n",
    "print(thisdict)\n",
    "thisdict.clear() # clear up all the items in the dictionary\n"
   ]
  },
  {
   "cell_type": "code",
   "execution_count": null,
   "metadata": {},
   "outputs": [],
   "source": [
    "#Lets take the flowers dict for all the operations"
   ]
  },
  {
   "cell_type": "code",
   "execution_count": null,
   "metadata": {},
   "outputs": [],
   "source": [
    "flowersdict = {'flower1': 'Rose', 'flower2': 'Shoeflower', 'flower3': 'Tulips', 'flower4': 'Daisy', 'flower5': 'Lotus'}\n",
    "print(flowersdict)\n",
    "#Clear operation \n",
    "flowersdict.clear()\n",
    "print(flowersdict)\n",
    "flowersdict = {'flower1': 'Rose', 'flower2': 'Shoeflower', 'flower3': 'Tulips', 'flower4': 'Daisy', 'flower5': 'Lotus'}\n",
    "print(flowersdict)"
   ]
  },
  {
   "cell_type": "code",
   "execution_count": null,
   "metadata": {},
   "outputs": [],
   "source": [
    "flowerlist2 =  flowersdict.copy()\n",
    "print(flowerlist2)\n",
    "flowersdict[\"flower1\"] = \"Red Rose\"\n",
    "print(flowerlist2)\n",
    "print(flowersdict)"
   ]
  },
  {
   "cell_type": "code",
   "execution_count": null,
   "metadata": {},
   "outputs": [],
   "source": [
    "#Get Operation\n",
    "#Retriviengi the value with key index throws error if key is not present\n",
    "a = flowersdict.get(\"flower2\")\n",
    "b = flowersdict.get(\"flower\",{})\n",
    "print(\"fetches the value of the key {0}\".format(a))\n",
    "print(\"fetches the value of the key {0} if key not present returns empty dict\".format(b))\n",
    "c = flowersdict[\"flower6\"]\n",
    "print(\"fetches the value of the key {0} if key not present returns empty dict\".format(c))"
   ]
  },
  {
   "cell_type": "code",
   "execution_count": null,
   "metadata": {},
   "outputs": [],
   "source": []
  }
 ],
 "metadata": {
  "kernelspec": {
   "display_name": "Python 3",
   "language": "python",
   "name": "python3"
  },
  "language_info": {
   "codemirror_mode": {
    "name": "ipython",
    "version": 3
   },
   "file_extension": ".py",
   "mimetype": "text/x-python",
   "name": "python",
   "nbconvert_exporter": "python",
   "pygments_lexer": "ipython3",
   "version": "3.7.3"
  }
 },
 "nbformat": 4,
 "nbformat_minor": 2
}

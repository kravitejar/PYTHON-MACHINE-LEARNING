{
 "cells": [
  {
   "cell_type": "markdown",
   "metadata": {},
   "source": [
    "### Scope\n",
    "Scope is a region of code where the value of the variable persists"
   ]
  },
  {
   "cell_type": "raw",
   "metadata": {},
   "source": [
    "Scope Precedences\n",
    "Local > Non-Local > Global"
   ]
  },
  {
   "cell_type": "raw",
   "metadata": {},
   "source": [
    "'''\n",
    "a = 5 # local\n",
    "nonlocal a = 10 # non local scope\n",
    "global a \n",
    "a =20\n",
    "'''"
   ]
  },
  {
   "cell_type": "markdown",
   "metadata": {},
   "source": [
    "## Local Scope"
   ]
  },
  {
   "cell_type": "code",
   "execution_count": 1,
   "metadata": {},
   "outputs": [
    {
     "name": "stdout",
     "output_type": "stream",
     "text": [
      "5\n",
      "Inner:  2\n",
      "Outer:  5\n",
      "local:  5\n",
      "#######################\n"
     ]
    }
   ],
   "source": [
    "y1 =5\n",
    "print(y1) \n",
    "\n",
    "def Outer():\n",
    "    x =1 \n",
    "    def Inner():\n",
    "        y1 = 2 \n",
    "        print(\"Inner: \", y1)\n",
    "        #print(\"Outer: \", x)\n",
    "        #print(Outer())\n",
    "    Inner()\n",
    "    print(\"Outer: \", y1)\n",
    "       \n",
    "#print(y1)        \n",
    "Outer()\n",
    "print(\"local: \", y1)\n",
    "  \n",
    "print(\"#######################\")  \n"
   ]
  },
  {
   "cell_type": "markdown",
   "metadata": {},
   "source": [
    "## Non Local Scope"
   ]
  },
  {
   "cell_type": "code",
   "execution_count": 4,
   "metadata": {},
   "outputs": [
    {
     "name": "stdout",
     "output_type": "stream",
     "text": [
      "6\n",
      "Outer Before Declaring nonlocal 1\n",
      "1\n",
      "Inner:  2\n",
      "Outer:  2\n",
      "out of function 6\n",
      "#####################################3\n"
     ]
    }
   ],
   "source": [
    "y2 =6\n",
    "print(y2)\n",
    "def Outer():\n",
    "    y2 =1\n",
    "    print(\"Outer Before Declaring nonlocal\", y2)\n",
    "    def Inner():\n",
    "        nonlocal y2\n",
    "        print(y2)\n",
    "        y2 = 2 \n",
    "        print(\"Inner: \", y2)\n",
    "    Inner()\n",
    "    print(\"Outer: \", y2)\n",
    "Outer()\n",
    "print(\"out of function\",y2)\n",
    "print(\"#####################################3\")\n"
   ]
  },
  {
   "cell_type": "markdown",
   "metadata": {},
   "source": [
    "### Non-Local With Multiple Nested Functions"
   ]
  },
  {
   "cell_type": "code",
   "execution_count": 10,
   "metadata": {},
   "outputs": [
    {
     "name": "stdout",
     "output_type": "stream",
     "text": [
      "1\n",
      "Before Non Local Declaration Inner:  2\n",
      "InnerMost:  3\n",
      "Inner:  3\n",
      "Outer:  1\n",
      "Top Level Local 0\n",
      "#####################################\n"
     ]
    }
   ],
   "source": [
    "x =0\n",
    "def Outer():\n",
    "    x =1 \n",
    "    print(x)\n",
    "    def Inner():\n",
    "        x = 2\n",
    "        print(\"Before Non Local Declaration Inner: \", x)\n",
    "        def InnerMost():\n",
    "            nonlocal x\n",
    "            x = 3 \n",
    "            print(\"InnerMost: \", x)\n",
    "        InnerMost()\n",
    "        print(\"Inner: \", x)\n",
    "    Inner()\n",
    "    print(\"Outer: \", x)\n",
    "Outer()\n",
    "print(\"Top Level Local\",x)\n",
    "print(\"#####################################\")\n"
   ]
  },
  {
   "cell_type": "markdown",
   "metadata": {},
   "source": [
    "## Global Scope"
   ]
  },
  {
   "cell_type": "code",
   "execution_count": 7,
   "metadata": {},
   "outputs": [
    {
     "name": "stdout",
     "output_type": "stream",
     "text": [
      "x is  0\n",
      "x is  1\n",
      "Enter the value12\n",
      "Inner:  144\n",
      "Outer:  1\n",
      "Global 144\n",
      "Global 10\n"
     ]
    }
   ],
   "source": [
    "import math\n",
    "#global x\n",
    "x=0\n",
    "print(\"x is \", x)\n",
    "def Outer():\n",
    "    x = 1\n",
    "    print(\"x is \",x)\n",
    "    def Inner():\n",
    "        global x \n",
    "        y = (int)(input(\"Enter the value\"))\n",
    "        if( y > 3):\n",
    "            #nonlocal x\n",
    "            x = y**2\n",
    "        else:\n",
    "            x = math.sqrt(y)\n",
    "        print(\"Inner: \", x)\n",
    "    Inner()\n",
    "    print(\"Outer: \", x)\n",
    "Outer()\n",
    "print(\"Global\",x)\n",
    "  \n",
    "x =10 \n",
    "print(\"Global\",x)"
   ]
  },
  {
   "cell_type": "code",
   "execution_count": 15,
   "metadata": {},
   "outputs": [
    {
     "name": "stdout",
     "output_type": "stream",
     "text": [
      "Inner:  2\n",
      "Outer:  1\n",
      "Global 1\n",
      "##############\n"
     ]
    }
   ],
   "source": [
    "def BoundaryLevel():\n",
    "    x =0\n",
    "    def Outer():\n",
    "        nonlocal x\n",
    "        x =1 \n",
    "        def Inner():\n",
    "            x = 2 \n",
    "            print(\"Inner: \", x)\n",
    "        Inner()\n",
    "        print(\"Outer: \", x)\n",
    "    Outer()\n",
    "    print(\"Global\",x)\n",
    "BoundaryLevel()\n",
    "print(\"##############\")"
   ]
  }
 ],
 "metadata": {
  "kernelspec": {
   "display_name": "Python 3",
   "language": "python",
   "name": "python3"
  },
  "language_info": {
   "codemirror_mode": {
    "name": "ipython",
    "version": 3
   },
   "file_extension": ".py",
   "mimetype": "text/x-python",
   "name": "python",
   "nbconvert_exporter": "python",
   "pygments_lexer": "ipython3",
   "version": "3.7.4"
  }
 },
 "nbformat": 4,
 "nbformat_minor": 2
}

{
 "cells": [
  {
   "cell_type": "markdown",
   "metadata": {},
   "source": [
    "# `*args` and `**kwargs`\n",
    "\n",
    "Work with Python long enough, and eventually you will encounter `*args` and `**kwargs`. These strange terms show up as parameters in function definitions. What do they do? Let's review a simple function:"
   ]
  },
  {
   "cell_type": "code",
   "execution_count": 1,
   "metadata": {},
   "outputs": [
    {
     "data": {
      "text/plain": [
       "260"
      ]
     },
     "execution_count": 1,
     "metadata": {},
     "output_type": "execute_result"
    }
   ],
   "source": [
    "def myfunc(a,b,c=100):\n",
    "    '''\n",
    "    Return the sum of two numbers #########\n",
    "    '''\n",
    "    return sum((a,b,c))\n",
    "\n",
    "myfunc(100,80,80)"
   ]
  },
  {
   "cell_type": "code",
   "execution_count": 2,
   "metadata": {},
   "outputs": [
    {
     "data": {
      "text/plain": [
       "103"
      ]
     },
     "execution_count": 2,
     "metadata": {},
     "output_type": "execute_result"
    }
   ],
   "source": [
    "myfunc(1,2)\n"
   ]
  },
  {
   "cell_type": "code",
   "execution_count": 3,
   "metadata": {},
   "outputs": [
    {
     "data": {
      "text/plain": [
       "'\\n    Return the sum of two numbers #########\\n    '"
      ]
     },
     "execution_count": 3,
     "metadata": {},
     "output_type": "execute_result"
    }
   ],
   "source": [
    "myfunc.__doc__"
   ]
  },
  {
   "cell_type": "code",
   "execution_count": 4,
   "metadata": {},
   "outputs": [
    {
     "data": {
      "text/plain": [
       "range(0, 20)"
      ]
     },
     "execution_count": 4,
     "metadata": {},
     "output_type": "execute_result"
    }
   ],
   "source": [
    "range(20)"
   ]
  },
  {
   "cell_type": "markdown",
   "metadata": {},
   "source": [
    "This function returns 5% of the sum of **a** and **b**. In this example, **a** and **b** are *positional* arguments; that is, 40 is assigned to **a** because it is the first argument, and 60 to **b**. Notice also that to work with multiple positional arguments in the `sum()` function we had to pass them in as a tuple.\n",
    "\n",
    "What if we want to work with more than two numbers? One way would be to assign a *lot* of parameters, and give each one a default value."
   ]
  },
  {
   "cell_type": "code",
   "execution_count": 5,
   "metadata": {},
   "outputs": [
    {
     "data": {
      "text/plain": [
       "125"
      ]
     },
     "execution_count": 5,
     "metadata": {},
     "output_type": "execute_result"
    }
   ],
   "source": [
    "def myfunc(a=0,b=0,c=0,d=0,e=0,f=0,g=0,h=0,i=0,j=0):\n",
    "    return sum((a,b,c,d,e))\n",
    "\n",
    "myfunc(40,60,20,2,3)"
   ]
  },
  {
   "cell_type": "code",
   "execution_count": 8,
   "metadata": {},
   "outputs": [
    {
     "data": {
      "text/plain": [
       "127"
      ]
     },
     "execution_count": 8,
     "metadata": {},
     "output_type": "execute_result"
    }
   ],
   "source": [
    "def myfunc(a,b,c,d,e):\n",
    "    return sum((a,b,c,d,e))\n",
    "\n",
    "myfunc(40,60,20,2,5)"
   ]
  },
  {
   "cell_type": "raw",
   "metadata": {},
   "source": [
    "positional arguments/non-default arguments are compulsory\n",
    "named arguments/default arguments should come after the positional arguments"
   ]
  },
  {
   "cell_type": "code",
   "execution_count": 9,
   "metadata": {},
   "outputs": [],
   "source": []
  },
  {
   "cell_type": "code",
   "execution_count": 10,
   "metadata": {},
   "outputs": [],
   "source": [
    "def myfunc(b,a =10):\n",
    "    return a+b"
   ]
  },
  {
   "cell_type": "code",
   "execution_count": 8,
   "metadata": {},
   "outputs": [
    {
     "name": "stdout",
     "output_type": "stream",
     "text": [
      "<class 'complex'>\n"
     ]
    },
    {
     "ename": "TypeError",
     "evalue": "myfunc() missing 5 required positional arguments: 'a', 'b', 'c', 'd', and 'e'",
     "output_type": "error",
     "traceback": [
      "\u001b[1;31m---------------------------------------------------------------------------\u001b[0m",
      "\u001b[1;31mTypeError\u001b[0m                                 Traceback (most recent call last)",
      "\u001b[1;32m<ipython-input-8-e94af69467a0>\u001b[0m in \u001b[0;36m<module>\u001b[1;34m\u001b[0m\n\u001b[0;32m      1\u001b[0m \u001b[0mprint\u001b[0m\u001b[1;33m(\u001b[0m\u001b[0mtype\u001b[0m\u001b[1;33m(\u001b[0m\u001b[0mmyfunc\u001b[0m\u001b[1;33m(\u001b[0m\u001b[1;36m40\u001b[0m\u001b[1;33m,\u001b[0m\u001b[1;36m60\u001b[0m\u001b[1;33m,\u001b[0m\u001b[1;36m20\u001b[0m\u001b[1;33m,\u001b[0m\u001b[1;36m2\u001b[0m\u001b[1;33m,\u001b[0m\u001b[1;36m5.0\u001b[0m\u001b[1;33m+\u001b[0m\u001b[1;36m2j\u001b[0m\u001b[1;33m)\u001b[0m\u001b[1;33m)\u001b[0m\u001b[1;33m)\u001b[0m\u001b[1;33m\u001b[0m\u001b[1;33m\u001b[0m\u001b[0m\n\u001b[1;32m----> 2\u001b[1;33m \u001b[0mprint\u001b[0m\u001b[1;33m(\u001b[0m\u001b[0mtype\u001b[0m\u001b[1;33m(\u001b[0m\u001b[0mmyfunc\u001b[0m\u001b[1;33m(\u001b[0m\u001b[1;33m)\u001b[0m\u001b[1;33m)\u001b[0m\u001b[1;33m)\u001b[0m\u001b[1;33m\u001b[0m\u001b[1;33m\u001b[0m\u001b[0m\n\u001b[0m",
      "\u001b[1;31mTypeError\u001b[0m: myfunc() missing 5 required positional arguments: 'a', 'b', 'c', 'd', and 'e'"
     ]
    }
   ],
   "source": [
    "print(type(myfunc(40,60,20,2,5.0+2j)))\n",
    "print(type(myfunc()))"
   ]
  },
  {
   "cell_type": "markdown",
   "metadata": {},
   "source": [
    "Obviously this is not a very efficient solution, and that's where `*args` comes in.\n",
    "\n",
    "## `*args`\n",
    "\n",
    "When a function parameter starts with an asterisk, it allows for an *arbitrary number* of arguments, and the function takes them in as a tuple of values. Rewriting the above function:"
   ]
  },
  {
   "cell_type": "code",
   "execution_count": 16,
   "metadata": {},
   "outputs": [
    {
     "name": "stdout",
     "output_type": "stream",
     "text": [
      "(1, 2, 3, 4, 7, 100, 12, 13, 16, 1, 8) <class 'tuple'>\n",
      "167\n",
      "(1, 2, 3, 4, 7, 100, 12, 13, 16, 1) <class 'tuple'>\n",
      "159\n",
      "(1, 2, 3, 4, 7, 100, 12) <class 'tuple'>\n",
      "129\n"
     ]
    }
   ],
   "source": [
    "def myfunc(*hi):\n",
    "    print(hi, type(hi))\n",
    "    return sum(hi)\n",
    "\n",
    "print(myfunc(1,2,3,4,7,100,12,13,16,1,8))\n",
    "print(myfunc(1,2,3,4,7,100,12,13,16,1))\n",
    "print(myfunc(1,2,3,4,7,100,12))"
   ]
  },
  {
   "cell_type": "code",
   "execution_count": 20,
   "metadata": {},
   "outputs": [
    {
     "name": "stdout",
     "output_type": "stream",
     "text": [
      "11058\n",
      "56\n"
     ]
    }
   ],
   "source": [
    "### Sum of Next number squares \n",
    "def nextnosquaresum(*allnos):\n",
    "    total_sum = 0\n",
    "    for x in allnos:\n",
    "        total_sum = total_sum + (x +1)**2 \n",
    "    return total_sum        \n",
    "print(nextnosquaresum(1,2,3,4,7,100,12,13,16,1,8))\n",
    "print(nextnosquaresum(1,3,5))\n"
   ]
  },
  {
   "cell_type": "markdown",
   "metadata": {},
   "source": [
    "Notice how passing the keyword \"args\" into the `sum()` function did the same thing as a tuple of arguments.\n",
    "\n",
    "It is worth noting that the word \"args\" is itself arbitrary - any word will do so long as it's preceded by an asterisk. To demonstrate this:"
   ]
  },
  {
   "cell_type": "code",
   "execution_count": 31,
   "metadata": {},
   "outputs": [
    {
     "name": "stdout",
     "output_type": "stream",
     "text": [
      "<class 'tuple'>\n",
      "40\n",
      "60\n",
      "20\n",
      "80\n",
      "7\n",
      "5\n",
      "6\n",
      "11\n",
      "12\n",
      "34\n"
     ]
    },
    {
     "data": {
      "text/plain": [
       "275"
      ]
     },
     "execution_count": 31,
     "metadata": {},
     "output_type": "execute_result"
    }
   ],
   "source": [
    "def myfunc(*num):\n",
    "    print(type(num))\n",
    "    for x in num:\n",
    "        print(x)\n",
    "    return sum(num)\n",
    "\n",
    "   \n",
    "myfunc(40,60,20,80,7,5,6,11,12,34)"
   ]
  },
  {
   "cell_type": "markdown",
   "metadata": {},
   "source": [
    "## `**kwargs`\n",
    "\n",
    "Similarly, Python offers a way to handle arbitrary numbers of *keyworded* arguments. Instead of creating a tuple of values, `**kwargs` builds a dictionary of key/value pairs. For example:"
   ]
  },
  {
   "cell_type": "code",
   "execution_count": 39,
   "metadata": {},
   "outputs": [],
   "source": [
    "def myfunc(**abc):\n",
    "    print(abc,type(abc))\n",
    "    for fruits in abc:\n",
    "        print(fruits)\n",
    "        if len(fruits)<6:\n",
    "            print(f\"My favorite fruit is {abc['fruit']}\")\n",
    "        else:\n",
    "            print(\"I don't like fruit\")\n",
    "    \n",
    "\n",
    " # review String Formatting and f-strings if this syntax is unfamiliar"
   ]
  },
  {
   "cell_type": "code",
   "execution_count": 40,
   "metadata": {},
   "outputs": [
    {
     "name": "stdout",
     "output_type": "stream",
     "text": [
      "{} <class 'dict'>\n"
     ]
    }
   ],
   "source": [
    "myfunc()"
   ]
  },
  {
   "cell_type": "code",
   "execution_count": null,
   "metadata": {},
   "outputs": [],
   "source": [
    " # review String Formatting and f-strings if this syntax is unfamiliar"
   ]
  },
  {
   "cell_type": "raw",
   "metadata": {},
   "source": [
    "{\"fruit\":\"pineapple\",\"goodfruit\":\"apple\"}"
   ]
  },
  {
   "cell_type": "code",
   "execution_count": 41,
   "metadata": {},
   "outputs": [
    {
     "name": "stdout",
     "output_type": "stream",
     "text": [
      "{'fruit': 'pineapple', 'goodfruit': 'apple'} <class 'dict'>\n",
      "fruit\n",
      "My favorite fruit is pineapple\n",
      "goodfruit\n",
      "I don't like fruit\n"
     ]
    }
   ],
   "source": [
    "myfunc(fruit='pineapple', goodfruit =\"apple\")"
   ]
  },
  {
   "cell_type": "code",
   "execution_count": 42,
   "metadata": {},
   "outputs": [
    {
     "data": {
      "text/plain": [
       "tuple"
      ]
     },
     "execution_count": 42,
     "metadata": {},
     "output_type": "execute_result"
    }
   ],
   "source": [
    "a = 1,\n",
    "type(a)"
   ]
  },
  {
   "cell_type": "code",
   "execution_count": 44,
   "metadata": {},
   "outputs": [],
   "source": [
    "def add2fruitbaskets(**abc):\n",
    "    basket1= []\n",
    "    basket2 =[]\n",
    "    for fruits in abc:\n",
    "        if(len(fruits)<5):\n",
    "            basket1.append(abc[fruits])\n",
    "        else:\n",
    "            basket2.append(abc[fruits])\n",
    "    return basket1,basket2"
   ]
  },
  {
   "cell_type": "code",
   "execution_count": 17,
   "metadata": {},
   "outputs": [
    {
     "name": "stdout",
     "output_type": "stream",
     "text": [
      "['apple', 'orange', 'guava']\n",
      "(['apple', 'guava', 'orange'], ['pomegrante'])\n"
     ]
    }
   ],
   "source": [
    "data = add2fruitbaskets(one=\"apple\",five=\"orange\", six=\"guava\", seven=\"pomegrante\")\n",
    "print(data[0])\n",
    "#y = data[0].sort()\n",
    "data[0].sort()\n",
    "print(data)\n",
    "#y.sort()\n",
    "#print(y)"
   ]
  },
  {
   "cell_type": "code",
   "execution_count": 54,
   "metadata": {},
   "outputs": [
    {
     "name": "stdout",
     "output_type": "stream",
     "text": [
      "([('apple', 4), ('orange', 2), ('guava', 7), ('pomegrante', 4)], [('carrot', 20)], [('chalk', 50)])\n",
      "([('apple', 4), ('orange', 2), ('guava', 7)], [('spinach', 2), ('beets', 4), ('carrot', 20)], [])\n"
     ]
    }
   ],
   "source": [
    "vegetables = ['carrot','beets','tomato','brinjal','cauliflower','spinach']\n",
    "fruits = ['apple', 'orange', 'guava','pomegrante', 'water melon', 'pineapple']\n",
    "def separatefruitandveggies(**abc):\n",
    "    fruit_basket= []\n",
    "    vegetable_basket =[]\n",
    "    others = []\n",
    "    for grocery in abc:\n",
    "        if(grocery in fruits):\n",
    "            fruit_basket.append((grocery,abc[grocery]))\n",
    "        elif(grocery in vegetables): \n",
    "             vegetable_basket.append((grocery,abc[grocery]))\n",
    "        else:\n",
    "            others.append((grocery,abc[grocery]))\n",
    "    return fruit_basket,vegetable_basket, others\n",
    "\n",
    "data = separatefruitandveggies(apple=4, orange =2, guava = 7, pomegrante = 4, carrot =20, chalk =50)\n",
    "print(data)\n",
    "data = separatefruitandveggies(apple=4,spinach=2, orange =2, guava = 7, beets = 4, carrot =20)\n",
    "print(data)\n"
   ]
  },
  {
   "cell_type": "code",
   "execution_count": 55,
   "metadata": {},
   "outputs": [
    {
     "name": "stdout",
     "output_type": "stream",
     "text": [
      "It's a red color fruit and the fruit is  apple\n",
      "It's not a red color fruit and I am not telling the name\n",
      "It's a red color fruit and the fruit is  pomegrante\n"
     ]
    }
   ],
   "source": [
    "redcolorfruit = [\"apple\", \"pomegrante\"]\n",
    "def myfruitcolorfunc(**redcolors):\n",
    "    for fruits in redcolors:\n",
    "        if redcolors[fruits] in redcolorfruit:\n",
    "            print(\"It's a red color fruit and the fruit is  {}\".format(redcolors[fruits]))\n",
    "        else:\n",
    "            print(\"It's not a red color fruit and I am not telling the name\")\n",
    "\n",
    "myfruitcolorfunc(fruit = \"apple\" , goodfruit = \"pineapple\", luckyfruit = \"pomegrante\")"
   ]
  },
  {
   "cell_type": "code",
   "execution_count": 56,
   "metadata": {},
   "outputs": [],
   "source": [
    "def myfunc(**abc):\n",
    "    for fruits in abc:\n",
    "        if len(fruits)>6:\n",
    "            print(f\"My favorite fruit is {abc[fruits]}\")\n",
    "\n"
   ]
  },
  {
   "cell_type": "code",
   "execution_count": null,
   "metadata": {},
   "outputs": [],
   "source": [
    "myfunc(fruit = \"apple\" , goodfruit = \"pineapple\", luckyfruit = \"pomegrante\")"
   ]
  },
  {
   "cell_type": "markdown",
   "metadata": {},
   "source": [
    "## `*args` and `**kwargs` combined\n",
    "You can pass `*args` and `**kwargs` into the same function, but `*args` have to appear before `**kwargs`"
   ]
  },
  {
   "cell_type": "code",
   "execution_count": 18,
   "metadata": {},
   "outputs": [
    {
     "data": {
      "text/plain": [
       "'rose and jasmine and shoeflower'"
      ]
     },
     "execution_count": 18,
     "metadata": {},
     "output_type": "execute_result"
    }
   ],
   "source": [
    "list_flower = [\"rose\", \"jasmine\", \"shoeflower\"]\n",
    "a = ' and '.join(list_flower)\n",
    "a\n"
   ]
  },
  {
   "cell_type": "code",
   "execution_count": 19,
   "metadata": {},
   "outputs": [],
   "source": [
    "def add(a,b):\n",
    "    pass"
   ]
  },
  {
   "cell_type": "code",
   "execution_count": 58,
   "metadata": {},
   "outputs": [
    {
     "name": "stdout",
     "output_type": "stream",
     "text": [
      "I like eggs and spam and nuts\n",
      "now we have added carrot \n",
      "now we have added milk \n"
     ]
    }
   ],
   "source": [
    "def myfunc(*args, **kwargs):\n",
    "    try:\n",
    "        if 'fruit' and 'juice' in kwargs:\n",
    "            print(f\"I like {' and '.join(args)} and my favorite fruit is {kwargs['fruit']}\")\n",
    "            print(\"##############################\")\n",
    "            print(\"I like {} and my favorite fruit is {}\".format((' and '.join(args)),kwargs['juice']))\n",
    "            print(f\"May I have some {kwargs['juice']} juice?\")\n",
    "        else:\n",
    "            print(f\"I like {' and '.join(args)}\")\n",
    "            print(f\"now we have added {kwargs['veggie']} \")\n",
    "            print(f\"now we have added {kwargs['fresh']} \")\n",
    "    except ex as exception:\n",
    "            print(ex)\n",
    "#myfunc('eggs','spam','nuts',fruit='cherries',juice='orange',veggie=\"carrot\", cereals = \"nuts\", fresh = 'milk')\n",
    "\n",
    "myfunc('eggs','spam','nuts',veggie=\"carrot\", cereals = \"nuts\", fresh = 'milk', fruit='apple' , juice='orange')"
   ]
  },
  {
   "cell_type": "code",
   "execution_count": null,
   "metadata": {},
   "outputs": [],
   "source": [
    "def simplesum(a):\n",
    "    pass"
   ]
  },
  {
   "cell_type": "markdown",
   "metadata": {},
   "source": [
    "Placing keyworded arguments ahead of positional arguments raises an exception:"
   ]
  },
  {
   "cell_type": "code",
   "execution_count": 59,
   "metadata": {},
   "outputs": [
    {
     "name": "stdout",
     "output_type": "stream",
     "text": [
      "I like eggs and spam and my favorite fruit is cherries\n",
      "##############################\n",
      "I like eggs and spam and my favorite fruit is orange\n",
      "May I have some orange juice?\n"
     ]
    }
   ],
   "source": [
    "myfunc('eggs','spam',fruit='cherries',juice='orange')\n"
   ]
  },
  {
   "cell_type": "code",
   "execution_count": 60,
   "metadata": {},
   "outputs": [
    {
     "ename": "SyntaxError",
     "evalue": "positional argument follows keyword argument (<ipython-input-60-fc6ff65addcc>, line 1)",
     "output_type": "error",
     "traceback": [
      "\u001b[1;36m  File \u001b[1;32m\"<ipython-input-60-fc6ff65addcc>\"\u001b[1;36m, line \u001b[1;32m1\u001b[0m\n\u001b[1;33m    myfunc(fruit='cherries',juice='orange','eggs','spam')\u001b[0m\n\u001b[1;37m                                          ^\u001b[0m\n\u001b[1;31mSyntaxError\u001b[0m\u001b[1;31m:\u001b[0m positional argument follows keyword argument\n"
     ]
    }
   ],
   "source": [
    "myfunc(fruit='cherries',juice='orange','eggs','spam')"
   ]
  },
  {
   "cell_type": "markdown",
   "metadata": {},
   "source": [
    "As with \"args\", you can use any name you'd like for keyworded arguments - \"kwargs\" is just a popular convention.\n",
    "\n",
    "That's it! Now you should understand how `*args` and `**kwargs` provide the flexibilty to work with arbitrary numbers of arguments!"
   ]
  }
 ],
 "metadata": {
  "kernelspec": {
   "display_name": "Python 3",
   "language": "python",
   "name": "python3"
  },
  "language_info": {
   "codemirror_mode": {
    "name": "ipython",
    "version": 3
   },
   "file_extension": ".py",
   "mimetype": "text/x-python",
   "name": "python",
   "nbconvert_exporter": "python",
   "pygments_lexer": "ipython3",
   "version": "3.7.4"
  }
 },
 "nbformat": 4,
 "nbformat_minor": 2
}

{
 "cells": [
  {
   "cell_type": "markdown",
   "metadata": {},
   "source": [
    "# Datetime\n",
    "\n",
    "Python has the datetime module to help deal with timestamps in your code. Time values are represented with the time class. Times have attributes for hour, minute, second, and microsecond. They can also include time zone information. The arguments to initialize a time instance are optional, but the default of 0 is unlikely to be what you want.\n"
   ]
  },
  {
   "cell_type": "markdown",
   "metadata": {},
   "source": [
    "##### datetime class\n",
    "##### time class\n",
    "##### date class\n",
    "##### timedelta class\n",
    "##### timezone class\n",
    "##### tzinfo class"
   ]
  },
  {
   "cell_type": "markdown",
   "metadata": {},
   "source": [
    "\n",
    "## Time\n",
    "Let's take a look at how we can extract time information from the datetime module. We can create a timestamp by specifying datetime.time(hour,minute,second,microsecond)"
   ]
  },
  {
   "cell_type": "code",
   "execution_count": 7,
   "metadata": {},
   "outputs": [
    {
     "name": "stdout",
     "output_type": "stream",
     "text": [
      "00:00:00\n",
      "None\n",
      "######################################\n",
      "04:20:01.123456\n",
      "######################################\n",
      "04:20:01.123456+00:00\n",
      "######################################\n",
      "04:20:01.123456\n",
      "######################################\n",
      "04:20:01.123456\n",
      "######################################\n",
      "hour  : 4\n",
      "minute: 20\n",
      "second: 1\n",
      "microsecond: 123456\n",
      "tzinfo: America/St_Johns\n"
     ]
    }
   ],
   "source": [
    "import datetime\n",
    "from pytz import timezone\n",
    "\n",
    "timedefault = datetime.time()\n",
    "t = datetime.time(4, 20, 1,123456)\n",
    "utctime = datetime.time(4, 20, 1,123456, timezone('UTC'))\n",
    "Austime = datetime.time(4, 20, 1,123456, timezone('Australia/Sydney'))\n",
    "Ustime = datetime.time(4, 20, 1,123456, timezone('America/St_Johns'))\n",
    "\n",
    "# Let's show the different components\n",
    "print(timedefault)\n",
    "print(timedefault.tzinfo)\n",
    "print(\"######################################\")\n",
    "print(t)\n",
    "print(\"######################################\")\n",
    "print(utctime)\n",
    "print(\"######################################\")\n",
    "print(Austime)\n",
    "print(\"######################################\")\n",
    "print(Ustime)\n",
    "print(\"######################################\")\n",
    "\n",
    "print('hour  :', t.hour)\n",
    "print('minute:', t.minute)\n",
    "print('second:', t.second)\n",
    "print('microsecond:', t.microsecond)\n",
    "print('tzinfo:', Ustime.tzinfo)"
   ]
  },
  {
   "cell_type": "markdown",
   "metadata": {},
   "source": [
    "##### Get all timezones"
   ]
  },
  {
   "cell_type": "code",
   "execution_count": 8,
   "metadata": {},
   "outputs": [
    {
     "name": "stdout",
     "output_type": "stream",
     "text": [
      "<class 'pytz.lazy.LazyList.__new__.<locals>.LazyList'>\n",
      "['Africa/Abidjan', 'Africa/Accra', 'Africa/Addis_Ababa', 'Africa/Algiers', 'Africa/Asmara', 'Africa/Asmera', 'Africa/Bamako', 'Africa/Bangui', 'Africa/Banjul', 'Africa/Bissau', 'Africa/Blantyre', 'Africa/Brazzaville', 'Africa/Bujumbura', 'Africa/Cairo', 'Africa/Casablanca', 'Africa/Ceuta', 'Africa/Conakry', 'Africa/Dakar', 'Africa/Dar_es_Salaam', 'Africa/Djibouti', 'Africa/Douala', 'Africa/El_Aaiun', 'Africa/Freetown', 'Africa/Gaborone', 'Africa/Harare', 'Africa/Johannesburg', 'Africa/Juba', 'Africa/Kampala', 'Africa/Khartoum', 'Africa/Kigali', 'Africa/Kinshasa', 'Africa/Lagos', 'Africa/Libreville', 'Africa/Lome', 'Africa/Luanda', 'Africa/Lubumbashi', 'Africa/Lusaka', 'Africa/Malabo', 'Africa/Maputo', 'Africa/Maseru', 'Africa/Mbabane', 'Africa/Mogadishu', 'Africa/Monrovia', 'Africa/Nairobi', 'Africa/Ndjamena', 'Africa/Niamey', 'Africa/Nouakchott', 'Africa/Ouagadougou', 'Africa/Porto-Novo', 'Africa/Sao_Tome', 'Africa/Timbuktu', 'Africa/Tripoli', 'Africa/Tunis', 'Africa/Windhoek', 'America/Adak', 'America/Anchorage', 'America/Anguilla', 'America/Antigua', 'America/Araguaina', 'America/Argentina/Buenos_Aires', 'America/Argentina/Catamarca', 'America/Argentina/ComodRivadavia', 'America/Argentina/Cordoba', 'America/Argentina/Jujuy', 'America/Argentina/La_Rioja', 'America/Argentina/Mendoza', 'America/Argentina/Rio_Gallegos', 'America/Argentina/Salta', 'America/Argentina/San_Juan', 'America/Argentina/San_Luis', 'America/Argentina/Tucuman', 'America/Argentina/Ushuaia', 'America/Aruba', 'America/Asuncion', 'America/Atikokan', 'America/Atka', 'America/Bahia', 'America/Bahia_Banderas', 'America/Barbados', 'America/Belem', 'America/Belize', 'America/Blanc-Sablon', 'America/Boa_Vista', 'America/Bogota', 'America/Boise', 'America/Buenos_Aires', 'America/Cambridge_Bay', 'America/Campo_Grande', 'America/Cancun', 'America/Caracas', 'America/Catamarca', 'America/Cayenne', 'America/Cayman', 'America/Chicago', 'America/Chihuahua', 'America/Coral_Harbour', 'America/Cordoba', 'America/Costa_Rica', 'America/Creston', 'America/Cuiaba', 'America/Curacao', 'America/Danmarkshavn', 'America/Dawson', 'America/Dawson_Creek', 'America/Denver', 'America/Detroit', 'America/Dominica', 'America/Edmonton', 'America/Eirunepe', 'America/El_Salvador', 'America/Ensenada', 'America/Fort_Nelson', 'America/Fort_Wayne', 'America/Fortaleza', 'America/Glace_Bay', 'America/Godthab', 'America/Goose_Bay', 'America/Grand_Turk', 'America/Grenada', 'America/Guadeloupe', 'America/Guatemala', 'America/Guayaquil', 'America/Guyana', 'America/Halifax', 'America/Havana', 'America/Hermosillo', 'America/Indiana/Indianapolis', 'America/Indiana/Knox', 'America/Indiana/Marengo', 'America/Indiana/Petersburg', 'America/Indiana/Tell_City', 'America/Indiana/Vevay', 'America/Indiana/Vincennes', 'America/Indiana/Winamac', 'America/Indianapolis', 'America/Inuvik', 'America/Iqaluit', 'America/Jamaica', 'America/Jujuy', 'America/Juneau', 'America/Kentucky/Louisville', 'America/Kentucky/Monticello', 'America/Knox_IN', 'America/Kralendijk', 'America/La_Paz', 'America/Lima', 'America/Los_Angeles', 'America/Louisville', 'America/Lower_Princes', 'America/Maceio', 'America/Managua', 'America/Manaus', 'America/Marigot', 'America/Martinique', 'America/Matamoros', 'America/Mazatlan', 'America/Mendoza', 'America/Menominee', 'America/Merida', 'America/Metlakatla', 'America/Mexico_City', 'America/Miquelon', 'America/Moncton', 'America/Monterrey', 'America/Montevideo', 'America/Montreal', 'America/Montserrat', 'America/Nassau', 'America/New_York', 'America/Nipigon', 'America/Nome', 'America/Noronha', 'America/North_Dakota/Beulah', 'America/North_Dakota/Center', 'America/North_Dakota/New_Salem', 'America/Ojinaga', 'America/Panama', 'America/Pangnirtung', 'America/Paramaribo', 'America/Phoenix', 'America/Port-au-Prince', 'America/Port_of_Spain', 'America/Porto_Acre', 'America/Porto_Velho', 'America/Puerto_Rico', 'America/Punta_Arenas', 'America/Rainy_River', 'America/Rankin_Inlet', 'America/Recife', 'America/Regina', 'America/Resolute', 'America/Rio_Branco', 'America/Rosario', 'America/Santa_Isabel', 'America/Santarem', 'America/Santiago', 'America/Santo_Domingo', 'America/Sao_Paulo', 'America/Scoresbysund', 'America/Shiprock', 'America/Sitka', 'America/St_Barthelemy', 'America/St_Johns', 'America/St_Kitts', 'America/St_Lucia', 'America/St_Thomas', 'America/St_Vincent', 'America/Swift_Current', 'America/Tegucigalpa', 'America/Thule', 'America/Thunder_Bay', 'America/Tijuana', 'America/Toronto', 'America/Tortola', 'America/Vancouver', 'America/Virgin', 'America/Whitehorse', 'America/Winnipeg', 'America/Yakutat', 'America/Yellowknife', 'Antarctica/Casey', 'Antarctica/Davis', 'Antarctica/DumontDUrville', 'Antarctica/Macquarie', 'Antarctica/Mawson', 'Antarctica/McMurdo', 'Antarctica/Palmer', 'Antarctica/Rothera', 'Antarctica/South_Pole', 'Antarctica/Syowa', 'Antarctica/Troll', 'Antarctica/Vostok', 'Arctic/Longyearbyen', 'Asia/Aden', 'Asia/Almaty', 'Asia/Amman', 'Asia/Anadyr', 'Asia/Aqtau', 'Asia/Aqtobe', 'Asia/Ashgabat', 'Asia/Ashkhabad', 'Asia/Atyrau', 'Asia/Baghdad', 'Asia/Bahrain', 'Asia/Baku', 'Asia/Bangkok', 'Asia/Barnaul', 'Asia/Beirut', 'Asia/Bishkek', 'Asia/Brunei', 'Asia/Calcutta', 'Asia/Chita', 'Asia/Choibalsan', 'Asia/Chongqing', 'Asia/Chungking', 'Asia/Colombo', 'Asia/Dacca', 'Asia/Damascus', 'Asia/Dhaka', 'Asia/Dili', 'Asia/Dubai', 'Asia/Dushanbe', 'Asia/Famagusta', 'Asia/Gaza', 'Asia/Harbin', 'Asia/Hebron', 'Asia/Ho_Chi_Minh', 'Asia/Hong_Kong', 'Asia/Hovd', 'Asia/Irkutsk', 'Asia/Istanbul', 'Asia/Jakarta', 'Asia/Jayapura', 'Asia/Jerusalem', 'Asia/Kabul', 'Asia/Kamchatka', 'Asia/Karachi', 'Asia/Kashgar', 'Asia/Kathmandu', 'Asia/Katmandu', 'Asia/Khandyga', 'Asia/Kolkata', 'Asia/Krasnoyarsk', 'Asia/Kuala_Lumpur', 'Asia/Kuching', 'Asia/Kuwait', 'Asia/Macao', 'Asia/Macau', 'Asia/Magadan', 'Asia/Makassar', 'Asia/Manila', 'Asia/Muscat', 'Asia/Nicosia', 'Asia/Novokuznetsk', 'Asia/Novosibirsk', 'Asia/Omsk', 'Asia/Oral', 'Asia/Phnom_Penh', 'Asia/Pontianak', 'Asia/Pyongyang', 'Asia/Qatar', 'Asia/Qostanay', 'Asia/Qyzylorda', 'Asia/Rangoon', 'Asia/Riyadh', 'Asia/Saigon', 'Asia/Sakhalin', 'Asia/Samarkand', 'Asia/Seoul', 'Asia/Shanghai', 'Asia/Singapore', 'Asia/Srednekolymsk', 'Asia/Taipei', 'Asia/Tashkent', 'Asia/Tbilisi', 'Asia/Tehran', 'Asia/Tel_Aviv', 'Asia/Thimbu', 'Asia/Thimphu', 'Asia/Tokyo', 'Asia/Tomsk', 'Asia/Ujung_Pandang', 'Asia/Ulaanbaatar', 'Asia/Ulan_Bator', 'Asia/Urumqi', 'Asia/Ust-Nera', 'Asia/Vientiane', 'Asia/Vladivostok', 'Asia/Yakutsk', 'Asia/Yangon', 'Asia/Yekaterinburg', 'Asia/Yerevan', 'Atlantic/Azores', 'Atlantic/Bermuda', 'Atlantic/Canary', 'Atlantic/Cape_Verde', 'Atlantic/Faeroe', 'Atlantic/Faroe', 'Atlantic/Jan_Mayen', 'Atlantic/Madeira', 'Atlantic/Reykjavik', 'Atlantic/South_Georgia', 'Atlantic/St_Helena', 'Atlantic/Stanley', 'Australia/ACT', 'Australia/Adelaide', 'Australia/Brisbane', 'Australia/Broken_Hill', 'Australia/Canberra', 'Australia/Currie', 'Australia/Darwin', 'Australia/Eucla', 'Australia/Hobart', 'Australia/LHI', 'Australia/Lindeman', 'Australia/Lord_Howe', 'Australia/Melbourne', 'Australia/NSW', 'Australia/North', 'Australia/Perth', 'Australia/Queensland', 'Australia/South', 'Australia/Sydney', 'Australia/Tasmania', 'Australia/Victoria', 'Australia/West', 'Australia/Yancowinna', 'Brazil/Acre', 'Brazil/DeNoronha', 'Brazil/East', 'Brazil/West', 'CET', 'CST6CDT', 'Canada/Atlantic', 'Canada/Central', 'Canada/Eastern', 'Canada/Mountain', 'Canada/Newfoundland', 'Canada/Pacific', 'Canada/Saskatchewan', 'Canada/Yukon', 'Chile/Continental', 'Chile/EasterIsland', 'Cuba', 'EET', 'EST', 'EST5EDT', 'Egypt', 'Eire', 'Etc/GMT', 'Etc/GMT+0', 'Etc/GMT+1', 'Etc/GMT+10', 'Etc/GMT+11', 'Etc/GMT+12', 'Etc/GMT+2', 'Etc/GMT+3', 'Etc/GMT+4', 'Etc/GMT+5', 'Etc/GMT+6', 'Etc/GMT+7', 'Etc/GMT+8', 'Etc/GMT+9', 'Etc/GMT-0', 'Etc/GMT-1', 'Etc/GMT-10', 'Etc/GMT-11', 'Etc/GMT-12', 'Etc/GMT-13', 'Etc/GMT-14', 'Etc/GMT-2', 'Etc/GMT-3', 'Etc/GMT-4', 'Etc/GMT-5', 'Etc/GMT-6', 'Etc/GMT-7', 'Etc/GMT-8', 'Etc/GMT-9', 'Etc/GMT0', 'Etc/Greenwich', 'Etc/UCT', 'Etc/UTC', 'Etc/Universal', 'Etc/Zulu', 'Europe/Amsterdam', 'Europe/Andorra', 'Europe/Astrakhan', 'Europe/Athens', 'Europe/Belfast', 'Europe/Belgrade', 'Europe/Berlin', 'Europe/Bratislava', 'Europe/Brussels', 'Europe/Bucharest', 'Europe/Budapest', 'Europe/Busingen', 'Europe/Chisinau', 'Europe/Copenhagen', 'Europe/Dublin', 'Europe/Gibraltar', 'Europe/Guernsey', 'Europe/Helsinki', 'Europe/Isle_of_Man', 'Europe/Istanbul', 'Europe/Jersey', 'Europe/Kaliningrad', 'Europe/Kiev', 'Europe/Kirov', 'Europe/Lisbon', 'Europe/Ljubljana', 'Europe/London', 'Europe/Luxembourg', 'Europe/Madrid', 'Europe/Malta', 'Europe/Mariehamn', 'Europe/Minsk', 'Europe/Monaco', 'Europe/Moscow', 'Europe/Nicosia', 'Europe/Oslo', 'Europe/Paris', 'Europe/Podgorica', 'Europe/Prague', 'Europe/Riga', 'Europe/Rome', 'Europe/Samara', 'Europe/San_Marino', 'Europe/Sarajevo', 'Europe/Saratov', 'Europe/Simferopol', 'Europe/Skopje', 'Europe/Sofia', 'Europe/Stockholm', 'Europe/Tallinn', 'Europe/Tirane', 'Europe/Tiraspol', 'Europe/Ulyanovsk', 'Europe/Uzhgorod', 'Europe/Vaduz', 'Europe/Vatican', 'Europe/Vienna', 'Europe/Vilnius', 'Europe/Volgograd', 'Europe/Warsaw', 'Europe/Zagreb', 'Europe/Zaporozhye', 'Europe/Zurich', 'GB', 'GB-Eire', 'GMT', 'GMT+0', 'GMT-0', 'GMT0', 'Greenwich', 'HST', 'Hongkong', 'Iceland', 'Indian/Antananarivo', 'Indian/Chagos', 'Indian/Christmas', 'Indian/Cocos', 'Indian/Comoro', 'Indian/Kerguelen', 'Indian/Mahe', 'Indian/Maldives', 'Indian/Mauritius', 'Indian/Mayotte', 'Indian/Reunion', 'Iran', 'Israel', 'Jamaica', 'Japan', 'Kwajalein', 'Libya', 'MET', 'MST', 'MST7MDT', 'Mexico/BajaNorte', 'Mexico/BajaSur', 'Mexico/General', 'NZ', 'NZ-CHAT', 'Navajo', 'PRC', 'PST8PDT', 'Pacific/Apia', 'Pacific/Auckland', 'Pacific/Bougainville', 'Pacific/Chatham', 'Pacific/Chuuk', 'Pacific/Easter', 'Pacific/Efate', 'Pacific/Enderbury', 'Pacific/Fakaofo', 'Pacific/Fiji', 'Pacific/Funafuti', 'Pacific/Galapagos', 'Pacific/Gambier', 'Pacific/Guadalcanal', 'Pacific/Guam', 'Pacific/Honolulu', 'Pacific/Johnston', 'Pacific/Kiritimati', 'Pacific/Kosrae', 'Pacific/Kwajalein', 'Pacific/Majuro', 'Pacific/Marquesas', 'Pacific/Midway', 'Pacific/Nauru', 'Pacific/Niue', 'Pacific/Norfolk', 'Pacific/Noumea', 'Pacific/Pago_Pago', 'Pacific/Palau', 'Pacific/Pitcairn', 'Pacific/Pohnpei', 'Pacific/Ponape', 'Pacific/Port_Moresby', 'Pacific/Rarotonga', 'Pacific/Saipan', 'Pacific/Samoa', 'Pacific/Tahiti', 'Pacific/Tarawa', 'Pacific/Tongatapu', 'Pacific/Truk', 'Pacific/Wake', 'Pacific/Wallis', 'Pacific/Yap', 'Poland', 'Portugal', 'ROC', 'ROK', 'Singapore', 'Turkey', 'UCT', 'US/Alaska', 'US/Aleutian', 'US/Arizona', 'US/Central', 'US/East-Indiana', 'US/Eastern', 'US/Hawaii', 'US/Indiana-Starke', 'US/Michigan', 'US/Mountain', 'US/Pacific', 'US/Samoa', 'UTC', 'Universal', 'W-SU', 'WET', 'Zulu']\n"
     ]
    }
   ],
   "source": [
    "from pytz import all_timezones\n",
    "print(type(all_timezones))\n",
    "print(list(all_timezones))"
   ]
  },
  {
   "cell_type": "markdown",
   "metadata": {},
   "source": [
    "### convert current utc time to another timezone"
   ]
  },
  {
   "cell_type": "code",
   "execution_count": 9,
   "metadata": {},
   "outputs": [
    {
     "name": "stdout",
     "output_type": "stream",
     "text": [
      "2019-09-13 13:13:53.911070\n",
      "None\n",
      "2019-09-13 13:13:53.911070+00:00\n",
      "utcmoment_naive: 2019-09-13 13:13:53.911070\n",
      "utcmoment:       2019-09-13 13:13:53.911070+00:00\n",
      "######################\n",
      "2019-09-13 06:13:53:911070\n",
      "2019$09$13$15$13$53$911070\n",
      "2019$09$13$09$13$53$911070\n"
     ]
    }
   ],
   "source": [
    "from datetime import datetime\n",
    "import pytz\n",
    "#print(datetime.time())\n",
    "utcmoment_naive = datetime.utcnow()\n",
    "print(utcmoment_naive)\n",
    "print(utcmoment_naive.tzinfo)\n",
    "\n",
    "utcmoment = utcmoment_naive.replace(tzinfo=pytz.utc)\n",
    "print(utcmoment)\n",
    "\n",
    "# print \"utcmoment_naive: {0}\".format(utcmoment_naive) # python 2\n",
    "print(\"utcmoment_naive: {0}\".format(utcmoment_naive))\n",
    "print(\"utcmoment:       {0}\".format(utcmoment))\n",
    "\n",
    "localFormat = \"%Y-%m-%d %H:%M:%S:%f\"\n",
    "\n",
    "timezones = ['America/Los_Angeles', 'Europe/Madrid', 'America/Puerto_Rico']\n",
    "print(\"######################\")\n",
    "for tz in timezones:    \n",
    "    localDatetime = utcmoment.astimezone(pytz.timezone(tz))\n",
    "    print(localDatetime.strftime(localFormat))\n",
    "    localFormat = \"%Y$%m$%d$%H$%M$%S$%f\"\n",
    "\n",
    "\n",
    "\n",
    "    "
   ]
  },
  {
   "cell_type": "code",
   "execution_count": 10,
   "metadata": {
    "scrolled": false
   },
   "outputs": [
    {
     "name": "stdout",
     "output_type": "stream",
     "text": [
      "2019-09-13 18:43:54.254873\n",
      "None\n",
      "Current Utc Time : 2019-09-13 18:43:54.254873+00:00\n",
      "timezone name: Africa/Abidjan - current time in that time zone - 2019-09-13 18:43:54.254873+00:00\n",
      "timezone name: Africa/Accra - current time in that time zone - 2019-09-13 18:43:54.254873+00:00\n",
      "timezone name: Africa/Addis_Ababa - current time in that time zone - 2019-09-13 21:43:54.254873+03:00\n",
      "timezone name: Africa/Algiers - current time in that time zone - 2019-09-13 19:43:54.254873+01:00\n",
      "timezone name: Africa/Asmara - current time in that time zone - 2019-09-13 21:43:54.254873+03:00\n",
      "timezone name: Africa/Asmera - current time in that time zone - 2019-09-13 21:43:54.254873+03:00\n",
      "timezone name: Africa/Bamako - current time in that time zone - 2019-09-13 18:43:54.254873+00:00\n",
      "timezone name: Africa/Bangui - current time in that time zone - 2019-09-13 19:43:54.254873+01:00\n",
      "timezone name: Africa/Banjul - current time in that time zone - 2019-09-13 18:43:54.254873+00:00\n",
      "timezone name: Africa/Bissau - current time in that time zone - 2019-09-13 18:43:54.254873+00:00\n",
      "timezone name: Africa/Blantyre - current time in that time zone - 2019-09-13 20:43:54.254873+02:00\n",
      "timezone name: Africa/Brazzaville - current time in that time zone - 2019-09-13 19:43:54.254873+01:00\n",
      "timezone name: Africa/Bujumbura - current time in that time zone - 2019-09-13 20:43:54.254873+02:00\n",
      "timezone name: Africa/Cairo - current time in that time zone - 2019-09-13 20:43:54.254873+02:00\n",
      "timezone name: Africa/Casablanca - current time in that time zone - 2019-09-13 19:43:54.254873+01:00\n",
      "timezone name: Africa/Ceuta - current time in that time zone - 2019-09-13 20:43:54.254873+02:00\n",
      "timezone name: Africa/Conakry - current time in that time zone - 2019-09-13 18:43:54.254873+00:00\n",
      "timezone name: Africa/Dakar - current time in that time zone - 2019-09-13 18:43:54.254873+00:00\n",
      "timezone name: Africa/Dar_es_Salaam - current time in that time zone - 2019-09-13 21:43:54.254873+03:00\n",
      "timezone name: Africa/Djibouti - current time in that time zone - 2019-09-13 21:43:54.254873+03:00\n",
      "timezone name: Africa/Douala - current time in that time zone - 2019-09-13 19:43:54.254873+01:00\n",
      "timezone name: Africa/El_Aaiun - current time in that time zone - 2019-09-13 19:43:54.254873+01:00\n",
      "timezone name: Africa/Freetown - current time in that time zone - 2019-09-13 18:43:54.254873+00:00\n",
      "timezone name: Africa/Gaborone - current time in that time zone - 2019-09-13 20:43:54.254873+02:00\n",
      "timezone name: Africa/Harare - current time in that time zone - 2019-09-13 20:43:54.254873+02:00\n",
      "timezone name: Africa/Johannesburg - current time in that time zone - 2019-09-13 20:43:54.254873+02:00\n",
      "timezone name: Africa/Juba - current time in that time zone - 2019-09-13 21:43:54.254873+03:00\n",
      "timezone name: Africa/Kampala - current time in that time zone - 2019-09-13 21:43:54.254873+03:00\n",
      "timezone name: Africa/Khartoum - current time in that time zone - 2019-09-13 20:43:54.254873+02:00\n",
      "timezone name: Africa/Kigali - current time in that time zone - 2019-09-13 20:43:54.254873+02:00\n",
      "timezone name: Africa/Kinshasa - current time in that time zone - 2019-09-13 19:43:54.254873+01:00\n",
      "timezone name: Africa/Lagos - current time in that time zone - 2019-09-13 19:43:54.254873+01:00\n",
      "timezone name: Africa/Libreville - current time in that time zone - 2019-09-13 19:43:54.254873+01:00\n",
      "timezone name: Africa/Lome - current time in that time zone - 2019-09-13 18:43:54.254873+00:00\n",
      "timezone name: Africa/Luanda - current time in that time zone - 2019-09-13 19:43:54.254873+01:00\n",
      "timezone name: Africa/Lubumbashi - current time in that time zone - 2019-09-13 20:43:54.254873+02:00\n",
      "timezone name: Africa/Lusaka - current time in that time zone - 2019-09-13 20:43:54.254873+02:00\n",
      "timezone name: Africa/Malabo - current time in that time zone - 2019-09-13 19:43:54.254873+01:00\n",
      "timezone name: Africa/Maputo - current time in that time zone - 2019-09-13 20:43:54.254873+02:00\n",
      "timezone name: Africa/Maseru - current time in that time zone - 2019-09-13 20:43:54.254873+02:00\n",
      "timezone name: Africa/Mbabane - current time in that time zone - 2019-09-13 20:43:54.254873+02:00\n",
      "timezone name: Africa/Mogadishu - current time in that time zone - 2019-09-13 21:43:54.254873+03:00\n",
      "timezone name: Africa/Monrovia - current time in that time zone - 2019-09-13 18:43:54.254873+00:00\n",
      "timezone name: Africa/Nairobi - current time in that time zone - 2019-09-13 21:43:54.254873+03:00\n",
      "timezone name: Africa/Ndjamena - current time in that time zone - 2019-09-13 19:43:54.254873+01:00\n",
      "timezone name: Africa/Niamey - current time in that time zone - 2019-09-13 19:43:54.254873+01:00\n",
      "timezone name: Africa/Nouakchott - current time in that time zone - 2019-09-13 18:43:54.254873+00:00\n",
      "timezone name: Africa/Ouagadougou - current time in that time zone - 2019-09-13 18:43:54.254873+00:00\n",
      "timezone name: Africa/Porto-Novo - current time in that time zone - 2019-09-13 19:43:54.254873+01:00\n",
      "timezone name: Africa/Sao_Tome - current time in that time zone - 2019-09-13 18:43:54.254873+00:00\n",
      "timezone name: Africa/Timbuktu - current time in that time zone - 2019-09-13 18:43:54.254873+00:00\n",
      "timezone name: Africa/Tripoli - current time in that time zone - 2019-09-13 20:43:54.254873+02:00\n",
      "timezone name: Africa/Tunis - current time in that time zone - 2019-09-13 19:43:54.254873+01:00\n",
      "timezone name: Africa/Windhoek - current time in that time zone - 2019-09-13 20:43:54.254873+02:00\n",
      "timezone name: America/Adak - current time in that time zone - 2019-09-13 09:43:54.254873-09:00\n",
      "timezone name: America/Anchorage - current time in that time zone - 2019-09-13 10:43:54.254873-08:00\n",
      "timezone name: America/Anguilla - current time in that time zone - 2019-09-13 14:43:54.254873-04:00\n",
      "timezone name: America/Antigua - current time in that time zone - 2019-09-13 14:43:54.254873-04:00\n",
      "timezone name: America/Araguaina - current time in that time zone - 2019-09-13 15:43:54.254873-03:00\n",
      "timezone name: America/Argentina/Buenos_Aires - current time in that time zone - 2019-09-13 15:43:54.254873-03:00\n",
      "timezone name: America/Argentina/Catamarca - current time in that time zone - 2019-09-13 15:43:54.254873-03:00\n",
      "timezone name: America/Argentina/ComodRivadavia - current time in that time zone - 2019-09-13 15:43:54.254873-03:00\n",
      "timezone name: America/Argentina/Cordoba - current time in that time zone - 2019-09-13 15:43:54.254873-03:00\n",
      "timezone name: America/Argentina/Jujuy - current time in that time zone - 2019-09-13 15:43:54.254873-03:00\n",
      "timezone name: America/Argentina/La_Rioja - current time in that time zone - 2019-09-13 15:43:54.254873-03:00\n",
      "timezone name: America/Argentina/Mendoza - current time in that time zone - 2019-09-13 15:43:54.254873-03:00\n",
      "timezone name: America/Argentina/Rio_Gallegos - current time in that time zone - 2019-09-13 15:43:54.254873-03:00\n",
      "timezone name: America/Argentina/Salta - current time in that time zone - 2019-09-13 15:43:54.254873-03:00\n",
      "timezone name: America/Argentina/San_Juan - current time in that time zone - 2019-09-13 15:43:54.254873-03:00\n",
      "timezone name: America/Argentina/San_Luis - current time in that time zone - 2019-09-13 15:43:54.254873-03:00\n",
      "timezone name: America/Argentina/Tucuman - current time in that time zone - 2019-09-13 15:43:54.254873-03:00\n",
      "timezone name: America/Argentina/Ushuaia - current time in that time zone - 2019-09-13 15:43:54.254873-03:00\n",
      "timezone name: America/Aruba - current time in that time zone - 2019-09-13 14:43:54.254873-04:00\n",
      "timezone name: America/Asuncion - current time in that time zone - 2019-09-13 14:43:54.254873-04:00\n",
      "timezone name: America/Atikokan - current time in that time zone - 2019-09-13 13:43:54.254873-05:00\n",
      "timezone name: America/Atka - current time in that time zone - 2019-09-13 09:43:54.254873-09:00\n",
      "timezone name: America/Bahia - current time in that time zone - 2019-09-13 15:43:54.254873-03:00\n",
      "timezone name: America/Bahia_Banderas - current time in that time zone - 2019-09-13 13:43:54.254873-05:00\n",
      "timezone name: America/Barbados - current time in that time zone - 2019-09-13 14:43:54.254873-04:00\n",
      "timezone name: America/Belem - current time in that time zone - 2019-09-13 15:43:54.254873-03:00\n",
      "timezone name: America/Belize - current time in that time zone - 2019-09-13 12:43:54.254873-06:00\n",
      "timezone name: America/Blanc-Sablon - current time in that time zone - 2019-09-13 14:43:54.254873-04:00\n",
      "timezone name: America/Boa_Vista - current time in that time zone - 2019-09-13 14:43:54.254873-04:00\n",
      "timezone name: America/Bogota - current time in that time zone - 2019-09-13 13:43:54.254873-05:00\n",
      "timezone name: America/Boise - current time in that time zone - 2019-09-13 12:43:54.254873-06:00\n",
      "timezone name: America/Buenos_Aires - current time in that time zone - 2019-09-13 15:43:54.254873-03:00\n",
      "timezone name: America/Cambridge_Bay - current time in that time zone - 2019-09-13 12:43:54.254873-06:00\n",
      "timezone name: America/Campo_Grande - current time in that time zone - 2019-09-13 14:43:54.254873-04:00\n",
      "timezone name: America/Cancun - current time in that time zone - 2019-09-13 13:43:54.254873-05:00\n",
      "timezone name: America/Caracas - current time in that time zone - 2019-09-13 14:43:54.254873-04:00\n",
      "timezone name: America/Catamarca - current time in that time zone - 2019-09-13 15:43:54.254873-03:00\n",
      "timezone name: America/Cayenne - current time in that time zone - 2019-09-13 15:43:54.254873-03:00\n",
      "timezone name: America/Cayman - current time in that time zone - 2019-09-13 13:43:54.254873-05:00\n",
      "timezone name: America/Chicago - current time in that time zone - 2019-09-13 13:43:54.254873-05:00\n",
      "timezone name: America/Chihuahua - current time in that time zone - 2019-09-13 12:43:54.254873-06:00\n",
      "timezone name: America/Coral_Harbour - current time in that time zone - 2019-09-13 13:43:54.254873-05:00\n",
      "timezone name: America/Cordoba - current time in that time zone - 2019-09-13 15:43:54.254873-03:00\n",
      "timezone name: America/Costa_Rica - current time in that time zone - 2019-09-13 12:43:54.254873-06:00\n",
      "timezone name: America/Creston - current time in that time zone - 2019-09-13 11:43:54.254873-07:00\n",
      "timezone name: America/Cuiaba - current time in that time zone - 2019-09-13 14:43:54.254873-04:00\n",
      "timezone name: America/Curacao - current time in that time zone - 2019-09-13 14:43:54.254873-04:00\n",
      "timezone name: America/Danmarkshavn - current time in that time zone - 2019-09-13 18:43:54.254873+00:00\n",
      "timezone name: America/Dawson - current time in that time zone - 2019-09-13 11:43:54.254873-07:00\n",
      "timezone name: America/Dawson_Creek - current time in that time zone - 2019-09-13 11:43:54.254873-07:00\n",
      "timezone name: America/Denver - current time in that time zone - 2019-09-13 12:43:54.254873-06:00\n",
      "timezone name: America/Detroit - current time in that time zone - 2019-09-13 14:43:54.254873-04:00\n",
      "timezone name: America/Dominica - current time in that time zone - 2019-09-13 14:43:54.254873-04:00\n",
      "timezone name: America/Edmonton - current time in that time zone - 2019-09-13 12:43:54.254873-06:00\n",
      "timezone name: America/Eirunepe - current time in that time zone - 2019-09-13 13:43:54.254873-05:00\n",
      "timezone name: America/El_Salvador - current time in that time zone - 2019-09-13 12:43:54.254873-06:00\n",
      "timezone name: America/Ensenada - current time in that time zone - 2019-09-13 11:43:54.254873-07:00\n",
      "timezone name: America/Fort_Nelson - current time in that time zone - 2019-09-13 11:43:54.254873-07:00\n",
      "timezone name: America/Fort_Wayne - current time in that time zone - 2019-09-13 14:43:54.254873-04:00\n",
      "timezone name: America/Fortaleza - current time in that time zone - 2019-09-13 15:43:54.254873-03:00\n",
      "timezone name: America/Glace_Bay - current time in that time zone - 2019-09-13 15:43:54.254873-03:00\n",
      "timezone name: America/Godthab - current time in that time zone - 2019-09-13 16:43:54.254873-02:00\n",
      "timezone name: America/Goose_Bay - current time in that time zone - 2019-09-13 15:43:54.254873-03:00\n",
      "timezone name: America/Grand_Turk - current time in that time zone - 2019-09-13 14:43:54.254873-04:00\n",
      "timezone name: America/Grenada - current time in that time zone - 2019-09-13 14:43:54.254873-04:00\n",
      "timezone name: America/Guadeloupe - current time in that time zone - 2019-09-13 14:43:54.254873-04:00\n",
      "timezone name: America/Guatemala - current time in that time zone - 2019-09-13 12:43:54.254873-06:00\n",
      "timezone name: America/Guayaquil - current time in that time zone - 2019-09-13 13:43:54.254873-05:00\n",
      "timezone name: America/Guyana - current time in that time zone - 2019-09-13 14:43:54.254873-04:00\n",
      "timezone name: America/Halifax - current time in that time zone - 2019-09-13 15:43:54.254873-03:00\n",
      "timezone name: America/Havana - current time in that time zone - 2019-09-13 14:43:54.254873-04:00\n",
      "timezone name: America/Hermosillo - current time in that time zone - 2019-09-13 11:43:54.254873-07:00\n",
      "timezone name: America/Indiana/Indianapolis - current time in that time zone - 2019-09-13 14:43:54.254873-04:00\n",
      "timezone name: America/Indiana/Knox - current time in that time zone - 2019-09-13 13:43:54.254873-05:00\n",
      "timezone name: America/Indiana/Marengo - current time in that time zone - 2019-09-13 14:43:54.254873-04:00\n",
      "timezone name: America/Indiana/Petersburg - current time in that time zone - 2019-09-13 14:43:54.254873-04:00\n",
      "timezone name: America/Indiana/Tell_City - current time in that time zone - 2019-09-13 13:43:54.254873-05:00\n",
      "timezone name: America/Indiana/Vevay - current time in that time zone - 2019-09-13 14:43:54.254873-04:00\n",
      "timezone name: America/Indiana/Vincennes - current time in that time zone - 2019-09-13 14:43:54.254873-04:00\n",
      "timezone name: America/Indiana/Winamac - current time in that time zone - 2019-09-13 14:43:54.254873-04:00\n",
      "timezone name: America/Indianapolis - current time in that time zone - 2019-09-13 14:43:54.254873-04:00\n",
      "timezone name: America/Inuvik - current time in that time zone - 2019-09-13 12:43:54.254873-06:00\n",
      "timezone name: America/Iqaluit - current time in that time zone - 2019-09-13 14:43:54.254873-04:00\n"
     ]
    },
    {
     "name": "stdout",
     "output_type": "stream",
     "text": [
      "timezone name: America/Jamaica - current time in that time zone - 2019-09-13 13:43:54.254873-05:00\n",
      "timezone name: America/Jujuy - current time in that time zone - 2019-09-13 15:43:54.254873-03:00\n",
      "timezone name: America/Juneau - current time in that time zone - 2019-09-13 10:43:54.254873-08:00\n",
      "timezone name: America/Kentucky/Louisville - current time in that time zone - 2019-09-13 14:43:54.254873-04:00\n",
      "timezone name: America/Kentucky/Monticello - current time in that time zone - 2019-09-13 14:43:54.254873-04:00\n",
      "timezone name: America/Knox_IN - current time in that time zone - 2019-09-13 13:43:54.254873-05:00\n",
      "timezone name: America/Kralendijk - current time in that time zone - 2019-09-13 14:43:54.254873-04:00\n",
      "timezone name: America/La_Paz - current time in that time zone - 2019-09-13 14:43:54.254873-04:00\n",
      "timezone name: America/Lima - current time in that time zone - 2019-09-13 13:43:54.254873-05:00\n",
      "timezone name: America/Los_Angeles - current time in that time zone - 2019-09-13 11:43:54.254873-07:00\n",
      "timezone name: America/Louisville - current time in that time zone - 2019-09-13 14:43:54.254873-04:00\n",
      "timezone name: America/Lower_Princes - current time in that time zone - 2019-09-13 14:43:54.254873-04:00\n",
      "timezone name: America/Maceio - current time in that time zone - 2019-09-13 15:43:54.254873-03:00\n",
      "timezone name: America/Managua - current time in that time zone - 2019-09-13 12:43:54.254873-06:00\n",
      "timezone name: America/Manaus - current time in that time zone - 2019-09-13 14:43:54.254873-04:00\n",
      "timezone name: America/Marigot - current time in that time zone - 2019-09-13 14:43:54.254873-04:00\n",
      "timezone name: America/Martinique - current time in that time zone - 2019-09-13 14:43:54.254873-04:00\n",
      "timezone name: America/Matamoros - current time in that time zone - 2019-09-13 13:43:54.254873-05:00\n",
      "timezone name: America/Mazatlan - current time in that time zone - 2019-09-13 12:43:54.254873-06:00\n",
      "timezone name: America/Mendoza - current time in that time zone - 2019-09-13 15:43:54.254873-03:00\n",
      "timezone name: America/Menominee - current time in that time zone - 2019-09-13 13:43:54.254873-05:00\n",
      "timezone name: America/Merida - current time in that time zone - 2019-09-13 13:43:54.254873-05:00\n",
      "timezone name: America/Metlakatla - current time in that time zone - 2019-09-13 10:43:54.254873-08:00\n",
      "timezone name: America/Mexico_City - current time in that time zone - 2019-09-13 13:43:54.254873-05:00\n",
      "timezone name: America/Miquelon - current time in that time zone - 2019-09-13 16:43:54.254873-02:00\n",
      "timezone name: America/Moncton - current time in that time zone - 2019-09-13 15:43:54.254873-03:00\n",
      "timezone name: America/Monterrey - current time in that time zone - 2019-09-13 13:43:54.254873-05:00\n",
      "timezone name: America/Montevideo - current time in that time zone - 2019-09-13 15:43:54.254873-03:00\n",
      "timezone name: America/Montreal - current time in that time zone - 2019-09-13 14:43:54.254873-04:00\n",
      "timezone name: America/Montserrat - current time in that time zone - 2019-09-13 14:43:54.254873-04:00\n",
      "timezone name: America/Nassau - current time in that time zone - 2019-09-13 14:43:54.254873-04:00\n",
      "timezone name: America/New_York - current time in that time zone - 2019-09-13 14:43:54.254873-04:00\n",
      "timezone name: America/Nipigon - current time in that time zone - 2019-09-13 14:43:54.254873-04:00\n",
      "timezone name: America/Nome - current time in that time zone - 2019-09-13 10:43:54.254873-08:00\n",
      "timezone name: America/Noronha - current time in that time zone - 2019-09-13 16:43:54.254873-02:00\n",
      "timezone name: America/North_Dakota/Beulah - current time in that time zone - 2019-09-13 13:43:54.254873-05:00\n",
      "timezone name: America/North_Dakota/Center - current time in that time zone - 2019-09-13 13:43:54.254873-05:00\n",
      "timezone name: America/North_Dakota/New_Salem - current time in that time zone - 2019-09-13 13:43:54.254873-05:00\n",
      "timezone name: America/Ojinaga - current time in that time zone - 2019-09-13 12:43:54.254873-06:00\n",
      "timezone name: America/Panama - current time in that time zone - 2019-09-13 13:43:54.254873-05:00\n",
      "timezone name: America/Pangnirtung - current time in that time zone - 2019-09-13 14:43:54.254873-04:00\n",
      "timezone name: America/Paramaribo - current time in that time zone - 2019-09-13 15:43:54.254873-03:00\n",
      "timezone name: America/Phoenix - current time in that time zone - 2019-09-13 11:43:54.254873-07:00\n",
      "timezone name: America/Port-au-Prince - current time in that time zone - 2019-09-13 14:43:54.254873-04:00\n",
      "timezone name: America/Port_of_Spain - current time in that time zone - 2019-09-13 14:43:54.254873-04:00\n",
      "timezone name: America/Porto_Acre - current time in that time zone - 2019-09-13 13:43:54.254873-05:00\n",
      "timezone name: America/Porto_Velho - current time in that time zone - 2019-09-13 14:43:54.254873-04:00\n",
      "timezone name: America/Puerto_Rico - current time in that time zone - 2019-09-13 14:43:54.254873-04:00\n",
      "timezone name: America/Punta_Arenas - current time in that time zone - 2019-09-13 15:43:54.254873-03:00\n",
      "timezone name: America/Rainy_River - current time in that time zone - 2019-09-13 13:43:54.254873-05:00\n",
      "timezone name: America/Rankin_Inlet - current time in that time zone - 2019-09-13 13:43:54.254873-05:00\n",
      "timezone name: America/Recife - current time in that time zone - 2019-09-13 15:43:54.254873-03:00\n",
      "timezone name: America/Regina - current time in that time zone - 2019-09-13 12:43:54.254873-06:00\n",
      "timezone name: America/Resolute - current time in that time zone - 2019-09-13 13:43:54.254873-05:00\n",
      "timezone name: America/Rio_Branco - current time in that time zone - 2019-09-13 13:43:54.254873-05:00\n",
      "timezone name: America/Rosario - current time in that time zone - 2019-09-13 15:43:54.254873-03:00\n",
      "timezone name: America/Santa_Isabel - current time in that time zone - 2019-09-13 11:43:54.254873-07:00\n",
      "timezone name: America/Santarem - current time in that time zone - 2019-09-13 15:43:54.254873-03:00\n",
      "timezone name: America/Santiago - current time in that time zone - 2019-09-13 15:43:54.254873-03:00\n",
      "timezone name: America/Santo_Domingo - current time in that time zone - 2019-09-13 14:43:54.254873-04:00\n",
      "timezone name: America/Sao_Paulo - current time in that time zone - 2019-09-13 15:43:54.254873-03:00\n",
      "timezone name: America/Scoresbysund - current time in that time zone - 2019-09-13 18:43:54.254873+00:00\n",
      "timezone name: America/Shiprock - current time in that time zone - 2019-09-13 12:43:54.254873-06:00\n",
      "timezone name: America/Sitka - current time in that time zone - 2019-09-13 10:43:54.254873-08:00\n",
      "timezone name: America/St_Barthelemy - current time in that time zone - 2019-09-13 14:43:54.254873-04:00\n",
      "timezone name: America/St_Johns - current time in that time zone - 2019-09-13 16:13:54.254873-02:30\n",
      "timezone name: America/St_Kitts - current time in that time zone - 2019-09-13 14:43:54.254873-04:00\n",
      "timezone name: America/St_Lucia - current time in that time zone - 2019-09-13 14:43:54.254873-04:00\n",
      "timezone name: America/St_Thomas - current time in that time zone - 2019-09-13 14:43:54.254873-04:00\n",
      "timezone name: America/St_Vincent - current time in that time zone - 2019-09-13 14:43:54.254873-04:00\n",
      "timezone name: America/Swift_Current - current time in that time zone - 2019-09-13 12:43:54.254873-06:00\n",
      "timezone name: America/Tegucigalpa - current time in that time zone - 2019-09-13 12:43:54.254873-06:00\n",
      "timezone name: America/Thule - current time in that time zone - 2019-09-13 15:43:54.254873-03:00\n",
      "timezone name: America/Thunder_Bay - current time in that time zone - 2019-09-13 14:43:54.254873-04:00\n",
      "timezone name: America/Tijuana - current time in that time zone - 2019-09-13 11:43:54.254873-07:00\n",
      "timezone name: America/Toronto - current time in that time zone - 2019-09-13 14:43:54.254873-04:00\n",
      "timezone name: America/Tortola - current time in that time zone - 2019-09-13 14:43:54.254873-04:00\n",
      "timezone name: America/Vancouver - current time in that time zone - 2019-09-13 11:43:54.254873-07:00\n",
      "timezone name: America/Virgin - current time in that time zone - 2019-09-13 14:43:54.254873-04:00\n",
      "timezone name: America/Whitehorse - current time in that time zone - 2019-09-13 11:43:54.254873-07:00\n",
      "timezone name: America/Winnipeg - current time in that time zone - 2019-09-13 13:43:54.254873-05:00\n",
      "timezone name: America/Yakutat - current time in that time zone - 2019-09-13 10:43:54.254873-08:00\n",
      "timezone name: America/Yellowknife - current time in that time zone - 2019-09-13 12:43:54.254873-06:00\n",
      "timezone name: Antarctica/Casey - current time in that time zone - 2019-09-14 02:43:54.254873+08:00\n",
      "timezone name: Antarctica/Davis - current time in that time zone - 2019-09-14 01:43:54.254873+07:00\n",
      "timezone name: Antarctica/DumontDUrville - current time in that time zone - 2019-09-14 04:43:54.254873+10:00\n",
      "timezone name: Antarctica/Macquarie - current time in that time zone - 2019-09-14 05:43:54.254873+11:00\n",
      "timezone name: Antarctica/Mawson - current time in that time zone - 2019-09-13 23:43:54.254873+05:00\n",
      "timezone name: Antarctica/McMurdo - current time in that time zone - 2019-09-14 06:43:54.254873+12:00\n",
      "timezone name: Antarctica/Palmer - current time in that time zone - 2019-09-13 15:43:54.254873-03:00\n",
      "timezone name: Antarctica/Rothera - current time in that time zone - 2019-09-13 15:43:54.254873-03:00\n",
      "timezone name: Antarctica/South_Pole - current time in that time zone - 2019-09-14 06:43:54.254873+12:00\n",
      "timezone name: Antarctica/Syowa - current time in that time zone - 2019-09-13 21:43:54.254873+03:00\n",
      "timezone name: Antarctica/Troll - current time in that time zone - 2019-09-13 20:43:54.254873+02:00\n",
      "timezone name: Antarctica/Vostok - current time in that time zone - 2019-09-14 00:43:54.254873+06:00\n",
      "timezone name: Arctic/Longyearbyen - current time in that time zone - 2019-09-13 20:43:54.254873+02:00\n",
      "timezone name: Asia/Aden - current time in that time zone - 2019-09-13 21:43:54.254873+03:00\n",
      "timezone name: Asia/Almaty - current time in that time zone - 2019-09-14 00:43:54.254873+06:00\n",
      "timezone name: Asia/Amman - current time in that time zone - 2019-09-13 21:43:54.254873+03:00\n",
      "timezone name: Asia/Anadyr - current time in that time zone - 2019-09-14 06:43:54.254873+12:00\n",
      "timezone name: Asia/Aqtau - current time in that time zone - 2019-09-13 23:43:54.254873+05:00\n",
      "timezone name: Asia/Aqtobe - current time in that time zone - 2019-09-13 23:43:54.254873+05:00\n",
      "timezone name: Asia/Ashgabat - current time in that time zone - 2019-09-13 23:43:54.254873+05:00\n",
      "timezone name: Asia/Ashkhabad - current time in that time zone - 2019-09-13 23:43:54.254873+05:00\n",
      "timezone name: Asia/Atyrau - current time in that time zone - 2019-09-13 23:43:54.254873+05:00\n",
      "timezone name: Asia/Baghdad - current time in that time zone - 2019-09-13 21:43:54.254873+03:00\n",
      "timezone name: Asia/Bahrain - current time in that time zone - 2019-09-13 21:43:54.254873+03:00\n",
      "timezone name: Asia/Baku - current time in that time zone - 2019-09-13 22:43:54.254873+04:00\n",
      "timezone name: Asia/Bangkok - current time in that time zone - 2019-09-14 01:43:54.254873+07:00\n",
      "timezone name: Asia/Barnaul - current time in that time zone - 2019-09-14 01:43:54.254873+07:00\n",
      "timezone name: Asia/Beirut - current time in that time zone - 2019-09-13 21:43:54.254873+03:00\n",
      "timezone name: Asia/Bishkek - current time in that time zone - 2019-09-14 00:43:54.254873+06:00\n",
      "timezone name: Asia/Brunei - current time in that time zone - 2019-09-14 02:43:54.254873+08:00\n",
      "timezone name: Asia/Calcutta - current time in that time zone - 2019-09-14 00:13:54.254873+05:30\n",
      "timezone name: Asia/Chita - current time in that time zone - 2019-09-14 03:43:54.254873+09:00\n",
      "timezone name: Asia/Choibalsan - current time in that time zone - 2019-09-14 02:43:54.254873+08:00\n",
      "timezone name: Asia/Chongqing - current time in that time zone - 2019-09-14 02:43:54.254873+08:00\n",
      "timezone name: Asia/Chungking - current time in that time zone - 2019-09-14 02:43:54.254873+08:00\n",
      "timezone name: Asia/Colombo - current time in that time zone - 2019-09-14 00:13:54.254873+05:30\n",
      "timezone name: Asia/Dacca - current time in that time zone - 2019-09-14 00:43:54.254873+06:00\n",
      "timezone name: Asia/Damascus - current time in that time zone - 2019-09-13 21:43:54.254873+03:00\n",
      "timezone name: Asia/Dhaka - current time in that time zone - 2019-09-14 00:43:54.254873+06:00\n",
      "timezone name: Asia/Dili - current time in that time zone - 2019-09-14 03:43:54.254873+09:00\n",
      "timezone name: Asia/Dubai - current time in that time zone - 2019-09-13 22:43:54.254873+04:00\n",
      "timezone name: Asia/Dushanbe - current time in that time zone - 2019-09-13 23:43:54.254873+05:00\n",
      "timezone name: Asia/Famagusta - current time in that time zone - 2019-09-13 21:43:54.254873+03:00\n",
      "timezone name: Asia/Gaza - current time in that time zone - 2019-09-13 21:43:54.254873+03:00\n",
      "timezone name: Asia/Harbin - current time in that time zone - 2019-09-14 02:43:54.254873+08:00\n",
      "timezone name: Asia/Hebron - current time in that time zone - 2019-09-13 21:43:54.254873+03:00\n",
      "timezone name: Asia/Ho_Chi_Minh - current time in that time zone - 2019-09-14 01:43:54.254873+07:00\n",
      "timezone name: Asia/Hong_Kong - current time in that time zone - 2019-09-14 02:43:54.254873+08:00\n",
      "timezone name: Asia/Hovd - current time in that time zone - 2019-09-14 01:43:54.254873+07:00\n",
      "timezone name: Asia/Irkutsk - current time in that time zone - 2019-09-14 02:43:54.254873+08:00\n",
      "timezone name: Asia/Istanbul - current time in that time zone - 2019-09-13 21:43:54.254873+03:00\n",
      "timezone name: Asia/Jakarta - current time in that time zone - 2019-09-14 01:43:54.254873+07:00\n",
      "timezone name: Asia/Jayapura - current time in that time zone - 2019-09-14 03:43:54.254873+09:00\n",
      "timezone name: Asia/Jerusalem - current time in that time zone - 2019-09-13 21:43:54.254873+03:00\n",
      "timezone name: Asia/Kabul - current time in that time zone - 2019-09-13 23:13:54.254873+04:30\n",
      "timezone name: Asia/Kamchatka - current time in that time zone - 2019-09-14 06:43:54.254873+12:00\n",
      "timezone name: Asia/Karachi - current time in that time zone - 2019-09-13 23:43:54.254873+05:00\n",
      "timezone name: Asia/Kashgar - current time in that time zone - 2019-09-14 00:43:54.254873+06:00\n",
      "timezone name: Asia/Kathmandu - current time in that time zone - 2019-09-14 00:28:54.254873+05:45\n",
      "timezone name: Asia/Katmandu - current time in that time zone - 2019-09-14 00:28:54.254873+05:45\n",
      "timezone name: Asia/Khandyga - current time in that time zone - 2019-09-14 03:43:54.254873+09:00\n",
      "timezone name: Asia/Kolkata - current time in that time zone - 2019-09-14 00:13:54.254873+05:30\n",
      "timezone name: Asia/Krasnoyarsk - current time in that time zone - 2019-09-14 01:43:54.254873+07:00\n",
      "timezone name: Asia/Kuala_Lumpur - current time in that time zone - 2019-09-14 02:43:54.254873+08:00\n",
      "timezone name: Asia/Kuching - current time in that time zone - 2019-09-14 02:43:54.254873+08:00\n",
      "timezone name: Asia/Kuwait - current time in that time zone - 2019-09-13 21:43:54.254873+03:00\n",
      "timezone name: Asia/Macao - current time in that time zone - 2019-09-14 02:43:54.254873+08:00\n",
      "timezone name: Asia/Macau - current time in that time zone - 2019-09-14 02:43:54.254873+08:00\n",
      "timezone name: Asia/Magadan - current time in that time zone - 2019-09-14 05:43:54.254873+11:00\n",
      "timezone name: Asia/Makassar - current time in that time zone - 2019-09-14 02:43:54.254873+08:00\n",
      "timezone name: Asia/Manila - current time in that time zone - 2019-09-14 02:43:54.254873+08:00\n",
      "timezone name: Asia/Muscat - current time in that time zone - 2019-09-13 22:43:54.254873+04:00\n",
      "timezone name: Asia/Nicosia - current time in that time zone - 2019-09-13 21:43:54.254873+03:00\n"
     ]
    },
    {
     "name": "stdout",
     "output_type": "stream",
     "text": [
      "timezone name: Asia/Novokuznetsk - current time in that time zone - 2019-09-14 01:43:54.254873+07:00\n",
      "timezone name: Asia/Novosibirsk - current time in that time zone - 2019-09-14 01:43:54.254873+07:00\n",
      "timezone name: Asia/Omsk - current time in that time zone - 2019-09-14 00:43:54.254873+06:00\n",
      "timezone name: Asia/Oral - current time in that time zone - 2019-09-13 23:43:54.254873+05:00\n",
      "timezone name: Asia/Phnom_Penh - current time in that time zone - 2019-09-14 01:43:54.254873+07:00\n",
      "timezone name: Asia/Pontianak - current time in that time zone - 2019-09-14 01:43:54.254873+07:00\n",
      "timezone name: Asia/Pyongyang - current time in that time zone - 2019-09-14 03:43:54.254873+09:00\n",
      "timezone name: Asia/Qatar - current time in that time zone - 2019-09-13 21:43:54.254873+03:00\n",
      "timezone name: Asia/Qostanay - current time in that time zone - 2019-09-14 00:43:54.254873+06:00\n",
      "timezone name: Asia/Qyzylorda - current time in that time zone - 2019-09-13 23:43:54.254873+05:00\n",
      "timezone name: Asia/Rangoon - current time in that time zone - 2019-09-14 01:13:54.254873+06:30\n",
      "timezone name: Asia/Riyadh - current time in that time zone - 2019-09-13 21:43:54.254873+03:00\n",
      "timezone name: Asia/Saigon - current time in that time zone - 2019-09-14 01:43:54.254873+07:00\n",
      "timezone name: Asia/Sakhalin - current time in that time zone - 2019-09-14 05:43:54.254873+11:00\n",
      "timezone name: Asia/Samarkand - current time in that time zone - 2019-09-13 23:43:54.254873+05:00\n",
      "timezone name: Asia/Seoul - current time in that time zone - 2019-09-14 03:43:54.254873+09:00\n",
      "timezone name: Asia/Shanghai - current time in that time zone - 2019-09-14 02:43:54.254873+08:00\n",
      "timezone name: Asia/Singapore - current time in that time zone - 2019-09-14 02:43:54.254873+08:00\n",
      "timezone name: Asia/Srednekolymsk - current time in that time zone - 2019-09-14 05:43:54.254873+11:00\n",
      "timezone name: Asia/Taipei - current time in that time zone - 2019-09-14 02:43:54.254873+08:00\n",
      "timezone name: Asia/Tashkent - current time in that time zone - 2019-09-13 23:43:54.254873+05:00\n",
      "timezone name: Asia/Tbilisi - current time in that time zone - 2019-09-13 22:43:54.254873+04:00\n",
      "timezone name: Asia/Tehran - current time in that time zone - 2019-09-13 23:13:54.254873+04:30\n",
      "timezone name: Asia/Tel_Aviv - current time in that time zone - 2019-09-13 21:43:54.254873+03:00\n",
      "timezone name: Asia/Thimbu - current time in that time zone - 2019-09-14 00:43:54.254873+06:00\n",
      "timezone name: Asia/Thimphu - current time in that time zone - 2019-09-14 00:43:54.254873+06:00\n",
      "timezone name: Asia/Tokyo - current time in that time zone - 2019-09-14 03:43:54.254873+09:00\n",
      "timezone name: Asia/Tomsk - current time in that time zone - 2019-09-14 01:43:54.254873+07:00\n",
      "timezone name: Asia/Ujung_Pandang - current time in that time zone - 2019-09-14 02:43:54.254873+08:00\n",
      "timezone name: Asia/Ulaanbaatar - current time in that time zone - 2019-09-14 02:43:54.254873+08:00\n",
      "timezone name: Asia/Ulan_Bator - current time in that time zone - 2019-09-14 02:43:54.254873+08:00\n",
      "timezone name: Asia/Urumqi - current time in that time zone - 2019-09-14 00:43:54.254873+06:00\n",
      "timezone name: Asia/Ust-Nera - current time in that time zone - 2019-09-14 04:43:54.254873+10:00\n",
      "timezone name: Asia/Vientiane - current time in that time zone - 2019-09-14 01:43:54.254873+07:00\n",
      "timezone name: Asia/Vladivostok - current time in that time zone - 2019-09-14 04:43:54.254873+10:00\n",
      "timezone name: Asia/Yakutsk - current time in that time zone - 2019-09-14 03:43:54.254873+09:00\n",
      "timezone name: Asia/Yangon - current time in that time zone - 2019-09-14 01:13:54.254873+06:30\n",
      "timezone name: Asia/Yekaterinburg - current time in that time zone - 2019-09-13 23:43:54.254873+05:00\n",
      "timezone name: Asia/Yerevan - current time in that time zone - 2019-09-13 22:43:54.254873+04:00\n",
      "timezone name: Atlantic/Azores - current time in that time zone - 2019-09-13 18:43:54.254873+00:00\n",
      "timezone name: Atlantic/Bermuda - current time in that time zone - 2019-09-13 15:43:54.254873-03:00\n",
      "timezone name: Atlantic/Canary - current time in that time zone - 2019-09-13 19:43:54.254873+01:00\n",
      "timezone name: Atlantic/Cape_Verde - current time in that time zone - 2019-09-13 17:43:54.254873-01:00\n",
      "timezone name: Atlantic/Faeroe - current time in that time zone - 2019-09-13 19:43:54.254873+01:00\n",
      "timezone name: Atlantic/Faroe - current time in that time zone - 2019-09-13 19:43:54.254873+01:00\n",
      "timezone name: Atlantic/Jan_Mayen - current time in that time zone - 2019-09-13 20:43:54.254873+02:00\n",
      "timezone name: Atlantic/Madeira - current time in that time zone - 2019-09-13 19:43:54.254873+01:00\n",
      "timezone name: Atlantic/Reykjavik - current time in that time zone - 2019-09-13 18:43:54.254873+00:00\n",
      "timezone name: Atlantic/South_Georgia - current time in that time zone - 2019-09-13 16:43:54.254873-02:00\n",
      "timezone name: Atlantic/St_Helena - current time in that time zone - 2019-09-13 18:43:54.254873+00:00\n",
      "timezone name: Atlantic/Stanley - current time in that time zone - 2019-09-13 15:43:54.254873-03:00\n",
      "timezone name: Australia/ACT - current time in that time zone - 2019-09-14 04:43:54.254873+10:00\n",
      "timezone name: Australia/Adelaide - current time in that time zone - 2019-09-14 04:13:54.254873+09:30\n",
      "timezone name: Australia/Brisbane - current time in that time zone - 2019-09-14 04:43:54.254873+10:00\n",
      "timezone name: Australia/Broken_Hill - current time in that time zone - 2019-09-14 04:13:54.254873+09:30\n",
      "timezone name: Australia/Canberra - current time in that time zone - 2019-09-14 04:43:54.254873+10:00\n",
      "timezone name: Australia/Currie - current time in that time zone - 2019-09-14 04:43:54.254873+10:00\n",
      "timezone name: Australia/Darwin - current time in that time zone - 2019-09-14 04:13:54.254873+09:30\n",
      "timezone name: Australia/Eucla - current time in that time zone - 2019-09-14 03:28:54.254873+08:45\n",
      "timezone name: Australia/Hobart - current time in that time zone - 2019-09-14 04:43:54.254873+10:00\n",
      "timezone name: Australia/LHI - current time in that time zone - 2019-09-14 05:13:54.254873+10:30\n",
      "timezone name: Australia/Lindeman - current time in that time zone - 2019-09-14 04:43:54.254873+10:00\n",
      "timezone name: Australia/Lord_Howe - current time in that time zone - 2019-09-14 05:13:54.254873+10:30\n",
      "timezone name: Australia/Melbourne - current time in that time zone - 2019-09-14 04:43:54.254873+10:00\n",
      "timezone name: Australia/NSW - current time in that time zone - 2019-09-14 04:43:54.254873+10:00\n",
      "timezone name: Australia/North - current time in that time zone - 2019-09-14 04:13:54.254873+09:30\n",
      "timezone name: Australia/Perth - current time in that time zone - 2019-09-14 02:43:54.254873+08:00\n",
      "timezone name: Australia/Queensland - current time in that time zone - 2019-09-14 04:43:54.254873+10:00\n",
      "timezone name: Australia/South - current time in that time zone - 2019-09-14 04:13:54.254873+09:30\n",
      "timezone name: Australia/Sydney - current time in that time zone - 2019-09-14 04:43:54.254873+10:00\n",
      "timezone name: Australia/Tasmania - current time in that time zone - 2019-09-14 04:43:54.254873+10:00\n",
      "timezone name: Australia/Victoria - current time in that time zone - 2019-09-14 04:43:54.254873+10:00\n",
      "timezone name: Australia/West - current time in that time zone - 2019-09-14 02:43:54.254873+08:00\n",
      "timezone name: Australia/Yancowinna - current time in that time zone - 2019-09-14 04:13:54.254873+09:30\n",
      "timezone name: Brazil/Acre - current time in that time zone - 2019-09-13 13:43:54.254873-05:00\n",
      "timezone name: Brazil/DeNoronha - current time in that time zone - 2019-09-13 16:43:54.254873-02:00\n",
      "timezone name: Brazil/East - current time in that time zone - 2019-09-13 15:43:54.254873-03:00\n",
      "timezone name: Brazil/West - current time in that time zone - 2019-09-13 14:43:54.254873-04:00\n",
      "timezone name: CET - current time in that time zone - 2019-09-13 20:43:54.254873+02:00\n",
      "timezone name: CST6CDT - current time in that time zone - 2019-09-13 13:43:54.254873-05:00\n",
      "timezone name: Canada/Atlantic - current time in that time zone - 2019-09-13 15:43:54.254873-03:00\n",
      "timezone name: Canada/Central - current time in that time zone - 2019-09-13 13:43:54.254873-05:00\n",
      "timezone name: Canada/Eastern - current time in that time zone - 2019-09-13 14:43:54.254873-04:00\n",
      "timezone name: Canada/Mountain - current time in that time zone - 2019-09-13 12:43:54.254873-06:00\n",
      "timezone name: Canada/Newfoundland - current time in that time zone - 2019-09-13 16:13:54.254873-02:30\n",
      "timezone name: Canada/Pacific - current time in that time zone - 2019-09-13 11:43:54.254873-07:00\n",
      "timezone name: Canada/Saskatchewan - current time in that time zone - 2019-09-13 12:43:54.254873-06:00\n",
      "timezone name: Canada/Yukon - current time in that time zone - 2019-09-13 11:43:54.254873-07:00\n",
      "timezone name: Chile/Continental - current time in that time zone - 2019-09-13 15:43:54.254873-03:00\n",
      "timezone name: Chile/EasterIsland - current time in that time zone - 2019-09-13 13:43:54.254873-05:00\n",
      "timezone name: Cuba - current time in that time zone - 2019-09-13 14:43:54.254873-04:00\n",
      "timezone name: EET - current time in that time zone - 2019-09-13 21:43:54.254873+03:00\n",
      "timezone name: EST - current time in that time zone - 2019-09-13 13:43:54.254873-05:00\n",
      "timezone name: EST5EDT - current time in that time zone - 2019-09-13 14:43:54.254873-04:00\n",
      "timezone name: Egypt - current time in that time zone - 2019-09-13 20:43:54.254873+02:00\n",
      "timezone name: Eire - current time in that time zone - 2019-09-13 19:43:54.254873+01:00\n",
      "timezone name: Etc/GMT - current time in that time zone - 2019-09-13 18:43:54.254873+00:00\n",
      "timezone name: Etc/GMT+0 - current time in that time zone - 2019-09-13 18:43:54.254873+00:00\n",
      "timezone name: Etc/GMT+1 - current time in that time zone - 2019-09-13 17:43:54.254873-01:00\n",
      "timezone name: Etc/GMT+10 - current time in that time zone - 2019-09-13 08:43:54.254873-10:00\n",
      "timezone name: Etc/GMT+11 - current time in that time zone - 2019-09-13 07:43:54.254873-11:00\n",
      "timezone name: Etc/GMT+12 - current time in that time zone - 2019-09-13 06:43:54.254873-12:00\n",
      "timezone name: Etc/GMT+2 - current time in that time zone - 2019-09-13 16:43:54.254873-02:00\n",
      "timezone name: Etc/GMT+3 - current time in that time zone - 2019-09-13 15:43:54.254873-03:00\n",
      "timezone name: Etc/GMT+4 - current time in that time zone - 2019-09-13 14:43:54.254873-04:00\n",
      "timezone name: Etc/GMT+5 - current time in that time zone - 2019-09-13 13:43:54.254873-05:00\n",
      "timezone name: Etc/GMT+6 - current time in that time zone - 2019-09-13 12:43:54.254873-06:00\n",
      "timezone name: Etc/GMT+7 - current time in that time zone - 2019-09-13 11:43:54.254873-07:00\n",
      "timezone name: Etc/GMT+8 - current time in that time zone - 2019-09-13 10:43:54.254873-08:00\n",
      "timezone name: Etc/GMT+9 - current time in that time zone - 2019-09-13 09:43:54.254873-09:00\n",
      "timezone name: Etc/GMT-0 - current time in that time zone - 2019-09-13 18:43:54.254873+00:00\n",
      "timezone name: Etc/GMT-1 - current time in that time zone - 2019-09-13 19:43:54.254873+01:00\n",
      "timezone name: Etc/GMT-10 - current time in that time zone - 2019-09-14 04:43:54.254873+10:00\n",
      "timezone name: Etc/GMT-11 - current time in that time zone - 2019-09-14 05:43:54.254873+11:00\n",
      "timezone name: Etc/GMT-12 - current time in that time zone - 2019-09-14 06:43:54.254873+12:00\n",
      "timezone name: Etc/GMT-13 - current time in that time zone - 2019-09-14 07:43:54.254873+13:00\n",
      "timezone name: Etc/GMT-14 - current time in that time zone - 2019-09-14 08:43:54.254873+14:00\n",
      "timezone name: Etc/GMT-2 - current time in that time zone - 2019-09-13 20:43:54.254873+02:00\n",
      "timezone name: Etc/GMT-3 - current time in that time zone - 2019-09-13 21:43:54.254873+03:00\n",
      "timezone name: Etc/GMT-4 - current time in that time zone - 2019-09-13 22:43:54.254873+04:00\n",
      "timezone name: Etc/GMT-5 - current time in that time zone - 2019-09-13 23:43:54.254873+05:00\n",
      "timezone name: Etc/GMT-6 - current time in that time zone - 2019-09-14 00:43:54.254873+06:00\n",
      "timezone name: Etc/GMT-7 - current time in that time zone - 2019-09-14 01:43:54.254873+07:00\n",
      "timezone name: Etc/GMT-8 - current time in that time zone - 2019-09-14 02:43:54.254873+08:00\n",
      "timezone name: Etc/GMT-9 - current time in that time zone - 2019-09-14 03:43:54.254873+09:00\n",
      "timezone name: Etc/GMT0 - current time in that time zone - 2019-09-13 18:43:54.254873+00:00\n",
      "timezone name: Etc/Greenwich - current time in that time zone - 2019-09-13 18:43:54.254873+00:00\n",
      "timezone name: Etc/UCT - current time in that time zone - 2019-09-13 18:43:54.254873+00:00\n",
      "timezone name: Etc/UTC - current time in that time zone - 2019-09-13 18:43:54.254873+00:00\n",
      "timezone name: Etc/Universal - current time in that time zone - 2019-09-13 18:43:54.254873+00:00\n",
      "timezone name: Etc/Zulu - current time in that time zone - 2019-09-13 18:43:54.254873+00:00\n",
      "timezone name: Europe/Amsterdam - current time in that time zone - 2019-09-13 20:43:54.254873+02:00\n",
      "timezone name: Europe/Andorra - current time in that time zone - 2019-09-13 20:43:54.254873+02:00\n",
      "timezone name: Europe/Astrakhan - current time in that time zone - 2019-09-13 22:43:54.254873+04:00\n",
      "timezone name: Europe/Athens - current time in that time zone - 2019-09-13 21:43:54.254873+03:00\n",
      "timezone name: Europe/Belfast - current time in that time zone - 2019-09-13 19:43:54.254873+01:00\n",
      "timezone name: Europe/Belgrade - current time in that time zone - 2019-09-13 20:43:54.254873+02:00\n",
      "timezone name: Europe/Berlin - current time in that time zone - 2019-09-13 20:43:54.254873+02:00\n",
      "timezone name: Europe/Bratislava - current time in that time zone - 2019-09-13 20:43:54.254873+02:00\n",
      "timezone name: Europe/Brussels - current time in that time zone - 2019-09-13 20:43:54.254873+02:00\n",
      "timezone name: Europe/Bucharest - current time in that time zone - 2019-09-13 21:43:54.254873+03:00\n",
      "timezone name: Europe/Budapest - current time in that time zone - 2019-09-13 20:43:54.254873+02:00\n",
      "timezone name: Europe/Busingen - current time in that time zone - 2019-09-13 20:43:54.254873+02:00\n",
      "timezone name: Europe/Chisinau - current time in that time zone - 2019-09-13 21:43:54.254873+03:00\n",
      "timezone name: Europe/Copenhagen - current time in that time zone - 2019-09-13 20:43:54.254873+02:00\n"
     ]
    },
    {
     "name": "stdout",
     "output_type": "stream",
     "text": [
      "timezone name: Europe/Dublin - current time in that time zone - 2019-09-13 19:43:54.254873+01:00\n",
      "timezone name: Europe/Gibraltar - current time in that time zone - 2019-09-13 20:43:54.254873+02:00\n",
      "timezone name: Europe/Guernsey - current time in that time zone - 2019-09-13 19:43:54.254873+01:00\n",
      "timezone name: Europe/Helsinki - current time in that time zone - 2019-09-13 21:43:54.254873+03:00\n",
      "timezone name: Europe/Isle_of_Man - current time in that time zone - 2019-09-13 19:43:54.254873+01:00\n",
      "timezone name: Europe/Istanbul - current time in that time zone - 2019-09-13 21:43:54.254873+03:00\n",
      "timezone name: Europe/Jersey - current time in that time zone - 2019-09-13 19:43:54.254873+01:00\n",
      "timezone name: Europe/Kaliningrad - current time in that time zone - 2019-09-13 20:43:54.254873+02:00\n",
      "timezone name: Europe/Kiev - current time in that time zone - 2019-09-13 21:43:54.254873+03:00\n",
      "timezone name: Europe/Kirov - current time in that time zone - 2019-09-13 21:43:54.254873+03:00\n",
      "timezone name: Europe/Lisbon - current time in that time zone - 2019-09-13 19:43:54.254873+01:00\n",
      "timezone name: Europe/Ljubljana - current time in that time zone - 2019-09-13 20:43:54.254873+02:00\n",
      "timezone name: Europe/London - current time in that time zone - 2019-09-13 19:43:54.254873+01:00\n",
      "timezone name: Europe/Luxembourg - current time in that time zone - 2019-09-13 20:43:54.254873+02:00\n",
      "timezone name: Europe/Madrid - current time in that time zone - 2019-09-13 20:43:54.254873+02:00\n",
      "timezone name: Europe/Malta - current time in that time zone - 2019-09-13 20:43:54.254873+02:00\n",
      "timezone name: Europe/Mariehamn - current time in that time zone - 2019-09-13 21:43:54.254873+03:00\n",
      "timezone name: Europe/Minsk - current time in that time zone - 2019-09-13 21:43:54.254873+03:00\n",
      "timezone name: Europe/Monaco - current time in that time zone - 2019-09-13 20:43:54.254873+02:00\n",
      "timezone name: Europe/Moscow - current time in that time zone - 2019-09-13 21:43:54.254873+03:00\n",
      "timezone name: Europe/Nicosia - current time in that time zone - 2019-09-13 21:43:54.254873+03:00\n",
      "timezone name: Europe/Oslo - current time in that time zone - 2019-09-13 20:43:54.254873+02:00\n",
      "timezone name: Europe/Paris - current time in that time zone - 2019-09-13 20:43:54.254873+02:00\n",
      "timezone name: Europe/Podgorica - current time in that time zone - 2019-09-13 20:43:54.254873+02:00\n",
      "timezone name: Europe/Prague - current time in that time zone - 2019-09-13 20:43:54.254873+02:00\n",
      "timezone name: Europe/Riga - current time in that time zone - 2019-09-13 21:43:54.254873+03:00\n",
      "timezone name: Europe/Rome - current time in that time zone - 2019-09-13 20:43:54.254873+02:00\n",
      "timezone name: Europe/Samara - current time in that time zone - 2019-09-13 22:43:54.254873+04:00\n",
      "timezone name: Europe/San_Marino - current time in that time zone - 2019-09-13 20:43:54.254873+02:00\n",
      "timezone name: Europe/Sarajevo - current time in that time zone - 2019-09-13 20:43:54.254873+02:00\n",
      "timezone name: Europe/Saratov - current time in that time zone - 2019-09-13 22:43:54.254873+04:00\n",
      "timezone name: Europe/Simferopol - current time in that time zone - 2019-09-13 21:43:54.254873+03:00\n",
      "timezone name: Europe/Skopje - current time in that time zone - 2019-09-13 20:43:54.254873+02:00\n",
      "timezone name: Europe/Sofia - current time in that time zone - 2019-09-13 21:43:54.254873+03:00\n",
      "timezone name: Europe/Stockholm - current time in that time zone - 2019-09-13 20:43:54.254873+02:00\n",
      "timezone name: Europe/Tallinn - current time in that time zone - 2019-09-13 21:43:54.254873+03:00\n",
      "timezone name: Europe/Tirane - current time in that time zone - 2019-09-13 20:43:54.254873+02:00\n",
      "timezone name: Europe/Tiraspol - current time in that time zone - 2019-09-13 21:43:54.254873+03:00\n",
      "timezone name: Europe/Ulyanovsk - current time in that time zone - 2019-09-13 22:43:54.254873+04:00\n",
      "timezone name: Europe/Uzhgorod - current time in that time zone - 2019-09-13 21:43:54.254873+03:00\n",
      "timezone name: Europe/Vaduz - current time in that time zone - 2019-09-13 20:43:54.254873+02:00\n",
      "timezone name: Europe/Vatican - current time in that time zone - 2019-09-13 20:43:54.254873+02:00\n",
      "timezone name: Europe/Vienna - current time in that time zone - 2019-09-13 20:43:54.254873+02:00\n",
      "timezone name: Europe/Vilnius - current time in that time zone - 2019-09-13 21:43:54.254873+03:00\n",
      "timezone name: Europe/Volgograd - current time in that time zone - 2019-09-13 22:43:54.254873+04:00\n",
      "timezone name: Europe/Warsaw - current time in that time zone - 2019-09-13 20:43:54.254873+02:00\n",
      "timezone name: Europe/Zagreb - current time in that time zone - 2019-09-13 20:43:54.254873+02:00\n",
      "timezone name: Europe/Zaporozhye - current time in that time zone - 2019-09-13 21:43:54.254873+03:00\n",
      "timezone name: Europe/Zurich - current time in that time zone - 2019-09-13 20:43:54.254873+02:00\n",
      "timezone name: GB - current time in that time zone - 2019-09-13 19:43:54.254873+01:00\n",
      "timezone name: GB-Eire - current time in that time zone - 2019-09-13 19:43:54.254873+01:00\n",
      "timezone name: GMT - current time in that time zone - 2019-09-13 18:43:54.254873+00:00\n",
      "timezone name: GMT+0 - current time in that time zone - 2019-09-13 18:43:54.254873+00:00\n",
      "timezone name: GMT-0 - current time in that time zone - 2019-09-13 18:43:54.254873+00:00\n",
      "timezone name: GMT0 - current time in that time zone - 2019-09-13 18:43:54.254873+00:00\n",
      "timezone name: Greenwich - current time in that time zone - 2019-09-13 18:43:54.254873+00:00\n",
      "timezone name: HST - current time in that time zone - 2019-09-13 08:43:54.254873-10:00\n",
      "timezone name: Hongkong - current time in that time zone - 2019-09-14 02:43:54.254873+08:00\n",
      "timezone name: Iceland - current time in that time zone - 2019-09-13 18:43:54.254873+00:00\n",
      "timezone name: Indian/Antananarivo - current time in that time zone - 2019-09-13 21:43:54.254873+03:00\n",
      "timezone name: Indian/Chagos - current time in that time zone - 2019-09-14 00:43:54.254873+06:00\n",
      "timezone name: Indian/Christmas - current time in that time zone - 2019-09-14 01:43:54.254873+07:00\n",
      "timezone name: Indian/Cocos - current time in that time zone - 2019-09-14 01:13:54.254873+06:30\n"
     ]
    }
   ],
   "source": [
    "i =0\n",
    "utcmoment_naive = datetime.utcnow()\n",
    "\n",
    "utcmoment_naive = datetime.now()\n",
    "print(utcmoment_naive)\n",
    "print(utcmoment_naive.tzinfo)\n",
    "utcmoment = utcmoment_naive.replace(tzinfo=pytz.utc)\n",
    "print(\"Current Utc Time :\", utcmoment)\n",
    "for timezonename in list(all_timezones):\n",
    "    if(i>500):\n",
    "        break\n",
    "    print(\"timezone name: {} - current time in that time zone - {}\".format(timezonename,utcmoment.astimezone(pytz.timezone(timezonename))))\n",
    "    i+=1"
   ]
  },
  {
   "cell_type": "code",
   "execution_count": 11,
   "metadata": {},
   "outputs": [],
   "source": [
    "#### 'TimeZones Starting with 'B'"
   ]
  },
  {
   "cell_type": "code",
   "execution_count": 12,
   "metadata": {},
   "outputs": [
    {
     "name": "stdout",
     "output_type": "stream",
     "text": [
      "2019-09-13 18:44:27.561875\n",
      "None\n",
      "Current Utc Time : 2019-09-13 18:44:27.561875+00:00\n",
      "timezone name: Brazil/Acre - current time in that time zone - 2019-09-13 13:44:27.561875-05:00\n",
      "timezone name: Brazil/DeNoronha - current time in that time zone - 2019-09-13 16:44:27.561875-02:00\n",
      "timezone name: Brazil/East - current time in that time zone - 2019-09-13 15:44:27.561875-03:00\n",
      "timezone name: Brazil/West - current time in that time zone - 2019-09-13 14:44:27.561875-04:00\n"
     ]
    }
   ],
   "source": [
    "i =0\n",
    "utcmoment_naive = datetime.utcnow()\n",
    "\n",
    "utcmoment_naive = datetime.now()\n",
    "print(utcmoment_naive)\n",
    "print(utcmoment_naive.tzinfo)\n",
    "utcmoment = utcmoment_naive.replace(tzinfo=pytz.utc)\n",
    "print(\"Current Utc Time :\", utcmoment)\n",
    "for timezonename in list(all_timezones):\n",
    "    if(timezonename.startswith('B')):\n",
    "        print(\"timezone name: {} - current time in that time zone - {}\".format(timezonename,utcmoment.astimezone(pytz.timezone(timezonename))))"
   ]
  },
  {
   "cell_type": "code",
   "execution_count": 13,
   "metadata": {},
   "outputs": [
    {
     "name": "stdout",
     "output_type": "stream",
     "text": [
      "04:20:01\n",
      "hour  : 4\n",
      "minute: 20\n",
      "second: 1\n",
      "microsecond: 0\n",
      "tzinfo: None\n",
      "2019-09-13 18:59:48.669820+05:45\n",
      "2019-09-13 08:14:48.669820-05:00\n"
     ]
    }
   ],
   "source": [
    "import datetime as dt\n",
    "\n",
    "t = dt.time(4, 20, 1)\n",
    "\n",
    "# Let's show the different components\n",
    "print(t)\n",
    "print('hour  :', t.hour)\n",
    "print('minute:', t.minute)\n",
    "print('second:', t.second)\n",
    "print('microsecond:', t.microsecond)\n",
    "print('tzinfo:', t.tzinfo)\n",
    "print(dt.datetime.now(pytz.timezone('Asia/Katmandu')))\n",
    "print(dt.datetime.now(pytz.timezone('Brazil/Acre')))"
   ]
  },
  {
   "cell_type": "markdown",
   "metadata": {},
   "source": [
    "##### able to represent both time and date details"
   ]
  },
  {
   "cell_type": "code",
   "execution_count": 6,
   "metadata": {},
   "outputs": [
    {
     "name": "stdout",
     "output_type": "stream",
     "text": [
      "2019-09-13 18:43:39.057373\n",
      "Fri Sep 13 18:43:39 2019\n",
      "tuple: time.struct_time(tm_year=2019, tm_mon=9, tm_mday=13, tm_hour=18, tm_min=43, tm_sec=39, tm_wday=4, tm_yday=256, tm_isdst=-1)\n",
      "ordinal: 737315\n",
      "Year : 2019\n",
      "Month: 9\n",
      "Day  : 13\n"
     ]
    }
   ],
   "source": [
    "import datetime\n",
    "print(datetime.datetime.today())\n",
    "print(datetime.datetime.today().ctime())\n",
    "print('tuple:', datetime.datetime.today().timetuple())\n",
    "print('ordinal:', datetime.datetime.today().toordinal()) # Each day has a value of 1, starting from january 1 0001\n",
    "print('Year :', datetime.datetime.today().year)\n",
    "print('Month:', datetime.datetime.today().month)\n",
    "print('Day  :', datetime.datetime.today().day)"
   ]
  },
  {
   "cell_type": "markdown",
   "metadata": {},
   "source": [
    "Note: A time instance only holds values of time, and not a date associated with the time. \n",
    "\n",
    "We can also check the min and max values a time of day can have in the module:"
   ]
  },
  {
   "cell_type": "code",
   "execution_count": 23,
   "metadata": {},
   "outputs": [
    {
     "name": "stdout",
     "output_type": "stream",
     "text": [
      "Earliest  : 00:00:00\n",
      "Latest    : 23:59:59.999999\n",
      "Resolution: 0:00:00.000001\n"
     ]
    }
   ],
   "source": [
    "import datetime\n",
    "print('Earliest  :', datetime.time.min)\n",
    "print('Latest    :', datetime.time.max)\n",
    "#print('Earliest Hour    :', datetime.time.hour.min)\n",
    "#print('Final Hour  :', datetime.time.hour.min)\n",
    "\n",
    "print('Resolution:', datetime.time.resolution)\n"
   ]
  },
  {
   "cell_type": "markdown",
   "metadata": {},
   "source": [
    "The min and max class attributes reflect the valid range of times in a single day."
   ]
  },
  {
   "cell_type": "markdown",
   "metadata": {},
   "source": [
    "## Date\n",
    "datetime (as you might suspect) also allows us to work with date timestamps. Calendar date values are represented with the date class. Instances have attributes for year, month, and day. It is easy to create a date representing today’s date using the today() class method.\n",
    "\n",
    "Let's see some examples:"
   ]
  },
  {
   "cell_type": "markdown",
   "metadata": {},
   "source": [
    "##### able to represent only date details"
   ]
  },
  {
   "cell_type": "code",
   "execution_count": 53,
   "metadata": {
    "scrolled": false
   },
   "outputs": [
    {
     "name": "stdout",
     "output_type": "stream",
     "text": [
      "2019-07-26\n",
      "ctime: Fri Jul 26 00:00:00 2019\n",
      "tuple: time.struct_time(tm_year=2019, tm_mon=7, tm_mday=26, tm_hour=0, tm_min=0, tm_sec=0, tm_wday=4, tm_yday=207, tm_isdst=-1)\n",
      "ordinal: 737266\n",
      "Year : 2019\n",
      "Month: 7\n",
      "Day  : 26\n"
     ]
    }
   ],
   "source": [
    "import datetime\n",
    "today = datetime.date.today()\n",
    "print(today)\n",
    "print('ctime:', today.ctime())\n",
    "print('tuple:', today.timetuple())\n",
    "print('ordinal:', today.toordinal()) # Each day has a value of 1, starting from january b 0001\n",
    "print('Year :', today.year)\n",
    "print('Month:', today.month)\n",
    "print('Day  :', today.day)"
   ]
  },
  {
   "cell_type": "code",
   "execution_count": 66,
   "metadata": {},
   "outputs": [
    {
     "data": {
      "text/plain": [
       "datetime.date(2019, 7, 26)"
      ]
     },
     "execution_count": 66,
     "metadata": {},
     "output_type": "execute_result"
    }
   ],
   "source": [
    "datetime.date.today()\n"
   ]
  },
  {
   "cell_type": "code",
   "execution_count": 70,
   "metadata": {},
   "outputs": [
    {
     "data": {
      "text/plain": [
       "datetime.date(2019, 7, 24)"
      ]
     },
     "execution_count": 70,
     "metadata": {},
     "output_type": "execute_result"
    }
   ],
   "source": [
    "today = datetime.date.today()\n",
    "today = datetime.date(today.year, today.month, day = today.day-2)\n",
    "today"
   ]
  },
  {
   "cell_type": "code",
   "execution_count": 35,
   "metadata": {},
   "outputs": [
    {
     "name": "stdout",
     "output_type": "stream",
     "text": [
      "26.07.2019 11:13:41\n",
      "<class 'time.struct_time'>\n",
      "1564119821\n"
     ]
    }
   ],
   "source": [
    "import time\n",
    "pattern = '%d.%m.%Y %H:%M:%S'\n",
    "date_time = datetime.datetime.now().strftime(pattern)\n",
    "print(date_time)\n",
    "print(type(time.strptime(date_time, pattern)))\n",
    "epoch = int(time.mktime(time.strptime(date_time, pattern)))\n",
    "#epoch = int(time.mktime(datetime.datetime.now()))\n",
    "print(epoch)"
   ]
  },
  {
   "cell_type": "code",
   "execution_count": 38,
   "metadata": {},
   "outputs": [
    {
     "name": "stdout",
     "output_type": "stream",
     "text": [
      "d1: 2015-03-11\n",
      "735668\n",
      "#####################################\n",
      "d2: 2014-03-11\n",
      "735303\n",
      "#####################################\n",
      "d3: 2015-12-11\n",
      "735943\n"
     ]
    }
   ],
   "source": [
    "d1 = datetime.date(2015, 3, 11)\n",
    "print('d1:', d1)\n",
    "print(d1.to ordinal())\n",
    "print(\"#####################################\")\n",
    "d2 = d1.replace(year=2014)\n",
    "print('d2:', d2)\n",
    "print(d2.toordinal())\n",
    "print(\"#####################################\")\n",
    "d3 = d1.replace(month=12)\n",
    "print('d3:', d3)\n",
    "print(d3.to ordinal())"
   ]
  },
  {
   "cell_type": "markdown",
   "metadata": {},
   "source": [
    "As with time, the range of date values supported can be determined using the min and max attributes."
   ]
  },
  {
   "cell_type": "code",
   "execution_count": 39,
   "metadata": {},
   "outputs": [
    {
     "name": "stdout",
     "output_type": "stream",
     "text": [
      "Earliest  : 0001-01-01\n",
      "Latest    : 9999-12-31\n",
      "Resolution: 1 day, 0:00:00\n"
     ]
    }
   ],
   "source": [
    "print('Earliest  :', datetime.date.min)\n",
    "print('Latest    :', datetime.date.max)\n",
    "print('Resolution:', datetime.date.resolution)"
   ]
  },
  {
   "cell_type": "markdown",
   "metadata": {},
   "source": [
    "Another way to create new date instances uses the replace() method of an existing date. For example, you can change the year, leaving the day and month alone."
   ]
  },
  {
   "cell_type": "code",
   "execution_count": 42,
   "metadata": {},
   "outputs": [
    {
     "name": "stdout",
     "output_type": "stream",
     "text": [
      "d1: 2015-03-11\n",
      "d2: 2014-03-11\n",
      "d3: 2015-12-11\n",
      "d4: 2015-03-20\n",
      "d5: 0001-03-11\n",
      "d6: 0001-12-11\n",
      "d7: 9991-12-30\n"
     ]
    }
   ],
   "source": [
    "# d1 = datetime.date(2015, 3, 11)\n",
    "print('d1:', d1)\n",
    "\n",
    "d2 = d1.replace(year=2014)\n",
    "print('d2:', d2)\n",
    "\n",
    "\n",
    "d3 = d1.replace(month=12)\n",
    "print('d3:', d3)\n",
    "\n",
    "d4 = d1.replace(day=20)\n",
    "print('d4:', d4)\n",
    "\n",
    "d5 = d1.replace(1)\n",
    "print('d5:', d5)\n",
    "\n",
    "d6 = d1.replace(1,12)\n",
    "print('d6:', d6)\n",
    "\n",
    "d7 = d1.replace(9991,12,30)\n",
    "print('d7:', d7)\n"
   ]
  },
  {
   "cell_type": "markdown",
   "metadata": {},
   "source": [
    "# Arithmetic\n",
    "We can perform arithmetic on date objects to check for time differences. For example:"
   ]
  },
  {
   "cell_type": "code",
   "execution_count": 43,
   "metadata": {},
   "outputs": [
    {
     "data": {
      "text/plain": [
       "datetime.date(2015, 3, 11)"
      ]
     },
     "execution_count": 43,
     "metadata": {},
     "output_type": "execute_result"
    }
   ],
   "source": [
    "d1"
   ]
  },
  {
   "cell_type": "code",
   "execution_count": 44,
   "metadata": {},
   "outputs": [
    {
     "data": {
      "text/plain": [
       "datetime.date(2014, 3, 11)"
      ]
     },
     "execution_count": 44,
     "metadata": {},
     "output_type": "execute_result"
    }
   ],
   "source": [
    "d2"
   ]
  },
  {
   "cell_type": "code",
   "execution_count": 45,
   "metadata": {},
   "outputs": [
    {
     "data": {
      "text/plain": [
       "datetime.timedelta(days=365)"
      ]
     },
     "execution_count": 45,
     "metadata": {},
     "output_type": "execute_result"
    }
   ],
   "source": [
    "d1-d2"
   ]
  },
  {
   "cell_type": "markdown",
   "metadata": {},
   "source": [
    "### Formatting Date time to different string formats in string "
   ]
  },
  {
   "cell_type": "code",
   "execution_count": 47,
   "metadata": {},
   "outputs": [
    {
     "name": "stdout",
     "output_type": "stream",
     "text": [
      "2019-07-26 11:17:57.758713\n",
      "<class 'datetime.datetime'>\n",
      "####################################################\n",
      "2019-07-26-11 17 57 758713\n",
      "####################################################\n",
      "26-11 17 57 758713\n",
      "####################################################\n",
      "11 17 57 758713\n",
      "####################################################\n",
      "11$17$57$759709\n",
      "####################################################\n"
     ]
    }
   ],
   "source": [
    "from datetime import datetime\n",
    "print(str(datetime.now()))\n",
    "print(type(datetime.now()))\n",
    "print(\"####################################################\")\n",
    "print(datetime.now().strftime('%Y-%m-%d-%H %M %S %f'))\n",
    "print(\"####################################################\")\n",
    "print(datetime.now().strftime('%d-%H %M %S %f'))\n",
    "print(\"####################################################\")\n",
    "print(datetime.now().strftime('%H %M %S %f'))\n",
    "print(\"####################################################\")\n",
    "print(datetime.now().strftime('%H$%M$%S$%f'))\n",
    "print(\"####################################################\")"
   ]
  },
  {
   "cell_type": "code",
   "execution_count": 49,
   "metadata": {},
   "outputs": [
    {
     "name": "stdout",
     "output_type": "stream",
     "text": [
      "2019-07-26-11 18 55 \t <class 'str'>\n",
      "####################################################\n"
     ]
    },
    {
     "ename": "ValueError",
     "evalue": "time data '2011-11 15 07 54 38' does not match format '%Y-%m-%d %H %M %S'",
     "output_type": "error",
     "traceback": [
      "\u001b[1;31m---------------------------------------------------------------------------\u001b[0m",
      "\u001b[1;31mValueError\u001b[0m                                Traceback (most recent call last)",
      "\u001b[1;32m<ipython-input-49-c62c72b5be5d>\u001b[0m in \u001b[0;36m<module>\u001b[1;34m\u001b[0m\n\u001b[0;32m      3\u001b[0m \u001b[0mprint\u001b[0m\u001b[1;33m(\u001b[0m\u001b[0mnewtime\u001b[0m\u001b[1;33m,\u001b[0m\u001b[1;34m\"\\t\"\u001b[0m\u001b[1;33m,\u001b[0m\u001b[0mtype\u001b[0m\u001b[1;33m(\u001b[0m\u001b[0mnewtime\u001b[0m\u001b[1;33m)\u001b[0m\u001b[1;33m)\u001b[0m\u001b[1;33m\u001b[0m\u001b[1;33m\u001b[0m\u001b[0m\n\u001b[0;32m      4\u001b[0m \u001b[0mprint\u001b[0m\u001b[1;33m(\u001b[0m\u001b[1;34m\"####################################################\"\u001b[0m\u001b[1;33m)\u001b[0m\u001b[1;33m\u001b[0m\u001b[1;33m\u001b[0m\u001b[0m\n\u001b[1;32m----> 5\u001b[1;33m \u001b[0mPrevioustime\u001b[0m \u001b[1;33m=\u001b[0m \u001b[0mdatetime\u001b[0m\u001b[1;33m.\u001b[0m\u001b[0mstrptime\u001b[0m\u001b[1;33m(\u001b[0m\u001b[1;34m'2011-11 15 07 54 38'\u001b[0m\u001b[1;33m,\u001b[0m\u001b[1;34m'%Y-%m-%d %H %M %S'\u001b[0m\u001b[1;33m)\u001b[0m\u001b[1;31m### provide the formatters in the same way as\u001b[0m\u001b[1;33m\u001b[0m\u001b[1;33m\u001b[0m\u001b[0m\n\u001b[0m\u001b[0;32m      6\u001b[0m                                                                            \u001b[1;31m#string datetime to parse the string\u001b[0m\u001b[1;33m\u001b[0m\u001b[1;33m\u001b[0m\u001b[1;33m\u001b[0m\u001b[0m\n\u001b[0;32m      7\u001b[0m \u001b[0mprint\u001b[0m\u001b[1;33m(\u001b[0m\u001b[0mPrevioustime\u001b[0m\u001b[1;33m,\u001b[0m\u001b[1;34m\"\\t\"\u001b[0m\u001b[1;33m,\u001b[0m\u001b[0mtype\u001b[0m\u001b[1;33m(\u001b[0m\u001b[0mPrevioustime\u001b[0m\u001b[1;33m)\u001b[0m\u001b[1;33m)\u001b[0m\u001b[1;33m\u001b[0m\u001b[1;33m\u001b[0m\u001b[0m\n",
      "\u001b[1;32mc:\\python373\\lib\\_strptime.py\u001b[0m in \u001b[0;36m_strptime_datetime\u001b[1;34m(cls, data_string, format)\u001b[0m\n\u001b[0;32m    575\u001b[0m     \"\"\"Return a class cls instance based on the input string and the\n\u001b[0;32m    576\u001b[0m     format string.\"\"\"\n\u001b[1;32m--> 577\u001b[1;33m     \u001b[0mtt\u001b[0m\u001b[1;33m,\u001b[0m \u001b[0mfraction\u001b[0m\u001b[1;33m,\u001b[0m \u001b[0mgmtoff_fraction\u001b[0m \u001b[1;33m=\u001b[0m \u001b[0m_strptime\u001b[0m\u001b[1;33m(\u001b[0m\u001b[0mdata_string\u001b[0m\u001b[1;33m,\u001b[0m \u001b[0mformat\u001b[0m\u001b[1;33m)\u001b[0m\u001b[1;33m\u001b[0m\u001b[1;33m\u001b[0m\u001b[0m\n\u001b[0m\u001b[0;32m    578\u001b[0m     \u001b[0mtzname\u001b[0m\u001b[1;33m,\u001b[0m \u001b[0mgmtoff\u001b[0m \u001b[1;33m=\u001b[0m \u001b[0mtt\u001b[0m\u001b[1;33m[\u001b[0m\u001b[1;33m-\u001b[0m\u001b[1;36m2\u001b[0m\u001b[1;33m:\u001b[0m\u001b[1;33m]\u001b[0m\u001b[1;33m\u001b[0m\u001b[1;33m\u001b[0m\u001b[0m\n\u001b[0;32m    579\u001b[0m     \u001b[0margs\u001b[0m \u001b[1;33m=\u001b[0m \u001b[0mtt\u001b[0m\u001b[1;33m[\u001b[0m\u001b[1;33m:\u001b[0m\u001b[1;36m6\u001b[0m\u001b[1;33m]\u001b[0m \u001b[1;33m+\u001b[0m \u001b[1;33m(\u001b[0m\u001b[0mfraction\u001b[0m\u001b[1;33m,\u001b[0m\u001b[1;33m)\u001b[0m\u001b[1;33m\u001b[0m\u001b[1;33m\u001b[0m\u001b[0m\n",
      "\u001b[1;32mc:\\python373\\lib\\_strptime.py\u001b[0m in \u001b[0;36m_strptime\u001b[1;34m(data_string, format)\u001b[0m\n\u001b[0;32m    357\u001b[0m     \u001b[1;32mif\u001b[0m \u001b[1;32mnot\u001b[0m \u001b[0mfound\u001b[0m\u001b[1;33m:\u001b[0m\u001b[1;33m\u001b[0m\u001b[1;33m\u001b[0m\u001b[0m\n\u001b[0;32m    358\u001b[0m         raise ValueError(\"time data %r does not match format %r\" %\n\u001b[1;32m--> 359\u001b[1;33m                          (data_string, format))\n\u001b[0m\u001b[0;32m    360\u001b[0m     \u001b[1;32mif\u001b[0m \u001b[0mlen\u001b[0m\u001b[1;33m(\u001b[0m\u001b[0mdata_string\u001b[0m\u001b[1;33m)\u001b[0m \u001b[1;33m!=\u001b[0m \u001b[0mfound\u001b[0m\u001b[1;33m.\u001b[0m\u001b[0mend\u001b[0m\u001b[1;33m(\u001b[0m\u001b[1;33m)\u001b[0m\u001b[1;33m:\u001b[0m\u001b[1;33m\u001b[0m\u001b[1;33m\u001b[0m\u001b[0m\n\u001b[0;32m    361\u001b[0m         raise ValueError(\"unconverted data remains: %s\" %\n",
      "\u001b[1;31mValueError\u001b[0m: time data '2011-11 15 07 54 38' does not match format '%Y-%m-%d %H %M %S'"
     ]
    }
   ],
   "source": [
    "from datetime import datetime\n",
    "newtime = str(datetime.now().strftime('%Y-%m-%d-%H %M %S'))\n",
    "print(newtime,\"\\t\",type(newtime))\n",
    "print(\"####################################################\")\n",
    "Previoustime = datetime.strptime('2011-11-15 07 54 38','%Y-%m-%d %H %M %S')### provide the formatters in the same way as \n",
    "                                                                           #string datetime to parse the string\n",
    "print(Previoustime,\"\\t\",type(Previoustime))\n",
    "print(\"####################################################\")\n",
    "\n",
    "newtime1 = datetime.strptime(newtime,'%Y-%m-%d-%H %M %S')\n",
    "print(newtime1)\n",
    "\n"
   ]
  },
  {
   "cell_type": "code",
   "execution_count": 50,
   "metadata": {},
   "outputs": [
    {
     "name": "stdout",
     "output_type": "stream",
     "text": [
      "#######################Calculating time difference #############################\n",
      "2810 days, 3:23:24 <class 'datetime.timedelta'>\n",
      "total seconds 242796204.0\n",
      "total minutes 4046603.4\n",
      "total hours 67443.39\n",
      "total days 2810.14125\n"
     ]
    }
   ],
   "source": [
    "################################################\n",
    "print(\"#######################Calculating time difference #############################\")\n",
    "timedifference = newtime1 - Previoustime\n",
    "print(timedifference, type(timedifference))\n",
    "secstime = (newtime1 - Previoustime).total_seconds()\n",
    "print(\"total seconds\", secstime)\n",
    "totalminutes = secstime /60\n",
    "# total timedifference between two timestamps in seconds, gives us the uptime between previous ping and current ping \n",
    "print(\"total minutes\",totalminutes)\n",
    "totalhours = totalminutes /60\n",
    "print(\"total hours\",totalhours)\n",
    "totaldays = totalhours /24\n",
    "print(\"total days\",totaldays)"
   ]
  },
  {
   "cell_type": "code",
   "execution_count": 51,
   "metadata": {},
   "outputs": [
    {
     "name": "stdout",
     "output_type": "stream",
     "text": [
      "2019-07-26 11:20:33.348373\n",
      "-0.348373\n"
     ]
    }
   ],
   "source": [
    "from datetime import datetime\n",
    "def datetimediffsecs(oldtime):\n",
    "    newtime = str(datetime.now().strftime('%Y-%m-%d %H %M %S'))\n",
    "    Previoustime = datetime.strptime(str(oldtime), '%Y-%m-%d %H:%M:%S.%f')\n",
    "    Currenttime = datetime.strptime(newtime, '%Y-%m-%d %H %M %S')\n",
    "    secstime = (Currenttime - Previoustime).total_seconds()  # total timedifference between two timestamps in seconds, gives us the uptime between previous ping and current ping \n",
    "    return secstime\n",
    "print(datetime.now())\n",
    "print(datetimediffsecs(datetime.now()))"
   ]
  },
  {
   "cell_type": "markdown",
   "metadata": {},
   "source": [
    "This gives us the difference in days between the two dates. You can use the timedelta method to specify various units of times (days, minutes, hours, etc.)\n",
    "\n",
    "Great! You should now have a basic understanding of how to use datetime with Python to work with timestamps in your code!"
   ]
  }
 ],
 "metadata": {
  "kernelspec": {
   "display_name": "Python 3",
   "language": "python",
   "name": "python3"
  },
  "language_info": {
   "codemirror_mode": {
    "name": "ipython",
    "version": 3
   },
   "file_extension": ".py",
   "mimetype": "text/x-python",
   "name": "python",
   "nbconvert_exporter": "python",
   "pygments_lexer": "ipython3",
   "version": "3.7.4"
  }
 },
 "nbformat": 4,
 "nbformat_minor": 1
}

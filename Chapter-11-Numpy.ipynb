{
 "cells": [
  {
   "cell_type": "markdown",
   "metadata": {
    "colab_type": "text",
    "id": "-s9bQNqkVygt"
   },
   "source": [
    "# NUMPY BASICS"
   ]
  },
  {
   "cell_type": "markdown",
   "metadata": {
    "colab_type": "text",
    "id": "7UV8v2kdVscb"
   },
   "source": [
    "# Intro to NumPy\n",
    "\n",
    "NumPy is the fundamental package for scientific computing in Python. NumPy is used in many other packages in python even though you may not see it explicitly running in your code.\n",
    "\n",
    "It is a python library that provides a multidimensional array object, various derived objects (such as masked arrays and matrices), and an assortment of routines for fast operations on arrays, including mathematical, logical, shape manipulation, sorting, selecting, I/O, discrete Fourier transforms, basic linear algebra, basic statistical operations, random simulation and much more.\n",
    "\n",
    "\n"
   ]
  },
  {
   "cell_type": "markdown",
   "metadata": {},
   "source": [
    "### install the numpy"
   ]
  },
  {
   "cell_type": "code",
   "execution_count": 1,
   "metadata": {},
   "outputs": [
    {
     "name": "stdout",
     "output_type": "stream",
     "text": [
      "Requirement already satisfied: numpy in c:\\users\\ravi\\appdata\\local\\programs\\python\\python37-32\\lib\\site-packages (1.17.0)\n",
      "Note: you may need to restart the kernel to use updated packages.\n"
     ]
    },
    {
     "name": "stderr",
     "output_type": "stream",
     "text": [
      "You are using pip version 19.0.3, however version 19.2.3 is available.\n",
      "You should consider upgrading via the 'python -m pip install --upgrade pip' command.\n"
     ]
    }
   ],
   "source": [
    "pip install numpy"
   ]
  },
  {
   "cell_type": "code",
   "execution_count": 2,
   "metadata": {},
   "outputs": [],
   "source": [
    "import numpy as np"
   ]
  },
  {
   "cell_type": "code",
   "execution_count": 3,
   "metadata": {},
   "outputs": [
    {
     "name": "stdout",
     "output_type": "stream",
     "text": [
      "[0 1 2 3 4 5 6 7 8 9]\n",
      "<class 'numpy.ndarray'>\n"
     ]
    }
   ],
   "source": [
    "import numpy\n",
    "a = numpy.arange(10)\n",
    "print (a)\n",
    "print(type(a))"
   ]
  },
  {
   "cell_type": "code",
   "execution_count": 4,
   "metadata": {},
   "outputs": [
    {
     "name": "stdout",
     "output_type": "stream",
     "text": [
      "1\n",
      "10\n",
      "4\n",
      "int32\n",
      "<class 'numpy.int32'>\n",
      "<memory at 0x09DEBB90>\n",
      "<class 'numpy.ndarray'>\n"
     ]
    }
   ],
   "source": [
    "print (a.ndim)\n",
    "print(a.size)\n",
    "print(a.itemsize)\n",
    "print(a.dtype.name)\n",
    "print(type(a[0]))\n",
    "print(a.data)\n",
    "print(type(a))\n"
   ]
  },
  {
   "cell_type": "markdown",
   "metadata": {},
   "source": [
    "### Makes the processing faster\n"
   ]
  },
  {
   "cell_type": "code",
   "execution_count": 5,
   "metadata": {},
   "outputs": [
    {
     "name": "stdout",
     "output_type": "stream",
     "text": [
      "4\n",
      "10\n",
      "18\n"
     ]
    }
   ],
   "source": [
    "a =[1,2,3]\n",
    "b =[4,5,6]\n",
    "for i in range(len(a)):\n",
    "    print(a[i]*b[i])"
   ]
  },
  {
   "cell_type": "code",
   "execution_count": 6,
   "metadata": {},
   "outputs": [
    {
     "name": "stdout",
     "output_type": "stream",
     "text": [
      "[1 2 3]\n",
      "[4 5 6]\n",
      "[ 4 10 18]\n"
     ]
    }
   ],
   "source": [
    "import numpy as np\n",
    "a = np.arange(1,4)\n",
    "print(a)\n",
    "b =  np.arange(4,7)\n",
    "print(b)\n",
    "print(a*b)"
   ]
  },
  {
   "cell_type": "markdown",
   "metadata": {
    "colab_type": "text",
    "id": "fkjpKVmZVscc"
   },
   "source": [
    " #### Import the numpy package"
   ]
  },
  {
   "cell_type": "code",
   "execution_count": 7,
   "metadata": {
    "colab": {},
    "colab_type": "code",
    "id": "oFl5JU9fVscd"
   },
   "outputs": [],
   "source": [
    "import numpy as np"
   ]
  },
  {
   "cell_type": "code",
   "execution_count": 8,
   "metadata": {},
   "outputs": [
    {
     "name": "stdout",
     "output_type": "stream",
     "text": [
      "[0 1 2 3 4 5 6 7 8 9]\n"
     ]
    }
   ],
   "source": [
    "a = np.arange(10)\n",
    "print (a)"
   ]
  },
  {
   "cell_type": "code",
   "execution_count": 9,
   "metadata": {},
   "outputs": [
    {
     "name": "stdout",
     "output_type": "stream",
     "text": [
      "[[0 1]\n",
      " [2 3]\n",
      " [4 5]\n",
      " [6 7]\n",
      " [8 9]]\n"
     ]
    }
   ],
   "source": [
    "a = np.arange(10).reshape(2,5).reshape(5,2)\n",
    "print (a)"
   ]
  },
  {
   "cell_type": "code",
   "execution_count": 10,
   "metadata": {
    "scrolled": true
   },
   "outputs": [
    {
     "name": "stdout",
     "output_type": "stream",
     "text": [
      "[[0 1]\n",
      " [2 3]\n",
      " [4 5]\n",
      " [6 7]\n",
      " [8 9]]\n"
     ]
    }
   ],
   "source": [
    "a = np.arange(10).reshape(5,2)\n",
    "print (a)"
   ]
  },
  {
   "cell_type": "code",
   "execution_count": 11,
   "metadata": {},
   "outputs": [
    {
     "name": "stdout",
     "output_type": "stream",
     "text": [
      "2\n",
      "10\n",
      "4\n",
      "int32\n",
      "<class 'numpy.ndarray'>\n"
     ]
    }
   ],
   "source": [
    "print (a.ndim)\n",
    "print(a.size)\n",
    "print(a.itemsize)\n",
    "print(a.dtype.name)\n",
    "print(type(a))"
   ]
  },
  {
   "cell_type": "code",
   "execution_count": 12,
   "metadata": {},
   "outputs": [],
   "source": [
    "import numpy as np"
   ]
  },
  {
   "cell_type": "code",
   "execution_count": 13,
   "metadata": {
    "scrolled": true
   },
   "outputs": [
    {
     "name": "stdout",
     "output_type": "stream",
     "text": [
      "[0 1 2 3 4 5 6 7 8 9]\n"
     ]
    }
   ],
   "source": [
    "a = np.arange(10)\n",
    "print (a)"
   ]
  },
  {
   "cell_type": "code",
   "execution_count": 14,
   "metadata": {},
   "outputs": [
    {
     "name": "stdout",
     "output_type": "stream",
     "text": [
      "[[0 1 2 3 4]\n",
      " [5 6 7 8 9]]\n"
     ]
    }
   ],
   "source": [
    "a = np.arange(10).reshape(2,5)\n",
    "print (a)"
   ]
  },
  {
   "cell_type": "code",
   "execution_count": 15,
   "metadata": {},
   "outputs": [
    {
     "name": "stdout",
     "output_type": "stream",
     "text": [
      "[[[ 0  1]\n",
      "  [ 2  3]\n",
      "  [ 4  5]]\n",
      "\n",
      " [[ 6  7]\n",
      "  [ 8  9]\n",
      "  [10 11]]]\n"
     ]
    }
   ],
   "source": [
    "a = np.arange(12).reshape(2,3,2)\n",
    "print(a)"
   ]
  },
  {
   "cell_type": "code",
   "execution_count": 16,
   "metadata": {},
   "outputs": [
    {
     "name": "stdout",
     "output_type": "stream",
     "text": [
      "[[[ 0  1  2]\n",
      "  [ 3  4  5]\n",
      "  [ 6  7  8]]\n",
      "\n",
      " [[ 9 10 11]\n",
      "  [12 13 14]\n",
      "  [15 16 17]]\n",
      "\n",
      " [[18 19 20]\n",
      "  [21 22 23]\n",
      "  [24 25 26]]]\n"
     ]
    }
   ],
   "source": [
    "a = np.arange(27).reshape(3,3,3)\n",
    "print (a)"
   ]
  },
  {
   "cell_type": "code",
   "execution_count": 17,
   "metadata": {},
   "outputs": [
    {
     "name": "stdout",
     "output_type": "stream",
     "text": [
      "[[ 0  5 10]\n",
      " [15 20 25]]\n"
     ]
    }
   ],
   "source": [
    "a = np.arange(0,27,5).reshape(2,3)\n",
    "print (a)"
   ]
  },
  {
   "cell_type": "code",
   "execution_count": 18,
   "metadata": {},
   "outputs": [
    {
     "name": "stdout",
     "output_type": "stream",
     "text": [
      "[[[[ 0  1  2  3]\n",
      "   [ 4  5  6  7]\n",
      "   [ 8  9 10 11]\n",
      "   [12 13 14 15]]\n",
      "\n",
      "  [[16 17 18 19]\n",
      "   [20 21 22 23]\n",
      "   [24 25 26 27]\n",
      "   [28 29 30 31]]]\n",
      "\n",
      "\n",
      " [[[32 33 34 35]\n",
      "   [36 37 38 39]\n",
      "   [40 41 42 43]\n",
      "   [44 45 46 47]]\n",
      "\n",
      "  [[48 49 50 51]\n",
      "   [52 53 54 55]\n",
      "   [56 57 58 59]\n",
      "   [60 61 62 63]]]]\n"
     ]
    }
   ],
   "source": [
    "a = np.arange(64).reshape(2,2,4,4)\n",
    "print (a)"
   ]
  },
  {
   "cell_type": "code",
   "execution_count": 19,
   "metadata": {},
   "outputs": [
    {
     "name": "stdout",
     "output_type": "stream",
     "text": [
      "[[[[ 0  1  2]\n",
      "   [ 3  4  5]]\n",
      "\n",
      "  [[ 6  7  8]\n",
      "   [ 9 10 11]]]\n",
      "\n",
      "\n",
      " [[[12 13 14]\n",
      "   [15 16 17]]\n",
      "\n",
      "  [[18 19 20]\n",
      "   [21 22 23]]]]\n",
      "4\n"
     ]
    }
   ],
   "source": [
    "a = np.arange(24).reshape(2,6,2).reshape(2,2,2,3)\n",
    "print(a)\n",
    "print(a.ndim)"
   ]
  },
  {
   "cell_type": "code",
   "execution_count": 20,
   "metadata": {
    "scrolled": false
   },
   "outputs": [
    {
     "name": "stdout",
     "output_type": "stream",
     "text": [
      "[[0 1]\n",
      " [2 3]\n",
      " [4 5]\n",
      " [6 7]\n",
      " [8 9]]\n",
      "################################\n",
      "[[0 1 2 3 4]\n",
      " [5 6 7 8 9]]\n",
      "################################\n",
      "[[0 1]\n",
      " [2 3]\n",
      " [4 5]\n",
      " [6 7]\n",
      " [8 9]]\n",
      "################################\n",
      "[[0]\n",
      " [1]\n",
      " [2]\n",
      " [3]\n",
      " [4]\n",
      " [5]\n",
      " [6]\n",
      " [7]\n",
      " [8]\n",
      " [9]]\n"
     ]
    }
   ],
   "source": [
    "a = np.arange(10).reshape(5,2)\n",
    "print (a)\n",
    "print(\"################################\")\n",
    "e =a.reshape(2,5)\n",
    "print(e)\n",
    "print(\"################################\")\n",
    "b = np.arange(10).reshape(5,2)\n",
    "print(b)\n",
    "print(\"################################\")\n",
    "c = b.reshape(10,1)\n",
    "print(c)\n"
   ]
  },
  {
   "cell_type": "code",
   "execution_count": 21,
   "metadata": {},
   "outputs": [
    {
     "name": "stdout",
     "output_type": "stream",
     "text": [
      "2\n",
      "10\n",
      "4\n",
      "int32\n",
      "<class 'numpy.ndarray'>\n"
     ]
    }
   ],
   "source": [
    "print (a.ndim)\n",
    "print(a.size)\n",
    "print(a.itemsize)\n",
    "print(a.dtype.name)\n",
    "print(type(a))"
   ]
  },
  {
   "cell_type": "markdown",
   "metadata": {},
   "source": [
    "#### using list to generate numpy array"
   ]
  },
  {
   "cell_type": "code",
   "execution_count": 30,
   "metadata": {},
   "outputs": [
    {
     "name": "stdout",
     "output_type": "stream",
     "text": [
      "[2 3 4]\n",
      "int32\n"
     ]
    }
   ],
   "source": [
    "b=np.array([2,3,4])\n",
    "print(b)\n",
    "print(b.dtype)"
   ]
  },
  {
   "cell_type": "code",
   "execution_count": null,
   "metadata": {},
   "outputs": [],
   "source": [
    "d = b.reshape(3,1)\n",
    "print(d)"
   ]
  },
  {
   "cell_type": "code",
   "execution_count": 3,
   "metadata": {},
   "outputs": [
    {
     "name": "stdout",
     "output_type": "stream",
     "text": [
      "[[1 2]\n",
      " [3 4]]\n",
      "##############\n",
      "[[1 2 3 4]]\n",
      "##############\n",
      "[[[ 3  6]\n",
      "  [ 9 12]]\n",
      "\n",
      " [[14 16]\n",
      "  [18 19]]]\n",
      "##############\n"
     ]
    }
   ],
   "source": [
    "import numpy as np\n",
    "c=np.array([[1,2],[3,4]])\n",
    "print (c)\n",
    "print(\"##############\")\n",
    "d=np.array([[1,2],[3,4]]).reshape(1,4)\n",
    "\n",
    "print(d)\n",
    "print(\"##############\")\n",
    "\n",
    "e = np.array([3,6,9,12,14,16,18,19]).reshape(2,2,2)\n",
    "print(e)\n",
    "print(\"##############\")\n"
   ]
  },
  {
   "cell_type": "code",
   "execution_count": 32,
   "metadata": {},
   "outputs": [
    {
     "name": "stdout",
     "output_type": "stream",
     "text": [
      "[[1 2]\n",
      " [3 4]]\n",
      "int32\n"
     ]
    }
   ],
   "source": [
    "c=np.array([[1,2],[3,4.0]],dtype='int')\n",
    "print (c)\n",
    "print(c.dtype.name)"
   ]
  },
  {
   "cell_type": "code",
   "execution_count": 4,
   "metadata": {
    "scrolled": true
   },
   "outputs": [
    {
     "name": "stdout",
     "output_type": "stream",
     "text": [
      "[[1.+0.j 2.+0.j]\n",
      " [3.+0.j 4.+0.j]]\n",
      "complex128\n"
     ]
    }
   ],
   "source": [
    "c=np.array([[1,2],[3,4]],dtype='complex')\n",
    "print (c)\n",
    "print(c.dtype.name)"
   ]
  },
  {
   "cell_type": "code",
   "execution_count": 5,
   "metadata": {
    "scrolled": true
   },
   "outputs": [
    {
     "ename": "TypeError",
     "evalue": "can't convert complex to int",
     "output_type": "error",
     "traceback": [
      "\u001b[1;31m---------------------------------------------------------------------------\u001b[0m",
      "\u001b[1;31mTypeError\u001b[0m                                 Traceback (most recent call last)",
      "\u001b[1;32m<ipython-input-5-69eea4655b52>\u001b[0m in \u001b[0;36m<module>\u001b[1;34m\u001b[0m\n\u001b[1;32m----> 1\u001b[1;33m \u001b[0mc\u001b[0m\u001b[1;33m=\u001b[0m\u001b[0mnp\u001b[0m\u001b[1;33m.\u001b[0m\u001b[0marray\u001b[0m\u001b[1;33m(\u001b[0m\u001b[1;33m[\u001b[0m\u001b[1;33m[\u001b[0m\u001b[1;36m1\u001b[0m\u001b[1;33m,\u001b[0m\u001b[1;36m2\u001b[0m\u001b[1;33m]\u001b[0m\u001b[1;33m,\u001b[0m\u001b[1;33m[\u001b[0m\u001b[1;36m3\u001b[0m\u001b[1;33m,\u001b[0m\u001b[1;36m4\u001b[0m\u001b[1;33m+\u001b[0m\u001b[1;36m5j\u001b[0m\u001b[1;33m]\u001b[0m\u001b[1;33m]\u001b[0m\u001b[1;33m,\u001b[0m\u001b[0mdtype\u001b[0m\u001b[1;33m=\u001b[0m\u001b[1;34m'int'\u001b[0m\u001b[1;33m)\u001b[0m\u001b[1;33m\u001b[0m\u001b[1;33m\u001b[0m\u001b[0m\n\u001b[0m\u001b[0;32m      2\u001b[0m \u001b[0mprint\u001b[0m \u001b[1;33m(\u001b[0m\u001b[0mc\u001b[0m\u001b[1;33m)\u001b[0m\u001b[1;33m\u001b[0m\u001b[1;33m\u001b[0m\u001b[0m\n",
      "\u001b[1;31mTypeError\u001b[0m: can't convert complex to int"
     ]
    }
   ],
   "source": [
    "c=np.array([[1,2],[3,4+5j]],dtype='int')\n",
    "print (c)"
   ]
  },
  {
   "cell_type": "code",
   "execution_count": 6,
   "metadata": {},
   "outputs": [
    {
     "data": {
      "text/plain": [
       "3"
      ]
     },
     "execution_count": 6,
     "metadata": {},
     "output_type": "execute_result"
    }
   ],
   "source": [
    "a =3.90\n",
    "b = int(a)\n",
    "b"
   ]
  },
  {
   "cell_type": "code",
   "execution_count": 7,
   "metadata": {},
   "outputs": [
    {
     "name": "stdout",
     "output_type": "stream",
     "text": [
      "[[0 1]\n",
      " [2 3]]\n"
     ]
    }
   ],
   "source": [
    "t = np.arange(4).reshape(2,2)\n",
    "print(t)"
   ]
  },
  {
   "cell_type": "code",
   "execution_count": null,
   "metadata": {
    "scrolled": true
   },
   "outputs": [],
   "source": [
    "t = np.arange(8).reshape(4,2)\n",
    "print(t)"
   ]
  },
  {
   "cell_type": "code",
   "execution_count": 9,
   "metadata": {
    "scrolled": false
   },
   "outputs": [
    {
     "name": "stdout",
     "output_type": "stream",
     "text": [
      "[[[0 1]\n",
      "  [2 3]]\n",
      "\n",
      " [[4 5]\n",
      "  [6 7]]]\n"
     ]
    }
   ],
   "source": [
    "t = np.arange(8).reshape(2,2,2)\n",
    "print(t)"
   ]
  },
  {
   "cell_type": "code",
   "execution_count": 10,
   "metadata": {},
   "outputs": [
    {
     "name": "stdout",
     "output_type": "stream",
     "text": [
      "[[[[ 0  1]\n",
      "   [ 2  3]]\n",
      "\n",
      "  [[ 4  5]\n",
      "   [ 6  7]]]\n",
      "\n",
      "\n",
      " [[[ 8  9]\n",
      "   [10 11]]\n",
      "\n",
      "  [[12 13]\n",
      "   [14 15]]]]\n"
     ]
    }
   ],
   "source": [
    "t = np.arange(16).reshape(2,2,2,2)\n",
    "print(t)"
   ]
  },
  {
   "cell_type": "code",
   "execution_count": null,
   "metadata": {
    "scrolled": true
   },
   "outputs": [],
   "source": [
    "print (t.ndim)\n",
    "print(t.size)\n",
    "print(t.itemsize)\n",
    "print(t.dtype.name)\n",
    "\n",
    "print(type(t))"
   ]
  },
  {
   "cell_type": "code",
   "execution_count": 12,
   "metadata": {},
   "outputs": [
    {
     "name": "stdout",
     "output_type": "stream",
     "text": [
      "[10 11 12 13 14 15]\n",
      "[10 12 14]\n",
      "[ 0  1  2  3  4  5  6  7  8  9 10 11 12 13 14 15]\n"
     ]
    }
   ],
   "source": [
    "a = np.arange(10,16)\n",
    "print(a)\n",
    "#start, end and step\n",
    "b = np.arange(10,16,2)\n",
    "print(b)\n",
    "b = np.arange(16)\n",
    "print(b)"
   ]
  },
  {
   "cell_type": "code",
   "execution_count": 14,
   "metadata": {},
   "outputs": [
    {
     "name": "stdout",
     "output_type": "stream",
     "text": [
      "[10 11 12 13 14 15]\n",
      "[]\n",
      "[22 20 18]\n"
     ]
    }
   ],
   "source": [
    "a = np.arange(10,16)\n",
    "print(a)\n",
    "#start, end and step\n",
    "b = np.arange(22,116,-2)\n",
    "print(b)\n",
    "b = np.arange(22,16,-2)\n",
    "print(b)"
   ]
  },
  {
   "cell_type": "markdown",
   "metadata": {},
   "source": [
    "### Generate Zeros"
   ]
  },
  {
   "cell_type": "code",
   "execution_count": 15,
   "metadata": {},
   "outputs": [
    {
     "name": "stdout",
     "output_type": "stream",
     "text": [
      "[[0. 0. 0. 0. 0. 0. 0. 0. 0. 0.]\n",
      " [0. 0. 0. 0. 0. 0. 0. 0. 0. 0.]\n",
      " [0. 0. 0. 0. 0. 0. 0. 0. 0. 0.]]\n",
      "float64\n",
      "6 [[[[[[0.]\n",
      "     [0.]\n",
      "     [0.]\n",
      "     [0.]\n",
      "     [0.]]\n",
      "\n",
      "    [[0.]\n",
      "     [0.]\n",
      "     [0.]\n",
      "     [0.]\n",
      "     [0.]]\n",
      "\n",
      "    [[0.]\n",
      "     [0.]\n",
      "     [0.]\n",
      "     [0.]\n",
      "     [0.]]\n",
      "\n",
      "    [[0.]\n",
      "     [0.]\n",
      "     [0.]\n",
      "     [0.]\n",
      "     [0.]]]\n",
      "\n",
      "\n",
      "   [[[0.]\n",
      "     [0.]\n",
      "     [0.]\n",
      "     [0.]\n",
      "     [0.]]\n",
      "\n",
      "    [[0.]\n",
      "     [0.]\n",
      "     [0.]\n",
      "     [0.]\n",
      "     [0.]]\n",
      "\n",
      "    [[0.]\n",
      "     [0.]\n",
      "     [0.]\n",
      "     [0.]\n",
      "     [0.]]\n",
      "\n",
      "    [[0.]\n",
      "     [0.]\n",
      "     [0.]\n",
      "     [0.]\n",
      "     [0.]]]\n",
      "\n",
      "\n",
      "   [[[0.]\n",
      "     [0.]\n",
      "     [0.]\n",
      "     [0.]\n",
      "     [0.]]\n",
      "\n",
      "    [[0.]\n",
      "     [0.]\n",
      "     [0.]\n",
      "     [0.]\n",
      "     [0.]]\n",
      "\n",
      "    [[0.]\n",
      "     [0.]\n",
      "     [0.]\n",
      "     [0.]\n",
      "     [0.]]\n",
      "\n",
      "    [[0.]\n",
      "     [0.]\n",
      "     [0.]\n",
      "     [0.]\n",
      "     [0.]]]]\n",
      "\n",
      "\n",
      "\n",
      "  [[[[0.]\n",
      "     [0.]\n",
      "     [0.]\n",
      "     [0.]\n",
      "     [0.]]\n",
      "\n",
      "    [[0.]\n",
      "     [0.]\n",
      "     [0.]\n",
      "     [0.]\n",
      "     [0.]]\n",
      "\n",
      "    [[0.]\n",
      "     [0.]\n",
      "     [0.]\n",
      "     [0.]\n",
      "     [0.]]\n",
      "\n",
      "    [[0.]\n",
      "     [0.]\n",
      "     [0.]\n",
      "     [0.]\n",
      "     [0.]]]\n",
      "\n",
      "\n",
      "   [[[0.]\n",
      "     [0.]\n",
      "     [0.]\n",
      "     [0.]\n",
      "     [0.]]\n",
      "\n",
      "    [[0.]\n",
      "     [0.]\n",
      "     [0.]\n",
      "     [0.]\n",
      "     [0.]]\n",
      "\n",
      "    [[0.]\n",
      "     [0.]\n",
      "     [0.]\n",
      "     [0.]\n",
      "     [0.]]\n",
      "\n",
      "    [[0.]\n",
      "     [0.]\n",
      "     [0.]\n",
      "     [0.]\n",
      "     [0.]]]\n",
      "\n",
      "\n",
      "   [[[0.]\n",
      "     [0.]\n",
      "     [0.]\n",
      "     [0.]\n",
      "     [0.]]\n",
      "\n",
      "    [[0.]\n",
      "     [0.]\n",
      "     [0.]\n",
      "     [0.]\n",
      "     [0.]]\n",
      "\n",
      "    [[0.]\n",
      "     [0.]\n",
      "     [0.]\n",
      "     [0.]\n",
      "     [0.]]\n",
      "\n",
      "    [[0.]\n",
      "     [0.]\n",
      "     [0.]\n",
      "     [0.]\n",
      "     [0.]]]]\n",
      "\n",
      "\n",
      "\n",
      "  [[[[0.]\n",
      "     [0.]\n",
      "     [0.]\n",
      "     [0.]\n",
      "     [0.]]\n",
      "\n",
      "    [[0.]\n",
      "     [0.]\n",
      "     [0.]\n",
      "     [0.]\n",
      "     [0.]]\n",
      "\n",
      "    [[0.]\n",
      "     [0.]\n",
      "     [0.]\n",
      "     [0.]\n",
      "     [0.]]\n",
      "\n",
      "    [[0.]\n",
      "     [0.]\n",
      "     [0.]\n",
      "     [0.]\n",
      "     [0.]]]\n",
      "\n",
      "\n",
      "   [[[0.]\n",
      "     [0.]\n",
      "     [0.]\n",
      "     [0.]\n",
      "     [0.]]\n",
      "\n",
      "    [[0.]\n",
      "     [0.]\n",
      "     [0.]\n",
      "     [0.]\n",
      "     [0.]]\n",
      "\n",
      "    [[0.]\n",
      "     [0.]\n",
      "     [0.]\n",
      "     [0.]\n",
      "     [0.]]\n",
      "\n",
      "    [[0.]\n",
      "     [0.]\n",
      "     [0.]\n",
      "     [0.]\n",
      "     [0.]]]\n",
      "\n",
      "\n",
      "   [[[0.]\n",
      "     [0.]\n",
      "     [0.]\n",
      "     [0.]\n",
      "     [0.]]\n",
      "\n",
      "    [[0.]\n",
      "     [0.]\n",
      "     [0.]\n",
      "     [0.]\n",
      "     [0.]]\n",
      "\n",
      "    [[0.]\n",
      "     [0.]\n",
      "     [0.]\n",
      "     [0.]\n",
      "     [0.]]\n",
      "\n",
      "    [[0.]\n",
      "     [0.]\n",
      "     [0.]\n",
      "     [0.]\n",
      "     [0.]]]]]\n",
      "\n",
      "\n",
      "\n",
      "\n",
      " [[[[[0.]\n",
      "     [0.]\n",
      "     [0.]\n",
      "     [0.]\n",
      "     [0.]]\n",
      "\n",
      "    [[0.]\n",
      "     [0.]\n",
      "     [0.]\n",
      "     [0.]\n",
      "     [0.]]\n",
      "\n",
      "    [[0.]\n",
      "     [0.]\n",
      "     [0.]\n",
      "     [0.]\n",
      "     [0.]]\n",
      "\n",
      "    [[0.]\n",
      "     [0.]\n",
      "     [0.]\n",
      "     [0.]\n",
      "     [0.]]]\n",
      "\n",
      "\n",
      "   [[[0.]\n",
      "     [0.]\n",
      "     [0.]\n",
      "     [0.]\n",
      "     [0.]]\n",
      "\n",
      "    [[0.]\n",
      "     [0.]\n",
      "     [0.]\n",
      "     [0.]\n",
      "     [0.]]\n",
      "\n",
      "    [[0.]\n",
      "     [0.]\n",
      "     [0.]\n",
      "     [0.]\n",
      "     [0.]]\n",
      "\n",
      "    [[0.]\n",
      "     [0.]\n",
      "     [0.]\n",
      "     [0.]\n",
      "     [0.]]]\n",
      "\n",
      "\n",
      "   [[[0.]\n",
      "     [0.]\n",
      "     [0.]\n",
      "     [0.]\n",
      "     [0.]]\n",
      "\n",
      "    [[0.]\n",
      "     [0.]\n",
      "     [0.]\n",
      "     [0.]\n",
      "     [0.]]\n",
      "\n",
      "    [[0.]\n",
      "     [0.]\n",
      "     [0.]\n",
      "     [0.]\n",
      "     [0.]]\n",
      "\n",
      "    [[0.]\n",
      "     [0.]\n",
      "     [0.]\n",
      "     [0.]\n",
      "     [0.]]]]\n",
      "\n",
      "\n",
      "\n",
      "  [[[[0.]\n",
      "     [0.]\n",
      "     [0.]\n",
      "     [0.]\n",
      "     [0.]]\n",
      "\n",
      "    [[0.]\n",
      "     [0.]\n",
      "     [0.]\n",
      "     [0.]\n",
      "     [0.]]\n",
      "\n",
      "    [[0.]\n",
      "     [0.]\n",
      "     [0.]\n",
      "     [0.]\n",
      "     [0.]]\n",
      "\n",
      "    [[0.]\n",
      "     [0.]\n",
      "     [0.]\n",
      "     [0.]\n",
      "     [0.]]]\n",
      "\n",
      "\n",
      "   [[[0.]\n",
      "     [0.]\n",
      "     [0.]\n",
      "     [0.]\n",
      "     [0.]]\n",
      "\n",
      "    [[0.]\n",
      "     [0.]\n",
      "     [0.]\n",
      "     [0.]\n",
      "     [0.]]\n",
      "\n",
      "    [[0.]\n",
      "     [0.]\n",
      "     [0.]\n",
      "     [0.]\n",
      "     [0.]]\n",
      "\n",
      "    [[0.]\n",
      "     [0.]\n",
      "     [0.]\n",
      "     [0.]\n",
      "     [0.]]]\n",
      "\n",
      "\n",
      "   [[[0.]\n",
      "     [0.]\n",
      "     [0.]\n",
      "     [0.]\n",
      "     [0.]]\n",
      "\n",
      "    [[0.]\n",
      "     [0.]\n",
      "     [0.]\n",
      "     [0.]\n",
      "     [0.]]\n",
      "\n",
      "    [[0.]\n",
      "     [0.]\n",
      "     [0.]\n",
      "     [0.]\n",
      "     [0.]]\n",
      "\n",
      "    [[0.]\n",
      "     [0.]\n",
      "     [0.]\n",
      "     [0.]\n",
      "     [0.]]]]\n",
      "\n",
      "\n",
      "\n",
      "  [[[[0.]\n",
      "     [0.]\n",
      "     [0.]\n",
      "     [0.]\n",
      "     [0.]]\n",
      "\n",
      "    [[0.]\n",
      "     [0.]\n",
      "     [0.]\n",
      "     [0.]\n",
      "     [0.]]\n",
      "\n",
      "    [[0.]\n",
      "     [0.]\n",
      "     [0.]\n",
      "     [0.]\n",
      "     [0.]]\n",
      "\n",
      "    [[0.]\n",
      "     [0.]\n",
      "     [0.]\n",
      "     [0.]\n",
      "     [0.]]]\n",
      "\n",
      "\n",
      "   [[[0.]\n",
      "     [0.]\n",
      "     [0.]\n",
      "     [0.]\n",
      "     [0.]]\n",
      "\n",
      "    [[0.]\n",
      "     [0.]\n",
      "     [0.]\n",
      "     [0.]\n",
      "     [0.]]\n",
      "\n",
      "    [[0.]\n",
      "     [0.]\n",
      "     [0.]\n",
      "     [0.]\n",
      "     [0.]]\n",
      "\n",
      "    [[0.]\n",
      "     [0.]\n",
      "     [0.]\n",
      "     [0.]\n",
      "     [0.]]]\n",
      "\n",
      "\n",
      "   [[[0.]\n",
      "     [0.]\n",
      "     [0.]\n",
      "     [0.]\n",
      "     [0.]]\n",
      "\n",
      "    [[0.]\n",
      "     [0.]\n",
      "     [0.]\n",
      "     [0.]\n",
      "     [0.]]\n",
      "\n",
      "    [[0.]\n",
      "     [0.]\n",
      "     [0.]\n",
      "     [0.]\n",
      "     [0.]]\n",
      "\n",
      "    [[0.]\n",
      "     [0.]\n",
      "     [0.]\n",
      "     [0.]\n",
      "     [0.]]]]]]\n",
      "float64\n"
     ]
    }
   ],
   "source": [
    "d=np.zeros([3,10])\n",
    "print (d)\n",
    "print(d.dtype.name)\n",
    "d=np.zeros([2,3,3,4,5,1])\n",
    "print (d.ndim, d)\n",
    "print(d.dtype.name)"
   ]
  },
  {
   "cell_type": "code",
   "execution_count": 16,
   "metadata": {},
   "outputs": [
    {
     "name": "stdout",
     "output_type": "stream",
     "text": [
      "[[6.23042070e-307 4.67296746e-307 1.69121096e-306 1.24610723e-306\n",
      "  8.34447260e-308 1.29062229e-306 7.56595733e-307 1.11256817e-306\n",
      "  1.06811422e-306 1.42417221e-306]\n",
      " [1.11260619e-306 8.90094053e-307 1.86919378e-306 1.06809792e-306\n",
      "  1.37962456e-306 1.69111861e-306 1.78020169e-306 1.37961777e-306\n",
      "  7.56599807e-307 2.56761491e-312]]\n"
     ]
    }
   ],
   "source": [
    "e=np.empty([2,10])\n",
    "print (e)"
   ]
  },
  {
   "cell_type": "code",
   "execution_count": null,
   "metadata": {},
   "outputs": [],
   "source": [
    "##Range Functionalities"
   ]
  },
  {
   "cell_type": "code",
   "execution_count": 49,
   "metadata": {},
   "outputs": [
    {
     "name": "stdout",
     "output_type": "stream",
     "text": [
      "[0 1 2 3 4 5 6 7 8 9]\n"
     ]
    }
   ],
   "source": [
    "a=np.arange(10)\n",
    "print(a)"
   ]
  },
  {
   "cell_type": "code",
   "execution_count": null,
   "metadata": {},
   "outputs": [],
   "source": [
    "b=np.arange(10,30,5).reshape(2,2)\n",
    "print (b)"
   ]
  },
  {
   "cell_type": "code",
   "execution_count": null,
   "metadata": {},
   "outputs": [],
   "source": [
    "b=np.arange(10,36,5).reshape(3,2)#start, end, step\n",
    "print (b)"
   ]
  },
  {
   "cell_type": "code",
   "execution_count": 52,
   "metadata": {},
   "outputs": [
    {
     "name": "stdout",
     "output_type": "stream",
     "text": [
      "[[10.         12.63157895 15.26315789 17.89473684 20.52631579 23.15789474\n",
      "  25.78947368 28.42105263 31.05263158 33.68421053]\n",
      " [36.31578947 38.94736842 41.57894737 44.21052632 46.84210526 49.47368421\n",
      "  52.10526316 54.73684211 57.36842105 60.        ]]\n"
     ]
    }
   ],
   "source": [
    "c= np.linspace(10,60,20).reshape(2,10)#start, end, no of values required\n",
    "print (c)"
   ]
  },
  {
   "cell_type": "code",
   "execution_count": 20,
   "metadata": {},
   "outputs": [
    {
     "name": "stdout",
     "output_type": "stream",
     "text": [
      "[ 0.          1.02040816  2.04081633  3.06122449  4.08163265  5.10204082\n",
      "  6.12244898  7.14285714  8.16326531  9.18367347 10.20408163 11.2244898\n",
      " 12.24489796 13.26530612 14.28571429 15.30612245 16.32653061 17.34693878\n",
      " 18.36734694 19.3877551  20.40816327 21.42857143 22.44897959 23.46938776\n",
      " 24.48979592 25.51020408 26.53061224 27.55102041 28.57142857 29.59183673\n",
      " 30.6122449  31.63265306 32.65306122 33.67346939 34.69387755 35.71428571\n",
      " 36.73469388 37.75510204 38.7755102  39.79591837 40.81632653 41.83673469\n",
      " 42.85714286 43.87755102 44.89795918 45.91836735 46.93877551 47.95918367\n",
      " 48.97959184 50.        ]\n",
      "[[ 0.          2.08333333  4.16666667  6.25        8.33333333]\n",
      " [10.41666667 12.5        14.58333333 16.66666667 18.75      ]\n",
      " [20.83333333 22.91666667 25.         27.08333333 29.16666667]\n",
      " [31.25       33.33333333 35.41666667 37.5        39.58333333]\n",
      " [41.66666667 43.75       45.83333333 47.91666667 50.        ]]\n"
     ]
    }
   ],
   "source": [
    "c= np.linspace(0,50)#start, end, no of values required #default 50 values\n",
    "print (c)\n",
    "c= np.linspace(0,50,25).reshape(5,5)#start, end, no of values required\n",
    "print (c)"
   ]
  },
  {
   "cell_type": "code",
   "execution_count": 21,
   "metadata": {},
   "outputs": [
    {
     "name": "stdout",
     "output_type": "stream",
     "text": [
      "[[1. 1. 1.]\n",
      " [1. 1. 1.]]\n"
     ]
    }
   ],
   "source": [
    "a = np.ones([2,3])\n",
    "print (a)\n"
   ]
  },
  {
   "cell_type": "code",
   "execution_count": 22,
   "metadata": {},
   "outputs": [
    {
     "name": "stdout",
     "output_type": "stream",
     "text": [
      "[[1 0 3]\n",
      " [4 0 6]]\n",
      "(2, 3)\n"
     ]
    }
   ],
   "source": [
    "c=np.array([[1,0,3],[4,0,6]])\n",
    "print (c)\n",
    "print(c.shape)"
   ]
  },
  {
   "cell_type": "code",
   "execution_count": 23,
   "metadata": {},
   "outputs": [
    {
     "name": "stdout",
     "output_type": "stream",
     "text": [
      "[[1. 0. 3.]\n",
      " [4. 0. 6.]]\n",
      "###############################\n",
      "############# Inverse ##################\n",
      "[[1.                inf 0.33333333]\n",
      " [0.25              inf 0.16666667]]\n",
      "###############################\n",
      "[[ 1. nan  1.]\n",
      " [ 1. nan  1.]]\n"
     ]
    },
    {
     "name": "stderr",
     "output_type": "stream",
     "text": [
      "c:\\python373\\lib\\site-packages\\ipykernel_launcher.py:3: RuntimeWarning: divide by zero encountered in true_divide\n",
      "  This is separate from the ipykernel package so we can avoid doing imports until\n",
      "c:\\python373\\lib\\site-packages\\ipykernel_launcher.py:7: RuntimeWarning: invalid value encountered in multiply\n",
      "  import sys\n"
     ]
    }
   ],
   "source": [
    "print(a*c)\n",
    "print(\"###############################\")\n",
    "InverseC  = a/c\n",
    "print(\"############# Inverse ##################\")\n",
    "print(InverseC)\n",
    "print(\"###############################\")\n",
    "print(c*InverseC)"
   ]
  },
  {
   "cell_type": "code",
   "execution_count": 24,
   "metadata": {},
   "outputs": [
    {
     "name": "stdout",
     "output_type": "stream",
     "text": [
      "[[0.16490465 0.59282208 0.76481425]\n",
      " [0.72555483 0.01353069 0.71010642]\n",
      " [0.65550879 0.42533179 0.45807002]]\n"
     ]
    }
   ],
   "source": [
    "b=np.random.random([3,3])\n",
    "print (b)"
   ]
  },
  {
   "cell_type": "code",
   "execution_count": 29,
   "metadata": {},
   "outputs": [
    {
     "name": "stdout",
     "output_type": "stream",
     "text": [
      "[[[0.78477484 0.50183796 0.67341183 0.12884779]\n",
      "  [0.71231284 0.95353025 0.27303475 0.16733493]\n",
      "  [0.45970684 0.17288398 0.6537165  0.08493566]]\n",
      "\n",
      " [[0.87987808 0.15707049 0.52650431 0.02842269]\n",
      "  [0.85180217 0.51487395 0.47050464 0.46780852]\n",
      "  [0.04437008 0.17378137 0.68558846 0.49800108]]]\n"
     ]
    }
   ],
   "source": [
    "b=np.random.random([2,3,4])\n",
    "print (b)\n",
    "#b=np.random.randint(2,3)\n",
    "#print (b)"
   ]
  },
  {
   "cell_type": "code",
   "execution_count": 30,
   "metadata": {},
   "outputs": [
    {
     "name": "stdout",
     "output_type": "stream",
     "text": [
      "[[0.09826812 0.65587417 0.18006058]\n",
      " [0.82647838 0.49204229 0.41945813]]\n",
      "#############################\n",
      "sum of elements is  2.6721816672492746\n",
      "#############################\n",
      "least elements is  0.09826812201349189\n",
      "#############################\n",
      "largest of elements is  0.826478377682396\n",
      "#############################\n",
      "round  of elements is  [[0.098 0.656 0.18 ]\n",
      " [0.826 0.492 0.419]]\n"
     ]
    }
   ],
   "source": [
    "c=np.random.random([2,3])\n",
    "print (c)\n",
    "print(\"#############################\")\n",
    "print (\"sum of elements is \", c.sum())\n",
    "print(\"#############################\")\n",
    "print (\"least elements is \",c.min())\n",
    "print(\"#############################\")\n",
    "print(\"largest of elements is \",c.max())\n",
    "print(\"#############################\")\n",
    "print(\"round  of elements is \",c.round(3))"
   ]
  },
  {
   "cell_type": "code",
   "execution_count": 31,
   "metadata": {
    "scrolled": false
   },
   "outputs": [
    {
     "name": "stdout",
     "output_type": "stream",
     "text": [
      "[[0.79497482 0.24879512 0.58423904]\n",
      " [0.40536462 0.81348276 0.56738383]]\n",
      "###########################\n",
      "3.41424018577252\n",
      "###########################\n",
      "0.24879511895115314\n",
      "###########################\n",
      "0.813482759899148\n",
      "###########################\n",
      "0.5690400309620867\n",
      "####### sum axis = 0####################\n",
      "[1.20033944 1.06227788 1.15162287]\n",
      "###########sum axis = 1################\n",
      "[1.62800898 1.7862312 ]\n",
      "###########cumulative sum axis = 0 ################\n",
      "[[0.79497482 0.24879512 0.58423904]\n",
      " [1.20033944 1.06227788 1.15162287]]\n",
      "############cumulative sum axis = 1 ###############\n",
      "[[0.79497482 1.04376994 1.62800898]\n",
      " [0.40536462 1.21884738 1.7862312 ]]\n",
      "###########################\n"
     ]
    }
   ],
   "source": [
    "c=np.random.random([2,3])\n",
    "print (c)\n",
    "print(\"###########################\")\n",
    "print (c.sum())\n",
    "print(\"###########################\")\n",
    "print (c.min())\n",
    "print(\"###########################\")\n",
    "print(c.max())\n",
    "print(\"###########################\")\n",
    "print(c.mean())\n",
    "print(\"####### sum axis = 0####################\")\n",
    "print(c.sum(axis =0))\n",
    "print(\"###########sum axis = 1################\")\n",
    "print(c.sum(axis =1))\n",
    "print(\"###########cumulative sum axis = 0 ################\")\n",
    "print (c.cumsum(axis =0))\n",
    "print(\"############cumulative sum axis = 1 ###############\")\n",
    "print (c.cumsum(axis =1))\n",
    "print(\"###########################\")"
   ]
  },
  {
   "cell_type": "code",
   "execution_count": 32,
   "metadata": {
    "scrolled": true
   },
   "outputs": [
    {
     "name": "stdout",
     "output_type": "stream",
     "text": [
      "[[[ 0  1  2]\n",
      "  [ 3  4  5]]\n",
      "\n",
      " [[ 6  7  8]\n",
      "  [ 9 10 11]]]\n",
      "#############################\n",
      "66\n",
      "###########################\n",
      "0\n",
      "###########################\n",
      "11\n",
      "###########################\n",
      "5.5\n",
      "####### sum axis = 0####################\n",
      "[[ 6  8 10]\n",
      " [12 14 16]]\n",
      "###########sum axis = 1################\n",
      "[[ 3  5  7]\n",
      " [15 17 19]]\n",
      "###########cumulative sum axis = 0 ################\n",
      "[[[ 0  1  2]\n",
      "  [ 3  4  5]]\n",
      "\n",
      " [[ 6  8 10]\n",
      "  [12 14 16]]]\n",
      "############cumulative sum axis = 1 ###############\n",
      "[[[ 0  1  2]\n",
      "  [ 3  5  7]]\n",
      "\n",
      " [[ 6  7  8]\n",
      "  [15 17 19]]]\n",
      "###########################\n"
     ]
    }
   ],
   "source": [
    "c = np.arange(12).reshape(2,2,3)\n",
    "print(c)\n",
    "print(\"#############################\")\n",
    "print (c.sum())\n",
    "print(\"###########################\")\n",
    "print (c.min())\n",
    "print(\"###########################\")\n",
    "print(c.max())\n",
    "print(\"###########################\")\n",
    "print(c.mean())\n",
    "print(\"####### sum axis = 0####################\")\n",
    "print(c.sum(axis =0))\n",
    "print(\"###########sum axis = 1################\")\n",
    "print(c.sum(axis =1))\n",
    "print(\"###########cumulative sum axis = 0 ################\")\n",
    "print (c.cumsum(axis =0))\n",
    "print(\"############cumulative sum axis = 1 ###############\")\n",
    "print (c.cumsum(axis =1))\n",
    "print(\"###########################\")"
   ]
  },
  {
   "cell_type": "code",
   "execution_count": 33,
   "metadata": {},
   "outputs": [
    {
     "name": "stdout",
     "output_type": "stream",
     "text": [
      "[[[0 1]\n",
      "  [2 3]]\n",
      "\n",
      " [[4 5]\n",
      "  [6 7]]]\n",
      "######################\n",
      "[[ 4  6]\n",
      " [ 8 10]]\n",
      "#########\n",
      "[[ 2  4]\n",
      " [10 12]]\n",
      "#########\n",
      "[[ 1  5]\n",
      " [ 9 13]]\n"
     ]
    }
   ],
   "source": [
    "a = np.arange(8).reshape(2,2,2)\n",
    "print(a)\n",
    "print(\"######################\")\n",
    "print(a.sum(axis=0))\n",
    "print(\"#########\")\n",
    "print(a.sum(axis=1))\n",
    "print(\"#########\")\n",
    "print(a.sum(axis=2))"
   ]
  },
  {
   "cell_type": "markdown",
   "metadata": {
    "colab_type": "text",
    "id": "Wi_iVJZcVsch"
   },
   "source": [
    "#### Make an array from a list. \n",
    "\n",
    "This will create a numpy array with 3 elements. \n",
    "\n",
    "Each numpy array contains an attribute called `shape`. Shape is a tuple which tells you how many elements you have per axis. For example (5, 6, 8) means 5 elements per axis 0, 6 elements per axis 1 and 8 elements per axis 2. Usually you will have only one or two axes.\n",
    "\n",
    "The shape for the array in this section is `(3, )`. The reason for this funny notation is python's type system where shape must be a tuple and this is a tuple with 1 element. Writing just 3 would mean a number, not a tuple.\n",
    "\n",
    "To verify that try `np.array([1, 2, 3]).shape` "
   ]
  },
  {
   "cell_type": "code",
   "execution_count": null,
   "metadata": {
    "colab": {},
    "colab_type": "code",
    "id": "hiCYmtPGVsch"
   },
   "outputs": [],
   "source": [
    "np.array([1, 2, 3]).shape"
   ]
  },
  {
   "cell_type": "code",
   "execution_count": null,
   "metadata": {},
   "outputs": [],
   "source": [
    "np.array([[1, 2, 3]]).shape "
   ]
  },
  {
   "cell_type": "markdown",
   "metadata": {
    "colab_type": "text",
    "id": "stlK-cUIVscm"
   },
   "source": [
    "#### Make an array from a list of lists\n",
    "\n",
    "The shape of this array is (2, 2) so this is a matrix."
   ]
  },
  {
   "cell_type": "code",
   "execution_count": null,
   "metadata": {
    "colab": {},
    "colab_type": "code",
    "id": "0R0OYUEgVscn"
   },
   "outputs": [],
   "source": [
    "np.array([[1, 2], [3, 4]]).shape"
   ]
  },
  {
   "cell_type": "markdown",
   "metadata": {
    "colab_type": "text",
    "id": "XlI6D-_IVscq"
   },
   "source": [
    "#### Make an array using a function\n",
    "\n",
    "The arrays made in previous sections were based on us supplying each value.\n",
    "\n",
    "Very often we need large arrays and it is not possible to use our current approach and thus we need to use array creating functions. The most important functions are `zeros` and `ones`. They both take a parameter called shape which determines the shape of the output array.\n",
    "* `zeros` makes an array which is all 0 [docs](https://docs.scipy.org/doc/numpy/reference/generated/numpy.zeros.html)\n",
    "* `ones`  makes an array which is all 1 [docs](https://docs.scipy.org/doc/numpy/reference/generated/numpy.ones.html#numpy.ones)"
   ]
  },
  {
   "cell_type": "code",
   "execution_count": null,
   "metadata": {
    "colab": {},
    "colab_type": "code",
    "id": "VbIimhBLVscr"
   },
   "outputs": [],
   "source": [
    "np.zeros((2, 3))"
   ]
  },
  {
   "cell_type": "code",
   "execution_count": null,
   "metadata": {
    "colab": {},
    "colab_type": "code",
    "id": "2ehKzKEsVsct"
   },
   "outputs": [],
   "source": [
    "np.ones((3, 2))"
   ]
  },
  {
   "cell_type": "markdown",
   "metadata": {
    "colab_type": "text",
    "id": "SYWOfj3GVscx"
   },
   "source": [
    "#### Make an array by starting at 0, incrementing by 2 and ending before 10\n",
    "\n",
    "`arange` is the exact same thing as regular python `range` except giving back a numpy array.\n",
    "\n",
    "This functions requires only a single argument which is the end point. The start point is assumed to be 0 and step is assumed to be 1.\n",
    "\n",
    "In this variety when in takes three parameters, the first one is the start, second one is the end and the third one is the step.\n",
    "\n",
    "[docs](https://docs.scipy.org/doc/numpy/reference/generated/numpy.arange.html)"
   ]
  },
  {
   "cell_type": "code",
   "execution_count": null,
   "metadata": {
    "colab": {},
    "colab_type": "code",
    "id": "YmUE2XZIVscx"
   },
   "outputs": [],
   "source": [
    "np.arange(0, 10, 2)"
   ]
  },
  {
   "cell_type": "markdown",
   "metadata": {
    "colab_type": "text",
    "id": "WgfvR8_eVsc0"
   },
   "source": [
    "#### Make an array of four evenly spaced numbers including both endpoints"
   ]
  },
  {
   "cell_type": "code",
   "execution_count": null,
   "metadata": {
    "colab": {},
    "colab_type": "code",
    "id": "CmQ2LtbjVsc2"
   },
   "outputs": [],
   "source": [
    "np.linspace(0, 1, 4)"
   ]
  },
  {
   "cell_type": "markdown",
   "metadata": {
    "colab_type": "text",
    "id": "pSwe4s-6Vsc6"
   },
   "source": [
    "#### Make an array of random numbers (using a normal distribution)\n",
    "\n",
    "The random submodule of numpy contains a variety of functions for generating random numbers following a specified probability distributions or sampling from a finite set of choices. To learn more about it visit the [documentation](https://docs.scipy.org/doc/numpy/reference/routines.random.html). "
   ]
  },
  {
   "cell_type": "code",
   "execution_count": 34,
   "metadata": {
    "colab": {},
    "colab_type": "code",
    "id": "rIVnHqRNVsc6"
   },
   "outputs": [
    {
     "name": "stdout",
     "output_type": "stream",
     "text": [
      "[ 8.21476521 11.32296147  8.10300909 12.3256369   9.63320122 12.52727032\n",
      " 11.50974999 12.20866405  7.67800085  8.59652281  9.67973851 11.87047643\n",
      "  9.79984747 13.93214417  6.0190913  13.60351582 13.78991854  8.19984865\n",
      "  8.76789444  5.47628357  5.6862803  10.18214938 10.87707589  6.12496458\n",
      " 10.49462956 13.00440776 15.02012377  9.30633474  8.73189246 10.45630549\n",
      "  8.31370239 13.07442704  9.06873864 10.96721881 12.75994194  3.4570033\n",
      " 12.50110198  2.63005752 13.74360612 10.04578693  8.99548413 10.64738136\n",
      " 11.13210091  9.29157206 12.48698402  5.41670217 13.50880458 11.20109644\n",
      "  9.10479429  5.99074935  9.48725337  8.68366051 14.15060421  8.13518433\n",
      " 13.42531493 11.1112645  11.03013348 13.53451326 15.65754736  7.68246675\n",
      " 10.14534449  7.95611004 10.30885555 14.9018087   9.17196027 13.07442166\n",
      " 11.31643633 12.0484324   8.62664326  4.20260728 10.00917132 11.67908429\n",
      " 15.84037909 15.30272398 11.96986026  7.66388806  6.22245201 11.68887388\n",
      " 12.14948043  7.70772059 10.62965423  8.05457062  7.90717445  6.68014366\n",
      "  6.87197859 12.2036741  14.36186875  9.71521743 11.74274546 10.62405778\n",
      "  8.1888005  11.14170644 11.68985168 12.56382911 15.02435576 13.31890958\n",
      "  7.1671889   9.04600275 11.79906568  5.42327053]\n",
      "10.26518221306423\n",
      "2.8192824729785118\n",
      "[ 8 14  7  8  8  9 11  8  8 11 16  7  8  4  9 10  9 12  7  9 16  6  6  8\n",
      " 12 10 11  5  7 11 14 13  9 11 17  4 16 13  6 10 13  5  9  4  5  7 13 14\n",
      " 10  7  6 18 17 11  4  9 14 12 12 19 11  6 12 10 15 17 12 12 17 12 13  7\n",
      " 10 11 13 13  7 11  8 17  7 10  7 14 11 11  9  9 11 10 17 16  7 12 15  9\n",
      "  7  8 12  9]\n",
      "10.42\n",
      "3.5557840204376867\n"
     ]
    }
   ],
   "source": [
    "import numpy as np\n",
    "mean = 10\n",
    "stdev = 3\n",
    "number_values = 100\n",
    "resultant_array = np.random.normal(mean, stdev, number_values)\n",
    "print(resultant_array )\n",
    "print(resultant_array.mean())\n",
    "print(resultant_array.std())\n",
    "# for a poisson distribution a mean and standard deviation are equal \n",
    "resultant_array_1 = np.random.poisson(mean, number_values)\n",
    "print(resultant_array_1)\n",
    "print(resultant_array_1.mean())\n",
    "print(resultant_array_1.std())"
   ]
  },
  {
   "cell_type": "markdown",
   "metadata": {
    "colab_type": "text",
    "id": "gPZuEtnjVsc9"
   },
   "source": [
    "## Indexing Arrays\n",
    "#### Access elements of a 1-dimensional array.  Get the first and last element.\n",
    "\n",
    "In python as is in many other programming languages all arrays start from 0 so the first element is at position 0.\n",
    "\n",
    "To access the last element we can use -1 as the index. `x[-1]` is identical to `x[x.shape[0] - 1]` where `shape[0]` is the length of the array."
   ]
  },
  {
   "cell_type": "code",
   "execution_count": null,
   "metadata": {
    "colab": {},
    "colab_type": "code",
    "id": "TTfE_CDUVsc-"
   },
   "outputs": [],
   "source": [
    "x = np.arange(4)#.reshape(4)\n",
    "print(x, x.shape)\n",
    "print(x[0])\n",
    "print(x[-1])"
   ]
  },
  {
   "cell_type": "code",
   "execution_count": 36,
   "metadata": {
    "scrolled": true
   },
   "outputs": [
    {
     "name": "stdout",
     "output_type": "stream",
     "text": [
      "[[10.         11.11111111 12.22222222 13.33333333 14.44444444]\n",
      " [15.55555556 16.66666667 17.77777778 18.88888889 20.        ]]\n",
      "##########################\n",
      "[10.         11.11111111 12.22222222 13.33333333 14.44444444]\n",
      "##########################\n",
      "11.11111111111111\n",
      "##########################\n",
      "14.444444444444445\n",
      "##########################\n",
      "18.88888888888889\n"
     ]
    }
   ],
   "source": [
    "x = np.linspace(10,20,10).reshape(2,5)\n",
    "print(x)\n",
    "#Get first row\n",
    "print(\"##########################\")\n",
    "print(x[0])\n",
    "print(\"##########################\")\n",
    "print(x[0][1])\n",
    "print(\"##########################\")\n",
    "print(x[0,-1])\n",
    "print(\"##########################\")\n",
    "print(x[1,-2])"
   ]
  },
  {
   "cell_type": "code",
   "execution_count": 39,
   "metadata": {
    "scrolled": true
   },
   "outputs": [
    {
     "name": "stdout",
     "output_type": "stream",
     "text": [
      "[[[10. 10. 11.]\n",
      "  [11. 11. 12.]\n",
      "  [12. 12. 13.]\n",
      "  [13. 13. 14.]\n",
      "  [14. 14. 15.]]\n",
      "\n",
      " [[15. 16. 16.]\n",
      "  [16. 17. 17.]\n",
      "  [17. 18. 18.]\n",
      "  [18. 19. 19.]\n",
      "  [19. 20. 20.]]]\n",
      "##########################\n",
      "[[10. 10. 11.]\n",
      " [11. 11. 12.]\n",
      " [12. 12. 13.]\n",
      " [13. 13. 14.]\n",
      " [14. 14. 15.]]\n",
      "##########################\n",
      "[11. 11. 12.]\n",
      "##########################\n",
      "[14. 14. 15.]\n",
      "##########################\n",
      "[14. 14. 15.]\n",
      "##########################\n",
      "12.0\n"
     ]
    }
   ],
   "source": [
    "\n",
    "x = np.linspace(10,20,30).reshape(2,5,3)\n",
    "x = x.round(0)\n",
    "print(x)\n",
    "print(\"##########################\")\n",
    "#Get first row\n",
    "print(x[0])\n",
    "print(\"##########################\")\n",
    "print(x[0][1])\n",
    "print(\"##########################\")\n",
    "print(x[0][-1])\n",
    "print(\"##########################\")\n",
    "print(x[0,4])\n",
    "print(\"##########################\")\n",
    "print(x[0,2,1])"
   ]
  },
  {
   "cell_type": "markdown",
   "metadata": {
    "colab_type": "text",
    "id": "TzlouFp2VsdD"
   },
   "source": [
    "#### Reshape an array\n",
    "\n",
    "Remember that shape is the fundamenal property of each array and we can modify it as we desire and we often do so. To change the shape of an array we use the `reshape` method.\n",
    "\n",
    "The code in this example creates an 1D-array of 6 elements using the `arange` functon.\n",
    "\n",
    "We convert it to a 2D-array using the `reshape` method.\n",
    "\n",
    "You see that the total amount of numbers did not change, only our view of them. 6 elements in a vector or 3 x 2 elements in a matrix.\n",
    "\n",
    "It is very important that when using `reshape` to ensure that dimensions match or you will get an error. 6 = 3 x 2 is a match so this works but trying np.arange(6).reshape(4, 2) will give you an error. \n",
    "\n",
    "[docs](https://docs.scipy.org/doc/numpy/reference/generated/numpy.reshape.html)"
   ]
  },
  {
   "cell_type": "code",
   "execution_count": null,
   "metadata": {
    "colab": {},
    "colab_type": "code",
    "id": "L-99GhjBVsdE"
   },
   "outputs": [],
   "source": [
    "x = np.arange(6).reshape(2, 3)\n",
    "print(x)"
   ]
  },
  {
   "cell_type": "markdown",
   "metadata": {
    "colab_type": "text",
    "id": "PJwakKH2VsdG"
   },
   "source": [
    "#### Get the last row\n",
    "\n",
    "When dealing with arrays which are of more than a single dimension we can use partial indexing specifications go slice the array the way we want. \n",
    "\n",
    "For example `print(x[-1])` will print the last **row**.\n",
    "\n",
    "To get the last column take the transpose of the 2d-array and then use [-1]. \n",
    "\n",
    "For exampe `print(x.T[-1])` will give you the last columns. `x.T` is the transpose of `x`"
   ]
  },
  {
   "cell_type": "code",
   "execution_count": null,
   "metadata": {
    "colab": {},
    "colab_type": "code",
    "id": "eRzSoVEBVsdH"
   },
   "outputs": [],
   "source": [
    "print(x[-1])"
   ]
  },
  {
   "cell_type": "markdown",
   "metadata": {
    "colab_type": "text",
    "id": "lLqO8U4ZVsdL"
   },
   "source": [
    "#### Get the last element of the last row\n",
    "\n",
    "Here we are using full indexing to get a single **element**."
   ]
  },
  {
   "cell_type": "code",
   "execution_count": null,
   "metadata": {
    "colab": {},
    "colab_type": "code",
    "id": "ktEhAKY0VsdL"
   },
   "outputs": [],
   "source": [
    "print(x[-1, -1])"
   ]
  },
  {
   "cell_type": "markdown",
   "metadata": {
    "colab_type": "text",
    "id": "S_vuadjsVsdO"
   },
   "source": [
    "#### Get elements like a list\n",
    "\n",
    "Using the notation `a:b` we can slice arrays as precisely as we want.\n",
    "\n",
    "`a:b` means give me back all elements whose positions is in that set.\n",
    "\n",
    "For example `y = [1, 3, 5, 7, 9]` and `y[0:2]` would give us the first two elements `[1, 3]`.\n",
    "\n",
    "Negative indices mean from back so -3 means 3 positions starting from the last position.\n",
    "\n",
    "Experiment with the values until you get the feel for it."
   ]
  },
  {
   "cell_type": "code",
   "execution_count": 40,
   "metadata": {
    "colab": {},
    "colab_type": "code",
    "id": "Q6coPcKdVsdO"
   },
   "outputs": [
    {
     "name": "stdout",
     "output_type": "stream",
     "text": [
      "[0 1 2 3 4 5 6 7 8 9]\n",
      "[0 1 2]\n",
      "[1 2 3]\n",
      "[7 8 9]\n",
      "[5 7]\n"
     ]
    }
   ],
   "source": [
    "x = np.arange(10) \n",
    "\n",
    "print(x)\n",
    "print(x[:3])\n",
    "print(x[1:4])\n",
    "print(x[-3:])\n",
    "print(x[-5:-1:2])"
   ]
  },
  {
   "cell_type": "code",
   "execution_count": 41,
   "metadata": {
    "colab": {},
    "colab_type": "code",
    "id": "Q6coPcKdVsdO",
    "scrolled": true
   },
   "outputs": [
    {
     "name": "stdout",
     "output_type": "stream",
     "text": [
      "######################\n",
      "[[[ 0  1  2]\n",
      "  [ 3  4  5]\n",
      "  [ 6  7  8]]\n",
      "\n",
      " [[ 9 10 11]\n",
      "  [12 13 14]\n",
      "  [15 16 17]]\n",
      "\n",
      " [[18 19 20]\n",
      "  [21 22 23]\n",
      "  [24 25 26]]]\n",
      "######################\n",
      "[[[18 19 20]\n",
      "  [21 22 23]\n",
      "  [24 25 26]]]\n",
      "######################\n",
      "[[[ 9 10 11]\n",
      "  [12 13 14]\n",
      "  [15 16 17]]]\n",
      "######################\n",
      "[[[ 0  1  2]\n",
      "  [ 3  4  5]\n",
      "  [ 6  7  8]]\n",
      "\n",
      " [[ 9 10 11]\n",
      "  [12 13 14]\n",
      "  [15 16 17]]\n",
      "\n",
      " [[18 19 20]\n",
      "  [21 22 23]\n",
      "  [24 25 26]]]\n"
     ]
    }
   ],
   "source": [
    "x = np.arange(27).reshape(3,3,3) \n",
    "print(\"######################\")\n",
    "print(x)\n",
    "print(\"######################\")\n",
    "print(x[2:3])\n",
    "print(\"######################\")\n",
    "print(x[1:2])\n",
    "print(\"######################\")\n",
    "print(x[-3:])\n"
   ]
  },
  {
   "cell_type": "code",
   "execution_count": null,
   "metadata": {},
   "outputs": [],
   "source": [
    "print(x)\n",
    "print(\"$$$$$$$$$$$$$$$$$$\")\n",
    "print(x[:])\n",
    "print(\"$$$$$$$$$$$$$$$$$$\")\n",
    "print(x[:,::2])\n",
    "print(\"$$$$$$$$$$$$$$$$$$\")\n",
    "print(x[:,::2,::2])\n",
    "print(\"$$$$$$$$$$$$$$$$$$\")"
   ]
  },
  {
   "cell_type": "code",
   "execution_count": 47,
   "metadata": {},
   "outputs": [
    {
     "name": "stdout",
     "output_type": "stream",
     "text": [
      "############################\n",
      "[[[ 0  2]\n",
      "  [ 6  8]]\n",
      "\n",
      " [[ 9 11]\n",
      "  [15 17]]\n",
      "\n",
      " [[18 20]\n",
      "  [24 26]]]\n",
      "############################\n",
      "[[[18 19 20]\n",
      "  [21 22 23]\n",
      "  [24 25 26]]\n",
      "\n",
      " [[ 9 10 11]\n",
      "  [12 13 14]\n",
      "  [15 16 17]]\n",
      "\n",
      " [[ 0  1  2]\n",
      "  [ 3  4  5]\n",
      "  [ 6  7  8]]]\n",
      "############two levels ################\n",
      "[[[24 25 26]\n",
      "  [21 22 23]\n",
      "  [18 19 20]]\n",
      "\n",
      " [[15 16 17]\n",
      "  [12 13 14]\n",
      "  [ 9 10 11]]\n",
      "\n",
      " [[ 6  7  8]\n",
      "  [ 3  4  5]\n",
      "  [ 0  1  2]]]\n",
      "############################\n",
      "[[[26 25 24]\n",
      "  [23 22 21]\n",
      "  [20 19 18]]\n",
      "\n",
      " [[17 16 15]\n",
      "  [14 13 12]\n",
      "  [11 10  9]]\n",
      "\n",
      " [[ 8  7  6]\n",
      "  [ 5  4  3]\n",
      "  [ 2  1  0]]]\n",
      "############################\n",
      "[[[ 8  7  6]\n",
      "  [ 5  4  3]\n",
      "  [ 2  1  0]]\n",
      "\n",
      " [[17 16 15]\n",
      "  [14 13 12]\n",
      "  [11 10  9]]\n",
      "\n",
      " [[26 25 24]\n",
      "  [23 22 21]\n",
      "  [20 19 18]]]\n",
      "############################\n",
      "[[[ 8  6]\n",
      "  [ 2  0]]\n",
      "\n",
      " [[17 15]\n",
      "  [11  9]]\n",
      "\n",
      " [[26 24]\n",
      "  [20 18]]]\n"
     ]
    }
   ],
   "source": [
    "\n",
    "print(\"############################\")\n",
    "print(x[:,::2,::2]) # Get all the corner values in the matrices\n",
    "print(\"############################\")\n",
    "print(x[::-1])\n",
    "print(\"############two levels ################\")\n",
    "print(x[::-1,::-1])\n",
    "print(\"############################\")\n",
    "print(x[::-1,::-1,::-1]) # Get all the corner values in the matrices\n",
    "print(\"############################\")\n",
    "print(x[:,::-1,::-1]) # Get all the corner values in the matrices\n",
    "print(\"############################\")\n",
    "print(x[:,::-2,::-2]) # Get all the corner values in the matrices"
   ]
  },
  {
   "cell_type": "markdown",
   "metadata": {
    "colab_type": "text",
    "id": "u0LUGU7QVsdR"
   },
   "source": [
    "#### Get all elements in reverse order\n",
    "\n",
    "The enhanced slicing syntax is `a:b:c` were `c` is the step. For example `0:10:2`.\n",
    "\n",
    "If we omit `a` and `b` we always asume they are `a` = 0 and `b` = length of the list so we are only left with a step.\n",
    "\n",
    "Thus `::2` means slicing from 0 to end with a step 2. `::3` mean slicing with a step 3.\n",
    "\n",
    "Now what if we used negative steps. Using -1 as the step would reverse the logic and `a` becomes the end of the list and `b` becomes zero. So `::-1` will slice in reverse direction.\n",
    "\n",
    "Finally there is also the slice form `::1` or written short `:` which means give me back all elements in order as they are present."
   ]
  },
  {
   "cell_type": "code",
   "execution_count": 48,
   "metadata": {
    "colab": {},
    "colab_type": "code",
    "id": "4UzObVzGVsdS"
   },
   "outputs": [
    {
     "name": "stdout",
     "output_type": "stream",
     "text": [
      "[[[18 19 20]\n",
      "  [21 22 23]\n",
      "  [24 25 26]]\n",
      "\n",
      " [[ 9 10 11]\n",
      "  [12 13 14]\n",
      "  [15 16 17]]\n",
      "\n",
      " [[ 0  1  2]\n",
      "  [ 3  4  5]\n",
      "  [ 6  7  8]]]\n"
     ]
    }
   ],
   "source": [
    "print(x[::-1])"
   ]
  },
  {
   "cell_type": "code",
   "execution_count": 49,
   "metadata": {},
   "outputs": [
    {
     "name": "stdout",
     "output_type": "stream",
     "text": [
      "[[[0 1]]\n",
      "\n",
      " [[2 3]]\n",
      "\n",
      " [[4 5]]\n",
      "\n",
      " [[6 7]]\n",
      "\n",
      " [[8 9]]]\n",
      "##################### step =1\n",
      "[[[0 1]]\n",
      "\n",
      " [[2 3]]\n",
      "\n",
      " [[4 5]]\n",
      "\n",
      " [[6 7]]\n",
      "\n",
      " [[8 9]]]\n",
      "##################### step = 2\n",
      "[[[0 1]]\n",
      "\n",
      " [[4 5]]\n",
      "\n",
      " [[8 9]]]\n",
      "##################### step =-1\n",
      "[[[8 9]]\n",
      "\n",
      " [[6 7]]\n",
      "\n",
      " [[4 5]]\n",
      "\n",
      " [[2 3]]\n",
      "\n",
      " [[0 1]]]\n",
      "##################### step =-2\n",
      "[[[8 9]]\n",
      "\n",
      " [[4 5]]\n",
      "\n",
      " [[0 1]]]\n"
     ]
    }
   ],
   "source": [
    "npreverse = np.arange(10).reshape(5,1,2)\n",
    "print(npreverse)\n",
    "print(\"##################### step =1\")\n",
    "print(npreverse[::1])\n",
    "print(\"##################### step = 2\")\n",
    "print(npreverse[::2])\n",
    "print(\"##################### step =-1\")\n",
    "print(npreverse[::-1])\n",
    "print(\"##################### step =-2\")\n",
    "print(npreverse[::-2])"
   ]
  },
  {
   "cell_type": "markdown",
   "metadata": {
    "colab_type": "text",
    "id": "RYDI0tKZVsdV"
   },
   "source": [
    "#### Get every second element or third element"
   ]
  },
  {
   "cell_type": "code",
   "execution_count": 50,
   "metadata": {
    "colab": {},
    "colab_type": "code",
    "id": "Qt1WeSeUVsdW"
   },
   "outputs": [
    {
     "name": "stdout",
     "output_type": "stream",
     "text": [
      "[[[ 0  1  2]\n",
      "  [ 3  4  5]\n",
      "  [ 6  7  8]]\n",
      "\n",
      " [[ 9 10 11]\n",
      "  [12 13 14]\n",
      "  [15 16 17]]\n",
      "\n",
      " [[18 19 20]\n",
      "  [21 22 23]\n",
      "  [24 25 26]]]\n",
      "##########################\n",
      "[[[ 0  1  2]\n",
      "  [ 3  4  5]\n",
      "  [ 6  7  8]]\n",
      "\n",
      " [[18 19 20]\n",
      "  [21 22 23]\n",
      "  [24 25 26]]]\n",
      "##########################\n",
      "[[[0 1 2]\n",
      "  [3 4 5]\n",
      "  [6 7 8]]]\n"
     ]
    }
   ],
   "source": [
    "print(x)\n",
    "print(\"##########################\")\n",
    "print(x[::2])\n",
    "print(\"##########################\")\n",
    "print(x[::3])"
   ]
  },
  {
   "cell_type": "markdown",
   "metadata": {
    "colab_type": "text",
    "id": "gTtzstSeVsdZ"
   },
   "source": [
    "#### Create a 5x5 matrix"
   ]
  },
  {
   "cell_type": "code",
   "execution_count": 51,
   "metadata": {
    "colab": {},
    "colab_type": "code",
    "id": "QGlTQXhwVsda",
    "scrolled": true
   },
   "outputs": [
    {
     "name": "stdout",
     "output_type": "stream",
     "text": [
      "[[ 0  1  2  3  4]\n",
      " [ 5  6  7  8  9]\n",
      " [10 11 12 13 14]\n",
      " [15 16 17 18 19]\n",
      " [20 21 22 23 24]]\n"
     ]
    }
   ],
   "source": [
    "x = np.arange(25).reshape(5, 5)\n",
    "print(x)"
   ]
  },
  {
   "cell_type": "markdown",
   "metadata": {
    "colab_type": "text",
    "id": "13f9XrWfVsdc"
   },
   "source": [
    "#### Get the first two columns and the first two rows\n",
    "\n",
    "Until now you have learned how to slice on a 1D array but slices can be generalized to any dimensional arrays.\n",
    "\n",
    "The trick is to create a slice for every dimensions. \n",
    "\n",
    "In this example we have a 2d-array so we create two slices, one for dimension 0 (rows) and one for dimension 1 (columns)\n"
   ]
  },
  {
   "cell_type": "code",
   "execution_count": null,
   "metadata": {
    "colab": {},
    "colab_type": "code",
    "id": "sU273gC3Vsdd"
   },
   "outputs": [],
   "source": [
    "print(x[:2, :2])"
   ]
  },
  {
   "cell_type": "code",
   "execution_count": null,
   "metadata": {},
   "outputs": [],
   "source": [
    "print(x[-2:, -2:])"
   ]
  },
  {
   "cell_type": "markdown",
   "metadata": {},
   "source": [
    "Get values in last two rows and last two columns for 0 to 25 shape - 5,5 "
   ]
  },
  {
   "cell_type": "markdown",
   "metadata": {
    "colab_type": "text",
    "id": "k4o5CSY-Vsdg"
   },
   "source": [
    "#### Get every second column of every second row"
   ]
  },
  {
   "cell_type": "code",
   "execution_count": null,
   "metadata": {
    "colab": {},
    "colab_type": "code",
    "id": "v1RkC6_XVsdg"
   },
   "outputs": [],
   "source": [
    "print(x[::1, ::-3])"
   ]
  },
  {
   "cell_type": "code",
   "execution_count": null,
   "metadata": {},
   "outputs": [],
   "source": [
    "print(x[::1, ::-3])"
   ]
  },
  {
   "cell_type": "markdown",
   "metadata": {
    "colab_type": "text",
    "id": "VUN97--UVsdj"
   },
   "source": [
    "## Access parts of an array with index arrays"
   ]
  },
  {
   "cell_type": "markdown",
   "metadata": {
    "colab_type": "text",
    "id": "LpR2l52dVsdj"
   },
   "source": [
    "#### Generate six random integers between 0 and 9 inclusive\n",
    "\n",
    "`randint` in `np.random` is a very useful function which generates uniformly distributed random integers from the range provided as its first two parameters (start and end of range respectively). It's third parameter tells the method how many numbers we need."
   ]
  },
  {
   "cell_type": "code",
   "execution_count": 72,
   "metadata": {
    "colab": {},
    "colab_type": "code",
    "id": "1nY57f_oVsdk"
   },
   "outputs": [
    {
     "name": "stdout",
     "output_type": "stream",
     "text": [
      "[8 9 3 6 3 0]\n",
      "[ 0.  2.  4.  6.  8. 10.]\n"
     ]
    }
   ],
   "source": [
    "x = np.random.randint(0, 10, 6) \n",
    "print(x)\n",
    "x = np.linspace(0, 10, 6)\n",
    "print(x)"
   ]
  },
  {
   "cell_type": "markdown",
   "metadata": {
    "colab_type": "text",
    "id": "bkjGnJKEVsdo"
   },
   "source": [
    "#### Get the first number and the last two numbers\n",
    "\n",
    "Slices are inhetently linear and give us access to arrays in a linear fashion.\n",
    "\n",
    "To access elements in any order we must use index arrays which are numpy arrays holding integer numbers which tell what elements to chose from the indexed array."
   ]
  },
  {
   "cell_type": "code",
   "execution_count": 75,
   "metadata": {
    "colab": {},
    "colab_type": "code",
    "id": "GWxn2lx2Vsdp"
   },
   "outputs": [
    {
     "name": "stdout",
     "output_type": "stream",
     "text": [
      "[ 0.  2.  4.  6.  8. 10.]\n",
      "[ 0.  8. 10.]\n",
      "[ 0.  8. 10.]\n"
     ]
    },
    {
     "data": {
      "text/plain": [
       "array([ 0.,  8., 10.])"
      ]
     },
     "execution_count": 75,
     "metadata": {},
     "output_type": "execute_result"
    }
   ],
   "source": [
    "print(x)\n",
    "indices = [0, -2, -1]\n",
    "print(x[indices])\n",
    "#print(x[0,-2,1])\n",
    "print(x[[0, -2, -1]])\n",
    "x[[0,-2,-1]]"
   ]
  },
  {
   "cell_type": "code",
   "execution_count": 76,
   "metadata": {
    "scrolled": true
   },
   "outputs": [
    {
     "name": "stdout",
     "output_type": "stream",
     "text": [
      "[[19  5 11 10  2]\n",
      " [11  8 13 18 16]\n",
      " [16  2  3  4  5]\n",
      " [ 7  2  6  8 16]]\n"
     ]
    }
   ],
   "source": [
    "b = np.random.randint(0,20,20).reshape(4,5)\n",
    "print(b)"
   ]
  },
  {
   "cell_type": "code",
   "execution_count": 80,
   "metadata": {},
   "outputs": [
    {
     "name": "stdout",
     "output_type": "stream",
     "text": [
      "[[19  5 11 10  2]\n",
      " [ 7  2  6  8 16]]\n",
      "#########indexing over the axis#############\n",
      "2\n",
      "######################\n",
      "[[19  5 11 10  2]\n",
      " [ 7  2  6  8 16]]\n",
      "###############################\n",
      "###############################\n",
      "[ 2 16]\n"
     ]
    },
    {
     "name": "stderr",
     "output_type": "stream",
     "text": [
      "c:\\python373\\lib\\site-packages\\ipykernel_launcher.py:8: FutureWarning: Using a non-tuple sequence for multidimensional indexing is deprecated; use `arr[tuple(seq)]` instead of `arr[seq]`. In the future this will be interpreted as an array index, `arr[np.array(seq)]`, which will result either in an error or a different result.\n",
      "  \n",
      "c:\\python373\\lib\\site-packages\\ipykernel_launcher.py:12: FutureWarning: Using a non-tuple sequence for multidimensional indexing is deprecated; use `arr[tuple(seq)]` instead of `arr[seq]`. In the future this will be interpreted as an array index, `arr[np.array(seq)]`, which will result either in an error or a different result.\n",
      "  if sys.path[0] == '':\n"
     ]
    }
   ],
   "source": [
    "indices = [0, -1]\n",
    "print(b[indices])\n",
    "print(\"#########indexing over the axis#############\")\n",
    "print(b[0,-1])\n",
    "print(\"######################\")\n",
    "indices_rows = [0, -1]\n",
    "indices_cols = [4]\n",
    "print(b[[indices_rows]])\n",
    "print(\"###############################\")\n",
    "#print(b[[indices_rows][indices_cols]])\n",
    "print(\"###############################\")\n",
    "print(b[[indices_rows, indices_cols]])\n",
    "\n"
   ]
  },
  {
   "cell_type": "markdown",
   "metadata": {
    "colab_type": "text",
    "id": "5RfG_quvVsdr"
   },
   "source": [
    "### Create two arrays\n",
    "\n",
    "The array `x2` is created as `x1 * -1`. The multiplication operator here means multiply all elements of `x1` with -1 and give back that as result."
   ]
  },
  {
   "cell_type": "code",
   "execution_count": 91,
   "metadata": {
    "colab": {},
    "colab_type": "code",
    "id": "V46GuSJOVsdr"
   },
   "outputs": [
    {
     "name": "stdout",
     "output_type": "stream",
     "text": [
      "[0 1 2 3 4]\n",
      "[ 0 -1 -2 -3 -4]\n"
     ]
    }
   ],
   "source": [
    "arrayLength = 5\n",
    "x1 = np.arange(arrayLength)\n",
    "x2 = np.arange(arrayLength) * -1\n",
    "\n",
    "print(x1)\n",
    "print(x2)"
   ]
  },
  {
   "cell_type": "markdown",
   "metadata": {
    "colab_type": "text",
    "id": "Qm54IQiiVsdu"
   },
   "source": [
    "#### Create a random shuffled range of numbers\n",
    "\n",
    "This and the following example shows how to shuffle an array in numpy.\n",
    "\n",
    "Shuffling means reordering the items in an array and we can do that using random permutations of the array positions."
   ]
  },
  {
   "cell_type": "code",
   "execution_count": 89,
   "metadata": {
    "colab": {},
    "colab_type": "code",
    "id": "-XfqUqd8Vsdv"
   },
   "outputs": [
    {
     "name": "stdout",
     "output_type": "stream",
     "text": [
      "[2 3 0 4 1]\n"
     ]
    }
   ],
   "source": [
    "arrayLength = 5\n",
    "indices = np.random.permutation(arrayLength)\n",
    "print(indices)\n"
   ]
  },
  {
   "cell_type": "code",
   "execution_count": 92,
   "metadata": {},
   "outputs": [
    {
     "data": {
      "text/plain": [
       "array([2, 3, 0, 4, 1])"
      ]
     },
     "execution_count": 92,
     "metadata": {},
     "output_type": "execute_result"
    }
   ],
   "source": [
    "x1[indices]"
   ]
  },
  {
   "cell_type": "code",
   "execution_count": 93,
   "metadata": {},
   "outputs": [
    {
     "data": {
      "text/plain": [
       "array([-2, -3,  0, -4, -1])"
      ]
     },
     "execution_count": 93,
     "metadata": {},
     "output_type": "execute_result"
    }
   ],
   "source": [
    "x2[indices]"
   ]
  },
  {
   "cell_type": "markdown",
   "metadata": {
    "colab_type": "text",
    "id": "At69gWFaVsdz"
   },
   "source": [
    "#### Use indices to re-order arrays"
   ]
  },
  {
   "cell_type": "code",
   "execution_count": 90,
   "metadata": {
    "colab": {},
    "colab_type": "code",
    "id": "bqfTE7IEVsd0"
   },
   "outputs": [
    {
     "name": "stdout",
     "output_type": "stream",
     "text": [
      "[2 3 0 4 1]\n",
      "[-2 -3  0 -4 -1]\n"
     ]
    }
   ],
   "source": [
    "print(x1[indices])\n",
    "print(x2[indices])"
   ]
  },
  {
   "cell_type": "markdown",
   "metadata": {
    "colab_type": "text",
    "id": "JhA7z7NiVsd5"
   },
   "source": [
    "#### Create array of boolean values\n",
    "\n",
    "The main novelty of this example is `print(x > 2)`.\n",
    "\n",
    "`x > 2` generates an array of boolean values where each element is True or False.\n",
    "Having True at position i of the output means that the conditions is satisfied for the element of `x` at position i.\n",
    "\n",
    "For exampe if `x=[0,1,2,3,4]` then `x > 2` would be `[False, False, False, True, True]`.\n",
    "\n",
    "As you see 0 > 2 = False, 1 > 2 = False, 2 > 2 = False, 3 > 2 = True and 4 > 2 = True and that is shown in the output array."
   ]
  },
  {
   "cell_type": "code",
   "execution_count": 95,
   "metadata": {
    "colab": {},
    "colab_type": "code",
    "id": "Wq39t_tDVsd6"
   },
   "outputs": [
    {
     "name": "stdout",
     "output_type": "stream",
     "text": [
      "[0 1 2 3 4]\n",
      "[False False False  True  True]\n",
      "(5,)\n"
     ]
    },
    {
     "data": {
      "text/plain": [
       "array([3, 4])"
      ]
     },
     "execution_count": 95,
     "metadata": {},
     "output_type": "execute_result"
    }
   ],
   "source": [
    "y = np.arange(5)\n",
    "print(y)\n",
    "print(y > 2)\n",
    "print(y.shape)\n",
    "y[y>2]"
   ]
  },
  {
   "cell_type": "code",
   "execution_count": 98,
   "metadata": {},
   "outputs": [
    {
     "name": "stdout",
     "output_type": "stream",
     "text": [
      "[[ 9 14  6 14  9]\n",
      " [11 13 12 13 10]\n",
      " [13 13 11  7 13]]\n",
      "##############################################\n",
      "(3, 5)\n",
      "[[False  True False  True False]\n",
      " [ True  True  True  True  True]\n",
      " [ True  True  True False  True]]\n",
      "##############################################\n",
      "(3, 5)\n",
      "[14 14 11 13 12 13 10 13 13 11 13]\n",
      "(3, 5)\n"
     ]
    }
   ],
   "source": [
    "x = np.random.randint(6,15,15).reshape(3,5)\n",
    "print(x)\n",
    "print(\"##############################################\")\n",
    "#print(x > 9)\n",
    "print(x.shape)\n",
    "a = x > 9\n",
    "print(a)\n",
    "print(\"##############################################\")\n",
    "print(a.shape)\n",
    "print(x[a])\n",
    "print(x.shape)"
   ]
  },
  {
   "cell_type": "code",
   "execution_count": 99,
   "metadata": {},
   "outputs": [
    {
     "name": "stdout",
     "output_type": "stream",
     "text": [
      "[0 1 4 3 2]\n",
      "[False False  True  True False]\n",
      "[4 3]\n"
     ]
    }
   ],
   "source": [
    "indices = np.random.permutation(arrayLength)\n",
    "print(indices)\n",
    "print(indices >= 3)\n",
    "print(indices[indices >=3])"
   ]
  },
  {
   "cell_type": "markdown",
   "metadata": {
    "colab_type": "text",
    "id": "k5Zv-VArVsd8"
   },
   "source": [
    "#### Use boolean values to index arrays\n",
    "\n",
    "Once we have created our boolean array we can use it to index other arrays.\n",
    "\n",
    "The rule is very simple. If at position i of index we have True include `x[i]` in the output."
   ]
  },
  {
   "cell_type": "code",
   "execution_count": 100,
   "metadata": {},
   "outputs": [
    {
     "name": "stdout",
     "output_type": "stream",
     "text": [
      "[0 1 2 3 4]\n"
     ]
    }
   ],
   "source": [
    "indices = np.random.permutation(arrayLength)\n",
    "print(indices)"
   ]
  },
  {
   "cell_type": "code",
   "execution_count": null,
   "metadata": {
    "colab": {},
    "colab_type": "code",
    "id": "E4ea2NQwVsd9"
   },
   "outputs": [],
   "source": [
    "print(x > 2)\n",
    "print(\"#######################################\")\n",
    "print(x[x > 9])\n",
    "print(\"#######################################\")\n",
    "print(x)\n",
    "print(x[np.array([False,True,False,True,False])])"
   ]
  },
  {
   "cell_type": "markdown",
   "metadata": {
    "colab_type": "text",
    "id": "CPA6fxsgVseB"
   },
   "source": [
    "## Array Math"
   ]
  },
  {
   "cell_type": "markdown",
   "metadata": {
    "colab_type": "text",
    "id": "BXU-_j3XYjIx"
   },
   "source": [
    "#### Try adding to a list"
   ]
  },
  {
   "cell_type": "code",
   "execution_count": 101,
   "metadata": {
    "colab": {},
    "colab_type": "code",
    "id": "77uE0DtkVseC"
   },
   "outputs": [
    {
     "ename": "TypeError",
     "evalue": "can only concatenate list (not \"int\") to list",
     "output_type": "error",
     "traceback": [
      "\u001b[1;31m---------------------------------------------------------------------------\u001b[0m",
      "\u001b[1;31mTypeError\u001b[0m                                 Traceback (most recent call last)",
      "\u001b[1;32m<ipython-input-101-8ffd3d11af62>\u001b[0m in \u001b[0;36m<module>\u001b[1;34m\u001b[0m\n\u001b[0;32m      2\u001b[0m \u001b[1;31m#print(x*10)\u001b[0m\u001b[1;33m\u001b[0m\u001b[1;33m\u001b[0m\u001b[1;33m\u001b[0m\u001b[0m\n\u001b[0;32m      3\u001b[0m \u001b[1;33m\u001b[0m\u001b[0m\n\u001b[1;32m----> 4\u001b[1;33m \u001b[0mprint\u001b[0m\u001b[1;33m(\u001b[0m\u001b[0mx\u001b[0m \u001b[1;33m+\u001b[0m \u001b[1;36m10\u001b[0m\u001b[1;33m)\u001b[0m\u001b[1;33m\u001b[0m\u001b[1;33m\u001b[0m\u001b[0m\n\u001b[0m",
      "\u001b[1;31mTypeError\u001b[0m: can only concatenate list (not \"int\") to list"
     ]
    }
   ],
   "source": [
    "x = [1, 2, 3, 4]\n",
    "#print(x*10)\n",
    "\n",
    "print(x + 10)"
   ]
  },
  {
   "cell_type": "markdown",
   "metadata": {
    "colab_type": "text",
    "id": "TmH2s9-aVseE"
   },
   "source": [
    "#### Try again with an array\n",
    "\n",
    "When trying with a list you got an error because simple python lists do not support addition with scalars.\n",
    "\n",
    "But numpy arrays do allow that."
   ]
  },
  {
   "cell_type": "code",
   "execution_count": 102,
   "metadata": {
    "colab": {},
    "colab_type": "code",
    "id": "oOmv1DBxVseE"
   },
   "outputs": [
    {
     "name": "stdout",
     "output_type": "stream",
     "text": [
      "[[1 2]\n",
      " [3 4]]\n",
      "#######################\n",
      "[[11 12]\n",
      " [13 14]]\n",
      "#######################\n",
      "[[10 20]\n",
      " [30 40]]\n"
     ]
    }
   ],
   "source": [
    "x = np.array([1,2,3,4]).reshape(2,2)\n",
    "print(x)\n",
    "print(\"#######################\")\n",
    "print(x + 10)\n",
    "print(\"#######################\")\n",
    "print(x * 10)"
   ]
  },
  {
   "cell_type": "markdown",
   "metadata": {},
   "source": [
    "### Finding Transpose -- converting rows and columns to the reverse\n"
   ]
  },
  {
   "cell_type": "code",
   "execution_count": 103,
   "metadata": {},
   "outputs": [
    {
     "name": "stdout",
     "output_type": "stream",
     "text": [
      "[[11  3  5  0  6]\n",
      " [ 3  5 11 10 12]\n",
      " [ 0 14  8  8  5]]\n",
      "################## - Transpose\n",
      "[[11  3  0]\n",
      " [ 3  5 14]\n",
      " [ 5 11  8]\n",
      " [ 0 10  8]\n",
      " [ 6 12  5]]\n"
     ]
    }
   ],
   "source": [
    "a = np.random.randint(0,15,15).reshape(3,5)\n",
    "print(a)\n",
    "print(\"################## - Transpose\")\n",
    "b = a.transpose()\n",
    "print(b)"
   ]
  },
  {
   "cell_type": "code",
   "execution_count": 104,
   "metadata": {},
   "outputs": [
    {
     "name": "stdout",
     "output_type": "stream",
     "text": [
      "[[[ 0  0]\n",
      "  [12 10]\n",
      "  [13  7]\n",
      "  [ 1 11]\n",
      "  [13 13]]\n",
      "\n",
      " [[ 9  7]\n",
      "  [13  8]\n",
      "  [12 13]\n",
      "  [12  4]\n",
      "  [ 6  3]]\n",
      "\n",
      " [[13  1]\n",
      "  [ 1  7]\n",
      "  [ 4 10]\n",
      "  [ 6  1]\n",
      "  [12  6]]]\n",
      "################## - Transpose\n",
      "[[[ 0  9 13]\n",
      "  [12 13  1]\n",
      "  [13 12  4]\n",
      "  [ 1 12  6]\n",
      "  [13  6 12]]\n",
      "\n",
      " [[ 0  7  1]\n",
      "  [10  8  7]\n",
      "  [ 7 13 10]\n",
      "  [11  4  1]\n",
      "  [13  3  6]]]\n"
     ]
    }
   ],
   "source": [
    "a = np.random.randint(0,15,30).reshape(3,5,2)\n",
    "print(a)\n",
    "print(\"################## - Transpose\")\n",
    "b = a.transpose()\n",
    "print(b)"
   ]
  },
  {
   "cell_type": "code",
   "execution_count": 105,
   "metadata": {},
   "outputs": [
    {
     "name": "stdout",
     "output_type": "stream",
     "text": [
      "[[[ 0  1  2  3]\n",
      "  [ 4  5  6  7]]\n",
      "\n",
      " [[ 8  9 10 11]\n",
      "  [12 13 14 15]]]\n",
      "################## - Transpose\n",
      "[[[ 0  8]\n",
      "  [ 4 12]]\n",
      "\n",
      " [[ 1  9]\n",
      "  [ 5 13]]\n",
      "\n",
      " [[ 2 10]\n",
      "  [ 6 14]]\n",
      "\n",
      " [[ 3 11]\n",
      "  [ 7 15]]]\n"
     ]
    }
   ],
   "source": [
    "a = np.arange(0,16).reshape(2,2,4)\n",
    "print(a)\n",
    "print(\"################## - Transpose\")\n",
    "b = a.transpose()\n",
    "print(b)"
   ]
  },
  {
   "cell_type": "code",
   "execution_count": 108,
   "metadata": {},
   "outputs": [
    {
     "name": "stdout",
     "output_type": "stream",
     "text": [
      "[[1. 0. 0. 0. 0. 0. 0. 0. 0. 0.]\n",
      " [0. 1. 0. 0. 0. 0. 0. 0. 0. 0.]\n",
      " [0. 0. 1. 0. 0. 0. 0. 0. 0. 0.]\n",
      " [0. 0. 0. 1. 0. 0. 0. 0. 0. 0.]\n",
      " [0. 0. 0. 0. 1. 0. 0. 0. 0. 0.]\n",
      " [0. 0. 0. 0. 0. 1. 0. 0. 0. 0.]\n",
      " [0. 0. 0. 0. 0. 0. 1. 0. 0. 0.]\n",
      " [0. 0. 0. 0. 0. 0. 0. 1. 0. 0.]\n",
      " [0. 0. 0. 0. 0. 0. 0. 0. 1. 0.]\n",
      " [0. 0. 0. 0. 0. 0. 0. 0. 0. 1.]]\n"
     ]
    }
   ],
   "source": [
    "u = np.eye(10)\n",
    "#u = np.eye(4,2)\n",
    "#u = np.eye(2)\n",
    "print(u)"
   ]
  },
  {
   "cell_type": "markdown",
   "metadata": {},
   "source": [
    "    ##### Reading Data From Diskf"
   ]
  },
  {
   "cell_type": "code",
   "execution_count": 111,
   "metadata": {},
   "outputs": [
    {
     "name": "stdout",
     "output_type": "stream",
     "text": [
      "[[1. 2. 3.]\n",
      " [4. 5. 6.]]\n",
      "########################\n",
      "[[1. 2. 3.]\n",
      " [4. 5. 6.]]\n"
     ]
    }
   ],
   "source": [
    "from io import StringIO\n",
    "data = \"1, 2, 3\\n 4, 5, 6\"\n",
    "data_1 = \"\"\"1, 2, 3\n",
    "4, 5, 6\"\"\"\n",
    "array = np.genfromtxt(StringIO(data), delimiter=\",\")\n",
    "print(array)\n",
    "print(\"########################\")\n",
    "array1 = np.genfromtxt(StringIO(data_1), delimiter=\",\")\n",
    "print(array1)"
   ]
  },
  {
   "cell_type": "code",
   "execution_count": 112,
   "metadata": {},
   "outputs": [
    {
     "name": "stdout",
     "output_type": "stream",
     "text": [
      "[[  1. 112.   3.]\n",
      " [  4.   5.  67.]\n",
      " [890. 123.   4.]]\n",
      "float64\n"
     ]
    }
   ],
   "source": [
    "data = \"  1112  3\\n  4 5 67\\n890123 4\"\n",
    "array = np.genfromtxt(StringIO(data), delimiter=3)\n",
    "print(array)\n",
    "print(array.dtype)"
   ]
  },
  {
   "cell_type": "code",
   "execution_count": null,
   "metadata": {},
   "outputs": [],
   "source": [
    "#### Auto Stripping Values"
   ]
  },
  {
   "cell_type": "code",
   "execution_count": 114,
   "metadata": {},
   "outputs": [
    {
     "name": "stdout",
     "output_type": "stream",
     "text": [
      "[[b'1' b' abc ' b' 2']\n",
      " [b'3' b' xxx' b' 4']]\n",
      "|S5\n"
     ]
    }
   ],
   "source": [
    "data = \"1, abc , 2\\n 3, xxx, 4\"\n",
    "arr = np.genfromtxt(StringIO(data), delimiter=\",\", dtype=\"|S5\")\n",
    "print(arr)\n",
    "print(arr.dtype)"
   ]
  },
  {
   "cell_type": "markdown",
   "metadata": {},
   "source": [
    "Comments"
   ]
  },
  {
   "cell_type": "code",
   "execution_count": 118,
   "metadata": {},
   "outputs": [
    {
     "name": "stdout",
     "output_type": "stream",
     "text": [
      "[[1. 2.]\n",
      " [1. 2.]\n",
      " [3. 4.]\n",
      " [5. 6.]\n",
      " [7. 8.]\n",
      " [9. 0.]]\n"
     ]
    }
   ],
   "source": [
    "data = \"\"\"#\n",
    " # Skip me !\n",
    " # Skip me too !\n",
    " 1,2\n",
    " 1, 2\n",
    " 3, 4\n",
    " 5, 6 #6 #This is the third line of the data\n",
    " 7, 8\n",
    " # And here comes the last line\n",
    " 9, 0\n",
    " \"\"\"\n",
    "print(np.genfromtxt(StringIO(data), comments=\"#\", delimiter=\",\"))\n"
   ]
  },
  {
   "cell_type": "code",
   "execution_count": 119,
   "metadata": {},
   "outputs": [
    {
     "name": "stdout",
     "output_type": "stream",
     "text": [
      "####################################\n",
      "[[ 1.  2.]\n",
      " [ 3.  4.]\n",
      " [nan nan]\n",
      " [ 5. nan]]\n",
      "####################################\n",
      "[[1. 2.]\n",
      " [3. 4.]]\n"
     ]
    }
   ],
   "source": [
    "data_1 = \"\"\"#,\n",
    " $ Skip, me !\n",
    " 1,2\n",
    " 1, 2\n",
    " 3, 4\n",
    " # Skip ,me too !\n",
    " 5, 6 #This is the third line of the data\n",
    " 7, 8\n",
    " # And here comes, the last line\n",
    " 9, 0\n",
    " \"\"\"\n",
    "print(\"####################################\")\n",
    "print(np.genfromtxt(StringIO(data_1), comments =\"$\", delimiter=\",\", skip_header=3, skip_footer=3))\n",
    "print(\"####################################\")\n",
    "print(np.genfromtxt(StringIO(data_1), comments =\"#\", delimiter=\",\", skip_header=3, skip_footer=3))\n",
    "\n"
   ]
  },
  {
   "cell_type": "code",
   "execution_count": 120,
   "metadata": {},
   "outputs": [
    {
     "name": "stdout",
     "output_type": "stream",
     "text": [
      "0\n",
      "1\n",
      "2\n",
      "3\n",
      "4\n",
      "5\n",
      "6\n",
      "7\n",
      "8\n",
      "9\n"
     ]
    },
    {
     "data": {
      "text/plain": [
       "array([3., 4.])"
      ]
     },
     "execution_count": 120,
     "metadata": {},
     "output_type": "execute_result"
    }
   ],
   "source": [
    "data = \"\\n\".join(str(i) for i in range(10))\n",
    "print(data)\n",
    "np.genfromtxt(StringIO(data),comments=\"#\", skip_header=3, skip_footer=5)"
   ]
  },
  {
   "cell_type": "code",
   "execution_count": 122,
   "metadata": {},
   "outputs": [
    {
     "name": "stdout",
     "output_type": "stream",
     "text": [
      "#0\n",
      "#1\n",
      "#2\n",
      "#3\n",
      "#4\n",
      "#5\n",
      "#6\n",
      "#7\n",
      "#8\n",
      "#9\n"
     ]
    },
    {
     "name": "stderr",
     "output_type": "stream",
     "text": [
      "c:\\python373\\lib\\site-packages\\ipykernel_launcher.py:4: UserWarning: genfromtxt: Empty input file: \"<_io.StringIO object at 0x01B1DEE0>\"\n",
      "  after removing the cwd from sys.path.\n"
     ]
    },
    {
     "data": {
      "text/plain": [
       "array([], dtype=float64)"
      ]
     },
     "execution_count": 122,
     "metadata": {},
     "output_type": "execute_result"
    }
   ],
   "source": [
    "data = \"\\n\".join(\"#\" + str(i) for i in range(10))\n",
    "print(data)\n",
    "np.genfromtxt(StringIO(data), \n",
    "comments=\"#\",skip_header=3, skip_footer=5)"
   ]
  },
  {
   "cell_type": "code",
   "execution_count": 125,
   "metadata": {},
   "outputs": [
    {
     "name": "stdout",
     "output_type": "stream",
     "text": [
      "[[1. 2. 3.]\n",
      " [4. 5. 6.]]\n"
     ]
    },
    {
     "data": {
      "text/plain": [
       "array([[3., 2.],\n",
       "       [6., 5.]])"
      ]
     },
     "execution_count": 125,
     "metadata": {},
     "output_type": "execute_result"
    }
   ],
   "source": [
    "# data = \"1 2 3\\n4 5 6\"\n",
    "a = np.genfromtxt(StringIO(data))\n",
    "print(a)\n",
    "np.genfromtxt(StringIO(data), usecols=(-1,-2))"
   ]
  },
  {
   "cell_type": "markdown",
   "metadata": {
    "colab_type": "text",
    "id": "XvwnrdEsVseH"
   },
   "source": [
    "## Exercises"
   ]
  },
  {
   "cell_type": "markdown",
   "metadata": {
    "colab_type": "text",
    "id": "Xf0nHJl3VseH"
   },
   "source": [
    "#### Create an array from 0 to 26 assign it to a variable x"
   ]
  },
  {
   "cell_type": "code",
   "execution_count": null,
   "metadata": {
    "colab": {},
    "colab_type": "code",
    "id": "CFzHAXotVseI"
   },
   "outputs": [],
   "source": []
  },
  {
   "cell_type": "markdown",
   "metadata": {
    "colab_type": "text",
    "id": "gSpgRMsjVseK"
   },
   "source": [
    "#### Reverse the order of the array and print it out"
   ]
  },
  {
   "cell_type": "code",
   "execution_count": null,
   "metadata": {
    "colab": {},
    "colab_type": "code",
    "id": "Xg3yZ1yYVseL"
   },
   "outputs": [],
   "source": []
  },
  {
   "cell_type": "markdown",
   "metadata": {
    "colab_type": "text",
    "id": "9C0WP05VVseR"
   },
   "source": [
    "#### Convert the 1-dimensional array you created into a 3 dimensional array"
   ]
  },
  {
   "cell_type": "code",
   "execution_count": null,
   "metadata": {
    "colab": {},
    "colab_type": "code",
    "id": "S1EwyyqfVseS"
   },
   "outputs": [],
   "source": []
  },
  {
   "cell_type": "markdown",
   "metadata": {
    "colab_type": "text",
    "id": "30CSoki5VseU"
   },
   "source": [
    "#### Find the index (location) for value 12"
   ]
  },
  {
   "cell_type": "code",
   "execution_count": null,
   "metadata": {
    "colab": {},
    "colab_type": "code",
    "id": "3en3QEIXVseV"
   },
   "outputs": [],
   "source": []
  },
  {
   "cell_type": "markdown",
   "metadata": {
    "colab_type": "text",
    "id": "aIawXcgSVseb"
   },
   "source": [
    "#### Create a random shuffled list of values from 0-19 and assign it to variable y"
   ]
  },
  {
   "cell_type": "code",
   "execution_count": null,
   "metadata": {
    "colab": {},
    "colab_type": "code",
    "id": "G9hLCgCeVseb"
   },
   "outputs": [],
   "source": []
  },
  {
   "cell_type": "markdown",
   "metadata": {
    "colab_type": "text",
    "id": "aRe_-tIOVsee"
   },
   "source": [
    "#### Create an array of boolean values for values in y that are greater than 10"
   ]
  },
  {
   "cell_type": "code",
   "execution_count": null,
   "metadata": {
    "colab": {},
    "colab_type": "code",
    "id": "wZ3zDBh-Vsee"
   },
   "outputs": [],
   "source": []
  },
  {
   "cell_type": "markdown",
   "metadata": {
    "colab_type": "text",
    "id": "r8XL5KlKVseg"
   },
   "source": [
    "#### Create a random sample of 20 data points from a normal distribution with mean of 10 and standard deviation 5"
   ]
  },
  {
   "cell_type": "code",
   "execution_count": null,
   "metadata": {
    "colab": {},
    "colab_type": "code",
    "id": "zwFXB9qbVseh"
   },
   "outputs": [],
   "source": []
  }
 ],
 "metadata": {
  "colab": {
   "collapsed_sections": [],
   "name": "Numpy Tutorial.ipynb",
   "provenance": [],
   "version": "0.3.2"
  },
  "kernelspec": {
   "display_name": "Python 3",
   "language": "python",
   "name": "python3"
  },
  "language_info": {
   "codemirror_mode": {
    "name": "ipython",
    "version": 3
   },
   "file_extension": ".py",
   "mimetype": "text/x-python",
   "name": "python",
   "nbconvert_exporter": "python",
   "pygments_lexer": "ipython3",
   "version": "3.7.4"
  }
 },
 "nbformat": 4,
 "nbformat_minor": 1
}

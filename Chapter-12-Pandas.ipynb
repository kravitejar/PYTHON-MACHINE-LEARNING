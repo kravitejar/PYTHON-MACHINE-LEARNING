{
 "cells": [
  {
   "cell_type": "markdown",
   "metadata": {},
   "source": [
    "#### Installing Pandas\n",
    "pip install pandas "
   ]
  },
  {
   "cell_type": "markdown",
   "metadata": {},
   "source": [
    "### Reference Link for pandas\n",
    "<a href=\"https://pandas.pydata.org/pandas-docs/stable/reference/index.html\">API reference Pandas</a>"
   ]
  },
  {
   "cell_type": "markdown",
   "metadata": {},
   "source": [
    "# Importing pandas into your application"
   ]
  },
  {
   "cell_type": "code",
   "execution_count": 1,
   "metadata": {},
   "outputs": [],
   "source": [
    "# import numpy and pandas, and DataFrame / Series\n",
    "import numpy as np\n",
    "import pandas as pd\n",
    "from pandas import DataFrame, Series\n",
    "\n",
    "# Set some pandas options\n",
    "pd.set_option('display.notebook_repr_html', False)\n",
    "pd.set_option('display.max_columns', 100)\n",
    "pd.set_option('display.max_rows', 100)\n",
    "\n",
    "# And some items for matplotlib\n",
    "#%matplotlib inline \n",
    "#import matplotlib.pyplot as plt\n",
    "#pd.options.display.mpl_style = 'default'"
   ]
  },
  {
   "cell_type": "markdown",
   "metadata": {},
   "source": [
    "# Primary pandas objects"
   ]
  },
  {
   "cell_type": "markdown",
   "metadata": {},
   "source": [
    "## The pandas Series"
   ]
  },
  {
   "cell_type": "code",
   "execution_count": 154,
   "metadata": {},
   "outputs": [
    {
     "data": {
      "text/plain": [
       "0    5\n",
       "1    8\n",
       "2    3\n",
       "3    4\n",
       "dtype: int64"
      ]
     },
     "execution_count": 154,
     "metadata": {},
     "output_type": "execute_result"
    }
   ],
   "source": [
    "# create a four item Series\n",
    "s = Series([5, 8, 3, 4])\n",
    "s"
   ]
  },
  {
   "cell_type": "code",
   "execution_count": 155,
   "metadata": {},
   "outputs": [
    {
     "data": {
      "text/plain": [
       "RangeIndex(start=0, stop=4, step=1)"
      ]
     },
     "execution_count": 155,
     "metadata": {},
     "output_type": "execute_result"
    }
   ],
   "source": [
    "s.index"
   ]
  },
  {
   "cell_type": "code",
   "execution_count": 11,
   "metadata": {},
   "outputs": [
    {
     "data": {
      "text/plain": [
       "b    8\n",
       "c    3\n",
       "dtype: int64"
      ]
     },
     "execution_count": 11,
     "metadata": {},
     "output_type": "execute_result"
    }
   ],
   "source": [
    "s[1:3]"
   ]
  },
  {
   "cell_type": "code",
   "execution_count": 157,
   "metadata": {},
   "outputs": [
    {
     "data": {
      "text/plain": [
       "1    8\n",
       "3    4\n",
       "0    5\n",
       "dtype: int64"
      ]
     },
     "execution_count": 157,
     "metadata": {},
     "output_type": "execute_result"
    }
   ],
   "source": [
    "# return a Series with the row with labels 1 and 3\n",
    "s[[1,3,0]]"
   ]
  },
  {
   "cell_type": "code",
   "execution_count": 160,
   "metadata": {},
   "outputs": [
    {
     "data": {
      "text/plain": [
       "a    5\n",
       "b    8\n",
       "c    3\n",
       "d    4\n",
       "dtype: int64"
      ]
     },
     "execution_count": 160,
     "metadata": {},
     "output_type": "execute_result"
    }
   ],
   "source": [
    "# create a series using an explicit index\n",
    "s = Series([5, 8, 3, 4], index = ['a', 'b', 'c', 'd'])\n",
    "s"
   ]
  },
  {
   "cell_type": "code",
   "execution_count": 163,
   "metadata": {},
   "outputs": [
    {
     "data": {
      "text/plain": [
       "a    5\n",
       "b    8\n",
       "c    3\n",
       "d    4\n",
       "dtype: int64"
      ]
     },
     "execution_count": 163,
     "metadata": {},
     "output_type": "execute_result"
    }
   ],
   "source": [
    "s['a':'d']\n",
    "#s[0:3]"
   ]
  },
  {
   "cell_type": "code",
   "execution_count": 164,
   "metadata": {},
   "outputs": [
    {
     "data": {
      "text/plain": [
       "b    8\n",
       "d    4\n",
       "dtype: int64"
      ]
     },
     "execution_count": 164,
     "metadata": {},
     "output_type": "execute_result"
    }
   ],
   "source": [
    "# look up items the series having index 'a' and 'd'\n",
    "s[['b', 'd']]"
   ]
  },
  {
   "cell_type": "code",
   "execution_count": 165,
   "metadata": {},
   "outputs": [
    {
     "data": {
      "text/plain": [
       "b    8\n",
       "d    4\n",
       "dtype: int64"
      ]
     },
     "execution_count": 165,
     "metadata": {},
     "output_type": "execute_result"
    }
   ],
   "source": [
    "# passing a list of integers to a Series that has\n",
    "# non-integer index labels will look up based upon\n",
    "# 0-based index like an array\n",
    "s[[1, 3]]"
   ]
  },
  {
   "cell_type": "code",
   "execution_count": 166,
   "metadata": {},
   "outputs": [
    {
     "data": {
      "text/plain": [
       "Index(['a', 'b', 'c', 'd'], dtype='object')"
      ]
     },
     "execution_count": 166,
     "metadata": {},
     "output_type": "execute_result"
    }
   ],
   "source": [
    "# get only the index of the Series\n",
    "s.index"
   ]
  },
  {
   "cell_type": "code",
   "execution_count": 169,
   "metadata": {},
   "outputs": [
    {
     "name": "stdout",
     "output_type": "stream",
     "text": [
      "DatetimeIndex(['2019-07-01', '2019-07-02', '2019-07-03', '2019-07-04',\n",
      "               '2019-07-05', '2019-07-06'],\n",
      "              dtype='datetime64[ns]', freq='D')\n",
      "DatetimeIndex(['2019-07-02', '2019-07-03', '2019-07-04', '2019-07-05',\n",
      "               '2019-07-06', '2019-07-07'],\n",
      "              dtype='datetime64[ns]', freq='D')\n",
      "2019-07-01    80\n",
      "2019-07-02    82\n",
      "2019-07-03    85\n",
      "2019-07-04    90\n",
      "2019-07-05    83\n",
      "2019-07-06    87\n",
      "Freq: D, dtype: int64\n",
      "DatetimeIndex(['2019-07-01', '2019-07-02', '2019-07-03', '2019-07-04',\n",
      "               '2019-07-05', '2019-07-06'],\n",
      "              dtype='datetime64[ns]', freq='D')\n"
     ]
    }
   ],
   "source": [
    "# create a Series who's index is a series of dates\n",
    "# between the two specified dates (inclusive)\n",
    "dates1 = pd.date_range('2019-07-01', '2019-07-06')\n",
    "dates2 = pd.date_range('2019-07-02', '2019-07-07')\n",
    "print(dates1)\n",
    "print(dates2)\n",
    "\n",
    "# create a Series with values(representing temperatures)\n",
    "# for each date in the index\n",
    "temps1 = Series([80, 82, 85, 90, 83, 87], \n",
    "                index = dates1)\n",
    "print(temps1)\n",
    "print(temps1.index)\n"
   ]
  },
  {
   "cell_type": "code",
   "execution_count": 170,
   "metadata": {},
   "outputs": [
    {
     "data": {
      "text/plain": [
       "84.5"
      ]
     },
     "execution_count": 170,
     "metadata": {},
     "output_type": "execute_result"
    }
   ],
   "source": [
    "# calculate the mean of the values in the Series\n",
    "temps1.mean()"
   ]
  },
  {
   "cell_type": "code",
   "execution_count": 171,
   "metadata": {},
   "outputs": [
    {
     "data": {
      "text/plain": [
       "90"
      ]
     },
     "execution_count": 171,
     "metadata": {},
     "output_type": "execute_result"
    }
   ],
   "source": [
    "temps1.max()"
   ]
  },
  {
   "cell_type": "code",
   "execution_count": 172,
   "metadata": {},
   "outputs": [
    {
     "data": {
      "text/plain": [
       "80"
      ]
     },
     "execution_count": 172,
     "metadata": {},
     "output_type": "execute_result"
    }
   ],
   "source": [
    "temps1.min()"
   ]
  },
  {
   "cell_type": "code",
   "execution_count": 173,
   "metadata": {},
   "outputs": [
    {
     "data": {
      "text/plain": [
       "507"
      ]
     },
     "execution_count": 173,
     "metadata": {},
     "output_type": "execute_result"
    }
   ],
   "source": [
    "temps1.sum()"
   ]
  },
  {
   "cell_type": "code",
   "execution_count": 174,
   "metadata": {},
   "outputs": [
    {
     "data": {
      "text/plain": [
       "2019-07-01     80\n",
       "2019-07-02    162\n",
       "2019-07-03    247\n",
       "2019-07-04    337\n",
       "2019-07-05    420\n",
       "2019-07-06    507\n",
       "Freq: D, dtype: int64"
      ]
     },
     "execution_count": 174,
     "metadata": {},
     "output_type": "execute_result"
    }
   ],
   "source": [
    "temps1.cumsum()"
   ]
  },
  {
   "cell_type": "code",
   "execution_count": 176,
   "metadata": {},
   "outputs": [
    {
     "name": "stdout",
     "output_type": "stream",
     "text": [
      "2019-07-02    70\n",
      "2019-07-03    75\n",
      "2019-07-04    69\n",
      "2019-07-05    83\n",
      "2019-07-06    79\n",
      "2019-07-07    77\n",
      "Freq: D, dtype: int64\n",
      "DatetimeIndex(['2019-07-02', '2019-07-03', '2019-07-04', '2019-07-05',\n",
      "               '2019-07-06', '2019-07-07'],\n",
      "              dtype='datetime64[ns]', freq='D')\n"
     ]
    }
   ],
   "source": [
    "# create a second series of values using the same index\n",
    "temps2 = Series([70, 75, 69, 83, 79, 77], \n",
    "                index = dates2)\n",
    "print(temps2)\n",
    "print(temps2.index)"
   ]
  },
  {
   "cell_type": "code",
   "execution_count": 43,
   "metadata": {},
   "outputs": [
    {
     "name": "stdout",
     "output_type": "stream",
     "text": [
      "2019-07-01    80\n",
      "2019-07-02    82\n",
      "2019-07-03    85\n",
      "2019-07-04    90\n",
      "2019-07-05    83\n",
      "2019-07-06    87\n",
      "Freq: D, dtype: int64\n"
     ]
    }
   ],
   "source": [
    "print(temps1)"
   ]
  },
  {
   "cell_type": "code",
   "execution_count": 44,
   "metadata": {
    "scrolled": true
   },
   "outputs": [
    {
     "name": "stdout",
     "output_type": "stream",
     "text": [
      "2019-07-02    70\n",
      "2019-07-03    75\n",
      "2019-07-04    69\n",
      "2019-07-05    83\n",
      "2019-07-06    79\n",
      "2019-07-07    77\n",
      "Freq: D, dtype: int64\n"
     ]
    }
   ],
   "source": [
    "print(temps2)"
   ]
  },
  {
   "cell_type": "code",
   "execution_count": 179,
   "metadata": {},
   "outputs": [
    {
     "name": "stdout",
     "output_type": "stream",
     "text": [
      "<class 'pandas.core.series.Series'>\n",
      "2019-07-01     NaN\n",
      "2019-07-02    12.0\n",
      "2019-07-03    10.0\n",
      "2019-07-04    21.0\n",
      "2019-07-05     0.0\n",
      "2019-07-06     8.0\n",
      "2019-07-07     NaN\n",
      "Freq: D, dtype: float64 <class 'pandas.core.series.Series'>\n",
      "###################################\n",
      "DatetimeIndex(['2019-07-01', '2019-07-02', '2019-07-03', '2019-07-04',\n",
      "               '2019-07-05', '2019-07-06', '2019-07-07'],\n",
      "              dtype='datetime64[ns]', freq='D')\n"
     ]
    }
   ],
   "source": [
    "\n",
    "# the following aligns the two by their index values\n",
    "# and calculates the difference at those matching labels\n",
    "temp_diffs = temps1 - temps2\n",
    "print(type(temp_diffs))\n",
    "temp_diffs\n",
    "print(temp_diffs, type(temp_diffs))\n",
    "print(\"###################################\")\n",
    "print(temp_diffs.index)"
   ]
  },
  {
   "cell_type": "code",
   "execution_count": 180,
   "metadata": {},
   "outputs": [
    {
     "data": {
      "text/plain": [
       "10.0"
      ]
     },
     "execution_count": 180,
     "metadata": {},
     "output_type": "execute_result"
    }
   ],
   "source": [
    "# lookup a value by date using the index\n",
    "temp_diffs['2019-07-03']"
   ]
  },
  {
   "cell_type": "code",
   "execution_count": 181,
   "metadata": {},
   "outputs": [
    {
     "data": {
      "text/plain": [
       "21.0"
      ]
     },
     "execution_count": 181,
     "metadata": {},
     "output_type": "execute_result"
    }
   ],
   "source": [
    "# and also possible by integer position as if the \n",
    "# series was an array\n",
    "temp_diffs[3]"
   ]
  },
  {
   "cell_type": "markdown",
   "metadata": {},
   "source": [
    "## The pandas DataFrame"
   ]
  },
  {
   "cell_type": "code",
   "execution_count": 183,
   "metadata": {},
   "outputs": [
    {
     "name": "stdout",
     "output_type": "stream",
     "text": [
      "<class 'pandas.core.frame.DataFrame'>\n"
     ]
    },
    {
     "data": {
      "text/plain": [
       "            Missoula  Philadelphia\n",
       "2019-07-01      80.0           NaN\n",
       "2019-07-02      82.0          70.0\n",
       "2019-07-03      85.0          75.0\n",
       "2019-07-04      90.0          69.0\n",
       "2019-07-05      83.0          83.0\n",
       "2019-07-06      87.0          79.0\n",
       "2019-07-07       NaN          77.0"
      ]
     },
     "execution_count": 183,
     "metadata": {},
     "output_type": "execute_result"
    }
   ],
   "source": [
    "# create a DataFrame from the two series objects temp1 and temp2\n",
    "# and give them column names\n",
    "temps_df = DataFrame(\n",
    "            {'Missoula': temps1, \n",
    "             'Philadelphia': temps2})\n",
    "print(type(temps_df))\n",
    "temps_df"
   ]
  },
  {
   "cell_type": "code",
   "execution_count": 184,
   "metadata": {},
   "outputs": [
    {
     "data": {
      "text/plain": [
       "2019-07-01    80.0\n",
       "2019-07-02    82.0\n",
       "2019-07-03    85.0\n",
       "2019-07-04    90.0\n",
       "2019-07-05    83.0\n",
       "2019-07-06    87.0\n",
       "2019-07-07     NaN\n",
       "Freq: D, Name: Missoula, dtype: float64"
      ]
     },
     "execution_count": 184,
     "metadata": {},
     "output_type": "execute_result"
    }
   ],
   "source": [
    "# get the column with the name Missoula\n",
    "temps_df['Missoula']"
   ]
  },
  {
   "cell_type": "code",
   "execution_count": 188,
   "metadata": {},
   "outputs": [
    {
     "name": "stdout",
     "output_type": "stream",
     "text": [
      "<class 'pandas.core.series.Series'>\n"
     ]
    },
    {
     "data": {
      "text/plain": [
       "2019-07-01     NaN\n",
       "2019-07-02    70.0\n",
       "2019-07-03    75.0\n",
       "2019-07-04    69.0\n",
       "2019-07-05    83.0\n",
       "2019-07-06    79.0\n",
       "2019-07-07    77.0\n",
       "Freq: D, Name: Philadelphia, dtype: float64"
      ]
     },
     "execution_count": 188,
     "metadata": {},
     "output_type": "execute_result"
    }
   ],
   "source": [
    "# likewise we can get just the Philadelphia column\n",
    "print(type(temps_df['Philadelphia']))\n",
    "temps_df['Philadelphia']"
   ]
  },
  {
   "cell_type": "code",
   "execution_count": 189,
   "metadata": {},
   "outputs": [
    {
     "name": "stdout",
     "output_type": "stream",
     "text": [
      "<class 'pandas.core.frame.DataFrame'>\n"
     ]
    }
   ],
   "source": [
    "# return both columns in a different order\n",
    "x = temps_df[['Philadelphia', 'Missoula']]\n",
    "print(type(x))"
   ]
  },
  {
   "cell_type": "code",
   "execution_count": 190,
   "metadata": {},
   "outputs": [
    {
     "name": "stdout",
     "output_type": "stream",
     "text": [
      "<class 'pandas.core.series.Series'>\n"
     ]
    }
   ],
   "source": [
    "x = temps_df['Missoula']\n",
    "print(type(x))"
   ]
  },
  {
   "cell_type": "code",
   "execution_count": 192,
   "metadata": {},
   "outputs": [
    {
     "name": "stdout",
     "output_type": "stream",
     "text": [
      "2019-07-01    80.0\n",
      "2019-07-02    82.0\n",
      "2019-07-03    85.0\n",
      "2019-07-04    90.0\n",
      "2019-07-05    83.0\n",
      "2019-07-06    87.0\n",
      "2019-07-07     NaN\n",
      "Freq: D, Name: Missoula, dtype: float64\n"
     ]
    }
   ],
   "source": [
    "print(temps_df.Missoula)"
   ]
  },
  {
   "cell_type": "code",
   "execution_count": 195,
   "metadata": {},
   "outputs": [
    {
     "name": "stdout",
     "output_type": "stream",
     "text": [
      "85.0\n",
      "###########################################\n",
      "2019-07-03    85.0\n",
      "2019-07-04    90.0\n",
      "2019-07-05    83.0\n",
      "Freq: D, Name: Missoula, dtype: float64\n",
      "###########################################\n",
      "DatetimeIndex(['2019-07-01', '2019-07-02', '2019-07-03', '2019-07-04',\n",
      "               '2019-07-05', '2019-07-06', '2019-07-07'],\n",
      "              dtype='datetime64[ns]', freq='D')\n",
      "<class 'pandas.core.series.Series'>\n"
     ]
    }
   ],
   "source": [
    "print(temps_df.Missoula['2019-07-03'])\n",
    "print(\"###########################################\")\n",
    "print(temps_df.Missoula['2019-07-03':'2019-07-05'])\n",
    "print(\"###########################################\")\n",
    "print(temps_df.Missoula.index)\n",
    "print(type(temps_df.Missoula))\n",
    "s = temps_df.Missoula\n",
    "#print(s[['2019-07-03','2019-07-05'], dtype = 'datetime64[ns]'])"
   ]
  },
  {
   "cell_type": "code",
   "execution_count": 55,
   "metadata": {},
   "outputs": [
    {
     "name": "stdout",
     "output_type": "stream",
     "text": [
      "<class 'pandas.core.series.Series'>\n"
     ]
    },
    {
     "data": {
      "text/plain": [
       "2019-07-01    80.0\n",
       "2019-07-02    82.0\n",
       "2019-07-03    85.0\n",
       "2019-07-04    90.0\n",
       "2019-07-05    83.0\n",
       "2019-07-06    87.0\n",
       "2019-07-07     NaN\n",
       "Freq: D, Name: Missoula, dtype: float64"
      ]
     },
     "execution_count": 55,
     "metadata": {},
     "output_type": "execute_result"
    }
   ],
   "source": [
    "# retrieve the Missoula column through property syntax\n",
    "print(type(temps_df.Missoula))\n",
    "temps_df.Missoula"
   ]
  },
  {
   "cell_type": "code",
   "execution_count": 196,
   "metadata": {},
   "outputs": [
    {
     "data": {
      "text/plain": [
       "2019-07-01     NaN\n",
       "2019-07-02    12.0\n",
       "2019-07-03    10.0\n",
       "2019-07-04    21.0\n",
       "2019-07-05     0.0\n",
       "2019-07-06     8.0\n",
       "2019-07-07     NaN\n",
       "Freq: D, dtype: float64"
      ]
     },
     "execution_count": 196,
     "metadata": {},
     "output_type": "execute_result"
    }
   ],
   "source": [
    "# calculate the temperature difference between the two cities\n",
    "temps_df.Missoula - temps_df.Philadelphia"
   ]
  },
  {
   "cell_type": "code",
   "execution_count": 197,
   "metadata": {
    "scrolled": true
   },
   "outputs": [
    {
     "name": "stdout",
     "output_type": "stream",
     "text": [
      "            Missoula  Philadelphia  Difference  Difference1\n",
      "2019-07-01      80.0           NaN         NaN          NaN\n",
      "2019-07-02      82.0          70.0        12.0         12.0\n",
      "2019-07-03      85.0          75.0        10.0         10.0\n",
      "2019-07-04      90.0          69.0        21.0         21.0\n",
      "2019-07-05      83.0          83.0         0.0          0.0\n",
      "2019-07-06      87.0          79.0         8.0          8.0\n",
      "2019-07-07       NaN          77.0         NaN          NaN\n",
      "DatetimeIndex(['2019-07-01', '2019-07-02', '2019-07-03', '2019-07-04',\n",
      "               '2019-07-05', '2019-07-06', '2019-07-07'],\n",
      "              dtype='datetime64[ns]', freq='D')\n"
     ]
    }
   ],
   "source": [
    "# add a column to temp_df which contains the difference in temps\n",
    "temps_df['Difference'] = temp_diffs\n",
    "temps_df['Difference1'] = temps_df.Missoula - temps_df.Philadelphia\n",
    "print(temps_df)\n",
    "print(temps_df.index)"
   ]
  },
  {
   "cell_type": "code",
   "execution_count": 198,
   "metadata": {},
   "outputs": [
    {
     "data": {
      "text/plain": [
       "Index(['Missoula', 'Philadelphia', 'Difference', 'Difference1'], dtype='object')"
      ]
     },
     "execution_count": 198,
     "metadata": {},
     "output_type": "execute_result"
    }
   ],
   "source": [
    "# get the columns, which is also an Index object\n",
    "temps_df.columns"
   ]
  },
  {
   "cell_type": "code",
   "execution_count": 199,
   "metadata": {},
   "outputs": [
    {
     "data": {
      "text/plain": [
       "2019-07-02    12.0\n",
       "2019-07-03    10.0\n",
       "2019-07-04    21.0\n",
       "2019-07-05     0.0\n",
       "2019-07-06     8.0\n",
       "Freq: D, Name: Difference, dtype: float64"
      ]
     },
     "execution_count": 199,
     "metadata": {},
     "output_type": "execute_result"
    }
   ],
   "source": [
    "# slice the temp differences column for the rows at \n",
    "# location 1 through 4 (as though it is an array)\n",
    "temps_df.Difference[1:6]"
   ]
  },
  {
   "cell_type": "code",
   "execution_count": 202,
   "metadata": {},
   "outputs": [
    {
     "name": "stdout",
     "output_type": "stream",
     "text": [
      "<class 'pandas.core.series.Series'>\n"
     ]
    },
    {
     "data": {
      "text/plain": [
       "Missoula         NaN\n",
       "Philadelphia    77.0\n",
       "Difference       NaN\n",
       "Difference1      NaN\n",
       "Name: 2019-07-07 00:00:00, dtype: float64"
      ]
     },
     "execution_count": 202,
     "metadata": {},
     "output_type": "execute_result"
    }
   ],
   "source": [
    "# get the row at array position 1\n",
    "print(type(temps_df.iloc[6]))\n",
    "temps_df.iloc[6]\n"
   ]
  },
  {
   "cell_type": "code",
   "execution_count": 203,
   "metadata": {},
   "outputs": [
    {
     "name": "stdout",
     "output_type": "stream",
     "text": [
      "<class 'pandas.core.frame.DataFrame'>\n"
     ]
    },
    {
     "data": {
      "text/plain": [
       "            Missoula  Philadelphia  Difference  Difference1\n",
       "2019-07-02      82.0          70.0        12.0         12.0\n",
       "2019-07-03      85.0          75.0        10.0         10.0\n",
       "2019-07-04      90.0          69.0        21.0         21.0\n",
       "2019-07-05      83.0          83.0         0.0          0.0\n",
       "2019-07-06      87.0          79.0         8.0          8.0"
      ]
     },
     "execution_count": 203,
     "metadata": {},
     "output_type": "execute_result"
    }
   ],
   "source": [
    "# get the row at array position 1\n",
    "print(type(temps_df.iloc[1:6]))\n",
    "temps_df.iloc[1:6]"
   ]
  },
  {
   "cell_type": "code",
   "execution_count": 206,
   "metadata": {},
   "outputs": [
    {
     "data": {
      "text/plain": [
       "            Missoula  Philadelphia  Difference  Difference1\n",
       "2019-07-02      82.0          70.0        12.0         12.0\n",
       "2019-07-04      90.0          69.0        21.0         21.0"
      ]
     },
     "execution_count": 206,
     "metadata": {},
     "output_type": "execute_result"
    }
   ],
   "source": [
    "temps_df.iloc[1:5:2]"
   ]
  },
  {
   "cell_type": "code",
   "execution_count": 207,
   "metadata": {},
   "outputs": [
    {
     "name": "stdout",
     "output_type": "stream",
     "text": [
      "            Missoula  Philadelphia  Difference  Difference1\n",
      "2019-07-01      80.0           NaN         NaN          NaN\n",
      "2019-07-02      82.0          70.0        12.0         12.0\n",
      "2019-07-03      85.0          75.0        10.0         10.0\n",
      "2019-07-04      90.0          69.0        21.0         21.0\n",
      "2019-07-05      83.0          83.0         0.0          0.0\n",
      "2019-07-06      87.0          79.0         8.0          8.0\n",
      "2019-07-07       NaN          77.0         NaN          NaN\n"
     ]
    },
    {
     "name": "stderr",
     "output_type": "stream",
     "text": [
      "c:\\python373\\lib\\site-packages\\ipykernel_launcher.py:4: DeprecationWarning: \n",
      ".ix is deprecated. Please use\n",
      ".loc for label based indexing or\n",
      ".iloc for positional indexing\n",
      "\n",
      "See the documentation here:\n",
      "http://pandas.pydata.org/pandas-docs/stable/indexing.html#ix-indexer-is-deprecated\n",
      "  after removing the cwd from sys.path.\n"
     ]
    },
    {
     "data": {
      "text/plain": [
       "            Missoula  Philadelphia  Difference  Difference1\n",
       "2019-07-02      82.0          70.0        12.0         12.0\n",
       "2019-07-05      83.0          83.0         0.0          0.0"
      ]
     },
     "execution_count": 207,
     "metadata": {},
     "output_type": "execute_result"
    }
   ],
   "source": [
    "# the names of the columns have become the index\n",
    "# they have been 'pivoted'\n",
    "print(temps_df)\n",
    "temps_df.ix[1:5:3]"
   ]
  },
  {
   "cell_type": "code",
   "execution_count": 214,
   "metadata": {},
   "outputs": [
    {
     "data": {
      "text/plain": [
       "Missoula        85.0\n",
       "Philadelphia    75.0\n",
       "Difference      10.0\n",
       "Difference1     10.0\n",
       "Name: 2019-07-03 00:00:00, dtype: float64"
      ]
     },
     "execution_count": 214,
     "metadata": {},
     "output_type": "execute_result"
    }
   ],
   "source": [
    "# retrieve row by index label using .loc\n",
    "temps_df.loc['2019-07-03']\n",
    "#temps_df.loc['2019-07-03','2019-07-05']"
   ]
  },
  {
   "cell_type": "code",
   "execution_count": 89,
   "metadata": {},
   "outputs": [
    {
     "data": {
      "text/plain": [
       "            Missoula  Philadelphia  Difference  Difference1\n",
       "2014-07-01      80.0           NaN         NaN          NaN\n",
       "2014-07-02      82.0          70.0        12.0         12.0\n",
       "2014-07-03      85.0          75.0        10.0         10.0\n",
       "2014-07-04      90.0          69.0        21.0         21.0\n",
       "2014-07-05      83.0          83.0         0.0          0.0\n",
       "2014-07-06      87.0          79.0         8.0          8.0\n",
       "2014-07-07       NaN          77.0         NaN          NaN"
      ]
     },
     "execution_count": 89,
     "metadata": {},
     "output_type": "execute_result"
    }
   ],
   "source": [
    "temps_df"
   ]
  },
  {
   "cell_type": "code",
   "execution_count": 215,
   "metadata": {},
   "outputs": [
    {
     "data": {
      "text/plain": [
       "2019-07-02    12.0\n",
       "2019-07-04    21.0\n",
       "2019-07-06     8.0\n",
       "Name: Difference, dtype: float64"
      ]
     },
     "execution_count": 215,
     "metadata": {},
     "output_type": "execute_result"
    }
   ],
   "source": [
    "temps_df.Difference[[1,3,5]]"
   ]
  },
  {
   "cell_type": "code",
   "execution_count": 218,
   "metadata": {
    "scrolled": true
   },
   "outputs": [
    {
     "data": {
      "text/plain": [
       "2019-07-02    12.0\n",
       "2019-07-04    21.0\n",
       "2019-07-06     8.0\n",
       "Freq: 2D, Name: Difference, dtype: float64"
      ]
     },
     "execution_count": 218,
     "metadata": {},
     "output_type": "execute_result"
    }
   ],
   "source": [
    "# get the values in the Differences column in tows 1, 3 and 5\n",
    "# using 0-based location\n",
    "temps_df.iloc[[1, 3, 5]].Difference"
   ]
  },
  {
   "cell_type": "code",
   "execution_count": 219,
   "metadata": {},
   "outputs": [
    {
     "data": {
      "text/plain": [
       "            Missoula  Philadelphia  Difference  Difference1\n",
       "2019-07-01     False         False       False        False\n",
       "2019-07-02     False         False       False        False\n",
       "2019-07-03      True         False       False        False\n",
       "2019-07-04      True         False       False        False\n",
       "2019-07-05      True          True       False        False\n",
       "2019-07-06      True         False       False        False\n",
       "2019-07-07     False         False       False        False"
      ]
     },
     "execution_count": 219,
     "metadata": {},
     "output_type": "execute_result"
    }
   ],
   "source": [
    "temps_df>82"
   ]
  },
  {
   "cell_type": "code",
   "execution_count": 220,
   "metadata": {},
   "outputs": [
    {
     "data": {
      "text/plain": [
       "            Missoula  Philadelphia  Difference  Difference1\n",
       "2019-07-01      80.0           NaN         NaN          NaN\n",
       "2019-07-02      82.0          70.0        12.0         12.0\n",
       "2019-07-03      85.0          75.0         NaN          NaN\n",
       "2019-07-04      90.0          69.0        21.0         21.0\n",
       "2019-07-05      83.0          83.0         NaN          NaN\n",
       "2019-07-06      87.0          79.0         NaN          NaN\n",
       "2019-07-07       NaN          77.0         NaN          NaN"
      ]
     },
     "execution_count": 220,
     "metadata": {},
     "output_type": "execute_result"
    }
   ],
   "source": [
    "temps_df[temps_df>10]"
   ]
  },
  {
   "cell_type": "code",
   "execution_count": 221,
   "metadata": {},
   "outputs": [
    {
     "data": {
      "text/plain": [
       "2019-07-01    False\n",
       "2019-07-02    False\n",
       "2019-07-03     True\n",
       "2019-07-04     True\n",
       "2019-07-05     True\n",
       "2019-07-06     True\n",
       "2019-07-07    False\n",
       "Freq: D, Name: Missoula, dtype: bool"
      ]
     },
     "execution_count": 221,
     "metadata": {},
     "output_type": "execute_result"
    }
   ],
   "source": [
    "# which values in the Missoula column are > 82?\n",
    "temps_df.Missoula > 82"
   ]
  },
  {
   "cell_type": "code",
   "execution_count": 222,
   "metadata": {},
   "outputs": [
    {
     "data": {
      "text/plain": [
       "            Missoula  Philadelphia  Difference  Difference1\n",
       "2019-07-03      85.0          75.0        10.0         10.0\n",
       "2019-07-04      90.0          69.0        21.0         21.0\n",
       "2019-07-05      83.0          83.0         0.0          0.0\n",
       "2019-07-06      87.0          79.0         8.0          8.0"
      ]
     },
     "execution_count": 222,
     "metadata": {},
     "output_type": "execute_result"
    }
   ],
   "source": [
    "# return the rows where the temps for Missoula > 82\n",
    "temps_df[temps_df.Missoula > 82]"
   ]
  },
  {
   "cell_type": "code",
   "execution_count": 96,
   "metadata": {},
   "outputs": [
    {
     "data": {
      "text/plain": [
       "            Missoula  Philadelphia  Difference  Difference1\n",
       "2014-07-01      80.0           NaN         NaN          NaN\n",
       "2014-07-02      82.0          70.0        12.0         12.0\n",
       "2014-07-03      85.0          75.0        10.0         10.0\n",
       "2014-07-04      90.0          69.0        21.0         21.0\n",
       "2014-07-05      83.0          83.0         0.0          0.0"
      ]
     },
     "execution_count": 96,
     "metadata": {},
     "output_type": "execute_result"
    }
   ],
   "source": [
    "###### provides default 5 values from top\n",
    "temps_df.head()"
   ]
  },
  {
   "cell_type": "code",
   "execution_count": 225,
   "metadata": {},
   "outputs": [
    {
     "data": {
      "text/plain": [
       "            Missoula  Philadelphia  Difference  Difference1\n",
       "2019-07-01      80.0           NaN         NaN          NaN\n",
       "2019-07-02      82.0          70.0        12.0         12.0\n",
       "2019-07-03      85.0          75.0        10.0         10.0\n",
       "2019-07-04      90.0          69.0        21.0         21.0\n",
       "2019-07-05      83.0          83.0         0.0          0.0\n",
       "2019-07-06      87.0          79.0         8.0          8.0"
      ]
     },
     "execution_count": 225,
     "metadata": {},
     "output_type": "execute_result"
    }
   ],
   "source": [
    "###### provides default 5 values from top\n",
    "temps_df.head(6)"
   ]
  },
  {
   "cell_type": "code",
   "execution_count": 228,
   "metadata": {},
   "outputs": [
    {
     "data": {
      "text/plain": [
       "            Missoula  Philadelphia  Difference  Difference1\n",
       "2019-07-04      90.0          69.0        21.0         21.0\n",
       "2019-07-05      83.0          83.0         0.0          0.0\n",
       "2019-07-06      87.0          79.0         8.0          8.0\n",
       "2019-07-07       NaN          77.0         NaN          NaN"
      ]
     },
     "execution_count": 228,
     "metadata": {},
     "output_type": "execute_result"
    }
   ],
   "source": [
    "###### provides default 6 values from top\n",
    "temps_df.tail(4)"
   ]
  },
  {
   "cell_type": "markdown",
   "metadata": {},
   "source": [
    "# Loading data from files and the web into a DataFrame"
   ]
  },
  {
   "cell_type": "code",
   "execution_count": 229,
   "metadata": {},
   "outputs": [
    {
     "name": "stderr",
     "output_type": "stream",
     "text": [
      "'cat' is not recognized as an internal or external command,\n",
      "operable program or batch file.\n"
     ]
    }
   ],
   "source": [
    "# display the contents of test1.csv\n",
    "# which command to use depends on your OS\n",
    "!cat data/test1.csv # on non-windows systems\n",
    "#!type data/test1.csv # on windows systems"
   ]
  },
  {
   "cell_type": "markdown",
   "metadata": {},
   "source": [
    "###### Accessing Data"
   ]
  },
  {
   "cell_type": "code",
   "execution_count": 231,
   "metadata": {},
   "outputs": [
    {
     "name": "stdout",
     "output_type": "stream",
     "text": [
      "Empty DataFrame\n",
      "Columns: [\"CRIM\",\"ZN\",\"INDUS\",\"CHAS\",\"NOX\",\"RM\",\"AGE\",\"DIS\",\"RAD\",\"TAX\",\"PTRATIO\",\"B\",\"LSTAT\",\"MEDV\"]\n",
      "Index: []\n"
     ]
    }
   ],
   "source": [
    "x = pd.read_clipboard()\n",
    "print(x)"
   ]
  },
  {
   "cell_type": "code",
   "execution_count": 232,
   "metadata": {},
   "outputs": [
    {
     "data": {
      "text/plain": [
       "                  date         0         1         2\n",
       "0  2000-01-01 00:00:00  1.103763 -1.909979 -0.808956\n",
       "1  2000-01-02 00:00:00  1.188917  0.581120  0.861597\n",
       "2  2000-01-03 00:00:00 -0.964200  0.779764  1.829062\n",
       "3  2000-01-04 00:00:00  0.782130 -1.720670 -1.108242\n",
       "4  2000-01-05 00:00:00 -1.867017 -0.528368 -2.488309\n",
       "5  2000-01-06 00:00:00  2.569280 -0.471901 -0.835033\n",
       "6  2000-01-07 00:00:00 -0.399323 -0.676427 -0.011256\n",
       "7  2000-01-08 00:00:00  1.642993  1.013420  1.435667\n",
       "8  2000-01-09 00:00:00  1.147308  2.138000  0.554171\n",
       "9  2000-01-10 00:00:00  0.933766  1.387155 -0.560143"
      ]
     },
     "execution_count": 232,
     "metadata": {},
     "output_type": "execute_result"
    }
   ],
   "source": [
    "# read the contents of the file into a DataFrame\n",
    "df = pd.read_csv('test1.csv')\n",
    "df"
   ]
  },
  {
   "cell_type": "code",
   "execution_count": 234,
   "metadata": {},
   "outputs": [
    {
     "data": {
      "text/plain": [
       "Index(['date', '0', '1', '2'], dtype='object')"
      ]
     },
     "execution_count": 234,
     "metadata": {},
     "output_type": "execute_result"
    }
   ],
   "source": [
    "df.columns"
   ]
  },
  {
   "cell_type": "code",
   "execution_count": 241,
   "metadata": {},
   "outputs": [
    {
     "data": {
      "text/plain": [
       "        date         0         2\n",
       "0 2000-01-01  1.103763 -0.808956\n",
       "1 2000-01-02  1.188917  0.861597\n",
       "2 2000-01-03 -0.964200  1.829062\n",
       "3 2000-01-04  0.782130 -1.108242\n",
       "4 2000-01-05 -1.867017 -2.488309\n",
       "5 2000-01-06  2.569280 -0.835033\n",
       "6 2000-01-07 -0.399323 -0.011256\n",
       "7 2000-01-08  1.642993  1.435667\n",
       "8 2000-01-09  1.147308  0.554171\n",
       "9 2000-01-10  0.933766 -0.560143"
      ]
     },
     "execution_count": 241,
     "metadata": {},
     "output_type": "execute_result"
    }
   ],
   "source": [
    "# the contents of the date column\n",
    "df[[\"date\",\"0\",\"2\"]]"
   ]
  },
  {
   "cell_type": "code",
   "execution_count": 236,
   "metadata": {},
   "outputs": [
    {
     "data": {
      "text/plain": [
       "'2000-01-01 00:00:00'"
      ]
     },
     "execution_count": 236,
     "metadata": {},
     "output_type": "execute_result"
    }
   ],
   "source": [
    "# we can get the first value in the date column\n",
    "df.date[0]"
   ]
  },
  {
   "cell_type": "code",
   "execution_count": 242,
   "metadata": {},
   "outputs": [
    {
     "data": {
      "text/plain": [
       "pandas._libs.tslibs.timestamps.Timestamp"
      ]
     },
     "execution_count": 242,
     "metadata": {},
     "output_type": "execute_result"
    }
   ],
   "source": [
    "# it is a string\n",
    "type(df.date[0])"
   ]
  },
  {
   "cell_type": "code",
   "execution_count": 238,
   "metadata": {},
   "outputs": [
    {
     "data": {
      "text/plain": [
       "pandas.core.series.Series"
      ]
     },
     "execution_count": 238,
     "metadata": {},
     "output_type": "execute_result"
    }
   ],
   "source": [
    "type(df.date)"
   ]
  },
  {
   "cell_type": "code",
   "execution_count": 239,
   "metadata": {},
   "outputs": [
    {
     "data": {
      "text/plain": [
       "        date         0         1         2\n",
       "0 2000-01-01  1.103763 -1.909979 -0.808956\n",
       "1 2000-01-02  1.188917  0.581120  0.861597\n",
       "2 2000-01-03 -0.964200  0.779764  1.829062\n",
       "3 2000-01-04  0.782130 -1.720670 -1.108242\n",
       "4 2000-01-05 -1.867017 -0.528368 -2.488309\n",
       "5 2000-01-06  2.569280 -0.471901 -0.835033\n",
       "6 2000-01-07 -0.399323 -0.676427 -0.011256\n",
       "7 2000-01-08  1.642993  1.013420  1.435667\n",
       "8 2000-01-09  1.147308  2.138000  0.554171\n",
       "9 2000-01-10  0.933766  1.387155 -0.560143"
      ]
     },
     "execution_count": 239,
     "metadata": {},
     "output_type": "execute_result"
    }
   ],
   "source": [
    "# read the data and tell pandas the date column should be \n",
    "# a date in the resulting DataFrame\n",
    "df = pd.read_csv('test1.csv', parse_dates=['date'])\n",
    "df"
   ]
  },
  {
   "cell_type": "code",
   "execution_count": 243,
   "metadata": {},
   "outputs": [
    {
     "data": {
      "text/plain": [
       "RangeIndex(start=0, stop=10, step=1)"
      ]
     },
     "execution_count": 243,
     "metadata": {},
     "output_type": "execute_result"
    }
   ],
   "source": [
    "df.index"
   ]
  },
  {
   "cell_type": "code",
   "execution_count": 244,
   "metadata": {},
   "outputs": [
    {
     "data": {
      "text/plain": [
       "pandas._libs.tslibs.timestamps.Timestamp"
      ]
     },
     "execution_count": 244,
     "metadata": {},
     "output_type": "execute_result"
    }
   ],
   "source": [
    "# verify the type now is date\n",
    "# in pandas, this is actually a Timestamp\n",
    "type(df.date[0])"
   ]
  },
  {
   "cell_type": "code",
   "execution_count": 245,
   "metadata": {},
   "outputs": [
    {
     "data": {
      "text/plain": [
       "RangeIndex(start=0, stop=10, step=1)"
      ]
     },
     "execution_count": 245,
     "metadata": {},
     "output_type": "execute_result"
    }
   ],
   "source": [
    "# unfortunately the index is numeric which makes\n",
    "# accessing data by date more complicated\n",
    "df.index"
   ]
  },
  {
   "cell_type": "code",
   "execution_count": 248,
   "metadata": {},
   "outputs": [
    {
     "name": "stdout",
     "output_type": "stream",
     "text": [
      "DatetimeIndex(['2000-01-01', '2000-01-02', '2000-01-03', '2000-01-04',\n",
      "               '2000-01-05', '2000-01-06', '2000-01-07', '2000-01-08',\n",
      "               '2000-01-09', '2000-01-10'],\n",
      "              dtype='datetime64[ns]', name='date', freq=None)\n"
     ]
    }
   ],
   "source": [
    "# read in again, now specity the data column as being the \n",
    "# index of the resulting DataFrame\n",
    "df = pd.read_csv('test1.csv', parse_dates=['date'], index_col='date')\n",
    "df\n",
    "print(df.index)"
   ]
  },
  {
   "cell_type": "code",
   "execution_count": 25,
   "metadata": {},
   "outputs": [
    {
     "data": {
      "text/plain": [
       "DatetimeIndex(['2000-01-01', '2000-01-02', '2000-01-03', '2000-01-04',\n",
       "               '2000-01-05', '2000-01-06', '2000-01-07', '2000-01-08',\n",
       "               '2000-01-09', '2000-01-10'],\n",
       "              dtype='datetime64[ns]', name='date', freq=None)"
      ]
     },
     "execution_count": 25,
     "metadata": {},
     "output_type": "execute_result"
    }
   ],
   "source": [
    "# and the index is now a DatetimeIndex\n",
    "df.index"
   ]
  },
  {
   "cell_type": "code",
   "execution_count": 249,
   "metadata": {},
   "outputs": [
    {
     "ename": "ModuleNotFoundError",
     "evalue": "No module named 'pandas.io.data'",
     "output_type": "error",
     "traceback": [
      "\u001b[1;31m---------------------------------------------------------------------------\u001b[0m",
      "\u001b[1;31mModuleNotFoundError\u001b[0m                       Traceback (most recent call last)",
      "\u001b[1;32m<ipython-input-249-dd491228d631>\u001b[0m in \u001b[0;36m<module>\u001b[1;34m\u001b[0m\n\u001b[0;32m      1\u001b[0m \u001b[1;31m# imports for reading data from Yahoo!\u001b[0m\u001b[1;33m\u001b[0m\u001b[1;33m\u001b[0m\u001b[1;33m\u001b[0m\u001b[0m\n\u001b[1;32m----> 2\u001b[1;33m \u001b[1;32mfrom\u001b[0m \u001b[0mpandas\u001b[0m\u001b[1;33m.\u001b[0m\u001b[0mio\u001b[0m\u001b[1;33m.\u001b[0m\u001b[0mdata\u001b[0m \u001b[1;32mimport\u001b[0m \u001b[0mDataReader\u001b[0m\u001b[1;33m\u001b[0m\u001b[1;33m\u001b[0m\u001b[0m\n\u001b[0m\u001b[0;32m      3\u001b[0m \u001b[1;32mfrom\u001b[0m \u001b[0mdatetime\u001b[0m \u001b[1;32mimport\u001b[0m \u001b[0mdate\u001b[0m\u001b[1;33m\u001b[0m\u001b[1;33m\u001b[0m\u001b[0m\n\u001b[0;32m      4\u001b[0m \u001b[1;32mfrom\u001b[0m \u001b[0mdateutil\u001b[0m\u001b[1;33m.\u001b[0m\u001b[0mrelativedelta\u001b[0m \u001b[1;32mimport\u001b[0m \u001b[0mrelativedelta\u001b[0m\u001b[1;33m\u001b[0m\u001b[1;33m\u001b[0m\u001b[0m\n\u001b[0;32m      5\u001b[0m \u001b[1;33m\u001b[0m\u001b[0m\n",
      "\u001b[1;31mModuleNotFoundError\u001b[0m: No module named 'pandas.io.data'"
     ]
    }
   ],
   "source": [
    "# imports for reading data from Yahoo!\n",
    "from pandas.io.data import DataReader\n",
    "from datetime import date\n",
    "from dateutil.relativedelta import relativedelta\n",
    "\n",
    "# read the last three months of data for GOOG\n",
    "goog = DataReader(\"GOOG\", date.today() + relativedelta(months=-3))\n",
    "\n",
    "# the result is a DataFrame\n",
    "#and this gives us the 5 most recent prices\n",
    "goog.tail()"
   ]
  },
  {
   "cell_type": "code",
   "execution_count": 250,
   "metadata": {},
   "outputs": [
    {
     "name": "stdout",
     "output_type": "stream",
     "text": [
      "             Date   High    Low  Close   Volume  Adj Close\n",
      "Open                                                      \n",
      "83.46  2014-07-21  83.53  81.81  81.93  2359300      81.93\n",
      "83.46  2014-07-18  83.40  82.52  83.35  4020800      83.35\n",
      "84.35  2014-07-17  84.63  83.33  83.63  1974000      83.63\n",
      "83.77  2014-07-16  84.91  83.66  84.91  1755600      84.91\n",
      "84.30  2014-07-15  84.38  83.20  83.58  1874700      83.58\n",
      "83.66  2014-07-14  84.64  83.11  84.40  1432100      84.40\n",
      "83.55  2014-07-11  83.98  82.85  83.35  2001400      83.35\n",
      "85.20  2014-07-10  85.57  83.36  83.42  2713300      83.42\n",
      "84.83  2014-07-09  85.79  84.76  85.50  1540700      85.50\n",
      "86.29  2014-07-08  86.57  84.69  84.69  2164000      84.69\n",
      "86.97  2014-07-07  87.13  85.82  86.07  1644600      86.07\n",
      "87.22  2014-07-04  87.54  87.05  87.05  1392600      87.05\n",
      "86.02  2014-07-03  87.42  85.88  87.14  1985800      87.14\n",
      "85.68  2014-07-02  85.91  85.37  85.84  1490000      85.84\n",
      "85.28  2014-07-01  85.43  84.73  85.36  1507400      85.36\n",
      "84.93  2014-06-30  85.76  84.70  85.03  2713200      85.03\n",
      "84.76  2014-06-27  85.31  84.32  84.64  2156600      84.64\n",
      "86.50  2014-06-26  86.50  84.73  85.00  2161200      85.00\n",
      "86.22  2014-06-25  86.74  85.96  86.02  2359500      86.02\n",
      "87.12  2014-06-24  87.21  86.17  86.52  2162700      86.52\n",
      "87.50  2014-06-23  87.59  86.54  86.78  1906700      86.78\n",
      "87.20  2014-06-20  88.28  86.85  87.36  8315300      87.36\n",
      "86.90  2014-06-19  87.57  86.67  87.03  2349800      87.03\n",
      "86.16  2014-06-18  86.66  86.00  86.02  1702700      86.02\n",
      "85.39  2014-06-17  86.19  85.30  86.11  1731700      86.11\n",
      "85.17  2014-06-16  85.72  85.02  85.17  1692400      85.17\n",
      "85.90  2014-06-13  85.96  84.93  85.50  1855100      85.50\n",
      "85.71  2014-06-12  86.35  85.55  86.20  2643800      86.20\n",
      "85.69  2014-06-11  86.23  85.38  85.71  1837100      85.71\n",
      "86.12  2014-06-10  86.15  85.56  85.87  2062500      85.87\n",
      "86.00  2014-06-09  86.24  85.65  86.10  1076500      86.10\n",
      "85.43  2014-06-06  85.94  84.88  85.86  2142700      85.86\n",
      "85.01  2014-06-05  85.95  84.56  85.43  2921800      85.43\n",
      "84.89  2014-06-04  85.35  84.67  85.09  2180100      85.09\n",
      "84.68  2014-06-03  84.86  84.10  84.86  1629800      84.86\n",
      "84.89  2014-06-02  85.00  84.26  84.50  1425800      84.50\n",
      "84.90  2014-05-30  84.95  84.13  84.47  1815800      84.47\n",
      "84.66  2014-05-29  84.88  84.25  84.73   994100      84.73\n",
      "84.44  2014-05-28  84.81  84.08  84.81  1837000      84.81\n",
      "83.60  2014-05-27  84.45  83.36  84.44  2097000      84.44\n",
      "83.65  2014-05-26  83.95  83.31  83.77  1320000      83.77\n",
      "83.20  2014-05-23  83.23  82.49  83.08  1596900      83.08\n",
      "83.05  2014-05-22  83.26  82.61  83.00  1382100      83.00\n",
      "82.15  2014-05-21  83.09  81.60  82.97  1762600      82.97\n",
      "81.75  2014-05-20  82.51  81.75  82.43  1833800      82.43\n",
      "82.41  2014-05-19  82.82  81.60  82.78  2242600      82.78\n",
      "82.87  2014-05-16  83.03  81.88  82.33  3008600      82.33\n",
      "83.80  2014-05-15  84.43  82.74  83.17  2809900      83.17\n",
      "83.51  2014-05-14  84.01  83.02  83.69  1977100      83.69\n",
      "83.87  2014-05-13  84.30  83.29  83.49  2436100      83.49\n",
      "...           ...    ...    ...    ...      ...        ...\n",
      "45.40  2000-03-10  46.70  45.26  46.20  2546600      18.00\n",
      "45.85  2000-03-09  46.45  45.30  45.79  3569400      17.84\n",
      "45.95  2000-03-08  46.08  45.01  45.65  3783500      17.79\n",
      "46.00  2000-03-07  46.24  44.33  44.80  3693800      17.46\n",
      "45.80  2000-03-06  46.46  44.90  46.25  3349700      18.02\n",
      "46.60  2000-03-03  46.80  44.98  45.41  2600100      17.69\n",
      "46.25  2000-03-02  46.90  44.78  46.90  3471200      18.28\n",
      "47.20  2000-03-01  48.39  44.75  46.20  5935100      18.00\n",
      "47.50  2000-02-29  48.45  45.95  47.90  3165100      18.67\n",
      "44.60  2000-02-28  47.55  43.95  46.90  3393000      18.28\n",
      "46.00  2000-02-25  46.00  44.60  45.16  2533500      17.60\n",
      "47.65  2000-02-24  47.65  45.10  45.90  2818000      17.89\n",
      "46.55  2000-02-23  48.20  46.55  47.14  3523500      18.37\n",
      "46.21  2000-02-22  46.80  45.52  46.50  3450000      18.12\n",
      "46.60  2000-02-21  47.10  45.80  47.00  2155500      18.31\n",
      "46.99  2000-02-18  48.09  46.71  47.40  5644000      18.47\n",
      "44.39  2000-02-17  46.89  44.10  46.50  5374400      18.12\n",
      "42.00  2000-02-16  43.99  41.82  43.99  4771700      17.14\n",
      "43.45  2000-02-15  43.65  40.99  40.99  3644300      15.97\n",
      "43.75  2000-02-14  44.95  42.60  43.20  2983300      16.83\n",
      "44.00  2000-02-11  45.45  43.05  44.13  5987800      17.20\n",
      "42.80  2000-02-10  44.00  42.10  44.00  3617800      17.15\n",
      "43.50  2000-02-09  45.40  42.92  43.10  4573700      16.79\n",
      "42.15  2000-02-08  43.28  41.75  43.05  4316300      16.78\n",
      "42.80  2000-02-07  42.90  41.22  41.75  3709400      16.27\n",
      "43.87  2000-02-04  44.47  42.31  43.07  3334600      16.78\n",
      "44.99  2000-02-03  46.19  43.41  43.65  5097100      17.01\n",
      "42.99  2000-02-02  45.00  42.26  45.00  4979400      17.54\n",
      "44.77  2000-02-01  44.77  41.81  42.02  5474200      16.37\n",
      "44.90  2000-01-31  44.90  43.51  44.05  3176400      17.16\n",
      "44.85  2000-01-28  45.97  43.93  45.25  2828300      17.63\n",
      "44.02  2000-01-27  44.99  43.32  44.55  4552100      17.36\n",
      "45.80  2000-01-26  46.17  43.50  44.02  4562200      17.15\n",
      "46.75  2000-01-25  46.80  45.25  45.25  3323200      17.63\n",
      "48.10  2000-01-24  48.35  46.81  47.18  1889000      18.38\n",
      "48.80  2000-01-21  49.15  47.50  48.05  3534900      18.72\n",
      "49.90  2000-01-20  50.00  48.83  49.40  2205100      19.25\n",
      "47.65  2000-01-19  49.97  47.62  49.84  4004400      19.42\n",
      "47.93  2000-01-18  48.48  47.40  47.95  2739100      18.68\n",
      "47.60  2000-01-17  48.63  47.60  47.87  2656800      18.65\n",
      "47.89  2000-01-14  48.48  47.40  47.50  2784500      18.51\n",
      "47.85  2000-01-13  48.60  46.90  47.50  2482900      18.51\n",
      "47.75  2000-01-12  48.40  47.26  48.00  2351400      18.70\n",
      "50.05  2000-01-11  50.05  47.75  47.99  4773000      18.70\n",
      "51.10  2000-01-10  51.24  49.60  50.22  2576000      19.57\n",
      "48.55  2000-01-07  50.35  47.80  50.00  4621200      19.48\n",
      "46.78  2000-01-06  48.35  46.28  48.03  3306100      18.72\n",
      "46.94  2000-01-05  47.50  45.92  46.75  4809900      18.22\n",
      "49.80  2000-01-04  49.80  47.72  47.85  4489500      18.65\n",
      "52.70  2000-01-03  53.20  49.60  49.75  3137300      19.39\n",
      "\n",
      "[3767 rows x 6 columns]\n"
     ]
    }
   ],
   "source": [
    "# use column 0 as the index\n",
    "msft = pd.read_csv(\"msft.csv\", index_col=1)\n",
    "print(msft)"
   ]
  },
  {
   "cell_type": "code",
   "execution_count": 251,
   "metadata": {},
   "outputs": [
    {
     "data": {
      "text/plain": [
       "Date          object\n",
       "High         float64\n",
       "Low          float64\n",
       "Close        float64\n",
       "Volume         int64\n",
       "Adj Close    float64\n",
       "dtype: object"
      ]
     },
     "execution_count": 251,
     "metadata": {},
     "output_type": "execute_result"
    }
   ],
   "source": [
    "# examine the types of the columns in this DataFrame\n",
    "msft.dtypes"
   ]
  },
  {
   "cell_type": "code",
   "execution_count": 36,
   "metadata": {},
   "outputs": [
    {
     "data": {
      "text/plain": [
       "Date          object\n",
       "Open         float64\n",
       "High         float64\n",
       "Low           object\n",
       "Close        float64\n",
       "Volume       float64\n",
       "Adj Close    float64\n",
       "dtype: object"
      ]
     },
     "execution_count": 36,
     "metadata": {},
     "output_type": "execute_result"
    }
   ],
   "source": [
    "# specify that the Volume column should be a float64\n",
    "msft = pd.read_csv(\"msft.csv\", \n",
    "                   dtype = { 'Volume' : np.float64, 'Low': object})\n",
    "msft.dtypes\n"
   ]
  },
  {
   "cell_type": "code",
   "execution_count": 255,
   "metadata": {},
   "outputs": [
    {
     "name": "stdout",
     "output_type": "stream",
     "text": [
      "Date          object\n",
      "Open         float64\n",
      "High          object\n",
      "Low          float64\n",
      "Close        float64\n",
      "Volume       float64\n",
      "Adj Close    float64\n",
      "dtype: object\n",
      "################################################\n",
      "Date          object\n",
      "Open         float64\n",
      "High          object\n",
      "Low           object\n",
      "Close        float64\n",
      "Volume       float64\n",
      "Adj Close    float64\n",
      "dtype: object\n"
     ]
    },
    {
     "data": {
      "text/plain": [
       "          Date   Open   High    Low  Close     Volume  Adj Close\n",
       "0   2014-07-21  83.46  83.53  83.53  81.93  2359300.0      81.93\n",
       "1   2014-07-18  83.46  83.40  83.40  83.35  4020800.0      83.35\n",
       "2   2014-07-17  84.35  84.63  84.63  83.63  1974000.0      83.63\n",
       "3   2014-07-16  83.77  84.91  84.91  84.91  1755600.0      84.91\n",
       "4   2014-07-15  84.30  84.38  84.38  83.58  1874700.0      83.58\n",
       "5   2014-07-14  83.66  84.64  84.64  84.40  1432100.0      84.40\n",
       "6   2014-07-11  83.55  83.98  83.98  83.35  2001400.0      83.35\n",
       "7   2014-07-10  85.20  85.57  85.57  83.42  2713300.0      83.42\n",
       "8   2014-07-09  84.83  85.79  85.79  85.50  1540700.0      85.50\n",
       "9   2014-07-08  86.29  86.57  86.57  84.69  2164000.0      84.69\n",
       "10  2014-07-07  86.97  87.13  87.13  86.07  1644600.0      86.07\n",
       "11  2014-07-04  87.22  87.54  87.54  87.05  1392600.0      87.05\n",
       "12  2014-07-03  86.02  87.42  87.42  87.14  1985800.0      87.14\n",
       "13  2014-07-02  85.68  85.91  85.91  85.84  1490000.0      85.84\n",
       "14  2014-07-01  85.28  85.43  85.43  85.36  1507400.0      85.36\n",
       "15  2014-06-30  84.93  85.76  85.76  85.03  2713200.0      85.03\n",
       "16  2014-06-27  84.76  85.31  85.31  84.64  2156600.0      84.64\n",
       "17  2014-06-26  86.50  86.50  86.50  85.00  2161200.0      85.00\n",
       "18  2014-06-25  86.22  86.74  86.74  86.02  2359500.0      86.02\n",
       "19  2014-06-24  87.12  87.21  87.21  86.52  2162700.0      86.52"
      ]
     },
     "execution_count": 255,
     "metadata": {},
     "output_type": "execute_result"
    }
   ],
   "source": [
    "msft = pd.read_csv(\"msft.csv\", dtype = {'High': str ,'Volume' : np.float64})\n",
    "print(msft.dtypes)\n",
    "print(\"################################################\")\n",
    "msft.Low = msft.High.astype(np.int64,errors=\"ignore\")# errors =\"ignore\" or \"raise\"\n",
    "print(msft.dtypes)\n",
    "msft.head(20)"
   ]
  },
  {
   "cell_type": "markdown",
   "metadata": {},
   "source": [
    "## Specifying column names"
   ]
  },
  {
   "cell_type": "code",
   "execution_count": 55,
   "metadata": {},
   "outputs": [
    {
     "name": "stdout",
     "output_type": "stream",
     "text": [
      "   2014-07-17  84.35  84.63  83.33  83.63  1974000  83.63.1\n",
      "0  2014-07-16  83.77  84.91  83.66  84.91  1755600    84.91\n",
      "1  2014-07-15  84.30  84.38  83.20  83.58  1874700    83.58\n",
      "2  2014-07-14  83.66  84.64  83.11  84.40  1432100    84.40\n",
      "3  2014-07-11  83.55  83.98  82.85  83.35  2001400    83.35\n",
      "4  2014-07-10  85.20  85.57  83.36  83.42  2713300    83.42\n",
      "5  2014-07-09  84.83  85.79  84.76  85.50  1540700    85.50\n",
      "6  2014-07-08  86.29  86.57  84.69  84.69  2164000    84.69\n",
      "7  2014-07-07  86.97  87.13  85.82  86.07  1644600    86.07\n",
      "8  2014-07-04  87.22  87.54  87.05  87.05  1392600    87.05\n",
      "9  2014-07-03  86.02  87.42  85.88  87.14  1985800    87.14\n",
      "                   open   high    low    close  volume\n",
      "2014-07-16 83.77  84.91  83.66  84.91  1755600   84.91\n",
      "2014-07-15 84.30  84.38  83.20  83.58  1874700   83.58\n",
      "2014-07-14 83.66  84.64  83.11  84.40  1432100   84.40\n",
      "2014-07-11 83.55  83.98  82.85  83.35  2001400   83.35\n",
      "2014-07-10 85.20  85.57  83.36  83.42  2713300   83.42\n",
      "2014-07-09 84.83  85.79  84.76  85.50  1540700   85.50\n",
      "2014-07-08 86.29  86.57  84.69  84.69  2164000   84.69\n",
      "2014-07-07 86.97  87.13  85.82  86.07  1644600   86.07\n",
      "2014-07-04 87.22  87.54  87.05  87.05  1392600   87.05\n",
      "2014-07-03 86.02  87.42  85.88  87.14  1985800   87.14\n",
      "Index(['open', 'high', 'low', 'close', 'volume'], dtype='object')\n"
     ]
    },
    {
     "ename": "KeyError",
     "evalue": "\"None of [Int64Index([0], dtype='int64')] are in the [columns]\"",
     "output_type": "error",
     "traceback": [
      "\u001b[1;31m---------------------------------------------------------------------------\u001b[0m",
      "\u001b[1;31mKeyError\u001b[0m                                  Traceback (most recent call last)",
      "\u001b[1;32m<ipython-input-55-f28f61931980>\u001b[0m in \u001b[0;36m<module>\u001b[1;34m\u001b[0m\n\u001b[0;32m      7\u001b[0m \u001b[0mprint\u001b[0m\u001b[1;33m(\u001b[0m\u001b[0mdf\u001b[0m\u001b[1;33m.\u001b[0m\u001b[0mhead\u001b[0m\u001b[1;33m(\u001b[0m\u001b[1;36m10\u001b[0m\u001b[1;33m)\u001b[0m\u001b[1;33m)\u001b[0m\u001b[1;33m\u001b[0m\u001b[1;33m\u001b[0m\u001b[0m\n\u001b[0;32m      8\u001b[0m \u001b[0mprint\u001b[0m\u001b[1;33m(\u001b[0m\u001b[0mdf\u001b[0m\u001b[1;33m.\u001b[0m\u001b[0mcolumns\u001b[0m\u001b[1;33m)\u001b[0m\u001b[1;33m\u001b[0m\u001b[1;33m\u001b[0m\u001b[0m\n\u001b[1;32m----> 9\u001b[1;33m \u001b[0mdf\u001b[0m\u001b[1;33m[\u001b[0m\u001b[1;33m[\u001b[0m\u001b[1;36m0\u001b[0m\u001b[1;33m]\u001b[0m\u001b[1;33m]\u001b[0m\u001b[1;33m\u001b[0m\u001b[1;33m\u001b[0m\u001b[0m\n\u001b[0m",
      "\u001b[1;32mc:\\python373\\lib\\site-packages\\pandas\\core\\frame.py\u001b[0m in \u001b[0;36m__getitem__\u001b[1;34m(self, key)\u001b[0m\n\u001b[0;32m   2932\u001b[0m                 \u001b[0mkey\u001b[0m \u001b[1;33m=\u001b[0m \u001b[0mlist\u001b[0m\u001b[1;33m(\u001b[0m\u001b[0mkey\u001b[0m\u001b[1;33m)\u001b[0m\u001b[1;33m\u001b[0m\u001b[1;33m\u001b[0m\u001b[0m\n\u001b[0;32m   2933\u001b[0m             indexer = self.loc._convert_to_indexer(key, axis=1,\n\u001b[1;32m-> 2934\u001b[1;33m                                                    raise_missing=True)\n\u001b[0m\u001b[0;32m   2935\u001b[0m \u001b[1;33m\u001b[0m\u001b[0m\n\u001b[0;32m   2936\u001b[0m         \u001b[1;31m# take() does not accept boolean indexers\u001b[0m\u001b[1;33m\u001b[0m\u001b[1;33m\u001b[0m\u001b[1;33m\u001b[0m\u001b[0m\n",
      "\u001b[1;32mc:\\python373\\lib\\site-packages\\pandas\\core\\indexing.py\u001b[0m in \u001b[0;36m_convert_to_indexer\u001b[1;34m(self, obj, axis, is_setter, raise_missing)\u001b[0m\n\u001b[0;32m   1352\u001b[0m                 kwargs = {'raise_missing': True if is_setter else\n\u001b[0;32m   1353\u001b[0m                           raise_missing}\n\u001b[1;32m-> 1354\u001b[1;33m                 \u001b[1;32mreturn\u001b[0m \u001b[0mself\u001b[0m\u001b[1;33m.\u001b[0m\u001b[0m_get_listlike_indexer\u001b[0m\u001b[1;33m(\u001b[0m\u001b[0mobj\u001b[0m\u001b[1;33m,\u001b[0m \u001b[0maxis\u001b[0m\u001b[1;33m,\u001b[0m \u001b[1;33m**\u001b[0m\u001b[0mkwargs\u001b[0m\u001b[1;33m)\u001b[0m\u001b[1;33m[\u001b[0m\u001b[1;36m1\u001b[0m\u001b[1;33m]\u001b[0m\u001b[1;33m\u001b[0m\u001b[1;33m\u001b[0m\u001b[0m\n\u001b[0m\u001b[0;32m   1355\u001b[0m         \u001b[1;32melse\u001b[0m\u001b[1;33m:\u001b[0m\u001b[1;33m\u001b[0m\u001b[1;33m\u001b[0m\u001b[0m\n\u001b[0;32m   1356\u001b[0m             \u001b[1;32mtry\u001b[0m\u001b[1;33m:\u001b[0m\u001b[1;33m\u001b[0m\u001b[1;33m\u001b[0m\u001b[0m\n",
      "\u001b[1;32mc:\\python373\\lib\\site-packages\\pandas\\core\\indexing.py\u001b[0m in \u001b[0;36m_get_listlike_indexer\u001b[1;34m(self, key, axis, raise_missing)\u001b[0m\n\u001b[0;32m   1159\u001b[0m         self._validate_read_indexer(keyarr, indexer,\n\u001b[0;32m   1160\u001b[0m                                     \u001b[0mo\u001b[0m\u001b[1;33m.\u001b[0m\u001b[0m_get_axis_number\u001b[0m\u001b[1;33m(\u001b[0m\u001b[0maxis\u001b[0m\u001b[1;33m)\u001b[0m\u001b[1;33m,\u001b[0m\u001b[1;33m\u001b[0m\u001b[1;33m\u001b[0m\u001b[0m\n\u001b[1;32m-> 1161\u001b[1;33m                                     raise_missing=raise_missing)\n\u001b[0m\u001b[0;32m   1162\u001b[0m         \u001b[1;32mreturn\u001b[0m \u001b[0mkeyarr\u001b[0m\u001b[1;33m,\u001b[0m \u001b[0mindexer\u001b[0m\u001b[1;33m\u001b[0m\u001b[1;33m\u001b[0m\u001b[0m\n\u001b[0;32m   1163\u001b[0m \u001b[1;33m\u001b[0m\u001b[0m\n",
      "\u001b[1;32mc:\\python373\\lib\\site-packages\\pandas\\core\\indexing.py\u001b[0m in \u001b[0;36m_validate_read_indexer\u001b[1;34m(self, key, indexer, axis, raise_missing)\u001b[0m\n\u001b[0;32m   1244\u001b[0m                 raise KeyError(\n\u001b[0;32m   1245\u001b[0m                     u\"None of [{key}] are in the [{axis}]\".format(\n\u001b[1;32m-> 1246\u001b[1;33m                         key=key, axis=self.obj._get_axis_name(axis)))\n\u001b[0m\u001b[0;32m   1247\u001b[0m \u001b[1;33m\u001b[0m\u001b[0m\n\u001b[0;32m   1248\u001b[0m             \u001b[1;31m# We (temporarily) allow for some missing keys with .loc, except in\u001b[0m\u001b[1;33m\u001b[0m\u001b[1;33m\u001b[0m\u001b[1;33m\u001b[0m\u001b[0m\n",
      "\u001b[1;31mKeyError\u001b[0m: \"None of [Int64Index([0], dtype='int64')] are in the [columns]\""
     ]
    }
   ],
   "source": [
    "# specify a new set of names for the columns\n",
    "# all lower case, remove space in Adj Close\n",
    "# also, header=1 skips the header row\n",
    "df = pd.read_csv(\"msft.csv\", header=3)\n",
    "print(df.head(10))\n"
   ]
  },
  {
   "cell_type": "code",
   "execution_count": 57,
   "metadata": {},
   "outputs": [
    {
     "name": "stdout",
     "output_type": "stream",
     "text": [
      "                   open   high    low    close  volume\n",
      "2014-07-16 83.77  84.91  83.66  84.91  1755600   84.91\n",
      "2014-07-15 84.30  84.38  83.20  83.58  1874700   83.58\n",
      "2014-07-14 83.66  84.64  83.11  84.40  1432100   84.40\n",
      "2014-07-11 83.55  83.98  82.85  83.35  2001400   83.35\n",
      "2014-07-10 85.20  85.57  83.36  83.42  2713300   83.42\n",
      "2014-07-09 84.83  85.79  84.76  85.50  1540700   85.50\n",
      "2014-07-08 86.29  86.57  84.69  84.69  2164000   84.69\n",
      "2014-07-07 86.97  87.13  85.82  86.07  1644600   86.07\n",
      "2014-07-04 87.22  87.54  87.05  87.05  1392600   87.05\n",
      "2014-07-03 86.02  87.42  85.88  87.14  1985800   87.14\n",
      "Index(['open', 'high', 'low', 'close', 'volume'], dtype='object')\n"
     ]
    },
    {
     "data": {
      "text/plain": [
       "MultiIndex(levels=[['2000-01-03', '2000-01-04', '2000-01-05', '2000-01-06', '2000-01-07', '2000-01-10', '2000-01-11', '2000-01-12', '2000-01-13', '2000-01-14', '2000-01-17', '2000-01-18', '2000-01-19', '2000-01-20', '2000-01-21', '2000-01-24', '2000-01-25', '2000-01-26', '2000-01-27', '2000-01-28', '2000-01-31', '2000-02-01', '2000-02-02', '2000-02-03', '2000-02-04', '2000-02-07', '2000-02-08', '2000-02-09', '2000-02-10', '2000-02-11', '2000-02-14', '2000-02-15', '2000-02-16', '2000-02-17', '2000-02-18', '2000-02-21', '2000-02-22', '2000-02-23', '2000-02-24', '2000-02-25', '2000-02-28', '2000-02-29', '2000-03-01', '2000-03-02', '2000-03-03', '2000-03-06', '2000-03-07', '2000-03-08', '2000-03-09', '2000-03-10', '2000-03-13', '2000-03-14', '2000-03-15', '2000-03-16', '2000-03-17', '2000-03-20', '2000-03-21', '2000-03-22', '2000-03-23', '2000-03-24', '2000-03-27', '2000-03-28', '2000-03-29', '2000-03-30', '2000-03-31', '2000-04-03', '2000-04-04', '2000-04-05', '2000-04-06', '2000-04-07', '2000-04-10', '2000-04-11', '2000-04-12', '2000-04-13', '2000-04-14', '2000-04-17', '2000-04-18', '2000-04-19', '2000-04-20', '2000-04-21', '2000-04-24', '2000-04-25', '2000-04-26', '2000-04-27', '2000-04-28', '2000-05-01', '2000-05-02', '2000-05-03', '2000-05-04', '2000-05-05', '2000-05-08', '2000-05-09', '2000-05-10', '2000-05-11', '2000-05-12', '2000-05-15', '2000-05-16', '2000-05-17', '2000-05-18', '2000-05-19', '2000-05-22', '2000-05-23', '2000-05-24', '2000-05-25', '2000-05-26', '2000-05-29', '2000-05-30', '2000-05-31', '2000-06-01', '2000-06-02', '2000-06-05', '2000-06-06', '2000-06-07', '2000-06-08', '2000-06-09', '2000-06-12', '2000-06-13', '2000-06-14', '2000-06-15', '2000-06-16', '2000-06-19', '2000-06-20', '2000-06-21', '2000-06-22', '2000-06-23', '2000-06-26', '2000-06-27', '2000-06-28', '2000-06-29', '2000-06-30', '2000-07-03', '2000-07-04', '2000-07-05', '2000-07-06', '2000-07-07', '2000-07-10', '2000-07-11', '2000-07-12', '2000-07-13', '2000-07-14', '2000-07-17', '2000-07-18', '2000-07-19', '2000-07-20', '2000-07-21', '2000-07-24', '2000-07-25', '2000-07-26', '2000-07-27', '2000-07-28', '2000-07-31', '2000-08-01', '2000-08-02', '2000-08-03', '2000-08-04', '2000-08-07', '2000-08-08', '2000-08-09', '2000-08-10', '2000-08-11', '2000-08-14', '2000-08-15', '2000-08-16', '2000-08-17', '2000-08-18', '2000-08-21', '2000-08-22', '2000-08-23', '2000-08-24', '2000-08-25', '2000-08-28', '2000-08-29', '2000-08-30', '2000-08-31', '2000-09-01', '2000-09-04', '2000-09-05', '2000-09-06', '2000-09-07', '2000-09-08', '2000-09-11', '2000-09-12', '2000-09-13', '2000-09-14', '2000-09-15', '2000-09-18', '2000-09-19', '2000-09-20', '2000-09-21', '2000-09-22', '2000-09-25', '2000-09-26', '2000-09-27', '2000-09-28', '2000-09-29', '2000-10-02', '2000-10-03', '2000-10-04', '2000-10-05', '2000-10-06', '2000-10-09', '2000-10-10', '2000-10-11', '2000-10-12', '2000-10-13', '2000-10-16', '2000-10-17', '2000-10-18', '2000-10-19', '2000-10-20', '2000-10-23', '2000-10-24', '2000-10-25', '2000-10-26', '2000-10-27', '2000-10-30', '2000-10-31', '2000-11-01', '2000-11-02', '2000-11-03', '2000-11-06', '2000-11-07', '2000-11-08', '2000-11-09', '2000-11-10', '2000-11-13', '2000-11-14', '2000-11-15', '2000-11-16', '2000-11-17', '2000-11-20', '2000-11-21', '2000-11-22', '2000-11-23', '2000-11-24', '2000-11-27', '2000-11-28', '2000-11-29', '2000-11-30', '2000-12-01', '2000-12-04', '2000-12-05', '2000-12-06', '2000-12-07', '2000-12-08', '2000-12-11', '2000-12-12', '2000-12-13', '2000-12-14', '2000-12-15', '2000-12-18', '2000-12-19', '2000-12-20', '2000-12-21', '2000-12-22', '2000-12-27', '2000-12-28', '2000-12-29', '2001-01-01', '2001-01-02', '2001-01-03', '2001-01-04', '2001-01-05', '2001-01-08', '2001-01-09', '2001-01-10', '2001-01-11', '2001-01-12', '2001-01-15', '2001-01-16', '2001-01-17', '2001-01-18', '2001-01-19', '2001-01-22', '2001-01-23', '2001-01-24', '2001-01-25', '2001-01-26', '2001-01-29', '2001-01-30', '2001-01-31', '2001-02-01', '2001-02-02', '2001-02-05', '2001-02-06', '2001-02-07', '2001-02-08', '2001-02-09', '2001-02-12', '2001-02-13', '2001-02-14', '2001-02-15', '2001-02-16', '2001-02-19', '2001-02-20', '2001-02-21', '2001-02-22', '2001-02-23', '2001-02-26', '2001-02-27', '2001-02-28', '2001-03-01', '2001-03-02', '2001-03-05', '2001-03-06', '2001-03-07', '2001-03-08', '2001-03-09', '2001-03-12', '2001-03-13', '2001-03-15', '2001-03-16', '2001-03-19', '2001-03-20', '2001-03-21', '2001-03-22', '2001-03-23', '2001-03-26', '2001-03-27', '2001-03-28', '2001-03-29', '2001-03-30', '2001-04-02', '2001-04-03', '2001-04-04', '2001-04-05', '2001-04-06', '2001-04-09', '2001-04-10', '2001-04-11', '2001-04-12', '2001-04-13', '2001-04-16', '2001-04-17', '2001-04-18', '2001-04-19', '2001-04-20', '2001-04-23', '2001-04-24', '2001-04-25', '2001-04-26', '2001-04-27', '2001-04-30', '2001-05-01', '2001-05-02', '2001-05-03', '2001-05-04', '2001-05-07', '2001-05-08', '2001-05-09', '2001-05-10', '2001-05-11', '2001-05-14', '2001-05-15', '2001-05-16', '2001-05-17', '2001-05-18', '2001-05-21', '2001-05-22', '2001-05-23', '2001-05-24', '2001-05-25', '2001-05-28', '2001-05-29', '2001-05-30', '2001-05-31', '2001-06-01', '2001-06-04', '2001-06-05', '2001-06-06', '2001-06-07', '2001-06-08', '2001-06-11', '2001-06-12', '2001-06-13', '2001-06-14', '2001-06-15', '2001-06-18', '2001-06-19', '2001-06-20', '2001-06-21', '2001-06-22', '2001-06-25', '2001-06-26', '2001-06-27', '2001-06-28', '2001-06-29', '2001-07-02', '2001-07-03', '2001-07-04', '2001-07-05', '2001-07-06', '2001-07-09', '2001-07-10', '2001-07-11', '2001-07-12', '2001-07-13', '2001-07-16', '2001-07-17', '2001-07-18', '2001-07-19', '2001-07-20', '2001-07-23', '2001-07-24', '2001-07-25', '2001-07-26', '2001-07-27', '2001-07-30', '2001-07-31', '2001-08-01', '2001-08-02', '2001-08-03', '2001-08-06', '2001-08-07', '2001-08-08', '2001-08-09', '2001-08-10', '2001-08-13', '2001-08-14', '2001-08-15', '2001-08-16', '2001-08-17', '2001-08-20', '2001-08-21', '2001-08-22', '2001-08-23', '2001-08-24', '2001-08-27', '2001-08-28', '2001-08-29', '2001-08-30', '2001-08-31', '2001-09-03', '2001-09-04', '2001-09-05', '2001-09-06', '2001-09-07', '2001-09-10', '2001-09-11', '2001-09-12', '2001-09-13', '2001-09-14', '2001-09-17', '2001-09-18', '2001-09-19', '2001-09-20', '2001-09-21', '2001-09-24', '2001-09-25', '2001-09-26', '2001-09-27', '2001-09-28', '2001-10-01', '2001-10-02', '2001-10-03', '2001-10-04', '2001-10-05', '2001-10-08', '2001-10-09', '2001-10-10', '2001-10-11', '2001-10-12', '2001-10-15', '2001-10-16', '2001-10-17', '2001-10-18', '2001-10-19', '2001-10-22', '2001-10-23', '2001-10-24', '2001-10-25', '2001-10-26', '2001-10-29', '2001-10-30', '2001-10-31', '2001-11-01', '2001-11-02', '2001-11-05', '2001-11-06', '2001-11-07', '2001-11-08', '2001-11-09', '2001-11-12', '2001-11-13', '2001-11-14', '2001-11-15', '2001-11-16', '2001-11-19', '2001-11-20', '2001-11-21', '2001-11-22', '2001-11-23', '2001-11-26', '2001-11-27', '2001-11-28', '2001-11-29', '2001-11-30', '2001-12-03', '2001-12-04', '2001-12-05', '2001-12-06', '2001-12-07', '2001-12-10', '2001-12-11', '2001-12-12', '2001-12-13', '2001-12-14', '2001-12-17', '2001-12-18', '2001-12-19', '2001-12-20', '2001-12-21', '2001-12-24', '2001-12-25', '2001-12-26', '2001-12-27', '2001-12-28', '2001-12-31', '2002-01-01', '2002-01-02', '2002-01-03', '2002-01-04', '2002-01-07', '2002-01-08', '2002-01-09', '2002-01-10', '2002-01-11', '2002-01-14', '2002-01-15', '2002-01-16', '2002-01-17', '2002-01-18', '2002-01-21', '2002-01-22', '2002-01-23', '2002-01-24', '2002-01-25', '2002-01-28', '2002-01-29', '2002-01-30', '2002-01-31', '2002-02-01', '2002-02-04', '2002-02-05', '2002-02-06', '2002-02-07', '2002-02-08', '2002-02-11', '2002-02-12', '2002-02-13', '2002-02-14', '2002-02-15', '2002-02-18', '2002-02-19', '2002-02-20', '2002-02-21', '2002-02-22', '2002-02-25', '2002-02-26', '2002-02-27', '2002-02-28', '2002-03-01', '2002-03-04', '2002-03-05', '2002-03-06', '2002-03-07', '2002-03-08', '2002-03-11', '2002-03-12', '2002-03-13', '2002-03-14', '2002-03-15', '2002-03-18', '2002-03-19', '2002-03-20', '2002-03-21', '2002-03-22', '2002-03-25', '2002-03-26', '2002-03-27', '2002-03-28', '2002-03-29', '2002-04-01', '2002-04-02', '2002-04-03', '2002-04-04', '2002-04-05', '2002-04-08', '2002-04-09', '2002-04-10', '2002-04-11', '2002-04-12', '2002-04-15', '2002-04-16', '2002-04-17', '2002-04-18', '2002-04-19', '2002-04-22', '2002-04-23', '2002-04-24', '2002-04-25', '2002-04-26', '2002-04-29', '2002-04-30', '2002-05-01', '2002-05-02', '2002-05-03', '2002-05-06', '2002-05-07', '2002-05-08', '2002-05-09', '2002-05-10', '2002-05-13', '2002-05-14', '2002-05-15', '2002-05-16', '2002-05-17', '2002-05-20', '2002-05-21', '2002-05-22', '2002-05-23', '2002-05-24', '2002-05-27', '2002-05-28', '2002-05-29', '2002-05-30', '2002-05-31', '2002-06-03', '2002-06-04', '2002-06-05', '2002-06-06', '2002-06-07', '2002-06-10', '2002-06-11', '2002-06-12', '2002-06-13', '2002-06-14', '2002-06-17', '2002-06-18', '2002-06-19', '2002-06-20', '2002-06-21', '2002-06-24', '2002-06-25', '2002-06-26', '2002-06-27', '2002-06-28', '2002-07-01', '2002-07-02', '2002-07-03', '2002-07-04', '2002-07-05', '2002-07-08', '2002-07-09', '2002-07-10', '2002-07-11', '2002-07-12', '2002-07-15', '2002-07-16', '2002-07-17', '2002-07-18', '2002-07-19', '2002-07-22', '2002-07-23', '2002-07-24', '2002-07-25', '2002-07-26', '2002-07-29', '2002-07-30', '2002-07-31', '2002-08-01', '2002-08-02', '2002-08-05', '2002-08-06', '2002-08-07', '2002-08-08', '2002-08-09', '2002-08-12', '2002-08-13', '2002-08-14', '2002-08-15', '2002-08-16', '2002-08-19', '2002-08-20', '2002-08-21', '2002-08-22', '2002-08-23', '2002-08-26', '2002-08-27', '2002-08-28', '2002-08-29', '2002-08-30', '2002-09-02', '2002-09-03', '2002-09-04', '2002-09-05', '2002-09-06', '2002-09-09', '2002-09-10', '2002-09-11', '2002-09-12', '2002-09-13', '2002-09-16', '2002-09-17', '2002-09-18', '2002-09-19', '2002-09-20', '2002-09-23', '2002-09-24', '2002-09-25', '2002-09-26', '2002-09-27', '2002-09-30', '2002-10-01', '2002-10-02', '2002-10-03', '2002-10-04', '2002-10-07', '2002-10-08', '2002-10-09', '2002-10-10', '2002-10-11', '2002-10-14', '2002-10-15', '2002-10-16', '2002-10-17', '2002-10-18', '2002-10-21', '2002-10-22', '2002-10-23', '2002-10-24', '2002-10-25', '2002-10-28', '2002-10-29', '2002-10-30', '2002-10-31', '2002-11-01', '2002-11-04', '2002-11-05', '2002-11-06', '2002-11-07', '2002-11-08', '2002-11-11', '2002-11-12', '2002-11-13', '2002-11-14', '2002-11-15', '2002-11-18', '2002-11-19', '2002-11-20', '2002-11-21', '2002-11-22', '2002-11-25', '2002-11-26', '2002-11-27', '2002-11-28', '2002-11-29', '2002-12-02', '2002-12-03', '2002-12-04', '2002-12-05', '2002-12-06', '2002-12-09', '2002-12-10', '2002-12-11', '2002-12-12', '2002-12-13', '2002-12-16', '2002-12-17', '2002-12-18', '2002-12-19', '2002-12-20', '2002-12-23', '2002-12-24', '2002-12-25', '2002-12-26', '2002-12-27', '2002-12-30', '2002-12-31', '2003-01-01', '2003-01-02', '2003-01-03', '2003-01-06', '2003-01-07', '2003-01-08', '2003-01-09', '2003-01-10', '2003-01-13', '2003-01-14', '2003-01-15', '2003-01-16', '2003-01-17', '2003-01-20', '2003-01-21', '2003-01-22', '2003-01-23', '2003-01-24', '2003-01-27', '2003-01-28', '2003-01-29', '2003-01-30', '2003-01-31', '2003-02-03', '2003-02-04', '2003-02-05', '2003-02-06', '2003-02-07', '2003-02-10', '2003-02-11', '2003-02-12', '2003-02-13', '2003-02-14', '2003-02-17', '2003-02-18', '2003-02-19', '2003-02-20', '2003-02-21', '2003-02-24', '2003-02-25', '2003-02-26', '2003-02-27', '2003-02-28', '2003-03-03', '2003-03-04', '2003-03-05', '2003-03-06', '2003-03-07', '2003-03-10', '2003-03-11', '2003-03-12', '2003-03-13', '2003-03-14', '2003-03-17', '2003-03-18', '2003-03-19', '2003-03-20', '2003-03-21', '2003-03-24', '2003-03-25', '2003-03-26', '2003-03-27', '2003-03-28', '2003-03-31', '2003-04-01', '2003-04-02', '2003-04-03', '2003-04-04', '2003-04-07', '2003-04-08', '2003-04-09', '2003-04-10', '2003-04-11', '2003-04-14', '2003-04-15', '2003-04-16', '2003-04-17', '2003-04-18', '2003-04-21', '2003-04-22', '2003-04-23', '2003-04-24', '2003-04-25', '2003-04-28', '2003-04-29', '2003-04-30', '2003-05-01', '2003-05-02', '2003-05-05', '2003-05-06', '2003-05-07', '2003-05-08', '2003-05-09', '2003-05-12', '2003-05-13', '2003-05-14', '2003-05-15', '2003-05-16', '2003-05-19', '2003-05-20', '2003-05-21', '2003-05-22', '2003-05-23', '2003-05-26', '2003-05-27', '2003-05-28', '2003-05-29', '2003-05-30', '2003-06-02', '2003-06-03', '2003-06-04', '2003-06-05', '2003-06-06', '2003-06-09', '2003-06-10', '2003-06-11', '2003-06-12', '2003-06-13', '2003-06-16', '2003-06-17', '2003-06-18', '2003-06-19', '2003-06-20', '2003-06-23', '2003-06-24', '2003-06-25', '2003-06-26', '2003-06-27', '2003-06-30', '2003-07-01', '2003-07-02', '2003-07-03', '2003-07-04', '2003-07-07', '2003-07-08', '2003-07-09', '2003-07-10', '2003-07-11', '2003-07-14', '2003-07-15', '2003-07-16', '2003-07-17', '2003-07-18', '2003-07-21', '2003-07-22', '2003-07-23', '2003-07-24', '2003-07-25', '2003-07-28', '2003-07-29', '2003-07-30', '2003-07-31', '2003-08-01', '2003-08-04', '2003-08-05', '2003-08-06', '2003-08-07', '2003-08-08', '2003-08-11', '2003-08-12', '2003-08-13', '2003-08-14', '2003-08-15', '2003-08-18', '2003-08-19', '2003-08-20', '2003-08-21', '2003-08-22', '2003-08-25', '2003-08-26', '2003-08-27', '2003-08-28', '2003-08-29', '2003-09-01', '2003-09-02', '2003-09-03', '2003-09-04', '2003-09-05', '2003-09-08', '2003-09-09', '2003-09-10', '2003-09-11', '2003-09-12', '2003-09-15', '2003-09-16', '2003-09-17', '2003-09-18', '2003-09-19', '2003-09-22', '2003-09-23', '2003-09-24', '2003-09-25', '2003-09-26', '2003-09-29', '2003-09-30', '2003-10-01', '2003-10-02', '2003-10-03', '2003-10-06', '2003-10-07', '2003-10-08', '2003-10-09', '2003-10-10', '2003-10-13', '2003-10-14', '2003-10-15', '2003-10-16', '2003-10-17', '2003-10-20', '2003-10-21', '2003-10-22', '2003-10-23', '2003-10-24', '2003-10-27', '2003-10-28', '2003-10-29', '2003-10-30', '2003-10-31', '2003-11-03', '2003-11-04', '2003-11-05', '2003-11-06', '2003-11-07', '2003-11-10', '2003-11-11', '2003-11-12', '2003-11-13', '2003-11-14', '2003-11-17', '2003-11-18', '2003-11-19', '2003-11-20', '2003-11-21', '2003-11-24', '2003-11-25', '2003-11-26', '2003-11-27', '2003-11-28', '2003-12-01', '2003-12-02', '2003-12-03', '2003-12-04', '2003-12-05', '2003-12-08', '2003-12-09', '2003-12-10', '2003-12-11', '2003-12-12', '2003-12-15', '2003-12-16', '2003-12-17', '2003-12-18', '2003-12-19', '2003-12-22', '2003-12-23', '2003-12-24', '2003-12-25', '2003-12-26', '2003-12-29', '2003-12-30', '2003-12-31', '2004-01-01', '2004-01-02', '2004-01-05', '2004-01-06', '2004-01-07', '2004-01-08', '2004-01-09', '2004-01-12', '2004-01-13', '2004-01-14', '2004-01-15', '2004-01-16', '2004-01-19', '2004-01-20', '2004-01-21', '2004-01-22', '2004-01-23', '2004-01-26', '2004-01-27', '2004-01-28', '2004-01-29', '2004-01-30', '2004-02-02', '2004-02-03', '2004-02-04', '2004-02-05', '2004-02-06', '2004-02-09', '2004-02-10', '2004-02-11', '2004-02-12', '2004-02-13', '2004-02-16', '2004-02-17', '2004-02-18', '2004-02-19', '2004-02-20', '2004-02-23', '2004-02-24', '2004-02-25', '2004-02-26', '2004-02-27', '2004-03-01', '2004-03-02', '2004-03-03', '2004-03-04', '2004-03-05', '2004-03-08', '2004-03-09', '2004-03-10', '2004-03-11', '2004-03-12', '2004-03-15', '2004-03-16', '2004-03-17', '2004-03-18', '2004-03-19', '2004-03-22', '2004-03-23', '2004-03-24', '2004-03-25', '2004-03-26', '2004-03-29', '2004-03-30', '2004-03-31', '2004-04-01', '2004-04-02', '2004-04-05', '2004-04-06', '2004-04-07', '2004-04-08', '2004-04-09', '2004-04-12', '2004-04-13', '2004-04-14', '2004-04-15', '2004-04-16', '2004-04-19', '2004-04-20', '2004-04-21', '2004-04-22', '2004-04-23', '2004-04-26', '2004-04-27', '2004-04-28', '2004-04-29', '2004-04-30', '2004-05-03', '2004-05-04', '2004-05-05', '2004-05-06', '2004-05-07', '2004-05-10', '2004-05-11', '2004-05-12', '2004-05-13', '2004-05-14', '2004-05-17', '2004-05-18', '2004-05-19', '2004-05-20', '2004-05-21', '2004-05-24', '2004-05-25', '2004-05-26', '2004-05-27', '2004-05-28', '2004-05-31', '2004-06-01', '2004-06-02', '2004-06-03', '2004-06-04', '2004-06-07', '2004-06-08', '2004-06-09', '2004-06-10', '2004-06-11', '2004-06-14', '2004-06-15', '2004-06-16', '2004-06-17', '2004-06-18', '2004-06-21', '2004-06-22', '2004-06-23', '2004-06-24', '2004-06-25', '2004-06-28', '2004-06-29', '2004-06-30', '2004-07-01', '2004-07-02', '2004-07-05', '2004-07-06', '2004-07-07', '2004-07-08', '2004-07-09', '2004-07-12', '2004-07-13', '2004-07-14', '2004-07-15', '2004-07-16', '2004-07-19', '2004-07-20', '2004-07-21', '2004-07-22', '2004-07-23', '2004-07-26', '2004-07-27', '2004-07-28', '2004-07-29', '2004-07-30', '2004-08-02', '2004-08-03', '2004-08-04', '2004-08-05', '2004-08-06', '2004-08-09', '2004-08-10', '2004-08-11', '2004-08-12', '2004-08-13', '2004-08-16', '2004-08-17', '2004-08-18', '2004-08-19', '2004-08-20', '2004-08-23', '2004-08-24', '2004-08-25', '2004-08-26', '2004-08-27', '2004-08-30', '2004-08-31', '2004-09-01', '2004-09-02', '2004-09-03', '2004-09-06', '2004-09-07', '2004-09-08', '2004-09-09', '2004-09-10', '2004-09-13', '2004-09-14', '2004-09-15', '2004-09-16', '2004-09-17', '2004-09-20', '2004-09-21', '2004-09-22', '2004-09-23', '2004-09-24', '2004-09-27', '2004-09-28', '2004-09-29', '2004-09-30', '2004-10-01', '2004-10-04', '2004-10-05', '2004-10-06', '2004-10-07', '2004-10-08', '2004-10-11', '2004-10-12', '2004-10-13', '2004-10-14', '2004-10-15', '2004-10-18', '2004-10-19', '2004-10-20', '2004-10-21', '2004-10-22', '2004-10-25', '2004-10-26', '2004-10-27', '2004-10-28', '2004-10-29', '2004-11-01', '2004-11-02', '2004-11-03', '2004-11-04', '2004-11-05', '2004-11-08', '2004-11-09', '2004-11-10', '2004-11-11', '2004-11-12', '2004-11-15', '2004-11-16', '2004-11-17', '2004-11-18', '2004-11-19', '2004-11-22', '2004-11-23', '2004-11-24', '2004-11-25', '2004-11-26', '2004-11-29', '2004-11-30', '2004-12-01', '2004-12-02', '2004-12-03', '2004-12-06', '2004-12-07', '2004-12-08', '2004-12-09', '2004-12-10', '2004-12-13', '2004-12-14', '2004-12-15', '2004-12-16', '2004-12-17', '2004-12-20', '2004-12-21', '2004-12-22', '2004-12-23', '2004-12-24', '2004-12-27', '2004-12-28', '2004-12-29', '2004-12-30', '2004-12-31', '2005-01-03', '2005-01-04', '2005-01-05', '2005-01-06', '2005-01-07', '2005-01-10', '2005-01-11', '2005-01-12', '2005-01-13', '2005-01-14', '2005-01-17', '2005-01-18', '2005-01-19', '2005-01-20', '2005-01-21', '2005-01-24', '2005-01-25', '2005-01-26', '2005-01-27', '2005-01-28', '2005-01-31', '2005-02-01', '2005-02-02', '2005-02-03', '2005-02-04', '2005-02-07', '2005-02-08', '2005-02-09', '2005-02-10', '2005-02-11', '2005-02-14', '2005-02-15', '2005-02-16', '2005-02-17', '2005-02-18', '2005-02-21', '2005-02-22', '2005-02-23', '2005-02-24', '2005-02-25', '2005-02-28', '2005-03-01', '2005-03-02', '2005-03-03', '2005-03-04', '2005-03-07', '2005-03-08', '2005-03-09', '2005-03-10', '2005-03-11', '2005-03-14', '2005-03-15', '2005-03-16', '2005-03-17', '2005-03-18', '2005-03-21', '2005-03-22', '2005-03-23', '2005-03-24', '2005-03-25', '2005-03-28', '2005-03-29', '2005-03-30', '2005-03-31', '2005-04-01', '2005-04-04', '2005-04-05', '2005-04-06', '2005-04-07', '2005-04-08', '2005-04-11', '2005-04-12', '2005-04-13', '2005-04-14', '2005-04-15', '2005-04-18', '2005-04-19', '2005-04-20', '2005-04-21', '2005-04-22', '2005-04-25', '2005-04-26', '2005-04-27', '2005-04-28', '2005-04-29', '2005-05-02', '2005-05-03', '2005-05-04', '2005-05-05', '2005-05-06', '2005-05-09', '2005-05-10', '2005-05-11', '2005-05-12', '2005-05-13', '2005-05-16', '2005-05-17', '2005-05-18', '2005-05-19', '2005-05-20', '2005-05-23', '2005-05-24', '2005-05-25', '2005-05-26', '2005-05-27', '2005-05-30', '2005-05-31', '2005-06-01', '2005-06-02', '2005-06-03', '2005-06-06', '2005-06-07', '2005-06-08', '2005-06-09', '2005-06-10', '2005-06-13', '2005-06-14', '2005-06-15', '2005-06-16', '2005-06-17', '2005-06-20', '2005-06-21', '2005-06-22', '2005-06-23', '2005-06-24', '2005-06-27', '2005-06-28', '2005-06-29', '2005-06-30', '2005-07-01', '2005-07-04', '2005-07-05', '2005-07-06', '2005-07-07', '2005-07-08', '2005-07-11', '2005-07-12', '2005-07-13', '2005-07-14', '2005-07-15', '2005-07-18', '2005-07-19', '2005-07-20', '2005-07-21', '2005-07-22', '2005-07-25', '2005-07-26', '2005-07-27', '2005-07-28', '2005-07-29', '2005-08-01', '2005-08-02', '2005-08-03', '2005-08-04', '2005-08-05', '2005-08-08', '2005-08-09', '2005-08-10', '2005-08-11', '2005-08-12', '2005-08-15', '2005-08-16', '2005-08-17', '2005-08-18', '2005-08-19', '2005-08-22', '2005-08-23', '2005-08-24', '2005-08-25', '2005-08-26', '2005-08-29', '2005-08-30', '2005-08-31', '2005-09-01', '2005-09-02', '2005-09-05', '2005-09-06', '2005-09-07', '2005-09-08', '2005-09-09', '2005-09-12', '2005-09-13', '2005-09-14', '2005-09-15', '2005-09-16', '2005-09-19', '2005-09-20', '2005-09-21', '2005-09-22', '2005-09-23', '2005-09-26', '2005-09-27', '2005-09-28', '2005-09-29', '2005-09-30', '2005-10-03', '2005-10-04', '2005-10-05', '2005-10-06', '2005-10-07', '2005-10-10', '2005-10-11', '2005-10-12', '2005-10-13', '2005-10-14', '2005-10-17', '2005-10-18', '2005-10-19', '2005-10-20', '2005-10-21', '2005-10-24', '2005-10-25', '2005-10-26', '2005-10-27', '2005-10-28', '2005-10-31', '2005-11-01', '2005-11-02', '2005-11-03', '2005-11-04', '2005-11-07', '2005-11-08', '2005-11-09', '2005-11-10', '2005-11-11', '2005-11-14', '2005-11-15', '2005-11-16', '2005-11-17', '2005-11-18', '2005-11-21', '2005-11-22', '2005-11-23', '2005-11-24', '2005-11-25', '2005-11-28', '2005-11-29', '2005-11-30', '2005-12-01', '2005-12-02', '2005-12-05', '2005-12-06', '2005-12-07', '2005-12-08', '2005-12-09', '2005-12-12', '2005-12-13', '2005-12-14', '2005-12-15', '2005-12-16', '2005-12-19', '2005-12-20', '2005-12-21', '2005-12-22', '2005-12-23', '2005-12-26', '2005-12-27', '2005-12-28', '2005-12-29', '2005-12-30', '2006-01-02', '2006-01-03', '2006-01-04', '2006-01-05', '2006-01-06', '2006-01-09', '2006-01-10', '2006-01-11', '2006-01-12', '2006-01-13', '2006-01-16', '2006-01-17', '2006-01-18', '2006-01-19', '2006-01-20', '2006-01-23', '2006-01-24', '2006-01-25', '2006-01-26', '2006-01-27', '2006-01-30', '2006-01-31', '2006-02-01', '2006-02-02', '2006-02-03', '2006-02-06', '2006-02-07', '2006-02-08', '2006-02-09', '2006-02-10', '2006-02-13', '2006-02-14', '2006-02-15', '2006-02-16', '2006-02-17', '2006-02-20', '2006-02-21', '2006-02-22', '2006-02-23', '2006-02-24', '2006-02-27', '2006-02-28', '2006-03-01', '2006-03-02', '2006-03-03', '2006-03-06', '2006-03-07', '2006-03-08', '2006-03-09', '2006-03-10', '2006-03-13', '2006-03-14', '2006-03-15', '2006-03-16', '2006-03-17', '2006-03-20', '2006-03-21', '2006-03-22', '2006-03-23', '2006-03-24', '2006-03-27', '2006-03-28', '2006-03-29', '2006-03-30', '2006-03-31', '2006-04-03', '2006-04-04', '2006-04-05', '2006-04-06', '2006-04-07', '2006-04-10', '2006-04-11', '2006-04-12', '2006-04-13', '2006-04-14', '2006-04-17', '2006-04-18', '2006-04-19', '2006-04-20', '2006-04-21', '2006-04-24', '2006-04-25', '2006-04-26', '2006-04-27', '2006-04-28', '2006-05-02', '2006-05-03', '2006-05-04', '2006-05-05', '2006-05-08', '2006-05-09', '2006-05-10', '2006-05-11', '2006-05-12', '2006-05-15', '2006-05-16', '2006-05-17', '2006-05-18', '2006-05-19', '2006-05-22', '2006-05-23', '2006-05-24', '2006-05-25', '2006-05-26', '2006-05-29', '2006-05-30', '2006-05-31', '2006-06-01', '2006-06-02', '2006-06-05', '2006-06-06', '2006-06-07', '2006-06-08', '2006-06-09', '2006-06-12', '2006-06-13', '2006-06-14', '2006-06-15', '2006-06-16', '2006-06-19', '2006-06-20', '2006-06-21', '2006-06-22', '2006-06-23', '2006-06-26', '2006-06-27', '2006-06-28', '2006-06-29', '2006-06-30', '2006-07-03', '2006-07-04', '2006-07-05', '2006-07-06', '2006-07-07', '2006-07-10', '2006-07-11', '2006-07-12', '2006-07-13', '2006-07-14', '2006-07-17', '2006-07-18', '2006-07-19', '2006-07-20', '2006-07-21', '2006-07-24', '2006-07-25', '2006-07-26', '2006-07-27', '2006-07-28', '2006-07-31', '2006-08-01', '2006-08-02', '2006-08-03', '2006-08-04', '2006-08-07', '2006-08-08', '2006-08-09', '2006-08-10', '2006-08-11', '2006-08-14', '2006-08-15', '2006-08-16', '2006-08-17', '2006-08-18', '2006-08-21', '2006-08-22', '2006-08-23', '2006-08-24', '2006-08-25', '2006-08-28', '2006-08-29', '2006-08-30', '2006-08-31', '2006-09-01', '2006-09-04', '2006-09-05', '2006-09-06', '2006-09-07', '2006-09-08', '2006-09-11', '2006-09-12', '2006-09-13', '2006-09-14', '2006-09-15', '2006-09-18', '2006-09-19', '2006-09-20', '2006-09-21', '2006-09-22', '2006-09-25', '2006-09-26', '2006-09-27', '2006-09-28', '2006-09-29', '2006-10-02', '2006-10-03', '2006-10-04', '2006-10-05', '2006-10-06', '2006-10-09', '2006-10-10', '2006-10-11', '2006-10-12', '2006-10-13', '2006-10-16', '2006-10-17', '2006-10-18', '2006-10-19', '2006-10-20', '2006-10-23', '2006-10-24', '2006-10-25', '2006-10-26', '2006-10-27', '2006-10-30', '2006-10-31', '2006-11-01', '2006-11-02', '2006-11-03', '2006-11-06', '2006-11-07', '2006-11-08', '2006-11-09', '2006-11-10', '2006-11-13', '2006-11-14', '2006-11-15', '2006-11-16', '2006-11-17', '2006-11-20', '2006-11-21', '2006-11-22', '2006-11-23', '2006-11-24', '2006-11-27', '2006-11-28', '2006-11-29', '2006-11-30', '2006-12-01', '2006-12-04', '2006-12-05', '2006-12-06', '2006-12-07', '2006-12-08', '2006-12-11', '2006-12-12', '2006-12-13', '2006-12-14', '2006-12-15', '2006-12-18', '2006-12-19', '2006-12-20', '2006-12-21', '2006-12-22', '2006-12-25', '2006-12-26', '2006-12-27', '2006-12-28', '2006-12-29', '2007-01-01', '2007-01-02', '2007-01-03', '2007-01-04', '2007-01-05', '2007-01-08', '2007-01-09', '2007-01-10', '2007-01-11', '2007-01-12', '2007-01-15', '2007-01-16', '2007-01-17', '2007-01-18', '2007-01-19', '2007-01-22', '2007-01-23', '2007-01-24', '2007-01-25', '2007-01-26', '2007-01-29', '2007-01-30', '2007-01-31', '2007-02-01', '2007-02-02', '2007-02-05', '2007-02-06', '2007-02-07', '2007-02-08', '2007-02-09', '2007-02-12', '2007-02-13', '2007-02-14', '2007-02-15', '2007-02-16', '2007-02-19', '2007-02-20', '2007-02-21', '2007-02-22', '2007-02-23', '2007-02-26', '2007-02-27', '2007-02-28', '2007-03-01', '2007-03-02', '2007-03-05', '2007-03-06', '2007-03-07', '2007-03-08', '2007-03-09', '2007-03-12', '2007-03-13', '2007-03-14', '2007-03-15', '2007-03-16', '2007-03-19', '2007-03-20', '2007-03-21', '2007-03-22', '2007-03-23', '2007-03-26', '2007-03-27', '2007-03-28', '2007-03-29', '2007-03-30', '2007-04-02', '2007-04-03', '2007-04-04', '2007-04-05', '2007-04-06', '2007-04-09', '2007-04-10', '2007-04-11', '2007-04-12', '2007-04-13', '2007-04-16', '2007-04-17', '2007-04-18', '2007-04-19', '2007-04-20', '2007-04-23', '2007-04-24', '2007-04-25', '2007-04-26', '2007-04-27', '2007-04-30', '2007-05-01', '2007-05-02', '2007-05-03', '2007-05-04', '2007-05-07', '2007-05-08', '2007-05-09', '2007-05-10', '2007-05-11', '2007-05-14', '2007-05-15', '2007-05-16', '2007-05-17', '2007-05-18', '2007-05-21', '2007-05-22', '2007-05-23', '2007-05-24', '2007-05-25', '2007-05-28', '2007-05-29', '2007-05-30', '2007-05-31', '2007-06-01', '2007-06-04', '2007-06-05', '2007-06-06', '2007-06-07', '2007-06-08', '2007-06-11', '2007-06-12', '2007-06-13', '2007-06-14', '2007-06-15', '2007-06-18', '2007-06-19', '2007-06-20', '2007-06-21', '2007-06-22', '2007-06-25', '2007-06-26', '2007-06-27', '2007-06-28', '2007-06-29', '2007-07-02', '2007-07-03', '2007-07-04', '2007-07-05', '2007-07-06', '2007-07-09', '2007-07-10', '2007-07-11', '2007-07-12', '2007-07-13', '2007-07-16', '2007-07-17', '2007-07-18', '2007-07-19', '2007-07-20', '2007-07-23', '2007-07-24', '2007-07-25', '2007-07-26', '2007-07-27', '2007-07-30', '2007-07-31', '2007-08-01', '2007-08-02', '2007-08-03', '2007-08-06', '2007-08-07', '2007-08-08', '2007-08-09', '2007-08-10', '2007-08-13', '2007-08-14', '2007-08-15', '2007-08-16', '2007-08-17', '2007-08-20', '2007-08-21', '2007-08-22', '2007-08-23', '2007-08-24', '2007-08-27', '2007-08-28', '2007-08-29', '2007-08-30', '2007-08-31', '2007-09-03', '2007-09-04', '2007-09-05', '2007-09-06', '2007-09-07', '2007-09-10', '2007-09-11', '2007-09-12', '2007-09-13', '2007-09-14', '2007-09-17', '2007-09-18', '2007-09-19', '2007-09-20', '2007-09-21', '2007-09-24', '2007-09-25', '2007-09-26', '2007-09-27', '2007-09-28', '2007-10-01', '2007-10-02', '2007-10-03', '2007-10-04', '2007-10-05', '2007-10-08', '2007-10-09', '2007-10-10', '2007-10-11', '2007-10-12', '2007-10-15', '2007-10-16', '2007-10-17', '2007-10-18', '2007-10-19', '2007-10-22', '2007-10-23', '2007-10-24', '2007-10-25', '2007-10-26', '2007-10-29', '2007-10-30', '2007-10-31', '2007-11-01', '2007-11-02', '2007-11-05', '2007-11-06', '2007-11-07', '2007-11-08', '2007-11-09', '2007-11-12', '2007-11-13', '2007-11-14', '2007-11-15', '2007-11-16', '2007-11-19', '2007-11-20', '2007-11-21', '2007-11-22', '2007-11-23', '2007-11-26', '2007-11-27', '2007-11-28', '2007-11-29', '2007-11-30', '2007-12-03', '2007-12-04', '2007-12-05', '2007-12-06', '2007-12-07', '2007-12-10', '2007-12-11', '2007-12-12', '2007-12-13', '2007-12-14', '2007-12-17', '2007-12-18', '2007-12-19', '2007-12-20', '2007-12-21', '2007-12-24', '2007-12-25', '2007-12-26', '2007-12-27', '2007-12-28', '2007-12-31', '2008-01-01', '2008-01-02', '2008-01-03', '2008-01-04', '2008-01-07', '2008-01-08', '2008-01-09', '2008-01-10', '2008-01-11', '2008-01-14', '2008-01-15', '2008-01-16', '2008-01-17', '2008-01-18', '2008-01-21', '2008-01-22', '2008-01-23', '2008-01-24', '2008-01-25', '2008-01-28', '2008-01-29', '2008-01-30', '2008-01-31', '2008-02-01', '2008-02-04', '2008-02-05', '2008-02-06', '2008-02-07', '2008-02-08', '2008-02-11', '2008-02-12', '2008-02-13', '2008-02-14', '2008-02-15', '2008-02-18', '2008-02-19', '2008-02-20', '2008-02-21', '2008-02-22', '2008-02-25', '2008-02-26', '2008-02-27', '2008-02-28', '2008-02-29', '2008-03-03', '2008-03-04', '2008-03-05', '2008-03-06', '2008-03-07', '2008-03-10', '2008-03-11', '2008-03-12', '2008-03-13', '2008-03-14', '2008-03-17', '2008-03-18', '2008-03-19', '2008-03-20', '2008-03-21', '2008-03-24', '2008-03-25', '2008-03-26', '2008-03-27', '2008-03-28', '2008-03-31', '2008-04-01', '2008-04-02', '2008-04-03', '2008-04-04', '2008-04-07', '2008-04-08', '2008-04-09', '2008-04-10', '2008-04-11', '2008-04-14', '2008-04-15', '2008-04-16', '2008-04-17', '2008-04-18', '2008-04-21', '2008-04-22', '2008-04-23', '2008-04-24', '2008-04-25', '2008-04-28', '2008-04-29', '2008-04-30', '2008-05-02', '2008-05-05', '2008-05-06', '2008-05-07', '2008-05-08', '2008-05-09', '2008-05-12', '2008-05-13', '2008-05-14', '2008-05-15', '2008-05-16', '2008-05-19', '2008-05-20', '2008-05-21', '2008-05-22', '2008-05-23', '2008-05-26', '2008-05-27', '2008-05-28', '2008-05-29', '2008-05-30', '2008-06-02', '2008-06-03', '2008-06-04', '2008-06-05', '2008-06-06', '2008-06-09', '2008-06-10', '2008-06-11', '2008-06-12', '2008-06-13', '2008-06-16', '2008-06-17', '2008-06-18', '2008-06-19', '2008-06-20', '2008-06-23', '2008-06-24', '2008-06-25', '2008-06-26', '2008-06-27', '2008-06-30', '2008-07-01', '2008-07-02', '2008-07-03', '2008-07-04', '2008-07-07', '2008-07-08', '2008-07-09', '2008-07-10', '2008-07-11', '2008-07-14', '2008-07-15', '2008-07-16', '2008-07-17', '2008-07-18', '2008-07-21', '2008-07-22', '2008-07-23', '2008-07-24', '2008-07-25', '2008-07-28', '2008-08-18', '2008-08-19', '2008-08-20', '2008-08-21', '2008-08-22', '2008-08-25', '2008-08-26', '2008-08-27', '2008-08-28', '2008-08-29', '2008-09-01', '2008-09-02', '2008-09-03', '2008-09-04', '2008-09-05', '2008-09-08', '2008-09-09', '2008-09-10', '2008-09-11', '2008-09-12', '2008-09-15', '2008-09-16', '2008-09-17', '2008-09-18', '2008-09-19', '2008-09-22', '2008-09-23', '2008-09-24', '2008-09-25', '2008-09-26', '2008-09-29', '2008-09-30', '2008-10-01', '2008-10-02', '2008-10-03', '2008-10-06', '2008-10-07', '2008-10-08', '2008-10-09', '2008-10-10', '2008-10-13', '2008-10-14', '2008-10-15', '2008-10-16', '2008-10-17', '2008-10-20', '2008-10-21', '2008-10-22', '2008-10-23', '2008-10-24', '2008-10-27', '2008-10-28', '2008-10-29', '2008-10-30', '2008-10-31', '2008-11-03', '2008-11-04', '2008-11-05', '2008-11-06', '2008-11-07', '2008-11-10', '2008-11-11', '2008-11-12', '2008-11-13', '2008-11-14', '2008-11-17', '2008-11-18', '2008-11-19', '2008-11-20', '2008-11-21', '2008-11-24', '2008-11-25', '2008-11-26', '2008-11-27', '2008-11-28', '2008-12-01', '2008-12-02', '2008-12-03', '2008-12-04', '2008-12-05', '2008-12-08', '2008-12-09', '2008-12-10', '2008-12-11', '2008-12-12', '2008-12-15', '2008-12-16', '2008-12-17', '2008-12-18', '2008-12-19', '2008-12-22', '2008-12-23', '2008-12-24', '2008-12-25', '2008-12-26', '2008-12-29', '2008-12-30', '2008-12-31', '2009-01-01', '2009-01-02', '2009-01-05', '2009-01-06', '2009-01-07', '2009-01-08', '2009-01-09', '2009-01-12', '2009-01-13', '2009-01-14', '2009-01-15', '2009-01-16', '2009-01-19', '2009-01-20', '2009-01-21', '2009-01-22', '2009-01-23', '2009-01-26', '2009-01-27', '2009-01-28', '2009-01-29', '2009-01-30', '2009-02-02', '2009-02-03', '2009-02-04', '2009-02-05', '2009-02-06', '2009-02-09', '2009-02-10', '2009-02-11', '2009-02-12', '2009-02-13', '2009-02-16', '2009-02-17', '2009-02-18', '2009-02-19', '2009-02-20', '2009-02-23', '2009-02-24', '2009-02-25', '2009-02-26', '2009-02-27', '2009-03-02', '2009-03-03', '2009-03-04', '2009-03-05', '2009-03-06', '2009-03-09', '2009-03-10', '2009-03-11', '2009-03-12', '2009-03-13', '2009-03-16', '2009-03-17', '2009-03-18', '2009-03-19', '2009-03-20', '2009-03-23', '2009-03-24', '2009-03-25', '2009-03-26', '2009-03-27', '2009-03-30', '2009-03-31', '2009-04-01', '2009-04-02', '2009-04-03', '2009-04-06', '2009-04-07', '2009-04-08', '2009-04-09', '2009-04-10', '2009-04-14', '2009-04-15', '2009-04-16', '2009-04-17', '2009-04-20', '2009-04-21', '2009-04-22', '2009-04-23', '2009-04-24', '2009-04-27', '2009-04-28', '2009-04-29', '2009-04-30', '2009-05-01', '2009-05-04', '2009-05-05', '2009-05-06', '2009-05-07', '2009-05-08', '2009-05-11', '2009-05-12', '2009-05-13', '2009-05-14', '2009-05-15', '2009-05-18', '2009-05-19', '2009-05-20', '2009-05-21', '2009-05-22', '2009-05-25', '2009-05-26', '2009-05-27', '2009-05-28', '2009-05-29', '2009-06-01', '2009-06-02', '2009-06-03', '2009-06-04', '2009-06-05', '2009-06-08', '2009-06-09', '2009-06-10', '2009-06-11', '2009-06-12', '2009-06-15', '2009-06-16', '2009-06-17', '2009-06-18', '2009-06-19', '2009-06-22', '2009-06-23', '2009-06-24', '2009-06-25', '2009-06-26', '2009-06-29', '2009-06-30', '2009-07-01', '2009-07-02', '2009-07-03', '2009-07-06', '2009-07-07', '2009-07-08', '2009-07-09', '2009-07-10', '2009-07-13', '2009-07-14', '2009-07-15', '2009-07-16', '2009-07-17', '2009-07-20', '2009-07-21', '2009-07-22', '2009-07-23', '2009-07-24', '2009-07-27', '2009-07-28', '2009-07-29', '2009-07-30', '2009-07-31', '2009-08-03', '2009-08-04', '2009-08-05', '2009-08-06', '2009-08-07', '2009-08-10', '2009-08-11', '2009-08-12', '2009-08-13', '2009-08-14', '2009-08-17', '2009-08-18', '2009-08-19', '2009-08-20', '2009-08-21', '2009-08-24', '2009-08-25', '2009-08-26', '2009-08-27', '2009-08-28', '2009-08-31', '2009-09-01', '2009-09-02', '2009-09-03', '2009-09-04', '2009-09-07', '2009-09-08', '2009-09-09', '2009-09-10', '2009-09-11', '2009-09-14', '2009-09-15', '2009-09-16', '2009-09-17', '2009-09-18', '2009-09-21', '2009-09-22', '2009-09-23', '2009-09-24', '2009-09-25', '2009-09-28', '2009-09-29', '2009-09-30', '2009-10-01', '2009-10-02', '2009-10-05', '2009-10-06', '2009-10-07', '2009-10-08', '2009-10-09', '2009-10-12', '2009-10-13', '2009-10-14', '2009-10-15', '2009-10-16', '2009-10-19', '2009-10-20', '2009-10-21', '2009-10-22', '2009-10-23', '2009-10-26', '2009-10-27', '2009-10-28', '2009-10-29', '2009-10-30', '2009-11-02', '2009-11-03', '2009-11-04', '2009-11-05', '2009-11-06', '2009-11-09', '2009-11-10', '2009-11-11', '2009-11-12', '2009-11-13', '2009-11-16', '2009-11-17', '2009-11-18', '2009-11-19', '2009-11-20', '2009-11-23', '2009-11-24', '2009-11-25', '2009-11-26', '2009-11-27', '2009-11-30', '2009-12-01', '2009-12-02', '2009-12-03', '2009-12-04', '2009-12-07', '2009-12-08', '2009-12-09', '2009-12-10', '2009-12-11', '2009-12-14', '2009-12-15', '2009-12-16', '2009-12-17', '2009-12-18', '2009-12-21', '2009-12-22', '2009-12-23', '2009-12-24', '2009-12-28', '2009-12-29', '2009-12-30', '2009-12-31', '2010-01-04', '2010-01-05', '2010-01-06', '2010-01-07', '2010-01-08', '2010-01-11', '2010-01-12', '2010-01-13', '2010-01-14', '2010-01-15', '2010-01-18', '2010-01-19', '2010-01-20', '2010-01-21', '2010-01-22', '2010-01-25', '2010-01-26', '2010-01-27', '2010-01-28', '2010-01-29', '2010-02-01', '2010-02-02', '2010-02-03', '2010-02-04', '2010-02-05', '2010-02-08', '2010-02-09', '2010-02-10', '2010-02-11', '2010-02-12', '2010-02-15', '2010-02-16', '2010-02-17', '2010-02-18', '2010-02-19', '2010-02-22', '2010-02-23', '2010-02-24', '2010-02-25', '2010-02-26', '2010-03-01', '2010-03-02', '2010-03-03', '2010-03-04', '2010-03-05', '2010-03-08', '2010-03-09', '2010-03-10', '2010-03-11', '2010-03-12', '2010-03-15', '2010-03-16', '2010-03-17', '2010-03-18', '2010-03-19', '2010-03-22', '2010-03-23', '2010-03-24', '2010-03-25', '2010-03-26', '2010-03-29', '2010-03-30', '2010-03-31', '2010-04-01', '2010-04-06', '2010-04-07', '2010-04-08', '2010-04-09', '2010-04-12', '2010-04-13', '2010-04-14', '2010-04-15', '2010-04-16', '2010-04-19', '2010-04-20', '2010-04-21', '2010-04-22', '2010-04-23', '2010-04-26', '2010-04-27', '2010-04-28', '2010-04-29', '2010-04-30', '2010-05-03', '2010-05-04', '2010-05-05', '2010-05-06', '2010-05-07', '2010-05-10', '2010-05-11', '2010-05-12', '2010-05-13', '2010-05-14', '2010-05-17', '2010-05-18', '2010-05-19', '2010-05-20', '2010-05-21', '2010-05-24', '2010-05-25', '2010-05-26', '2010-05-27', '2010-05-28', '2010-05-31', '2010-06-01', '2010-06-02', '2010-06-03', '2010-06-04', '2010-06-07', '2010-06-08', '2010-06-09', '2010-06-10', '2010-06-11', '2010-06-14', '2010-06-15', '2010-06-16', '2010-06-17', '2010-06-18', '2010-06-21', '2010-06-22', '2010-06-23', '2010-06-24', '2010-06-25', '2010-06-28', '2010-06-29', '2010-06-30', '2010-07-01', '2010-07-02', '2010-07-05', '2010-07-06', '2010-07-07', '2010-07-08', '2010-07-09', '2010-07-12', '2010-07-13', '2010-07-14', '2010-07-15', '2010-07-16', '2010-07-19', '2010-07-20', '2010-07-21', '2010-07-22', '2010-07-23', '2010-07-26', '2010-07-27', '2010-07-28', '2010-07-29', '2010-07-30', '2010-08-02', '2010-08-03', '2010-08-04', '2010-08-05', '2010-08-06', '2010-08-09', '2010-08-10', '2010-08-11', '2010-08-12', '2010-08-13', '2010-08-16', '2010-08-17', '2010-08-18', '2010-08-19', '2010-08-20', '2010-08-23', '2010-08-24', '2010-08-25', '2010-08-26', '2010-08-27', '2010-08-30', '2010-08-31', '2010-09-01', '2010-09-02', '2010-09-03', '2010-09-06', '2010-09-07', '2010-09-08', '2010-09-09', '2010-09-10', '2010-09-13', '2010-09-14', '2010-09-15', '2010-09-16', '2010-09-17', '2010-09-20', '2010-09-21', '2010-09-22', '2010-09-23', '2010-09-24', '2010-09-27', '2010-09-28', '2010-09-29', '2010-09-30', '2010-10-01', '2010-10-04', '2010-10-05', '2010-10-06', '2010-10-07', '2010-10-08', '2010-10-11', '2010-10-12', '2010-10-13', '2010-10-15', '2010-10-18', '2010-10-19', '2010-10-20', '2010-10-21', '2010-10-22', '2010-10-25', '2010-10-26', '2010-10-27', '2010-10-28', '2010-10-29', '2010-11-01', '2010-11-02', '2010-11-03', '2010-11-04', '2010-11-05', '2010-11-08', '2010-11-09', '2010-11-10', '2010-11-11', '2010-11-12', '2010-11-15', '2010-11-16', '2010-11-17', '2010-11-18', '2010-11-19', '2010-11-22', '2010-11-23', '2010-11-24', '2010-11-25', '2010-11-26', '2010-11-29', '2010-11-30', '2010-12-01', '2010-12-02', '2010-12-03', '2010-12-06', '2010-12-07', '2010-12-08', '2010-12-09', '2010-12-10', '2010-12-13', '2010-12-14', '2010-12-15', '2010-12-16', '2010-12-17', '2010-12-20', '2010-12-21', '2010-12-22', '2010-12-23', '2010-12-27', '2010-12-28', '2010-12-29', '2010-12-30', '2011-01-03', '2011-01-04', '2011-01-05', '2011-01-06', '2011-01-07', '2011-01-10', '2011-01-11', '2011-01-12', '2011-01-13', '2011-01-14', '2011-01-17', '2011-01-18', '2011-01-19', '2011-01-20', '2011-01-21', '2011-01-24', '2011-01-25', '2011-01-26', '2011-01-27', '2011-01-28', '2011-01-31', '2011-02-01', '2011-02-02', '2011-02-03', '2011-02-04', '2011-02-07', '2011-02-08', '2011-02-09', '2011-02-10', '2011-02-11', '2011-02-14', '2011-02-15', '2011-02-16', '2011-02-17', '2011-02-18', '2011-02-21', '2011-02-22', '2011-02-23', '2011-02-24', '2011-02-25', '2011-02-28', '2011-03-01', '2011-03-02', '2011-03-03', '2011-03-04', '2011-03-07', '2011-03-08', '2011-03-09', '2011-03-10', '2011-03-11', '2011-03-14', '2011-03-15', '2011-03-16', '2011-03-17', '2011-03-18', '2011-03-21', '2011-03-22', '2011-03-23', '2011-03-24', '2011-03-25', '2011-03-28', '2011-03-29', '2011-03-30', '2011-03-31', '2011-04-01', '2011-04-04', '2011-04-05', '2011-04-06', '2011-04-07', '2011-04-08', '2011-04-11', '2011-04-12', '2011-04-13', '2011-04-14', '2011-04-15', '2011-04-18', '2011-04-19', '2011-04-20', '2011-04-21', '2011-04-26', '2011-04-27', '2011-04-28', '2011-04-29', '2011-05-02', '2011-05-03', '2011-05-04', '2011-05-05', '2011-05-06', '2011-05-09', '2011-05-10', '2011-05-11', '2011-05-12', '2011-05-13', '2011-05-16', '2011-05-17', '2011-05-18', '2011-05-19', '2011-05-20', '2011-05-23', '2011-05-24', '2011-05-25', '2011-05-26', '2011-05-27', '2011-05-30', '2011-05-31', '2011-06-01', '2011-06-02', '2011-06-03', '2011-06-06', '2011-06-07', '2011-06-08', '2011-06-09', '2011-06-10', '2011-06-13', '2011-06-14', '2011-06-15', '2011-06-16', '2011-06-17', '2011-06-20', '2011-06-21', '2011-06-22', '2011-06-23', '2011-06-24', '2011-06-27', '2011-06-28', '2011-06-29', '2011-06-30', '2011-07-01', '2011-07-04', '2011-07-05', '2011-07-06', '2011-07-07', '2011-07-08', '2011-07-11', '2011-07-12', '2011-07-13', '2011-07-14', '2011-07-15', '2011-07-18', '2011-07-19', '2011-07-20', '2011-07-21', '2011-07-22', '2011-07-25', '2011-07-26', '2011-07-27', '2011-07-28', '2011-07-29', '2011-08-01', '2011-08-02', '2011-08-03', '2011-08-04', '2011-08-05', '2011-08-08', '2011-08-09', '2011-08-10', '2011-08-11', '2011-08-12', '2011-08-15', '2011-08-16', '2011-08-17', '2011-08-18', '2011-08-19', '2011-08-22', '2011-08-23', '2011-08-24', '2011-08-25', '2011-08-26', '2011-08-29', '2011-08-30', '2011-08-31', '2011-09-01', '2011-09-02', '2011-09-05', '2011-09-06', '2011-09-07', '2011-09-08', '2011-09-09', '2011-09-12', '2011-09-13', '2011-09-14', '2011-09-15', '2011-09-16', '2011-09-19', '2011-09-20', '2011-09-21', '2011-09-22', '2011-09-23', '2011-09-26', '2011-09-27', '2011-09-28', '2011-09-29', '2011-09-30', '2011-10-03', '2011-10-04', '2011-10-05', '2011-10-06', '2011-10-07', '2011-10-10', '2011-10-11', '2011-10-12', '2011-10-13', '2011-10-14', '2011-10-17', '2011-10-18', '2011-10-19', '2011-10-20', '2011-10-21', '2011-10-24', '2011-10-25', '2011-10-26', '2011-10-27', '2011-10-28', '2011-10-31', '2011-11-01', '2011-11-02', '2011-11-03', '2011-11-04', '2011-11-07', '2011-11-08', '2011-11-09', '2011-11-10', '2011-11-11', '2011-11-14', '2011-11-15', '2011-11-16', '2011-11-17', '2011-11-18', '2011-11-21', '2011-11-22', '2011-11-23', '2011-11-24', '2011-11-25', '2011-11-28', '2011-11-29', '2011-11-30', '2011-12-01', '2011-12-02', '2011-12-05', '2011-12-06', '2011-12-07', '2011-12-08', '2011-12-09', '2011-12-12', '2011-12-13', '2011-12-14', '2011-12-15', '2011-12-16', '2011-12-19', '2011-12-20', '2011-12-21', '2011-12-22', '2011-12-23', '2011-12-26', '2011-12-27', '2011-12-28', '2011-12-29', '2011-12-30', '2012-01-02', '2012-01-03', '2012-01-04', '2012-01-05', '2012-01-06', '2012-01-09', '2012-01-10', '2012-01-11', '2012-01-12', '2012-01-13', '2012-01-16', '2012-01-17', '2012-01-18', '2012-01-19', '2012-01-20', '2012-01-23', '2012-01-24', '2012-01-25', '2012-01-26', '2012-01-27', '2012-01-30', '2012-01-31', '2012-02-01', '2012-02-02', '2012-02-03', '2012-02-06', '2012-02-07', '2012-02-08', '2012-02-09', '2012-02-10', '2012-02-13', '2012-02-14', '2012-02-15', '2012-02-16', '2012-02-17', '2012-02-20', '2012-02-21', '2012-02-22', '2012-02-23', '2012-02-24', '2012-02-27', '2012-02-28', '2012-02-29', '2012-03-01', '2012-03-02', '2012-03-05', '2012-03-06', '2012-03-07', '2012-03-08', '2012-03-09', '2012-03-12', '2012-03-13', '2012-03-14', '2012-03-15', '2012-03-16', '2012-03-19', '2012-03-20', '2012-03-21', '2012-03-22', '2012-03-23', '2012-03-26', '2012-03-27', '2012-03-28', '2012-03-29', '2012-03-30', '2012-04-02', '2012-04-03', '2012-04-04', '2012-04-05', '2012-04-06', '2012-04-09', '2012-04-10', '2012-04-11', '2012-04-12', '2012-04-13', '2012-04-16', '2012-04-17', '2012-04-18', '2012-04-19', '2012-04-20', '2012-04-23', '2012-04-24', '2012-04-25', '2012-04-26', '2012-04-27', '2012-04-30', '2012-05-01', '2012-05-02', '2012-05-03', '2012-05-04', '2012-05-07', '2012-05-08', '2012-05-09', '2012-05-10', '2012-05-11', '2012-05-14', '2012-05-15', '2012-05-16', '2012-05-17', '2012-05-18', '2012-05-21', '2012-05-22', '2012-05-23', '2012-05-24', '2012-05-25', '2012-05-28', '2012-05-29', '2012-05-30', '2012-05-31', '2012-06-01', '2012-06-04', '2012-06-05', '2012-06-06', '2012-06-07', '2012-06-08', '2012-06-11', '2012-06-12', '2012-06-13', '2012-06-14', '2012-06-15', '2012-06-18', '2012-06-19', '2012-06-20', '2012-06-21', '2012-06-22', '2012-06-25', '2012-06-26', '2012-06-27', '2012-06-28', '2012-06-29', '2012-07-02', '2012-07-03', '2012-07-04', '2012-07-05', '2012-07-06', '2012-07-09', '2012-07-10', '2012-07-11', '2012-07-12', '2012-07-13', '2012-07-16', '2012-07-17', '2012-07-18', '2012-07-19', '2012-07-20', '2012-07-23', '2012-07-24', '2012-07-25', '2012-07-26', '2012-07-27', '2012-07-30', '2012-07-31', '2012-08-01', '2012-08-02', '2012-08-03', '2012-08-06', '2012-08-07', '2012-08-08', '2012-08-09', '2012-08-10', '2012-08-13', '2012-08-14', '2012-08-15', '2012-08-16', '2012-08-17', '2012-08-20', '2012-08-21', '2012-08-22', '2012-08-23', '2012-08-24', '2012-08-27', '2012-08-28', '2012-08-29', '2012-08-30', '2012-08-31', '2012-09-03', '2012-09-04', '2012-09-05', '2012-09-06', '2012-09-07', '2012-09-10', '2012-09-11', '2012-09-12', '2012-09-13', '2012-09-14', '2012-09-17', '2012-09-18', '2012-09-19', '2012-09-20', '2012-09-21', '2012-09-24', '2012-09-25', '2012-09-26', '2012-09-27', '2012-09-28', '2012-10-01', '2012-10-02', '2012-10-03', '2012-10-04', '2012-10-05', '2012-10-08', '2012-10-09', '2012-10-10', '2012-10-11', '2012-10-12', '2012-10-15', '2012-10-16', '2012-10-17', '2012-10-18', '2012-10-19', '2012-10-22', '2012-10-23', '2012-10-24', '2012-10-25', '2012-10-26', '2012-10-29', '2012-10-30', '2012-10-31', '2012-11-01', '2012-11-02', '2012-11-05', '2012-11-06', '2012-11-07', '2012-11-08', '2012-11-09', '2012-11-12', '2012-11-13', '2012-11-14', '2012-11-15', '2012-11-16', '2012-11-19', '2012-11-20', '2012-11-21', '2012-11-22', '2012-11-23', '2012-11-26', '2012-11-27', '2012-11-28', '2012-11-29', '2012-11-30', '2012-12-03', '2012-12-04', '2012-12-05', '2012-12-06', '2012-12-07', '2012-12-10', '2012-12-11', '2012-12-12', '2012-12-13', '2012-12-14', '2012-12-17', '2012-12-18', '2012-12-19', '2012-12-20', '2012-12-21', '2012-12-24', '2012-12-25', '2012-12-26', '2012-12-27', '2012-12-28', '2012-12-31', '2013-01-01', '2013-01-02', '2013-01-03', '2013-01-04', '2013-01-07', '2013-01-08', '2013-01-09', '2013-01-10', '2013-01-11', '2013-01-14', '2013-01-15', '2013-01-16', '2013-01-17', '2013-01-18', '2013-01-21', '2013-01-22', '2013-01-23', '2013-01-24', '2013-01-25', '2013-01-28', '2013-01-29', '2013-01-30', '2013-01-31', '2013-02-01', '2013-02-04', '2013-02-05', '2013-02-06', '2013-02-07', '2013-02-08', '2013-02-11', '2013-02-12', '2013-02-13', '2013-02-14', '2013-02-15', '2013-02-18', '2013-02-19', '2013-02-20', '2013-02-21', '2013-02-22', '2013-02-25', '2013-02-26', '2013-02-27', '2013-02-28', '2013-03-01', '2013-03-04', '2013-03-05', '2013-03-06', '2013-03-07', '2013-03-08', '2013-03-11', '2013-03-12', '2013-03-13', '2013-03-14', '2013-03-15', '2013-03-18', '2013-03-19', '2013-03-20', '2013-03-21', '2013-03-22', '2013-03-25', '2013-03-26', '2013-03-27', '2013-03-28', '2013-03-29', '2013-04-01', '2013-04-02', '2013-04-03', '2013-04-04', '2013-04-05', '2013-04-08', '2013-04-09', '2013-04-10', '2013-04-11', '2013-04-12', '2013-04-15', '2013-04-16', '2013-04-17', '2013-04-18', '2013-04-19', '2013-04-22', '2013-04-23', '2013-04-24', '2013-04-25', '2013-04-26', '2013-04-29', '2013-04-30', '2013-05-01', '2013-05-02', '2013-05-03', '2013-05-06', '2013-05-07', '2013-05-08', '2013-05-09', '2013-05-10', '2013-05-13', '2013-05-14', '2013-05-15', '2013-05-16', '2013-05-17', '2013-05-20', '2013-05-21', '2013-05-22', '2013-05-23', '2013-05-24', '2013-05-27', '2013-05-28', '2013-05-29', '2013-05-30', '2013-05-31', '2013-06-03', '2013-06-04', '2013-06-05', '2013-06-06', '2013-06-07', '2013-06-10', '2013-06-11', '2013-06-12', '2013-06-13', '2013-06-14', '2013-06-17', '2013-06-18', '2013-06-19', '2013-06-20', '2013-06-21', '2013-06-24', '2013-06-25', '2013-06-26', '2013-06-27', '2013-06-28', '2013-07-01', '2013-07-02', '2013-07-03', '2013-07-04', '2013-07-05', '2013-07-08', '2013-07-09', '2013-07-10', '2013-07-11', '2013-07-12', '2013-07-15', '2013-07-16', '2013-07-17', '2013-07-18', '2013-07-19', '2013-07-22', '2013-07-23', '2013-07-24', '2013-07-25', '2013-07-26', '2013-07-29', '2013-07-30', '2013-07-31', '2013-08-01', '2013-08-02', '2013-08-05', '2013-08-06', '2013-08-07', '2013-08-08', '2013-08-09', '2013-08-12', '2013-08-13', '2013-08-14', '2013-08-15', '2013-08-16', '2013-08-19', '2013-08-20', '2013-08-21', '2013-08-22', '2013-08-23', '2013-08-26', '2013-08-27', '2013-08-28', '2013-08-29', '2013-08-30', '2013-09-02', '2013-09-03', '2013-09-04', '2013-09-05', '2013-09-06', '2013-09-09', '2013-09-10', '2013-09-11', '2013-09-12', '2013-09-13', '2013-09-16', '2013-09-17', '2013-09-18', '2013-09-19', '2013-09-20', '2013-09-23', '2013-09-24', '2013-09-25', '2013-09-26', '2013-09-27', '2013-09-30', '2013-10-01', '2013-10-02', '2013-10-03', '2013-10-04', '2013-10-07', '2013-10-08', '2013-10-09', '2013-10-10', '2013-10-11', '2013-10-14', '2013-10-15', '2013-10-16', '2013-10-17', '2013-10-18', '2013-10-21', '2013-10-22', '2013-10-23', '2013-10-24', '2013-10-25', '2013-10-28', '2013-10-29', '2013-10-30', '2013-10-31', '2013-11-01', '2013-11-04', '2013-11-05', '2013-11-06', '2013-11-07', '2013-11-08', '2013-11-11', '2013-11-12', '2013-11-13', '2013-11-14', '2013-11-15', '2013-11-18', '2013-11-19', '2013-11-20', '2013-11-21', '2013-11-22', '2013-11-25', '2013-11-26', '2013-11-27', '2013-11-28', '2013-11-29', '2013-12-02', '2013-12-03', '2013-12-04', '2013-12-05', '2013-12-06', '2013-12-09', '2013-12-10', '2013-12-11', '2013-12-12', '2013-12-13', '2013-12-16', '2013-12-17', '2013-12-18', '2013-12-19', '2013-12-20', '2013-12-23', '2013-12-24', '2013-12-25', '2013-12-26', '2013-12-27', '2013-12-30', '2013-12-31', '2014-01-01', '2014-01-02', '2014-01-03', '2014-01-06', '2014-01-07', '2014-01-08', '2014-01-09', '2014-01-10', '2014-01-13', '2014-01-14', '2014-01-15', '2014-01-16', '2014-01-17', '2014-01-20', '2014-01-21', '2014-01-22', '2014-01-23', '2014-01-24', '2014-01-27', '2014-01-28', '2014-01-29', '2014-01-30', '2014-01-31', '2014-02-03', '2014-02-04', '2014-02-05', '2014-02-06', '2014-02-07', '2014-02-10', '2014-02-11', '2014-02-12', '2014-02-13', '2014-02-14', '2014-02-17', '2014-02-18', '2014-02-19', '2014-02-20', '2014-02-21', '2014-02-24', '2014-02-25', '2014-02-26', '2014-02-27', '2014-02-28', '2014-03-03', '2014-03-04', '2014-03-05', '2014-03-06', '2014-03-07', '2014-03-10', '2014-03-11', '2014-03-12', '2014-03-13', '2014-03-14', '2014-03-17', '2014-03-18', '2014-03-19', '2014-03-20', '2014-03-21', '2014-03-24', '2014-03-25', '2014-03-26', '2014-03-27', '2014-03-28', '2014-03-31', '2014-04-01', '2014-04-02', '2014-04-03', '2014-04-04', '2014-04-07', '2014-04-08', '2014-04-09', '2014-04-10', '2014-04-11', '2014-04-14', '2014-04-15', '2014-04-16', '2014-04-17', '2014-04-18', '2014-04-21', '2014-04-22', '2014-04-23', '2014-04-24', '2014-04-25', '2014-04-28', '2014-04-29', '2014-04-30', '2014-05-01', '2014-05-02', '2014-05-05', '2014-05-06', '2014-05-07', '2014-05-08', '2014-05-09', '2014-05-12', '2014-05-13', '2014-05-14', '2014-05-15', '2014-05-16', '2014-05-19', '2014-05-20', '2014-05-21', '2014-05-22', '2014-05-23', '2014-05-26', '2014-05-27', '2014-05-28', '2014-05-29', '2014-05-30', '2014-06-02', '2014-06-03', '2014-06-04', '2014-06-05', '2014-06-06', '2014-06-09', '2014-06-10', '2014-06-11', '2014-06-12', '2014-06-13', '2014-06-16', '2014-06-17', '2014-06-18', '2014-06-19', '2014-06-20', '2014-06-23', '2014-06-24', '2014-06-25', '2014-06-26', '2014-06-27', '2014-06-30', '2014-07-01', '2014-07-02', '2014-07-03', '2014-07-04', '2014-07-07', '2014-07-08', '2014-07-09', '2014-07-10', '2014-07-11', '2014-07-14', '2014-07-15', '2014-07-16'], [20.69, 20.7, 20.84, 21.0, 21.05, 21.15, 21.29, 21.45, 21.52, 21.8, 21.9, 21.94, 22.05, 22.1, 22.19, 22.3, 22.33, 22.36, 22.37, 22.39, 22.4, 22.46, 22.5, 22.55, 22.57, 22.66, 22.68, 22.69, 22.75, 22.76, 23.15, 23.2, 23.21, 23.22, 23.25, 23.26, 23.3, 23.32, 23.46, 23.53, 23.58, 23.65, 23.7, 23.75, 23.77, 23.93, 24.03, 24.1, 24.13, 24.21, 24.24, 24.25, 24.26, 24.32, 24.4, 24.5, 24.63, 24.64, 24.65, 24.75, 24.77, 24.85, 24.86, 24.87, 24.9, 25.0, 25.15, 25.25, 25.28, 25.3, 25.4, 25.44, 25.45, 25.46, 25.5, 25.54, 25.56, 25.62, 25.67, 25.7, 25.76, 25.78, 25.8, 25.84, 25.85, 25.88, 25.94, 25.96, 26.0, 26.01, 26.03, 26.19, 26.2, 26.35, 26.4, 26.42, 26.5, 26.51, 26.6, 26.67, 26.7, 26.72, 26.75, 26.77, 26.79, 26.8, 26.89, 26.91, 26.92, 26.96, 27.0, 27.05, 27.07, 27.17, 27.3, 27.46, 27.5, 27.52, 27.53, 27.6, 27.66, 27.7, 27.73, 27.77, 27.79, 27.8, 27.9, 27.95, 27.99, 28.01, 28.02, 28.05, 28.2, 28.25, 28.29, 28.41, 28.57, 28.67, 28.8, 28.81, 28.85, 28.88, 28.9, 28.95, 28.98, 29.03, 29.05, 29.06, 29.14, 29.15, 29.17, 29.2, 29.3, 29.35, 29.45, 29.5, 29.65, 29.71, 29.9, 30.04, 30.09, 30.11, 30.24, 30.25, 30.29, 30.3, 30.48, 30.53, 30.77, 30.8, 30.89, 30.92, 30.98, 31.17, 31.18, 31.19, 31.2, 31.22, 31.25, 31.33, 31.59, 31.68, 31.74, 31.75, 31.8, 31.83, 31.9, 32.0, 32.03, 32.21, 32.3, 32.32, 32.45, 32.48, 32.67, 32.7, 32.8, 32.85, 32.89, 32.99, 33.05, 33.1, 33.15, 33.16, 33.3, 33.31, 33.35, 33.39, 33.41, 33.46, 33.5, 33.53, 33.55, 33.56, 33.57, 33.59, 33.61, 33.75, 33.83, 33.84, 33.89, 33.9, 33.92, 33.99, 34.0, 34.01, 34.04, 34.08, 34.1, 34.16, 34.17, 34.18, 34.2, 34.21, 34.24, 34.25, 34.3, 34.32, 34.34, 34.36, 34.4, 34.5, 34.59, 34.66, 34.7, 34.71, 34.74, 34.75, 34.78, 34.79, 34.83, 34.9, 34.91, 34.92, 34.95, 34.97, 35.0, 35.01, 35.07, 35.1, 35.11, 35.12, 35.16, 35.19, 35.24, 35.27, 35.38, 35.39, 35.4, 35.5, 35.52, 35.55, 35.65, 35.75, 35.78, 35.8, 35.85, 35.89, 35.9, 35.92, 35.93, 35.95, 35.97, 35.99, 36.0, 36.02, 36.05, 36.07, 36.08, 36.12, 36.13, 36.14, 36.15, 36.2, 36.21, 36.22, 36.25, 36.28, 36.3, 36.32, 36.35, 36.36, 36.39, 36.4, 36.42, 36.43, 36.47, 36.48, 36.49, 36.5, 36.51, 36.53, 36.59, 36.62, 36.63, 36.65, 36.69, 36.7, 36.73, 36.75, 36.76, 36.8, 36.9, 36.96, 36.97, 36.98, 36.99, 37.0, 37.01, 37.05, 37.1, 37.18, 37.19, 37.21, 37.25, 37.26, 37.29, 37.3, 37.32, 37.33, 37.34, 37.35, 37.36, 37.4, 37.45, 37.46, 37.5, 37.52, 37.55, 37.6, 37.62, 37.65, 37.68, 37.7, 37.71, 37.72, 37.75, 37.8, 37.82, 37.88, 37.9, 37.92, 37.94, 37.95, 37.97, 37.98, 37.99, 38.0, 38.05, 38.09, 38.1, 38.14, 38.15, 38.16, 38.2, 38.21, 38.25, 38.28, 38.29, 38.3, 38.32, 38.34, 38.36, 38.38, 38.4, 38.41, 38.44, 38.45, 38.49, 38.5, 38.52, 38.56, 38.57, 38.6, 38.7, 38.75, 38.77, 38.79, 38.8, 38.81, 38.83, 38.87, 38.9, 38.92, 38.93, 38.99, 39.0, 39.02, 39.03, 39.04, 39.05, 39.07, 39.13, 39.15, 39.16, 39.17, 39.18, 39.2, 39.22, 39.23, 39.25, 39.26, 39.27, 39.28, 39.29, 39.3, 39.31, 39.32, 39.33, 39.34, 39.35, 39.37, 39.38, 39.39, 39.4, 39.41, 39.44, 39.45, 39.5, 39.51, 39.52, 39.55, 39.56, 39.59, 39.6, 39.61, 39.62, 39.69, 39.71, 39.72, 39.75, 39.78, 39.79, 39.8, 39.82, 39.83, 39.84, 39.85, 39.87, 39.88, 39.9, 39.92, 39.93, 39.94, 39.95, 39.97, 39.98, 39.99, 40.0, 40.01, 40.04, 40.05, 40.06, 40.08, 40.09, 40.1, 40.15, 40.19, 40.2, 40.21, 40.23, 40.24, 40.25, 40.26, 40.28, 40.29, 40.3, 40.31, 40.32, 40.33, 40.35, 40.37, 40.38, 40.4, 40.42, 40.43, 40.45, 40.47, 40.48, 40.5, 40.51, 40.52, 40.53, 40.54, 40.55, 40.56, 40.6, 40.65, 40.67, 40.68, 40.7, 40.75, 40.77, 40.8, 40.81, 40.82, 40.84, 40.85, 40.86, 40.88, 40.9, 40.91, 40.92, 40.93, 40.98, 41.0, 41.02, 41.03, 41.05, 41.06, 41.07, 41.08, 41.1, 41.11, 41.12, 41.15, 41.17, 41.18, 41.2, 41.21, 41.22, 41.23, 41.25, 41.26, 41.29, 41.3, 41.32, 41.34, 41.38, 41.39, 41.4, 41.42, 41.45, 41.46, 41.48, 41.49, 41.5, 41.53, 41.55, 41.58, 41.6, 41.61, 41.65, 41.66, 41.67, 41.68, 41.7, 41.71, 41.74, 41.75, 41.76, 41.78, 41.79, 41.8, 41.81, 41.82, 41.83, 41.84, 41.85, 41.86, 41.87, 41.88, 41.89, 41.9, 41.91, 41.92, 41.94, 41.95, 41.96, 41.99, 42.0, 42.01, 42.02, 42.04, 42.05, 42.06, 42.09, 42.1, 42.11, 42.12, 42.14, 42.15, 42.16, 42.17, 42.19, 42.2, 42.21, 42.22, 42.24, 42.25, 42.26, 42.29, 42.3, 42.33, 42.34, 42.35, 42.36, 42.37, 42.38, 42.39, 42.4, 42.41, 42.42, 42.44, 42.45, 42.46, 42.47, 42.5, 42.53, 42.55, 42.56, 42.58, 42.6, 42.62, 42.64, 42.65, 42.66, 42.67, 42.68, 42.69, 42.7, 42.71, 42.72, 42.73, 42.75, 42.77, 42.79, 42.8, 42.84, 42.85, 42.86, 42.89, 42.9, 42.91, 42.93, 42.94, 42.95, 42.97, 42.99, 43.0, 43.01, 43.02, 43.05, 43.1, 43.12, 43.15, 43.16, 43.17, 43.2, 43.21, 43.22, 43.23, 43.25, 43.27, 43.28, 43.29, 43.3, 43.31, 43.32, 43.33, 43.34, 43.35, 43.37, 43.38, 43.4, 43.41, 43.42, 43.43, 43.44, 43.45, 43.46, 43.47, 43.48, 43.49, 43.5, 43.51, 43.54, 43.55, 43.56, 43.57, 43.59, 43.6, 43.62, 43.65, 43.66, 43.67, 43.69, 43.7, 43.71, 43.72, 43.74, 43.75, 43.77, 43.79, 43.8, 43.81, 43.82, 43.85, 43.87, 43.88, 43.89, 43.9, 43.94, 43.95, 43.98, 43.99, 44.0, 44.01, 44.02, 44.03, 44.04, 44.05, 44.06, 44.07, 44.1, 44.11, 44.12, 44.15, 44.16, 44.17, 44.18, 44.19, 44.2, 44.22, 44.23, 44.25, 44.27, 44.28, 44.31, 44.32, 44.38, 44.39, 44.4, 44.41, 44.42, 44.44, 44.46, 44.49, 44.5, 44.52, 44.56, 44.58, 44.6, 44.62, 44.63, 44.65, 44.67, 44.68, 44.69, 44.7, 44.72, 44.73, 44.74, 44.75, 44.76, 44.77, 44.78, 44.79, 44.8, 44.81, 44.83, 44.85, 44.87, 44.88, 44.89, 44.9, 44.92, 44.93, 44.94, 44.95, 44.96, 44.97, 44.99, 45.0, 45.01, 45.02, 45.04, 45.05, 45.06, 45.08, 45.09, 45.1, 45.11, 45.13, 45.2, 45.21, 45.22, 45.23, 45.24, 45.25, 45.26, 45.3, 45.31, 45.34, 45.35, 45.4, 45.42, 45.43, 45.44, 45.45, 45.47, 45.48, 45.49, 45.5, 45.51, 45.54, 45.55, 45.56, 45.57, 45.58, 45.6, 45.61, 45.64, 45.65, 45.66, 45.67, 45.68, 45.7, 45.73, 45.74, 45.75, 45.8, 45.81, 45.83, 45.85, 45.89, 45.9, 45.95, 45.96, 45.99, 46.0, 46.01, 46.02, 46.03, 46.04, 46.08, 46.09, 46.1, 46.11, 46.13, 46.15, 46.16, 46.19, 46.2, 46.21, 46.22, 46.23, 46.25, 46.26, 46.27, 46.3, 46.33, 46.34, 46.35, 46.37, 46.4, 46.44, 46.45, 46.46, 46.48, 46.49, 46.5, 46.51, 46.52, 46.54, 46.55, 46.56, 46.57, 46.59, 46.6, 46.61, 46.62, 46.63, 46.64, 46.65, 46.7, 46.74, 46.75, 46.76, 46.78, 46.79, 46.8, 46.81, 46.83, 46.84, 46.85, 46.86, 46.87, 46.9, 46.91, 46.92, 46.94, 46.97, 46.98, 46.99, 47.0, 47.02, 47.05, 47.07, 47.08, 47.09, 47.1, 47.11, 47.12, 47.15, 47.16, 47.2, 47.21, 47.22, 47.24, 47.25, 47.27, 47.28, 47.29, 47.3, 47.31, 47.36, 47.37, 47.39, 47.4, 47.47, 47.48, 47.5, 47.51, 47.55, 47.58, 47.6, 47.61, 47.62, 47.65, 47.7, 47.72, 47.74, 47.75, 47.78, 47.79, 47.8, 47.81, 47.85, 47.89, 47.9, 47.92, 47.93, 47.95, 47.97, 47.98, 48.0, 48.01, 48.05, 48.09, 48.1, 48.15, 48.16, 48.17, 48.19, 48.2, 48.21, 48.23, 48.24, 48.25, 48.26, 48.29, 48.3, 48.35, 48.39, 48.4, 48.41, 48.42, 48.44, 48.45, 48.49, 48.5, 48.51, 48.54, 48.55, 48.57, 48.59, 48.6, 48.65, 48.7, 48.71, 48.73, 48.75, 48.76, 48.77, 48.8, 48.85, 48.86, 48.89, 48.9, 48.91, 48.95, 49.0, 49.05, 49.11, 49.15, 49.17, 49.2, 49.25, 49.26, 49.29, 49.3, 49.35, 49.38, 49.39, 49.4, 49.45, 49.46, 49.48, 49.5, 49.52, 49.6, 49.69, 49.7, 49.76, 49.8, 49.85, 49.88, 49.9, 49.91, 49.92, 49.94, 49.99, 50.0, 50.02, 50.05, 50.13, 50.15, 50.16, 50.18, 50.19, 50.23, 50.25, 50.3, 50.32, 50.39, 50.42, 50.47, 50.49, 50.5, 50.53, 50.56, 50.66, 50.69, 50.76, 50.8, 50.81, 50.86, 50.88, 50.9, 50.92, 50.94, 50.95, 50.96, 50.98, 51.0, 51.01, 51.02, 51.1, 51.15, 51.26, 51.3, 51.34, 51.35, 51.37, 51.38, 51.4, 51.42, 51.44, 51.45, 51.52, 51.53, 51.55, 51.56, 51.59, 51.64, 51.65, 51.69, 51.7, 51.73, 51.75, 51.79, 51.8, 51.82, 51.85, 51.87, 51.88, 51.89, 51.93, 51.95, 51.97, 51.98, 52.0, 52.01, 52.06, 52.15, 52.19, 52.2, 52.25, 52.29, 52.3, 52.35, 52.36, 52.38, 52.42, 52.45, 52.5, 52.55, 52.58, 52.59, 52.6, 52.65, 52.66, 52.7, 52.74, 52.76, 52.77, 52.78, 52.8, 52.83, 52.84, 52.89, 52.9, 52.94, 52.95, 52.97, 53.0, 53.03, 53.09, 53.14, 53.15, 53.2, 53.22, 53.23, 53.24, 53.26, 53.28, 53.44, 53.48, 53.5, 53.6, 53.62, 53.65, 53.72, 53.75, 53.76, 53.77, 53.79, 53.82, 53.83, 53.88, 53.93, 53.99, 54.0, 54.1, 54.19, 54.3, 54.32, 54.34, 54.35, 54.39, 54.43, 54.47, 54.48, 54.49, 54.5, 54.55, 54.59, 54.63, 54.64, 54.66, 54.67, 54.7, 54.74, 54.78, 54.8, 54.82, 54.88, 54.91, 54.94, 54.96, 54.98, 55.0, 55.02, 55.05, 55.09, 55.1, 55.12, 55.15, 55.23, 55.25, 55.26, 55.27, 55.32, 55.35, 55.38, 55.4, 55.47, 55.48, 55.49, 55.55, 55.58, 55.6, 55.61, 55.62, 55.65, 55.7, 55.71, 55.74, 55.75, 55.77, 55.79, 55.8, 55.81, 55.83, 55.85, 55.86, 55.9, 55.93, 55.95, 55.98, 56.0, 56.03, 56.04, 56.08, 56.1, 56.12, 56.14, 56.15, 56.16, 56.19, 56.2, 56.21, 56.25, 56.28, 56.3, 56.31, 56.35, 56.39, 56.4, 56.44, 56.45, 56.5, 56.53, 56.55, 56.58, 56.65, 56.68, 56.7, 56.72, 56.75, 56.77, 56.78, 56.79, 56.83, 56.85, 56.87, 56.9, 56.95, 56.99, 57.0, 57.05, 57.08, 57.1, 57.11, 57.13, 57.17, 57.18, 57.2, 57.24, 57.26, 57.3, 57.32, 57.33, 57.4, 57.42, 57.43, 57.45, 57.49, 57.51, 57.55, 57.58, 57.59, 57.6, 57.61, 57.62, 57.69, 57.7, 57.71, 57.75, 57.76, 57.77, 57.8, 57.81, 57.85, 57.92, 57.93, 57.98, 58.0, 58.01, 58.02, 58.05, 58.08, 58.09, 58.1, 58.13, 58.14, 58.16, 58.18, 58.2, 58.25, 58.3, 58.38, 58.4, 58.5, 58.51, 58.55, 58.56, 58.57, 58.6, 58.61, 58.72, 58.75, 58.79, 58.8, 58.83, 58.84, 58.86, 58.88, 58.95, 58.97, 59.0, 59.02, 59.07, 59.09, 59.1, 59.14, 59.15, 59.16, 59.18, 59.19, 59.25, 59.26, 59.27, 59.29, 59.3, 59.35, 59.39, 59.4, 59.41, 59.42, 59.45, 59.47, 59.51, 59.52, 59.63, 59.65, 59.67, 59.68, 59.7, 59.73, 59.74, 59.75, 59.77, 59.8, 59.81, 59.91, 59.93, 60.0, 60.07, 60.1, 60.15, 60.19, 60.23, 60.25, 60.27, 60.36, 60.4, 60.41, 60.44, 60.47, 60.5, 60.55, 60.56, 60.58, 60.6, 60.62, 60.64, 60.68, 60.7, 60.72, 60.73, 60.75, 60.76, 60.8, 60.81, 60.82, 60.84, 60.85, 60.88, 60.9, 60.91, 60.92, 60.98, 61.0, 61.05, 61.07, 61.08, 61.09, 61.11, 61.14, 61.16, 61.17, 61.18, 61.2, 61.22, 61.28, 61.3, 61.31, 61.35, 61.36, 61.4, 61.42, 61.43, 61.45, 61.47, 61.5, 61.51, 61.52, 61.54, 61.55, 61.57, 61.6, 61.63, 61.65, 61.66, 61.68, 61.7, 61.72, 61.78, 61.8, 61.84, 61.85, 61.86, 61.89, 61.91, 61.94, 61.95, 61.96, 62.0, 62.03, 62.05, 62.1, 62.12, 62.17, 62.19, 62.2, 62.25, 62.29, 62.3, 62.31, 62.33, 62.34, 62.35, 62.36, 62.37, 62.38, 62.41, 62.42, 62.44, 62.45, 62.46, 62.49, 62.5, 62.52, 62.53, 62.56, 62.57, 62.58, 62.59, 62.6, 62.62, 62.63, 62.64, 62.66, 62.68, 62.69, 62.7, 62.75, 62.77, 62.78, 62.79, 62.8, 62.81, 62.83, 62.85, 62.86, 62.87, 62.88, 62.9, 62.91, 62.95, 62.96, 63.0, 63.02, 63.03, 63.05, 63.06, 63.07, 63.09, 63.12, 63.15, 63.17, 63.18, 63.19, 63.2, 63.24, 63.25, 63.28, 63.3, 63.33, 63.35, 63.39, 63.4, 63.41, 63.42, 63.43, 63.45, 63.46, 63.48, 63.49, 63.5, 63.52, 63.55, 63.56, 63.59, 63.6, 63.61, 63.62, 63.67, 63.7, 63.77, 63.78, 63.8, 63.81, 63.82, 63.85, 63.86, 63.9, 63.92, 63.93, 63.95, 63.97, 63.99, 64.0, 64.02, 64.05, 64.09, 64.1, 64.11, 64.12, 64.15, 64.17, 64.18, 64.19, 64.2, 64.25, 64.26, 64.3, 64.31, 64.35, 64.36, 64.38, 64.41, 64.42, 64.45, 64.46, 64.49, 64.5, 64.53, 64.57, 64.6, 64.62, 64.65, 64.69, 64.7, 64.71, 64.72, 64.74, 64.75, 64.8, 64.81, 64.82, 64.85, 64.88, 64.89, 64.93, 64.95, 64.98, 65.0, 65.02, 65.06, 65.07, 65.08, 65.1, 65.12, 65.15, 65.19, 65.2, 65.23, 65.25, 65.27, 65.28, 65.3, 65.34, 65.35, 65.37, 65.4, 65.42, 65.49, 65.52, 65.54, 65.59, 65.6, 65.61, 65.62, 65.65, 65.66, 65.67, 65.68, 65.7, 65.75, 65.8, 65.88, 65.9, 65.91, 65.92, 65.94, 65.95, 65.97, 65.98, 65.99, 66.0, 66.01, 66.09, 66.2, 66.25, 66.29, 66.3, 66.31, 66.32, 66.33, 66.37, 66.41, 66.43, 66.48, 66.49, 66.58, 66.6, 66.61, 66.7, 66.71, 66.72, 66.78, 66.85, 66.86, 66.87, 66.9, 66.91, 66.94, 66.97, 67.0, 67.01, 67.02, 67.05, 67.08, 67.09, 67.1, 67.11, 67.14, 67.16, 67.18, 67.19, 67.2, 67.21, 67.25, 67.28, 67.37, 67.39, 67.42, 67.47, 67.49, 67.5, 67.51, 67.52, 67.55, 67.6, 67.61, 67.62, 67.63, 67.66, 67.68, 67.7, 67.8, 67.85, 67.87, 67.88, 67.89, 67.9, 67.92, 67.93, 67.94, 67.97, 67.99, 68.0, 68.06, 68.1, 68.14, 68.15, 68.16, 68.19, 68.2, 68.25, 68.28, 68.29, 68.3, 68.31, 68.32, 68.35, 68.37, 68.42, 68.45, 68.5, 68.6, 68.62, 68.67, 68.68, 68.7, 68.72, 68.74, 68.75, 68.77, 68.78, 68.81, 68.82, 68.85, 68.87, 68.89, 69.0, 69.1, 69.14, 69.17, 69.2, 69.21, 69.29, 69.35, 69.36, 69.39, 69.4, 69.41, 69.5, 69.53, 69.59, 69.61, 69.7, 69.74, 69.77, 69.78, 69.81, 69.82, 69.96, 69.98, 69.99, 70.0, 70.02, 70.09, 70.15, 70.17, 70.2, 70.21, 70.25, 70.28, 70.29, 70.32, 70.37, 70.39, 70.4, 70.47, 70.51, 70.53, 70.63, 70.7, 70.75, 70.78, 70.8, 70.85, 70.87, 70.92, 70.98, 70.99, 71.0, 71.01, 71.03, 71.06, 71.15, 71.17, 71.24, 71.25, 71.31, 71.32, 71.34, 71.35, 71.36, 71.42, 71.46, 71.47, 71.48, 71.49, 71.5, 71.55, 71.6, 71.72, 71.76, 71.77, 71.78, 71.8, 71.81, 71.9, 71.92, 71.93, 71.95, 72.0, 72.02, 72.05, 72.06, 72.08, 72.09, 72.1, 72.11, 72.12, 72.13, 72.16, 72.19, 72.2, 72.22, 72.25, 72.31, 72.32, 72.35, 72.36, 72.4, 72.45, 72.46, 72.47, 72.49, 72.51, 72.55, 72.61, 72.62, 72.69, 72.7, 72.78, 72.8, 72.91, 72.92, 72.94, 73.0, 73.01, 73.06, 73.08, 73.09, 73.11, 73.12, 73.2, 73.21, 73.25, 73.27, 73.28, 73.3, 73.31, 73.32, 73.33, 73.34, 73.35, 73.36, 73.38, 73.4, 73.41, 73.43, 73.45, 73.46, 73.49, 73.5, 73.52, 73.54, 73.55, 73.58, 73.63, 73.71, 73.74, 73.75, 73.76, 73.81, 73.85, 73.86, 73.9, 73.93, 73.97, 73.99, 74.0, 74.15, 74.19, 74.28, 74.32, 74.34, 74.35, 74.4, 74.42, 74.5, 74.53, 74.6, 74.71, 74.72, 74.74, 74.77, 74.86, 74.89, 74.92, 74.93, 74.97, 74.99, 75.03, 75.14, 75.15, 75.2, 75.27, 75.28, 75.37, 75.38, 75.45, 75.5, 75.54, 75.57, 75.58, 75.59, 75.62, 75.72, 75.78, 75.81, 75.83, 75.85, 75.9, 75.93, 75.95, 76.02, 76.21, 76.25, 76.26, 76.3, 76.39, 76.42, 76.46, 76.5, 76.52, 76.56, 76.6, 76.61, 76.64, 76.66, 76.67, 76.7, 76.71, 76.76, 76.78, 76.81, 76.84, 76.87, 76.9, 76.91, 77.0, 77.02, 77.08, 77.11, 77.26, 77.32, 77.45, 77.49, 77.5, 77.51, 77.53, 77.61, 77.68, 77.7, 77.72, 77.76, 77.8, 77.86, 77.9, 77.91, 77.95, 77.99, 78.0, 78.01, 78.1, 78.2, 78.26, 78.33, 78.35, 78.39, 78.4, 78.43, 78.5, 78.51, 78.52, 78.56, 78.59, 78.62, 78.7, 78.8, 78.86, 78.9, 78.96, 78.97, 79.07, 79.12, 79.15, 79.17, 79.23, 79.27, 79.3, 79.32, 79.36, 79.45, 79.46, 79.49, 79.5, 79.56, 79.7, 79.77, 79.8, 79.9, 79.95, 79.96, 80.0, 80.03, 80.09, 80.14, 80.24, 80.25, 80.3, 80.32, 80.35, 80.65, 80.94, 80.95, 81.01, 81.02, 81.12, 81.22, 81.29, 81.3, 81.33, 81.37, 81.4, 81.45, 81.57, 81.7, 81.73, 81.75, 81.82, 81.83, 81.98, 82.0, 82.05, 82.09, 82.15, 82.2, 82.4, 82.41, 82.43, 82.46, 82.49, 82.55, 82.58, 82.65, 82.8, 82.87, 82.92, 82.95, 83.05, 83.1, 83.2, 83.21, 83.3, 83.43, 83.51, 83.55, 83.58, 83.6, 83.65, 83.66, 83.69, 83.73, 83.77, 83.8, 83.87, 83.89, 83.95, 84.06, 84.1, 84.2, 84.3, 84.37, 84.39, 84.44, 84.51, 84.56, 84.6, 84.66, 84.68, 84.71, 84.76, 84.83, 84.89, 84.9, 84.93, 84.96, 85.01, 85.1, 85.17, 85.2, 85.28, 85.36, 85.39, 85.4, 85.43, 85.58, 85.65, 85.68, 85.69, 85.71, 85.75, 85.8, 85.82, 85.88, 85.9, 86.0, 86.02, 86.06, 86.12, 86.16, 86.22, 86.28, 86.29, 86.4, 86.5, 86.55, 86.63, 86.73, 86.77, 86.78, 86.79, 86.9, 86.97, 87.0, 87.04, 87.08, 87.12, 87.2, 87.22, 87.25, 87.3, 87.35, 87.43, 87.5, 87.55, 87.64, 87.67, 87.69, 87.7, 87.75, 87.85, 87.9, 87.94, 87.98, 88.01, 88.11, 88.26, 88.33, 88.39, 88.46, 88.5, 88.8, 88.84, 88.85, 89.0, 89.01, 89.1, 89.19, 89.3, 89.47, 89.49, 89.5, 89.61, 89.75, 89.77, 89.8, 89.94, 89.95, 89.99, 90.0, 90.02, 90.04, 90.06, 90.08, 90.1, 90.15, 90.17, 90.22, 90.24, 90.26, 90.27, 90.28, 90.45, 90.51, 90.65, 90.69, 90.8, 90.84, 90.87, 90.89, 91.15, 91.17, 91.22, 91.36, 91.4, 91.44, 91.5, 91.51, 91.58, 91.65, 91.68, 91.75, 91.84, 91.9, 92.0, 92.01, 92.1, 92.12, 92.2, 92.26, 92.28, 92.33, 92.35, 92.38, 92.45, 92.47, 92.54, 92.6, 92.61, 92.7, 92.75, 92.78, 92.79, 92.82, 92.91, 92.93, 92.97, 92.99, 93.0, 93.02, 93.11, 93.13, 93.15, 93.2, 93.34, 93.42, 93.43, 93.45, 93.5, 93.64, 93.65, 93.76, 93.8, 93.81, 93.9, 93.92, 93.94, 94.0, 94.18, 94.25, 94.34, 94.36, 94.37, 94.46, 94.49, 94.5, 94.61, 94.85, 94.89, 95.0, 95.01, 95.02, 95.2, 95.22, 95.24, 95.25, 95.27, 95.3, 95.32, 95.43, 95.46, 95.5, 95.6, 95.65, 95.8, 95.83, 95.85, 95.89, 95.91, 95.93, 95.95, 95.99, 96.0, 96.01, 96.1, 96.11, 96.19, 96.23, 96.28, 96.32, 96.34, 96.35, 96.39, 96.45, 96.5, 96.53, 96.63, 96.7, 96.75, 96.8, 96.85, 96.9, 96.94, 96.99, 97.0, 97.05, 97.1, 97.11, 97.15, 97.21, 97.39, 97.54, 97.57, 97.6, 97.61, 97.74, 97.77, 97.82, 97.9, 98.0, 98.27, 98.4, 98.49, 98.55, 98.56, 98.58, 98.88, 98.94, 99.0, 99.1, 99.3, 99.5, 99.75, 99.84, 100.59, 100.9, 101.08, 101.29, 101.41, 101.8, 101.95, 102.0, 104.0, 104.58, 105.0]],\n",
       "           codes=[[3763, 3762, 3761, 3760, 3759, 3758, 3757, 3756, 3755, 3754, 3753, 3752, 3751, 3750, 3749, 3748, 3747, 3746, 3745, 3744, 3743, 3742, 3741, 3740, 3739, 3738, 3737, 3736, 3735, 3734, 3733, 3732, 3731, 3730, 3729, 3728, 3727, 3726, 3725, 3724, 3723, 3722, 3721, 3720, 3719, 3718, 3717, 3716, 3715, 3714, 3713, 3712, 3711, 3710, 3709, 3708, 3707, 3706, 3705, 3704, 3703, 3702, 3701, 3700, 3699, 3698, 3697, 3696, 3695, 3694, 3693, 3692, 3691, 3690, 3689, 3688, 3687, 3686, 3685, 3684, 3683, 3682, 3681, 3680, 3679, 3678, 3677, 3676, 3675, 3674, 3673, 3672, 3671, 3670, 3669, 3668, 3667, 3666, 3665, 3664, 3663, 3662, 3661, 3660, 3659, 3658, 3657, 3656, 3655, 3654, 3653, 3652, 3651, 3650, 3649, 3648, 3647, 3646, 3645, 3644, 3643, 3642, 3641, 3640, 3639, 3638, 3637, 3636, 3635, 3634, 3633, 3632, 3631, 3630, 3629, 3628, 3627, 3626, 3625, 3624, 3623, 3622, 3621, 3620, 3619, 3618, 3617, 3616, 3615, 3614, 3613, 3612, 3611, 3610, 3609, 3608, 3607, 3606, 3605, 3604, 3603, 3602, 3601, 3600, 3599, 3598, 3597, 3596, 3595, 3594, 3593, 3592, 3591, 3590, 3589, 3588, 3587, 3586, 3585, 3584, 3583, 3582, 3581, 3580, 3579, 3578, 3577, 3576, 3575, 3574, 3573, 3572, 3571, 3570, 3569, 3568, 3567, 3566, 3565, 3564, 3563, 3562, 3561, 3560, 3559, 3558, 3557, 3556, 3555, 3554, 3553, 3552, 3551, 3550, 3549, 3548, 3547, 3546, 3545, 3544, 3543, 3542, 3541, 3540, 3539, 3538, 3537, 3536, 3535, 3534, 3533, 3532, 3531, 3530, 3529, 3528, 3527, 3526, 3525, 3524, 3523, 3522, 3521, 3520, 3519, 3518, 3517, 3516, 3515, 3514, 3513, 3512, 3511, 3510, 3509, 3508, 3507, 3506, 3505, 3504, 3503, 3502, 3501, 3500, 3499, 3498, 3497, 3496, 3495, 3494, 3493, 3492, 3491, 3490, 3489, 3488, 3487, 3486, 3485, 3484, 3483, 3482, 3481, 3480, 3479, 3478, 3477, 3476, 3475, 3474, 3473, 3472, 3471, 3470, 3469, 3468, 3467, 3466, 3465, 3464, 3463, 3462, 3461, 3460, 3459, 3458, 3457, 3456, 3455, 3454, 3453, 3452, 3451, 3450, 3449, 3448, 3447, 3446, 3445, 3444, 3443, 3442, 3441, 3440, 3439, 3438, 3437, 3436, 3435, 3434, 3433, 3432, 3431, 3430, 3429, 3428, 3427, 3426, 3425, 3424, 3423, 3422, 3421, 3420, 3419, 3418, 3417, 3416, 3415, 3414, 3413, 3412, 3411, 3410, 3409, 3408, 3407, 3406, 3405, 3404, 3403, 3402, 3401, 3400, 3399, 3398, 3397, 3396, 3395, 3394, 3393, 3392, 3391, 3390, 3389, 3388, 3387, 3386, 3385, 3384, 3383, 3382, 3381, 3380, 3379, 3378, 3377, 3376, 3375, 3374, 3373, 3372, 3371, 3370, 3369, 3368, 3367, 3366, 3365, 3364, 3363, 3362, 3361, 3360, 3359, 3358, 3357, 3356, 3355, 3354, 3353, 3352, 3351, 3350, 3349, 3348, 3347, 3346, 3345, 3344, 3343, 3342, 3341, 3340, 3339, 3338, 3337, 3336, 3335, 3334, 3333, 3332, 3331, 3330, 3329, 3328, 3327, 3326, 3325, 3324, 3323, 3322, 3321, 3320, 3319, 3318, 3317, 3316, 3315, 3314, 3313, 3312, 3311, 3310, 3309, 3308, 3307, 3306, 3305, 3304, 3303, 3302, 3301, 3300, 3299, 3298, 3297, 3296, 3295, 3294, 3293, 3292, 3291, 3290, 3289, 3288, 3287, 3286, 3285, 3284, 3283, 3282, 3281, 3280, 3279, 3278, 3277, 3276, 3275, 3274, 3273, 3272, 3271, 3270, 3269, 3268, 3267, 3266, 3265, 3264, 3263, 3262, 3261, 3260, 3259, 3258, 3257, 3256, 3255, 3254, 3253, 3252, 3251, 3250, 3249, 3248, 3247, 3246, 3245, 3244, 3243, 3242, 3241, 3240, 3239, 3238, 3237, 3236, 3235, 3234, 3233, 3232, 3231, 3230, 3229, 3228, 3227, 3226, 3225, 3224, 3223, 3222, 3221, 3220, 3219, 3218, 3217, 3216, 3215, 3214, 3213, 3212, 3211, 3210, 3209, 3208, 3207, 3206, 3205, 3204, 3203, 3202, 3201, 3200, 3199, 3198, 3197, 3196, 3195, 3194, 3193, 3192, 3191, 3190, 3189, 3188, 3187, 3186, 3185, 3184, 3183, 3182, 3181, 3180, 3179, 3178, 3177, 3176, 3175, 3174, 3173, 3172, 3171, 3170, 3169, 3168, 3167, 3166, 3165, 3164, 3163, 3162, 3161, 3160, 3159, 3158, 3157, 3156, 3155, 3154, 3153, 3152, 3151, 3150, 3149, 3148, 3147, 3146, 3145, 3144, 3143, 3142, 3141, 3140, 3139, 3138, 3137, 3136, 3135, 3134, 3133, 3132, 3131, 3130, 3129, 3128, 3127, 3126, 3125, 3124, 3123, 3122, 3121, 3120, 3119, 3118, 3117, 3116, 3115, 3114, 3113, 3112, 3111, 3110, 3109, 3108, 3107, 3106, 3105, 3104, 3103, 3102, 3101, 3100, 3099, 3098, 3097, 3096, 3095, 3094, 3093, 3092, 3091, 3090, 3089, 3088, 3087, 3086, 3085, 3084, 3083, 3082, 3081, 3080, 3079, 3078, 3077, 3076, 3075, 3074, 3073, 3072, 3071, 3070, 3069, 3068, 3067, 3066, 3065, 3064, 3063, 3062, 3061, 3060, 3059, 3058, 3057, 3056, 3055, 3054, 3053, 3052, 3051, 3050, 3049, 3048, 3047, 3046, 3045, 3044, 3043, 3042, 3041, 3040, 3039, 3038, 3037, 3036, 3035, 3034, 3033, 3032, 3031, 3030, 3029, 3028, 3027, 3026, 3025, 3024, 3023, 3022, 3021, 3020, 3019, 3018, 3017, 3016, 3015, 3014, 3013, 3012, 3011, 3010, 3009, 3008, 3007, 3006, 3005, 3004, 3003, 3002, 3001, 3000, 2999, 2998, 2997, 2996, 2995, 2994, 2993, 2992, 2991, 2990, 2989, 2988, 2987, 2986, 2985, 2984, 2983, 2982, 2981, 2980, 2979, 2978, 2977, 2976, 2975, 2974, 2973, 2972, 2971, 2970, 2969, 2968, 2967, 2966, 2965, 2964, 2963, 2962, 2961, 2960, 2959, 2958, 2957, 2956, 2955, 2954, 2953, 2952, 2951, 2950, 2949, 2948, 2947, 2946, 2945, 2944, 2943, 2942, 2941, 2940, 2939, 2938, 2937, 2936, 2935, 2934, 2933, 2932, 2931, 2930, 2929, 2928, 2927, 2926, 2925, 2924, 2923, 2922, 2921, 2920, 2919, 2918, 2917, 2916, 2915, 2914, 2913, 2912, 2911, 2910, 2909, 2908, 2907, 2906, 2905, 2904, 2903, 2902, 2901, 2900, 2899, 2898, 2897, 2896, 2895, 2894, 2893, 2892, 2891, 2890, 2889, 2888, 2887, 2886, 2885, 2884, 2883, 2882, 2881, 2880, 2879, 2878, 2877, 2876, 2875, 2874, 2873, 2872, 2871, 2870, 2869, 2868, 2867, 2866, 2865, 2864, 2863, 2862, 2861, 2860, 2859, 2858, 2857, 2856, 2855, 2854, 2853, 2852, 2851, 2850, 2849, 2848, 2847, 2846, 2845, 2844, 2843, 2842, 2841, 2840, 2839, 2838, 2837, 2836, 2835, 2834, 2833, 2832, 2831, 2830, 2829, 2828, 2827, 2826, 2825, 2824, 2823, 2822, 2821, 2820, 2819, 2818, 2817, 2816, 2815, 2814, 2813, 2812, 2811, 2810, 2809, 2808, 2807, 2806, 2805, 2804, 2803, 2802, 2801, 2800, 2799, 2798, 2797, 2796, 2795, 2794, 2793, 2792, 2791, 2790, 2789, 2788, 2787, 2786, 2785, 2784, 2783, 2782, 2781, 2780, 2779, 2778, 2777, 2776, 2775, 2774, 2773, 2772, 2771, 2770, 2769, 2768, 2767, 2766, 2765, 2764, 2763, 2762, 2761, 2760, 2759, 2758, 2757, 2756, 2755, 2754, 2753, 2752, 2751, 2750, 2749, 2748, 2747, 2746, 2745, 2744, 2743, 2742, 2741, 2740, 2739, 2738, 2737, 2736, 2735, 2734, 2733, 2732, 2731, 2730, 2729, 2728, 2727, 2726, 2725, 2724, 2723, 2722, 2721, 2720, 2719, 2718, 2717, 2716, 2715, 2714, 2713, 2712, 2711, 2710, 2709, 2708, 2707, 2706, 2705, 2704, 2703, 2702, 2701, 2700, 2699, 2698, 2697, 2696, 2695, 2694, 2693, 2692, 2691, 2690, 2689, 2688, 2687, 2686, 2685, 2684, 2683, 2682, 2681, 2680, 2679, 2678, 2677, 2676, 2675, 2674, 2673, 2672, 2671, 2670, 2669, 2668, 2667, 2666, 2665, 2664, 2663, 2662, 2661, 2660, 2659, 2658, 2657, 2656, 2655, 2654, 2653, 2652, 2651, 2650, 2649, 2648, 2647, 2646, 2645, 2644, 2643, 2642, 2641, 2640, 2639, 2638, 2637, 2636, 2635, 2634, 2633, 2632, 2631, 2630, 2629, 2628, 2627, 2626, 2625, 2624, 2623, 2622, 2621, 2620, 2619, 2618, 2617, 2616, 2615, 2614, 2613, 2612, 2611, 2610, 2609, 2608, 2607, 2606, 2605, 2604, 2603, 2602, 2601, 2600, 2599, 2598, 2597, 2596, 2595, 2594, 2593, 2592, 2591, 2590, 2589, 2588, 2587, 2586, 2585, 2584, 2583, 2582, 2581, 2580, 2579, 2578, 2577, 2576, 2575, 2574, 2573, 2572, 2571, 2570, 2569, 2568, 2567, 2566, 2565, 2564, 2563, 2562, 2561, 2560, 2559, 2558, 2557, 2556, 2555, 2554, 2553, 2552, 2551, 2550, 2549, 2548, 2547, 2546, 2545, 2544, 2543, 2542, 2541, 2540, 2539, 2538, 2537, 2536, 2535, 2534, 2533, 2532, 2531, 2530, 2529, 2528, 2527, 2526, 2525, 2524, 2523, 2522, 2521, 2520, 2519, 2518, 2517, 2516, 2515, 2514, 2513, 2512, 2511, 2510, 2509, 2508, 2507, 2506, 2505, 2504, 2503, 2502, 2501, 2500, 2499, 2498, 2497, 2496, 2495, 2494, 2493, 2492, 2491, 2490, 2489, 2488, 2487, 2486, 2485, 2484, 2483, 2482, 2481, 2480, 2479, 2478, 2477, 2476, 2475, 2474, 2473, 2472, 2471, 2470, 2469, 2468, 2467, 2466, 2465, 2464, 2463, 2462, 2461, 2460, 2459, 2458, 2457, 2456, 2455, 2454, 2453, 2452, 2451, 2450, 2449, 2448, 2447, 2446, 2445, 2444, 2443, 2442, 2441, 2440, 2439, 2438, 2437, 2436, 2435, 2434, 2433, 2432, 2431, 2430, 2429, 2428, 2427, 2426, 2425, 2424, 2423, 2422, 2421, 2420, 2419, 2418, 2417, 2416, 2415, 2414, 2413, 2412, 2411, 2410, 2409, 2408, 2407, 2406, 2405, 2404, 2403, 2402, 2401, 2400, 2399, 2398, 2397, 2396, 2395, 2394, 2393, 2392, 2391, 2390, 2389, 2388, 2387, 2386, 2385, 2384, 2383, 2382, 2381, 2380, 2379, 2378, 2377, 2376, 2375, 2374, 2373, 2372, 2371, 2370, 2369, 2368, 2367, 2366, 2365, 2364, 2363, 2362, 2361, 2360, 2359, 2358, 2357, 2356, 2355, 2354, 2353, 2352, 2351, 2350, 2349, 2348, 2347, 2346, 2345, 2344, 2343, 2342, 2341, 2340, 2339, 2338, 2337, 2336, 2335, 2334, 2333, 2332, 2331, 2330, 2329, 2328, 2327, 2326, 2325, 2324, 2323, 2322, 2321, 2320, 2319, 2318, 2317, 2316, 2315, 2314, 2313, 2312, 2311, 2310, 2309, 2308, 2307, 2306, 2305, 2304, 2303, 2302, 2301, 2300, 2299, 2298, 2297, 2296, 2295, 2294, 2293, 2292, 2291, 2290, 2289, 2288, 2287, 2286, 2285, 2284, 2283, 2282, 2281, 2280, 2279, 2278, 2277, 2276, 2275, 2274, 2273, 2272, 2271, 2270, 2269, 2268, 2267, 2266, 2265, 2264, 2263, 2262, 2261, 2260, 2259, 2258, 2257, 2256, 2255, 2254, 2253, 2252, 2251, 2250, 2249, 2248, 2247, 2246, 2245, 2244, 2243, 2242, 2241, 2240, 2239, 2238, 2237, 2236, 2235, 2234, 2233, 2232, 2231, 2230, 2229, 2228, 2227, 2226, 2225, 2224, 2223, 2222, 2221, 2220, 2219, 2218, 2217, 2216, 2215, 2214, 2213, 2212, 2211, 2210, 2209, 2208, 2207, 2206, 2205, 2204, 2203, 2202, 2201, 2200, 2199, 2198, 2197, 2196, 2195, 2194, 2193, 2192, 2191, 2190, 2189, 2188, 2187, 2186, 2185, 2184, 2183, 2182, 2181, 2180, 2179, 2178, 2177, 2176, 2175, 2174, 2173, 2172, 2171, 2170, 2169, 2168, 2167, 2166, 2165, 2164, 2163, 2162, 2161, 2160, 2159, 2158, 2157, 2156, 2155, 2154, 2153, 2152, 2151, 2150, 2149, 2148, 2147, 2146, 2145, 2144, 2143, 2142, 2141, 2140, 2139, 2138, 2137, 2136, 2135, 2134, 2133, 2132, 2131, 2130, 2129, 2128, 2127, 2126, 2125, 2124, 2123, 2122, 2121, 2120, 2119, 2118, 2117, 2116, 2115, 2114, 2113, 2112, 2111, 2110, 2109, 2108, 2107, 2106, 2105, 2104, 2103, 2102, 2101, 2100, 2099, 2098, 2097, 2096, 2095, 2094, 2093, 2092, 2091, 2090, 2089, 2088, 2087, 2086, 2085, 2084, 2083, 2082, 2081, 2080, 2079, 2078, 2077, 2076, 2075, 2074, 2073, 2072, 2071, 2070, 2069, 2068, 2067, 2066, 2065, 2064, 2063, 2062, 2061, 2060, 2059, 2058, 2057, 2056, 2055, 2054, 2053, 2052, 2051, 2050, 2049, 2048, 2047, 2046, 2045, 2044, 2043, 2042, 2041, 2040, 2039, 2038, 2037, 2036, 2035, 2034, 2033, 2032, 2031, 2030, 2029, 2028, 2027, 2026, 2025, 2024, 2023, 2022, 2021, 2020, 2019, 2018, 2017, 2016, 2015, 2014, 2013, 2012, 2011, 2010, 2009, 2008, 2007, 2006, 2005, 2004, 2003, 2002, 2001, 2000, 1999, 1998, 1997, 1996, 1995, 1994, 1993, 1992, 1991, 1990, 1989, 1988, 1987, 1986, 1985, 1984, 1983, 1982, 1981, 1980, 1979, 1978, 1977, 1976, 1975, 1974, 1973, 1972, 1971, 1970, 1969, 1968, 1967, 1966, 1965, 1964, 1963, 1962, 1961, 1960, 1959, 1958, 1957, 1956, 1955, 1954, 1953, 1952, 1951, 1950, 1949, 1948, 1947, 1946, 1945, 1944, 1943, 1942, 1941, 1940, 1939, 1938, 1937, 1936, 1935, 1934, 1933, 1932, 1931, 1930, 1929, 1928, 1927, 1926, 1925, 1924, 1923, 1922, 1921, 1920, 1919, 1918, 1917, 1916, 1915, 1914, 1913, 1912, 1911, 1910, 1909, 1908, 1907, 1906, 1905, 1904, 1903, 1902, 1901, 1900, 1899, 1898, 1897, 1896, 1895, 1894, 1893, 1892, 1891, 1890, 1889, 1888, 1887, 1886, 1885, 1884, 1883, 1882, 1881, 1880, 1879, 1878, 1877, 1876, 1875, 1874, 1873, 1872, 1871, 1870, 1869, 1868, 1867, 1866, 1865, 1864, 1863, 1862, 1861, 1860, 1859, 1858, 1857, 1856, 1855, 1854, 1853, 1852, 1851, 1850, 1849, 1848, 1847, 1846, 1845, 1844, 1843, 1842, 1841, 1840, 1839, 1838, 1837, 1836, 1835, 1834, 1833, 1832, 1831, 1830, 1829, 1828, 1827, 1826, 1825, 1824, 1823, 1822, 1821, 1820, 1819, 1818, 1817, 1816, 1815, 1814, 1813, 1812, 1811, 1810, 1809, 1808, 1807, 1806, 1805, 1804, 1803, 1802, 1801, 1800, 1799, 1798, 1797, 1796, 1795, 1794, 1793, 1792, 1791, 1790, 1789, 1788, 1787, 1786, 1785, 1784, 1783, 1782, 1781, 1780, 1779, 1778, 1777, 1776, 1775, 1774, 1773, 1772, 1771, 1770, 1769, 1768, 1767, 1766, 1765, 1764, 1763, 1762, 1761, 1760, 1759, 1758, 1757, 1756, 1755, 1754, 1753, 1752, 1751, 1750, 1749, 1748, 1747, 1746, 1745, 1744, 1743, 1742, 1741, 1740, 1739, 1738, 1737, 1736, 1735, 1734, 1733, 1732, 1731, 1730, 1729, 1728, 1727, 1726, 1725, 1724, 1723, 1722, 1721, 1720, 1719, 1718, 1717, 1716, 1715, 1714, 1713, 1712, 1711, 1710, 1709, 1708, 1707, 1706, 1705, 1704, 1703, 1702, 1701, 1700, 1699, 1698, 1697, 1696, 1695, 1694, 1693, 1692, 1691, 1690, 1689, 1688, 1687, 1686, 1685, 1684, 1683, 1682, 1681, 1680, 1679, 1678, 1677, 1676, 1675, 1674, 1673, 1672, 1671, 1670, 1669, 1668, 1667, 1666, 1665, 1664, 1663, 1662, 1661, 1660, 1659, 1658, 1657, 1656, 1655, 1654, 1653, 1652, 1651, 1650, 1649, 1648, 1647, 1646, 1645, 1644, 1643, 1642, 1641, 1640, 1639, 1638, 1637, 1636, 1635, 1634, 1633, 1632, 1631, 1630, 1629, 1628, 1627, 1626, 1625, 1624, 1623, 1622, 1621, 1620, 1619, 1618, 1617, 1616, 1615, 1614, 1613, 1612, 1611, 1610, 1609, 1608, 1607, 1606, 1605, 1604, 1603, 1602, 1601, 1600, 1599, 1598, 1597, 1596, 1595, 1594, 1593, 1592, 1591, 1590, 1589, 1588, 1587, 1586, 1585, 1584, 1583, 1582, 1581, 1580, 1579, 1578, 1577, 1576, 1575, 1574, 1573, 1572, 1571, 1570, 1569, 1568, 1567, 1566, 1565, 1564, 1563, 1562, 1561, 1560, 1559, 1558, 1557, 1556, 1555, 1554, 1553, 1552, 1551, 1550, 1549, 1548, 1547, 1546, 1545, 1544, 1543, 1542, 1541, 1540, 1539, 1538, 1537, 1536, 1535, 1534, 1533, 1532, 1531, 1530, 1529, 1528, 1527, 1526, 1525, 1524, 1523, 1522, 1521, 1520, 1519, 1518, 1517, 1516, 1515, 1514, 1513, 1512, 1511, 1510, 1509, 1508, 1507, 1506, 1505, 1504, 1503, 1502, 1501, 1500, 1499, 1498, 1497, 1496, 1495, 1494, 1493, 1492, 1491, 1490, 1489, 1488, 1487, 1486, 1485, 1484, 1483, 1482, 1481, 1480, 1479, 1478, 1477, 1476, 1475, 1474, 1473, 1472, 1471, 1470, 1469, 1468, 1467, 1466, 1465, 1464, 1463, 1462, 1461, 1460, 1459, 1458, 1457, 1456, 1455, 1454, 1453, 1452, 1451, 1450, 1449, 1448, 1447, 1446, 1445, 1444, 1443, 1442, 1441, 1440, 1439, 1438, 1437, 1436, 1435, 1434, 1433, 1432, 1431, 1430, 1429, 1428, 1427, 1426, 1425, 1424, 1423, 1422, 1421, 1420, 1419, 1418, 1417, 1416, 1415, 1414, 1413, 1412, 1411, 1410, 1409, 1408, 1407, 1406, 1405, 1404, 1403, 1402, 1401, 1400, 1399, 1398, 1397, 1396, 1395, 1394, 1393, 1392, 1391, 1390, 1389, 1388, 1387, 1386, 1385, 1384, 1383, 1382, 1381, 1380, 1379, 1378, 1377, 1376, 1375, 1374, 1373, 1372, 1371, 1370, 1369, 1368, 1367, 1366, 1365, 1364, 1363, 1362, 1361, 1360, 1359, 1358, 1357, 1356, 1355, 1354, 1353, 1352, 1351, 1350, 1349, 1348, 1347, 1346, 1345, 1344, 1343, 1342, 1341, 1340, 1339, 1338, 1337, 1336, 1335, 1334, 1333, 1332, 1331, 1330, 1329, 1328, 1327, 1326, 1325, 1324, 1323, 1322, 1321, 1320, 1319, 1318, 1317, 1316, 1315, 1314, 1313, 1312, 1311, 1310, 1309, 1308, 1307, 1306, 1305, 1304, 1303, 1302, 1301, 1300, 1299, 1298, 1297, 1296, 1295, 1294, 1293, 1292, 1291, 1290, 1289, 1288, 1287, 1286, 1285, 1284, 1283, 1282, 1281, 1280, 1279, 1278, 1277, 1276, 1275, 1274, 1273, 1272, 1271, 1270, 1269, 1268, 1267, 1266, 1265, 1264, 1263, 1262, 1261, 1260, 1259, 1258, 1257, 1256, 1255, 1254, 1253, 1252, 1251, 1250, 1249, 1248, 1247, 1246, 1245, 1244, 1243, 1242, 1241, 1240, 1239, 1238, 1237, 1236, 1235, 1234, 1233, 1232, 1231, 1230, 1229, 1228, 1227, 1226, 1225, 1224, 1223, 1222, 1221, 1220, 1219, 1218, 1217, 1216, 1215, 1214, 1213, 1212, 1211, 1210, 1209, 1208, 1207, 1206, 1205, 1204, 1203, 1202, 1201, 1200, 1199, 1198, 1197, 1196, 1195, 1194, 1193, 1192, 1191, 1190, 1189, 1188, 1187, 1186, 1185, 1184, 1183, 1182, 1181, 1180, 1179, 1178, 1177, 1176, 1175, 1174, 1173, 1172, 1171, 1170, 1169, 1168, 1167, 1166, 1165, 1164, 1163, 1162, 1161, 1160, 1159, 1158, 1157, 1156, 1155, 1154, 1153, 1152, 1151, 1150, 1149, 1148, 1147, 1146, 1145, 1144, 1143, 1142, 1141, 1140, 1139, 1138, 1137, 1136, 1135, 1134, 1133, 1132, 1131, 1130, 1129, 1128, 1127, 1126, 1125, 1124, 1123, 1122, 1121, 1120, 1119, 1118, 1117, 1116, 1115, 1114, 1113, 1112, 1111, 1110, 1109, 1108, 1107, 1106, 1105, 1104, 1103, 1102, 1101, 1100, 1099, 1098, 1097, 1096, 1095, 1094, 1093, 1092, 1091, 1090, 1089, 1088, 1087, 1086, 1085, 1084, 1083, 1082, 1081, 1080, 1079, 1078, 1077, 1076, 1075, 1074, 1073, 1072, 1071, 1070, 1069, 1068, 1067, 1066, 1065, 1064, 1063, 1062, 1061, 1060, 1059, 1058, 1057, 1056, 1055, 1054, 1053, 1052, 1051, 1050, 1049, 1048, 1047, 1046, 1045, 1044, 1043, 1042, 1041, 1040, 1039, 1038, 1037, 1036, 1035, 1034, 1033, 1032, 1031, 1030, 1029, 1028, 1027, 1026, 1025, 1024, 1023, 1022, 1021, 1020, 1019, 1018, 1017, 1016, 1015, 1014, 1013, 1012, 1011, 1010, 1009, 1008, 1007, 1006, 1005, 1004, 1003, 1002, 1001, 1000, 999, 998, 997, 996, 995, 994, 993, 992, 991, 990, 989, 988, 987, 986, 985, 984, 983, 982, 981, 980, 979, 978, 977, 976, 975, 974, 973, 972, 971, 970, 969, 968, 967, 966, 965, 964, 963, 962, 961, 960, 959, 958, 957, 956, 955, 954, 953, 952, 951, 950, 949, 948, 947, 946, 945, 944, 943, 942, 941, 940, 939, 938, 937, 936, 935, 934, 933, 932, 931, 930, 929, 928, 927, 926, 925, 924, 923, 922, 921, 920, 919, 918, 917, 916, 915, 914, 913, 912, 911, 910, 909, 908, 907, 906, 905, 904, 903, 902, 901, 900, 899, 898, 897, 896, 895, 894, 893, 892, 891, 890, 889, 888, 887, 886, 885, 884, 883, 882, 881, 880, 879, 878, 877, 876, 875, 874, 873, 872, 871, 870, 869, 868, 867, 866, 865, 864, 863, 862, 861, 860, 859, 858, 857, 856, 855, 854, 853, 852, 851, 850, 849, 848, 847, 846, 845, 844, 843, 842, 841, 840, 839, 838, 837, 836, 835, 834, 833, 832, 831, 830, 829, 828, 827, 826, 825, 824, 823, 822, 821, 820, 819, 818, 817, 816, 815, 814, 813, 812, 811, 810, 809, 808, 807, 806, 805, 804, 803, 802, 801, 800, 799, 798, 797, 796, 795, 794, 793, 792, 791, 790, 789, 788, 787, 786, 785, 784, 783, 782, 781, 780, 779, 778, 777, 776, 775, 774, 773, 772, 771, 770, 769, 768, 767, 766, 765, 764, 763, 762, 761, 760, 759, 758, 757, 756, 755, 754, 753, 752, 751, 750, 749, 748, 747, 746, 745, 744, 743, 742, 741, 740, 739, 738, 737, 736, 735, 734, 733, 732, 731, 730, 729, 728, 727, 726, 725, 724, 723, 722, 721, 720, 719, 718, 717, 716, 715, 714, 713, 712, 711, 710, 709, 708, 707, 706, 705, 704, 703, 702, 701, 700, 699, 698, 697, 696, 695, 694, 693, 692, 691, 690, 689, 688, 687, 686, 685, 684, 683, 682, 681, 680, 679, 678, 677, 676, 675, 674, 673, 672, 671, 670, 669, 668, 667, 666, 665, 664, 663, 662, 661, 660, 659, 658, 657, 656, 655, 654, 653, 652, 651, 650, 649, 648, 647, 646, 645, 644, 643, 642, 641, 640, 639, 638, 637, 636, 635, 634, 633, 632, 631, 630, 629, 628, 627, 626, 625, 624, 623, 622, 621, 620, 619, 618, 617, 616, 615, 614, 613, 612, 611, 610, 609, 608, 607, 606, 605, 604, 603, 602, 601, 600, 599, 598, 597, 596, 595, 594, 593, 592, 591, 590, 589, 588, 587, 586, 585, 584, 583, 582, 581, 580, 579, 578, 577, 576, 575, 574, 573, 572, 571, 570, 569, 568, 567, 566, 565, 564, 563, 562, 561, 560, 559, 558, 557, 556, 555, 554, 553, 552, 551, 550, 549, 548, 547, 546, 545, 544, 543, 542, 541, 540, 539, 538, 537, 536, 535, 534, 533, 532, 531, 530, 529, 528, 527, 526, 525, 524, 523, 522, 521, 520, 519, 518, 517, 516, 515, 514, 513, 512, 511, 510, 509, 508, 507, 506, 505, 504, 503, 502, 501, 500, 499, 498, 497, 496, 495, 494, 493, 492, 491, 490, 489, 488, 487, 486, 485, 484, 483, 482, 481, 480, 479, 478, 477, 476, 475, 474, 473, 472, 471, 470, 469, 468, 467, 466, 465, 464, 463, 462, 461, 460, 459, 458, 457, 456, 455, 454, 453, 452, 451, 450, 449, 448, 447, 446, 445, 444, 443, 442, 441, 440, 439, 438, 437, 436, 435, 434, 433, 432, 431, 430, 429, 428, 427, 426, 425, 424, 423, 422, 421, 420, 419, 418, 417, 416, 415, 414, 413, 412, 411, 410, 409, 408, 407, 406, 405, 404, 403, 402, 401, 400, 399, 398, 397, 396, 395, 394, 393, 392, 391, 390, 389, 388, 387, 386, 385, 384, 383, 382, 381, 380, 379, 378, 377, 376, 375, 374, 373, 372, 371, 370, 369, 368, 367, 366, 365, 364, 363, 362, 361, 360, 359, 358, 357, 356, 355, 354, 353, 352, 351, 350, 349, 348, 347, 346, 345, 344, 343, 342, 341, 340, 339, 338, 337, 336, 335, 334, 333, 332, 331, 330, 329, 328, 327, 326, 325, 324, 323, 322, 321, 320, 319, 318, 317, 316, 315, 314, 313, 312, 311, 310, 309, 308, 307, 306, 305, 304, 303, 302, 301, 300, 299, 298, 297, 296, 295, 294, 293, 292, 291, 290, 289, 288, 287, 286, 285, 284, 283, 282, 281, 280, 279, 278, 277, 276, 275, 274, 273, 272, 271, 270, 269, 268, 267, 266, 265, 264, 263, 262, 261, 260, 259, 258, 257, 256, 255, 254, 253, 252, 251, 250, 249, 248, 247, 246, 245, 244, 243, 242, 241, 240, 239, 238, 237, 236, 235, 234, 233, 232, 231, 230, 229, 228, 227, 226, 225, 224, 223, 222, 221, 220, 219, 218, 217, 216, 215, 214, 213, 212, 211, 210, 209, 208, 207, 206, 205, 204, 203, 202, 201, 200, 199, 198, 197, 196, 195, 194, 193, 192, 191, 190, 189, 188, 187, 186, 185, 184, 183, 182, 181, 180, 179, 178, 177, 176, 175, 174, 173, 172, 171, 170, 169, 168, 167, 166, 165, 164, 163, 162, 161, 160, 159, 158, 157, 156, 155, 154, 153, 152, 151, 150, 149, 148, 147, 146, 145, 144, 143, 142, 141, 140, 139, 138, 137, 136, 135, 134, 133, 132, 131, 130, 129, 128, 127, 126, 125, 124, 123, 122, 121, 120, 119, 118, 117, 116, 115, 114, 113, 112, 111, 110, 109, 108, 107, 106, 105, 104, 103, 102, 101, 100, 99, 98, 97, 96, 95, 94, 93, 92, 91, 90, 89, 88, 87, 86, 85, 84, 83, 82, 81, 80, 79, 78, 77, 76, 75, 74, 73, 72, 71, 70, 69, 68, 67, 66, 65, 64, 63, 62, 61, 60, 59, 58, 57, 56, 55, 54, 53, 52, 51, 50, 49, 48, 47, 46, 45, 44, 43, 42, 41, 40, 39, 38, 37, 36, 35, 34, 33, 32, 31, 30, 29, 28, 27, 26, 25, 24, 23, 22, 21, 20, 19, 18, 17, 16, 15, 14, 13, 12, 11, 10, 9, 8, 7, 6, 5, 4, 3, 2, 1, 0], [2123, 2131, 2120, 2116, 2150, 2142, 2173, 2183, 2189, 2167, 2158, 2151, 2145, 2141, 2175, 2171, 2187, 2194, 2188, 2182, 2170, 2153, 2149, 2165, 2160, 2159, 2169, 2166, 2155, 2147, 2143, 2139, 2143, 2144, 2138, 2134, 2118, 2119, 2111, 2109, 2095, 2088, 2098, 2106, 2124, 2115, 2125, 2100, 2094, 2081, 2055, 2085, 2080, 2122, 2114, 2105, 2089, 2084, 2079, 2091, 2092, 2066, 2051, 2051, 2035, 2013, 2018, 2000, 2032, 2050, 2043, 2041, 2058, 2067, 2070, 2072, 2078, 2074, 2057, 2031, 2028, 1984, 2021, 2007, 2006, 2021, 2009, 1999, 1954, 2026, 2045, 2056, 2047, 2076, 2087, 2090, 2075, 2071, 2097, 2128, 2107, 2124, 2093, 2097, 2083, 2101, 2096, 2099, 2082, 2065, 2064, 2034, 2039, 2025, 1998, 1981, 2010, 2059, 2053, 2044, 2061, 2025, 2015, 2063, 2062, 2073, 2069, 2048, 2046, 2036, 2012, 1989, 2017, 2004, 2013, 2020, 2030, 1975, 1979, 2029, 2006, 2006, 2019, 2013, 1997, 1997, 1997, 1988, 1963, 1958, 1950, 1948, 1908, 1926, 1920, 1946, 1957, 1976, 1952, 1955, 2005, 2042, 2038, 2023, 2016, 2011, 2016, 1996, 1993, 1990, 2003, 2015, 2014, 2011, 1999, 1971, 1969, 1966, 1965, 1963, 1971, 1977, 1987, 1988, 1969, 1974, 1968, 1964, 1940, 1938, 1921, 1897, 1894, 1902, 1887, 1859, 1841, 1834, 1831, 1803, 1801, 1792, 1806, 1820, 1836, 1835, 1828, 1808, 1853, 1866, 1860, 1867, 1852, 1869, 1903, 1855, 1869, 1810, 1785, 1784, 1778, 1728, 1693, 1682, 1732, 1721, 1717, 1691, 1677, 1686, 1725, 1758, 1770, 1746, 1690, 1719, 1712, 1748, 1722, 1731, 1736, 1685, 1617, 1632, 1606, 1644, 1670, 1738, 1725, 1702, 1701, 1696, 1664, 1706, 1724, 1793, 1799, 1798, 1805, 1804, 1795, 1815, 1808, 1831, 1818, 1778, 1776, 1711, 1779, 1745, 1723, 1767, 1765, 1752, 1730, 1780, 1771, 1777, 1835, 1868, 1943, 1900, 1890, 1886, 1845, 1901, 1906, 1882, 1848, 1889, 1936, 1976, 1941, 1961, 1932, 1938, 1938, 1906, 1939, 1925, 1951, 1935, 1944, 1927, 1913, 1929, 1930, 1915, 1929, 1895, 1901, 1883, 1892, 1840, 1814, 1817, 1838, 1793, 1822, 1756, 1723, 1656, 1674, 1665, 1653, 1745, 1727, 1755, 1781, 1751, 1699, 1709, 1707, 1769, 1782, 1806, 1749, 1747, 1747, 1733, 1788, 1787, 1842, 1823, 1886, 1909, 1927, 1911, 1959, 1933, 1904, 1891, 1902, 1916, 1905, 1895, 1851, 1827, 1854, 1876, 1865, 1870, 1942, 1888, 1907, 1920, 1825, 1819, 1834, 1863, 1844, 1839, 1862, 1849, 1857, 1918, 1898, 1960, 1949, 1947, 1973, 1962, 1953, 1917, 1877, 1899, 1919, 1899, 1912, 1861, 1845, 1830, 1826, 1816, 1837, 1833, 1829, 1858, 1857, 1885, 1878, 1824, 1824, 1843, 1825, 1825, 1825, 1825, 1842, 1882, 1884, 1874, 1853, 1851, 1846, 1835, 1812, 1783, 1807, 1784, 1778, 1775, 1768, 1744, 1752, 1721, 1716, 1700, 1683, 1662, 1648, 1591, 1535, 1535, 1528, 1570, 1509, 1534, 1558, 1561, 1635, 1591, 1598, 1602, 1567, 1578, 1557, 1543, 1512, 1566, 1525, 1638, 1657, 1657, 1643, 1641, 1629, 1595, 1617, 1584, 1577, 1643, 1672, 1655, 1703, 1675, 1691, 1646, 1681, 1692, 1698, 1713, 1712, 1716, 1669, 1702, 1671, 1672, 1676, 1649, 1658, 1569, 1571, 1568, 1450, 1451, 1497, 1455, 1427, 1476, 1494, 1487, 1468, 1452, 1510, 1494, 1497, 1471, 1460, 1444, 1428, 1422, 1413, 1410, 1432, 1405, 1398, 1386, 1306, 1360, 1362, 1389, 1372, 1317, 1236, 1227, 1255, 1290, 1335, 1312, 1282, 1262, 1246, 1205, 1190, 1212, 1225, 1239, 1274, 1281, 1261, 1216, 1192, 1160, 1152, 1150, 1142, 1168, 1217, 1263, 1280, 1251, 1271, 1224, 1229, 1250, 1222, 1268, 1211, 1200, 1173, 1163, 1156, 1257, 1270, 1299, 1309, 1309, 1286, 1295, 1310, 1318, 1278, 1252, 1300, 1276, 1318, 1318, 1315, 1322, 1310, 1350, 1318, 1411, 1458, 1511, 1475, 1548, 1555, 1640, 1592, 1587, 1645, 1636, 1626, 1634, 1537, 1457, 1553, 1513, 1461, 1508, 1549, 1549, 1563, 1628, 1687, 1642, 1632, 1652, 1694, 1710, 1663, 1660, 1689, 1716, 1726, 1718, 1708, 1678, 1688, 1662, 1624, 1622, 1552, 1493, 1630, 1651, 1695, 1647, 1691, 1668, 1612, 1651, 1576, 1612, 1599, 1551, 1501, 1446, 1464, 1409, 1403, 1401, 1403, 1429, 1442, 1437, 1397, 1391, 1353, 1393, 1387, 1375, 1379, 1356, 1340, 1327, 1354, 1359, 1338, 1348, 1284, 1344, 1300, 1303, 1262, 1233, 1272, 1260, 1238, 1231, 1161, 1154, 1135, 1148, 1147, 1139, 1151, 1134, 1158, 1075, 1078, 1107, 1072, 1072, 1105, 1157, 1130, 1185, 1207, 1172, 1188, 1174, 1170, 1036, 1030, 960, 874, 941, 905, 1001, 1028, 1033, 1052, 1057, 1060, 1110, 1044, 1009, 1083, 1059, 1056, 1166, 1054, 1090, 1085, 1176, 1199, 1127, 1104, 1084, 1083, 1023, 1023, 1080, 1034, 1112, 1067, 1062, 1049, 1073, 1040, 1016, 923, 798, 748, 778, 915, 864, 888, 897, 670, 780, 798, 945, 862, 880, 987, 919, 726, 743, 639, 842, 850, 838, 755, 834, 954, 1031, 971, 993, 995, 979, 1059, 982, 988, 961, 1046, 1131, 1154, 1167, 1208, 1118, 1081, 1187, 1064, 1140, 1162, 1371, 1346, 1402, 1598, 1493, 1483, 1666, 1716, 1660, 1704, 1668, 1707, 1717, 1715, 1739, 1718, 1691, 1633, 1727, 1768, 1760, 1731, 1713, 1724, 1726, 1667, 1635, 1586, 1565, 1627, 1619, 1633, 1546, 1489, 1502, 1477, 1594, 1562, 1540, 1564, 1479, 1478, 1530, 1488, 1459, 1501, 1605, 1523, 1452, 1450, 1461, 1414, 1440, 1446, 1567, 1555, 1522, 1572, 1560, 1607, 1576, 1680, 1654, 1673, 1679, 1691, 1720, 1750, 1784, 1760, 1754, 1684, 1662, 1661, 1560, 1498, 1581, 1535, 1516, 1507, 1543, 1571, 1546, 1556, 1506, 1467, 1467, 1436, 1408, 1385, 1351, 1351, 1353, 1278, 1247, 1286, 1275, 1255, 1183, 1241, 1253, 1312, 1321, 1351, 1395, 1448, 1400, 1426, 1414, 1364, 1424, 1357, 1366, 1330, 1354, 1351, 1438, 1439, 1406, 1437, 1377, 1331, 1332, 1305, 1314, 1328, 1296, 1323, 1316, 1308, 1262, 1255, 1287, 1294, 1258, 1238, 1267, 1238, 1243, 1289, 1293, 1291, 1325, 1342, 1292, 1285, 1279, 1314, 1328, 1339, 1397, 1399, 1439, 1418, 1415, 1446, 1441, 1452, 1430, 1413, 1456, 1458, 1419, 1404, 1423, 1412, 1435, 1420, 1390, 1373, 1376, 1362, 1304, 1259, 1333, 1344, 1334, 1278, 1294, 1314, 1288, 1232, 1186, 1268, 1230, 1221, 1259, 1291, 1262, 1280, 1244, 1185, 1177, 1125, 1126, 1119, 1121, 1132, 1145, 1146, 1126, 1108, 1096, 1075, 1063, 1053, 1011, 984, 997, 947, 980, 942, 881, 907, 895, 866, 915, 892, 915, 830, 861, 837, 816, 796, 832, 779, 795, 782, 734, 693, 649, 651, 666, 682, 662, 655, 567, 526, 607, 568, 573, 581, 617, 630, 694, 783, 758, 706, 717, 788, 737, 786, 821, 823, 835, 884, 840, 846, 820, 751, 867, 872, 915, 910, 856, 747, 762, 770, 789, 856, 869, 886, 832, 844, 830, 767, 738, 707, 705, 732, 755, 816, 905, 863, 871, 935, 884, 881, 920, 886, 867, 867, 818, 810, 792, 724, 678, 680, 608, 725, 719, 629, 632, 642, 701, 590, 540, 495, 600, 607, 727, 800, 827, 721, 853, 830, 698, 687, 590, 541, 611, 657, 776, 725, 749, 901, 904, 986, 966, 869, 880, 889, 824, 833, 865, 905, 907, 904, 918, 883, 879, 921, 929, 860, 825, 837, 817, 818, 773, 780, 773, 726, 776, 755, 752, 720, 742, 755, 730, 668, 671, 664, 591, 587, 597, 591, 587, 569, 565, 552, 573, 614, 572, 547, 534, 501, 492, 489, 501, 491, 463, 446, 468, 608, 600, 568, 514, 486, 512, 438, 442, 465, 520, 576, 640, 599, 569, 621, 628, 583, 683, 747, 745, 739, 743, 774, 690, 710, 710, 722, 733, 707, 707, 701, 699, 684, 668, 646, 656, 701, 609, 553, 530, 612, 590, 537, 588, 513, 494, 529, 430, 556, 554, 521, 483, 480, 478, 507, 512, 469, 435, 424, 411, 393, 368, 350, 310, 306, 293, 303, 349, 275, 380, 379, 395, 467, 425, 470, 522, 437, 476, 484, 396, 371, 354, 332, 318, 290, 244, 237, 236, 296, 276, 291, 267, 280, 299, 321, 312, 323, 312, 328, 278, 281, 271, 286, 308, 289, 302, 265, 243, 261, 287, 327, 315, 314, 320, 356, 313, 317, 259, 255, 224, 223, 230, 281, 249, 239, 263, 258, 254, 256, 270, 282, 256, 232, 206, 224, 231, 244, 231, 204, 196, 186, 184, 187, 173, 158, 146, 120, 121, 126, 115, 128, 127, 121, 139, 135, 150, 130, 134, 138, 133, 125, 145, 141, 149, 164, 169, 177, 188, 171, 178, 172, 174, 182, 181, 185, 183, 167, 166, 160, 168, 157, 159, 156, 163, 143, 151, 116, 119, 129, 155, 153, 154, 148, 147, 137, 142, 124, 136, 132, 96, 110, 99, 90, 88, 78, 89, 101, 112, 109, 113, 102, 106, 77, 56, 82, 91, 64, 44, 27, 19, 36, 49, 48, 61, 63, 57, 33, 38, 47, 45, 58, 60, 30, 25, 0, 2, 1, 10, 3, 4, 8, 20, 11, 12, 5, 14, 22, 34, 37, 52, 51, 53, 59, 60, 79, 76, 46, 42, 26, 15, 16, 40, 28, 17, 18, 9, 24, 39, 21, 24, 47, 41, 51, 83, 69, 80, 104, 89, 118, 123, 131, 126, 122, 122, 114, 103, 88, 88, 88, 93, 95, 94, 99, 96, 74, 81, 55, 87, 86, 55, 50, 32, 31, 35, 28, 62, 66, 62, 65, 47, 13, 29, 6, 70, 84, 85, 100, 68, 97, 98, 107, 75, 105, 144, 108, 111, 55, 73, 43, 7, 3, 23, 46, 54, 71, 67, 72, 65, 152, 161, 117, 92, 140, 162, 187, 190, 192, 222, 238, 200, 248, 253, 247, 240, 227, 256, 216, 218, 262, 279, 322, 347, 333, 348, 389, 403, 396, 454, 445, 421, 414, 415, 416, 428, 422, 433, 431, 435, 462, 457, 444, 589, 511, 583, 632, 547, 522, 533, 484, 510, 497, 514, 556, 528, 590, 586, 644, 684, 612, 694, 694, 714, 762, 2228, 2249, 2257, 2229, 2268, 2288, 2311, 2297, 2325, 2313, 2303, 2306, 2340, 2316, 2348, 2356, 2335, 2322, 2358, 2360, 2324, 2300, 2309, 2293, 2332, 2299, 2299, 2278, 2291, 2271, 2247, 2261, 2225, 2221, 2227, 2232, 2248, 2259, 2246, 2268, 2240, 2237, 2242, 2244, 2289, 2266, 2289, 2302, 2258, 2260, 2246, 2226, 2198, 2245, 2212, 2215, 2216, 2218, 2215, 2220, 2200, 2140, 2157, 2161, 2133, 2140, 2161, 2122, 2122, 2129, 2174, 2134, 2086, 2132, 2112, 2156, 2103, 2100, 2113, 2166, 2108, 2121, 2105, 2136, 2172, 2181, 2148, 2152, 2139, 2182, 2192, 2185, 2175, 2186, 2198, 2163, 2134, 2110, 2135, 2162, 2126, 2198, 2213, 2203, 2168, 2164, 2127, 2104, 2151, 2126, 2180, 2068, 2243, 2315, 2342, 2380, 2390, 2394, 2393, 2405, 2403, 2404, 2401, 2402, 2396, 2395, 2399, 2399, 2398, 2400, 2397, 2397, 2397, 2392, 2381, 2378, 2361, 2372, 2387, 2375, 2351, 2357, 2365, 2368, 2362, 2327, 2310, 2320, 2308, 2304, 2251, 2256, 2279, 2289, 2254, 2239, 2208, 2224, 2237, 2289, 2296, 2255, 2272, 2299, 2286, 2303, 2290, 2267, 2265, 2341, 2339, 2383, 2382, 2373, 2343, 2364, 2334, 2329, 2331, 2353, 2354, 2320, 2326, 2320, 2321, 2352, 2370, 2351, 2323, 2320, 2347, 2369, 2362, 2365, 2366, 2371, 2354, 2337, 2346, 2349, 2345, 2294, 2288, 2292, 2264, 2281, 2280, 2299, 2318, 2338, 2363, 2336, 2367, 2341, 2312, 2266, 2282, 2284, 2263, 2295, 2273, 2253, 2241, 2212, 2231, 2255, 2276, 2267, 2235, 2295, 2314, 2305, 2262, 2305, 2285, 2287, 2319, 2258, 2267, 2323, 2320, 2376, 2379, 2385, 2382, 2384, 2386, 2388, 2389, 2350, 2344, 2387, 2391, 2359, 2377, 2374, 2365, 2355, 2330, 2298, 2277, 2283, 2301, 2317, 2333, 2328, 2307, 2284, 2226, 2211, 2201, 2195, 2178, 2175, 2215, 2274, 2270, 2269, 2275, 2238, 2233, 2257, 2250, 2230, 2235, 2252, 2259, 2234, 2206, 2217, 2207, 2191, 2202, 2177, 2208, 2210, 2209, 2211, 2197, 2196, 2190, 2193, 2199, 2165, 2265, 2222, 2215, 2223, 2214, 2205, 2236, 2244, 2219, 2175, 2176, 2204, 2184, 2179, 2179, 2154, 2146, 2137, 2130, 2117, 2102, 2077, 2063, 2033, 2060, 2055, 2008, 2001, 1999, 1978, 1987, 1982, 2049, 2037, 2022, 2027, 2002, 1991, 1956, 1999, 1983, 2024, 2054, 2052, 2058, 2040, 1967, 1972, 1975, 1985, 1992, 1994, 1995, 1982, 1980, 1986, 1991, 1970, 1955, 1962, 1931, 1903, 1875, 1871, 1844, 1880, 1882, 1872, 1905, 1893, 1935, 1929, 1929, 1924, 1881, 1873, 1879, 1910, 1896, 1922, 1928, 1945, 1936, 1923, 1934, 1937, 1897, 1885, 1885, 1914, 1900, 1864, 1856, 1882, 1847, 1850, 1831, 1821, 1832, 1809, 1804, 1802, 1772, 1773, 1786, 1791, 1789, 1780, 1811, 1828, 1800, 1801, 1796, 1794, 1797, 1813, 1811, 1790, 1784, 1757, 1766, 1734, 1734, 1697, 1710, 1729, 1761, 1762, 1741, 1753, 1724, 1699, 1691, 1705, 1680, 1659, 1639, 1637, 1650, 1658, 1639, 1625, 1628, 1601, 1608, 1620, 1539, 1560, 1556, 1508, 1524, 1543, 1508, 1482, 1490, 1481, 1441, 1472, 1507, 1503, 1543, 1546, 1535, 1523, 1539, 1532, 1604, 1609, 1617, 1581, 1619, 1595, 1585, 1539, 1536, 1499, 1540, 1555, 1543, 1541, 1523, 1494, 1455, 1460, 1453, 1462, 1460, 1466, 1457, 1507, 1493, 1519, 1479, 1485, 1493, 1543, 1496, 1495, 1457, 1458, 1463, 1434, 1407, 1431, 1434, 1476, 1519, 1485, 1480, 1483, 1500, 1532, 1535, 1518, 1478, 1390, 1388, 1434, 1436, 1424, 1425, 1394, 1361, 1383, 1358, 1358, 1355, 1357, 1421, 1444, 1449, 1473, 1470, 1531, 1582, 1551, 1481, 1605, 1614, 1599, 1551, 1562, 1486, 1551, 1556, 1570, 1642, 1628, 1662, 1715, 1737, 1742, 1735, 1763, 1714, 1743, 1760, 1699, 1740, 1764, 1759, 1774, 1768, 1734, 1631, 1609, 1585, 1581, 1581, 1537, 1547, 1553, 1554, 1590, 1591, 1609, 1621, 1600, 1623, 1613, 1589, 1613, 1662, 1588, 1581, 1512, 1556, 1538, 1547, 1531, 1501, 1477, 1493, 1490, 1521, 1483, 1443, 1515, 1527, 1574, 1550, 1583, 1563, 1533, 1543, 1556, 1523, 1510, 1526, 1544, 1586, 1563, 1556, 1596, 1593, 1575, 1598, 1618, 1610, 1650, 1617, 1562, 1574, 1543, 1509, 1472, 1466, 1446, 1521, 1526, 1523, 1539, 1502, 1542, 1533, 1484, 1514, 1543, 1553, 1515, 1585, 1611, 1605, 1619, 1635, 1626, 1615, 1616, 1614, 1603, 1597, 1559, 1579, 1548, 1531, 1507, 1514, 1547, 1505, 1491, 1545, 1529, 1551, 1574, 1517, 1496, 1504, 1538, 1508, 1493, 1492, 1476, 1459, 1465, 1445, 1454, 1433, 1417, 1397, 1401, 1370, 1380, 1344, 1364, 1369, 1352, 1391, 1365, 1320, 1363, 1365, 1396, 1341, 1374, 1392, 1382, 1416, 1441, 1447, 1439, 1474, 1543, 1524, 1509, 1520, 1580, 1573, 1513, 1469, 1458, 1425, 1420, 1382, 1347, 1339, 1384, 1393, 1355, 1370, 1370, 1378, 1418, 1397, 1388, 1381, 1367, 1337, 1324, 1308, 1283, 1267, 1267, 1223, 1294, 1313, 1312, 1326, 1301, 1280, 1304, 1283, 1336, 1331, 1355, 1345, 1343, 1307, 1302, 1319, 1368, 1409, 1349, 1339, 1339, 1303, 1298, 1300, 1297, 1300, 1312, 1288, 1251, 1252, 1242, 1230, 1200, 1218, 1191, 1184, 1179, 1201, 1219, 1225, 1204, 1203, 1225, 1195, 1194, 1229, 1254, 1251, 1262, 1267, 1264, 1261, 1262, 1257, 1255, 1237, 1220, 1213, 1209, 1226, 1232, 1202, 1175, 1178, 1164, 1169, 1165, 1159, 1146, 1149, 1130, 1122, 1091, 1085, 1070, 1100, 1118, 1112, 1131, 1131, 1101, 1094, 1092, 1077, 1059, 1036, 1124, 1118, 1137, 1106, 1105, 1083, 1123, 1100, 1068, 1130, 1171, 1202, 1235, 1237, 1264, 1258, 1224, 1214, 1196, 1186, 1182, 1189, 1180, 1193, 1193, 1215, 1182, 1181, 1184, 1202, 1210, 1259, 1249, 1225, 1248, 1259, 1277, 1329, 1311, 1266, 1245, 1262, 1264, 1265, 1254, 1240, 1232, 1273, 1269, 1256, 1245, 1252, 1234, 1228, 1198, 1206, 1197, 1173, 1160, 1153, 1154, 1141, 1129, 1116, 1120, 1095, 1102, 1102, 1100, 1118, 1139, 1128, 1115, 1114, 1089, 1097, 1100, 1131, 1135, 1127, 1136, 1146, 1155, 1140, 1146, 1143, 1144, 1138, 1113, 1120, 1093, 1117, 1099, 1078, 1109, 1087, 1098, 1112, 1101, 1082, 1086, 1112, 1121, 1096, 1103, 1111, 1057, 1088, 1076, 1069, 1065, 1072, 1071, 1066, 1074, 1059, 1032, 1041, 1051, 1055, 1079, 1061, 1047, 1048, 1050, 1028, 1043, 1042, 1012, 1006, 1019, 975, 964, 963, 999, 981, 966, 966, 937, 893, 907, 939, 968, 975, 1004, 1003, 997, 1005, 1027, 943, 957, 869, 826, 836, 829, 861, 894, 892, 887, 853, 867, 858, 843, 822, 814, 820, 841, 837, 828, 789, 769, 791, 779, 798, 777, 773, 740, 726, 723, 679, 704, 659, 643, 617, 665, 668, 701, 715, 724, 763, 772, 793, 729, 721, 744, 691, 681, 636, 664, 658, 679, 722, 694, 714, 726, 734, 714, 718, 709, 750, 703, 686, 734, 718, 708, 746, 758, 752, 702, 694, 665, 628, 643, 659, 630, 624, 618, 583, 625, 631, 625, 661, 682, 672, 616, 610, 604, 614, 590, 627, 566, 578, 542, 551, 586, 542, 565, 532, 514, 541, 528, 533, 517, 505, 550, 593, 570, 637, 631, 598, 769, 787, 793, 763, 753, 711, 731, 749, 714, 681, 693, 697, 716, 670, 670, 726, 681, 731, 678, 594, 558, 554, 571, 539, 564, 525, 502, 485, 506, 576, 627, 660, 535, 562, 538, 620, 656, 707, 699, 713, 689, 708, 744, 696, 638, 563, 560, 590, 575, 616, 613, 620, 633, 596, 652, 685, 689, 711, 663, 650, 674, 700, 770, 758, 784, 764, 757, 740, 785, 768, 809, 785, 815, 806, 815, 814, 793, 770, 757, 820, 813, 805, 778, 769, 759, 761, 761, 739, 695, 675, 675, 675, 663, 652, 634, 580, 608, 597, 621, 634, 635, 673, 662, 605, 645, 661, 619, 627, 569, 550, 545, 543, 594, 538, 548, 537, 509, 546, 561, 583, 569, 578, 551, 635, 573, 576, 525, 474, 441, 452, 476, 478, 463, 434, 427, 388, 474, 482, 440, 472, 450, 456, 438, 435, 412, 383, 389, 406, 439, 367, 392, 343, 379, 393, 367, 353, 413, 448, 529, 556, 531, 569, 550, 538, 561, 554, 577, 627, 612, 651, 652, 659, 662, 621, 647, 645, 622, 629, 638, 601, 609, 614, 627, 593, 541, 490, 496, 467, 462, 459, 471, 566, 595, 590, 605, 552, 518, 510, 511, 498, 460, 504, 478, 513, 499, 466, 479, 477, 447, 399, 416, 438, 434, 357, 319, 328, 327, 330, 357, 372, 335, 379, 376, 417, 420, 464, 436, 438, 373, 376, 361, 329, 311, 307, 300, 337, 319, 301, 330, 272, 292, 260, 234, 241, 266, 264, 274, 278, 336, 353, 343, 296, 336, 352, 325, 372, 418, 465, 519, 444, 451, 452, 486, 374, 417, 444, 522, 437, 438, 438, 362, 401, 417, 405, 386, 358, 378, 423, 406, 316, 273, 221, 226, 251, 293, 295, 293, 241, 344, 284, 309, 257, 224, 179, 175, 138, 165, 180, 191, 190, 205, 209, 220, 229, 211, 202, 214, 194, 217, 207, 225, 248, 246, 250, 199, 195, 212, 213, 203, 208, 235, 210, 242, 244, 197, 219, 193, 189, 210, 254, 233, 252, 281, 283, 332, 317, 348, 326, 322, 336, 346, 381, 408, 389, 388, 276, 288, 288, 275, 325, 286, 286, 286, 366, 309, 346, 391, 393, 337, 393, 443, 417, 378, 412, 455, 488, 490, 525, 409, 418, 386, 317, 361, 367, 364, 339, 322, 333, 377, 374, 370, 348, 344, 297, 305, 367, 432, 378, 365, 341, 340, 298, 338, 324, 285, 309, 365, 390, 372, 390, 382, 334, 309, 304, 245, 198, 201, 228, 215, 272, 269, 327, 277, 292, 360, 322, 268, 355, 387, 356, 394, 438, 542, 516, 481, 559, 532, 520, 523, 461, 479, 410, 533, 585, 520, 501, 624, 624, 624, 624, 535, 510, 582, 525, 573, 533, 493, 590, 614, 597, 527, 481, 337, 407, 402, 419, 538, 500, 398, 296, 402, 342, 397, 434, 589, 602, 506, 609, 656, 739, 742, 826, 952, 922, 868, 875, 845, 841, 901, 846, 846, 778, 841, 847, 766, 803, 833, 849, 773, 840, 848, 846, 901, 914, 881, 892, 912, 972, 1029, 1013, 1012, 997, 1012, 986, 985, 991, 985, 998, 1002, 968, 967, 963, 940, 897, 870, 864, 823, 794, 850, 886, 889, 946, 840, 808, 784, 894, 911, 977, 955, 930, 928, 942, 934, 904, 894, 944, 896, 895, 906, 898, 965, 923, 876, 881, 881, 855, 889, 917, 930, 900, 901, 915, 915, 915, 854, 840, 870, 895, 934, 901, 885, 837, 840, 815, 736, 725, 688, 654, 641, 574, 552, 501, 535, 532, 579, 662, 718, 714, 660, 632, 668, 785, 742, 789, 811, 780, 724, 769, 807, 789, 745, 667, 669, 675, 658, 603, 583, 578, 637, 647, 652, 647, 689, 692, 694, 615, 532, 569, 569, 583, 511, 506, 506, 506, 499, 515, 564, 550, 510, 524, 560, 647, 659, 674, 726, 717, 652, 622, 661, 661, 609, 632, 687, 653, 663, 668, 647, 684, 595, 487, 531, 545, 437, 532, 535, 493, 426, 429, 369, 393, 348, 345, 359, 404, 384, 435, 400, 356, 367, 375, 401, 444, 449, 513, 453, 444, 385, 363, 351, 337, 331, 333, 363, 376, 334, 303, 274, 272, 170, 176, 247, 294, 348, 329, 473, 504, 542, 704, 752, 812, 883, 891, 838, 819, 797, 852, 870, 859, 878, 823, 839, 769, 760, 741, 758, 758, 778, 790, 813, 758, 712, 775, 756, 823, 831, 877, 874, 846, 822, 815, 804, 873, 904, 934, 902, 905, 922, 936, 956, 934, 914, 881, 901, 863, 920, 913, 903, 908, 889, 814, 709, 706, 689, 684, 709, 644, 758, 760, 765, 833, 857, 903, 909, 889, 923, 901, 942, 936, 930, 960, 905, 939, 990, 975, 1005, 1014, 1029, 1038, 1036, 1021, 1021, 948, 951, 994, 982, 976, 946, 938, 908, 888, 898, 971, 1000, 992, 909, 983, 1013, 970, 999, 1021, 996, 968, 958, 939, 939, 875, 840, 876, 777, 758, 742, 689, 752, 780, 845, 826, 857, 758, 676, 659, 759, 873, 882, 870, 915, 915, 1012, 1025, 1045, 1058, 1023, 1026, 991, 1008, 1012, 997, 974, 924, 924, 950, 953, 978, 915, 960, 917, 877, 896, 911, 931, 945, 944, 981, 943, 970, 909, 870, 857, 849, 785, 771, 867, 841, 758, 875, 870, 955, 889, 882, 881, 857, 959, 991, 1020, 1015, 979, 982, 1009, 973, 979, 946, 889, 915, 894, 870, 960, 897, 881, 850, 826, 932, 949, 946, 897, 867, 742, 746, 726, 699, 742, 695, 694, 659, 650, 681, 629, 647, 701, 720, 725, 657, 689, 677, 659, 793, 801, 857, 815, 851, 890, 799, 663, 605, 606, 560, 510, 475, 499, 499, 499, 499, 499, 499, 536, 592, 600, 637, 646, 566, 510, 504, 458, 499, 503, 487, 496, 531, 406, 490, 549, 499, 555, 566, 544, 555, 604, 596, 648, 721, 714, 640, 612, 611, 627, 640, 659, 609, 604, 609, 644, 601, 566, 557, 584, 597, 626, 612, 612, 562, 635, 735, 802, 784, 754, 777, 793, 768, 731, 769, 797, 764, 731, 726, 684, 742, 714, 730, 762, 697, 632, 656, 627, 606, 668, 715, 665, 623, 590, 587, 545, 508, 468, 438, 486, 538, 590, 485, 573, 647, 745, 769, 815, 793, 846, 782, 925, 900, 767, 717, 809, 823, 815, 824, 946, 908, 953, 927, 966, 968, 1024, 997, 1003, 1012, 979, 1029, 1012, 1007, 1022, 923, 942, 1012, 969, 966, 1009, 989, 857, 851, 851, 824, 946, 972, 915, 1011, 1010, 970, 933, 942, 966, 1018, 1043, 1012, 1029, 1025, 1029, 997, 1013, 1042, 1037, 1017, 1012, 1012, 1039, 1029, 975, 916, 895, 850, 815, 844, 847, 850, 841, 889, 867, 926, 942, 762, 850, 949, 885, 864, 889, 914, 751, 590, 689, 711, 726, 647, 694, 601, 647, 718, 792, 658, 775, 785, 781, 728, 841, 897, 970, 1005, 1038, 949, 962, 946, 959, 958, 953, 1045, 1078, 994, 899, 911, 1035, 1133]])"
      ]
     },
     "execution_count": 57,
     "metadata": {},
     "output_type": "execute_result"
    }
   ],
   "source": [
    "df = pd.read_csv(\"msft.csv\",header=3,names=['open', 'high', 'low','close', 'volume'])\n",
    "print(df.head(10))\n",
    "print(df.columns)\n",
    "df.index"
   ]
  },
  {
   "cell_type": "code",
   "execution_count": null,
   "metadata": {},
   "outputs": [],
   "source": [
    "# specify a new set of names for the columns\n",
    "# all lower case, remove space in Adj Close\n",
    "# also, header=0 skips the header row\n",
    "df = pd.read_csv(\"msft.csv\", \n",
    "                 header=4)\n",
    "df.head(100)\n",
    "df.index"
   ]
  },
  {
   "cell_type": "markdown",
   "metadata": {},
   "source": [
    "### Specifying specific columns to load"
   ]
  },
  {
   "cell_type": "code",
   "execution_count": 2,
   "metadata": {},
   "outputs": [
    {
     "data": {
      "text/plain": [
       "              Low  Close\n",
       "Date                    \n",
       "2014-07-21  81.81  81.93\n",
       "2014-07-18  82.52  83.35\n",
       "2014-07-17  83.33  83.63\n",
       "2014-07-16  83.66  84.91\n",
       "2014-07-15  83.20  83.58"
      ]
     },
     "execution_count": 2,
     "metadata": {},
     "output_type": "execute_result"
    }
   ],
   "source": [
    "# read in data only in the Date and Close columns\n",
    "# and index by the Date column\n",
    "df2 = pd.read_csv(\"msft.csv\", \n",
    "                  usecols=['Date', 'Close','Low'], \n",
    "                  index_col=['Date'])\n",
    "df2.head()"
   ]
  },
  {
   "cell_type": "markdown",
   "metadata": {},
   "source": [
    "## Saving a DataFrame to a CSV"
   ]
  },
  {
   "cell_type": "code",
   "execution_count": 288,
   "metadata": {},
   "outputs": [],
   "source": [
    "# save df2 to a new csv file\n",
    "# also specify naming the index as date\n",
    "df2.to_excel(\"myfile.xls\",  index_label='date')\n",
    "df2.to_excel(\"myfile.xls\", sheet_name='mysheet1', index_label='date')\n",
    "df2.to_excel(\"myfile.xls\", sheet_name='mysheet2', index_label='date')\n",
    "\n",
    "df2.to_csv(\"msft_modified.csv\", index_label='date')"
   ]
  },
  {
   "cell_type": "code",
   "execution_count": 290,
   "metadata": {},
   "outputs": [],
   "source": [
    "with pd.ExcelWriter('myfile.xls') as writer:  # doctest: +SKIP\n",
    "    df2.to_excel(writer, sheet_name='Sheet_name_1')\n",
    "    df2.to_excel(writer, sheet_name='Sheet_name_2')"
   ]
  },
  {
   "cell_type": "code",
   "execution_count": 7,
   "metadata": {},
   "outputs": [
    {
     "name": "stderr",
     "output_type": "stream",
     "text": [
      "'head' is not recognized as an internal or external command,\n",
      "operable program or batch file.\n"
     ]
    }
   ],
   "source": [
    "# view the start of the file just saved\n",
    "!head data/msft_modified.csv\n",
    "#type data/msft_modified.csv # windows"
   ]
  },
  {
   "cell_type": "markdown",
   "metadata": {},
   "source": [
    "# Working with missing data"
   ]
  },
  {
   "cell_type": "markdown",
   "metadata": {},
   "source": [
    "## Setup"
   ]
  },
  {
   "cell_type": "code",
   "execution_count": 291,
   "metadata": {},
   "outputs": [
    {
     "data": {
      "text/plain": [
       "   c1  c2  c3\n",
       "a   0   1   2\n",
       "b   3   4   5\n",
       "c   6   7   8\n",
       "d   9  10  11\n",
       "e  12  13  14"
      ]
     },
     "execution_count": 291,
     "metadata": {},
     "output_type": "execute_result"
    }
   ],
   "source": [
    "import pandas as pd\n",
    "# create a DataFrame with 5 rows and 3 columns\n",
    "df = pd.DataFrame(np.arange(0, 15).reshape(5, 3), \n",
    "               index=['a', 'b', 'c', 'd', 'e'], \n",
    "               columns=['c1', 'c2', 'c3'])\n",
    "df"
   ]
  },
  {
   "cell_type": "code",
   "execution_count": 292,
   "metadata": {},
   "outputs": [
    {
     "data": {
      "text/plain": [
       "   c1  c2  c3  c4\n",
       "a   0   1   2 NaN\n",
       "b   3   4   5 NaN\n",
       "c   6   7   8 NaN\n",
       "d   9  10  11 NaN\n",
       "e  12  13  14 NaN"
      ]
     },
     "execution_count": 292,
     "metadata": {},
     "output_type": "execute_result"
    }
   ],
   "source": [
    "# add some columns and rows to the DataFrame\n",
    "# column c4 with NaN values\n",
    "df['c4'] = np.nan\n",
    "df"
   ]
  },
  {
   "cell_type": "code",
   "execution_count": 293,
   "metadata": {},
   "outputs": [
    {
     "name": "stdout",
     "output_type": "stream",
     "text": [
      "   c1  c2  c3    c4\n",
      "a   0   1   2   NaN\n",
      "b   3   4   5   NaN\n",
      "c   6   7   8   NaN\n",
      "d   9  10  11   NaN\n",
      "e  12  13  14   NaN\n",
      "f  15  16  17  18.0\n"
     ]
    }
   ],
   "source": [
    "# row 'f' with 15 through 18 \n",
    "df.loc['f'] = np.arange(15, 19) \n",
    "# row 'g' will all NaN\n",
    "print(df)"
   ]
  },
  {
   "cell_type": "code",
   "execution_count": 299,
   "metadata": {},
   "outputs": [
    {
     "data": {
      "text/plain": [
       "     c1    c2    c3    c4  c5\n",
       "a   0.0   1.0   2.0  20.0 NaN\n",
       "b   3.0   4.0   5.0   NaN NaN\n",
       "c   6.0   7.0   8.0   NaN NaN\n",
       "d   9.0  10.0  11.0   NaN NaN\n",
       "e  12.0  13.0  14.0   NaN NaN\n",
       "f  15.0  16.0  17.0  18.0 NaN\n",
       "g   NaN   NaN   NaN   NaN NaN"
      ]
     },
     "execution_count": 299,
     "metadata": {},
     "output_type": "execute_result"
    }
   ],
   "source": [
    "df.loc['g'] = np.nan\n",
    "# column 'C5' with NaN's\n",
    "df"
   ]
  },
  {
   "cell_type": "code",
   "execution_count": 300,
   "metadata": {},
   "outputs": [],
   "source": [
    "df['c5'] = np.nan\n",
    "# change value in col 'c4' row 'a'\n"
   ]
  },
  {
   "cell_type": "code",
   "execution_count": 301,
   "metadata": {},
   "outputs": [
    {
     "data": {
      "text/plain": [
       "     c1    c2    c3    c4  c5\n",
       "a   0.0   1.0   2.0  20.0 NaN\n",
       "b   3.0   4.0   5.0   NaN NaN\n",
       "c   6.0   7.0   8.0   NaN NaN\n",
       "d   9.0  10.0  11.0   NaN NaN\n",
       "e  12.0  13.0  14.0   NaN NaN\n",
       "f  15.0  16.0  17.0  18.0 NaN\n",
       "g   NaN   NaN   NaN   NaN NaN"
      ]
     },
     "execution_count": 301,
     "metadata": {},
     "output_type": "execute_result"
    }
   ],
   "source": [
    "df['c4']['a'] = 20\n",
    "df"
   ]
  },
  {
   "cell_type": "code",
   "execution_count": 302,
   "metadata": {
    "scrolled": true
   },
   "outputs": [
    {
     "data": {
      "text/plain": [
       "     c1    c2    c3    c4  c5\n",
       "a   0.0   1.0   2.0  20.0 NaN\n",
       "b   3.0   4.0   5.0   NaN NaN\n",
       "c   6.0   7.0   8.0   NaN NaN\n",
       "d   9.0  10.0  11.0   NaN NaN\n",
       "e  12.0  13.0  14.0   NaN NaN\n",
       "f  15.0  16.0  17.0  18.0 NaN\n",
       "g   NaN   NaN   NaN   NaN NaN"
      ]
     },
     "execution_count": 302,
     "metadata": {},
     "output_type": "execute_result"
    }
   ],
   "source": [
    "df"
   ]
  },
  {
   "cell_type": "markdown",
   "metadata": {},
   "source": [
    "## Determining NaN values in Series and DataFrame objects"
   ]
  },
  {
   "cell_type": "code",
   "execution_count": 303,
   "metadata": {},
   "outputs": [
    {
     "data": {
      "text/plain": [
       "      c1     c2     c3     c4    c5\n",
       "a  False  False  False  False  True\n",
       "b  False  False  False   True  True\n",
       "c  False  False  False   True  True\n",
       "d  False  False  False   True  True\n",
       "e  False  False  False   True  True\n",
       "f  False  False  False  False  True\n",
       "g   True   True   True   True  True"
      ]
     },
     "execution_count": 303,
     "metadata": {},
     "output_type": "execute_result"
    }
   ],
   "source": [
    "# which items are NaN?\n",
    "df.isnull()"
   ]
  },
  {
   "cell_type": "code",
   "execution_count": 307,
   "metadata": {},
   "outputs": [
    {
     "data": {
      "text/plain": [
       "c1    1\n",
       "c2    1\n",
       "c3    1\n",
       "c4    5\n",
       "c5    7\n",
       "dtype: int64"
      ]
     },
     "execution_count": 307,
     "metadata": {},
     "output_type": "execute_result"
    }
   ],
   "source": [
    "# total count of NaN values\n",
    "nullsumforcolumns = df.isnull().sum()\n",
    "nullsumforcolumns"
   ]
  },
  {
   "cell_type": "code",
   "execution_count": 308,
   "metadata": {},
   "outputs": [
    {
     "data": {
      "text/plain": [
       "15"
      ]
     },
     "execution_count": 308,
     "metadata": {},
     "output_type": "execute_result"
    }
   ],
   "source": [
    "nullsumforcolumns.sum()"
   ]
  },
  {
   "cell_type": "code",
   "execution_count": 309,
   "metadata": {},
   "outputs": [
    {
     "data": {
      "text/plain": [
       "c1    6\n",
       "c2    6\n",
       "c3    6\n",
       "c4    2\n",
       "c5    0\n",
       "dtype: int64"
      ]
     },
     "execution_count": 309,
     "metadata": {},
     "output_type": "execute_result"
    }
   ],
   "source": [
    "# number of non-NaN values in each column\n",
    "df.count()"
   ]
  },
  {
   "cell_type": "code",
   "execution_count": 311,
   "metadata": {},
   "outputs": [
    {
     "data": {
      "text/plain": [
       "      c1     c2     c3     c4     c5\n",
       "a   True   True   True   True  False\n",
       "b   True   True   True  False  False\n",
       "c   True   True   True  False  False\n",
       "d   True   True   True  False  False\n",
       "e   True   True   True  False  False\n",
       "f   True   True   True   True  False\n",
       "g  False  False  False  False  False"
      ]
     },
     "execution_count": 311,
     "metadata": {},
     "output_type": "execute_result"
    }
   ],
   "source": [
    "# which items are not null?\n",
    "df.notnull()"
   ]
  },
  {
   "cell_type": "code",
   "execution_count": 312,
   "metadata": {},
   "outputs": [
    {
     "data": {
      "text/plain": [
       "c1    6\n",
       "c2    6\n",
       "c3    6\n",
       "c4    2\n",
       "c5    0\n",
       "dtype: int64"
      ]
     },
     "execution_count": 312,
     "metadata": {},
     "output_type": "execute_result"
    }
   ],
   "source": [
    "# which items are not null?\n",
    "df.notnull().sum()"
   ]
  },
  {
   "cell_type": "code",
   "execution_count": 313,
   "metadata": {},
   "outputs": [
    {
     "data": {
      "text/plain": [
       "20"
      ]
     },
     "execution_count": 313,
     "metadata": {},
     "output_type": "execute_result"
    }
   ],
   "source": [
    "# which items are not null?\n",
    "df.notnull().sum().sum()"
   ]
  },
  {
   "cell_type": "markdown",
   "metadata": {},
   "source": [
    "# Selecting out (dropping) missing data"
   ]
  },
  {
   "cell_type": "code",
   "execution_count": 314,
   "metadata": {},
   "outputs": [
    {
     "data": {
      "text/plain": [
       "      c1     c2     c3     c4     c5\n",
       "a   True   True   True   True  False\n",
       "b   True   True   True  False  False\n",
       "c   True   True   True  False  False\n",
       "d   True   True   True  False  False\n",
       "e   True   True   True  False  False\n",
       "f   True   True   True   True  False\n",
       "g  False  False  False  False  False"
      ]
     },
     "execution_count": 314,
     "metadata": {},
     "output_type": "execute_result"
    }
   ],
   "source": [
    "df.notnull()"
   ]
  },
  {
   "cell_type": "code",
   "execution_count": 315,
   "metadata": {},
   "outputs": [
    {
     "data": {
      "text/plain": [
       "     c1    c2    c3    c4  c5\n",
       "a   0.0   1.0   2.0  20.0 NaN\n",
       "b   3.0   4.0   5.0   NaN NaN\n",
       "c   6.0   7.0   8.0   NaN NaN\n",
       "d   9.0  10.0  11.0   NaN NaN\n",
       "e  12.0  13.0  14.0   NaN NaN\n",
       "f  15.0  16.0  17.0  18.0 NaN\n",
       "g   NaN   NaN   NaN   NaN NaN"
      ]
     },
     "execution_count": 315,
     "metadata": {},
     "output_type": "execute_result"
    }
   ],
   "source": [
    "df"
   ]
  },
  {
   "cell_type": "code",
   "execution_count": 318,
   "metadata": {},
   "outputs": [
    {
     "data": {
      "text/plain": [
       "a     True\n",
       "b     True\n",
       "c     True\n",
       "d     True\n",
       "e     True\n",
       "f     True\n",
       "g    False\n",
       "Name: c3, dtype: bool"
      ]
     },
     "execution_count": 318,
     "metadata": {},
     "output_type": "execute_result"
    }
   ],
   "source": [
    "df.c3.notnull()"
   ]
  },
  {
   "cell_type": "code",
   "execution_count": 321,
   "metadata": {},
   "outputs": [
    {
     "data": {
      "text/plain": [
       "a     2.0\n",
       "b     5.0\n",
       "c     8.0\n",
       "d    11.0\n",
       "e    14.0\n",
       "f    17.0\n",
       "Name: c3, dtype: float64"
      ]
     },
     "execution_count": 321,
     "metadata": {},
     "output_type": "execute_result"
    }
   ],
   "source": [
    "df.c3[df.c3.notnull()]"
   ]
  },
  {
   "cell_type": "code",
   "execution_count": 322,
   "metadata": {},
   "outputs": [
    {
     "data": {
      "text/plain": [
       "g   NaN\n",
       "Name: c3, dtype: float64"
      ]
     },
     "execution_count": 322,
     "metadata": {},
     "output_type": "execute_result"
    }
   ],
   "source": [
    "df.c3[df.c3.isnull()]"
   ]
  },
  {
   "cell_type": "code",
   "execution_count": 329,
   "metadata": {},
   "outputs": [
    {
     "data": {
      "text/plain": [
       "   c1  c2  c3  c4  c5\n",
       "g NaN NaN NaN NaN NaN"
      ]
     },
     "execution_count": 329,
     "metadata": {},
     "output_type": "execute_result"
    }
   ],
   "source": [
    "df[df.c3.isnull()]"
   ]
  },
  {
   "cell_type": "code",
   "execution_count": 330,
   "metadata": {},
   "outputs": [
    {
     "data": {
      "text/plain": [
       "     c1    c2    c3    c4  c5\n",
       "a   0.0   1.0   2.0  20.0 NaN\n",
       "b   3.0   4.0   5.0   NaN NaN\n",
       "c   6.0   7.0   8.0   NaN NaN\n",
       "d   9.0  10.0  11.0   NaN NaN\n",
       "e  12.0  13.0  14.0   NaN NaN\n",
       "f  15.0  16.0  17.0  18.0 NaN"
      ]
     },
     "execution_count": 330,
     "metadata": {},
     "output_type": "execute_result"
    }
   ],
   "source": [
    "df[df.c3.notnull()]"
   ]
  },
  {
   "cell_type": "code",
   "execution_count": 331,
   "metadata": {
    "scrolled": true
   },
   "outputs": [
    {
     "data": {
      "text/plain": [
       "     c1    c2    c3    c4  c5\n",
       "a   0.0   1.0   2.0  20.0 NaN\n",
       "b   3.0   4.0   5.0   NaN NaN\n",
       "c   6.0   7.0   8.0   NaN NaN\n",
       "d   9.0  10.0  11.0   NaN NaN\n",
       "e  12.0  13.0  14.0   NaN NaN\n",
       "f  15.0  16.0  17.0  18.0 NaN\n",
       "g   NaN   NaN   NaN   NaN NaN"
      ]
     },
     "execution_count": 331,
     "metadata": {},
     "output_type": "execute_result"
    }
   ],
   "source": [
    "df[df.notnull()]"
   ]
  },
  {
   "cell_type": "code",
   "execution_count": 326,
   "metadata": {},
   "outputs": [
    {
     "data": {
      "text/plain": [
       "     c1    c2    c3    c4  c5\n",
       "a   0.0   1.0   2.0  20.0 NaN\n",
       "b   3.0   4.0   5.0   NaN NaN\n",
       "c   6.0   7.0   8.0   NaN NaN\n",
       "d   9.0  10.0  11.0   NaN NaN\n",
       "e  12.0  13.0  14.0   NaN NaN\n",
       "f  15.0  16.0  17.0  18.0 NaN\n",
       "g   NaN   NaN   NaN   NaN NaN"
      ]
     },
     "execution_count": 326,
     "metadata": {},
     "output_type": "execute_result"
    }
   ],
   "source": [
    "df"
   ]
  },
  {
   "cell_type": "code",
   "execution_count": 327,
   "metadata": {
    "scrolled": true
   },
   "outputs": [
    {
     "data": {
      "text/plain": [
       "      c1     c2     c3     c4    c5\n",
       "a  False  False  False  False  True\n",
       "b  False  False  False   True  True\n",
       "c  False  False  False   True  True\n",
       "d  False  False  False   True  True\n",
       "e  False  False  False   True  True\n",
       "f  False  False  False  False  True\n",
       "g   True   True   True   True  True"
      ]
     },
     "execution_count": 327,
     "metadata": {},
     "output_type": "execute_result"
    }
   ],
   "source": [
    "df.isnull()"
   ]
  },
  {
   "cell_type": "code",
   "execution_count": 328,
   "metadata": {
    "scrolled": true
   },
   "outputs": [
    {
     "data": {
      "text/plain": [
       "   c1  c2  c3  c4  c5\n",
       "a NaN NaN NaN NaN NaN\n",
       "b NaN NaN NaN NaN NaN\n",
       "c NaN NaN NaN NaN NaN\n",
       "d NaN NaN NaN NaN NaN\n",
       "e NaN NaN NaN NaN NaN\n",
       "f NaN NaN NaN NaN NaN\n",
       "g NaN NaN NaN NaN NaN"
      ]
     },
     "execution_count": 328,
     "metadata": {},
     "output_type": "execute_result"
    }
   ],
   "source": [
    "df[df.isnull()]"
   ]
  },
  {
   "cell_type": "code",
   "execution_count": 47,
   "metadata": {},
   "outputs": [
    {
     "data": {
      "text/plain": [
       "a     NaN\n",
       "b     NaN\n",
       "c     NaN\n",
       "d     NaN\n",
       "e     NaN\n",
       "f    18.0\n",
       "g     NaN\n",
       "Name: c4, dtype: float64"
      ]
     },
     "execution_count": 47,
     "metadata": {},
     "output_type": "execute_result"
    }
   ],
   "source": [
    "df.c4"
   ]
  },
  {
   "cell_type": "code",
   "execution_count": 132,
   "metadata": {},
   "outputs": [
    {
     "data": {
      "text/plain": [
       "a     True\n",
       "b    False\n",
       "c    False\n",
       "d    False\n",
       "e    False\n",
       "f     True\n",
       "g    False\n",
       "Name: c4, dtype: bool"
      ]
     },
     "execution_count": 132,
     "metadata": {},
     "output_type": "execute_result"
    }
   ],
   "source": [
    "df.c4.notnull()"
   ]
  },
  {
   "cell_type": "code",
   "execution_count": 138,
   "metadata": {},
   "outputs": [
    {
     "data": {
      "text/plain": [
       "a    20.0\n",
       "f    18.0\n",
       "Name: c4, dtype: float64"
      ]
     },
     "execution_count": 138,
     "metadata": {},
     "output_type": "execute_result"
    }
   ],
   "source": [
    "# select the non-NaN items in column c4\n",
    "df.c4[df.c4.notnull()]"
   ]
  },
  {
   "cell_type": "code",
   "execution_count": 135,
   "metadata": {},
   "outputs": [
    {
     "data": {
      "text/plain": [
       "     c1    c2    c3    c4  c5\n",
       "a   0.0   1.0   2.0  20.0 NaN\n",
       "f  15.0  16.0  17.0  18.0 NaN"
      ]
     },
     "execution_count": 135,
     "metadata": {},
     "output_type": "execute_result"
    }
   ],
   "source": [
    "df[df.c4.notnull()]"
   ]
  },
  {
   "cell_type": "code",
   "execution_count": 49,
   "metadata": {},
   "outputs": [
    {
     "data": {
      "text/plain": [
       "a     NaN\n",
       "b     NaN\n",
       "c     NaN\n",
       "d     NaN\n",
       "e     NaN\n",
       "f    18.0\n",
       "g     NaN\n",
       "Name: c4, dtype: float64"
      ]
     },
     "execution_count": 49,
     "metadata": {},
     "output_type": "execute_result"
    }
   ],
   "source": [
    "df.c4"
   ]
  },
  {
   "cell_type": "code",
   "execution_count": 332,
   "metadata": {},
   "outputs": [
    {
     "data": {
      "text/plain": [
       "a    20.0\n",
       "f    18.0\n",
       "Name: c4, dtype: float64"
      ]
     },
     "execution_count": 332,
     "metadata": {},
     "output_type": "execute_result"
    }
   ],
   "source": [
    "# .dropna will also return non NaN values\n",
    "# this gets all non NaN items in column c4\n",
    "df.c4.dropna()"
   ]
  },
  {
   "cell_type": "code",
   "execution_count": 333,
   "metadata": {},
   "outputs": [
    {
     "data": {
      "text/plain": [
       "     c1    c2    c3    c4  c5\n",
       "a   0.0   1.0   2.0  20.0 NaN\n",
       "b   3.0   4.0   5.0   NaN NaN\n",
       "c   6.0   7.0   8.0   NaN NaN\n",
       "d   9.0  10.0  11.0   NaN NaN\n",
       "e  12.0  13.0  14.0   NaN NaN\n",
       "f  15.0  16.0  17.0  18.0 NaN\n",
       "g   NaN   NaN   NaN   NaN NaN"
      ]
     },
     "execution_count": 333,
     "metadata": {},
     "output_type": "execute_result"
    }
   ],
   "source": [
    "df"
   ]
  },
  {
   "cell_type": "code",
   "execution_count": 334,
   "metadata": {},
   "outputs": [
    {
     "data": {
      "text/plain": [
       "     c1    c2    c3    c4   c5\n",
       "a   0.0   1.0   2.0  20.0  1.0\n",
       "b   3.0   4.0   5.0   NaN  NaN\n",
       "c   6.0   7.0   8.0   NaN  NaN\n",
       "d   9.0  10.0  11.0   NaN  NaN\n",
       "e  12.0  13.0  14.0   NaN  NaN\n",
       "f  15.0  16.0  17.0  18.0  NaN\n",
       "g   NaN   NaN   NaN   NaN  NaN"
      ]
     },
     "execution_count": 334,
     "metadata": {},
     "output_type": "execute_result"
    }
   ],
   "source": [
    "df['c5']['a'] = 1\n",
    "df"
   ]
  },
  {
   "cell_type": "code",
   "execution_count": 335,
   "metadata": {},
   "outputs": [],
   "source": [
    "df['c1']['g'] = 1"
   ]
  },
  {
   "cell_type": "code",
   "execution_count": 336,
   "metadata": {},
   "outputs": [
    {
     "data": {
      "text/plain": [
       "     c1    c2    c3    c4   c5\n",
       "a   0.0   1.0   2.0  20.0  1.0\n",
       "b   3.0   4.0   5.0   NaN  NaN\n",
       "c   6.0   7.0   8.0   NaN  NaN\n",
       "d   9.0  10.0  11.0   NaN  NaN\n",
       "e  12.0  13.0  14.0   NaN  NaN\n",
       "f  15.0  16.0  17.0  18.0  NaN\n",
       "g   1.0   NaN   NaN   NaN  NaN"
      ]
     },
     "execution_count": 336,
     "metadata": {},
     "output_type": "execute_result"
    }
   ],
   "source": [
    "df"
   ]
  },
  {
   "cell_type": "code",
   "execution_count": 337,
   "metadata": {},
   "outputs": [],
   "source": [
    "df['c4']['a'] = 2"
   ]
  },
  {
   "cell_type": "code",
   "execution_count": 338,
   "metadata": {
    "scrolled": true
   },
   "outputs": [
    {
     "data": {
      "text/plain": [
       "    c1   c2   c3   c4   c5\n",
       "a  0.0  1.0  2.0  2.0  1.0"
      ]
     },
     "execution_count": 338,
     "metadata": {},
     "output_type": "execute_result"
    }
   ],
   "source": [
    "df.dropna()\n",
    "### all the columns should be not null for a row \n",
    "## if one colum value is null or Nan for a row, dropna method will drop that row"
   ]
  },
  {
   "cell_type": "code",
   "execution_count": 339,
   "metadata": {},
   "outputs": [
    {
     "data": {
      "text/plain": [
       "a     2.0\n",
       "b     NaN\n",
       "c     NaN\n",
       "d     NaN\n",
       "e     NaN\n",
       "f    18.0\n",
       "g     NaN\n",
       "Name: c4, dtype: float64"
      ]
     },
     "execution_count": 339,
     "metadata": {},
     "output_type": "execute_result"
    }
   ],
   "source": [
    "# dropna returns a copy with the values dropped\n",
    "# the source DataFrame / column is not changed\n",
    "df.c4"
   ]
  },
  {
   "cell_type": "code",
   "execution_count": 345,
   "metadata": {},
   "outputs": [
    {
     "name": "stdout",
     "output_type": "stream",
     "text": [
      "    c1   c2   c3   c4   c5\n",
      "a  0.0  1.0  2.0  2.0  1.0\n"
     ]
    },
    {
     "data": {
      "text/plain": [
       "     c1    c2    c3    c4   c5\n",
       "a   0.0   1.0   2.0   2.0  1.0\n",
       "b   3.0   4.0   5.0   NaN  NaN\n",
       "c   6.0   7.0   8.0   NaN  NaN\n",
       "d   9.0  10.0  11.0   NaN  NaN\n",
       "e  12.0  13.0  14.0   NaN  NaN\n",
       "f  15.0  16.0  17.0  18.0  NaN"
      ]
     },
     "execution_count": 345,
     "metadata": {},
     "output_type": "execute_result"
    }
   ],
   "source": [
    "# using how='all', only rows that have all values\n",
    "# as NaN will be dropped\n",
    "a = df.dropna(how = 'any')\n",
    "print(a)\n",
    "a = df.dropna(how = 'all')\n",
    "a "
   ]
  },
  {
   "cell_type": "code",
   "execution_count": 346,
   "metadata": {},
   "outputs": [],
   "source": [
    "df['c1']['g'] = np.nan"
   ]
  },
  {
   "cell_type": "code",
   "execution_count": 347,
   "metadata": {},
   "outputs": [
    {
     "data": {
      "text/plain": [
       "     c1    c2    c3    c4   c5\n",
       "a   0.0   1.0   2.0   2.0  1.0\n",
       "b   3.0   4.0   5.0   NaN  NaN\n",
       "c   6.0   7.0   8.0   NaN  NaN\n",
       "d   9.0  10.0  11.0   NaN  NaN\n",
       "e  12.0  13.0  14.0   NaN  NaN\n",
       "f  15.0  16.0  17.0  18.0  NaN\n",
       "g   NaN   NaN   NaN   NaN  NaN"
      ]
     },
     "execution_count": 347,
     "metadata": {},
     "output_type": "execute_result"
    }
   ],
   "source": [
    "df"
   ]
  },
  {
   "cell_type": "code",
   "execution_count": 67,
   "metadata": {},
   "outputs": [
    {
     "data": {
      "text/plain": [
       "     c1    c2    c3    c4   c5\n",
       "a   0.0   1.0   2.0   2.0  1.0\n",
       "b   3.0   4.0   5.0   NaN  NaN\n",
       "c   6.0   7.0   8.0   NaN  NaN\n",
       "d   9.0  10.0  11.0   NaN  NaN\n",
       "e  12.0  13.0  14.0   NaN  NaN\n",
       "f  15.0  16.0  17.0  18.0  NaN"
      ]
     },
     "execution_count": 67,
     "metadata": {},
     "output_type": "execute_result"
    }
   ],
   "source": [
    "# using how='all', only rows that have all values\n",
    "# as NaN will be dropped\n",
    "a = df.dropna(how = 'all')\n",
    "a "
   ]
  },
  {
   "cell_type": "code",
   "execution_count": 348,
   "metadata": {},
   "outputs": [],
   "source": [
    "df['c5'][0] = np.nan"
   ]
  },
  {
   "cell_type": "code",
   "execution_count": 349,
   "metadata": {},
   "outputs": [
    {
     "data": {
      "text/plain": [
       "     c1    c2    c3    c4  c5\n",
       "a   0.0   1.0   2.0   2.0 NaN\n",
       "b   3.0   4.0   5.0   NaN NaN\n",
       "c   6.0   7.0   8.0   NaN NaN\n",
       "d   9.0  10.0  11.0   NaN NaN\n",
       "e  12.0  13.0  14.0   NaN NaN\n",
       "f  15.0  16.0  17.0  18.0 NaN\n",
       "g   NaN   NaN   NaN   NaN NaN"
      ]
     },
     "execution_count": 349,
     "metadata": {},
     "output_type": "execute_result"
    }
   ],
   "source": [
    "df"
   ]
  },
  {
   "cell_type": "code",
   "execution_count": 354,
   "metadata": {},
   "outputs": [
    {
     "data": {
      "text/plain": [
       "     c1    c2    c3    c4\n",
       "a   0.0   1.0   2.0   2.0\n",
       "b   3.0   4.0   5.0   NaN\n",
       "c   6.0   7.0   8.0   NaN\n",
       "d   9.0  10.0  11.0   NaN\n",
       "e  12.0  13.0  14.0   NaN\n",
       "f  15.0  16.0  17.0  18.0\n",
       "g   NaN   NaN   NaN   NaN"
      ]
     },
     "execution_count": 354,
     "metadata": {},
     "output_type": "execute_result"
    }
   ],
   "source": [
    "# flip to drop columns instead of rows\n",
    "df.dropna(how='all', axis=1) # say goodbye to c5, axis = 1 column"
   ]
  },
  {
   "cell_type": "code",
   "execution_count": 355,
   "metadata": {},
   "outputs": [
    {
     "data": {
      "text/plain": [
       "     c1    c2    c3    c4  c5\n",
       "a   0.0   1.0   2.0   2.0 NaN\n",
       "b   3.0   4.0   5.0   NaN NaN\n",
       "c   6.0   7.0   8.0   NaN NaN\n",
       "d   9.0  10.0  11.0   NaN NaN\n",
       "e  12.0  13.0  14.0   NaN NaN\n",
       "f  15.0  16.0  17.0  18.0 NaN\n",
       "g   NaN   NaN   NaN   NaN NaN"
      ]
     },
     "execution_count": 355,
     "metadata": {},
     "output_type": "execute_result"
    }
   ],
   "source": [
    "df"
   ]
  },
  {
   "cell_type": "code",
   "execution_count": 356,
   "metadata": {},
   "outputs": [],
   "source": [
    "df.loc[\"g\"] = np.nan"
   ]
  },
  {
   "cell_type": "code",
   "execution_count": 358,
   "metadata": {
    "scrolled": true
   },
   "outputs": [
    {
     "data": {
      "text/plain": [
       "     c1    c2    c3    c4  c5\n",
       "a   0.0   1.0   2.0   2.0 NaN\n",
       "b   3.0   4.0   5.0   NaN NaN\n",
       "c   6.0   7.0   8.0   NaN NaN\n",
       "d   9.0  10.0  11.0   NaN NaN\n",
       "e  12.0  13.0  14.0   NaN NaN\n",
       "f  15.0  16.0  17.0  18.0 NaN\n",
       "g   NaN   NaN   NaN   NaN NaN"
      ]
     },
     "execution_count": 358,
     "metadata": {},
     "output_type": "execute_result"
    }
   ],
   "source": [
    "df"
   ]
  },
  {
   "cell_type": "code",
   "execution_count": 359,
   "metadata": {},
   "outputs": [
    {
     "data": {
      "text/plain": [
       "     c1    c2    c3    c4  c5\n",
       "a   0.0   1.0   2.0   2.0 NaN\n",
       "b   3.0   4.0   5.0   NaN NaN\n",
       "c   6.0   7.0   8.0   NaN NaN\n",
       "d   9.0  10.0  11.0   NaN NaN\n",
       "e  12.0  13.0  14.0   NaN NaN\n",
       "f  15.0  16.0  17.0  18.0 NaN"
      ]
     },
     "execution_count": 359,
     "metadata": {},
     "output_type": "execute_result"
    }
   ],
   "source": [
    "# flip to drop columns instead of rows\n",
    "df.dropna(how='all', axis=0) # say goodbye to c5"
   ]
  },
  {
   "cell_type": "code",
   "execution_count": 360,
   "metadata": {},
   "outputs": [
    {
     "name": "stderr",
     "output_type": "stream",
     "text": [
      "c:\\python373\\lib\\site-packages\\ipykernel_launcher.py:5: DeprecationWarning: \n",
      ".ix is deprecated. Please use\n",
      ".loc for label based indexing or\n",
      ".iloc for positional indexing\n",
      "\n",
      "See the documentation here:\n",
      "http://pandas.pydata.org/pandas-docs/stable/indexing.html#ix-indexer-is-deprecated\n",
      "  \"\"\"\n",
      "c:\\python373\\lib\\site-packages\\ipykernel_launcher.py:6: DeprecationWarning: \n",
      ".ix is deprecated. Please use\n",
      ".loc for label based indexing or\n",
      ".iloc for positional indexing\n",
      "\n",
      "See the documentation here:\n",
      "http://pandas.pydata.org/pandas-docs/stable/indexing.html#ix-indexer-is-deprecated\n",
      "  \n"
     ]
    },
    {
     "data": {
      "text/plain": [
       "     c1    c2    c3    c4  c5\n",
       "a   0.0   1.0   2.0   2.0 NaN\n",
       "b   3.0   4.0   5.0   NaN NaN\n",
       "c   6.0   7.0   8.0   NaN NaN\n",
       "d   9.0  10.0  11.0   NaN NaN\n",
       "e  12.0  13.0  14.0   NaN NaN\n",
       "f  15.0  16.0  17.0  18.0 NaN\n",
       "g   0.0   NaN   0.0   NaN NaN"
      ]
     },
     "execution_count": 360,
     "metadata": {},
     "output_type": "execute_result"
    }
   ],
   "source": [
    "# make a copy of df\n",
    "df2 = df.copy()\n",
    "\n",
    "# replace two NaN cells with values\n",
    "df2.ix['g'].c1 = 0\n",
    "df2.ix['g'].c3 = 0\n",
    "\n",
    "#.ix is deprecated. Please use\n",
    "#.loc for label based indexing or loc -> label a, b, c, \n",
    "#.iloc for positional indexing iloc -> index of labe a -> 0, b -> 1 -- 0,1,2,3...\n",
    "df2"
   ]
  },
  {
   "cell_type": "code",
   "execution_count": 361,
   "metadata": {},
   "outputs": [
    {
     "data": {
      "text/plain": [
       "Empty DataFrame\n",
       "Columns: [c1, c2, c3, c4, c5]\n",
       "Index: []"
      ]
     },
     "execution_count": 361,
     "metadata": {},
     "output_type": "execute_result"
    }
   ],
   "source": [
    "# now drop columns with any NaN values\n",
    "df2.dropna(how='any', axis=0) "
   ]
  },
  {
   "cell_type": "code",
   "execution_count": 362,
   "metadata": {},
   "outputs": [
    {
     "data": {
      "text/plain": [
       "     c1    c2    c3    c4  c5\n",
       "a   0.0   1.0   2.0   2.0 NaN\n",
       "b   3.0   4.0   5.0   NaN NaN\n",
       "c   6.0   7.0   8.0   NaN NaN\n",
       "d   9.0  10.0  11.0   NaN NaN\n",
       "e  12.0  13.0  14.0   NaN NaN\n",
       "f  15.0  16.0  17.0  18.0 NaN\n",
       "g   NaN   NaN   NaN   NaN NaN"
      ]
     },
     "execution_count": 362,
     "metadata": {},
     "output_type": "execute_result"
    }
   ],
   "source": [
    "df"
   ]
  },
  {
   "cell_type": "code",
   "execution_count": 363,
   "metadata": {},
   "outputs": [
    {
     "data": {
      "text/plain": [
       "     c1    c2    c3    c4\n",
       "a   0.0   1.0   2.0   2.0\n",
       "b   3.0   4.0   5.0   NaN\n",
       "c   6.0   7.0   8.0   NaN\n",
       "d   9.0  10.0  11.0   NaN\n",
       "e  12.0  13.0  14.0   NaN\n",
       "f  15.0  16.0  17.0  18.0\n",
       "g   NaN   NaN   NaN   NaN"
      ]
     },
     "execution_count": 363,
     "metadata": {},
     "output_type": "execute_result"
    }
   ],
   "source": [
    "#threshold is minimum not nan values\n",
    "\n",
    "df.dropna(thresh=1, axis=1)"
   ]
  },
  {
   "cell_type": "code",
   "execution_count": 365,
   "metadata": {},
   "outputs": [
    {
     "data": {
      "text/plain": [
       "     c1    c2    c3    c4  c5\n",
       "a   0.0   1.0   2.0   2.0 NaN\n",
       "f  15.0  16.0  17.0  18.0 NaN"
      ]
     },
     "execution_count": 365,
     "metadata": {},
     "output_type": "execute_result"
    }
   ],
   "source": [
    "df.dropna(thresh=4, axis=0)"
   ]
  },
  {
   "cell_type": "code",
   "execution_count": 369,
   "metadata": {},
   "outputs": [
    {
     "data": {
      "text/plain": [
       "     c1    c2    c3    c4\n",
       "a   0.0   1.0   2.0   2.0\n",
       "b   3.0   4.0   5.0   NaN\n",
       "c   6.0   7.0   8.0   NaN\n",
       "d   9.0  10.0  11.0   NaN\n",
       "e  12.0  13.0  14.0   NaN\n",
       "f  15.0  16.0  17.0  18.0\n",
       "g   NaN   NaN   NaN   NaN"
      ]
     },
     "execution_count": 369,
     "metadata": {},
     "output_type": "execute_result"
    }
   ],
   "source": [
    "df.dropna(thresh=2, axis=1)"
   ]
  },
  {
   "cell_type": "code",
   "execution_count": 370,
   "metadata": {},
   "outputs": [
    {
     "data": {
      "text/plain": [
       "Empty DataFrame\n",
       "Columns: [c1, c2, c3, c4, c5]\n",
       "Index: []"
      ]
     },
     "execution_count": 370,
     "metadata": {},
     "output_type": "execute_result"
    }
   ],
   "source": [
    "# only drop columns with at least 5 NaN values\n",
    "#threshold is minimum not nan values\n",
    "\n",
    "df.dropna(thresh=6, axis=0)"
   ]
  },
  {
   "cell_type": "code",
   "execution_count": 371,
   "metadata": {},
   "outputs": [
    {
     "data": {
      "text/plain": [
       "     c1    c2    c3    c4  c5\n",
       "a   0.0   1.0   2.0   2.0 NaN\n",
       "b   3.0   4.0   5.0   NaN NaN\n",
       "c   6.0   7.0   8.0   NaN NaN\n",
       "d   9.0  10.0  11.0   NaN NaN\n",
       "e  12.0  13.0  14.0   NaN NaN\n",
       "f  15.0  16.0  17.0  18.0 NaN\n",
       "g   NaN   NaN   NaN   NaN NaN"
      ]
     },
     "execution_count": 371,
     "metadata": {},
     "output_type": "execute_result"
    }
   ],
   "source": [
    "df"
   ]
  },
  {
   "cell_type": "code",
   "execution_count": 372,
   "metadata": {},
   "outputs": [
    {
     "data": {
      "text/plain": [
       "     c1    c2    c3    c4  c5\n",
       "a   0.0   1.0   2.0   2.0 NaN\n",
       "b   3.0   4.0   5.0   NaN NaN\n",
       "c   6.0   7.0   8.0   NaN NaN\n",
       "d   9.0  10.0  11.0   NaN NaN\n",
       "e  12.0  13.0  14.0   NaN NaN\n",
       "f  15.0  16.0  17.0  18.0 NaN"
      ]
     },
     "execution_count": 372,
     "metadata": {},
     "output_type": "execute_result"
    }
   ],
   "source": [
    "# only drop columns with at least 5 NaN values\n",
    "#threshold is minimum not nan values\n",
    "\n",
    "df.dropna(thresh=3, axis=0)"
   ]
  },
  {
   "cell_type": "code",
   "execution_count": 373,
   "metadata": {},
   "outputs": [
    {
     "data": {
      "text/plain": [
       "c1     7.5\n",
       "c2     8.5\n",
       "c3     9.5\n",
       "c4    10.0\n",
       "c5     NaN\n",
       "dtype: float64"
      ]
     },
     "execution_count": 373,
     "metadata": {},
     "output_type": "execute_result"
    }
   ],
   "source": [
    "# NaN's don't count as an item in calculating\n",
    "# the means\n",
    "df.mean()"
   ]
  },
  {
   "cell_type": "code",
   "execution_count": 103,
   "metadata": {},
   "outputs": [
    {
     "data": {
      "text/plain": [
       "8.875"
      ]
     },
     "execution_count": 103,
     "metadata": {},
     "output_type": "execute_result"
    }
   ],
   "source": [
    "df.mean().mean()"
   ]
  },
  {
   "cell_type": "code",
   "execution_count": 378,
   "metadata": {},
   "outputs": [
    {
     "data": {
      "text/plain": [
       "9.0"
      ]
     },
     "execution_count": 378,
     "metadata": {},
     "output_type": "execute_result"
    }
   ],
   "source": [
    "df.median().median()"
   ]
  },
  {
   "cell_type": "markdown",
   "metadata": {},
   "source": [
    "#### Filling Nan"
   ]
  },
  {
   "cell_type": "code",
   "execution_count": 380,
   "metadata": {},
   "outputs": [
    {
     "data": {
      "text/plain": [
       "     c1    c2    c3    c4   c5\n",
       "a   0.0   1.0   2.0   2.0  0.0\n",
       "b   3.0   4.0   5.0   0.0  0.0\n",
       "c   6.0   7.0   8.0   0.0  0.0\n",
       "d   9.0  10.0  11.0   0.0  0.0\n",
       "e  12.0  13.0  14.0   0.0  0.0\n",
       "f  15.0  16.0  17.0  18.0  0.0\n",
       "g   0.0   0.0   0.0   0.0  0.0"
      ]
     },
     "execution_count": 380,
     "metadata": {},
     "output_type": "execute_result"
    }
   ],
   "source": [
    "# return a new DataFrame with NaN's filled with 0\n",
    "filled = df.fillna(0.0)\n",
    "filled\n"
   ]
  },
  {
   "cell_type": "code",
   "execution_count": 384,
   "metadata": {},
   "outputs": [
    {
     "data": {
      "text/plain": [
       "c1    6.428571\n",
       "c2    7.285714\n",
       "c3    8.142857\n",
       "c4    2.857143\n",
       "c5    0.000000\n",
       "dtype: float64"
      ]
     },
     "execution_count": 384,
     "metadata": {},
     "output_type": "execute_result"
    }
   ],
   "source": [
    "# having replaced NaN with 0 can make\n",
    "# operations such as mean have different results\n",
    "filled.mean()"
   ]
  },
  {
   "cell_type": "code",
   "execution_count": 385,
   "metadata": {},
   "outputs": [
    {
     "data": {
      "text/plain": [
       "     c1    c2    c3    c4  c5\n",
       "a   0.0   1.0   2.0   2.0 NaN\n",
       "b   3.0   4.0   5.0   NaN NaN\n",
       "c   6.0   7.0   8.0   NaN NaN\n",
       "d   9.0  10.0  11.0   NaN NaN\n",
       "e  12.0  13.0  14.0   NaN NaN\n",
       "f  15.0  16.0  17.0  18.0 NaN\n",
       "g   NaN   NaN   NaN   NaN NaN"
      ]
     },
     "execution_count": 385,
     "metadata": {},
     "output_type": "execute_result"
    }
   ],
   "source": [
    "df"
   ]
  },
  {
   "cell_type": "code",
   "execution_count": 391,
   "metadata": {},
   "outputs": [
    {
     "name": "stdout",
     "output_type": "stream",
     "text": [
      "     c1    c2    c3    c4  c5\n",
      "a   0.0   1.0   2.0   2.0 NaN\n",
      "b   3.0   4.0   5.0   NaN NaN\n",
      "c   6.0   7.0   8.0   NaN NaN\n",
      "d   9.0  10.0  11.0   NaN NaN\n",
      "e  12.0  13.0  14.0   NaN NaN\n",
      "f  15.0  16.0  17.0  18.0 NaN\n",
      "g   NaN   NaN   NaN   NaN NaN\n",
      "####################################\n",
      "     c1    c2    c3    c4   c5\n",
      "a   0.0   1.0   2.0   2.0  1.0\n",
      "b   3.0   4.0   5.0   1.0  1.0\n",
      "c   6.0   7.0   8.0   1.0  1.0\n",
      "d   9.0  10.0  11.0   1.0  NaN\n",
      "e  12.0  13.0  14.0   NaN  NaN\n",
      "f  15.0  16.0  17.0  18.0  NaN\n",
      "g   1.0   1.0   1.0   NaN  NaN\n"
     ]
    }
   ],
   "source": [
    "# only fills the first two NaN's in each row with 0\n",
    "print(df)\n",
    "print(\"####################################\")\n",
    "fill_2 = df.fillna(1.0, limit=3, axis = 'index')#0)\n",
    "print(fill_2)"
   ]
  },
  {
   "cell_type": "code",
   "execution_count": 394,
   "metadata": {},
   "outputs": [
    {
     "data": {
      "text/plain": [
       "     c1    c2    c3    c4  c5\n",
       "a   0.0   1.0   2.0   2.0 NaN\n",
       "b   3.0   4.0   5.0   NaN NaN\n",
       "c   6.0   7.0   8.0   NaN NaN\n",
       "d   9.0  10.0  11.0   NaN NaN\n",
       "e  12.0  13.0  14.0   NaN NaN\n",
       "f  15.0  16.0  17.0  18.0 NaN\n",
       "g   NaN   NaN   NaN   NaN NaN"
      ]
     },
     "execution_count": 394,
     "metadata": {},
     "output_type": "execute_result"
    }
   ],
   "source": [
    "df"
   ]
  },
  {
   "cell_type": "code",
   "execution_count": 405,
   "metadata": {},
   "outputs": [
    {
     "name": "stdout",
     "output_type": "stream",
     "text": [
      "     c1    c2    c3    c4  c5\n",
      "a   0.0   1.0   2.0   2.0 NaN\n",
      "b   3.0   4.0   5.0   NaN NaN\n",
      "c   6.0   7.0   8.0   NaN NaN\n",
      "d   9.0  10.0  11.0   NaN NaN\n",
      "e  12.0  13.0  14.0   NaN NaN\n",
      "f  15.0  16.0  17.0  18.0 NaN\n",
      "g   NaN   NaN   NaN   NaN NaN\n"
     ]
    }
   ],
   "source": [
    "#DataFrame.replace(self, to_replace=None, value=None, inplace=False, limit=None, regex=False, method='pad')\n",
    "df_regex = df.replace(\"[10\\.]+\",1111.0,limit=3, regex = True)\n",
    "print(df_regex)\n",
    "#DataFrame.replace(df2,1.0,10.0)"
   ]
  },
  {
   "cell_type": "code",
   "execution_count": 406,
   "metadata": {},
   "outputs": [
    {
     "data": {
      "text/plain": [
       "     c1    c2    c3    c4  c5\n",
       "a   0.0   1.0   2.0   2.0 NaN\n",
       "b   3.0   4.0   5.0   NaN NaN\n",
       "c   6.0   7.0   8.0   NaN NaN\n",
       "d   9.0  10.0  11.0   NaN NaN\n",
       "e  12.0  13.0  14.0   NaN NaN\n",
       "f  15.0  16.0  17.0  18.0 NaN\n",
       "g   NaN   NaN   NaN   NaN NaN"
      ]
     },
     "execution_count": 406,
     "metadata": {},
     "output_type": "execute_result"
    }
   ],
   "source": [
    "df"
   ]
  },
  {
   "cell_type": "code",
   "execution_count": 407,
   "metadata": {},
   "outputs": [
    {
     "name": "stdout",
     "output_type": "stream",
     "text": [
      "    c1    c2    c3    c4   c5  c6\n",
      "a  0.0   1.0   2.0   2.0  NaN NaN\n",
      "b  3.0   4.0   5.0   NaN  NaN NaN\n",
      "c  NaN   7.0   8.0   NaN  NaN NaN\n",
      "d  NaN   NaN   NaN   NaN  NaN NaN\n",
      "e  NaN   1.0   1.0   1.0  1.0 NaN\n",
      "f  NaN  16.0  17.0  18.0  NaN NaN\n",
      "g  NaN   NaN   NaN   NaN  NaN NaN\n",
      "#######################################\n",
      "     c1    c2    c3    c4    c5    c6\n",
      "a   0.0   1.0   2.0   2.0  10.0  10.0\n",
      "b   3.0   4.0   5.0  10.0  10.0  10.0\n",
      "c  10.0   7.0   8.0  10.0  10.0  10.0\n",
      "d  10.0  10.0  10.0  10.0   NaN   NaN\n",
      "e  10.0   1.0   1.0   1.0   1.0   NaN\n",
      "f   NaN  16.0  17.0  18.0   NaN   NaN\n",
      "g   NaN  10.0  10.0   NaN   NaN   NaN\n"
     ]
    }
   ],
   "source": [
    "# only fills the first two NaN's in each row with 0\n",
    "df.loc['e'] = 1\n",
    "df['c1'][['c','d','e','f']] = np.nan\n",
    "df['c6'] = np.nan\n",
    "\n",
    "df.loc['d'] = np.nan\n",
    "print(df)\n",
    "print(\"#######################################\")\n",
    "fill_2 = df.fillna(10, limit=3, axis = 'index') # index or 0, # columns or 1\n",
    "print(fill_2)\n"
   ]
  },
  {
   "cell_type": "code",
   "execution_count": 408,
   "metadata": {},
   "outputs": [
    {
     "name": "stdout",
     "output_type": "stream",
     "text": [
      "    c1    c2    c3    c4   c5  c6\n",
      "a  0.0   1.0   2.0   2.0  NaN NaN\n",
      "b  3.0   4.0   5.0   NaN  NaN NaN\n",
      "c  NaN   7.0   8.0   NaN  NaN NaN\n",
      "d  NaN   NaN   NaN   NaN  NaN NaN\n",
      "e  NaN   1.0   1.0   1.0  1.0 NaN\n",
      "f  NaN  16.0  17.0  18.0  NaN NaN\n",
      "g  NaN   NaN   NaN   NaN  NaN NaN\n"
     ]
    },
    {
     "data": {
      "text/plain": [
       "  c1  c2  c3  c4   c5   c6\n",
       "a  0   1   2   2    #    #\n",
       "b  3   4   5   #    #    #\n",
       "c  #   7   8   #    #    #\n",
       "d  #   #   #   #    #    #\n",
       "e  #   1   1   1    1    #\n",
       "f  #  16  17  18    #  NaN\n",
       "g  #   #   #   #  NaN  NaN"
      ]
     },
     "execution_count": 408,
     "metadata": {},
     "output_type": "execute_result"
    }
   ],
   "source": [
    "# only fills the first two NaN's in each row with 0\n",
    "fill_2 = df.fillna(\"#\", limit=5)\n",
    "print(df)\n",
    "fill_2\n"
   ]
  },
  {
   "cell_type": "code",
   "execution_count": 409,
   "metadata": {},
   "outputs": [],
   "source": [
    "df3 = df2.copy()\n",
    "df3\n",
    "df3[\"c6\"] = np.NaN\n",
    "df3[\"c7\"] = np.NaN\n",
    "df3[\"c8\"] = np.NaN\n",
    "df3[\"c9\"] = np.NaN\n",
    "df3.c1 = np.NaN"
   ]
  },
  {
   "cell_type": "code",
   "execution_count": 410,
   "metadata": {},
   "outputs": [
    {
     "data": {
      "text/plain": [
       "   c1    c2    c3    c4  c5  c6  c7  c8  c9\n",
       "a NaN   1.0   2.0   2.0 NaN NaN NaN NaN NaN\n",
       "b NaN   4.0   5.0   NaN NaN NaN NaN NaN NaN\n",
       "c NaN   7.0   8.0   NaN NaN NaN NaN NaN NaN\n",
       "d NaN  10.0  11.0   NaN NaN NaN NaN NaN NaN\n",
       "e NaN  13.0  14.0   NaN NaN NaN NaN NaN NaN\n",
       "f NaN  16.0  17.0  18.0 NaN NaN NaN NaN NaN\n",
       "g NaN   NaN   0.0   NaN NaN NaN NaN NaN NaN"
      ]
     },
     "execution_count": 410,
     "metadata": {},
     "output_type": "execute_result"
    }
   ],
   "source": [
    "df3"
   ]
  },
  {
   "cell_type": "code",
   "execution_count": 411,
   "metadata": {},
   "outputs": [
    {
     "data": {
      "text/plain": [
       "    c1    c2    c3    c4   c5   c6   c7   c8   c9\n",
       "a  0.0   1.0   2.0   2.0  0.0  0.0  0.0  0.0  0.0\n",
       "b  0.0   4.0   5.0   0.0  0.0  0.0  0.0  0.0  0.0\n",
       "c  NaN   7.0   8.0   0.0  NaN  NaN  NaN  NaN  NaN\n",
       "d  NaN  10.0  11.0   NaN  NaN  NaN  NaN  NaN  NaN\n",
       "e  NaN  13.0  14.0   NaN  NaN  NaN  NaN  NaN  NaN\n",
       "f  NaN  16.0  17.0  18.0  NaN  NaN  NaN  NaN  NaN\n",
       "g  NaN   0.0   0.0   NaN  NaN  NaN  NaN  NaN  NaN"
      ]
     },
     "execution_count": 411,
     "metadata": {},
     "output_type": "execute_result"
    }
   ],
   "source": [
    "# only fills the first two NaN's in each row with 0\n",
    "fill_2 = df3.fillna(0, limit=2, axis = 'index')\n",
    "fill_2"
   ]
  },
  {
   "cell_type": "code",
   "execution_count": 145,
   "metadata": {},
   "outputs": [
    {
     "name": "stdout",
     "output_type": "stream",
     "text": [
      "    c1    c2    c3    c4   c5   c6   c7   c8   c9\n",
      "a  1.0   1.0   2.0   2.0  1.0  1.0  1.0  1.0  1.0\n",
      "b  1.0   4.0   5.0   1.0  1.0  1.0  1.0  1.0  1.0\n",
      "c  1.0   7.0   8.0   1.0  1.0  1.0  1.0  1.0  1.0\n",
      "d  1.0  10.0  11.0   1.0  1.0  1.0  1.0  1.0  1.0\n",
      "e  1.0  13.0  14.0   1.0  1.0  1.0  1.0  1.0  1.0\n",
      "f  NaN  16.0  17.0  18.0  NaN  NaN  NaN  NaN  NaN\n",
      "g  NaN   1.0   0.0   1.0  NaN  NaN  NaN  NaN  NaN\n"
     ]
    },
    {
     "data": {
      "text/plain": [
       "    c1    c2    c3    c4   c5   c6   c7   c8   c9\n",
       "a  1.0   1.0   2.0   2.0  1.0  1.0  1.0  1.0  1.0\n",
       "b  1.0   4.0   5.0   1.0  1.0  1.0  1.0  1.0  1.0\n",
       "c  1.0   7.0   8.0   1.0  1.0  1.0  1.0  1.0  1.0\n",
       "d  1.0  10.0  11.0   1.0  1.0  1.0  1.0  1.0  1.0\n",
       "e  1.0  13.0  14.0   1.0  1.0  1.0  1.0  1.0  1.0\n",
       "f  NaN  16.0  17.0  18.0  NaN  NaN  NaN  NaN  NaN\n",
       "g  NaN   1.0   0.0   1.0  NaN  NaN  NaN  NaN  NaN"
      ]
     },
     "execution_count": 145,
     "metadata": {},
     "output_type": "execute_result"
    }
   ],
   "source": [
    "# only fills the first two NaN's in each row with 0\n",
    "fill_3 = df3.fillna(1, limit=5)\n",
    "print(fill_3)\n",
    "fill_3\n"
   ]
  },
  {
   "cell_type": "code",
   "execution_count": null,
   "metadata": {},
   "outputs": [],
   "source": [
    "df3"
   ]
  },
  {
   "cell_type": "markdown",
   "metadata": {},
   "source": [
    "## Filling in missing data"
   ]
  },
  {
   "cell_type": "code",
   "execution_count": 413,
   "metadata": {},
   "outputs": [],
   "source": [
    "df.c4['f'] = np.nan"
   ]
  },
  {
   "cell_type": "code",
   "execution_count": 414,
   "metadata": {},
   "outputs": [
    {
     "data": {
      "text/plain": [
       "a    2.0\n",
       "b    NaN\n",
       "c    NaN\n",
       "d    NaN\n",
       "e    1.0\n",
       "f    NaN\n",
       "g    NaN\n",
       "Name: c4, dtype: float64"
      ]
     },
     "execution_count": 414,
     "metadata": {},
     "output_type": "execute_result"
    }
   ],
   "source": [
    "df.c4"
   ]
  },
  {
   "cell_type": "code",
   "execution_count": 416,
   "metadata": {},
   "outputs": [
    {
     "data": {
      "text/plain": [
       "a    2.0\n",
       "b    2.0\n",
       "c    2.0\n",
       "d    2.0\n",
       "e    1.0\n",
       "f    1.0\n",
       "g    1.0\n",
       "Name: c4, dtype: float64"
      ]
     },
     "execution_count": 416,
     "metadata": {},
     "output_type": "execute_result"
    }
   ],
   "source": [
    "# extract the c4 column and fill NaNs forward\n",
    "df.c4.fillna(method=\"ffill\")"
   ]
  },
  {
   "cell_type": "code",
   "execution_count": 417,
   "metadata": {},
   "outputs": [
    {
     "data": {
      "text/plain": [
       "a    2.0\n",
       "b    1.0\n",
       "c    1.0\n",
       "d    1.0\n",
       "e    1.0\n",
       "f    NaN\n",
       "g    NaN\n",
       "Name: c4, dtype: float64"
      ]
     },
     "execution_count": 417,
     "metadata": {},
     "output_type": "execute_result"
    }
   ],
   "source": [
    "# perform a backwards fill\n",
    "df.c4.fillna(method=\"bfill\")"
   ]
  },
  {
   "cell_type": "markdown",
   "metadata": {},
   "source": [
    "# Visualizing Data"
   ]
  },
  {
   "cell_type": "markdown",
   "metadata": {},
   "source": [
    "#### Data Frame Plot\n",
    "<a href=\"https://pandas.pydata.org/pandas-docs/stable/reference/frame.html#plotting\">Generating Various charts directly from DataFrame</a>"
   ]
  },
  {
   "cell_type": "code",
   "execution_count": 418,
   "metadata": {},
   "outputs": [
    {
     "ename": "NameError",
     "evalue": "name 'goog' is not defined",
     "output_type": "error",
     "traceback": [
      "\u001b[1;31m---------------------------------------------------------------------------\u001b[0m",
      "\u001b[1;31mNameError\u001b[0m                                 Traceback (most recent call last)",
      "\u001b[1;32m<ipython-input-418-b2c3a4576b42>\u001b[0m in \u001b[0;36m<module>\u001b[1;34m\u001b[0m\n\u001b[0;32m      1\u001b[0m \u001b[1;31m# plot the Adj Close values we just read in\u001b[0m\u001b[1;33m\u001b[0m\u001b[1;33m\u001b[0m\u001b[1;33m\u001b[0m\u001b[0m\n\u001b[1;32m----> 2\u001b[1;33m \u001b[0mgoog\u001b[0m\u001b[1;33m.\u001b[0m\u001b[0mplot\u001b[0m\u001b[1;33m(\u001b[0m\u001b[0my\u001b[0m\u001b[1;33m=\u001b[0m\u001b[1;34m'Adj Close'\u001b[0m\u001b[1;33m,\u001b[0m \u001b[0mfigsize\u001b[0m\u001b[1;33m=\u001b[0m\u001b[1;33m(\u001b[0m\u001b[1;36m12\u001b[0m\u001b[1;33m,\u001b[0m\u001b[1;36m8\u001b[0m\u001b[1;33m)\u001b[0m\u001b[1;33m)\u001b[0m\u001b[1;33m;\u001b[0m\u001b[1;33m\u001b[0m\u001b[1;33m\u001b[0m\u001b[0m\n\u001b[0m\u001b[0;32m      3\u001b[0m \u001b[0mplt\u001b[0m\u001b[1;33m.\u001b[0m\u001b[0msavefig\u001b[0m\u001b[1;33m(\u001b[0m\u001b[1;34m'5128OS_01_02.png'\u001b[0m\u001b[1;33m,\u001b[0m \u001b[0mbbox_inches\u001b[0m\u001b[1;33m=\u001b[0m\u001b[1;34m'tight'\u001b[0m\u001b[1;33m,\u001b[0m \u001b[0mdpi\u001b[0m\u001b[1;33m=\u001b[0m\u001b[1;36m300\u001b[0m\u001b[1;33m)\u001b[0m\u001b[1;33m\u001b[0m\u001b[1;33m\u001b[0m\u001b[0m\n",
      "\u001b[1;31mNameError\u001b[0m: name 'goog' is not defined"
     ]
    }
   ],
   "source": [
    "# plot the Adj Close values we just read in\n",
    "goog.plot(y='Adj Close', figsize=(12,8));\n",
    "plt.savefig('5128OS_01_02.png', bbox_inches='tight', dpi=300)"
   ]
  }
 ],
 "metadata": {
  "kernelspec": {
   "display_name": "Python 3",
   "language": "python",
   "name": "python3"
  },
  "language_info": {
   "codemirror_mode": {
    "name": "ipython",
    "version": 3
   },
   "file_extension": ".py",
   "mimetype": "text/x-python",
   "name": "python",
   "nbconvert_exporter": "python",
   "pygments_lexer": "ipython3",
   "version": "3.7.3"
  }
 },
 "nbformat": 4,
 "nbformat_minor": 1
}

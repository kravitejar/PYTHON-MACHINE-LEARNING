{
 "cells": [
  {
   "cell_type": "markdown",
   "metadata": {},
   "source": [
    "# NUMPY LIBRARY"
   ]
  },
  {
   "cell_type": "code",
   "execution_count": 1,
   "metadata": {},
   "outputs": [],
   "source": [
    "import numpy as np"
   ]
  },
  {
   "cell_type": "code",
   "execution_count": 2,
   "metadata": {},
   "outputs": [
    {
     "name": "stdout",
     "output_type": "stream",
     "text": [
      "<class 'list'>\n"
     ]
    }
   ],
   "source": [
    "l = [1,2,3,4,5]\n",
    "\n",
    "print (type(l))"
   ]
  },
  {
   "cell_type": "code",
   "execution_count": 3,
   "metadata": {},
   "outputs": [
    {
     "name": "stdout",
     "output_type": "stream",
     "text": [
      "Numpy Array:  [1 2 3 4 5]\n",
      "<class 'numpy.ndarray'>\n"
     ]
    }
   ],
   "source": [
    "arr = np.array(l)\n",
    "print ('Numpy Array: ',arr)\n",
    "print (type(arr))"
   ]
  },
  {
   "cell_type": "code",
   "execution_count": 4,
   "metadata": {},
   "outputs": [
    {
     "name": "stdout",
     "output_type": "stream",
     "text": [
      "Numpy Matrix: \n",
      " [[1 2 3]\n",
      " [4 5 6]\n",
      " [7 8 9]]\n",
      "<class 'numpy.ndarray'>\n"
     ]
    }
   ],
   "source": [
    "nest_list = [[1,2,3],[4,5,6],[7,8,9]]\n",
    "my_mat = np.array(nest_list)\n",
    "print ('Numpy Matrix: \\n',my_mat)\n",
    "print (type(my_mat))"
   ]
  },
  {
   "cell_type": "code",
   "execution_count": 5,
   "metadata": {},
   "outputs": [
    {
     "name": "stdout",
     "output_type": "stream",
     "text": [
      "[ 0  2  4  6  8 10 12 14 16 18 20 22 24 26 28 30 32 34 36 38 40 42 44 46\n",
      " 48 50 52 54 56 58 60 62 64 66 68 70 72 74 76 78 80 82 84 86 88 90 92 94\n",
      " 96 98] <class 'numpy.ndarray'>\n"
     ]
    }
   ],
   "source": [
    "numpy_arange = np.arange(0,100,2) #Works similar to range but generated ndarray\n",
    "print (numpy_arange,type(numpy_arange))"
   ]
  },
  {
   "cell_type": "code",
   "execution_count": 6,
   "metadata": {},
   "outputs": [
    {
     "name": "stdout",
     "output_type": "stream",
     "text": [
      "[0 0 0]\n"
     ]
    }
   ],
   "source": [
    "zero_arr = np.zeros(3,dtype=int) # 1 Dimension\n",
    "print (zero_arr)"
   ]
  },
  {
   "cell_type": "code",
   "execution_count": 7,
   "metadata": {},
   "outputs": [
    {
     "name": "stdout",
     "output_type": "stream",
     "text": [
      "[[0 0 0]\n",
      " [0 0 0]\n",
      " [0 0 0]]\n"
     ]
    }
   ],
   "source": [
    "zero_arr = np.zeros((3,3),dtype=int) # 2 Dimension\n",
    "print (zero_arr)"
   ]
  },
  {
   "cell_type": "code",
   "execution_count": 8,
   "metadata": {},
   "outputs": [
    {
     "name": "stdout",
     "output_type": "stream",
     "text": [
      "[1. 1. 1.]\n"
     ]
    }
   ],
   "source": [
    "one_arr = np.ones(3) # 1 Dimension\n",
    "print (one_arr)"
   ]
  },
  {
   "cell_type": "code",
   "execution_count": 9,
   "metadata": {},
   "outputs": [
    {
     "name": "stdout",
     "output_type": "stream",
     "text": [
      "[[1. 1. 1.]\n",
      " [1. 1. 1.]\n",
      " [1. 1. 1.]]\n"
     ]
    }
   ],
   "source": [
    "one_arr = np.ones((3,3)) # 1 Dimension\n",
    "print (one_arr)"
   ]
  },
  {
   "cell_type": "code",
   "execution_count": 10,
   "metadata": {},
   "outputs": [
    {
     "name": "stdout",
     "output_type": "stream",
     "text": [
      "[0.         0.55555556 1.11111111 1.66666667 2.22222222 2.77777778\n",
      " 3.33333333 3.88888889 4.44444444 5.        ]\n"
     ]
    }
   ],
   "source": [
    "lin_space = np.linspace(0,5,10)\n",
    "print (lin_space)"
   ]
  },
  {
   "cell_type": "code",
   "execution_count": 11,
   "metadata": {},
   "outputs": [
    {
     "name": "stdout",
     "output_type": "stream",
     "text": [
      "[[1 0 0]\n",
      " [0 1 0]\n",
      " [0 0 1]]\n"
     ]
    }
   ],
   "source": [
    "# Identity matrix takes only a single argument as it is always a square\n",
    "eye_mat = np.eye(3,dtype=int)\n",
    "print (eye_mat)"
   ]
  },
  {
   "cell_type": "code",
   "execution_count": 12,
   "metadata": {},
   "outputs": [
    {
     "name": "stdout",
     "output_type": "stream",
     "text": [
      "[0.08354703 0.73910248 0.61355063 0.04723844 0.32398929]\n"
     ]
    }
   ],
   "source": [
    "rand_mat = np.random.rand(5) # Generates uniformly distributed values between 0 and 1\n",
    "print (rand_mat)"
   ]
  },
  {
   "cell_type": "code",
   "execution_count": 13,
   "metadata": {},
   "outputs": [
    {
     "name": "stdout",
     "output_type": "stream",
     "text": [
      "[[0.36541093 0.67205062 0.49814505 0.16000175 0.46082527]\n",
      " [0.5267381  0.06531945 0.76556278 0.08463619 0.30605408]\n",
      " [0.43083089 0.52804415 0.30455586 0.33083074 0.43280944]\n",
      " [0.51591085 0.42860885 0.82016851 0.41938752 0.6727904 ]\n",
      " [0.04116583 0.40696062 0.36435004 0.9147297  0.04841953]]\n"
     ]
    }
   ],
   "source": [
    "rand_mat = np.random.rand(5,5)\n",
    "print (rand_mat)"
   ]
  },
  {
   "cell_type": "code",
   "execution_count": 14,
   "metadata": {},
   "outputs": [
    {
     "name": "stdout",
     "output_type": "stream",
     "text": [
      "[-4.92280857e-01  2.56416159e-01 -3.17529194e+00  1.38694630e-03\n",
      " -1.09254207e+00 -7.81291092e-01  7.04120255e-01  4.95663868e-01\n",
      "  8.94043817e-01 -2.23803235e+00]\n"
     ]
    }
   ],
   "source": [
    "randn_mat= np.random.randn(10) # Generates normally distributed values centred to 0\n",
    "print (randn_mat)"
   ]
  },
  {
   "cell_type": "code",
   "execution_count": 15,
   "metadata": {},
   "outputs": [
    {
     "name": "stdout",
     "output_type": "stream",
     "text": [
      "[[-0.74172429  0.34541342 -0.85501487 -1.28830162 -0.50363055]\n",
      " [ 1.34295037  0.22983205  1.71280604 -1.19946384 -0.40531284]\n",
      " [ 0.01638683 -0.55025092  1.44425871 -1.61219367  1.01891475]\n",
      " [-1.33615387  0.47540703 -0.3412134   0.74192711  1.09923242]\n",
      " [-0.15485767 -0.35228628 -0.13416479 -0.10862881  0.39795395]]\n"
     ]
    }
   ],
   "source": [
    "randn_mat= np.random.randn(5,5)\n",
    "print (randn_mat)"
   ]
  },
  {
   "cell_type": "code",
   "execution_count": 16,
   "metadata": {},
   "outputs": [
    {
     "name": "stdout",
     "output_type": "stream",
     "text": [
      "57\n"
     ]
    }
   ],
   "source": [
    "rand_nums = np.random.randint(0,100) # Generates 1 integer i where 0<=i<100 (Duplicates allowed)\n",
    "print (rand_nums)"
   ]
  },
  {
   "cell_type": "code",
   "execution_count": 17,
   "metadata": {},
   "outputs": [
    {
     "name": "stdout",
     "output_type": "stream",
     "text": [
      "[68 37 62 61 22 87 21 61 33 48]\n"
     ]
    }
   ],
   "source": [
    "rand_nums = np.random.randint(0,100,10) # Generates 10 integers\n",
    "print (rand_nums)"
   ]
  },
  {
   "cell_type": "code",
   "execution_count": 18,
   "metadata": {},
   "outputs": [
    {
     "name": "stdout",
     "output_type": "stream",
     "text": [
      "[ 0  2  4  6  8 10 12 14 16 18 20 22 24 26 28 30 32 34 36 38 40 42 44 46\n",
      " 48 50 52 54 56 58 60 62 64 66 68 70 72 74 76 78 80 82 84 86 88 90 92 94\n",
      " 96 98]\n"
     ]
    }
   ],
   "source": [
    "print (numpy_arange)"
   ]
  },
  {
   "cell_type": "code",
   "execution_count": 19,
   "metadata": {},
   "outputs": [
    {
     "name": "stdout",
     "output_type": "stream",
     "text": [
      "[[ 0  2  4  6  8]\n",
      " [10 12 14 16 18]\n",
      " [20 22 24 26 28]\n",
      " [30 32 34 36 38]\n",
      " [40 42 44 46 48]\n",
      " [50 52 54 56 58]\n",
      " [60 62 64 66 68]\n",
      " [70 72 74 76 78]\n",
      " [80 82 84 86 88]\n",
      " [90 92 94 96 98]]\n"
     ]
    }
   ],
   "source": [
    "arr_reshape = numpy_arange.reshape(10,5)\n",
    "print (arr_reshape)"
   ]
  },
  {
   "cell_type": "code",
   "execution_count": 20,
   "metadata": {},
   "outputs": [
    {
     "name": "stdout",
     "output_type": "stream",
     "text": [
      "Max. value in Array:  98\n",
      "Min, value in Array:  0\n",
      "Max. value Index:  49\n",
      "Min. value Index:  0\n",
      "Array shape:  (10, 5)\n",
      "Array Datatype:  int32\n"
     ]
    }
   ],
   "source": [
    "print ('Max. value in Array: ',arr_reshape.max())\n",
    "print ('Min, value in Array: ',arr_reshape.min())\n",
    "print ('Max. value Index: ',arr_reshape.argmax())\n",
    "print ('Min. value Index: ',arr_reshape.argmin())\n",
    "print ('Array shape: ',arr_reshape.shape)\n",
    "print ('Array Datatype: ',arr_reshape.dtype)"
   ]
  },
  {
   "cell_type": "code",
   "execution_count": 21,
   "metadata": {},
   "outputs": [
    {
     "name": "stdout",
     "output_type": "stream",
     "text": [
      "[ 0  2  4  6  8 10 12 14 16 18 20 22 24 26 28 30 32 34 36 38 40 42 44 46\n",
      " 48 50 52 54 56 58 60 62 64 66 68 70 72 74 76 78 80 82 84 86 88 90 92 94\n",
      " 96 98]\n",
      "Accessing Arrays:\n",
      "0th Index:  0\n"
     ]
    }
   ],
   "source": [
    "print (numpy_arange)\n",
    "print ('Accessing Arrays:')\n",
    "print ('0th Index: ',numpy_arange[0])"
   ]
  },
  {
   "cell_type": "code",
   "execution_count": 22,
   "metadata": {},
   "outputs": [
    {
     "name": "stdout",
     "output_type": "stream",
     "text": [
      "---------------- Slicing & Indexing on one Dimensional Arrays --------------------\n",
      "1st Index to 4th Index:  [2 4 6 8]\n",
      "0th Index to 4th Index:  [0 2 4 6 8]\n",
      "0th Index to nth Index:  [ 0  2  4  6  8 10 12 14 16 18 20 22 24 26 28 30 32 34 36 38 40 42 44 46\n",
      " 48 50 52 54 56 58 60 62 64 66 68 70 72 74 76 78 80 82 84 86 88 90 92 94\n",
      " 96 98]\n"
     ]
    }
   ],
   "source": [
    "print ('---------------- Slicing & Indexing on one Dimensional Arrays --------------------')\n",
    "print ('1st Index to 4th Index: ',numpy_arange[1:5])\n",
    "print ('0th Index to 4th Index: ',numpy_arange[:5])\n",
    "print ('0th Index to nth Index: ',numpy_arange[:])"
   ]
  },
  {
   "cell_type": "code",
   "execution_count": 23,
   "metadata": {},
   "outputs": [
    {
     "name": "stdout",
     "output_type": "stream",
     "text": [
      "[0 2 4 6 8] <class 'numpy.ndarray'>\n"
     ]
    }
   ],
   "source": [
    "arr_slice = numpy_arange[:5]\n",
    "print (arr_slice, type(arr_slice))"
   ]
  },
  {
   "cell_type": "code",
   "execution_count": 24,
   "metadata": {},
   "outputs": [
    {
     "name": "stdout",
     "output_type": "stream",
     "text": [
      "Updation:\n",
      "[100 100 100 100 100  10  12  14  16  18  20  22  24  26  28  30  32  34\n",
      "  36  38  40  42  44  46  48  50  52  54  56  58  60  62  64  66  68  70\n",
      "  72  74  76  78  80  82  84  86  88  90  92  94  96  98]\n",
      "[100 100 100 100 100]\n"
     ]
    }
   ],
   "source": [
    "print ('Updation:')\n",
    "numpy_arange[0:5] = 100\n",
    "print (numpy_arange)\n",
    "print (arr_slice)"
   ]
  },
  {
   "cell_type": "code",
   "execution_count": 25,
   "metadata": {},
   "outputs": [
    {
     "name": "stdout",
     "output_type": "stream",
     "text": [
      "[ 0  2  4  6  8 10 12 14 16 18 20 22 24 26 28 30 32 34 36 38 40 42 44 46\n",
      " 48 50 52 54 56 58 60 62 64 66 68 70 72 74 76 78 80 82 84 86 88 90 92 94\n",
      " 96 98]\n"
     ]
    }
   ],
   "source": [
    "numpy_arange[0:5] = [0,2,4,6,8]\n",
    "print (numpy_arange)"
   ]
  },
  {
   "cell_type": "code",
   "execution_count": 26,
   "metadata": {},
   "outputs": [
    {
     "name": "stdout",
     "output_type": "stream",
     "text": [
      "[0 2 4 6 8]\n",
      "[0 2 4 6 8]\n"
     ]
    }
   ],
   "source": [
    "arr_copy = arr_slice.copy()\n",
    "print (arr_copy)\n",
    "print (arr_slice)"
   ]
  },
  {
   "cell_type": "code",
   "execution_count": 27,
   "metadata": {},
   "outputs": [
    {
     "name": "stdout",
     "output_type": "stream",
     "text": [
      "[999 999 999 999 999]\n",
      "[0 2 4 6 8]\n"
     ]
    }
   ],
   "source": [
    "arr_copy[:]=999\n",
    "print (arr_copy)\n",
    "print (arr_slice)"
   ]
  },
  {
   "cell_type": "code",
   "execution_count": 28,
   "metadata": {},
   "outputs": [
    {
     "name": "stdout",
     "output_type": "stream",
     "text": [
      "---------------- Slicing & Indexing on two Dimensional Arrays --------------------\n",
      "[[1 2 3]\n",
      " [4 5 6]\n",
      " [7 8 9]]\n",
      "Print 2nd row:  [4 5 6]\n",
      "Print 2nd row 2nd Element:  5\n",
      "Print 2nd row 2nd Element:  5\n"
     ]
    }
   ],
   "source": [
    "print ('---------------- Slicing & Indexing on two Dimensional Arrays --------------------')\n",
    "print (my_mat)\n",
    "print ('Print 2nd row: ',my_mat[1]) # Print 2nd row (Index starts from 0)\n",
    "print ('Print 2nd row 2nd Element: ',my_mat[1][1]) # Print 2nd row 2nd Element\n",
    "print ('Print 2nd row 2nd Element: ',my_mat[1,1]) # Print 2nd row 2nd Element"
   ]
  },
  {
   "cell_type": "code",
   "execution_count": 29,
   "metadata": {},
   "outputs": [
    {
     "name": "stdout",
     "output_type": "stream",
     "text": [
      "Print 0th & 1st Row, 0th & 1st Column: \n",
      " [[1 2]\n",
      " [4 5]]\n"
     ]
    }
   ],
   "source": [
    "print ('Print 0th & 1st Row, 0th & 1st Column: \\n',my_mat[:2,:2])"
   ]
  },
  {
   "cell_type": "code",
   "execution_count": 30,
   "metadata": {},
   "outputs": [
    {
     "name": "stdout",
     "output_type": "stream",
     "text": [
      "Condition checks on Arrays: \n",
      "Value > 5 in Array:\n",
      " [[False False False]\n",
      " [False False  True]\n",
      " [ True  True  True]]\n",
      "[[False False False]\n",
      " [False False  True]\n",
      " [ True  True  True]]\n",
      "Using Boolean Array to print Values:\n",
      " [6 7 8 9]\n",
      "Using Boolean Array to print Values:\n",
      " [6 7 8 9]\n"
     ]
    }
   ],
   "source": [
    "print ('Condition checks on Arrays: ')\n",
    "print ('Value > 5 in Array:\\n',my_mat > 5)\n",
    "\n",
    "bool_arr = my_mat > 5\n",
    "print (bool_arr)\n",
    "\n",
    "print ('Using Boolean Array to print Values:\\n',my_mat[bool_arr])\n",
    "print ('Using Boolean Array to print Values:\\n',my_mat[my_mat>5]) #In a single step"
   ]
  },
  {
   "cell_type": "code",
   "execution_count": 31,
   "metadata": {},
   "outputs": [
    {
     "name": "stdout",
     "output_type": "stream",
     "text": [
      "---------------- Operations on Arrays --------------------\n",
      "Adding two Arrays:\n",
      " [[ 2  4  6]\n",
      " [ 8 10 12]\n",
      " [14 16 18]]\n",
      "Subtraction of two Arrays:\n",
      " [[0 0 0]\n",
      " [0 0 0]\n",
      " [0 0 0]]\n",
      "Multiplication of two Arrays:\n",
      " [[ 1  4  9]\n",
      " [16 25 36]\n",
      " [49 64 81]]\n",
      "Division of two Arrays:\n",
      " [[1. 1. 1.]\n",
      " [1. 1. 1.]\n",
      " [1. 1. 1.]]\n",
      "Power of two Arrays:\n",
      " [[        1         4        27]\n",
      " [      256      3125     46656]\n",
      " [   823543  16777216 387420489]]\n"
     ]
    }
   ],
   "source": [
    "print ('---------------- Operations on Arrays --------------------')\n",
    "print ('Adding two Arrays:\\n',my_mat+my_mat)\n",
    "print ('Subtraction of two Arrays:\\n',my_mat-my_mat)\n",
    "print ('Multiplication of two Arrays:\\n',my_mat*my_mat)\n",
    "print ('Division of two Arrays:\\n',my_mat/my_mat)\n",
    "print ('Power of two Arrays:\\n',my_mat**my_mat)"
   ]
  },
  {
   "cell_type": "code",
   "execution_count": 32,
   "metadata": {},
   "outputs": [
    {
     "name": "stdout",
     "output_type": "stream",
     "text": [
      "Scalar Addition:\n",
      " [[101 102 103]\n",
      " [104 105 106]\n",
      " [107 108 109]]\n",
      "Scalar Subtraction:\n",
      " [[-99 -98 -97]\n",
      " [-96 -95 -94]\n",
      " [-93 -92 -91]]\n",
      "Scalar Multiplication:\n",
      " [[100 200 300]\n",
      " [400 500 600]\n",
      " [700 800 900]]\n",
      "Scalar Division:\n",
      " [[0.01 0.02 0.03]\n",
      " [0.04 0.05 0.06]\n",
      " [0.07 0.08 0.09]]\n",
      "Scalar Power:\n",
      " [[  1   8  27]\n",
      " [ 64 125 216]\n",
      " [343 512 729]]\n"
     ]
    }
   ],
   "source": [
    "print ('Scalar Addition:\\n',my_mat+100)\n",
    "print ('Scalar Subtraction:\\n',my_mat-100)\n",
    "print ('Scalar Multiplication:\\n',my_mat*100)\n",
    "print ('Scalar Division:\\n',my_mat/100)\n",
    "print ('Scalar Power:\\n',my_mat**3)"
   ]
  },
  {
   "cell_type": "code",
   "execution_count": 33,
   "metadata": {},
   "outputs": [
    {
     "name": "stdout",
     "output_type": "stream",
     "text": [
      "---------------- Universal functions on Arrays --------------------\n",
      "Root on Array:\n",
      " [[1.         1.41421356 1.73205081]\n",
      " [2.         2.23606798 2.44948974]\n",
      " [2.64575131 2.82842712 3.        ]]\n",
      "Exponent on Array:\n",
      " [[2.71828183e+00 7.38905610e+00 2.00855369e+01]\n",
      " [5.45981500e+01 1.48413159e+02 4.03428793e+02]\n",
      " [1.09663316e+03 2.98095799e+03 8.10308393e+03]]\n",
      "Max of an Array:\n",
      " 9\n",
      "Min of an Array:\n",
      " 1\n",
      "Sin of an Array:\n",
      " [[ 0.84147098  0.90929743  0.14112001]\n",
      " [-0.7568025  -0.95892427 -0.2794155 ]\n",
      " [ 0.6569866   0.98935825  0.41211849]]\n",
      "Cos of an Array:\n",
      " [[ 0.54030231 -0.41614684 -0.9899925 ]\n",
      " [-0.65364362  0.28366219  0.96017029]\n",
      " [ 0.75390225 -0.14550003 -0.91113026]]\n",
      "Log of an Array:\n",
      " [[0.         0.69314718 1.09861229]\n",
      " [1.38629436 1.60943791 1.79175947]\n",
      " [1.94591015 2.07944154 2.19722458]]\n"
     ]
    }
   ],
   "source": [
    "print ('---------------- Universal functions on Arrays --------------------')\n",
    "\n",
    "print( 'Root on Array:\\n', np.sqrt(my_mat))\n",
    "print ('Exponent on Array:\\n', np.exp(my_mat))\n",
    "print ('Max of an Array:\\n',np.max(my_mat))\n",
    "print ('Min of an Array:\\n',np.min(my_mat))\n",
    "print ('Sin of an Array:\\n',np.sin(my_mat))\n",
    "print ('Cos of an Array:\\n',np.cos(my_mat))\n",
    "print ('Log of an Array:\\n',np.log(my_mat))"
   ]
  },
  {
   "cell_type": "markdown",
   "metadata": {},
   "source": [
    "# PANDAS LIBRARY"
   ]
  },
  {
   "cell_type": "code",
   "execution_count": 34,
   "metadata": {},
   "outputs": [],
   "source": [
    "import numpy as np\n",
    "import pandas as pd"
   ]
  },
  {
   "cell_type": "code",
   "execution_count": 35,
   "metadata": {},
   "outputs": [],
   "source": [
    "my_data = [10,20,30]\n",
    "label = ['a','b','c']\n",
    "d = {'a':10,'b':20,'c':30}\n",
    "arr = np.array(my_data)"
   ]
  },
  {
   "cell_type": "code",
   "execution_count": 36,
   "metadata": {},
   "outputs": [
    {
     "name": "stdout",
     "output_type": "stream",
     "text": [
      "Series: \n",
      " 0    10\n",
      "1    20\n",
      "2    30\n",
      "dtype: int64\n",
      "<class 'pandas.core.series.Series'>\n"
     ]
    }
   ],
   "source": [
    "ser = pd.Series(my_data)\n",
    "print ('Series: \\n',ser)\n",
    "print (type(ser))"
   ]
  },
  {
   "cell_type": "code",
   "execution_count": 37,
   "metadata": {},
   "outputs": [
    {
     "name": "stdout",
     "output_type": "stream",
     "text": [
      "Series with Label: \n",
      " a    10\n",
      "b    20\n",
      "c    30\n",
      "dtype: int64\n",
      "Series using Array: \n",
      " 0    10\n",
      "1    20\n",
      "2    30\n",
      "dtype: int32\n",
      "Series using Dict: \n",
      " a    10\n",
      "b    20\n",
      "c    30\n",
      "dtype: int64\n",
      "Series with String: \n",
      " 0    a\n",
      "1    b\n",
      "2    c\n",
      "dtype: object\n"
     ]
    }
   ],
   "source": [
    "ser = pd.Series(my_data,index = label)\n",
    "print ('Series with Label: \\n',ser)\n",
    "ser = pd.Series(arr)\n",
    "print ('Series using Array: \\n',ser)\n",
    "ser = pd.Series(d)\n",
    "print ('Series using Dict: \\n',ser)\n",
    "ser = pd.Series(label)\n",
    "print ('Series with String: \\n',ser)"
   ]
  },
  {
   "cell_type": "code",
   "execution_count": 38,
   "metadata": {},
   "outputs": [
    {
     "name": "stdout",
     "output_type": "stream",
     "text": [
      "USA      1\n",
      "China    2\n",
      "India    3\n",
      "Japan    4\n",
      "dtype: int64\n",
      "USA      1\n",
      "China    2\n",
      "Korea    5\n",
      "Japan    4\n",
      "dtype: int64\n"
     ]
    }
   ],
   "source": [
    "ser1 = pd.Series([1,2,3,4],['USA','China','India','Japan'])\n",
    "print (ser1)\n",
    "ser2 = pd.Series([1,2,5,4],['USA','China','Korea','Japan'])\n",
    "print (ser2)"
   ]
  },
  {
   "cell_type": "code",
   "execution_count": 39,
   "metadata": {},
   "outputs": [
    {
     "name": "stdout",
     "output_type": "stream",
     "text": [
      "---------------- Indexing in Series --------------------\n",
      "Fetched based on Index:  3\n",
      "Fetched based on dot:  3\n"
     ]
    }
   ],
   "source": [
    "print ('---------------- Indexing in Series --------------------')\n",
    "\n",
    "print ('Fetched based on Index: ',ser1['India']) # Similar to Dictionary\n",
    "print ('Fetched based on dot: ',ser1.India)"
   ]
  },
  {
   "cell_type": "code",
   "execution_count": 40,
   "metadata": {},
   "outputs": [
    {
     "name": "stdout",
     "output_type": "stream",
     "text": [
      "---------------- Operations on Series --------------------\n",
      "Series Addition:\n",
      " China    4.0\n",
      "India    NaN\n",
      "Japan    8.0\n",
      "Korea    NaN\n",
      "USA      2.0\n",
      "dtype: float64\n",
      "Series Subtraction:\n",
      " China    0.0\n",
      "India    NaN\n",
      "Japan    0.0\n",
      "Korea    NaN\n",
      "USA      0.0\n",
      "dtype: float64\n",
      "Series Multiplication:\n",
      " China     4.0\n",
      "India     NaN\n",
      "Japan    16.0\n",
      "Korea     NaN\n",
      "USA       1.0\n",
      "dtype: float64\n",
      "Series Division:\n",
      " China    1.0\n",
      "India    NaN\n",
      "Japan    1.0\n",
      "Korea    NaN\n",
      "USA      1.0\n",
      "dtype: float64\n"
     ]
    }
   ],
   "source": [
    "print ('---------------- Operations on Series --------------------')\n",
    "\n",
    "print ('Series Addition:\\n',ser1+ser2)\n",
    "print ('Series Subtraction:\\n',ser1-ser2)\n",
    "print ('Series Multiplication:\\n',ser1*ser2)\n",
    "print ('Series Division:\\n',ser1/ser2)"
   ]
  },
  {
   "cell_type": "code",
   "execution_count": 41,
   "metadata": {},
   "outputs": [
    {
     "name": "stdout",
     "output_type": "stream",
     "text": [
      "---------------- Pandas DataFrame --------------------\n",
      "<class 'pandas.core.frame.DataFrame'>\n",
      "Dataframe: \n",
      "           W         X         Y         Z\n",
      "A  2.706850  0.628133  0.907969  0.503826\n",
      "B  0.651118 -0.319318 -0.848077  0.605965\n",
      "C -2.018168  0.740122  0.528813 -0.589001\n",
      "D  0.188695 -0.758872 -0.933237  0.955057\n",
      "E  0.190794  1.978757  2.605967  0.683509\n"
     ]
    }
   ],
   "source": [
    "print ('---------------- Pandas DataFrame --------------------')\n",
    "\n",
    "np.random.seed(101)\n",
    "df = pd.DataFrame(np.random.randn(5,4),['A','B','C','D','E'],['W','X','Y','Z'])\n",
    "print (type(df))\n",
    "print ('Dataframe: \\n',df)"
   ]
  },
  {
   "cell_type": "code",
   "execution_count": 42,
   "metadata": {},
   "outputs": [
    {
     "name": "stdout",
     "output_type": "stream",
     "text": [
      "---------------- Pandas DataFrame - Dealing with columns --------------------\n",
      "Fetching a column from df using column-name:\n",
      " A    2.706850\n",
      "B    0.651118\n",
      "C   -2.018168\n",
      "D    0.188695\n",
      "E    0.190794\n",
      "Name: W, dtype: float64\n",
      "Fetching a column from df using dot:\n",
      " A    2.706850\n",
      "B    0.651118\n",
      "C   -2.018168\n",
      "D    0.188695\n",
      "E    0.190794\n",
      "Name: W, dtype: float64\n",
      "<class 'pandas.core.series.Series'>\n"
     ]
    }
   ],
   "source": [
    "print ('---------------- Pandas DataFrame - Dealing with columns --------------------')\n",
    "\n",
    "print ('Fetching a column from df using column-name:\\n',df['W'])\n",
    "print ('Fetching a column from df using dot:\\n',df.W)\n",
    "print (type(df['W']))"
   ]
  },
  {
   "cell_type": "code",
   "execution_count": 43,
   "metadata": {},
   "outputs": [
    {
     "name": "stdout",
     "output_type": "stream",
     "text": [
      "Fetching multiple columns from df:\n",
      "           W         Z\n",
      "A  2.706850  0.503826\n",
      "B  0.651118  0.605965\n",
      "C -2.018168 -0.589001\n",
      "D  0.188695  0.955057\n",
      "E  0.190794  0.683509\n",
      "<class 'pandas.core.frame.DataFrame'>\n"
     ]
    }
   ],
   "source": [
    "print ('Fetching multiple columns from df:\\n',df[['W','Z']])\n",
    "print (type(df[['W','Z']]))"
   ]
  },
  {
   "cell_type": "code",
   "execution_count": 44,
   "metadata": {},
   "outputs": [
    {
     "name": "stdout",
     "output_type": "stream",
     "text": [
      "Adding new columns to df:\n",
      "df with added column: \n",
      "           W         X         Y         Z       new\n",
      "A  2.706850  0.628133  0.907969  0.503826  3.614819\n",
      "B  0.651118 -0.319318 -0.848077  0.605965 -0.196959\n",
      "C -2.018168  0.740122  0.528813 -0.589001 -1.489355\n",
      "D  0.188695 -0.758872 -0.933237  0.955057 -0.744542\n",
      "E  0.190794  1.978757  2.605967  0.683509  2.796762\n"
     ]
    }
   ],
   "source": [
    "print ('Adding new columns to df:')\n",
    "df['new'] = df['W']+df['Y']\n",
    "print ('df with added column: \\n',df)"
   ]
  },
  {
   "cell_type": "code",
   "execution_count": 45,
   "metadata": {},
   "outputs": [
    {
     "name": "stdout",
     "output_type": "stream",
     "text": [
      "Dropping columns from df:\n",
      "          W         X         Y         Z\n",
      "A  2.706850  0.628133  0.907969  0.503826\n",
      "B  0.651118 -0.319318 -0.848077  0.605965\n",
      "C -2.018168  0.740122  0.528813 -0.589001\n",
      "D  0.188695 -0.758872 -0.933237  0.955057\n",
      "E  0.190794  1.978757  2.605967  0.683509\n",
      "df after dropping column: \n",
      "           W         X         Y         Z\n",
      "A  2.706850  0.628133  0.907969  0.503826\n",
      "B  0.651118 -0.319318 -0.848077  0.605965\n",
      "C -2.018168  0.740122  0.528813 -0.589001\n",
      "D  0.188695 -0.758872 -0.933237  0.955057\n",
      "E  0.190794  1.978757  2.605967  0.683509\n"
     ]
    }
   ],
   "source": [
    "print ('Dropping columns from df:')\n",
    "print (df.drop('new',axis=1)) # This returns a df after dropping the column\n",
    "df.drop('new',axis=1,inplace=True) # inplace used to change the original df\n",
    "print ('df after dropping column: \\n',df)"
   ]
  },
  {
   "cell_type": "code",
   "execution_count": 46,
   "metadata": {},
   "outputs": [
    {
     "name": "stdout",
     "output_type": "stream",
     "text": [
      "Dropping rows from df:\n",
      "          W         X         Y         Z\n",
      "A  2.706850  0.628133  0.907969  0.503826\n",
      "B  0.651118 -0.319318 -0.848077  0.605965\n",
      "C -2.018168  0.740122  0.528813 -0.589001\n",
      "D  0.188695 -0.758872 -0.933237  0.955057\n"
     ]
    }
   ],
   "source": [
    "print ('Dropping rows from df:')\n",
    "print (df.drop('E')) # Default axis 0"
   ]
  },
  {
   "cell_type": "code",
   "execution_count": 47,
   "metadata": {},
   "outputs": [
    {
     "name": "stdout",
     "output_type": "stream",
     "text": [
      "Shape of df:  (5, 4)\n"
     ]
    }
   ],
   "source": [
    "print ('Shape of df: ',df.shape)"
   ]
  },
  {
   "cell_type": "code",
   "execution_count": 48,
   "metadata": {},
   "outputs": [
    {
     "name": "stdout",
     "output_type": "stream",
     "text": [
      "---------------- Pandas DataFrame - Dealing with rows --------------------\n",
      "Fetching a row from df using loc:\n",
      " W    2.706850\n",
      "X    0.628133\n",
      "Y    0.907969\n",
      "Z    0.503826\n",
      "Name: A, dtype: float64\n",
      "<class 'pandas.core.series.Series'>\n"
     ]
    }
   ],
   "source": [
    "print ('---------------- Pandas DataFrame - Dealing with rows --------------------')\n",
    "\n",
    "print ('Fetching a row from df using loc:\\n',df.loc['A'])\n",
    "print (type(df.loc['A']))"
   ]
  },
  {
   "cell_type": "code",
   "execution_count": 49,
   "metadata": {},
   "outputs": [
    {
     "name": "stdout",
     "output_type": "stream",
     "text": [
      "Fetching a row from df using iloc:\n",
      " W    2.706850\n",
      "X    0.628133\n",
      "Y    0.907969\n",
      "Z    0.503826\n",
      "Name: A, dtype: float64\n",
      "<class 'pandas.core.series.Series'>\n"
     ]
    }
   ],
   "source": [
    "print ('Fetching a row from df using iloc:\\n',df.iloc[0])\n",
    "print (type(df.iloc[0]))"
   ]
  },
  {
   "cell_type": "code",
   "execution_count": 50,
   "metadata": {},
   "outputs": [
    {
     "name": "stdout",
     "output_type": "stream",
     "text": [
      "Fetching an element from df using loc:  0.9079694464765431\n",
      "Fetching subset of data from df using loc: \n",
      "           W         Y\n",
      "A  2.706850  0.907969\n",
      "B  0.651118 -0.848077\n"
     ]
    }
   ],
   "source": [
    "print ('Fetching an element from df using loc: ',df.loc['A','Y'])\n",
    "print ('Fetching subset of data from df using loc: \\n',df.loc[['A','B'],['W','Y']])"
   ]
  },
  {
   "cell_type": "code",
   "execution_count": 51,
   "metadata": {},
   "outputs": [
    {
     "name": "stdout",
     "output_type": "stream",
     "text": [
      "Fetching an element from df using iloc:  0.5038257538223936\n",
      "Fetching subset of data from df using iloc: \n",
      "           W         Z\n",
      "A  2.706850  0.503826\n",
      "B  0.651118  0.605965\n"
     ]
    }
   ],
   "source": [
    "print ('Fetching an element from df using iloc: ',df.iloc[0,3])\n",
    "print ('Fetching subset of data from df using iloc: \\n',df.iloc[:2,[0,3]])"
   ]
  },
  {
   "cell_type": "code",
   "execution_count": 52,
   "metadata": {},
   "outputs": [
    {
     "name": "stdout",
     "output_type": "stream",
     "text": [
      "Condition checks on WHOLE df: \n",
      "Value > 5 in df:\n",
      "        W      X      Y      Z\n",
      "A   True   True   True   True\n",
      "B   True  False  False   True\n",
      "C  False   True   True  False\n",
      "D   True  False  False   True\n",
      "E   True   True   True   True\n"
     ]
    }
   ],
   "source": [
    "print ('Condition checks on WHOLE df: ')\n",
    "print ('Value > 5 in df:\\n',df > 0)"
   ]
  },
  {
   "cell_type": "code",
   "execution_count": 53,
   "metadata": {},
   "outputs": [
    {
     "name": "stdout",
     "output_type": "stream",
     "text": [
      "Passing Boolean df:\n",
      "           W         X         Y         Z\n",
      "A  2.706850  0.628133  0.907969  0.503826\n",
      "B  0.651118       NaN       NaN  0.605965\n",
      "C       NaN  0.740122  0.528813       NaN\n",
      "D  0.188695       NaN       NaN  0.955057\n",
      "E  0.190794  1.978757  2.605967  0.683509\n",
      "Checking Boolean df:\n",
      "           W         X         Y         Z\n",
      "A  2.706850  0.628133  0.907969  0.503826\n",
      "B  0.651118       NaN       NaN  0.605965\n",
      "C       NaN  0.740122  0.528813       NaN\n",
      "D  0.188695       NaN       NaN  0.955057\n",
      "E  0.190794  1.978757  2.605967  0.683509\n"
     ]
    }
   ],
   "source": [
    "booldf = df > 0\n",
    "print ('Passing Boolean df:\\n',df[booldf])\n",
    "print ('Checking Boolean df:\\n',df[df>0])"
   ]
  },
  {
   "cell_type": "code",
   "execution_count": 54,
   "metadata": {},
   "outputs": [
    {
     "name": "stdout",
     "output_type": "stream",
     "text": [
      "Condition check on df column:\n",
      " A     True\n",
      "B     True\n",
      "C    False\n",
      "D     True\n",
      "E     True\n",
      "Name: W, dtype: bool\n",
      "Checking boolean on column and apply on df:\n",
      "           W         X         Y         Z\n",
      "A  2.706850  0.628133  0.907969  0.503826\n",
      "B  0.651118 -0.319318 -0.848077  0.605965\n",
      "D  0.188695 -0.758872 -0.933237  0.955057\n",
      "E  0.190794  1.978757  2.605967  0.683509\n"
     ]
    }
   ],
   "source": [
    "print ('Condition check on df column:\\n',df['W']>0)\n",
    "print ('Checking boolean on column and apply on df:\\n',df[df['W']>0])"
   ]
  },
  {
   "cell_type": "code",
   "execution_count": 55,
   "metadata": {},
   "outputs": [
    {
     "name": "stdout",
     "output_type": "stream",
     "text": [
      "Fetch rows where W > 0 and display Y & X columns\n",
      "\n",
      "          Y         X\n",
      "A  0.907969  0.628133\n",
      "B -0.848077 -0.319318\n",
      "D -0.933237 -0.758872\n",
      "E  2.605967  1.978757\n"
     ]
    }
   ],
   "source": [
    "print ('Fetch rows where W > 0 and display Y & X columns\\n')\n",
    "print (df[df['W']>0][['Y','X']])"
   ]
  },
  {
   "cell_type": "code",
   "execution_count": 56,
   "metadata": {},
   "outputs": [
    {
     "name": "stdout",
     "output_type": "stream",
     "text": [
      "Fetch values where W > 0 & Y > 0:\n",
      "\n",
      "          W         X         Y         Z\n",
      "E  0.190794  1.978757  2.605967  0.683509\n"
     ]
    }
   ],
   "source": [
    "print ('Fetch values where W > 0 & Y > 0:\\n')\n",
    "print (df[(df['W']>0) & (df['Y']>1)]) #Must use & and shouldn't use AND"
   ]
  },
  {
   "cell_type": "code",
   "execution_count": 57,
   "metadata": {},
   "outputs": [
    {
     "name": "stdout",
     "output_type": "stream",
     "text": [
      "Fetch values where W > 0 or Y > 0:\n",
      "\n",
      "          W         X         Y         Z\n",
      "A  2.706850  0.628133  0.907969  0.503826\n",
      "B  0.651118 -0.319318 -0.848077  0.605965\n",
      "D  0.188695 -0.758872 -0.933237  0.955057\n",
      "E  0.190794  1.978757  2.605967  0.683509\n"
     ]
    }
   ],
   "source": [
    "print ('Fetch values where W > 0 or Y > 0:\\n')\n",
    "print (df[(df['W']>0) | (df['Y']>1)]) #Must use & and shouldn't use AND"
   ]
  },
  {
   "cell_type": "code",
   "execution_count": 58,
   "metadata": {},
   "outputs": [
    {
     "name": "stdout",
     "output_type": "stream",
     "text": [
      "Resetting Index of df:\n",
      "\n",
      "          W         X         Y         Z\n",
      "0  2.706850  0.628133  0.907969  0.503826\n",
      "1  0.651118 -0.319318 -0.848077  0.605965\n",
      "2 -2.018168  0.740122  0.528813 -0.589001\n",
      "3  0.188695 -0.758872 -0.933237  0.955057\n",
      "4  0.190794  1.978757  2.605967  0.683509\n"
     ]
    }
   ],
   "source": [
    "print ('Resetting Index of df:\\n')\n",
    "print (df.reset_index().drop('index',axis=1))"
   ]
  },
  {
   "cell_type": "code",
   "execution_count": 59,
   "metadata": {},
   "outputs": [
    {
     "name": "stdout",
     "output_type": "stream",
     "text": [
      "Setting a new index:\n",
      "\n",
      "                  W         X         Y         Z\n",
      "new_index                                        \n",
      "AA         2.706850  0.628133  0.907969  0.503826\n",
      "BB         0.651118 -0.319318 -0.848077  0.605965\n",
      "CC        -2.018168  0.740122  0.528813 -0.589001\n",
      "DD         0.188695 -0.758872 -0.933237  0.955057\n",
      "EE         0.190794  1.978757  2.605967  0.683509\n"
     ]
    }
   ],
   "source": [
    "print ('Setting a new index:\\n')\n",
    "df['new_index']=['AA','BB','CC','DD','EE']\n",
    "print (df.set_index('new_index'))"
   ]
  },
  {
   "cell_type": "code",
   "execution_count": 60,
   "metadata": {},
   "outputs": [
    {
     "name": "stdout",
     "output_type": "stream",
     "text": [
      "---------------- Pandas DataFrame - MultiIndex --------------------\n"
     ]
    }
   ],
   "source": [
    "print ('---------------- Pandas DataFrame - MultiIndex --------------------')\n",
    "\n",
    "out_ind = ['G1','G1','G1','G2','G2','G2']\n",
    "in_ind = [1,2,3,1,2,3]"
   ]
  },
  {
   "cell_type": "code",
   "execution_count": 61,
   "metadata": {},
   "outputs": [
    {
     "name": "stdout",
     "output_type": "stream",
     "text": [
      "Multi-Index:\n",
      " MultiIndex(levels=[['G1', 'G2'], [1, 2, 3]],\n",
      "           codes=[[0, 0, 0, 1, 1, 1], [0, 1, 2, 0, 1, 2]])\n"
     ]
    }
   ],
   "source": [
    "mul_ind = zip(out_ind,in_ind)\n",
    "mul_ind = pd.MultiIndex.from_tuples(mul_ind)\n",
    "print ('Multi-Index:\\n',mul_ind)"
   ]
  },
  {
   "cell_type": "code",
   "execution_count": 62,
   "metadata": {},
   "outputs": [
    {
     "name": "stdout",
     "output_type": "stream",
     "text": [
      "Dataframe with Multi-Index:\n",
      "              A         B\n",
      "G1 1  0.302665  1.693723\n",
      "   2 -1.706086 -1.159119\n",
      "   3 -0.134841  0.390528\n",
      "G2 1  0.166905  0.184502\n",
      "   2  0.807706  0.072960\n",
      "   3  0.638787  0.329646\n"
     ]
    }
   ],
   "source": [
    "df = pd.DataFrame(np.random.randn(6,2),mul_ind,['A','B'])\n",
    "print ('Dataframe with Multi-Index:\\n',df)"
   ]
  },
  {
   "cell_type": "code",
   "execution_count": 63,
   "metadata": {},
   "outputs": [
    {
     "name": "stdout",
     "output_type": "stream",
     "text": [
      "Accessing df with Multi-Level Index:\n",
      "Calling Outside Index:\n",
      "           A         B\n",
      "1  0.302665  1.693723\n",
      "2 -1.706086 -1.159119\n",
      "3 -0.134841  0.390528\n",
      "Calling Inside Index:\n",
      " A    0.302665\n",
      "B    1.693723\n",
      "Name: 1, dtype: float64\n"
     ]
    }
   ],
   "source": [
    "print (\"Accessing df with Multi-Level Index:\")\n",
    "print ('Calling Outside Index:\\n',df.loc['G1'])\n",
    "print ('Calling Inside Index:\\n',df.loc['G1'].loc[1])"
   ]
  },
  {
   "cell_type": "code",
   "execution_count": 64,
   "metadata": {},
   "outputs": [
    {
     "name": "stdout",
     "output_type": "stream",
     "text": [
      "Setting Index Names:\n",
      "                        A         B\n",
      "Group Sub-Group                    \n",
      "G1    1          0.302665  1.693723\n",
      "      2         -1.706086 -1.159119\n",
      "      3         -0.134841  0.390528\n",
      "G2    1          0.166905  0.184502\n",
      "      2          0.807706  0.072960\n",
      "      3          0.638787  0.329646\n"
     ]
    }
   ],
   "source": [
    "print ('Setting Index Names:')\n",
    "df.index.names = ['Group','Sub-Group']\n",
    "print (df)"
   ]
  },
  {
   "cell_type": "code",
   "execution_count": 65,
   "metadata": {},
   "outputs": [
    {
     "name": "stdout",
     "output_type": "stream",
     "text": [
      "Fetching an element from multi-index df:\n",
      "Fetching G1-1-B: 1.693722925204035\n"
     ]
    }
   ],
   "source": [
    "print ('Fetching an element from multi-index df:')\n",
    "print ('Fetching G1-1-B:',df.loc['G1'].loc[1]['B'])"
   ]
  },
  {
   "cell_type": "code",
   "execution_count": 66,
   "metadata": {},
   "outputs": [
    {
     "name": "stdout",
     "output_type": "stream",
     "text": [
      "Fetching Cross Sectional Values:\n",
      "                   A         B\n",
      "Sub-Group                    \n",
      "1          0.302665  1.693723\n",
      "2         -1.706086 -1.159119\n",
      "3         -0.134841  0.390528\n"
     ]
    }
   ],
   "source": [
    "print ('Fetching Cross Sectional Values:\\n',df.xs(['G1'],level='Group'))"
   ]
  },
  {
   "cell_type": "code",
   "execution_count": 67,
   "metadata": {},
   "outputs": [
    {
     "name": "stdout",
     "output_type": "stream",
     "text": [
      "---------------- Handling missing values --------------------\n",
      "Dataframe from Dic with missing values:\n",
      "      A    B  C\n",
      "0  1.0  5.0  1\n",
      "1  2.0  NaN  2\n",
      "2  NaN  NaN  3\n"
     ]
    }
   ],
   "source": [
    "print ('---------------- Handling missing values --------------------')\n",
    "\n",
    "d = {'A':[1,2,np.nan],'B':[5,np.nan,np.nan],'C':[1,2,3]}\n",
    "df = pd.DataFrame(d)\n",
    "print ('Dataframe from Dic with missing values:\\n',df)"
   ]
  },
  {
   "cell_type": "code",
   "execution_count": 68,
   "metadata": {},
   "outputs": [
    {
     "name": "stdout",
     "output_type": "stream",
     "text": [
      "Dropping rows with NaN values:\n",
      "      A    B  C\n",
      "0  1.0  5.0  1\n",
      "Dropping columns with NaN values:\n",
      "    C\n",
      "0  1\n",
      "1  2\n",
      "2  3\n",
      "Dropping rows with NaN values (Threshold):\n",
      "      A    B  C\n",
      "0  1.0  5.0  1\n",
      "1  2.0  NaN  2\n",
      "Dropping columns with NaN values (Threshold):\n",
      "      A  C\n",
      "0  1.0  1\n",
      "1  2.0  2\n",
      "2  NaN  3\n"
     ]
    }
   ],
   "source": [
    "print ('Dropping rows with NaN values:\\n',df.dropna())\n",
    "print ('Dropping columns with NaN values:\\n',df.dropna(axis=1))\n",
    "print ('Dropping rows with NaN values (Threshold):\\n',df.dropna(thresh=2))\n",
    "print ('Dropping columns with NaN values (Threshold):\\n',df.dropna(axis=1,thresh=2))"
   ]
  },
  {
   "cell_type": "code",
   "execution_count": 69,
   "metadata": {},
   "outputs": [
    {
     "name": "stdout",
     "output_type": "stream",
     "text": [
      "Filling NaN:\n",
      "             A           B  C\n",
      "0           1           5  1\n",
      "1           2  FILL VALUE  2\n",
      "2  FILL VALUE  FILL VALUE  3\n",
      "Filling NaN with mean:\n",
      " 0    1.0\n",
      "1    2.0\n",
      "2    1.5\n",
      "Name: A, dtype: float64\n"
     ]
    }
   ],
   "source": [
    "print ('Filling NaN:\\n',df.fillna('FILL VALUE'))\n",
    "print ('Filling NaN with mean:\\n',df['A'].fillna(df['A'].mean()))"
   ]
  },
  {
   "cell_type": "code",
   "execution_count": 70,
   "metadata": {},
   "outputs": [
    {
     "name": "stdout",
     "output_type": "stream",
     "text": [
      "---------------- Group By Operations --------------------\n",
      "  Company   Person  Sales\n",
      "0    GOOG      Sam    200\n",
      "1    GOOG  Charlie    120\n",
      "2    MSFT      Amy    340\n",
      "3    MSFT  Vanessa    124\n",
      "4      FB     Carl    243\n",
      "5      FB    Sarah    350\n"
     ]
    }
   ],
   "source": [
    "print ('---------------- Group By Operations --------------------')\n",
    "\n",
    "my_data = {'Company':['GOOG','GOOG','MSFT','MSFT','FB','FB'],\n",
    "           'Person':['Sam','Charlie','Amy','Vanessa','Carl','Sarah'],\n",
    "           'Sales':[200,120,340,124,243,350]}\n",
    "\n",
    "df = pd.DataFrame(my_data)\n",
    "print (df)"
   ]
  },
  {
   "cell_type": "code",
   "execution_count": 71,
   "metadata": {},
   "outputs": [
    {
     "name": "stdout",
     "output_type": "stream",
     "text": [
      "Group by on Company:\n",
      " <pandas.core.groupby.generic.DataFrameGroupBy object at 0x0B765090>\n",
      "Fetch aggregate values from GroupBy Object:\n",
      "         Sales\n",
      "Company       \n",
      "FB       296.5\n",
      "GOOG     160.0\n",
      "MSFT     232.0\n",
      "              Sales\n",
      "Company            \n",
      "FB        75.660426\n",
      "GOOG      56.568542\n",
      "MSFT     152.735065\n",
      "         Sales\n",
      "Company       \n",
      "FB         593\n",
      "GOOG       320\n",
      "MSFT       464\n",
      "          Person  Sales\n",
      "Company                \n",
      "FB          Carl    243\n",
      "GOOG     Charlie    120\n",
      "MSFT         Amy    124\n",
      "          Person  Sales\n",
      "Company                \n",
      "FB         Sarah    350\n",
      "GOOG         Sam    200\n",
      "MSFT     Vanessa    340\n",
      "Fetch description from GroupBy Object:\n",
      "Sales  count      2.000000\n",
      "       mean     296.500000\n",
      "       std       75.660426\n",
      "       min      243.000000\n",
      "       25%      269.750000\n",
      "       50%      296.500000\n",
      "       75%      323.250000\n",
      "       max      350.000000\n",
      "Name: FB, dtype: float64\n",
      "Sales  count      2.000000\n",
      "       mean     296.500000\n",
      "       std       75.660426\n",
      "       min      243.000000\n",
      "       25%      269.750000\n",
      "       50%      296.500000\n",
      "       75%      323.250000\n",
      "       max      350.000000\n",
      "Name: FB, dtype: float64\n"
     ]
    }
   ],
   "source": [
    "print ('Group by on Company:\\n',df.groupby('Company'))\n",
    "group_comp = df.groupby('Company')\n",
    "print ('Fetch aggregate values from GroupBy Object:')\n",
    "print (group_comp.mean())\n",
    "print (group_comp.std())\n",
    "print (group_comp.sum())\n",
    "print (group_comp.min())\n",
    "print (group_comp.max())\n",
    "print ('Fetch description from GroupBy Object:')\n",
    "print (group_comp.describe().loc['FB'])\n",
    "print (group_comp.describe().transpose()['FB']) #doubt"
   ]
  },
  {
   "cell_type": "code",
   "execution_count": 72,
   "metadata": {},
   "outputs": [
    {
     "name": "stdout",
     "output_type": "stream",
     "text": [
      "---------------- Operations --------------------\n",
      "Unique values in a column:\n",
      " [444 555 666]\n",
      "No.Unique values in a column:\n",
      " 3\n",
      "Count on value occurance in a column:\n",
      " 444    2\n",
      "555    1\n",
      "666    1\n",
      "Name: col2, dtype: int64\n"
     ]
    }
   ],
   "source": [
    "print ('---------------- Operations --------------------')\n",
    "\n",
    "df = pd.DataFrame({'col1':[1,2,3,4],\n",
    "                   'col2':[444,555,666,444],\n",
    "                   'col3':['abc','def','ghi','xyz']})\n",
    "\n",
    "print ('Unique values in a column:\\n',df['col2'].unique())\n",
    "print ('No.Unique values in a column:\\n',df['col2'].nunique())\n",
    "print ('Count on value occurance in a column:\\n',df['col2'].value_counts())"
   ]
  },
  {
   "cell_type": "code",
   "execution_count": 73,
   "metadata": {},
   "outputs": [
    {
     "name": "stdout",
     "output_type": "stream",
     "text": [
      "Using apply function:\n",
      "Using apply to pass user-defined function:\n",
      " 0     1\n",
      "1     4\n",
      "2     9\n",
      "3    16\n",
      "Name: col1, dtype: int64\n",
      "Using apply to pass built-in function:\n",
      " 0    3\n",
      "1    3\n",
      "2    3\n",
      "3    3\n",
      "Name: col3, dtype: int64\n",
      "Using apply to pass lambda function:\n",
      " 0     888\n",
      "1    1110\n",
      "2    1332\n",
      "3     888\n",
      "Name: col2, dtype: int64\n",
      "Dataframe Columns: Index(['col1', 'col2', 'col3'], dtype='object')\n",
      "Dataframe Index: RangeIndex(start=0, stop=4, step=1)\n"
     ]
    }
   ],
   "source": [
    "print ('Using apply function:')\n",
    "def sqr(x):\n",
    "    return x**2\n",
    "print ('Using apply to pass user-defined function:\\n',df['col1'].apply(sqr))\n",
    "print ('Using apply to pass built-in function:\\n',df['col3'].apply(len))\n",
    "print ('Using apply to pass lambda function:\\n',df['col2'].apply(lambda x:x*2))\n",
    "print ('Dataframe Columns:',df.columns)\n",
    "print ('Dataframe Index:',df.index)"
   ]
  },
  {
   "cell_type": "code",
   "execution_count": 74,
   "metadata": {},
   "outputs": [
    {
     "name": "stdout",
     "output_type": "stream",
     "text": [
      "Sorting DF based on column:\n",
      "    col1  col2 col3\n",
      "2     3   666  ghi\n",
      "1     2   555  def\n",
      "0     1   444  abc\n",
      "3     4   444  xyz\n",
      "Checking is null:\n",
      "     col1   col2   col3\n",
      "0  False  False  False\n",
      "1  False  False  False\n",
      "2  False  False  False\n",
      "3  False  False  False\n"
     ]
    }
   ],
   "source": [
    "print ('Sorting DF based on column:\\n',df.sort_values('col2',ascending=False))\n",
    "print ('Checking is null:\\n',df.isnull())"
   ]
  },
  {
   "cell_type": "code",
   "execution_count": 75,
   "metadata": {},
   "outputs": [
    {
     "name": "stdout",
     "output_type": "stream",
     "text": [
      "Pivot Tables:\n",
      "C          x    y\n",
      "A   B            \n",
      "bar one  4.0  1.0\n",
      "    two  NaN  5.0\n",
      "foo one  1.0  3.0\n",
      "    two  2.0  NaN\n"
     ]
    }
   ],
   "source": [
    "print ('Pivot Tables:')#doubt\n",
    "data = {'A':['foo','foo','foo','bar','bar','bar'],\n",
    "     'B':['one','one','two','two','one','one'],\n",
    "       'C':['x','y','x','y','x','y'],\n",
    "       'D':[1,3,2,5,4,1]}\n",
    "\n",
    "df = pd.DataFrame(data)\n",
    "print (df.pivot_table(values='D',index=['A', 'B'],columns=['C']))"
   ]
  },
  {
   "cell_type": "code",
   "execution_count": 44,
   "metadata": {},
   "outputs": [
    {
     "name": "stdout",
     "output_type": "stream",
     "text": [
      "---------------- Data Output & Input --------------------\n",
      "     Pregnancies  Glucose  BloodPressure  SkinThickness  Insulin   BMI  \\\n",
      "0              6      148             72             35        0  33.6   \n",
      "1              1       85             66             29        0  26.6   \n",
      "2              8      183             64              0        0  23.3   \n",
      "3              1       89             66             23       94  28.1   \n",
      "4              0      137             40             35      168  43.1   \n",
      "..           ...      ...            ...            ...      ...   ...   \n",
      "763           10      101             76             48      180  32.9   \n",
      "764            2      122             70             27        0  36.8   \n",
      "765            5      121             72             23      112  26.2   \n",
      "766            1      126             60              0        0  30.1   \n",
      "767            1       93             70             31        0  30.4   \n",
      "\n",
      "     DiabetesPedigreeFunction  Age  Outcome  \n",
      "0                       0.627   50        1  \n",
      "1                       0.351   31        0  \n",
      "2                       0.672   32        1  \n",
      "3                       0.167   21        0  \n",
      "4                       2.288   33        1  \n",
      "..                        ...  ...      ...  \n",
      "763                     0.171   63        0  \n",
      "764                     0.340   27        0  \n",
      "765                     0.245   30        0  \n",
      "766                     0.349   47        1  \n",
      "767                     0.315   23        0  \n",
      "\n",
      "[768 rows x 9 columns]\n"
     ]
    }
   ],
   "source": [
    "print ('---------------- Data Output & Input --------------------')\n",
    "\n",
    "df = pd.read_csv(r'C:\\Users\\RAVI\\Desktop\\diabetes.csv')\n",
    "print (df)"
   ]
  },
  {
   "cell_type": "code",
   "execution_count": 77,
   "metadata": {},
   "outputs": [
    {
     "name": "stdout",
     "output_type": "stream",
     "text": [
      "     A    B  C  D\n",
      "0  foo  one  x  1\n",
      "1  foo  one  y  3\n",
      "2  foo  two  x  2\n",
      "3  bar  two  y  5\n",
      "4  bar  one  x  4\n",
      "     A    B  C  D\n",
      "0  foo  one  x  1\n",
      "1  foo  one  y  3\n",
      "2  foo  two  x  2\n",
      "     A    B  C  D\n",
      "1  foo  one  y  3\n",
      "2  foo  two  x  2\n",
      "3  bar  two  y  5\n",
      "4  bar  one  x  4\n",
      "5  bar  one  y  1\n",
      "     A    B  C  D\n",
      "0  foo  one  x  1\n",
      "1  foo  one  y  3\n",
      "2  foo  two  x  2\n",
      "3  bar  two  y  5\n",
      "4  bar  one  x  4\n",
      "5  bar  one  y  1\n"
     ]
    }
   ],
   "source": [
    "print(df.head())\n",
    "print(df.head(3))\n",
    "print(df.tail())\n",
    "print(df.tail(9))"
   ]
  },
  {
   "cell_type": "code",
   "execution_count": 78,
   "metadata": {},
   "outputs": [
    {
     "name": "stdout",
     "output_type": "stream",
     "text": [
      "(6, 4)\n"
     ]
    }
   ],
   "source": [
    "print(df.shape)"
   ]
  },
  {
   "cell_type": "code",
   "execution_count": 79,
   "metadata": {},
   "outputs": [
    {
     "name": "stdout",
     "output_type": "stream",
     "text": [
      "2\n"
     ]
    }
   ],
   "source": [
    "print(df.ndim)"
   ]
  },
  {
   "cell_type": "code",
   "execution_count": 80,
   "metadata": {},
   "outputs": [
    {
     "name": "stdout",
     "output_type": "stream",
     "text": [
      "A    object\n",
      "B    object\n",
      "C    object\n",
      "D     int64\n",
      "dtype: object\n"
     ]
    }
   ],
   "source": [
    "print(df.dtypes)"
   ]
  },
  {
   "cell_type": "code",
   "execution_count": 81,
   "metadata": {},
   "outputs": [
    {
     "name": "stdout",
     "output_type": "stream",
     "text": [
      "              D\n",
      "count  6.000000\n",
      "mean   2.666667\n",
      "std    1.632993\n",
      "min    1.000000\n",
      "25%    1.250000\n",
      "50%    2.500000\n",
      "75%    3.750000\n",
      "max    5.000000\n"
     ]
    }
   ],
   "source": [
    "print(df.describe())"
   ]
  },
  {
   "cell_type": "code",
   "execution_count": 82,
   "metadata": {},
   "outputs": [
    {
     "ename": "KeyError",
     "evalue": "'Age'",
     "output_type": "error",
     "traceback": [
      "\u001b[1;31m---------------------------------------------------------------------------\u001b[0m",
      "\u001b[1;31mKeyError\u001b[0m                                  Traceback (most recent call last)",
      "\u001b[1;32mc:\\users\\ravi\\appdata\\local\\programs\\python\\python37-32\\lib\\site-packages\\pandas\\core\\indexes\\base.py\u001b[0m in \u001b[0;36mget_loc\u001b[1;34m(self, key, method, tolerance)\u001b[0m\n\u001b[0;32m   2656\u001b[0m             \u001b[1;32mtry\u001b[0m\u001b[1;33m:\u001b[0m\u001b[1;33m\u001b[0m\u001b[0m\n\u001b[1;32m-> 2657\u001b[1;33m                 \u001b[1;32mreturn\u001b[0m \u001b[0mself\u001b[0m\u001b[1;33m.\u001b[0m\u001b[0m_engine\u001b[0m\u001b[1;33m.\u001b[0m\u001b[0mget_loc\u001b[0m\u001b[1;33m(\u001b[0m\u001b[0mkey\u001b[0m\u001b[1;33m)\u001b[0m\u001b[1;33m\u001b[0m\u001b[0m\n\u001b[0m\u001b[0;32m   2658\u001b[0m             \u001b[1;32mexcept\u001b[0m \u001b[0mKeyError\u001b[0m\u001b[1;33m:\u001b[0m\u001b[1;33m\u001b[0m\u001b[0m\n",
      "\u001b[1;32mpandas\\_libs\\index.pyx\u001b[0m in \u001b[0;36mpandas._libs.index.IndexEngine.get_loc\u001b[1;34m()\u001b[0m\n",
      "\u001b[1;32mpandas\\_libs\\index.pyx\u001b[0m in \u001b[0;36mpandas._libs.index.IndexEngine.get_loc\u001b[1;34m()\u001b[0m\n",
      "\u001b[1;32mpandas\\_libs\\hashtable_class_helper.pxi\u001b[0m in \u001b[0;36mpandas._libs.hashtable.PyObjectHashTable.get_item\u001b[1;34m()\u001b[0m\n",
      "\u001b[1;32mpandas\\_libs\\hashtable_class_helper.pxi\u001b[0m in \u001b[0;36mpandas._libs.hashtable.PyObjectHashTable.get_item\u001b[1;34m()\u001b[0m\n",
      "\u001b[1;31mKeyError\u001b[0m: 'Age'",
      "\nDuring handling of the above exception, another exception occurred:\n",
      "\u001b[1;31mKeyError\u001b[0m                                  Traceback (most recent call last)",
      "\u001b[1;32m<ipython-input-82-d0a8e94dc76c>\u001b[0m in \u001b[0;36m<module>\u001b[1;34m\u001b[0m\n\u001b[0;32m      1\u001b[0m \u001b[0mdf\u001b[0m\u001b[1;33m=\u001b[0m\u001b[0mdf\u001b[0m\u001b[1;33m.\u001b[0m\u001b[0mrename\u001b[0m\u001b[1;33m(\u001b[0m\u001b[0mcolumns\u001b[0m\u001b[1;33m=\u001b[0m\u001b[1;33m{\u001b[0m\u001b[1;34m'Age of the person'\u001b[0m\u001b[1;33m:\u001b[0m\u001b[1;34m'Age'\u001b[0m\u001b[1;33m}\u001b[0m\u001b[1;33m)\u001b[0m\u001b[1;33m\u001b[0m\u001b[0m\n\u001b[1;32m----> 2\u001b[1;33m \u001b[0mprint\u001b[0m\u001b[1;33m(\u001b[0m\u001b[0mdf\u001b[0m\u001b[1;33m[\u001b[0m\u001b[1;34m'Age'\u001b[0m\u001b[1;33m]\u001b[0m\u001b[1;33m.\u001b[0m\u001b[0mdescribe\u001b[0m\u001b[1;33m(\u001b[0m\u001b[1;33m)\u001b[0m\u001b[1;33m)\u001b[0m\u001b[1;33m\u001b[0m\u001b[0m\n\u001b[0m\u001b[0;32m      3\u001b[0m \u001b[0mprint\u001b[0m\u001b[1;33m(\u001b[0m\u001b[0mdf\u001b[0m\u001b[1;33m.\u001b[0m\u001b[0mAge\u001b[0m\u001b[1;33m.\u001b[0m\u001b[0mhead\u001b[0m\u001b[1;33m(\u001b[0m\u001b[1;33m)\u001b[0m\u001b[1;33m)\u001b[0m\u001b[1;33m\u001b[0m\u001b[0m\n",
      "\u001b[1;32mc:\\users\\ravi\\appdata\\local\\programs\\python\\python37-32\\lib\\site-packages\\pandas\\core\\frame.py\u001b[0m in \u001b[0;36m__getitem__\u001b[1;34m(self, key)\u001b[0m\n\u001b[0;32m   2925\u001b[0m             \u001b[1;32mif\u001b[0m \u001b[0mself\u001b[0m\u001b[1;33m.\u001b[0m\u001b[0mcolumns\u001b[0m\u001b[1;33m.\u001b[0m\u001b[0mnlevels\u001b[0m \u001b[1;33m>\u001b[0m \u001b[1;36m1\u001b[0m\u001b[1;33m:\u001b[0m\u001b[1;33m\u001b[0m\u001b[0m\n\u001b[0;32m   2926\u001b[0m                 \u001b[1;32mreturn\u001b[0m \u001b[0mself\u001b[0m\u001b[1;33m.\u001b[0m\u001b[0m_getitem_multilevel\u001b[0m\u001b[1;33m(\u001b[0m\u001b[0mkey\u001b[0m\u001b[1;33m)\u001b[0m\u001b[1;33m\u001b[0m\u001b[0m\n\u001b[1;32m-> 2927\u001b[1;33m             \u001b[0mindexer\u001b[0m \u001b[1;33m=\u001b[0m \u001b[0mself\u001b[0m\u001b[1;33m.\u001b[0m\u001b[0mcolumns\u001b[0m\u001b[1;33m.\u001b[0m\u001b[0mget_loc\u001b[0m\u001b[1;33m(\u001b[0m\u001b[0mkey\u001b[0m\u001b[1;33m)\u001b[0m\u001b[1;33m\u001b[0m\u001b[0m\n\u001b[0m\u001b[0;32m   2928\u001b[0m             \u001b[1;32mif\u001b[0m \u001b[0mis_integer\u001b[0m\u001b[1;33m(\u001b[0m\u001b[0mindexer\u001b[0m\u001b[1;33m)\u001b[0m\u001b[1;33m:\u001b[0m\u001b[1;33m\u001b[0m\u001b[0m\n\u001b[0;32m   2929\u001b[0m                 \u001b[0mindexer\u001b[0m \u001b[1;33m=\u001b[0m \u001b[1;33m[\u001b[0m\u001b[0mindexer\u001b[0m\u001b[1;33m]\u001b[0m\u001b[1;33m\u001b[0m\u001b[0m\n",
      "\u001b[1;32mc:\\users\\ravi\\appdata\\local\\programs\\python\\python37-32\\lib\\site-packages\\pandas\\core\\indexes\\base.py\u001b[0m in \u001b[0;36mget_loc\u001b[1;34m(self, key, method, tolerance)\u001b[0m\n\u001b[0;32m   2657\u001b[0m                 \u001b[1;32mreturn\u001b[0m \u001b[0mself\u001b[0m\u001b[1;33m.\u001b[0m\u001b[0m_engine\u001b[0m\u001b[1;33m.\u001b[0m\u001b[0mget_loc\u001b[0m\u001b[1;33m(\u001b[0m\u001b[0mkey\u001b[0m\u001b[1;33m)\u001b[0m\u001b[1;33m\u001b[0m\u001b[0m\n\u001b[0;32m   2658\u001b[0m             \u001b[1;32mexcept\u001b[0m \u001b[0mKeyError\u001b[0m\u001b[1;33m:\u001b[0m\u001b[1;33m\u001b[0m\u001b[0m\n\u001b[1;32m-> 2659\u001b[1;33m                 \u001b[1;32mreturn\u001b[0m \u001b[0mself\u001b[0m\u001b[1;33m.\u001b[0m\u001b[0m_engine\u001b[0m\u001b[1;33m.\u001b[0m\u001b[0mget_loc\u001b[0m\u001b[1;33m(\u001b[0m\u001b[0mself\u001b[0m\u001b[1;33m.\u001b[0m\u001b[0m_maybe_cast_indexer\u001b[0m\u001b[1;33m(\u001b[0m\u001b[0mkey\u001b[0m\u001b[1;33m)\u001b[0m\u001b[1;33m)\u001b[0m\u001b[1;33m\u001b[0m\u001b[0m\n\u001b[0m\u001b[0;32m   2660\u001b[0m         \u001b[0mindexer\u001b[0m \u001b[1;33m=\u001b[0m \u001b[0mself\u001b[0m\u001b[1;33m.\u001b[0m\u001b[0mget_indexer\u001b[0m\u001b[1;33m(\u001b[0m\u001b[1;33m[\u001b[0m\u001b[0mkey\u001b[0m\u001b[1;33m]\u001b[0m\u001b[1;33m,\u001b[0m \u001b[0mmethod\u001b[0m\u001b[1;33m=\u001b[0m\u001b[0mmethod\u001b[0m\u001b[1;33m,\u001b[0m \u001b[0mtolerance\u001b[0m\u001b[1;33m=\u001b[0m\u001b[0mtolerance\u001b[0m\u001b[1;33m)\u001b[0m\u001b[1;33m\u001b[0m\u001b[0m\n\u001b[0;32m   2661\u001b[0m         \u001b[1;32mif\u001b[0m \u001b[0mindexer\u001b[0m\u001b[1;33m.\u001b[0m\u001b[0mndim\u001b[0m \u001b[1;33m>\u001b[0m \u001b[1;36m1\u001b[0m \u001b[1;32mor\u001b[0m \u001b[0mindexer\u001b[0m\u001b[1;33m.\u001b[0m\u001b[0msize\u001b[0m \u001b[1;33m>\u001b[0m \u001b[1;36m1\u001b[0m\u001b[1;33m:\u001b[0m\u001b[1;33m\u001b[0m\u001b[0m\n",
      "\u001b[1;32mpandas\\_libs\\index.pyx\u001b[0m in \u001b[0;36mpandas._libs.index.IndexEngine.get_loc\u001b[1;34m()\u001b[0m\n",
      "\u001b[1;32mpandas\\_libs\\index.pyx\u001b[0m in \u001b[0;36mpandas._libs.index.IndexEngine.get_loc\u001b[1;34m()\u001b[0m\n",
      "\u001b[1;32mpandas\\_libs\\hashtable_class_helper.pxi\u001b[0m in \u001b[0;36mpandas._libs.hashtable.PyObjectHashTable.get_item\u001b[1;34m()\u001b[0m\n",
      "\u001b[1;32mpandas\\_libs\\hashtable_class_helper.pxi\u001b[0m in \u001b[0;36mpandas._libs.hashtable.PyObjectHashTable.get_item\u001b[1;34m()\u001b[0m\n",
      "\u001b[1;31mKeyError\u001b[0m: 'Age'"
     ]
    }
   ],
   "source": [
    "df=df.rename(columns={'Age of the person':'Age'})\n",
    "print(df['Age'].describe())\n",
    "print(df.Age.head())"
   ]
  },
  {
   "cell_type": "code",
   "execution_count": 83,
   "metadata": {},
   "outputs": [
    {
     "ename": "KeyError",
     "evalue": "'Age'",
     "output_type": "error",
     "traceback": [
      "\u001b[1;31m---------------------------------------------------------------------------\u001b[0m",
      "\u001b[1;31mKeyError\u001b[0m                                  Traceback (most recent call last)",
      "\u001b[1;32mc:\\users\\ravi\\appdata\\local\\programs\\python\\python37-32\\lib\\site-packages\\pandas\\core\\indexes\\base.py\u001b[0m in \u001b[0;36mget_loc\u001b[1;34m(self, key, method, tolerance)\u001b[0m\n\u001b[0;32m   2656\u001b[0m             \u001b[1;32mtry\u001b[0m\u001b[1;33m:\u001b[0m\u001b[1;33m\u001b[0m\u001b[0m\n\u001b[1;32m-> 2657\u001b[1;33m                 \u001b[1;32mreturn\u001b[0m \u001b[0mself\u001b[0m\u001b[1;33m.\u001b[0m\u001b[0m_engine\u001b[0m\u001b[1;33m.\u001b[0m\u001b[0mget_loc\u001b[0m\u001b[1;33m(\u001b[0m\u001b[0mkey\u001b[0m\u001b[1;33m)\u001b[0m\u001b[1;33m\u001b[0m\u001b[0m\n\u001b[0m\u001b[0;32m   2658\u001b[0m             \u001b[1;32mexcept\u001b[0m \u001b[0mKeyError\u001b[0m\u001b[1;33m:\u001b[0m\u001b[1;33m\u001b[0m\u001b[0m\n",
      "\u001b[1;32mpandas\\_libs\\index.pyx\u001b[0m in \u001b[0;36mpandas._libs.index.IndexEngine.get_loc\u001b[1;34m()\u001b[0m\n",
      "\u001b[1;32mpandas\\_libs\\index.pyx\u001b[0m in \u001b[0;36mpandas._libs.index.IndexEngine.get_loc\u001b[1;34m()\u001b[0m\n",
      "\u001b[1;32mpandas\\_libs\\hashtable_class_helper.pxi\u001b[0m in \u001b[0;36mpandas._libs.hashtable.PyObjectHashTable.get_item\u001b[1;34m()\u001b[0m\n",
      "\u001b[1;32mpandas\\_libs\\hashtable_class_helper.pxi\u001b[0m in \u001b[0;36mpandas._libs.hashtable.PyObjectHashTable.get_item\u001b[1;34m()\u001b[0m\n",
      "\u001b[1;31mKeyError\u001b[0m: 'Age'",
      "\nDuring handling of the above exception, another exception occurred:\n",
      "\u001b[1;31mKeyError\u001b[0m                                  Traceback (most recent call last)",
      "\u001b[1;32m<ipython-input-83-0097a9485e2c>\u001b[0m in \u001b[0;36m<module>\u001b[1;34m\u001b[0m\n\u001b[1;32m----> 1\u001b[1;33m \u001b[0mprint\u001b[0m\u001b[1;33m(\u001b[0m\u001b[0mdf\u001b[0m\u001b[1;33m[\u001b[0m\u001b[1;34m'Age'\u001b[0m\u001b[1;33m]\u001b[0m\u001b[1;33m.\u001b[0m\u001b[0mmean\u001b[0m\u001b[1;33m(\u001b[0m\u001b[1;33m)\u001b[0m\u001b[1;33m)\u001b[0m\u001b[1;33m\u001b[0m\u001b[0m\n\u001b[0m\u001b[0;32m      2\u001b[0m \u001b[0mprint\u001b[0m\u001b[1;33m(\u001b[0m\u001b[0mdf\u001b[0m\u001b[1;33m[\u001b[0m\u001b[1;34m'Age'\u001b[0m\u001b[1;33m]\u001b[0m\u001b[1;33m.\u001b[0m\u001b[0msum\u001b[0m\u001b[1;33m(\u001b[0m\u001b[1;33m)\u001b[0m\u001b[1;33m)\u001b[0m\u001b[1;33m\u001b[0m\u001b[0m\n\u001b[0;32m      3\u001b[0m \u001b[0mprint\u001b[0m\u001b[1;33m(\u001b[0m\u001b[0mdf\u001b[0m\u001b[1;33m[\u001b[0m\u001b[1;34m'Age'\u001b[0m\u001b[1;33m]\u001b[0m\u001b[1;33m.\u001b[0m\u001b[0mmedian\u001b[0m\u001b[1;33m(\u001b[0m\u001b[1;33m)\u001b[0m\u001b[1;33m)\u001b[0m\u001b[1;33m\u001b[0m\u001b[0m\n\u001b[0;32m      4\u001b[0m \u001b[0mprint\u001b[0m\u001b[1;33m(\u001b[0m\u001b[0mdf\u001b[0m\u001b[1;33m[\u001b[0m\u001b[1;34m'Age'\u001b[0m\u001b[1;33m]\u001b[0m\u001b[1;33m.\u001b[0m\u001b[0mmin\u001b[0m\u001b[1;33m(\u001b[0m\u001b[1;33m)\u001b[0m\u001b[1;33m)\u001b[0m\u001b[1;33m\u001b[0m\u001b[0m\n\u001b[0;32m      5\u001b[0m \u001b[0mprint\u001b[0m\u001b[1;33m(\u001b[0m\u001b[0mdf\u001b[0m\u001b[1;33m[\u001b[0m\u001b[1;34m'Age'\u001b[0m\u001b[1;33m]\u001b[0m\u001b[1;33m.\u001b[0m\u001b[0mmax\u001b[0m\u001b[1;33m(\u001b[0m\u001b[1;33m)\u001b[0m\u001b[1;33m)\u001b[0m\u001b[1;33m\u001b[0m\u001b[0m\n",
      "\u001b[1;32mc:\\users\\ravi\\appdata\\local\\programs\\python\\python37-32\\lib\\site-packages\\pandas\\core\\frame.py\u001b[0m in \u001b[0;36m__getitem__\u001b[1;34m(self, key)\u001b[0m\n\u001b[0;32m   2925\u001b[0m             \u001b[1;32mif\u001b[0m \u001b[0mself\u001b[0m\u001b[1;33m.\u001b[0m\u001b[0mcolumns\u001b[0m\u001b[1;33m.\u001b[0m\u001b[0mnlevels\u001b[0m \u001b[1;33m>\u001b[0m \u001b[1;36m1\u001b[0m\u001b[1;33m:\u001b[0m\u001b[1;33m\u001b[0m\u001b[0m\n\u001b[0;32m   2926\u001b[0m                 \u001b[1;32mreturn\u001b[0m \u001b[0mself\u001b[0m\u001b[1;33m.\u001b[0m\u001b[0m_getitem_multilevel\u001b[0m\u001b[1;33m(\u001b[0m\u001b[0mkey\u001b[0m\u001b[1;33m)\u001b[0m\u001b[1;33m\u001b[0m\u001b[0m\n\u001b[1;32m-> 2927\u001b[1;33m             \u001b[0mindexer\u001b[0m \u001b[1;33m=\u001b[0m \u001b[0mself\u001b[0m\u001b[1;33m.\u001b[0m\u001b[0mcolumns\u001b[0m\u001b[1;33m.\u001b[0m\u001b[0mget_loc\u001b[0m\u001b[1;33m(\u001b[0m\u001b[0mkey\u001b[0m\u001b[1;33m)\u001b[0m\u001b[1;33m\u001b[0m\u001b[0m\n\u001b[0m\u001b[0;32m   2928\u001b[0m             \u001b[1;32mif\u001b[0m \u001b[0mis_integer\u001b[0m\u001b[1;33m(\u001b[0m\u001b[0mindexer\u001b[0m\u001b[1;33m)\u001b[0m\u001b[1;33m:\u001b[0m\u001b[1;33m\u001b[0m\u001b[0m\n\u001b[0;32m   2929\u001b[0m                 \u001b[0mindexer\u001b[0m \u001b[1;33m=\u001b[0m \u001b[1;33m[\u001b[0m\u001b[0mindexer\u001b[0m\u001b[1;33m]\u001b[0m\u001b[1;33m\u001b[0m\u001b[0m\n",
      "\u001b[1;32mc:\\users\\ravi\\appdata\\local\\programs\\python\\python37-32\\lib\\site-packages\\pandas\\core\\indexes\\base.py\u001b[0m in \u001b[0;36mget_loc\u001b[1;34m(self, key, method, tolerance)\u001b[0m\n\u001b[0;32m   2657\u001b[0m                 \u001b[1;32mreturn\u001b[0m \u001b[0mself\u001b[0m\u001b[1;33m.\u001b[0m\u001b[0m_engine\u001b[0m\u001b[1;33m.\u001b[0m\u001b[0mget_loc\u001b[0m\u001b[1;33m(\u001b[0m\u001b[0mkey\u001b[0m\u001b[1;33m)\u001b[0m\u001b[1;33m\u001b[0m\u001b[0m\n\u001b[0;32m   2658\u001b[0m             \u001b[1;32mexcept\u001b[0m \u001b[0mKeyError\u001b[0m\u001b[1;33m:\u001b[0m\u001b[1;33m\u001b[0m\u001b[0m\n\u001b[1;32m-> 2659\u001b[1;33m                 \u001b[1;32mreturn\u001b[0m \u001b[0mself\u001b[0m\u001b[1;33m.\u001b[0m\u001b[0m_engine\u001b[0m\u001b[1;33m.\u001b[0m\u001b[0mget_loc\u001b[0m\u001b[1;33m(\u001b[0m\u001b[0mself\u001b[0m\u001b[1;33m.\u001b[0m\u001b[0m_maybe_cast_indexer\u001b[0m\u001b[1;33m(\u001b[0m\u001b[0mkey\u001b[0m\u001b[1;33m)\u001b[0m\u001b[1;33m)\u001b[0m\u001b[1;33m\u001b[0m\u001b[0m\n\u001b[0m\u001b[0;32m   2660\u001b[0m         \u001b[0mindexer\u001b[0m \u001b[1;33m=\u001b[0m \u001b[0mself\u001b[0m\u001b[1;33m.\u001b[0m\u001b[0mget_indexer\u001b[0m\u001b[1;33m(\u001b[0m\u001b[1;33m[\u001b[0m\u001b[0mkey\u001b[0m\u001b[1;33m]\u001b[0m\u001b[1;33m,\u001b[0m \u001b[0mmethod\u001b[0m\u001b[1;33m=\u001b[0m\u001b[0mmethod\u001b[0m\u001b[1;33m,\u001b[0m \u001b[0mtolerance\u001b[0m\u001b[1;33m=\u001b[0m\u001b[0mtolerance\u001b[0m\u001b[1;33m)\u001b[0m\u001b[1;33m\u001b[0m\u001b[0m\n\u001b[0;32m   2661\u001b[0m         \u001b[1;32mif\u001b[0m \u001b[0mindexer\u001b[0m\u001b[1;33m.\u001b[0m\u001b[0mndim\u001b[0m \u001b[1;33m>\u001b[0m \u001b[1;36m1\u001b[0m \u001b[1;32mor\u001b[0m \u001b[0mindexer\u001b[0m\u001b[1;33m.\u001b[0m\u001b[0msize\u001b[0m \u001b[1;33m>\u001b[0m \u001b[1;36m1\u001b[0m\u001b[1;33m:\u001b[0m\u001b[1;33m\u001b[0m\u001b[0m\n",
      "\u001b[1;32mpandas\\_libs\\index.pyx\u001b[0m in \u001b[0;36mpandas._libs.index.IndexEngine.get_loc\u001b[1;34m()\u001b[0m\n",
      "\u001b[1;32mpandas\\_libs\\index.pyx\u001b[0m in \u001b[0;36mpandas._libs.index.IndexEngine.get_loc\u001b[1;34m()\u001b[0m\n",
      "\u001b[1;32mpandas\\_libs\\hashtable_class_helper.pxi\u001b[0m in \u001b[0;36mpandas._libs.hashtable.PyObjectHashTable.get_item\u001b[1;34m()\u001b[0m\n",
      "\u001b[1;32mpandas\\_libs\\hashtable_class_helper.pxi\u001b[0m in \u001b[0;36mpandas._libs.hashtable.PyObjectHashTable.get_item\u001b[1;34m()\u001b[0m\n",
      "\u001b[1;31mKeyError\u001b[0m: 'Age'"
     ]
    }
   ],
   "source": [
    "print(df['Age'].mean())\n",
    "print(df['Age'].sum())\n",
    "print(df['Age'].median())\n",
    "print(df['Age'].min())\n",
    "print(df['Age'].max())"
   ]
  },
  {
   "cell_type": "code",
   "execution_count": 35,
   "metadata": {},
   "outputs": [
    {
     "ename": "NameError",
     "evalue": "name 'df' is not defined",
     "output_type": "error",
     "traceback": [
      "\u001b[1;31m---------------------------------------------------------------------------\u001b[0m",
      "\u001b[1;31mNameError\u001b[0m                                 Traceback (most recent call last)",
      "\u001b[1;32m<ipython-input-35-7e42ddf0f2c1>\u001b[0m in \u001b[0;36m<module>\u001b[1;34m\u001b[0m\n\u001b[1;32m----> 1\u001b[1;33m \u001b[0mprint\u001b[0m\u001b[1;33m(\u001b[0m\u001b[0mdf\u001b[0m\u001b[1;33m)\u001b[0m\u001b[1;33m\u001b[0m\u001b[1;33m\u001b[0m\u001b[0m\n\u001b[0m\u001b[0;32m      2\u001b[0m \u001b[1;33m\u001b[0m\u001b[0m\n\u001b[0;32m      3\u001b[0m \u001b[0mdf\u001b[0m\u001b[1;33m.\u001b[0m\u001b[0mto_csv\u001b[0m\u001b[1;33m(\u001b[0m\u001b[1;34mr\"C:\\Users\\RAVI\\Desktop\\diabetes.csv\"\u001b[0m\u001b[1;33m,\u001b[0m \u001b[0mindex\u001b[0m\u001b[1;33m=\u001b[0m\u001b[1;32mFalse\u001b[0m\u001b[1;33m,\u001b[0m \u001b[0mencoding\u001b[0m\u001b[1;33m=\u001b[0m\u001b[1;34m'utf8'\u001b[0m\u001b[1;33m)\u001b[0m\u001b[1;33m\u001b[0m\u001b[1;33m\u001b[0m\u001b[0m\n",
      "\u001b[1;31mNameError\u001b[0m: name 'df' is not defined"
     ]
    }
   ],
   "source": [
    "print(df)\n",
    "\n",
    "df.to_csv(r\"C:\\Users\\RAVI\\Desktop\\diabetes.csv\", index=False, encoding='utf8')"
   ]
  },
  {
   "cell_type": "markdown",
   "metadata": {},
   "source": [
    "# MATPLOTLIB AND SEABORN LIBRARIES"
   ]
  },
  {
   "cell_type": "code",
   "execution_count": 36,
   "metadata": {},
   "outputs": [
    {
     "data": {
      "image/png": "[encoded data removed]",
      "text/plain": [
       "<Figure size 432x288 with 1 Axes>"
      ]
     },
     "metadata": {
      "needs_background": "light"
     },
     "output_type": "display_data"
    }
   ],
   "source": [
    "from matplotlib import pyplot as plt\n",
    "%matplotlib inline\n",
    " #Plotting to our canvas\n",
    "  \n",
    "plt.plot([1,2,3],[4,5,8])\n",
    "  \n",
    " #Showing what we plotted\n",
    "  \n",
    "plt.show()"
   ]
  },
  {
   "cell_type": "code",
   "execution_count": 37,
   "metadata": {},
   "outputs": [
    {
     "data": {
      "image/png": "[encoded data removed]",
      "text/plain": [
       "<Figure size 432x288 with 1 Axes>"
      ]
     },
     "metadata": {
      "needs_background": "light"
     },
     "output_type": "display_data"
    }
   ],
   "source": [
    "x = [5,2,7]\n",
    "y = [2,16,4]\n",
    "plt.plot(x,y)\n",
    "plt.title('Info')\n",
    "plt.ylabel('Y axis')\n",
    "plt.xlabel('X axis')\n",
    "plt.show()"
   ]
  },
  {
   "cell_type": "code",
   "execution_count": 38,
   "metadata": {},
   "outputs": [
    {
     "data": {
      "image/png": "[encoded data removed]",
      "text/plain": [
       "<Figure size 432x288 with 1 Axes>"
      ]
     },
     "metadata": {},
     "output_type": "display_data"
    }
   ],
   "source": [
    "from matplotlib import style\n",
    " \n",
    "style.use('ggplot')\n",
    "x = [5,8,10]\n",
    "y = [12,16,6]\n",
    "x2 = [6,9,11]\n",
    "y2 = [6,15,7]\n",
    "plt.plot(x,y,'g',label='line one', linewidth=5)\n",
    "plt.plot(x2,y2,'c',label='line two',linewidth=5)\n",
    "plt.title('Epic Info')\n",
    "plt.ylabel('Y axis')\n",
    "plt.xlabel('X axis')\n",
    "plt.legend()\n",
    "plt.grid(True,color='k')\n",
    "plt.show()"
   ]
  },
  {
   "cell_type": "code",
   "execution_count": 39,
   "metadata": {},
   "outputs": [
    {
     "data": {
      "image/png": "[encoded data removed]",
      "text/plain": [
       "<Figure size 432x288 with 1 Axes>"
      ]
     },
     "metadata": {},
     "output_type": "display_data"
    }
   ],
   "source": [
    "plt.bar([0.25,1.0,2.25,3.25,4.25],[50,40,70,80,20],label=\"BMW\",width=.25)\n",
    "plt.bar([.5,1.75,2.75,3.75,4.75],[80,20,20,50,60],label=\"Audi\", color='r',width=.25)\n",
    "plt.legend()\n",
    "plt.xlabel('Days')\n",
    "plt.ylabel('Distance (kms)')\n",
    "plt.title('Information')\n",
    "plt.show()"
   ]
  },
  {
   "cell_type": "code",
   "execution_count": 40,
   "metadata": {},
   "outputs": [
    {
     "data": {
      "image/png": "[encoded data removed]",
      "text/plain": [
       "<Figure size 432x288 with 1 Axes>"
      ]
     },
     "metadata": {},
     "output_type": "display_data"
    }
   ],
   "source": [
    "population_age = [22,55,62,45,21,22,34,42,42,4,2,102,95,85,55,110,120,70,65,55,111,115,80,75,65,54,44,43,42,48]\n",
    "bins = [0,10,20,30,40,50,60,70,80,90,100]\n",
    "plt.hist(population_age, bins, histtype='bar', rwidth=0.8)\n",
    "plt.xlabel('age groups')\n",
    "plt.ylabel('Number of people')\n",
    "plt.title('Histogram')\n",
    "plt.show()"
   ]
  },
  {
   "cell_type": "code",
   "execution_count": 41,
   "metadata": {},
   "outputs": [
    {
     "ename": "SyntaxError",
     "evalue": "EOL while scanning string literal (<ipython-input-41-f65ef0d1feb4>, line 7)",
     "output_type": "error",
     "traceback": [
      "\u001b[1;36m  File \u001b[1;32m\"<ipython-input-41-f65ef0d1feb4>\"\u001b[1;36m, line \u001b[1;32m7\u001b[0m\n\u001b[1;33m    plt.scatter(x,y, label='hi\u001b[0m\n\u001b[1;37m                              ^\u001b[0m\n\u001b[1;31mSyntaxError\u001b[0m\u001b[1;31m:\u001b[0m EOL while scanning string literal\n"
     ]
    }
   ],
   "source": [
    "x = [1,1.5,2,2.5,3,3.5,3.6]\n",
    "y = [7.5,8,8.5,9,9.5,10,10.5]\n",
    " \n",
    "x1=[8,8.5,9,9.5,10,10.5,11]\n",
    "y1=[3,3.5,3.7,4,4.5,5,5.2]\n",
    " \n",
    "plt.scatter(x,y, label='hi\n",
    "            \n",
    "            \n",
    "            \n",
    "            \n",
    "            \n",
    "            \n",
    "            \n",
    "            \n",
    "            \n",
    "            \n",
    "            \n",
    "            gh income low saving',color='r')\n",
    "plt.scatter(x1,y1,label='low income high savings',color='b')\n",
    "plt.xlabel('saving*100')\n",
    "plt.ylabel('income*1000')\n",
    "plt.title('Scatter Plot')\n",
    "plt.legend()\n",
    "plt.show()"
   ]
  },
  {
   "cell_type": "code",
   "execution_count": 42,
   "metadata": {},
   "outputs": [
    {
     "data": {
      "image/png": "[encoded data removed]",
      "text/plain": [
       "<Figure size 432x288 with 1 Axes>"
      ]
     },
     "metadata": {},
     "output_type": "display_data"
    }
   ],
   "source": [
    "days = [1,2,3,4,5]\n",
    "  \n",
    "sleeping =[7,8,6,11,7]\n",
    "eating = [2,3,4,3,2]\n",
    "working =[7,8,7,2,2]\n",
    "playing = [8,5,7,8,13]\n",
    "  \n",
    "plt.plot([],[],color='m', label='Sleeping', linewidth=5)\n",
    "plt.plot([],[],color='c', label='Eating', linewidth=5)\n",
    "plt.plot([],[],color='r', label='Working', linewidth=5)\n",
    "plt.plot([],[],color='k', label='Playing', linewidth=5)\n",
    "  \n",
    "plt.stackplot(days, sleeping,eating,working,playing, colors=['m','c','r','k'])\n",
    "  \n",
    "plt.xlabel('x')\n",
    "plt.ylabel('y')\n",
    "plt.title('Stack Plot')\n",
    "plt.legend()\n",
    "plt.show()"
   ]
  },
  {
   "cell_type": "code",
   "execution_count": 43,
   "metadata": {},
   "outputs": [
    {
     "data": {
      "image/png": "[encoded data removed]",
      "text/plain": [
       "<Figure size 432x288 with 1 Axes>"
      ]
     },
     "metadata": {},
     "output_type": "display_data"
    }
   ],
   "source": [
    "days = [1,2,3,4,5]\n",
    " \n",
    "sleeping =[7,8,6,11,7]\n",
    "eating = [2,3,4,3,2]\n",
    "working =[7,8,7,2,2]\n",
    "playing = [8,5,7,8,13]\n",
    "slices = [7,2,2,13]\n",
    "activities = ['sleeping','eating','working','playing']\n",
    "cols = ['c','m','r','b']\n",
    " \n",
    "plt.pie(slices,\n",
    "  labels=activities,\n",
    "  colors=cols,\n",
    "  startangle=90,\n",
    "  shadow= True,\n",
    "  explode=(0,0.2,0,0),\n",
    "  autopct='%0.1f%%')\n",
    " \n",
    "plt.title('Pie Plot')\n",
    "plt.show()"
   ]
  },
  {
   "cell_type": "code",
   "execution_count": 108,
   "metadata": {},
   "outputs": [
    {
     "data": {
      "image/png": "[encoded data removed]",
      "text/plain": [
       "<Figure size 432x288 with 2 Axes>"
      ]
     },
     "metadata": {},
     "output_type": "display_data"
    }
   ],
   "source": [
    "import seaborn as sns\n",
    "import pandas as pd\n",
    "import numpy as np\n",
    " \n",
    " #Create a dataset (fake)\n",
    "df = pd.DataFrame(np.random.random((5,5)), columns=[\"a\",\"b\",\"c\",\"d\",\"e\"])\n",
    " \n",
    " #Default heatmap: just a visualization of this square matrix\n",
    "p1 = sns.heatmap(df)\n",
    "plt.show()"
   ]
  },
  {
   "cell_type": "code",
   "execution_count": null,
   "metadata": {},
   "outputs": [],
   "source": []
  }
 ],
 "metadata": {
  "kernelspec": {
   "display_name": "Python 3",
   "language": "python",
   "name": "python3"
  },
  "language_info": {
   "codemirror_mode": {
    "name": "ipython",
    "version": 3
   },
   "file_extension": ".py",
   "mimetype": "text/x-python",
   "name": "python",
   "nbconvert_exporter": "python",
   "pygments_lexer": "ipython3",
   "version": "3.7.4"
  }
 },
 "nbformat": 4,
 "nbformat_minor": 2
}

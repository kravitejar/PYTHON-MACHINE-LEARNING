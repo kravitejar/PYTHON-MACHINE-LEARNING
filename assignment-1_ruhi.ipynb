{
 "cells": [
  {
   "cell_type": "markdown",
   "metadata": {},
   "source": [
    "###### ASSIGNMENTS"
   ]
  },
  {
   "cell_type": "markdown",
   "metadata": {},
   "source": [
    "##### Assignment-I"
   ]
  },
  {
   "cell_type": "markdown",
   "metadata": {},
   "source": [
    "1. Write a python program to check if a string is palindrome or not?\n",
    "<br> print the result as True/False for a list of strings"
   ]
  },
  {
   "cell_type": "code",
   "execution_count": null,
   "metadata": {},
   "outputs": [],
   "source": [
    "String1=str(input(\"enter a string:\"))\n",
    "String2=String1[::-1]\n",
    "if(String1 == String2):\n",
    "    print(\"The given string is a Palindrome\")\n",
    "else:\n",
    "    print(\"The given string is not a Palindrome\")"
   ]
  },
  {
   "cell_type": "markdown",
   "metadata": {},
   "source": [
    "2. Write a Python program to count number of empty substrings of a given string?\n",
    "<br> Program should be able to take input at runtime"
   ]
  },
  {
   "cell_type": "code",
   "execution_count": 4,
   "metadata": {},
   "outputs": [
    {
     "name": "stdout",
     "output_type": "stream",
     "text": [
      "enter a string:\n",
      "number of empty substrings 0\n"
     ]
    }
   ],
   "source": [
    "String1=str(input(\"enter a string:\"))\n",
    "result=String1.count(\" \")\n",
    "print(\"number of empty substrings {}\".format(result))"
   ]
  },
  {
   "cell_type": "markdown",
   "metadata": {},
   "source": [
    "3. Write a python program to retrieve symbols from a given string?"
   ]
  },
  {
   "cell_type": "code",
   "execution_count": 5,
   "metadata": {},
   "outputs": [
    {
     "name": "stdout",
     "output_type": "stream",
     "text": [
      "Enter Text\n",
      "Noneruhi@arshi$jhy\n",
      "['@', '$']\n"
     ]
    }
   ],
   "source": [
    "import re\n",
    "text = input (print(\"Enter Text\"))\n",
    "result = re.findall('[^0-9a-zA-Z\" \"]+',text)\n",
    "print(result)"
   ]
  },
  {
   "cell_type": "markdown",
   "metadata": {},
   "source": [
    "4. Write a python program to count the occurence of all vowels? \n",
    "<br> For instance in the string \"Hello World\"\n",
    "<br> e -1 \n",
    "<br> o -2\n",
    "<br> Input should be fetched at runtime."
   ]
  },
  {
   "cell_type": "code",
   "execution_count": 2,
   "metadata": {},
   "outputs": [
    {
     "name": "stdout",
     "output_type": "stream",
     "text": [
      "Enter a text\n",
      "Nonedfgsdfgseawefxzbftr\n",
      "a - : 1\n",
      "e - : 2\n",
      "i - : 0\n",
      "o - : 0\n",
      "u - : 0\n"
     ]
    }
   ],
   "source": [
    "x = str (input (print(\"Enter a text\")))\n",
    "\n",
    "print ( \"a - :\", x.count(\"a\"))\n",
    "print ( \"e - :\", x.count(\"e\"))\n",
    "print ( \"i - :\", x.count(\"i\"))\n",
    "print ( \"o - :\", x.count(\"o\"))\n",
    "print ( \"u - :\", x.count(\"u\"))"
   ]
  },
  {
   "cell_type": "markdown",
   "metadata": {},
   "source": [
    "5. Generate Fibonacci Series till 100?\n"
   ]
  },
  {
   "cell_type": "markdown",
   "metadata": {},
   "source": [
    "6. print True to words having more vowels than consanants provided a list of words?\n",
    "[\"abc\",\"aba\"]\n",
    "FALSE, TRUE\n"
   ]
  },
  {
   "cell_type": "code",
   "execution_count": null,
   "metadata": {},
   "outputs": [],
   "source": [
    "import re\n",
    "strings=[\"hellow\",\"ath\",\"world\",\"abiocudie\"]\n",
    "def function1(String1):\n",
    "    result=re.findall(\"[aeiou]\",String1)\n",
    "    result1=re.findall(\"[^aeiou]\",String1)\n",
    "    print(result,result1)\n",
    "    a=len(result)\n",
    "    b=len(result1)\n",
    "    print(a,b)\n",
    "    return a>b\n",
    "    \n",
    "print(list(map(function1,strings)))"
   ]
  },
  {
   "cell_type": "markdown",
   "metadata": {},
   "source": [
    "7. Write a program which can compute the factorial of a given number?"
   ]
  },
  {
   "cell_type": "code",
   "execution_count": null,
   "metadata": {},
   "outputs": [],
   "source": [
    "def factorial(n):\n",
    "    return 1 if(n==0 or n==1) else n*factorial(n-1)\n",
    "\n",
    "number=int(input(\"enter a number:\"))\n",
    "print(\"factorial :\", factorial(number))\n",
    "           "
   ]
  },
  {
   "cell_type": "markdown",
   "metadata": {},
   "source": [
    "8. write a program to find the frequency of all words from a paragraph, and create a dictionary of all words with word being the key and the count being it's value?\n",
    "<br> frequency should be considered ignoring word contained in another word\n",
    "\n",
    "<br>\"python runs very fast, it's runtime is very lesser, eventhough the program is running on an interpreter which has a higher runtime than an compiler based programming languages.\"\n",
    "\n",
    "<br> ** here program count is - 1 and it shouldn't be counted in the programming which will make it to 2 **\n"
   ]
  },
  {
   "cell_type": "code",
   "execution_count": null,
   "metadata": {},
   "outputs": [],
   "source": [
    "import math\n",
    "\n",
    "def func1(val):\n",
    "    for x in range(val):\n",
    "        y=math.sqrt(x)\n",
    "        z=x**(1/3)\n",
    "        if y.is_integer():\n",
    "            print(\"square root of {} having integer value is {}\" .format(x,int(y)))\n",
    "        if z.is_integer():\n",
    "            print(\"cube root of {} having integer value is {}\" .format(x,int(z)))\n",
    "               \n",
    "\n",
    "value=int(input(\"enter a interger:\"))\n",
    "func1(value)\n",
    "        "
   ]
  },
  {
   "cell_type": "code",
   "execution_count": null,
   "metadata": {},
   "outputs": [],
   "source": []
  }
 ],
 "metadata": {
  "kernelspec": {
   "display_name": "Python 3",
   "language": "python",
   "name": "python3"
  },
  "language_info": {
   "codemirror_mode": {
    "name": "ipython",
    "version": 3
   },
   "file_extension": ".py",
   "mimetype": "text/x-python",
   "name": "python",
   "nbconvert_exporter": "python",
   "pygments_lexer": "ipython3",
   "version": "3.7.4"
  }
 },
 "nbformat": 4,
 "nbformat_minor": 2
}

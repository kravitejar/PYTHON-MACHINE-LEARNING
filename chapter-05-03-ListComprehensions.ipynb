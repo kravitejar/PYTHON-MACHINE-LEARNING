{
 "cells": [
  {
   "cell_type": "markdown",
   "metadata": {
    "collapsed": true
   },
   "source": [
    "# List Comprehensions\n",
    "\n",
    "In addition to sequence operations and list methods, Python includes a more advanced operation called a list comprehension.\n",
    "\n",
    "List comprehensions allow us to build out lists using a different notation. You can think of it as essentially a one line <code>for</code> loop built inside of brackets. For a simple example:\n"
   ]
  },
  {
   "cell_type": "raw",
   "metadata": {},
   "source": [
    "List Comprehension\n",
    "# Iteration \n",
    "# Action - Required\n",
    "# Condition"
   ]
  },
  {
   "cell_type": "markdown",
   "metadata": {},
   "source": [
    "## Example 1"
   ]
  },
  {
   "cell_type": "code",
   "execution_count": null,
   "metadata": {},
   "outputs": [],
   "source": [
    "mystring = 'hello'"
   ]
  },
  {
   "cell_type": "code",
   "execution_count": null,
   "metadata": {},
   "outputs": [],
   "source": [
    "mylist = []\n",
    "mylist_1 = list()\n",
    "\n",
    "for letter in mystring:\n",
    "    mylist.append(letter)\n",
    "print(mylist)"
   ]
  },
  {
   "cell_type": "code",
   "execution_count": null,
   "metadata": {},
   "outputs": [],
   "source": [
    "for charposition in range(0,len(mystring),2):\n",
    "    if(charposition +1 < len(mystring)):\n",
    "        mylist_1.append(mystring[charposition]+mystring[charposition +1])\n",
    "    else:\n",
    "        mylist_1.append(mystring[charposition])\n",
    "print(mylist_1)"
   ]
  },
  {
   "cell_type": "code",
   "execution_count": null,
   "metadata": {},
   "outputs": [],
   "source": [
    "mylist_1"
   ]
  },
  {
   "cell_type": "markdown",
   "metadata": {},
   "source": [
    "### Three Parts to a List Comprehesion/For Loop\n",
    "<ul>\n",
    " <li>Iteration</li>\n",
    "     <li>Condition</li>\n",
    "        <li>Action</li>\n",
    "        </ul>"
   ]
  },
  {
   "cell_type": "code",
   "execution_count": null,
   "metadata": {},
   "outputs": [],
   "source": [
    "mylist = []"
   ]
  },
  {
   "cell_type": "code",
   "execution_count": null,
   "metadata": {},
   "outputs": [],
   "source": [
    "mylist = [letter for letter in mystring]"
   ]
  },
  {
   "cell_type": "code",
   "execution_count": null,
   "metadata": {},
   "outputs": [],
   "source": [
    "mylist"
   ]
  },
  {
   "cell_type": "code",
   "execution_count": null,
   "metadata": {},
   "outputs": [],
   "source": [
    "mylist = [x for x in 'myword']"
   ]
  },
  {
   "cell_type": "code",
   "execution_count": null,
   "metadata": {},
   "outputs": [],
   "source": [
    "mylist"
   ]
  },
  {
   "cell_type": "code",
   "execution_count": null,
   "metadata": {},
   "outputs": [],
   "source": [
    "mylist = [num**2 for num in range(0,11)]\n",
    "print(mylist)"
   ]
  },
  {
   "cell_type": "code",
   "execution_count": null,
   "metadata": {},
   "outputs": [],
   "source": [
    "mylist = [num**2 for num in range(100,11,-10)]\n",
    "print(mylist)"
   ]
  },
  {
   "cell_type": "code",
   "execution_count": null,
   "metadata": {},
   "outputs": [],
   "source": [
    "mylist = [[num,num**2,num**3] for num in range(0,11)]\n",
    "print(mylist)"
   ]
  },
  {
   "cell_type": "code",
   "execution_count": null,
   "metadata": {},
   "outputs": [],
   "source": [
    "list_square = []\n",
    "for num in range(0,11):\n",
    "    list_square.append(num**2)\n",
    "    print(num**2)\n",
    "print(list_square)"
   ]
  },
  {
   "cell_type": "code",
   "execution_count": null,
   "metadata": {},
   "outputs": [],
   "source": [
    "mylist"
   ]
  },
  {
   "cell_type": "code",
   "execution_count": null,
   "metadata": {},
   "outputs": [],
   "source": [
    "# Grab every letter in string\n",
    "lst = [x for x in 'word']"
   ]
  },
  {
   "cell_type": "code",
   "execution_count": null,
   "metadata": {},
   "outputs": [],
   "source": [
    "# Check\n",
    "lst"
   ]
  },
  {
   "cell_type": "markdown",
   "metadata": {},
   "source": [
    "This is the basic idea of a list comprehension. If you're familiar with mathematical notation this format should feel familiar for example: x^2 : x in { 0,1,2...10 } \n",
    "\n",
    "Let's see a few more examples of list comprehensions in Python:\n",
    "## Example 2"
   ]
  },
  {
   "cell_type": "code",
   "execution_count": null,
   "metadata": {},
   "outputs": [],
   "source": [
    "# Square numbers in range and turn into list\n",
    "lst = [x**2 for x in range(0,11)]"
   ]
  },
  {
   "cell_type": "code",
   "execution_count": null,
   "metadata": {},
   "outputs": [],
   "source": [
    "lst"
   ]
  },
  {
   "cell_type": "markdown",
   "metadata": {},
   "source": [
    "## Example 3\n",
    "Let's see how to add in <code>if</code> statements:"
   ]
  },
  {
   "cell_type": "code",
   "execution_count": null,
   "metadata": {},
   "outputs": [],
   "source": [
    "# Check for even numbers in a range\n",
    "lst = [x for x in range(0,11)]\n",
    "lst"
   ]
  },
  {
   "cell_type": "code",
   "execution_count": 2,
   "metadata": {},
   "outputs": [
    {
     "data": {
      "text/plain": [
       "{0: 1, 1: 2, 2: 3, 3: 4, 4: 5, 5: 6, 6: 7, 7: 8, 8: 9, 9: 10, 10: 11}"
      ]
     },
     "execution_count": 2,
     "metadata": {},
     "output_type": "execute_result"
    }
   ],
   "source": [
    "# Check for even numbers in a range\n",
    "lst = {x:x+1 for x in range(0,11)}\n",
    "lst"
   ]
  },
  {
   "cell_type": "code",
   "execution_count": null,
   "metadata": {},
   "outputs": [],
   "source": []
  },
  {
   "cell_type": "code",
   "execution_count": null,
   "metadata": {},
   "outputs": [],
   "source": [
    "# Check for even numbers in a range\n",
    "lst = [x for x in range(0,11,3)]\n",
    "lst"
   ]
  },
  {
   "cell_type": "code",
   "execution_count": null,
   "metadata": {},
   "outputs": [],
   "source": [
    "# Check for even numbers in a range\n",
    "lst = [x for x in range(0,25,5) if x % 2 == 0]"
   ]
  },
  {
   "cell_type": "code",
   "execution_count": null,
   "metadata": {},
   "outputs": [],
   "source": [
    "lst"
   ]
  },
  {
   "cell_type": "code",
   "execution_count": null,
   "metadata": {},
   "outputs": [],
   "source": [
    "a = iter(lst)\n",
    "print(a)"
   ]
  },
  {
   "cell_type": "code",
   "execution_count": null,
   "metadata": {},
   "outputs": [],
   "source": [
    "next(a)"
   ]
  },
  {
   "cell_type": "markdown",
   "metadata": {},
   "source": [
    "## Example 4\n",
    "Can also do more complicated arithmetic:"
   ]
  },
  {
   "cell_type": "code",
   "execution_count": null,
   "metadata": {},
   "outputs": [],
   "source": [
    "# Convert Celsius to Fahrenheit\n",
    "celsius = [0,10,20.1,34.5]\n",
    "\n",
    "fahrenheit = [((9/5)*temp + 32) for temp in celsius ]\n",
    "\n",
    "fahrenheit"
   ]
  },
  {
   "cell_type": "code",
   "execution_count": null,
   "metadata": {},
   "outputs": [],
   "source": [
    "fahrenheit = []\n",
    "\n",
    "for temp in celsius:\n",
    "    fahrenheit.append(( (9/5)*temp + 32))"
   ]
  },
  {
   "cell_type": "code",
   "execution_count": null,
   "metadata": {},
   "outputs": [],
   "source": [
    "fahrenheit"
   ]
  },
  {
   "cell_type": "code",
   "execution_count": null,
   "metadata": {},
   "outputs": [],
   "source": [
    "results = [x if x%2==0 else print('ODD') for x in range(0,11)]\n",
    "print(\"######################################################\")\n",
    "print(results)"
   ]
  },
  {
   "cell_type": "code",
   "execution_count": null,
   "metadata": {},
   "outputs": [],
   "source": [
    "results"
   ]
  },
  {
   "cell_type": "code",
   "execution_count": null,
   "metadata": {},
   "outputs": [],
   "source": [
    "def ctof(temp_c):\n",
    "    return ((9/5)*temp_c + 32)\n",
    "\n",
    "def ktoc(temp_k):\n",
    "    return (temp_k-273.15)\n",
    "\n",
    "def ktof(temp_k):\n",
    "    return ctof(ktoc(temp_k))\n",
    "[(x,ktoc(x),ktof(x)) for x in range(0,500)]"
   ]
  },
  {
   "cell_type": "markdown",
   "metadata": {},
   "source": [
    "## Example 5\n",
    "We can also perform nested list comprehensions, for example:"
   ]
  },
  {
   "cell_type": "code",
   "execution_count": null,
   "metadata": {},
   "outputs": [],
   "source": [
    "mylist = []\n",
    "for y in [100,150,300]:\n",
    "    for x in [2,3,6]:\n",
    "        mylist.append(x*y)\n",
    "        "
   ]
  },
  {
   "cell_type": "code",
   "execution_count": null,
   "metadata": {},
   "outputs": [],
   "source": [
    "mylist"
   ]
  },
  {
   "cell_type": "code",
   "execution_count": 44,
   "metadata": {},
   "outputs": [
    {
     "ename": "TypeError",
     "evalue": "'int' object is not iterable",
     "output_type": "error",
     "traceback": [
      "\u001b[1;31m---------------------------------------------------------------------------\u001b[0m",
      "\u001b[1;31mTypeError\u001b[0m                                 Traceback (most recent call last)",
      "\u001b[1;32m<ipython-input-44-4605d98ccff7>\u001b[0m in \u001b[0;36m<module>\u001b[1;34m\u001b[0m\n\u001b[1;32m----> 1\u001b[1;33m \u001b[0mmylist\u001b[0m \u001b[1;33m=\u001b[0m \u001b[1;33m[\u001b[0m\u001b[0mx\u001b[0m\u001b[1;33m*\u001b[0m\u001b[0my\u001b[0m \u001b[1;32mfor\u001b[0m \u001b[0mx\u001b[0m \u001b[1;32min\u001b[0m \u001b[1;33m[\u001b[0m\u001b[1;36m2\u001b[0m\u001b[1;33m,\u001b[0m\u001b[1;36m3\u001b[0m\u001b[1;33m,\u001b[0m\u001b[1;36m6\u001b[0m\u001b[1;33m]\u001b[0m \u001b[1;32mfor\u001b[0m \u001b[0my\u001b[0m \u001b[1;32min\u001b[0m \u001b[0mx\u001b[0m \u001b[1;33m]\u001b[0m\u001b[1;33m\u001b[0m\u001b[1;33m\u001b[0m\u001b[0m\n\u001b[0m",
      "\u001b[1;32m<ipython-input-44-4605d98ccff7>\u001b[0m in \u001b[0;36m<listcomp>\u001b[1;34m(.0)\u001b[0m\n\u001b[1;32m----> 1\u001b[1;33m \u001b[0mmylist\u001b[0m \u001b[1;33m=\u001b[0m \u001b[1;33m[\u001b[0m\u001b[0mx\u001b[0m\u001b[1;33m*\u001b[0m\u001b[0my\u001b[0m \u001b[1;32mfor\u001b[0m \u001b[0mx\u001b[0m \u001b[1;32min\u001b[0m \u001b[1;33m[\u001b[0m\u001b[1;36m2\u001b[0m\u001b[1;33m,\u001b[0m\u001b[1;36m3\u001b[0m\u001b[1;33m,\u001b[0m\u001b[1;36m6\u001b[0m\u001b[1;33m]\u001b[0m \u001b[1;32mfor\u001b[0m \u001b[0my\u001b[0m \u001b[1;32min\u001b[0m \u001b[0mx\u001b[0m \u001b[1;33m]\u001b[0m\u001b[1;33m\u001b[0m\u001b[1;33m\u001b[0m\u001b[0m\n\u001b[0m",
      "\u001b[1;31mTypeError\u001b[0m: 'int' object is not iterable"
     ]
    }
   ],
   "source": [
    "mylist = [x*y for x in [2,3,6] for y in [100,1,5] ]"
   ]
  },
  {
   "cell_type": "code",
   "execution_count": null,
   "metadata": {},
   "outputs": [],
   "source": [
    "mylist"
   ]
  },
  {
   "cell_type": "code",
   "execution_count": null,
   "metadata": {},
   "outputs": [],
   "source": [
    "[x**2 for x in range(11)]"
   ]
  },
  {
   "cell_type": "code",
   "execution_count": null,
   "metadata": {},
   "outputs": [],
   "source": [
    "lst = [ x**2 for x in [x**2 for x in range(11)]]\n",
    "lst"
   ]
  },
  {
   "cell_type": "code",
   "execution_count": null,
   "metadata": {},
   "outputs": [],
   "source": [
    "for x in range(11): \n",
    "    print(x**4)"
   ]
  },
  {
   "cell_type": "code",
   "execution_count": null,
   "metadata": {},
   "outputs": [],
   "source": [
    "lst = [ x**2 if(x%4==0) else x**3 for x in [x**2 for x in range(11)]]\n",
    "lst"
   ]
  },
  {
   "cell_type": "code",
   "execution_count": null,
   "metadata": {},
   "outputs": [],
   "source": [
    "for x in [10,30,50]:\n",
    "    for y in [20,40,60]:\n",
    "        print(x+y)"
   ]
  },
  {
   "cell_type": "code",
   "execution_count": null,
   "metadata": {},
   "outputs": [],
   "source": [
    "[x+y for x in [10,30,50] for y in [20,40,60]]"
   ]
  },
  {
   "cell_type": "code",
   "execution_count": null,
   "metadata": {},
   "outputs": [],
   "source": [
    "[print(x+y) for x in [10,30,50] for y in [20,40,60]]"
   ]
  },
  {
   "cell_type": "code",
   "execution_count": null,
   "metadata": {},
   "outputs": [],
   "source": [
    "b= \"asfdasfasdf'sadfdsf\"\n",
    "print(len(b))\n",
    "print(\"###################\")\n",
    "[len(a) for a in [\"asdfasfd\",\"asfdsadf\",\"sdfase\",\"asdfadfffer\",b]]"
   ]
  },
  {
   "cell_type": "markdown",
   "metadata": {},
   "source": [
    "# Single Condition"
   ]
  },
  {
   "cell_type": "markdown",
   "metadata": {},
   "source": [
    "[action iteration condition]"
   ]
  },
  {
   "cell_type": "code",
   "execution_count": 41,
   "metadata": {},
   "outputs": [
    {
     "name": "stdout",
     "output_type": "stream",
     "text": [
      "0 fizzbuzz\n",
      "15 fizzbuzz\n",
      "30 fizzbuzz\n",
      "45 fizzbuzz\n",
      "60 fizzbuzz\n",
      "75 fizzbuzz\n",
      "90 fizzbuzz\n"
     ]
    },
    {
     "data": {
      "text/plain": [
       "[None, None, None, None, None, None, None]"
      ]
     },
     "execution_count": 41,
     "metadata": {},
     "output_type": "execute_result"
    }
   ],
   "source": [
    "[print(x, \"fizzbuzz\") for x in range(0,100) if(x%3==0 and x%5 ==0 )]"
   ]
  },
  {
   "cell_type": "code",
   "execution_count": 42,
   "metadata": {},
   "outputs": [
    {
     "name": "stdout",
     "output_type": "stream",
     "text": [
      "<class 'list'>\n",
      "['0 - fizzbuzz', '15 - fizzbuzz', '30 - fizzbuzz', '45 - fizzbuzz', '60 - fizzbuzz', '75 - fizzbuzz', '90 - fizzbuzz']\n"
     ]
    }
   ],
   "source": [
    "#c = ([(str(x) + \" - fizzbuzz\") ] for x in range(0,100) if(x%3==0 and x%5 ==0))\n",
    "d = [(str(x) + \" - fizzbuzz\")  for x in range(0,100) if(x%3==0 and x%5 ==0)]\n",
    "#print(type(c))\n",
    "print(type(d))\n",
    "print(d)"
   ]
  },
  {
   "cell_type": "markdown",
   "metadata": {},
   "source": [
    "##### Nested For with Parent First"
   ]
  },
  {
   "cell_type": "code",
   "execution_count": 43,
   "metadata": {},
   "outputs": [
    {
     "data": {
      "text/plain": [
       "['a', 'b', 'c', 'd', 'e', 'f']"
      ]
     },
     "execution_count": 43,
     "metadata": {},
     "output_type": "execute_result"
    }
   ],
   "source": [
    "[x1  for a1 in [\"abc\",\"def\"] for x1 in a1]"
   ]
  },
  {
   "cell_type": "markdown",
   "metadata": {},
   "source": [
    "## Multiple Conditions"
   ]
  },
  {
   "cell_type": "code",
   "execution_count": 47,
   "metadata": {},
   "outputs": [
    {
     "name": "stdout",
     "output_type": "stream",
     "text": [
      "['0 - fizzbuzz ', '1 - no fizzbuzz ', '2 - no fizzbuzz ', '3 - no fizzbuzz ', '4 - no fizzbuzz ', '5 - no fizzbuzz ', '6 - no fizzbuzz ', '7 - no fizzbuzz ', '8 - no fizzbuzz ', '9 - no fizzbuzz ', '10 - no fizzbuzz ', '11 - no fizzbuzz ', '12 - no fizzbuzz ', '13 - no fizzbuzz ', '14 - no fizzbuzz ', '15 - fizzbuzz ', '16 - no fizzbuzz ', '17 - no fizzbuzz ', '18 - no fizzbuzz ', '19 - no fizzbuzz ', '20 - no fizzbuzz ', '21 - no fizzbuzz ', '22 - no fizzbuzz ', '23 - no fizzbuzz ', '24 - no fizzbuzz ', '25 - no fizzbuzz ', '26 - no fizzbuzz ', '27 - no fizzbuzz ', '28 - no fizzbuzz ', '29 - no fizzbuzz ', '30 - fizzbuzz ']\n",
      "0 - fizzbuzz \n",
      "\n",
      "1 - no fizzbuzz \n",
      "\n",
      "2 - no fizzbuzz \n",
      "\n",
      "3 - no fizzbuzz \n",
      "\n",
      "4 - no fizzbuzz \n",
      "\n",
      "5 - no fizzbuzz \n",
      "\n",
      "6 - no fizzbuzz \n",
      "\n",
      "7 - no fizzbuzz \n",
      "\n",
      "8 - no fizzbuzz \n",
      "\n",
      "9 - no fizzbuzz \n",
      "\n",
      "10 - no fizzbuzz \n",
      "\n",
      "11 - no fizzbuzz \n",
      "\n",
      "12 - no fizzbuzz \n",
      "\n",
      "13 - no fizzbuzz \n",
      "\n",
      "14 - no fizzbuzz \n",
      "\n",
      "15 - fizzbuzz \n",
      "\n",
      "16 - no fizzbuzz \n",
      "\n",
      "17 - no fizzbuzz \n",
      "\n",
      "18 - no fizzbuzz \n",
      "\n",
      "19 - no fizzbuzz \n",
      "\n",
      "20 - no fizzbuzz \n",
      "\n",
      "21 - no fizzbuzz \n",
      "\n",
      "22 - no fizzbuzz \n",
      "\n",
      "23 - no fizzbuzz \n",
      "\n",
      "24 - no fizzbuzz \n",
      "\n",
      "25 - no fizzbuzz \n",
      "\n",
      "26 - no fizzbuzz \n",
      "\n",
      "27 - no fizzbuzz \n",
      "\n",
      "28 - no fizzbuzz \n",
      "\n",
      "29 - no fizzbuzz \n",
      "\n",
      "30 - fizzbuzz \n",
      "\n"
     ]
    }
   ],
   "source": [
    "result = [(str(x) + \" - fizzbuzz \") if(x%3==0 and x%5 ==0) else (str(x) + \" - no fizzbuzz \")  for x in range(0,31)]\n",
    "print(result)\n",
    "for x in result:\n",
    "    print(x + \"\\n\" )\n"
   ]
  },
  {
   "cell_type": "markdown",
   "metadata": {},
   "source": [
    "### Nested IF Condition"
   ]
  },
  {
   "cell_type": "code",
   "execution_count": 50,
   "metadata": {},
   "outputs": [
    {
     "name": "stdout",
     "output_type": "stream",
     "text": [
      "############\n",
      "divisible by 3 and 5 - [15, 45, 75]\n",
      "#########################################################\n",
      "divisible by 3 and 5 and 10 - [0, 30, 60, 90]\n",
      "#########################################################\n",
      "not divisible by 3 and 5 but divisible by 2 and 4- [4, 8, 12, 16, 20, 24, 28, 32, 36, 40, 44, 48, 52, 56, 64, 68, 72, 76, 80, 84, 88, 92, 96]\n",
      "#########################################################\n",
      "not divisible by 3 and 5 combination or  divisible by 2 and 4 combination - [1, 2, 3, 5, 6, 7, 9, 10, 11, 13, 14, 17, 18, 19, 21, 22, 23, 25, 26, 27, 29, 31, 33, 34, 35, 37, 38, 39, 41, 42, 43, 46, 47, 49, 50, 51, 53, 54, 55, 57, 58, 59, 61, 62, 63, 65, 66, 67, 69, 70, 71, 73, 74, 77, 78, 79, 81, 82, 83, 85, 86, 87, 89, 91, 93, 94, 95, 97, 98, 99]\n"
     ]
    }
   ],
   "source": [
    "#Nested If \n",
    "#if(within if)\n",
    "\n",
    "#[print(str(x) + \" divisible by 10 \") if(x%10==0) else print(str(x) + \" only by 3 and 5\")]\n",
    "#[[[print(str(x) + \" divisible by 4,10,3,5 \") if(x%4==0) else print(str(x) + \" divisible by 10,3,5 \")  ] if(x%10==0) else print(str(x) + \" only by 3 and 5\")] if(x%3==0 and x%5 ==0) else  print(str(x) + \" - not divisible by both 3 and 5\")  for x in range(0,100)]\n",
    "print(\"############\")\n",
    "\n",
    "b35 =[]\n",
    "b3510= []\n",
    "b24=[]\n",
    "bnot24=[]\n",
    "[[b3510.append(x) if(x%10==0) else b35.append(x)]if(x%3==0 and x%5 ==0) else  [b24.append(x) if(x%2==0 and x%4 ==0 ) else bnot24.append(x)]  for x in range(0,100)]\n",
    "print(\"divisible by 3 and 5 - {}\".format(b35))\n",
    "print(\"#########################################################\")\n",
    "print(\"divisible by 3 and 5 and 10 - {}\".format(b3510))\n",
    "print(\"#########################################################\")\n",
    "print(\"not divisible by 3 and 5 but divisible by 2 and 4- {}\".format(b24))\n",
    "print(\"#########################################################\")\n",
    "print(\"not divisible by 3 and 5 combination or  divisible by 2 and 4 combination - {}\".format(bnot24))"
   ]
  },
  {
   "cell_type": "code",
   "execution_count": 52,
   "metadata": {},
   "outputs": [
    {
     "name": "stdout",
     "output_type": "stream",
     "text": [
      "0 divisible by 10 \n",
      "1 not by 2, 4, 3 and 5\n",
      "2 not by 2, 4, 3 and 5\n",
      "3 not by 2, 4, 3 and 5\n",
      "4 divisible by 4  and 2 \n",
      "5 not by 2, 4, 3 and 5\n",
      "6 not by 2, 4, 3 and 5\n",
      "7 not by 2, 4, 3 and 5\n",
      "8 divisible by 4  and 2 \n",
      "9 not by 2, 4, 3 and 5\n",
      "10 not by 2, 4, 3 and 5\n",
      "11 not by 2, 4, 3 and 5\n",
      "12 divisible by 4  and 2 \n",
      "13 not by 2, 4, 3 and 5\n",
      "14 not by 2, 4, 3 and 5\n",
      "15 only by 3 and 5\n",
      "16 divisible by 4  and 2 \n",
      "17 not by 2, 4, 3 and 5\n",
      "18 not by 2, 4, 3 and 5\n",
      "19 not by 2, 4, 3 and 5\n",
      "20 divisible by 4  and 2 \n",
      "21 not by 2, 4, 3 and 5\n",
      "22 not by 2, 4, 3 and 5\n",
      "23 not by 2, 4, 3 and 5\n",
      "24 divisible by 4  and 2 \n",
      "25 not by 2, 4, 3 and 5\n",
      "26 not by 2, 4, 3 and 5\n",
      "27 not by 2, 4, 3 and 5\n",
      "28 divisible by 4  and 2 \n",
      "29 not by 2, 4, 3 and 5\n",
      "30 divisible by 10 \n",
      "31 not by 2, 4, 3 and 5\n",
      "32 divisible by 4  and 2 \n",
      "33 not by 2, 4, 3 and 5\n",
      "34 not by 2, 4, 3 and 5\n",
      "35 not by 2, 4, 3 and 5\n",
      "36 divisible by 4  and 2 \n",
      "37 not by 2, 4, 3 and 5\n",
      "38 not by 2, 4, 3 and 5\n",
      "39 not by 2, 4, 3 and 5\n",
      "40 divisible by 4  and 2 \n",
      "41 not by 2, 4, 3 and 5\n",
      "42 not by 2, 4, 3 and 5\n",
      "43 not by 2, 4, 3 and 5\n",
      "44 divisible by 4  and 2 \n",
      "45 only by 3 and 5\n",
      "46 not by 2, 4, 3 and 5\n",
      "47 not by 2, 4, 3 and 5\n",
      "48 divisible by 4  and 2 \n",
      "49 not by 2, 4, 3 and 5\n",
      "50 not by 2, 4, 3 and 5\n",
      "51 not by 2, 4, 3 and 5\n",
      "52 divisible by 4  and 2 \n",
      "53 not by 2, 4, 3 and 5\n",
      "54 not by 2, 4, 3 and 5\n",
      "55 not by 2, 4, 3 and 5\n",
      "56 divisible by 4  and 2 \n",
      "57 not by 2, 4, 3 and 5\n",
      "58 not by 2, 4, 3 and 5\n",
      "59 not by 2, 4, 3 and 5\n",
      "60 divisible by 10 \n",
      "61 not by 2, 4, 3 and 5\n",
      "62 not by 2, 4, 3 and 5\n",
      "63 not by 2, 4, 3 and 5\n",
      "64 divisible by 4  and 2 \n",
      "65 not by 2, 4, 3 and 5\n",
      "66 not by 2, 4, 3 and 5\n",
      "67 not by 2, 4, 3 and 5\n",
      "68 divisible by 4  and 2 \n",
      "69 not by 2, 4, 3 and 5\n",
      "70 not by 2, 4, 3 and 5\n",
      "71 not by 2, 4, 3 and 5\n",
      "72 divisible by 4  and 2 \n",
      "73 not by 2, 4, 3 and 5\n",
      "74 not by 2, 4, 3 and 5\n",
      "75 only by 3 and 5\n",
      "76 divisible by 4  and 2 \n",
      "77 not by 2, 4, 3 and 5\n",
      "78 not by 2, 4, 3 and 5\n",
      "79 not by 2, 4, 3 and 5\n",
      "80 divisible by 4  and 2 \n",
      "81 not by 2, 4, 3 and 5\n",
      "82 not by 2, 4, 3 and 5\n",
      "83 not by 2, 4, 3 and 5\n",
      "84 divisible by 4  and 2 \n",
      "85 not by 2, 4, 3 and 5\n",
      "86 not by 2, 4, 3 and 5\n",
      "87 not by 2, 4, 3 and 5\n",
      "88 divisible by 4  and 2 \n",
      "89 not by 2, 4, 3 and 5\n",
      "90 divisible by 10 \n",
      "91 not by 2, 4, 3 and 5\n",
      "92 divisible by 4  and 2 \n",
      "93 not by 2, 4, 3 and 5\n",
      "94 not by 2, 4, 3 and 5\n",
      "95 not by 2, 4, 3 and 5\n",
      "96 divisible by 4  and 2 \n",
      "97 not by 2, 4, 3 and 5\n",
      "98 not by 2, 4, 3 and 5\n",
      "99 not by 2, 4, 3 and 5\n"
     ]
    },
    {
     "data": {
      "text/plain": [
       "[[[None]],\n",
       " [[None]],\n",
       " [[None]],\n",
       " [[None]],\n",
       " [[None]],\n",
       " [[None]],\n",
       " [[None]],\n",
       " [[None]],\n",
       " [[None]],\n",
       " [[None]],\n",
       " [[None]],\n",
       " [[None]],\n",
       " [[None]],\n",
       " [[None]],\n",
       " [[None]],\n",
       " [[None]],\n",
       " [[None]],\n",
       " [[None]],\n",
       " [[None]],\n",
       " [[None]],\n",
       " [[None]],\n",
       " [[None]],\n",
       " [[None]],\n",
       " [[None]],\n",
       " [[None]],\n",
       " [[None]],\n",
       " [[None]],\n",
       " [[None]],\n",
       " [[None]],\n",
       " [[None]],\n",
       " [[None]],\n",
       " [[None]],\n",
       " [[None]],\n",
       " [[None]],\n",
       " [[None]],\n",
       " [[None]],\n",
       " [[None]],\n",
       " [[None]],\n",
       " [[None]],\n",
       " [[None]],\n",
       " [[None]],\n",
       " [[None]],\n",
       " [[None]],\n",
       " [[None]],\n",
       " [[None]],\n",
       " [[None]],\n",
       " [[None]],\n",
       " [[None]],\n",
       " [[None]],\n",
       " [[None]],\n",
       " [[None]],\n",
       " [[None]],\n",
       " [[None]],\n",
       " [[None]],\n",
       " [[None]],\n",
       " [[None]],\n",
       " [[None]],\n",
       " [[None]],\n",
       " [[None]],\n",
       " [[None]],\n",
       " [[None]],\n",
       " [[None]],\n",
       " [[None]],\n",
       " [[None]],\n",
       " [[None]],\n",
       " [[None]],\n",
       " [[None]],\n",
       " [[None]],\n",
       " [[None]],\n",
       " [[None]],\n",
       " [[None]],\n",
       " [[None]],\n",
       " [[None]],\n",
       " [[None]],\n",
       " [[None]],\n",
       " [[None]],\n",
       " [[None]],\n",
       " [[None]],\n",
       " [[None]],\n",
       " [[None]],\n",
       " [[None]],\n",
       " [[None]],\n",
       " [[None]],\n",
       " [[None]],\n",
       " [[None]],\n",
       " [[None]],\n",
       " [[None]],\n",
       " [[None]],\n",
       " [[None]],\n",
       " [[None]],\n",
       " [[None]],\n",
       " [[None]],\n",
       " [[None]],\n",
       " [[None]],\n",
       " [[None]],\n",
       " [[None]],\n",
       " [[None]],\n",
       " [[None]],\n",
       " [[None]],\n",
       " [[None]]]"
      ]
     },
     "execution_count": 52,
     "metadata": {},
     "output_type": "execute_result"
    }
   ],
   "source": [
    "b35= []\n",
    "b3510= []\n",
    "b24=[]\n",
    "[[print(str(x) + \" divisible by 10 \") if(x%10==0) else print(str(x) + \" only by 3 and 5\")] if(x%3==0 and x%5 ==0) else  [print(str(x) + \" divisible by 4  and 2 \") if(x%4==0 and x%2==0) else print(str(x) + \" not by 2, 4, 3 and 5\")]  for x in range(0,100)]"
   ]
  },
  {
   "cell_type": "code",
   "execution_count": null,
   "metadata": {},
   "outputs": [],
   "source": [
    "[[print(str(x) + \" divisible by 10 \") if(x%10==0) else print(str(x) + \" only by 3 and 5\")] if(x%3==0 and x%5 ==0) else  [print(str(x) + \" divisible by 4  and 2 \") if(x%4==0 and x%2==0) else print(str(x) + \" not by 2, 4, 3 and 5\")]] "
   ]
  },
  {
   "cell_type": "code",
   "execution_count": 57,
   "metadata": {},
   "outputs": [
    {
     "name": "stdout",
     "output_type": "stream",
     "text": [
      "[[1, 2, 3], [21, 22, 23], [31, 100, 33]]\n"
     ]
    },
    {
     "ename": "TypeError",
     "evalue": "'tuple' object does not support item assignment",
     "output_type": "error",
     "traceback": [
      "\u001b[1;31m---------------------------------------------------------------------------\u001b[0m",
      "\u001b[1;31mTypeError\u001b[0m                                 Traceback (most recent call last)",
      "\u001b[1;32m<ipython-input-57-2cb860ab5a6c>\u001b[0m in \u001b[0;36m<module>\u001b[1;34m\u001b[0m\n\u001b[0;32m      9\u001b[0m \u001b[0mlist_2\u001b[0m\u001b[1;33m[\u001b[0m\u001b[1;36m1\u001b[0m\u001b[1;33m]\u001b[0m\u001b[1;33m[\u001b[0m\u001b[1;36m1\u001b[0m\u001b[1;33m]\u001b[0m\u001b[1;33m\u001b[0m\u001b[1;33m\u001b[0m\u001b[0m\n\u001b[0;32m     10\u001b[0m \u001b[0mlist_2\u001b[0m\u001b[1;33m[\u001b[0m\u001b[1;36m2\u001b[0m\u001b[1;33m]\u001b[0m\u001b[1;33m[\u001b[0m\u001b[1;36m1\u001b[0m\u001b[1;33m]\u001b[0m\u001b[1;33m\u001b[0m\u001b[1;33m\u001b[0m\u001b[0m\n\u001b[1;32m---> 11\u001b[1;33m \u001b[0mlist_2\u001b[0m\u001b[1;33m[\u001b[0m\u001b[1;36m2\u001b[0m\u001b[1;33m]\u001b[0m\u001b[1;33m[\u001b[0m\u001b[1;36m1\u001b[0m\u001b[1;33m]\u001b[0m \u001b[1;33m=\u001b[0m\u001b[1;36m100\u001b[0m\u001b[1;33m\u001b[0m\u001b[1;33m\u001b[0m\u001b[0m\n\u001b[0m\u001b[0;32m     12\u001b[0m \u001b[0mprint\u001b[0m\u001b[1;33m(\u001b[0m\u001b[0mlist_2\u001b[0m\u001b[1;33m)\u001b[0m\u001b[1;33m\u001b[0m\u001b[1;33m\u001b[0m\u001b[0m\n",
      "\u001b[1;31mTypeError\u001b[0m: 'tuple' object does not support item assignment"
     ]
    }
   ],
   "source": [
    "list_1 = [[1,2,3],[21,22,23],[31,32,33]]\n",
    "list_1[0][1] \n",
    "list_1[1][1]\n",
    "list_1[2][1] =100\n",
    "print(list_1)\n",
    "\n",
    "list_2 = [(1,2,3),(21,22,23),(31,32,33)]\n",
    "list_2[0][1] \n",
    "list_2[1][1]\n",
    "list_2[2][1]\n",
    "list_2[2][1] =100\n",
    "print(list_2)\n"
   ]
  },
  {
   "cell_type": "markdown",
   "metadata": {},
   "source": [
    "### Dictionary Comprehension"
   ]
  },
  {
   "cell_type": "code",
   "execution_count": null,
   "metadata": {},
   "outputs": [],
   "source": []
  }
 ],
 "metadata": {
  "kernelspec": {
   "display_name": "Python 3",
   "language": "python",
   "name": "python3"
  },
  "language_info": {
   "codemirror_mode": {
    "name": "ipython",
    "version": 3
   },
   "file_extension": ".py",
   "mimetype": "text/x-python",
   "name": "python",
   "nbconvert_exporter": "python",
   "pygments_lexer": "ipython3",
   "version": "3.7.4"
  }
 },
 "nbformat": 4,
 "nbformat_minor": 1
}
